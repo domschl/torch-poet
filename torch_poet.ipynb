{
  "nbformat": 4,
  "nbformat_minor": 0,
  "metadata": {
    "accelerator": "GPU",
    "colab": {
      "name": "Copy of torch_poet.ipynb",
      "provenance": [],
      "collapsed_sections": [],
      "include_colab_link": true
    },
    "kernelspec": {
      "display_name": "Python 3",
      "language": "python",
      "name": "python3"
    },
    "language_info": {
      "codemirror_mode": {
        "name": "ipython",
        "version": 3
      },
      "file_extension": ".py",
      "mimetype": "text/x-python",
      "name": "python",
      "nbconvert_exporter": "python",
      "pygments_lexer": "ipython3",
      "version": "3.8.1"
    }
  },
  "cells": [
    {
      "cell_type": "markdown",
      "metadata": {
        "id": "view-in-github",
        "colab_type": "text"
      },
      "source": [
        "<a href=\"https://colab.research.google.com/github/domschl/torch-poet/blob/master/torch_poet.ipynb\" target=\"_parent\"><img src=\"https://colab.research.google.com/assets/colab-badge.svg\" alt=\"Open In Colab\"/></a>"
      ]
    },
    {
      "cell_type": "code",
      "metadata": {
        "colab_type": "code",
        "id": "28i44jSzUlon",
        "colab": {}
      },
      "source": [
        "import numpy as np\n",
        "import os\n",
        "import shutil\n",
        "from enum import Enum\n",
        "import re\n",
        "import time\n",
        "import logging\n",
        "import sys\n",
        "import json\n",
        "import random\n",
        "import torch\n",
        "import torch.nn as nn\n",
        "from torch import Tensor\n",
        "\n",
        "try:\n",
        "    from urllib.request import urlopen  # Py3\n",
        "except:\n",
        "    print(\"This notebook requires Python 3.\")\n",
        "try:\n",
        "    import pathlib\n",
        "except:\n",
        "    print(\"At least python 3.5 is needed.\")\n",
        "    \n",
        "try: # Colab instance?\n",
        "    from google.colab import drive\n",
        "except: # Not? ignore.\n",
        "    pass\n",
        "\n",
        "from IPython.core.display import display, HTML"
      ],
      "execution_count": 0,
      "outputs": []
    },
    {
      "cell_type": "markdown",
      "metadata": {
        "colab_type": "text",
        "id": "eE-jm072kOKv"
      },
      "source": [
        "# 0. System configuration\n",
        "\n",
        "This notebook can either run on a local jupyter server, or on google cloud.\n",
        "If a GPU is available, it will be used for training (if `force_cpu` is not set to `True`).\n",
        "\n",
        "By default snapshots of the trained net are stored locally for jupyter instances, and on user's google drive for Google Colab instances. The snapshots allow the restart of training or inference at any time, e.g. after the Colab session was terminated.\n",
        "\n",
        "Similarily, the text corpora that are used for training, can be cached on drive or locally."
      ]
    },
    {
      "cell_type": "code",
      "metadata": {
        "colab_type": "code",
        "id": "HVyGr-BCiJlR",
        "colab": {}
      },
      "source": [
        "# force_cpu=True: use CPU for training, even if a GPU is available.\n",
        "#    Note: inference uses CPU always, because that is faster.\n",
        "force_cpu=False\n",
        "\n",
        "# Define where snapshots of training data are stored:\n",
        "colab_google_drive_snapshots=True\n",
        "\n",
        "# Define if training data (the texts downloaded from internet) are cached:\n",
        "colab_google_drive_data_cache=True  # In colab mode cache to google drive\n",
        "local_jupyter_data_cache=True       # In local jupyter mode cache to local path"
      ],
      "execution_count": 0,
      "outputs": []
    },
    {
      "cell_type": "code",
      "metadata": {
        "colab_type": "code",
        "id": "ply0tFmz4O1E",
        "colab": {
          "base_uri": "https://localhost:8080/",
          "height": 59
        },
        "outputId": "2af6d822-cc78-4f90-c5d9-950e3cfba33f"
      },
      "source": [
        "is_colab_notebook = 'google.colab' in sys.modules\n",
        "torch_version = torch.__version__\n",
        "\n",
        "if torch.cuda.is_available() and force_cpu is not True:\n",
        "    device='cuda'\n",
        "    use_cuda = True\n",
        "    print(f\"PyTorch {torch_version}, running on GPU\")\n",
        "    if is_colab_notebook:\n",
        "        card = !nvidia-smi\n",
        "        if len(card)>=8:\n",
        "            try:\n",
        "                gpu_type=card[7][6:25]\n",
        "                gpu_memory=card[8][33:54]\n",
        "                print(f\"Colab GPU: {gpu_type}, GPU Memory: {gpu_memory}\")\n",
        "            except Exception as e:\n",
        "                pass\n",
        "else:\n",
        "    device='cpu'\n",
        "    use_cuda = False\n",
        "    print(f\"{torch_version}, running on CPU\")\n",
        "    if colab_notebook:\n",
        "        print(\"Note: on Google Colab, make sure to select:\")\n",
        "        print(\"      Runtime / Change Runtime Type / Hardware accelerator: GPU\")"
      ],
      "execution_count": 3,
      "outputs": [
        {
          "output_type": "stream",
          "text": [
            "PyTorch 1.4.0, running on GPU\n",
            "Colab GPU:  Tesla P100-PCIE..., GPU Memory:      10MiB / 16280MiB\n"
          ],
          "name": "stdout"
        }
      ]
    },
    {
      "cell_type": "code",
      "metadata": {
        "colab_type": "code",
        "id": "kTRmAT1f4O1I",
        "colab": {
          "base_uri": "https://localhost:8080/",
          "height": 142
        },
        "outputId": "adf118a9-2138-4023-9d53-8f6d168f7add"
      },
      "source": [
        "if is_colab_notebook:\n",
        "    if colab_google_drive_snapshots:\n",
        "        mountpoint='/content/drive'\n",
        "        root_path='/content/drive/My Drive'\n",
        "        if not os.path.exists(root_path):\n",
        "            drive.mount(mountpoint)\n",
        "        if not os.path.exists(root_path):\n",
        "            print(\"Something went wrong with Google Drive access. Cannot save snapshots to GD.\")\n",
        "            colab_google_drive_snapshots=False\n",
        "    else:\n",
        "        print(\"Since google drive snapshots are not active, training data will be lost as soon as the Colab session terminates!\")\n",
        "        print(\"Set `colab_google_drive_snapshots` to `True` to make training data persistent.\")\n",
        "else:\n",
        "    root_path='.'"
      ],
      "execution_count": 5,
      "outputs": [
        {
          "output_type": "stream",
          "text": [
            "Go to this URL in a browser: https://accounts.google.com/o/oauth2/auth?client_id=947318989803-6bn6qk8qdgf4n4g3pfee6491hc0brc4i.apps.googleusercontent.com&redirect_uri=urn%3aietf%3awg%3aoauth%3a2.0%3aoob&response_type=code&scope=email%20https%3a%2f%2fwww.googleapis.com%2fauth%2fdocs.test%20https%3a%2f%2fwww.googleapis.com%2fauth%2fdrive%20https%3a%2f%2fwww.googleapis.com%2fauth%2fdrive.photos.readonly%20https%3a%2f%2fwww.googleapis.com%2fauth%2fpeopleapi.readonly\n",
            "\n",
            "Enter your authorization code:\n",
            "··········\n",
            "Mounted at /content/drive\n"
          ],
          "name": "stdout"
        }
      ]
    },
    {
      "cell_type": "markdown",
      "metadata": {
        "colab_type": "text",
        "id": "JoutSg5IUlot"
      },
      "source": [
        "# 1. Text data collection\n",
        "\n",
        "**Important note:** the following `project_name` determines the root directory for training data and model snapshots, so it should be changed whenever datasets of model configurations are changed."
      ]
    },
    {
      "cell_type": "code",
      "metadata": {
        "colab_type": "code",
        "id": "xuuvAPeIjtp4",
        "colab": {}
      },
      "source": [
        "project_name = \"philosophers_lang_eng_ger\"\n",
        "project_description = \"A model trained on several books of philosophers in German and English language.\""
      ],
      "execution_count": 0,
      "outputs": []
    },
    {
      "cell_type": "code",
      "metadata": {
        "colab_type": "code",
        "id": "NPD_j8qRjtp7",
        "colab": {}
      },
      "source": [
        "if is_colab_notebook:\n",
        "    if colab_google_drive_data_cache is True:\n",
        "        data_cache_path=os.path.join(root_path,f\"Colab Notebooks/{project_name}/Data\")\n",
        "    else:\n",
        "        data_cache_path=None\n",
        "else:\n",
        "    if local_jupyter_data_cache is True:\n",
        "        data_cache_path=os.path.join(root_path,f\"{project_name}/Data\")\n",
        "    else:\n",
        "        data_cache_path=None\n",
        "\n",
        "if data_cache_path is not None:\n",
        "    pathlib.Path(data_cache_path).mkdir(parents=True, exist_ok=True)\n",
        "    if not os.path.exists(data_cache_path):\n",
        "        print(\"ERROR, the cache directory does not exist. This will fail.\")\n",
        "            \n",
        "def get_cache_name(cache_path, author, title):\n",
        "    if cache_path is None:\n",
        "        return None\n",
        "    cname=f\"{author} - {title}.txt\"\n",
        "    cname=cname.replace('?','_')  # Gutenberg index is pre-Unicode-mess and some titles contain '?' for bad conversions.\n",
        "    cache_filepath=os.path.join(cache_path, cname)\n",
        "    return cache_filepath"
      ],
      "execution_count": 0,
      "outputs": []
    },
    {
      "cell_type": "markdown",
      "metadata": {
        "colab_type": "text",
        "id": "KPkfXQbGjtp_"
      },
      "source": [
        "## 1.1 Project Gutenberg data source\n",
        "\n",
        "Search, filter, clean and download books from Project Gutenberg"
      ]
    },
    {
      "cell_type": "code",
      "metadata": {
        "colab_type": "code",
        "id": "gz_LqFccjtqA",
        "colab": {}
      },
      "source": [
        "logging.basicConfig(level=logging.INFO)"
      ],
      "execution_count": 0,
      "outputs": []
    },
    {
      "cell_type": "code",
      "metadata": {
        "colab_type": "code",
        "id": "HELQbmZwjtqF",
        "colab": {}
      },
      "source": [
        "class GutenbergLib:\n",
        "    \"\"\" A fuzzy, lightweight library to access, search and filter Project Gutenberg resources \"\"\"\n",
        "    def __init__(self, root_url=\"http://www.mirrorservice.org/sites/ftp.ibiblio.org/pub/docs/books/gutenberg\", cache_dir=\"gutenberg\"):\n",
        "        \"\"\" GutenbergLib by default uses a mirror's root URL\n",
        "        \n",
        "        root_url -- url of Project Gutenberg or any mirror URL.\n",
        "        cache_dir -- path to a directory that will be used to cache the Gutenberg index and already downloaded texts\n",
        "        \"\"\"\n",
        "        self.log = logging.getLogger('GutenbergLib')\n",
        "        self.root_url = root_url\n",
        "        self.index=None\n",
        "        self.NEAR=2048\n",
        "        try:\n",
        "            if not os.path.exists(cache_dir):\n",
        "                os.makedirs(cache_dir)\n",
        "            self.cache_dir=cache_dir\n",
        "        except Exception as e:\n",
        "            self.cache_dir=None\n",
        "            self.log.error(f\"Failed to create cache directory {cache_dir}, {e}\")\n",
        "\n",
        "    def _parse_record(self,record,verbose=True):\n",
        "        \"\"\" internal function to recreate some consistent record information from near-freestyle text \"\"\"\n",
        "        rl=record.split('\\n')\n",
        "        white=str(chr(160))+str(chr(9))+\" \" # non-breaking space, TAB, and space\n",
        "        ebook_no=\"\"\n",
        "        while len(rl[0])>0 and rl[0][-1] in white:\n",
        "            rl[0]=rl[0][:-1]\n",
        "        while len(rl[0])>0 and not rl[0][-1] in white:\n",
        "            ebook_no=rl[0][-1]+ebook_no\n",
        "            rl[0]=rl[0][:-1]\n",
        "        while len(rl[0])>0 and rl[0][-1] in white:\n",
        "            rl[0]=rl[0][:-1]\n",
        "        \n",
        "        # Sanity check\n",
        "        try:\n",
        "            fa=re.findall(ebook_no,\"\\A[0-9]+[A-C]\\Z\")\n",
        "        except Exception as e:\n",
        "            fa=None\n",
        "            if verbose is True:\n",
        "                self.log.debug(f\"Failed to apply regex on >{ebook_no}<\")\n",
        "            \n",
        "        if len(rl[0])<5 or fa==None or len(ebook_no)>7:\n",
        "            if verbose is True:\n",
        "                print(\"-------------------------------------\")\n",
        "                print(record)\n",
        "                print(\"- - - - - - - - - - - - - - - - - - -\")\n",
        "                print(f\"Dodgy record: {rl[0]}\")\n",
        "                print(f\"    ebook-id:  >{ebook_no}<\")\n",
        "            return None\n",
        "        \n",
        "        for i in range(len(rl)):\n",
        "            rl[i]=rl[i].strip()\n",
        "            \n",
        "        p=0\n",
        "        while p<len(rl)-1:\n",
        "            if len(rl[p+1])==0:\n",
        "                print(f\"Invalid rec: {record}\")\n",
        "                p+=1\n",
        "            else:\n",
        "                if rl[p+1][0]!=\"[\":\n",
        "                    rl[p]+=\" \"+rl[p+1]\n",
        "                    del rl[p+1]\n",
        "                    if rl[p][-1]==']':\n",
        "                        p+=1\n",
        "                else:\n",
        "                    p+=1\n",
        "        \n",
        "        rec={}\n",
        "        l0=rl[0].split(\", by \")\n",
        "        rec['title']=l0[0]\n",
        "        rec['ebook_id']=ebook_no\n",
        "        # if len(l0)>2:\n",
        "        #    print(f\"Chaos title: {rl[0]}\")\n",
        "        if len(l0)>1:\n",
        "            rec['author']=l0[-1]\n",
        "        for r in rl[1:]:\n",
        "            if r[0]!='[' or r[-1]!=']':\n",
        "                if r[0]=='[':\n",
        "                    ind=r.rfind(']')\n",
        "                    if ind != -1:\n",
        "                        # print(f\"Garbage trail {r}\")\n",
        "                        r=r[:ind+1]\n",
        "                        # print(f\"Fixed: {r}\")\n",
        "                    else:\n",
        "                        # print(f\"Missing closing ] {r}\")\n",
        "                        r+=']'\n",
        "                        # print(f\"Fixed: {r}\")\n",
        "            if r[0]=='[' and r[-1]==']':\n",
        "                r=r[1:-1]\n",
        "                i1=r.find(':')\n",
        "                if i1==-1:\n",
        "                    r=r.replace(\"Author a.k.a.\",\"Author a.k.a.:\")\n",
        "                    i1=r.find(':')\n",
        "                if i1!=-1:\n",
        "                    i2=r[i1:].find(' ')+i1\n",
        "                else:\n",
        "                    i2=-1\n",
        "                if i1==-1 and i2==-1:\n",
        "                    pass\n",
        "                    # print(f\"Invalid attribut in {rl}::{r}\")\n",
        "                else:\n",
        "                    if i2-i1==1:\n",
        "                        key=r[:i1]\n",
        "                        val=r[i2+1:]\n",
        "                        if '[' in key or ']' in key or '[' in val or ']' in val or len(key)>15:\n",
        "                            pass\n",
        "                            # print(\"messy key/val\")\n",
        "                        else:\n",
        "                            rec[key.strip().lower()]=val.strip()\n",
        "                    else:\n",
        "                        pass\n",
        "                        # print(f\"Bad attribute name terminator, missing ': ' {r}\")\n",
        "            else:\n",
        "                pass\n",
        "                # print(f\"Invalid attribut in {rl}::{r}\")\n",
        "        if len(rec)>1:\n",
        "            if \"language\" not in rec.keys():\n",
        "                rec[\"language\"]=\"English\"\n",
        "        return rec\n",
        "        \n",
        "    def _parse_index(self, lines):\n",
        "        \"\"\" internal function to parse the fuzzy text-based Gutenberg table of content \"\"\"\n",
        "        class State(Enum):\n",
        "            NONE=1,\n",
        "            SYNC_START=2,\n",
        "            SYNC_REC=3,\n",
        "            END=5\n",
        "    \n",
        "        white=str(chr(160))+str(chr(9))+\" \" # non-breaking space, TAB, and space\n",
        "        state=State.NONE\n",
        "        start_token=\"~ ~ ~ ~\"\n",
        "        stop_token=[\"=====\"]\n",
        "        end_token=\"<==End\"\n",
        "        ignore_headers=[\"TITLE and AUTHOR\"]\n",
        "        ignore_content=[\"Not in the Posted Archives\",\"human-read audio ebooks\", \"Audio:\"]\n",
        "        empty_lines=0\n",
        "        records=[]\n",
        "        for line in lines:\n",
        "            if line[:len(end_token)]==end_token:\n",
        "                state=State.END\n",
        "                break\n",
        "\n",
        "            if state==State.NONE:\n",
        "                if line[:len(start_token)]==start_token:\n",
        "                    state=State.SYNC_START\n",
        "                    empty_lines=0\n",
        "                    continue\n",
        "            if state==State.SYNC_START:\n",
        "                if len(line.strip())==0:\n",
        "                    empty_lines+=1\n",
        "                    if empty_lines>1:\n",
        "                        state=State.NONE\n",
        "                        continue\n",
        "                else:\n",
        "                    stopped=False\n",
        "                    for stop in stop_token:\n",
        "                        if line[:len(stop)]==stop:\n",
        "                            stopped=True\n",
        "                            break\n",
        "                    if stopped is True:\n",
        "                        state=State.NONE\n",
        "                        empty_lines=0\n",
        "                        continue\n",
        "                    ignore=False\n",
        "                    for header in ignore_headers:\n",
        "                        if line[:len(header)]==header:\n",
        "                            empty_lines=0\n",
        "                            ignore=True\n",
        "                    for token in ignore_content:\n",
        "                        if token in line:\n",
        "                            empty_lines=0\n",
        "                            ignore=True\n",
        "                    if ignore is True:\n",
        "                        continue\n",
        "                    rec=line\n",
        "                    state=State.SYNC_REC\n",
        "                    continue\n",
        "            if state==State.SYNC_REC:\n",
        "                if len(line.strip())==0 or line[0] not in white:\n",
        "                    if len(records)<10:\n",
        "                        parsed_rec=self._parse_record(rec, verbose=True)\n",
        "                    else:\n",
        "                        parsed_rec=self._parse_record(rec, verbose=False)\n",
        "                        \n",
        "                    if parsed_rec is not None:\n",
        "                        records.append(parsed_rec)\n",
        "                    empty_lines=1\n",
        "                    if len(line.strip())==0:\n",
        "                        state=State.SYNC_START\n",
        "                        continue\n",
        "                    else:\n",
        "                        rec=line\n",
        "                        continue\n",
        "                rec=rec+\"\\n\"+line\n",
        "        return records\n",
        "                    \n",
        "    def load_index(self, cache=True, cache_expire_days=30):\n",
        "        \"\"\" This function loads the Gutenberg record index, either from cache, or from a website\n",
        "        \n",
        "        cache -- default True, use the cache directory to cache both index and text files. Index\n",
        "        expires after cache_expire_days, text files never expire. Should *NOT* be set to False\n",
        "        in order to prevent unnecessary re-downloading.\n",
        "        cache_expire_days -- Number of days after which the index is re-downloaded.\"\"\"\n",
        "        raw_index=None\n",
        "        if self.cache_dir is None:\n",
        "            self.log.error(\"Cannot cache library index, no valid cache directory.\")\n",
        "            return False\n",
        "        ts_file=os.path.join(self.cache_dir,\"timestamp\")\n",
        "        cache_file=os.path.join(self.cache_dir,\"gutenberg_index\")\n",
        "        expired=True\n",
        "        read_from_cache=False\n",
        "        if os.path.isfile(ts_file) and os.path.isfile(cache_file):\n",
        "            try:\n",
        "                with open(ts_file,'r') as f:\n",
        "                    ts=float(f.read())\n",
        "                if time.time()-ts<cache_expire_days*24*3600:\n",
        "                    expired=False\n",
        "                    read_from_cache = True\n",
        "                    self.log.debug(\"Cache timestamp read.\")\n",
        "                else:\n",
        "                    self.log.debug(\"Cache for index is expired, reloading from web.\")\n",
        "            except:\n",
        "                self.log.debug(\"Failed to read cache timestamp, reloading from web.\")\n",
        "        if expired is False and os.path.isfile(cache_file):\n",
        "            try:\n",
        "                with open(cache_file,'r') as f:\n",
        "                    raw_index=f.read()\n",
        "                    self.log.info(f\"Gutenberg index read from {cache_file}\")\n",
        "            except:\n",
        "                expired=True\n",
        "                self.log.debug(\"Failed to read cached index, reloading from web.\")\n",
        "        if expired is True:\n",
        "            index_url=self.root_url+\"/GUTINDEX.ALL\"\n",
        "            try:\n",
        "                raw_index = urlopen(index_url).read().decode('utf-8')\n",
        "                if raw_index[0]=='\\ufeff':  # Ignore BOM\n",
        "                    raw_index=raw_index[1:]\n",
        "                raw_index=raw_index.replace('\\r','')\n",
        "                self.log.info(f\"Gutenberg index read from {index_url}\")\n",
        "            except Exception as e:\n",
        "                self.log.error(f\"Failed to download Gutenberg index from {index_rul}, {e}\")\n",
        "                return False\n",
        "        if cache is True and read_from_cache is False:\n",
        "            try:\n",
        "                with open(ts_file,'w') as f:\n",
        "                    f.write(str(time.time()))\n",
        "                    self.log.debug(\"Wrote read cache timestamp.\")\n",
        "            except Exception as e:\n",
        "                print(f\"Failed to write cache timestamp to {ts_file}, {e}\")\n",
        "            try:\n",
        "                with open(cache_file,'w') as f:\n",
        "                    f.write(raw_index)\n",
        "                    self.log.debug(\"Wrote read cached index.\")\n",
        "            except Exception as e:\n",
        "                print(f\"Failed to write cached index to {cache_file}, {e}\")\n",
        "        lines=raw_index.split('\\n')\n",
        "        self.records=self._parse_index(lines)\n",
        "    \n",
        "    def load_book(self, ebook_id):\n",
        "        \"\"\" get text of an ebook from Gutenberg by ebook_id \n",
        "        \n",
        "        ebook_id -- Gutenberg id\n",
        "        \"\"\"\n",
        "        if ebook_id is None or len(ebook_id)==0:\n",
        "            return None\n",
        "        if ebook_id[-1]=='C':\n",
        "            ebook_id=ebook_id[:-1]\n",
        "        path_stub=\"\"\n",
        "        \n",
        "        for i in range(len(ebook_id)-1):\n",
        "            path_stub+=\"/\"+ebook_id[i]\n",
        "        path_stub+=\"/\"+ebook_id+\"/\"\n",
        "        filenames=[(ebook_id+\"-0.txt\",'utf-8'), (ebook_id+\".txt\",'utf-8'), (ebook_id+\"-8.txt\",\"latin1\"), (ebook_id+\".txt\",\"latin1\")]\n",
        "        cache_name=ebook_id+\".txt\"\n",
        "        if self.cache_dir is not None:\n",
        "            cache_file=os.path.join(self.cache_dir,cache_name)\n",
        "            if os.path.isfile(cache_file):\n",
        "                try:\n",
        "                    with open(cache_file,'r') as f:\n",
        "                        data=f.read()\n",
        "                        self.log.info(f\"Book read from cache at {cache_file}\")\n",
        "                        return data\n",
        "                except Exception as e:\n",
        "                    self.log.error(f\"Failed to read cached file {cache_file}\")\n",
        "        data=None\n",
        "        for filename, encoding in filenames:\n",
        "            file_url=self.root_url+path_stub+filename\n",
        "            try:\n",
        "                data = urlopen(file_url).read().decode(encoding)\n",
        "                self.log.info(f\"Book downloaded from {file_url}\")\n",
        "                break\n",
        "            except Exception as e:\n",
        "                self.log.debug(f\"URL-Download failed: {file_url}, {e}\")\n",
        "                pass\n",
        "        if data is None:\n",
        "            self.log.warning(f\"Failed to download {filenames}, last URL {file_url}, skipping book.\")\n",
        "            return None\n",
        "        if self.cache_dir is not None:\n",
        "            try:\n",
        "                with open(cache_file,'w') as f:\n",
        "                    f.write(data)\n",
        "            except:\n",
        "                self.log.error(f\"Failed to cache file {cache_file}\")\n",
        "        return data\n",
        "    \n",
        "    def filter_text(self, book_text):\n",
        "        \"\"\" Heuristically remove header and trailer texts not part of the actual book \n",
        "        \"\"\"\n",
        "        start_tokens=[\"*** START OF THIS PROJECT\", \"E-text prepared by\", \"This book was generously provided by the \"]\n",
        "        near_start_tokens=[\"produced by \", \"Produced by \", \"Transcriber's Note\", \"Transcriber's note:\", \"Anmerkungen zur Tanskription\"]\n",
        "        end_tokens=[\"End of the Project Gutenberg\", \"*** END OF THIS PROJECT\", \"***END OF THE PROJECT GUTENBER\",\n",
        "                   \"Ende dieses Projekt Gutenberg\", \"End of Project Gutenberg\", \"Transcriber's Note\"]\n",
        "        blen=len(book_text)\n",
        "        \n",
        "        pstart=0\n",
        "        for token in start_tokens:\n",
        "            pos=book_text.find(token)\n",
        "            if pos > pstart:\n",
        "                pstart = pos\n",
        "                self.log.debug(f\"Start-token [{token}] found at position {pos}\")\n",
        "        if pstart>0:\n",
        "            pos=book_text[pstart:].find(\"\\n\\n\")\n",
        "            if pos>=0 and pos <= self.NEAR:\n",
        "                pos += pstart\n",
        "                while book_text[pos]=='\\n':\n",
        "                    pos += 1  # eof?!\n",
        "                pstart=pos\n",
        "        if pstart>blen/2:\n",
        "            self.log.warning(\"Preamble is taking more than half of the book!\")\n",
        "        new_book=book_text[pstart:]\n",
        "        \n",
        "        xpos=-1\n",
        "        for token in near_start_tokens:\n",
        "            pos=new_book.find(token)\n",
        "            if pos>=0 and pos<=self.NEAR:\n",
        "                self.log.debug(f\"Near-Start-token [{token}] found at position {pos}\")\n",
        "                if pos>xpos:\n",
        "                    xpos=pos\n",
        "        if xpos > -1:\n",
        "            pos2=new_book[xpos:].find(\"\\n\\n\")\n",
        "            self.log.debug(f\"Trying extra skipping for {pos2}...\")\n",
        "            if pos2<=self.NEAR and pos2>0:\n",
        "                self.log.debug(\"Trying extra skipping (2)...\")\n",
        "                while new_book[xpos+pos2]=='\\n':\n",
        "                    pos2 += 1\n",
        "                new_book=new_book[xpos+pos2:]\n",
        "                self.log.debug(f\"Additionally shortened start by {xpos+pos2} chars\")\n",
        "        \n",
        "        pend=len(new_book)\n",
        "        for token in end_tokens:\n",
        "            pos=new_book.find(token)\n",
        "            if pos!=-1 and pos < pend:\n",
        "                self.log.debug(f\"End-token [{token}] found at pos {pos}\")\n",
        "                pend = pos\n",
        "        if pend<len(new_book):\n",
        "            pos=new_book[:pend].rfind(\"\\n\\n\")\n",
        "            if pos>0:\n",
        "                while new_book[pos]=='\\n':\n",
        "                    pos -= 1  # eof?!\n",
        "                pend=pos+1\n",
        "        else:\n",
        "            self.log.debug(\"No end token found!\")\n",
        "        if pend<len(new_book)/2:\n",
        "            self.log.warning(\"End-text is taking more than half of the book!\")\n",
        "        new_book=new_book[:pend]\n",
        "        return new_book\n",
        "        \n",
        "    def find_keywords(self,*search_keys):\n",
        "        \"\"\" Search of an arbitrary number of keywords in a book record\n",
        "        \n",
        "        returns -- list of records that contain all keywords in any field. \"\"\"\n",
        "        frecs=[]\n",
        "        for rec in self.records:\n",
        "            found=True\n",
        "            for sk in search_keys:\n",
        "                subkey=False\n",
        "                for key in rec.keys():\n",
        "                    if sk.lower() in key.lower() or sk.lower() in rec[key].lower():\n",
        "                        subkey=True\n",
        "                        break\n",
        "                if subkey is False:\n",
        "                    found=False\n",
        "                    break\n",
        "            if found is True:\n",
        "                frecs += [rec]\n",
        "        return frecs\n",
        "    \n",
        "    def search(self, search_dict):\n",
        "        \"\"\" Search for book record with key specific key values\n",
        "        For a list of valid keys, use `get_record_keys()`\n",
        "        Standard keys are:\n",
        "        ebook_id, author, language, title\n",
        "        example: search({\"title\": [\"philosoph\",\"phenomen\",\"physic\",\"hermeneu\",\"logic\"], \"language\":\"english\"})\n",
        "        Find all books whose titles contain at least one the keywords, language english. Search keys can either be\n",
        "        search for a single keyword (e.g. english), or an array of keywords. \n",
        "        returns -- list of records \"\"\"\n",
        "        frecs=[]\n",
        "        for rec in self.records:\n",
        "            found=True\n",
        "            for sk in search_dict:\n",
        "                if sk not in rec:\n",
        "                    found=False\n",
        "                    break\n",
        "                else:\n",
        "                    skl=search_dict[sk]\n",
        "                    if not isinstance(skl,list):\n",
        "                        skl=[skl]\n",
        "                    nf=0\n",
        "                    for skli in skl:\n",
        "                        if skli.lower() in rec[sk].lower():\n",
        "                            nf=nf+1\n",
        "                    if nf==0:\n",
        "                        found=False\n",
        "                        break\n",
        "            if found is True:\n",
        "                frecs += [rec]\n",
        "        return frecs\n",
        "        \n",
        "    \n",
        "    def get_record_keys(self):\n",
        "        \"\"\" Get a list of all keys that are used within records. Standard keys are:\n",
        "        ebook_id, author, language, title\n",
        "        \n",
        "        returns -- list of all different keys that are somehow used.\"\"\"\n",
        "        rks=[]\n",
        "        for r in self.records:\n",
        "            rks=set(list(rks) + list(r.keys()))\n",
        "        return rks\n",
        "\n",
        "    def get_unique_record_values(self, key):\n",
        "        \"\"\" Get a list of all unique values a given keys has for all records.\n",
        "        get_unique_records_values('language') returns all languages in Gutenberg.\"\"\"\n",
        "        uv=[]\n",
        "        if key not in self.get_record_keys():\n",
        "            print(f\"{key} is not a key used in any record!\")\n",
        "            return None\n",
        "        for r in self.records:\n",
        "            if key in r:\n",
        "                uv=set(list(uv)+[r[key]])\n",
        "        uv=sorted(uv)\n",
        "        return uv"
      ],
      "execution_count": 0,
      "outputs": []
    },
    {
      "cell_type": "code",
      "metadata": {
        "colab_type": "code",
        "id": "K3C1yExTjtqI",
        "colab": {
          "base_uri": "https://localhost:8080/",
          "height": 38
        },
        "outputId": "bbcb47ab-c13d-4865-ac12-b43eae6341b8"
      },
      "source": [
        "# Get the list of available books on Gutenberg.\n",
        "gbl=GutenbergLib(cache_dir=os.path.join(root_path, 'gutenberg_cache'))\n",
        "gbl.load_index()"
      ],
      "execution_count": 10,
      "outputs": [
        {
          "output_type": "stream",
          "text": [
            "INFO:GutenbergLib:Gutenberg index read from /content/drive/My Drive/gutenberg_cache/gutenberg_index\n"
          ],
          "name": "stderr"
        }
      ]
    },
    {
      "cell_type": "code",
      "metadata": {
        "colab_type": "code",
        "id": "hrI3xSK7jtqL",
        "colab": {
          "base_uri": "https://localhost:8080/",
          "height": 80
        },
        "outputId": "b78e03f6-5dae-411e-bd7e-2dcc3e7ab17a"
      },
      "source": [
        "# sample searches\n",
        "search_specs=[\n",
        "    {\"title\": [\"love\", \"hate\", \"emotion\", \"drama\"], \"language\": [\"english\"]},\n",
        "    {\"author\": [\"brontë\",\"Jane Austen\", \"Woolf\", \"goethe\", \"kant\"], \"language\": [\"english\", \"german\"]},\n",
        "    {\"title\": [\"philosoph\", \"physic\", \"phenomen\", \"logic\"], \"language\": [\"english\"]},\n",
        "]\n",
        "for search_spec in search_specs:\n",
        "    book_list=gbl.search(search_spec)\n",
        "    print(f\"{len(book_list)} matching books found with search {search_spec}.\")\n",
        "# a search spec can be used by the following text library as datasource, it will automatically download, filter and prepare the content of the books requested."
      ],
      "execution_count": 11,
      "outputs": [
        {
          "output_type": "stream",
          "text": [
            "305 matching books found with search {'title': ['love', 'hate', 'emotion', 'drama'], 'language': ['english']}.\n",
            "105 matching books found with search {'author': ['brontë', 'Jane Austen', 'Woolf', 'goethe', 'kant'], 'language': ['english', 'german']}.\n",
            "283 matching books found with search {'title': ['philosoph', 'physic', 'phenomen', 'logic'], 'language': ['english']}.\n"
          ],
          "name": "stdout"
        }
      ]
    },
    {
      "cell_type": "code",
      "metadata": {
        "colab_type": "code",
        "id": "lqKMN8nLjtqO",
        "colab": {}
      },
      "source": [
        "def create_libdesc(project_name, description, cache_path, book_list):\n",
        "    libdesc={\"name\": project_name, \"description\": description, \"lib\": []}\n",
        "    if cache_path is None or not os.path.exists(cache_path):\n",
        "        print(f\"A valid cache {cache_path} is needed!\")\n",
        "        return None\n",
        "    for book_entry in book_list:\n",
        "        try:\n",
        "            book_raw_content=gbl.load_book(book_entry['ebook_id'])\n",
        "        except Exception as e:\n",
        "            print(f\"Failed to download ebook_id {book_entry}, {e}\")\n",
        "            continue\n",
        "        if book_raw_content is not None:\n",
        "            try:\n",
        "                book_text=gbl.filter_text(book_raw_content)\n",
        "            except Exception as e:\n",
        "                print(f\"Internal error when filtering {book_entry}, {e}\")\n",
        "                continue\n",
        "            filename=get_cache_name(cache_path, book_entry['author'], book_entry['title'])\n",
        "            try:\n",
        "                with open(filename,'w') as f:\n",
        "                    f.write(book_text)\n",
        "                    print(f\"Cached {filename}\")\n",
        "                    libdesc[\"lib\"].append((filename, book_entry['author'], book_entry['title']))\n",
        "            except Exception as e:\n",
        "                print(f\"Failed to cache {filename}\", {e})\n",
        "    return libdesc"
      ],
      "execution_count": 0,
      "outputs": []
    },
    {
      "cell_type": "code",
      "metadata": {
        "colab_type": "code",
        "id": "BQo6nTsPjtqR",
        "colab": {
          "base_uri": "https://localhost:8080/",
          "height": 38
        },
        "outputId": "72744f2d-d605-4a8a-c477-99f128a72c71"
      },
      "source": [
        "book_list=gbl.search({\"author\": [\"platon\", \"descartes\", \"john locke\", \"david hume\", \"kant\", \"schopenhauer\", \"leibniz\", \"kierkegaard\", \"hegel\", \"nietzsche\", \"wittgenstein\", \"heidegger\", \"fichte\"], \"language\": [\"english\", \"german\"]})\n",
        "print(f\"{len(book_list)} books found.\")"
      ],
      "execution_count": 13,
      "outputs": [
        {
          "output_type": "stream",
          "text": [
            "83 books found.\n"
          ],
          "name": "stdout"
        }
      ]
    },
    {
      "cell_type": "code",
      "metadata": {
        "colab_type": "code",
        "id": "w6hVXqtOFffQ",
        "colab": {}
      },
      "source": [
        "# gbl.find_keywords('buddh')"
      ],
      "execution_count": 0,
      "outputs": []
    },
    {
      "cell_type": "code",
      "metadata": {
        "colab_type": "code",
        "id": "tm97yp2ijtqV",
        "colab": {
          "base_uri": "https://localhost:8080/",
          "height": 1000
        },
        "outputId": "0cba1eb5-76d9-42cf-bf75-b8505eac03f3"
      },
      "source": [
        "# this will download the books! make sure it's a reasonable number of books\n",
        "libdesc=create_libdesc(project_name, project_description, data_cache_path, book_list)\n",
        "\n",
        "with open(os.path.join(data_cache_path,'libdesc.json'),'w') as f:\n",
        "    json.dump(libdesc,f,indent=4)"
      ],
      "execution_count": 15,
      "outputs": [
        {
          "output_type": "stream",
          "text": [
            "INFO:GutenbergLib:Book read from cache at /content/drive/My Drive/gutenberg_cache/60360.txt\n"
          ],
          "name": "stderr"
        },
        {
          "output_type": "stream",
          "text": [
            "Cached /content/drive/My Drive/Colab Notebooks/philosophers_lang_eng_ger/Data/Friedrich Nietzsche - Der Wille zur Macht.txt\n"
          ],
          "name": "stdout"
        },
        {
          "output_type": "stream",
          "text": [
            "INFO:GutenbergLib:Book read from cache at /content/drive/My Drive/gutenberg_cache/60333.txt\n"
          ],
          "name": "stderr"
        },
        {
          "output_type": "stream",
          "text": [
            "Cached /content/drive/My Drive/Colab Notebooks/philosophers_lang_eng_ger/Data/Søren Kierkegaard - Selections from the Writings of Kierkegaard.txt\n"
          ],
          "name": "stdout"
        },
        {
          "output_type": "stream",
          "text": [
            "INFO:GutenbergLib:Book read from cache at /content/drive/My Drive/gutenberg_cache/60193.txt\n"
          ],
          "name": "stderr"
        },
        {
          "output_type": "stream",
          "text": [
            "Cached /content/drive/My Drive/Colab Notebooks/philosophers_lang_eng_ger/Data/Hubert Crackanthorpe - Vignettes.txt\n"
          ],
          "name": "stdout"
        },
        {
          "output_type": "stream",
          "text": [
            "INFO:GutenbergLib:Book read from cache at /content/drive/My Drive/gutenberg_cache/59792.txt\n"
          ],
          "name": "stderr"
        },
        {
          "output_type": "stream",
          "text": [
            "Cached /content/drive/My Drive/Colab Notebooks/philosophers_lang_eng_ger/Data/David Hume - Hume's Political Discourses.txt\n"
          ],
          "name": "stdout"
        },
        {
          "output_type": "stream",
          "text": [
            "INFO:GutenbergLib:Book read from cache at /content/drive/My Drive/gutenberg_cache/58169.txt\n",
            "INFO:GutenbergLib:Book read from cache at /content/drive/My Drive/gutenberg_cache/56182.txt\n"
          ],
          "name": "stderr"
        },
        {
          "output_type": "stream",
          "text": [
            "Cached /content/drive/My Drive/Colab Notebooks/philosophers_lang_eng_ger/Data/Georg Wilhelm Hegel - The History of Philosophy: Volume 3 of 3.txt\n",
            "Cached /content/drive/My Drive/Colab Notebooks/philosophers_lang_eng_ger/Data/Immanuel Kant - Die Religion innerhalb der Grenzen der bloßen Vernunft.txt\n"
          ],
          "name": "stdout"
        },
        {
          "output_type": "stream",
          "text": [
            "INFO:GutenbergLib:Book read from cache at /content/drive/My Drive/gutenberg_cache/55925.txt\n"
          ],
          "name": "stderr"
        },
        {
          "output_type": "stream",
          "text": [
            "Cached /content/drive/My Drive/Colab Notebooks/philosophers_lang_eng_ger/Data/Immanuel Kant - Kant's gesammelte Schriften.txt\n"
          ],
          "name": "stdout"
        },
        {
          "output_type": "stream",
          "text": [
            "INFO:GutenbergLib:Book read from cache at /content/drive/My Drive/gutenberg_cache/55731.txt\n"
          ],
          "name": "stderr"
        },
        {
          "output_type": "stream",
          "text": [
            "Cached /content/drive/My Drive/Colab Notebooks/philosophers_lang_eng_ger/Data/G. W. F. Hegel - The Philosophy of Fine Art, Volume 4 of 4.txt\n"
          ],
          "name": "stdout"
        },
        {
          "output_type": "stream",
          "text": [
            "INFO:GutenbergLib:Book read from cache at /content/drive/My Drive/gutenberg_cache/55623.txt\n"
          ],
          "name": "stderr"
        },
        {
          "output_type": "stream",
          "text": [
            "Cached /content/drive/My Drive/Colab Notebooks/philosophers_lang_eng_ger/Data/G. W. F. Hegel - The Philosophy of Fine Art, Volume 3 of 4.txt\n"
          ],
          "name": "stdout"
        },
        {
          "output_type": "stream",
          "text": [
            "INFO:GutenbergLib:Book read from cache at /content/drive/My Drive/gutenberg_cache/55445.txt\n"
          ],
          "name": "stderr"
        },
        {
          "output_type": "stream",
          "text": [
            "Cached /content/drive/My Drive/Colab Notebooks/philosophers_lang_eng_ger/Data/G. W. F. Hegel - The Philosophy of Fine Art, Vol. 2 of 4.txt\n"
          ],
          "name": "stdout"
        },
        {
          "output_type": "stream",
          "text": [
            "INFO:GutenbergLib:Book read from cache at /content/drive/My Drive/gutenberg_cache/55334.txt\n"
          ],
          "name": "stderr"
        },
        {
          "output_type": "stream",
          "text": [
            "Cached /content/drive/My Drive/Colab Notebooks/philosophers_lang_eng_ger/Data/G. W. F. Hegel - The Philosophy of Fine Art, Vol. 1 of 4.txt\n"
          ],
          "name": "stdout"
        },
        {
          "output_type": "stream",
          "text": [
            "INFO:GutenbergLib:Book read from cache at /content/drive/My Drive/gutenberg_cache/55108.txt\n"
          ],
          "name": "stderr"
        },
        {
          "output_type": "stream",
          "text": [
            "Cached /content/drive/My Drive/Colab Notebooks/philosophers_lang_eng_ger/Data/G. W. F. Hegel - The Logic of Hegel.txt\n"
          ],
          "name": "stdout"
        },
        {
          "output_type": "stream",
          "text": [
            "INFO:GutenbergLib:Book read from cache at /content/drive/My Drive/gutenberg_cache/54992.txt\n"
          ],
          "name": "stderr"
        },
        {
          "output_type": "stream",
          "text": [
            "Cached /content/drive/My Drive/Colab Notebooks/philosophers_lang_eng_ger/Data/William Wallace and G. W. F. Hegel - Prolegomena to the Study of Hegel's Philosophy.txt\n"
          ],
          "name": "stdout"
        },
        {
          "output_type": "stream",
          "text": [
            "INFO:GutenbergLib:Book read from cache at /content/drive/My Drive/gutenberg_cache/53792.txt\n"
          ],
          "name": "stderr"
        },
        {
          "output_type": "stream",
          "text": [
            "Cached /content/drive/My Drive/Colab Notebooks/philosophers_lang_eng_ger/Data/David Hume - Philosophical Works, Vol. 2 of 4.txt\n"
          ],
          "name": "stdout"
        },
        {
          "output_type": "stream",
          "text": [
            "INFO:GutenbergLib:Book read from cache at /content/drive/My Drive/gutenberg_cache/53791.txt\n"
          ],
          "name": "stderr"
        },
        {
          "output_type": "stream",
          "text": [
            "Cached /content/drive/My Drive/Colab Notebooks/philosophers_lang_eng_ger/Data/David Hume - Philosophical Works, Vol. 1 of 4.txt\n"
          ],
          "name": "stdout"
        },
        {
          "output_type": "stream",
          "text": [
            "INFO:GutenbergLib:Book read from cache at /content/drive/My Drive/gutenberg_cache/52915.txt\n"
          ],
          "name": "stderr"
        },
        {
          "output_type": "stream",
          "text": [
            "Cached /content/drive/My Drive/Colab Notebooks/philosophers_lang_eng_ger/Data/Friedrich Nietzsche - The Will to Power, Books III and IV.txt\n"
          ],
          "name": "stdout"
        },
        {
          "output_type": "stream",
          "text": [
            "INFO:GutenbergLib:Book read from cache at /content/drive/My Drive/gutenberg_cache/52914.txt\n"
          ],
          "name": "stderr"
        },
        {
          "output_type": "stream",
          "text": [
            "Cached /content/drive/My Drive/Colab Notebooks/philosophers_lang_eng_ger/Data/Friedrich Nietzsche - The Will to Power, Books I and II.txt\n"
          ],
          "name": "stdout"
        },
        {
          "output_type": "stream",
          "text": [
            "INFO:GutenbergLib:Book read from cache at /content/drive/My Drive/gutenberg_cache/52881.txt\n"
          ],
          "name": "stderr"
        },
        {
          "output_type": "stream",
          "text": [
            "Cached /content/drive/My Drive/Colab Notebooks/philosophers_lang_eng_ger/Data/Friedrich Nietzsche - The Joyful Wisdom.txt\n"
          ],
          "name": "stdout"
        },
        {
          "output_type": "stream",
          "text": [
            "INFO:GutenbergLib:Book read from cache at /content/drive/My Drive/gutenberg_cache/52821.txt\n"
          ],
          "name": "stderr"
        },
        {
          "output_type": "stream",
          "text": [
            "Cached /content/drive/My Drive/Colab Notebooks/philosophers_lang_eng_ger/Data/Immanuel Kant - Kant's Prolegomena.txt\n"
          ],
          "name": "stdout"
        },
        {
          "output_type": "stream",
          "text": [
            "INFO:GutenbergLib:Book read from cache at /content/drive/My Drive/gutenberg_cache/52319.txt\n"
          ],
          "name": "stderr"
        },
        {
          "output_type": "stream",
          "text": [
            "Cached /content/drive/My Drive/Colab Notebooks/philosophers_lang_eng_ger/Data/Friedrich Wilhelm Nietzsche - The Genealogy of Morals.txt\n"
          ],
          "name": "stdout"
        },
        {
          "output_type": "stream",
          "text": [
            "INFO:GutenbergLib:Book read from cache at /content/drive/My Drive/gutenberg_cache/52263.txt\n"
          ],
          "name": "stderr"
        },
        {
          "output_type": "stream",
          "text": [
            "Cached /content/drive/My Drive/Colab Notebooks/philosophers_lang_eng_ger/Data/Friedrich Wilhelm Nietzsche - Twilight of the Idols - The Antichrist.txt\n"
          ],
          "name": "stdout"
        },
        {
          "output_type": "stream",
          "text": [
            "INFO:GutenbergLib:Book read from cache at /content/drive/My Drive/gutenberg_cache/52190.txt\n"
          ],
          "name": "stderr"
        },
        {
          "output_type": "stream",
          "text": [
            "Cached /content/drive/My Drive/Colab Notebooks/philosophers_lang_eng_ger/Data/Friedrich Wilhelm Nietzsche - Ecce Homo.txt\n"
          ],
          "name": "stdout"
        },
        {
          "output_type": "stream",
          "text": [
            "INFO:GutenbergLib:Book read from cache at /content/drive/My Drive/gutenberg_cache/51710.txt\n"
          ],
          "name": "stderr"
        },
        {
          "output_type": "stream",
          "text": [
            "Cached /content/drive/My Drive/Colab Notebooks/philosophers_lang_eng_ger/Data/Friedrich Wilhelm Nietzsche - Thoughts out of Season, Part I.txt\n"
          ],
          "name": "stdout"
        },
        {
          "output_type": "stream",
          "text": [
            "INFO:GutenbergLib:Book read from cache at /content/drive/My Drive/gutenberg_cache/51636.txt\n"
          ],
          "name": "stderr"
        },
        {
          "output_type": "stream",
          "text": [
            "Cached /content/drive/My Drive/Colab Notebooks/philosophers_lang_eng_ger/Data/Georg Wilhelm Hegel - Hegel's Lectures on the History of Philosophy: Vol. 2 of 3.txt\n"
          ],
          "name": "stdout"
        },
        {
          "output_type": "stream",
          "text": [
            "INFO:GutenbergLib:Book read from cache at /content/drive/My Drive/gutenberg_cache/51635.txt\n"
          ],
          "name": "stderr"
        },
        {
          "output_type": "stream",
          "text": [
            "Cached /content/drive/My Drive/Colab Notebooks/philosophers_lang_eng_ger/Data/Georg Wilhelm Hegel - Hegel's Lectures on the History of Philosophy: Vol. 1 of 3.txt\n"
          ],
          "name": "stdout"
        },
        {
          "output_type": "stream",
          "text": [
            "INFO:GutenbergLib:Book read from cache at /content/drive/My Drive/gutenberg_cache/51580.txt\n"
          ],
          "name": "stderr"
        },
        {
          "output_type": "stream",
          "text": [
            "Cached /content/drive/My Drive/Colab Notebooks/philosophers_lang_eng_ger/Data/Friedrich Wilhelm Nietzsche - On the Future of our Educational Institutions - Homer and Classical Philology.txt\n"
          ],
          "name": "stdout"
        },
        {
          "output_type": "stream",
          "text": [
            "INFO:GutenbergLib:Book read from cache at /content/drive/My Drive/gutenberg_cache/51548.txt\n"
          ],
          "name": "stderr"
        },
        {
          "output_type": "stream",
          "text": [
            "Cached /content/drive/My Drive/Colab Notebooks/philosophers_lang_eng_ger/Data/Friedrich Nietzsche - Early Greek Philosophy & Other Essays.txt\n"
          ],
          "name": "stdout"
        },
        {
          "output_type": "stream",
          "text": [
            "INFO:GutenbergLib:Book read from cache at /content/drive/My Drive/gutenberg_cache/50966.txt\n"
          ],
          "name": "stderr"
        },
        {
          "output_type": "stream",
          "text": [
            "Cached /content/drive/My Drive/Colab Notebooks/philosophers_lang_eng_ger/Data/Arthur Schopenhauer - On the Fourfold Root of the Principle of Sufficient Reason and On the Will in Nature: Two Essays (revised edition).txt\n"
          ],
          "name": "stdout"
        },
        {
          "output_type": "stream",
          "text": [
            "INFO:GutenbergLib:Book read from cache at /content/drive/My Drive/gutenberg_cache/50922.txt\n"
          ],
          "name": "stderr"
        },
        {
          "output_type": "stream",
          "text": [
            "Cached /content/drive/My Drive/Colab Notebooks/philosophers_lang_eng_ger/Data/Immanuel Kant - Perpetual Peace.txt\n"
          ],
          "name": "stdout"
        },
        {
          "output_type": "stream",
          "text": [
            "INFO:GutenbergLib:Book read from cache at /content/drive/My Drive/gutenberg_cache/49543.txt\n"
          ],
          "name": "stderr"
        },
        {
          "output_type": "stream",
          "text": [
            "Cached /content/drive/My Drive/Colab Notebooks/philosophers_lang_eng_ger/Data/Immanuel Kant - Kant's gesammelte Schriften.txt\n"
          ],
          "name": "stdout"
        },
        {
          "output_type": "stream",
          "text": [
            "INFO:GutenbergLib:Book read from cache at /content/drive/My Drive/gutenberg_cache/48433.txt\n"
          ],
          "name": "stderr"
        },
        {
          "output_type": "stream",
          "text": [
            "Cached /content/drive/My Drive/Colab Notebooks/philosophers_lang_eng_ger/Data/Immanuel Kant - Kant's Critique of Judgement.txt\n"
          ],
          "name": "stdout"
        },
        {
          "output_type": "stream",
          "text": [
            "INFO:GutenbergLib:Book read from cache at /content/drive/My Drive/gutenberg_cache/48340.txt\n"
          ],
          "name": "stderr"
        },
        {
          "output_type": "stream",
          "text": [
            "Cached /content/drive/My Drive/Colab Notebooks/philosophers_lang_eng_ger/Data/Johann Gottlieb Fichte - Reden an die deutsche Nation.txt\n"
          ],
          "name": "stdout"
        },
        {
          "output_type": "stream",
          "text": [
            "INFO:GutenbergLib:Book read from cache at /content/drive/My Drive/gutenberg_cache/47406.txt\n"
          ],
          "name": "stderr"
        },
        {
          "output_type": "stream",
          "text": [
            "Cached /content/drive/My Drive/Colab Notebooks/philosophers_lang_eng_ger/Data/Arthur Schopenhauer - Aphorismen zur Lebensweisheit.txt\n"
          ],
          "name": "stdout"
        },
        {
          "output_type": "stream",
          "text": [
            "INFO:GutenbergLib:Book read from cache at /content/drive/My Drive/gutenberg_cache/46873.txt\n"
          ],
          "name": "stderr"
        },
        {
          "output_type": "stream",
          "text": [
            "Cached /content/drive/My Drive/Colab Notebooks/philosophers_lang_eng_ger/Data/Immanuel Kant - Zum ewigen Frieden.txt\n"
          ],
          "name": "stdout"
        },
        {
          "output_type": "stream",
          "text": [
            "INFO:GutenbergLib:Book read from cache at /content/drive/My Drive/gutenberg_cache/46330.txt\n"
          ],
          "name": "stderr"
        },
        {
          "output_type": "stream",
          "text": [
            "Cached /content/drive/My Drive/Colab Notebooks/philosophers_lang_eng_ger/Data/Georg Hegel - The Introduction to Hegel's Philosophy of Fine Arts.txt\n"
          ],
          "name": "stdout"
        },
        {
          "output_type": "stream",
          "text": [
            "INFO:GutenbergLib:Book read from cache at /content/drive/My Drive/gutenberg_cache/46060.txt\n"
          ],
          "name": "stderr"
        },
        {
          "output_type": "stream",
          "text": [
            "Cached /content/drive/My Drive/Colab Notebooks/philosophers_lang_eng_ger/Data/Emanuel Kant - Of the Injustice of Counterfeiting Books.txt\n"
          ],
          "name": "stdout"
        },
        {
          "output_type": "stream",
          "text": [
            "INFO:GutenbergLib:Book read from cache at /content/drive/My Drive/gutenberg_cache/44929.txt\n"
          ],
          "name": "stderr"
        },
        {
          "output_type": "stream",
          "text": [
            "Cached /content/drive/My Drive/Colab Notebooks/philosophers_lang_eng_ger/Data/Arthur Schopenhauer - The Basis of Morality.txt\n"
          ],
          "name": "stdout"
        },
        {
          "output_type": "stream",
          "text": [
            "INFO:GutenbergLib:Book read from cache at /content/drive/My Drive/gutenberg_cache/41197.txt\n"
          ],
          "name": "stderr"
        },
        {
          "output_type": "stream",
          "text": [
            "Cached /content/drive/My Drive/Colab Notebooks/philosophers_lang_eng_ger/Data/Immanuel Kant - Beobachtungen _ das Gef_des Sch_ und Erhabenen.txt\n"
          ],
          "name": "stdout"
        },
        {
          "output_type": "stream",
          "text": [
            "INFO:GutenbergLib:Book read from cache at /content/drive/My Drive/gutenberg_cache/40868.txt\n"
          ],
          "name": "stderr"
        },
        {
          "output_type": "stream",
          "text": [
            "Cached /content/drive/My Drive/Colab Notebooks/philosophers_lang_eng_ger/Data/Arthur Schopenhauer - The World as Will and Idea (Vol. 3 of 3).txt\n"
          ],
          "name": "stdout"
        },
        {
          "output_type": "stream",
          "text": [
            "INFO:GutenbergLib:Book read from cache at /content/drive/My Drive/gutenberg_cache/40097.txt\n"
          ],
          "name": "stderr"
        },
        {
          "output_type": "stream",
          "text": [
            "Cached /content/drive/My Drive/Colab Notebooks/philosophers_lang_eng_ger/Data/Arthur Schopenhauer - The World as Will and Idea (Vol. 2 of 3).txt\n"
          ],
          "name": "stdout"
        },
        {
          "output_type": "stream",
          "text": [
            "INFO:GutenbergLib:Book read from cache at /content/drive/My Drive/gutenberg_cache/39955.txt\n"
          ],
          "name": "stderr"
        },
        {
          "output_type": "stream",
          "text": [
            "Cached /content/drive/My Drive/Colab Notebooks/philosophers_lang_eng_ger/Data/Friedrich Wilhelm Nietzsche - The Dawn of Day.txt\n"
          ],
          "name": "stdout"
        },
        {
          "output_type": "stream",
          "text": [
            "INFO:GutenbergLib:Book read from cache at /content/drive/My Drive/gutenberg_cache/39441.txt\n"
          ],
          "name": "stderr"
        },
        {
          "output_type": "stream",
          "text": [
            "Cached /content/drive/My Drive/Colab Notebooks/philosophers_lang_eng_ger/Data/Gottfried Wilhelm Leibniz - Leibnitz' Monadologie.txt\n"
          ],
          "name": "stdout"
        },
        {
          "output_type": "stream",
          "text": [
            "INFO:GutenbergLib:Book read from cache at /content/drive/My Drive/gutenberg_cache/39064.txt\n",
            "INFO:GutenbergLib:Book read from cache at /content/drive/My Drive/gutenberg_cache/38755.txt\n"
          ],
          "name": "stderr"
        },
        {
          "output_type": "stream",
          "text": [
            "Cached /content/drive/My Drive/Colab Notebooks/philosophers_lang_eng_ger/Data/Georg Wilhelm Friedrich Hegel - Hegel's Philosophy of Mind.txt\n",
            "Cached /content/drive/My Drive/Colab Notebooks/philosophers_lang_eng_ger/Data/Immanuel Kant - _er die Vulkane im Monde.txt\n"
          ],
          "name": "stdout"
        },
        {
          "output_type": "stream",
          "text": [
            "INFO:GutenbergLib:Book read from cache at /content/drive/My Drive/gutenberg_cache/38754.txt\n"
          ],
          "name": "stderr"
        },
        {
          "output_type": "stream",
          "text": [
            "Cached /content/drive/My Drive/Colab Notebooks/philosophers_lang_eng_ger/Data/Immanuel Kant - Was hei_: sich im Denken orientieren_.txt\n"
          ],
          "name": "stdout"
        },
        {
          "output_type": "stream",
          "text": [
            "INFO:GutenbergLib:Book read from cache at /content/drive/My Drive/gutenberg_cache/38427.txt\n"
          ],
          "name": "stderr"
        },
        {
          "output_type": "stream",
          "text": [
            "Cached /content/drive/My Drive/Colab Notebooks/philosophers_lang_eng_ger/Data/Arthur Schopenhauer - The World as Will and Idea (Vol. 1 of 3).txt\n"
          ],
          "name": "stdout"
        },
        {
          "output_type": "stream",
          "text": [
            "INFO:GutenbergLib:Book read from cache at /content/drive/My Drive/gutenberg_cache/38295.txt\n"
          ],
          "name": "stderr"
        },
        {
          "output_type": "stream",
          "text": [
            "Cached /content/drive/My Drive/Colab Notebooks/philosophers_lang_eng_ger/Data/Immanuel Kant - Von der Macht des Gem_ by den blo_n Vorsatz seiner krankhaften Gef_ Meister zu sein.txt\n"
          ],
          "name": "stdout"
        },
        {
          "output_type": "stream",
          "text": [
            "INFO:GutenbergLib:Book read from cache at /content/drive/My Drive/gutenberg_cache/38226.txt\n"
          ],
          "name": "stderr"
        },
        {
          "output_type": "stream",
          "text": [
            "Cached /content/drive/My Drive/Colab Notebooks/philosophers_lang_eng_ger/Data/Friedrich Nietzsche - Thoughts Out of Season, Part 2.txt\n"
          ],
          "name": "stdout"
        },
        {
          "output_type": "stream",
          "text": [
            "INFO:GutenbergLib:Book read from cache at /content/drive/My Drive/gutenberg_cache/38145.txt\n"
          ],
          "name": "stderr"
        },
        {
          "output_type": "stream",
          "text": [
            "Cached /content/drive/My Drive/Colab Notebooks/philosophers_lang_eng_ger/Data/Friedrich Nietzsche - Human, All Too Human.txt\n"
          ],
          "name": "stdout"
        },
        {
          "output_type": "stream",
          "text": [
            "INFO:GutenbergLib:Book read from cache at /content/drive/My Drive/gutenberg_cache/37841.txt\n"
          ],
          "name": "stderr"
        },
        {
          "output_type": "stream",
          "text": [
            "Cached /content/drive/My Drive/Colab Notebooks/philosophers_lang_eng_ger/Data/Friedrich Wilhelm Nietzsche - Human, All-Too-Human, Part II.txt\n"
          ],
          "name": "stdout"
        },
        {
          "output_type": "stream",
          "text": [
            "INFO:GutenbergLib:Book read from cache at /content/drive/My Drive/gutenberg_cache/36120.txt\n",
            "INFO:GutenbergLib:Book read from cache at /content/drive/My Drive/gutenberg_cache/36076.txt\n"
          ],
          "name": "stderr"
        },
        {
          "output_type": "stream",
          "text": [
            "Cached /content/drive/My Drive/Colab Notebooks/philosophers_lang_eng_ger/Data/David Hume - Essays.txt\n",
            "Cached /content/drive/My Drive/Colab Notebooks/philosophers_lang_eng_ger/Data/Immanuel Kant - Tr_e eines Geistersehers, erl_ert by Tr_e der Metaphysik.txt\n"
          ],
          "name": "stdout"
        },
        {
          "output_type": "stream",
          "text": [
            "INFO:GutenbergLib:Book read from cache at /content/drive/My Drive/gutenberg_cache/30821.txt\n"
          ],
          "name": "stderr"
        },
        {
          "output_type": "stream",
          "text": [
            "Cached /content/drive/My Drive/Colab Notebooks/philosophers_lang_eng_ger/Data/Immanuel Kant - Beantwortung der Frage: Was ist Aufkl_ng_.txt\n"
          ],
          "name": "stdout"
        },
        {
          "output_type": "stream",
          "text": [
            "INFO:GutenbergLib:Book read from cache at /content/drive/My Drive/gutenberg_cache/25830.txt\n"
          ],
          "name": "stderr"
        },
        {
          "output_type": "stream",
          "text": [
            "Cached /content/drive/My Drive/Colab Notebooks/philosophers_lang_eng_ger/Data/Rene Descartes - Discourse of a Method for the Well Guiding of Reason.txt\n"
          ],
          "name": "stdout"
        },
        {
          "output_type": "stream",
          "text": [
            "INFO:GutenbergLib:Book read from cache at /content/drive/My Drive/gutenberg_cache/17147.txt\n",
            "INFO:GutenbergLib:Book read from cache at /content/drive/My Drive/gutenberg_cache/9662.txt\n"
          ],
          "name": "stderr"
        },
        {
          "output_type": "stream",
          "text": [
            "Cached /content/drive/My Drive/Colab Notebooks/philosophers_lang_eng_ger/Data/G. W. Leibniz - Theodicy.txt\n",
            "Cached /content/drive/My Drive/Colab Notebooks/philosophers_lang_eng_ger/Data/David Hume and L. A. Selby-Bigge - Enquiry Concerning Human Understanding.txt\n"
          ],
          "name": "stdout"
        },
        {
          "output_type": "stream",
          "text": [
            "INFO:GutenbergLib:Book read from cache at /content/drive/My Drive/gutenberg_cache/7370.txt\n"
          ],
          "name": "stderr"
        },
        {
          "output_type": "stream",
          "text": [
            "Cached /content/drive/My Drive/Colab Notebooks/philosophers_lang_eng_ger/Data/John Locke - Second Treatise of Government.txt\n"
          ],
          "name": "stdout"
        },
        {
          "output_type": "stream",
          "text": [
            "INFO:GutenbergLib:Book read from cache at /content/drive/My Drive/gutenberg_cache/7207.txt\n"
          ],
          "name": "stderr"
        },
        {
          "output_type": "stream",
          "text": [
            "Cached /content/drive/My Drive/Colab Notebooks/philosophers_lang_eng_ger/Data/Friedrich Wilhelm Nietzsche - Menschliches, Allzumenschliches.txt\n"
          ],
          "name": "stdout"
        },
        {
          "output_type": "stream",
          "text": [
            "INFO:GutenbergLib:Book read from cache at /content/drive/My Drive/gutenberg_cache/7206.txt\n"
          ],
          "name": "stderr"
        },
        {
          "output_type": "stream",
          "text": [
            "Cached /content/drive/My Drive/Colab Notebooks/philosophers_lang_eng_ger/Data/Friedrich Wilhelm Nietzsche - Die Geburt der Tragoedie.txt\n"
          ],
          "name": "stdout"
        },
        {
          "output_type": "stream",
          "text": [
            "INFO:GutenbergLib:Book read from cache at /content/drive/My Drive/gutenberg_cache/7205.txt\n"
          ],
          "name": "stderr"
        },
        {
          "output_type": "stream",
          "text": [
            "Cached /content/drive/My Drive/Colab Notebooks/philosophers_lang_eng_ger/Data/Friedrich Wilhelm Nietzsche - Also Sprach Zarathustra.txt\n"
          ],
          "name": "stdout"
        },
        {
          "output_type": "stream",
          "text": [
            "INFO:GutenbergLib:Book read from cache at /content/drive/My Drive/gutenberg_cache/7204.txt\n"
          ],
          "name": "stderr"
        },
        {
          "output_type": "stream",
          "text": [
            "Cached /content/drive/My Drive/Colab Notebooks/philosophers_lang_eng_ger/Data/Friedrick Wilhelm Nietzsche - Jenseits von Gut und Boese.txt\n"
          ],
          "name": "stdout"
        },
        {
          "output_type": "stream",
          "text": [
            "INFO:GutenbergLib:Book read from cache at /content/drive/My Drive/gutenberg_cache/7203.txt\n"
          ],
          "name": "stderr"
        },
        {
          "output_type": "stream",
          "text": [
            "Cached /content/drive/My Drive/Colab Notebooks/philosophers_lang_eng_ger/Data/Friedrich Wilhelm Nietzsche - Gotzen-Dammerung.txt\n"
          ],
          "name": "stdout"
        },
        {
          "output_type": "stream",
          "text": [
            "INFO:GutenbergLib:Book read from cache at /content/drive/My Drive/gutenberg_cache/7202.txt\n"
          ],
          "name": "stderr"
        },
        {
          "output_type": "stream",
          "text": [
            "Cached /content/drive/My Drive/Colab Notebooks/philosophers_lang_eng_ger/Data/Friedrich Wilhelm Nietzsche - Ecce Homo.txt\n"
          ],
          "name": "stdout"
        },
        {
          "output_type": "stream",
          "text": [
            "INFO:GutenbergLib:Book read from cache at /content/drive/My Drive/gutenberg_cache/6834.txt\n"
          ],
          "name": "stderr"
        },
        {
          "output_type": "stream",
          "text": [
            "Cached /content/drive/My Drive/Colab Notebooks/philosophers_lang_eng_ger/Data/Georg Wilhelm Friedrich Hegel - Wissenshaft der Logik, Vol. 2.txt\n"
          ],
          "name": "stdout"
        },
        {
          "output_type": "stream",
          "text": [
            "INFO:GutenbergLib:Book read from cache at /content/drive/My Drive/gutenberg_cache/6729.txt\n",
            "INFO:GutenbergLib:Book read from cache at /content/drive/My Drive/gutenberg_cache/6728.txt\n"
          ],
          "name": "stderr"
        },
        {
          "output_type": "stream",
          "text": [
            "Cached /content/drive/My Drive/Colab Notebooks/philosophers_lang_eng_ger/Data/Georg Wilhelm Friedrich Hegel - Wissenschaft der Logik, Erster Teil.txt\n",
            "Cached /content/drive/My Drive/Colab Notebooks/philosophers_lang_eng_ger/Data/Georg Wilhelm Friedrich Hegel - Rede zum Schuljahresabschluß.txt\n"
          ],
          "name": "stdout"
        },
        {
          "output_type": "stream",
          "text": [
            "INFO:GutenbergLib:Book read from cache at /content/drive/My Drive/gutenberg_cache/6698.txt\n"
          ],
          "name": "stderr"
        },
        {
          "output_type": "stream",
          "text": [
            "Cached /content/drive/My Drive/Colab Notebooks/philosophers_lang_eng_ger/Data/Georg Wilhelm Friedrich Hegel - Phänomenologie des Geistes.txt\n"
          ],
          "name": "stdout"
        },
        {
          "output_type": "stream",
          "text": [
            "INFO:GutenbergLib:Book read from cache at /content/drive/My Drive/gutenberg_cache/6343.txt\n"
          ],
          "name": "stderr"
        },
        {
          "output_type": "stream",
          "text": [
            "Cached /content/drive/My Drive/Colab Notebooks/philosophers_lang_eng_ger/Data/Immanuel Kant - Kritik der reinen Vernunft (2nd Edition).txt\n"
          ],
          "name": "stdout"
        },
        {
          "output_type": "stream",
          "text": [
            "INFO:GutenbergLib:Book read from cache at /content/drive/My Drive/gutenberg_cache/6342.txt\n"
          ],
          "name": "stderr"
        },
        {
          "output_type": "stream",
          "text": [
            "Cached /content/drive/My Drive/Colab Notebooks/philosophers_lang_eng_ger/Data/Immanuel Kant - Kritik der reinen Vernunft (1st Edition).txt\n"
          ],
          "name": "stdout"
        },
        {
          "output_type": "stream",
          "text": [
            "WARNING:GutenbergLib:Failed to download [('5740-0.txt', 'utf-8'), ('5740.txt', 'utf-8'), ('5740-8.txt', 'latin1'), ('5740.txt', 'latin1')], last URL http://www.mirrorservice.org/sites/ftp.ibiblio.org/pub/docs/books/gutenberg/5/7/4/5740/5740.txt, skipping book.\n",
            "INFO:GutenbergLib:Book read from cache at /content/drive/My Drive/gutenberg_cache/5684.txt\n"
          ],
          "name": "stderr"
        },
        {
          "output_type": "stream",
          "text": [
            "Cached /content/drive/My Drive/Colab Notebooks/philosophers_lang_eng_ger/Data/Immanuel Kant - The Metaphysical Elements of Ethics.txt\n"
          ],
          "name": "stdout"
        },
        {
          "output_type": "stream",
          "text": [
            "INFO:GutenbergLib:Book read from cache at /content/drive/My Drive/gutenberg_cache/5683.txt\n"
          ],
          "name": "stderr"
        },
        {
          "output_type": "stream",
          "text": [
            "Cached /content/drive/My Drive/Colab Notebooks/philosophers_lang_eng_ger/Data/Immanuel Kant - The Critique of Practical Reason.txt\n"
          ],
          "name": "stdout"
        },
        {
          "output_type": "stream",
          "text": [
            "INFO:GutenbergLib:Book read from cache at /content/drive/My Drive/gutenberg_cache/5682.txt\n"
          ],
          "name": "stderr"
        },
        {
          "output_type": "stream",
          "text": [
            "Cached /content/drive/My Drive/Colab Notebooks/philosophers_lang_eng_ger/Data/Immanuel Kant - Fundamental Principles of the Metaphysic of Morals.txt\n"
          ],
          "name": "stdout"
        },
        {
          "output_type": "stream",
          "text": [
            "INFO:GutenbergLib:Book read from cache at /content/drive/My Drive/gutenberg_cache/5652.txt\n"
          ],
          "name": "stderr"
        },
        {
          "output_type": "stream",
          "text": [
            "Cached /content/drive/My Drive/Colab Notebooks/philosophers_lang_eng_ger/Data/Friedrich Nietzsche - Thoughts out of Season, Part One.txt\n"
          ],
          "name": "stdout"
        },
        {
          "output_type": "stream",
          "text": [
            "INFO:GutenbergLib:Book read from cache at /content/drive/My Drive/gutenberg_cache/5637.txt\n"
          ],
          "name": "stderr"
        },
        {
          "output_type": "stream",
          "text": [
            "Cached /content/drive/My Drive/Colab Notebooks/philosophers_lang_eng_ger/Data/Montaigne, Michel, Sainte-Beuve, Charles-Augustin; Renan, Ernest, Lessing, Gotthold Ephraim, Von Schiller, J.C., Kant, Immanuel, Mazzini, and Giuseppe - Literary and Philosophical Essays.txt\n"
          ],
          "name": "stdout"
        },
        {
          "output_type": "stream",
          "text": [
            "INFO:GutenbergLib:Book read from cache at /content/drive/My Drive/gutenberg_cache/4705.txt\n"
          ],
          "name": "stderr"
        },
        {
          "output_type": "stream",
          "text": [
            "Cached /content/drive/My Drive/Colab Notebooks/philosophers_lang_eng_ger/Data/David Hume - A Treatise of Human Nature, Vols. 1 & 2.txt\n"
          ],
          "name": "stdout"
        },
        {
          "output_type": "stream",
          "text": [
            "INFO:GutenbergLib:Book read from cache at /content/drive/My Drive/gutenberg_cache/4583.txt\n",
            "INFO:GutenbergLib:Book read from cache at /content/drive/My Drive/gutenberg_cache/4391.txt\n"
          ],
          "name": "stderr"
        },
        {
          "output_type": "stream",
          "text": [
            "Cached /content/drive/My Drive/Colab Notebooks/philosophers_lang_eng_ger/Data/David Hume - Dialogues Concerning Natural Religion.txt\n",
            "Cached /content/drive/My Drive/Colab Notebooks/philosophers_lang_eng_ger/Data/Rene Descartes - Selections From The Principles of Philosophy.txt\n"
          ],
          "name": "stdout"
        },
        {
          "output_type": "stream",
          "text": [
            "INFO:GutenbergLib:Book read from cache at /content/drive/My Drive/gutenberg_cache/4363.txt\n"
          ],
          "name": "stderr"
        },
        {
          "output_type": "stream",
          "text": [
            "Cached /content/drive/My Drive/Colab Notebooks/philosophers_lang_eng_ger/Data/Friedrich Nietzsche - Beyond Good and Evil.txt\n"
          ],
          "name": "stdout"
        },
        {
          "output_type": "stream",
          "text": [
            "INFO:GutenbergLib:Book read from cache at /content/drive/My Drive/gutenberg_cache/4320.txt\n"
          ],
          "name": "stderr"
        },
        {
          "output_type": "stream",
          "text": [
            "Cached /content/drive/My Drive/Colab Notebooks/philosophers_lang_eng_ger/Data/David Hume - An Enquiry Concerning the Principles of Morals.txt\n"
          ],
          "name": "stdout"
        },
        {
          "output_type": "stream",
          "text": [
            "INFO:GutenbergLib:Book read from cache at /content/drive/My Drive/gutenberg_cache/4280.txt\n"
          ],
          "name": "stderr"
        },
        {
          "output_type": "stream",
          "text": [
            "Cached /content/drive/My Drive/Colab Notebooks/philosophers_lang_eng_ger/Data/Immanuel Kant - The Critique of Pure Reason.txt\n"
          ],
          "name": "stdout"
        },
        {
          "output_type": "stream",
          "text": [
            "INFO:GutenbergLib:Book read from cache at /content/drive/My Drive/gutenberg_cache/1998.txt\n"
          ],
          "name": "stderr"
        },
        {
          "output_type": "stream",
          "text": [
            "Cached /content/drive/My Drive/Colab Notebooks/philosophers_lang_eng_ger/Data/Friedrich Nietzsche - Thus Spake Zarathustra.txt\n"
          ],
          "name": "stdout"
        },
        {
          "output_type": "stream",
          "text": [
            "INFO:GutenbergLib:Book read from cache at /content/drive/My Drive/gutenberg_cache/59.txt\n"
          ],
          "name": "stderr"
        },
        {
          "output_type": "stream",
          "text": [
            "Cached /content/drive/My Drive/Colab Notebooks/philosophers_lang_eng_ger/Data/René Descartes - A Discourse on Method.txt\n"
          ],
          "name": "stdout"
        }
      ]
    },
    {
      "cell_type": "markdown",
      "metadata": {
        "colab_type": "text",
        "id": "aXqlcaNajtqb"
      },
      "source": [
        "## 1.2 Text library\n",
        "\n",
        "`TextLibrary` class: text library for training, encoding, batch generation,\n",
        "and formatted source display. It read some books from Project Gutenberg\n",
        "and supports creation of training batches. The output functions support\n",
        "highlighting to allow to compare generated texts with the actual sources\n",
        "to help to identify identical (memorized) parts of a given length."
      ]
    },
    {
      "cell_type": "code",
      "metadata": {
        "colab_type": "code",
        "id": "MzXrUVe-4O1N",
        "colab": {}
      },
      "source": [
        "use_dark_mode=False  # Set to false for white background"
      ],
      "execution_count": 0,
      "outputs": []
    },
    {
      "cell_type": "code",
      "metadata": {
        "colab_type": "code",
        "id": "7pMoAJ-SVDm2",
        "colab": {}
      },
      "source": [
        "class TextLibrary:\n",
        "    def __init__(self, descriptors, text_data_cache_directory=None, max=100000000):\n",
        "        self.descriptors = descriptors\n",
        "        self.data = ''\n",
        "        self.cache_dir=text_data_cache_directory\n",
        "        self.files = []\n",
        "        self.c2i = {}\n",
        "        self.i2c = {}\n",
        "        index = 1\n",
        "        for descriptor, author, title in descriptors:\n",
        "            fd = {}\n",
        "            cache_name=get_cache_name(self.cache_dir, author, title)\n",
        "            if os.path.exists(cache_name):\n",
        "                is_cached=True\n",
        "            else:\n",
        "                is_cached=False\n",
        "            valid=False\n",
        "            if descriptor[:4] == 'http' and is_cached is False:\n",
        "                try:\n",
        "                    print(f\"Downloading {cache_name}\")\n",
        "                    dat = urlopen(descriptor).read().decode('utf-8')\n",
        "                    if dat[0]=='\\ufeff':  # Ignore BOM\n",
        "                        dat=dat[1:]\n",
        "                    dat=dat.replace('\\r', '')  # get rid of pesky LFs \n",
        "                    self.data += dat\n",
        "                    fd[\"title\"] = title\n",
        "                    fd[\"author\"] = author\n",
        "                    fd[\"data\"] = dat\n",
        "                    fd[\"index\"] = index\n",
        "                    index += 1\n",
        "                    valid=True\n",
        "                    self.files.append(fd)\n",
        "                except Exception as e:\n",
        "                    print(f\"Can't download {descriptor}: {e}\")\n",
        "            else:\n",
        "                fd[\"title\"] = title\n",
        "                fd[\"author\"] = author\n",
        "                try:\n",
        "                    if is_cached is True:\n",
        "                        print(f\"Reading {cache_name} from cache\")\n",
        "                        f = open(cache_name)\n",
        "                    else:    \n",
        "                        f = open(descriptor)\n",
        "                    dat = f.read(max)\n",
        "                    self.data += dat\n",
        "                    fd[\"data\"] = dat\n",
        "                    fd[\"index\"] = index\n",
        "                    index += 1\n",
        "                    self.files.append(fd)\n",
        "                    f.close()\n",
        "                    valid=True\n",
        "                except Exception as e:\n",
        "                    print(f\"ERROR: Cannot read: {filename}: {e}\")\n",
        "            if valid is True and is_cached is False and self.cache_dir is not None:\n",
        "                try:\n",
        "                    print(f\"Caching {cache_name}\")\n",
        "                    f = open(cache_name, 'w')\n",
        "                    f.write(dat)\n",
        "                    f.close()\n",
        "                except Exception as e:\n",
        "                    print(f\"ERROR: failed to save cache {cache_name}: {e}\")\n",
        "                \n",
        "                \n",
        "        ind = 0\n",
        "        for c in self.data:  # sets are not deterministic\n",
        "            if c not in self.c2i:\n",
        "                self.c2i[c] = ind\n",
        "                self.i2c[ind] = c\n",
        "                ind += 1\n",
        "        self.ptr = 0\n",
        "        \n",
        "    def display_colored_html(self, textlist, dark_mode=False, display_ref_anchor=True, pre='', post=''):\n",
        "        bgcolorsWht = ['#d4e6e1', '#d8daef', '#ebdef0', '#eadbd8', '#e2d7d5', '#edebd0',\n",
        "                    '#ecf3cf', '#d4efdf', '#d0ece7', '#d6eaf8', '#d4e6f1', '#d6dbdf',\n",
        "                    '#f6ddcc', '#fae5d3', '#fdebd0', '#e5e8e8', '#eaeded', '#A9CCE3']\n",
        "        bgcolorsDrk = ['#342621','#483a2f', '#3b4e20', '#2a3b48', '#324745', '#3d3b30',\n",
        "                    '#3c235f', '#443f4f', '#403c37', '#463a28', '#443621', '#364b5f',\n",
        "                    '#264d4c', '#2a3553', '#3d2b40', '#354838', '#3a3d4d', '#594C23']\n",
        "        if dark_mode is False:\n",
        "            bgcolors=bgcolorsWht\n",
        "        else:\n",
        "            bgcolors=bgcolorsDrk\n",
        "        out = ''\n",
        "        for txt, ind in textlist:\n",
        "            txt = txt.replace('\\n', '<br>')\n",
        "            if ind == 0:\n",
        "                out += txt\n",
        "            else:\n",
        "                if display_ref_anchor is True:\n",
        "                    anchor=\"<sup>[\" + str(ind) + \"]</sup>\"\n",
        "                else:\n",
        "                    anchor=\"\"\n",
        "                out += \"<span style=\\\"background-color:\"+bgcolors[ind % 16]+\";\\\">\" + \\\n",
        "                       txt + \"</span>\"+ anchor\n",
        "        display(HTML(pre+out+post))\n",
        "\n",
        "    def source_highlight(self, txt, minQuoteSize=10, dark_mode=False, display_ref_anchor=True):\n",
        "        tx = txt\n",
        "        out = []\n",
        "        qts = []\n",
        "        txsrc = [(\"Sources: \", 0)]\n",
        "        sc = False\n",
        "        noquote = ''\n",
        "        while len(tx) > 0:  # search all library files for quote 'txt'\n",
        "            mxQ = 0\n",
        "            mxI = 0\n",
        "            mxN = ''\n",
        "            found = False\n",
        "            for f in self.files:  # find longest quote in all texts\n",
        "                p = minQuoteSize\n",
        "                if p <= len(tx) and tx[:p] in f[\"data\"]:\n",
        "                    p = minQuoteSize + 1\n",
        "                    while p <= len(tx) and tx[:p] in f[\"data\"]:\n",
        "                        p += 1\n",
        "                    if p-1 > mxQ:\n",
        "                        mxQ = p-1\n",
        "                        mxI = f[\"index\"]\n",
        "                        mxN = f\"{f['author']}: {f['title']}\"\n",
        "                        found = True\n",
        "            if found:  # save longest quote for colorizing\n",
        "                if len(noquote) > 0:\n",
        "                    out.append((noquote, 0))\n",
        "                    noquote = ''\n",
        "                out.append((tx[:mxQ], mxI))\n",
        "                tx = tx[mxQ:]\n",
        "                if mxI not in qts:  # create a new reference, if first occurence\n",
        "                    qts.append(mxI)\n",
        "                    if sc:\n",
        "                        txsrc.append((\", \", 0))\n",
        "                    sc = True\n",
        "                    txsrc.append((mxN, mxI))\n",
        "            else:\n",
        "                noquote += tx[0]\n",
        "                tx = tx[1:]\n",
        "        if len(noquote) > 0:\n",
        "            out.append((noquote, 0))\n",
        "            noquote = ''\n",
        "        self.display_colored_html(out, dark_mode=dark_mode, display_ref_anchor=display_ref_anchor)\n",
        "        if len(qts) > 0:  # print references, if there is at least one source\n",
        "            self.display_colored_html(txsrc, dark_mode=dark_mode, display_ref_anchor=display_ref_anchor, pre=\"<small><p style=\\\"text-align:right;\\\">\",\n",
        "                                     post=\"</p></small>\")\n",
        "\n",
        "    def get_slice(self, length):\n",
        "        if (self.ptr + length >= len(self.data)):\n",
        "            self.ptr = 0\n",
        "        if self.ptr == 0:\n",
        "            rst = True\n",
        "        else:\n",
        "            rst = False\n",
        "        sl = self.data[self.ptr:self.ptr+length]\n",
        "        self.ptr += length\n",
        "        return sl, rst\n",
        "\n",
        "    def decode(self, ar):\n",
        "        return ''.join([self.i2c[ic] for ic in ar])\n",
        "\n",
        "    def encode(self, s):\n",
        "        return [self.c2i[c] for c in s]\n",
        "        \n",
        "    def get_random_slice(self, length):\n",
        "        p = random.randrange(0, len(self.data)-length)\n",
        "        sl = self.data[p:p+length]\n",
        "        return sl\n",
        "\n",
        "    def get_slice_array(self, length):\n",
        "        ar = np.array([c for c in self.get_slice(length)[0]])\n",
        "        return ar\n",
        "\n",
        "    def get_encoded_slice(self, length):\n",
        "        s, rst = self.get_slice(length)\n",
        "        X = [self.c2i[c] for c in s]\n",
        "        return X\n",
        "        \n",
        "    def get_encoded_slice_array(self, length):\n",
        "        return np.array(self.get_encoded_slice(length))\n",
        "\n",
        "    def get_sample(self, length):\n",
        "        s, rst = self.get_slice(length+1)\n",
        "        X = [self.c2i[c] for c in s[:-1]]\n",
        "        y = [self.c2i[c] for c in s[1:]]\n",
        "        return (X, y, rst)\n",
        "\n",
        "    def get_random_sample(self, length):\n",
        "        s = self.get_random_slice(length+1)\n",
        "        X = [self.c2i[c] for c in s[:-1]]\n",
        "        y = [self.c2i[c] for c in s[1:]]\n",
        "        return (X, y)\n",
        "\n",
        "    def get_sample_batch(self, batch_size, length):\n",
        "        smpX = []\n",
        "        smpy = []\n",
        "        for i in range(batch_size):\n",
        "            Xi, yi, rst = self.get_sample(length)\n",
        "            smpX.append(Xi)\n",
        "            smpy.append(yi)\n",
        "        return smpX, smpy, rst\n",
        "\n",
        "    def get_random_sample_batch(self, batch_size, length):\n",
        "        smpX = []\n",
        "        smpy = []\n",
        "        for i in range(batch_size):\n",
        "            Xi, yi = self.get_random_sample(length)\n",
        "            smpX.append(Xi)\n",
        "            smpy.append(yi)\n",
        "        return np.array(smpX), np.array(smpy)\n",
        "    \n",
        "    def one_hot(p, dim):\n",
        "        o=np.zeros(p.shape+(dim,), dtype=int)\n",
        "        for y in range(p.shape[0]):\n",
        "            for x in range(p.shape[1]):\n",
        "                o[y,x,p[y,x]]=1\n",
        "        return o\n",
        "    \n",
        "    def get_random_onehot_sample_batch(self, batch_size, length):\n",
        "        X, y = self.get_random_sample_batch(batch_size, length)\n",
        "        return one_hot(X,len(self.i2c)), y"
      ],
      "execution_count": 0,
      "outputs": []
    },
    {
      "cell_type": "markdown",
      "metadata": {
        "colab_type": "text",
        "id": "JcMGC5KDUloz"
      },
      "source": [
        "## 1.3 Data sources\n",
        "\n",
        "Data sources can either be:\n",
        "\n",
        "1. files from local filesystem, or for colab notebooks from google drive, \n",
        "2. http(s) links\n",
        "\n",
        "The `name` given will be use as directory name for both snapshots and model data caches.\n",
        "\n",
        "Each entry in the `lib` array contains of:\n",
        "\n",
        "1. (1) a local filename or (2) https(s) link\n",
        "2. an Author's name\n",
        "3. a title\n",
        "\n",
        "Samples: (we are using the automatically created `libdesc` above from `GutenbergLib`), this is a manual example:\n",
        "```\n",
        "libdesc = {\n",
        "    \"name\": \"Women-Writers\",\n",
        "    \"description\": \"A collection of works of Woolf, Austen and Brontë\",\n",
        "    \"lib\": [\n",
        "        # local file:\n",
        "        # ('data/tiny-shakespeare.txt', 'William Shakespeare', 'Some parts'),\n",
        "\n",
        "        # http URLs:\n",
        "        # ('http://www.mirrorservice.org/sites/ftp.ibiblio.org/pub/docs/books/gutenberg/1/0/100/100-0.txt', 'Shakespeare', 'Collected Works'),\n",
        "        # ('http://www.mirrorservice.org/sites/ftp.ibiblio.org/pub/docs/books/gutenberg/3/7/4/3/37431/37431.txt', 'Jane Austen', 'Pride and Prejudice'),\n",
        "        # ('http://www.mirrorservice.org/sites/ftp.ibiblio.org/pub/docs/books/gutenberg/7/6/768/768.txt', 'Emily Brontë', 'Wuthering Heights'),         \n",
        "        # ('http://www.mirrorservice.org/sites/ftp.ibiblio.org/pub/docs/books/gutenberg/1/4/144/144.txt', 'Virginia Woolf', 'Voyage out'),\n",
        "        # ('http://www.mirrorservice.org/sites/ftp.ibiblio.org/pub/docs/books/gutenberg/1/5/158/158.txt', 'Jane Austen', 'Emma'),\n",
        "    ]\n",
        "}\n",
        "```"
      ]
    },
    {
      "cell_type": "code",
      "metadata": {
        "colab_type": "code",
        "id": "OTg4QFewsJdE",
        "colab": {
          "base_uri": "https://localhost:8080/",
          "height": 1000
        },
        "outputId": "2c2b03e2-0b33-4a99-8bb0-c7bed55d2fb2"
      },
      "source": [
        "textlib = TextLibrary(libdesc[\"lib\"], text_data_cache_directory=data_cache_path)"
      ],
      "execution_count": 18,
      "outputs": [
        {
          "output_type": "stream",
          "text": [
            "Reading /content/drive/My Drive/Colab Notebooks/philosophers_lang_eng_ger/Data/Friedrich Nietzsche - Der Wille zur Macht.txt from cache\n",
            "Reading /content/drive/My Drive/Colab Notebooks/philosophers_lang_eng_ger/Data/Søren Kierkegaard - Selections from the Writings of Kierkegaard.txt from cache\n",
            "Reading /content/drive/My Drive/Colab Notebooks/philosophers_lang_eng_ger/Data/Hubert Crackanthorpe - Vignettes.txt from cache\n",
            "Reading /content/drive/My Drive/Colab Notebooks/philosophers_lang_eng_ger/Data/David Hume - Hume's Political Discourses.txt from cache\n",
            "Reading /content/drive/My Drive/Colab Notebooks/philosophers_lang_eng_ger/Data/Georg Wilhelm Hegel - The History of Philosophy: Volume 3 of 3.txt from cache\n",
            "Reading /content/drive/My Drive/Colab Notebooks/philosophers_lang_eng_ger/Data/Immanuel Kant - Die Religion innerhalb der Grenzen der bloßen Vernunft.txt from cache\n",
            "Reading /content/drive/My Drive/Colab Notebooks/philosophers_lang_eng_ger/Data/Immanuel Kant - Kant's gesammelte Schriften.txt from cache\n",
            "Reading /content/drive/My Drive/Colab Notebooks/philosophers_lang_eng_ger/Data/G. W. F. Hegel - The Philosophy of Fine Art, Volume 4 of 4.txt from cache\n",
            "Reading /content/drive/My Drive/Colab Notebooks/philosophers_lang_eng_ger/Data/G. W. F. Hegel - The Philosophy of Fine Art, Volume 3 of 4.txt from cache\n",
            "Reading /content/drive/My Drive/Colab Notebooks/philosophers_lang_eng_ger/Data/G. W. F. Hegel - The Philosophy of Fine Art, Vol. 2 of 4.txt from cache\n",
            "Reading /content/drive/My Drive/Colab Notebooks/philosophers_lang_eng_ger/Data/G. W. F. Hegel - The Philosophy of Fine Art, Vol. 1 of 4.txt from cache\n",
            "Reading /content/drive/My Drive/Colab Notebooks/philosophers_lang_eng_ger/Data/G. W. F. Hegel - The Logic of Hegel.txt from cache\n",
            "Reading /content/drive/My Drive/Colab Notebooks/philosophers_lang_eng_ger/Data/William Wallace and G. W. F. Hegel - Prolegomena to the Study of Hegel's Philosophy.txt from cache\n",
            "Reading /content/drive/My Drive/Colab Notebooks/philosophers_lang_eng_ger/Data/David Hume - Philosophical Works, Vol. 2 of 4.txt from cache\n",
            "Reading /content/drive/My Drive/Colab Notebooks/philosophers_lang_eng_ger/Data/David Hume - Philosophical Works, Vol. 1 of 4.txt from cache\n",
            "Reading /content/drive/My Drive/Colab Notebooks/philosophers_lang_eng_ger/Data/Friedrich Nietzsche - The Will to Power, Books III and IV.txt from cache\n",
            "Reading /content/drive/My Drive/Colab Notebooks/philosophers_lang_eng_ger/Data/Friedrich Nietzsche - The Will to Power, Books I and II.txt from cache\n",
            "Reading /content/drive/My Drive/Colab Notebooks/philosophers_lang_eng_ger/Data/Friedrich Nietzsche - The Joyful Wisdom.txt from cache\n",
            "Reading /content/drive/My Drive/Colab Notebooks/philosophers_lang_eng_ger/Data/Immanuel Kant - Kant's Prolegomena.txt from cache\n",
            "Reading /content/drive/My Drive/Colab Notebooks/philosophers_lang_eng_ger/Data/Friedrich Wilhelm Nietzsche - The Genealogy of Morals.txt from cache\n",
            "Reading /content/drive/My Drive/Colab Notebooks/philosophers_lang_eng_ger/Data/Friedrich Wilhelm Nietzsche - Twilight of the Idols - The Antichrist.txt from cache\n",
            "Reading /content/drive/My Drive/Colab Notebooks/philosophers_lang_eng_ger/Data/Friedrich Wilhelm Nietzsche - Ecce Homo.txt from cache\n",
            "Reading /content/drive/My Drive/Colab Notebooks/philosophers_lang_eng_ger/Data/Friedrich Wilhelm Nietzsche - Thoughts out of Season, Part I.txt from cache\n",
            "Reading /content/drive/My Drive/Colab Notebooks/philosophers_lang_eng_ger/Data/Georg Wilhelm Hegel - Hegel's Lectures on the History of Philosophy: Vol. 2 of 3.txt from cache\n",
            "Reading /content/drive/My Drive/Colab Notebooks/philosophers_lang_eng_ger/Data/Georg Wilhelm Hegel - Hegel's Lectures on the History of Philosophy: Vol. 1 of 3.txt from cache\n",
            "Reading /content/drive/My Drive/Colab Notebooks/philosophers_lang_eng_ger/Data/Friedrich Wilhelm Nietzsche - On the Future of our Educational Institutions - Homer and Classical Philology.txt from cache\n",
            "Reading /content/drive/My Drive/Colab Notebooks/philosophers_lang_eng_ger/Data/Friedrich Nietzsche - Early Greek Philosophy & Other Essays.txt from cache\n",
            "Reading /content/drive/My Drive/Colab Notebooks/philosophers_lang_eng_ger/Data/Arthur Schopenhauer - On the Fourfold Root of the Principle of Sufficient Reason and On the Will in Nature: Two Essays (revised edition).txt from cache\n",
            "Reading /content/drive/My Drive/Colab Notebooks/philosophers_lang_eng_ger/Data/Immanuel Kant - Perpetual Peace.txt from cache\n",
            "Reading /content/drive/My Drive/Colab Notebooks/philosophers_lang_eng_ger/Data/Immanuel Kant - Kant's gesammelte Schriften.txt from cache\n",
            "Reading /content/drive/My Drive/Colab Notebooks/philosophers_lang_eng_ger/Data/Immanuel Kant - Kant's Critique of Judgement.txt from cache\n",
            "Reading /content/drive/My Drive/Colab Notebooks/philosophers_lang_eng_ger/Data/Johann Gottlieb Fichte - Reden an die deutsche Nation.txt from cache\n",
            "Reading /content/drive/My Drive/Colab Notebooks/philosophers_lang_eng_ger/Data/Arthur Schopenhauer - Aphorismen zur Lebensweisheit.txt from cache\n",
            "Reading /content/drive/My Drive/Colab Notebooks/philosophers_lang_eng_ger/Data/Immanuel Kant - Zum ewigen Frieden.txt from cache\n",
            "Reading /content/drive/My Drive/Colab Notebooks/philosophers_lang_eng_ger/Data/Georg Hegel - The Introduction to Hegel's Philosophy of Fine Arts.txt from cache\n",
            "Reading /content/drive/My Drive/Colab Notebooks/philosophers_lang_eng_ger/Data/Emanuel Kant - Of the Injustice of Counterfeiting Books.txt from cache\n",
            "Reading /content/drive/My Drive/Colab Notebooks/philosophers_lang_eng_ger/Data/Arthur Schopenhauer - The Basis of Morality.txt from cache\n",
            "Reading /content/drive/My Drive/Colab Notebooks/philosophers_lang_eng_ger/Data/Immanuel Kant - Beobachtungen _ das Gef_des Sch_ und Erhabenen.txt from cache\n",
            "Reading /content/drive/My Drive/Colab Notebooks/philosophers_lang_eng_ger/Data/Arthur Schopenhauer - The World as Will and Idea (Vol. 3 of 3).txt from cache\n",
            "Reading /content/drive/My Drive/Colab Notebooks/philosophers_lang_eng_ger/Data/Arthur Schopenhauer - The World as Will and Idea (Vol. 2 of 3).txt from cache\n",
            "Reading /content/drive/My Drive/Colab Notebooks/philosophers_lang_eng_ger/Data/Friedrich Wilhelm Nietzsche - The Dawn of Day.txt from cache\n",
            "Reading /content/drive/My Drive/Colab Notebooks/philosophers_lang_eng_ger/Data/Gottfried Wilhelm Leibniz - Leibnitz' Monadologie.txt from cache\n",
            "Reading /content/drive/My Drive/Colab Notebooks/philosophers_lang_eng_ger/Data/Georg Wilhelm Friedrich Hegel - Hegel's Philosophy of Mind.txt from cache\n",
            "Reading /content/drive/My Drive/Colab Notebooks/philosophers_lang_eng_ger/Data/Immanuel Kant - _er die Vulkane im Monde.txt from cache\n",
            "Reading /content/drive/My Drive/Colab Notebooks/philosophers_lang_eng_ger/Data/Immanuel Kant - Was hei_: sich im Denken orientieren_.txt from cache\n",
            "Reading /content/drive/My Drive/Colab Notebooks/philosophers_lang_eng_ger/Data/Arthur Schopenhauer - The World as Will and Idea (Vol. 1 of 3).txt from cache\n",
            "Reading /content/drive/My Drive/Colab Notebooks/philosophers_lang_eng_ger/Data/Immanuel Kant - Von der Macht des Gem_ by den blo_n Vorsatz seiner krankhaften Gef_ Meister zu sein.txt from cache\n",
            "Reading /content/drive/My Drive/Colab Notebooks/philosophers_lang_eng_ger/Data/Friedrich Nietzsche - Thoughts Out of Season, Part 2.txt from cache\n",
            "Reading /content/drive/My Drive/Colab Notebooks/philosophers_lang_eng_ger/Data/Friedrich Nietzsche - Human, All Too Human.txt from cache\n",
            "Reading /content/drive/My Drive/Colab Notebooks/philosophers_lang_eng_ger/Data/Friedrich Wilhelm Nietzsche - Human, All-Too-Human, Part II.txt from cache\n",
            "Reading /content/drive/My Drive/Colab Notebooks/philosophers_lang_eng_ger/Data/David Hume - Essays.txt from cache\n",
            "Reading /content/drive/My Drive/Colab Notebooks/philosophers_lang_eng_ger/Data/Immanuel Kant - Tr_e eines Geistersehers, erl_ert by Tr_e der Metaphysik.txt from cache\n",
            "Reading /content/drive/My Drive/Colab Notebooks/philosophers_lang_eng_ger/Data/Immanuel Kant - Beantwortung der Frage: Was ist Aufkl_ng_.txt from cache\n",
            "Reading /content/drive/My Drive/Colab Notebooks/philosophers_lang_eng_ger/Data/Rene Descartes - Discourse of a Method for the Well Guiding of Reason.txt from cache\n",
            "Reading /content/drive/My Drive/Colab Notebooks/philosophers_lang_eng_ger/Data/G. W. Leibniz - Theodicy.txt from cache\n",
            "Reading /content/drive/My Drive/Colab Notebooks/philosophers_lang_eng_ger/Data/David Hume and L. A. Selby-Bigge - Enquiry Concerning Human Understanding.txt from cache\n",
            "Reading /content/drive/My Drive/Colab Notebooks/philosophers_lang_eng_ger/Data/John Locke - Second Treatise of Government.txt from cache\n",
            "Reading /content/drive/My Drive/Colab Notebooks/philosophers_lang_eng_ger/Data/Friedrich Wilhelm Nietzsche - Menschliches, Allzumenschliches.txt from cache\n",
            "Reading /content/drive/My Drive/Colab Notebooks/philosophers_lang_eng_ger/Data/Friedrich Wilhelm Nietzsche - Die Geburt der Tragoedie.txt from cache\n",
            "Reading /content/drive/My Drive/Colab Notebooks/philosophers_lang_eng_ger/Data/Friedrich Wilhelm Nietzsche - Also Sprach Zarathustra.txt from cache\n",
            "Reading /content/drive/My Drive/Colab Notebooks/philosophers_lang_eng_ger/Data/Friedrick Wilhelm Nietzsche - Jenseits von Gut und Boese.txt from cache\n",
            "Reading /content/drive/My Drive/Colab Notebooks/philosophers_lang_eng_ger/Data/Friedrich Wilhelm Nietzsche - Gotzen-Dammerung.txt from cache\n",
            "Reading /content/drive/My Drive/Colab Notebooks/philosophers_lang_eng_ger/Data/Friedrich Wilhelm Nietzsche - Ecce Homo.txt from cache\n",
            "Reading /content/drive/My Drive/Colab Notebooks/philosophers_lang_eng_ger/Data/Georg Wilhelm Friedrich Hegel - Wissenshaft der Logik, Vol. 2.txt from cache\n",
            "Reading /content/drive/My Drive/Colab Notebooks/philosophers_lang_eng_ger/Data/Georg Wilhelm Friedrich Hegel - Wissenschaft der Logik, Erster Teil.txt from cache\n",
            "Reading /content/drive/My Drive/Colab Notebooks/philosophers_lang_eng_ger/Data/Georg Wilhelm Friedrich Hegel - Rede zum Schuljahresabschluß.txt from cache\n",
            "Reading /content/drive/My Drive/Colab Notebooks/philosophers_lang_eng_ger/Data/Georg Wilhelm Friedrich Hegel - Phänomenologie des Geistes.txt from cache\n",
            "Reading /content/drive/My Drive/Colab Notebooks/philosophers_lang_eng_ger/Data/Immanuel Kant - Kritik der reinen Vernunft (2nd Edition).txt from cache\n",
            "Reading /content/drive/My Drive/Colab Notebooks/philosophers_lang_eng_ger/Data/Immanuel Kant - Kritik der reinen Vernunft (1st Edition).txt from cache\n",
            "Reading /content/drive/My Drive/Colab Notebooks/philosophers_lang_eng_ger/Data/Immanuel Kant - The Metaphysical Elements of Ethics.txt from cache\n",
            "Reading /content/drive/My Drive/Colab Notebooks/philosophers_lang_eng_ger/Data/Immanuel Kant - The Critique of Practical Reason.txt from cache\n",
            "Reading /content/drive/My Drive/Colab Notebooks/philosophers_lang_eng_ger/Data/Immanuel Kant - Fundamental Principles of the Metaphysic of Morals.txt from cache\n",
            "Reading /content/drive/My Drive/Colab Notebooks/philosophers_lang_eng_ger/Data/Friedrich Nietzsche - Thoughts out of Season, Part One.txt from cache\n",
            "Reading /content/drive/My Drive/Colab Notebooks/philosophers_lang_eng_ger/Data/Montaigne, Michel, Sainte-Beuve, Charles-Augustin; Renan, Ernest, Lessing, Gotthold Ephraim, Von Schiller, J.C., Kant, Immanuel, Mazzini, and Giuseppe - Literary and Philosophical Essays.txt from cache\n",
            "Reading /content/drive/My Drive/Colab Notebooks/philosophers_lang_eng_ger/Data/David Hume - A Treatise of Human Nature, Vols. 1 & 2.txt from cache\n",
            "Reading /content/drive/My Drive/Colab Notebooks/philosophers_lang_eng_ger/Data/David Hume - Dialogues Concerning Natural Religion.txt from cache\n",
            "Reading /content/drive/My Drive/Colab Notebooks/philosophers_lang_eng_ger/Data/Rene Descartes - Selections From The Principles of Philosophy.txt from cache\n",
            "Reading /content/drive/My Drive/Colab Notebooks/philosophers_lang_eng_ger/Data/Friedrich Nietzsche - Beyond Good and Evil.txt from cache\n",
            "Reading /content/drive/My Drive/Colab Notebooks/philosophers_lang_eng_ger/Data/David Hume - An Enquiry Concerning the Principles of Morals.txt from cache\n",
            "Reading /content/drive/My Drive/Colab Notebooks/philosophers_lang_eng_ger/Data/Immanuel Kant - The Critique of Pure Reason.txt from cache\n",
            "Reading /content/drive/My Drive/Colab Notebooks/philosophers_lang_eng_ger/Data/Friedrich Nietzsche - Thus Spake Zarathustra.txt from cache\n",
            "Reading /content/drive/My Drive/Colab Notebooks/philosophers_lang_eng_ger/Data/René Descartes - A Discourse on Method.txt from cache\n"
          ],
          "name": "stdout"
        }
      ]
    },
    {
      "cell_type": "code",
      "metadata": {
        "colab_type": "code",
        "id": "DnVzaGoRhytj",
        "colab": {}
      },
      "source": [
        "class TextLibraryDataset(torch.utils.data.Dataset):\n",
        "    def __init__(self, textlib, sample_length, device, text_quanta=10):\n",
        "        self.textlib=textlib\n",
        "        self.device=device\n",
        "        self.vocab_size=len(textlib.i2c)\n",
        "        self.text_quanta=text_quanta\n",
        "        self.sample_length=sample_length\n",
        "        self.length=int((len(self.textlib.data)-sample_length-1)/text_quanta)\n",
        "        # self.gpu_data=torch.cuda.LongTensor(textlib.encode(textlib.data[:-1]))\n",
        "        self.data=torch.LongTensor(textlib.encode(textlib.data[:-1])).to(self.device)\n",
        "        \n",
        "    def __len__(self):\n",
        "        return self.length\n",
        "\n",
        "    def __getitem__(self, idx):\n",
        "        if torch.is_tensor(idx):\n",
        "            idx = idx.tolist()\n",
        "        if idx>=self.length:\n",
        "            return None\n",
        "        X=self.data[idx*self.text_quanta:idx*self.text_quanta+self.sample_length].to(self.device)\n",
        "        y=self.data[idx*self.text_quanta+1:idx*self.text_quanta+self.sample_length+1].to(self.device)\n",
        "        return X,y"
      ],
      "execution_count": 0,
      "outputs": []
    },
    {
      "cell_type": "markdown",
      "metadata": {
        "colab_type": "text",
        "id": "zP0Hcs82lWYI"
      },
      "source": [
        "# 2. The deep LSTM model\n",
        "\n",
        "# 2.1 Model configuration parameters"
      ]
    },
    {
      "cell_type": "code",
      "metadata": {
        "colab_type": "code",
        "id": "EEM7Y3GxUlo0",
        "colab": {}
      },
      "source": [
        "model_params = {\n",
        "    \"model_name\": libdesc['name'],\n",
        "    \"vocab_size\": len(textlib.i2c),\n",
        "    \"neurons\": 768,\n",
        "    \"layers\": 8,\n",
        "    \"learning_rate\": 5e-4,\n",
        "    \"steps\": 80,\n",
        "    \"batch_size\": 768\n",
        "}"
      ],
      "execution_count": 0,
      "outputs": []
    },
    {
      "cell_type": "markdown",
      "metadata": {
        "colab_type": "text",
        "id": "m_JWmbgPUlpG"
      },
      "source": [
        "## 2.2 The char-rnn model class"
      ]
    },
    {
      "cell_type": "code",
      "metadata": {
        "colab_type": "code",
        "id": "NcsP8OYlUlpH",
        "colab": {}
      },
      "source": [
        "class Poet(nn.Module):\n",
        "    def __init__(self, input_size, hidden_size, num_layers, output_size, device):\n",
        "        super(Poet, self).__init__()\n",
        "        \n",
        "        self.hidden_size = hidden_size\n",
        "        self.num_layers = num_layers\n",
        "        self.output_size = output_size\n",
        "        self.device=device\n",
        "       \n",
        "        self.oh = torch.eye(input_size, device=self.device)\n",
        "        self.lstm = nn.LSTM(input_size=input_size, hidden_size=hidden_size, num_layers=num_layers, batch_first=True, dropout=0)\n",
        "        \n",
        "        self.demb = nn.Linear(hidden_size, output_size)\n",
        "        self.softmax = nn.Softmax(dim=-1)  # negative dims are a recent thing (as 2018-03), remove for old vers.\n",
        "    \n",
        "    def init_hidden(self, batch_size):\n",
        "        self.h0 = torch.zeros(self.num_layers, batch_size, self.hidden_size, device=self.device)\n",
        "        self.c0 = torch.zeros(self.num_layers, batch_size, self.hidden_size, device=self.device)\n",
        "\n",
        "    def forward(self, inputx, steps):\n",
        "        lstm_input=self.oh[inputx]\n",
        "        self.lstm.flatten_parameters()\n",
        "        hn, (self.h0, self.c0) = self.lstm(lstm_input, (self.h0, self.c0))\n",
        "        hnr = hn.contiguous().view(-1,self.hidden_size)\n",
        "        op = self.demb(hnr)\n",
        "        opr = op.view(-1, steps ,self.output_size)\n",
        "        return opr\n",
        "\n",
        "    def generate(self, n, start=None, temperature=1.0):\n",
        "        s=''\n",
        "        torch.set_grad_enabled(False)\n",
        "        if start==None or len(start)==0:\n",
        "            start=' '\n",
        "        self.init_hidden(1)\n",
        "        for c in start:\n",
        "            Xt=torch.LongTensor([[textlib.c2i[c]]])\n",
        "            ypl = self.forward(Xt,1)\n",
        "            ypl2 = ypl.view(-1,self.output_size)\n",
        "            if temperature>0.0:\n",
        "                ypl2 = ypl2 / temperature\n",
        "            yp = self.softmax(ypl2)\n",
        "        for i in range(n):\n",
        "            ypc=Tensor.cpu(yp.detach()) # .cpu()\n",
        "            y_pred=ypc.numpy()\n",
        "            inds=list(range(self.output_size))\n",
        "            ind = np.random.choice(inds, p=y_pred.ravel())\n",
        "            s=s+textlib.i2c[ind]\n",
        "            X=np.array([[ind]])\n",
        "            Xt=torch.LongTensor(X)\n",
        "            ypl = self.forward(Xt,1)\n",
        "            ypl2 = ypl.view(-1,self.output_size)\n",
        "            if temperature>0.0:\n",
        "                ypl2 = ypl2 / temperature\n",
        "            yp = self.softmax(ypl2)\n",
        "        torch.set_grad_enabled(True)\n",
        "        return s    "
      ],
      "execution_count": 0,
      "outputs": []
    },
    {
      "cell_type": "markdown",
      "metadata": {
        "colab_type": "text",
        "id": "ymdU_wIWUlpK"
      },
      "source": [
        "## 2.3 Model instance"
      ]
    },
    {
      "cell_type": "code",
      "metadata": {
        "colab_type": "code",
        "id": "L7WuQ142UlpL",
        "colab": {}
      },
      "source": [
        "poet = Poet(model_params['vocab_size'], model_params['neurons'], model_params['layers'], model_params['vocab_size'], device).to(device)"
      ],
      "execution_count": 0,
      "outputs": []
    },
    {
      "cell_type": "markdown",
      "metadata": {
        "colab_type": "text",
        "id": "FJp6Sjw6UlpP"
      },
      "source": [
        "## 2.4 Optimizer"
      ]
    },
    {
      "cell_type": "code",
      "metadata": {
        "colab_type": "code",
        "id": "aeFxMxyuUlpQ",
        "colab": {}
      },
      "source": [
        "criterion = nn.CrossEntropyLoss()\n",
        "opti = torch.optim.Adam(poet.parameters(),lr=model_params['learning_rate']);"
      ],
      "execution_count": 0,
      "outputs": []
    },
    {
      "cell_type": "markdown",
      "metadata": {
        "colab_type": "text",
        "id": "XtKdvxNymXpM"
      },
      "source": [
        "## 2.5 Helper Functions\n",
        "\n",
        "These allow to save or restore the training data. Saving and restoring can either be performed:\n",
        "\n",
        "* Jupyter: store/restore in a local directory,\n",
        "* Colab: store/restore on google drive. The training-code (using load_checkpoint()) will display an authentication url and code input-box in order to be able to access your google drive from this notebook. This allows to continue training sessions (or inference) after the Colab session was terminated."
      ]
    },
    {
      "cell_type": "code",
      "metadata": {
        "colab_type": "code",
        "id": "BfmdQ6zCMy2L",
        "colab": {}
      },
      "source": [
        "if is_colab_notebook:\n",
        "    if colab_google_drive_snapshots is True:\n",
        "        snapshot_path=os.path.join(root_path,f\"Colab Notebooks/{model_params['model_name']}/Snapshots\")\n",
        "    else:\n",
        "        snapshot_path=None\n",
        "else:\n",
        "    snapshot_path=os.path.join(root_path,f\"{model_params['model_name']}/Snapshots\")"
      ],
      "execution_count": 0,
      "outputs": []
    },
    {
      "cell_type": "code",
      "metadata": {
        "colab_type": "code",
        "id": "AuVlJksgsJde",
        "colab": {}
      },
      "source": [
        "def get_project_path():\n",
        "    if snapshot_path is None:\n",
        "        return None\n",
        "    project_path_ext=f\"model-{model_params['vocab_size']}x{model_params['steps']}x{model_params['layers']}x{model_params['neurons']}\"\n",
        "    return os.path.join(snapshot_path, project_path_ext)\n",
        "\n",
        "def create_project_path():\n",
        "    if snapshot_path is None:\n",
        "        return None\n",
        "    ppath=get_project_path()\n",
        "    pathlib.Path(ppath).mkdir(parents=True, exist_ok=True)"
      ],
      "execution_count": 0,
      "outputs": []
    },
    {
      "cell_type": "code",
      "metadata": {
        "colab_type": "code",
        "id": "QebezmDgsJdh",
        "colab": {}
      },
      "source": [
        "if snapshot_path is not None:\n",
        "    pathlib.Path(snapshot_path).mkdir(parents=True, exist_ok=True)\n",
        "    create_project_path()\n",
        "    with open(os.path.join(get_project_path(),'model_params.json'),'w') as f:\n",
        "        json.dump(model_params,f,indent=4)"
      ],
      "execution_count": 0,
      "outputs": []
    },
    {
      "cell_type": "code",
      "metadata": {
        "colab_type": "code",
        "id": "T3v82UHQsJdj",
        "colab": {}
      },
      "source": [
        "def save_checkpoint(epoch, loss, pr, best_pr, filename='checkpoint.pth.tar'):\n",
        "    if snapshot_path is None:\n",
        "        return\n",
        "    state={\n",
        "            'epoch': epoch,\n",
        "            'model_config': model_params,\n",
        "            'state_dict': poet.state_dict(),\n",
        "            'optimizer' : opti.state_dict(),\n",
        "            'precision': pr,\n",
        "            'loss': loss,\n",
        "        }\n",
        "    project_path=get_project_path()\n",
        "    save_file=os.path.join(project_path,filename)\n",
        "    best_file=os.path.join(project_path,'model_best.pth.tar')\n",
        "    torch.save(state, save_file)\n",
        "    if pr >= best_pr:\n",
        "        shutil.copyfile(save_file, best_file )\n",
        "        print(f\"Saved best precision model, prec={pr:.3f}\")\n",
        "    else:\n",
        "        print(f\"Saved last model data, prec={pr:.3f}\")\n",
        "\n",
        "def save_history(history, filename=\"history.json\"):\n",
        "    if snapshot_path is None:\n",
        "        return\n",
        "    project_path=get_project_path()\n",
        "    save_file=os.path.join(project_path,filename)\n",
        "    try:\n",
        "        with open(save_file, 'w') as f:\n",
        "            json.dump(history, f)\n",
        "    except Exception as e:\n",
        "        print(f\"Failed to write training history file {save_file}, {e}\")\n",
        "\n",
        "def load_history(filename=\"history.json\"):\n",
        "    if snapshot_path is None:\n",
        "        return [], time.time()\n",
        "    project_path=get_project_path()\n",
        "    load_file=os.path.join(project_path,filename)\n",
        "    try:\n",
        "        with open(load_file, 'r') as f:\n",
        "            history=json.load(f)\n",
        "    except Exception as e:\n",
        "        print(f\"Starting new history file {load_file}\")\n",
        "        return [], time.time()\n",
        "    if len(history)>0:\n",
        "        start=history[-1][\"timestamp\"]\n",
        "    return history, start\n",
        "\n",
        "def load_checkpoint(filename='checkpoint.pth.tar'):\n",
        "    if snapshot_path is None:\n",
        "        return 0,0\n",
        "    project_path=get_project_path()\n",
        "    load_file=os.path.join(project_path,filename)\n",
        "    if not os.path.exists(load_file):\n",
        "        print(load_file)\n",
        "        print(\"No saved state, starting from scratch.\")\n",
        "        return 0,0\n",
        "    state=torch.load(load_file)\n",
        "    mod_conf = state['model_config']\n",
        "    if (mod_conf['model_name']!=model_params['model_name']):\n",
        "        print(f\"Warning: project has been renamed from {mod_conf['model_name']} to {model_param['model_name']}\")\n",
        "        mod_conf['model_name']=model_params['model_name']\n",
        "    if model_params!=mod_conf:\n",
        "        print(f\"The saved model has a different configuration than the current model: {mod_conf} vs. {model_params}\")\n",
        "        print(\"Cannot restore state, starting from scratch.\")\n",
        "        return 0,0\n",
        "    poet.load_state_dict(state['state_dict'])\n",
        "    opti.load_state_dict(state['optimizer'])\n",
        "    epoch = state['epoch']\n",
        "    loss = state['loss']\n",
        "    best_pr = state['precision']\n",
        "    print(f\"Continuing from saved state epoch={epoch+1}, loss={loss:.3f}\")  # Save is not necessarily on epoch boundary, so that's approx.\n",
        "    return epoch,loss"
      ],
      "execution_count": 0,
      "outputs": []
    },
    {
      "cell_type": "markdown",
      "metadata": {
        "colab_type": "text",
        "id": "a_-ISha4nqhy"
      },
      "source": [
        "# 3. Training\n",
        "\n",
        "If there is already saved training data, this step is optional, and alternatively, ch. 4 can be continued."
      ]
    },
    {
      "cell_type": "markdown",
      "metadata": {
        "colab_type": "text",
        "id": "9KDRpEm0n7B-"
      },
      "source": [
        "## 3.1 Training helpers"
      ]
    },
    {
      "cell_type": "code",
      "metadata": {
        "colab_type": "code",
        "id": "_pZlsZ1Pnm5Z",
        "colab": {}
      },
      "source": [
        "def torch_data_loader(batch_size, sample_length, device):\n",
        "    textlib_dataset=TextLibraryDataset(textlib,sample_length, device)\n",
        "    data_loader=torch.utils.data.DataLoader(textlib_dataset,batch_size=batch_size, shuffle=True, num_workers=0)\n",
        "    return data_loader\n",
        "\n",
        "# Get one sample:\n",
        "# X, y = next(iter(data_loader))\n",
        "\n",
        "def precision(y, yp):\n",
        "    return (torch.sum(yp==y)/float((y.size()[0]*y.size()[1]))).item()\n",
        "\n",
        "def train(Xt, yt):\n",
        "    poet.zero_grad()\n",
        "\n",
        "    poet.init_hidden(Xt.size(0))\n",
        "    output = poet(Xt, model_params['steps'])\n",
        "    \n",
        "    olin=output.view(-1,model_params['vocab_size'])\n",
        "    _, ytp=torch.max(output,2)\n",
        "    ytlin=yt.view(-1)\n",
        "\n",
        "    pr=precision(yt,ytp)\n",
        "            \n",
        "    loss = criterion(olin, ytlin)\n",
        "    ls = loss.item()\n",
        "    loss.backward()\n",
        "    opti.step()\n",
        "\n",
        "    return ls, pr"
      ],
      "execution_count": 0,
      "outputs": []
    },
    {
      "cell_type": "markdown",
      "metadata": {
        "colab_type": "text",
        "id": "KC36hNRKUlpU"
      },
      "source": [
        "## 3.2 The actual training loop"
      ]
    },
    {
      "cell_type": "code",
      "metadata": {
        "colab_type": "code",
        "id": "q9-3GUQ4UlpV",
        "scrolled": true,
        "colab": {
          "base_uri": "https://localhost:8080/",
          "height": 1000
        },
        "outputId": "4baaa296-7816-4727-9fc7-644ef66626d1"
      },
      "source": [
        "ls=0\n",
        "nr=0\n",
        "prs=0\n",
        "# torch.cuda.empty_cache()\n",
        "create_project_path()\n",
        "epoch_start, _ = load_checkpoint()\n",
        "history, start_time = load_history()\n",
        "pr=0.0\n",
        "best_pr=0.0\n",
        "\n",
        "data_loader=torch_data_loader(model_params['batch_size'], model_params['steps'], device)\n",
        "    \n",
        "# Make a snapshot of the trained parameters every snapshot_interval_sec\n",
        "snapshot_interval_sec=180\n",
        "# Generate text samples every sample_intervall_sec\n",
        "sample_interval_sec=600\n",
        "\n",
        "last_snapshot=time.time()\n",
        "last_sample=time.time()\n",
        "\n",
        "bench_all=0\n",
        "bench_data=0\n",
        "bench_train=0\n",
        "bench_sample=0\n",
        "bench_snapshot=0\n",
        "bench_output_times=10  # Give 10 benchmark outputs, then stop (it stays more or less same)\n",
        "sample_train_time=0\n",
        "\n",
        "for e in range(epoch_start,2500000):\n",
        "    t1=time.time()\n",
        "    t0=time.time()\n",
        "    for Xi,yi in data_loader:\n",
        "        t2=time.time()\n",
        "        # this cannot be done in data_loader, if multiprocessing is used :-/\n",
        "        Xt=Xi #.to(device)\n",
        "        yt=yi #.to(device)\n",
        "        \n",
        "        Xt.requires_grad_(False)\n",
        "        yt.requires_grad_(False)\n",
        "\n",
        "        bench_data += time.time()-t1\n",
        "        t1=time.time()\n",
        "        l, pr = train(Xt,yt)\n",
        "        bench_train += time.time()-t1\n",
        "\n",
        "        ls=ls+l\n",
        "        prs=prs+pr\n",
        "        nr=nr+1\n",
        "        cur_loss=ls/nr\n",
        "        cur_pr=prs/nr\n",
        "        if time.time()-last_snapshot > snapshot_interval_sec:\n",
        "            t1=time.time()\n",
        "            nr=0\n",
        "            ls=0\n",
        "            prs=0\n",
        "            if cur_pr>best_pr:\n",
        "                best_pr=cur_pr\n",
        "            last_snapshot=time.time()\n",
        "            print(f\"Epoch {e+1} Loss: {cur_loss:.3f} Precision: {cur_pr:.3f} Time/Sample: {sample_train_time:.6f} sec/sample\")\n",
        "            save_checkpoint(e,cur_loss,cur_pr, best_pr)\n",
        "            # if use_cuda:\n",
        "            #     print(f\"Cuda memory allocated: {torch.cuda.memory_allocated()} max_alloc: {torch.cuda.max_memory_allocated()} cached: {torch.cuda.memory_cached()} max_cached: {torch.cuda.max_memory_cached()}\")\n",
        "            hist={\"epoch\": e+1, \"loss\": cur_loss, \"precision\": cur_pr, \"timestamp\": time.time()-start_time}\n",
        "            history.append(hist)\n",
        "            save_history(history)\n",
        "            bench_snapshot+=time.time()-t1\n",
        "\n",
        "            if bench_all > 0 and bench_output_times>0:\n",
        "                bd=bench_data/bench_all*100.0\n",
        "                bt=bench_train/bench_all*100.0\n",
        "                bs=bench_sample/bench_all*100.0\n",
        "                bss=bench_snapshot/bench_all*100.0\n",
        "                bo=(bench_all-bench_data-bench_train-bench_sample-bench_snapshot)/bench_all*100.0\n",
        "                print(f\"Profiling: data-loading: {bd:.2f}%, training: {bt:.2f}%, sample gen: {bs:.2f}%, snapshots: {bss:.2f}%, overhead: {bo:.2f}%\")\n",
        "                bench_output_times = bench_output_times - 1\n",
        "                \n",
        "        sample_train_time=(time.time()-t2)/len(Xt)\n",
        "\n",
        "        if time.time()-last_sample > sample_interval_sec and cur_loss<1.5:\n",
        "            t1=time.time()\n",
        "            last_sample=time.time()\n",
        "            for temperature in [0.6, 0.7, 0.8]:\n",
        "                print(f\"Temperature {temperature}:\")\n",
        "                tgen=poet.generate(700,\". \", temperature=temperature)\n",
        "                textlib.source_highlight(tgen,minQuoteSize=10,dark_mode=use_dark_mode,display_ref_anchor=False)\n",
        "            bench_sample+=time.time()-t1\n",
        "        t1=time.time()\n",
        "        bench_all+=time.time()-t0\n",
        "        t0=time.time()\n"
      ],
      "execution_count": 0,
      "outputs": [
        {
          "output_type": "stream",
          "text": [
            "Continuing from saved state epoch=2, loss=1.223\n",
            "Epoch 2 Loss: 1.222 Precision: 0.630 Time/Sample: 0.002208 sec/sample\n",
            "Saved last model data, prec=0.630\n",
            "Profiling: data-loading: 0.85%, training: 100.09%, sample gen: 0.00%, snapshots: 1.26%, overhead: -2.21%\n",
            "Epoch 2 Loss: 1.223 Precision: 0.630 Time/Sample: 0.002207 sec/sample\n",
            "Saved last model data, prec=0.630\n",
            "Profiling: data-loading: 0.72%, training: 99.13%, sample gen: 0.00%, snapshots: 1.27%, overhead: -1.11%\n",
            "Epoch 2 Loss: 1.219 Precision: 0.630 Time/Sample: 0.002212 sec/sample\n",
            "Saved last model data, prec=0.630\n",
            "Profiling: data-loading: 0.67%, training: 98.80%, sample gen: 0.00%, snapshots: 1.28%, overhead: -0.74%\n",
            "Temperature 0.6:\n"
          ],
          "name": "stdout"
        },
        {
          "output_type": "display_data",
          "data": {
            "text/html": [
              "<span style=\"background-color:#edebd0;\">The person </span><span style=\"background-color:#d6dbdf;\">may be virtu</span><span style=\"background-color:#d0ece7;\">e of which he has </span>to be<br>orfa<span style=\"background-color:#edebd0;\">ned. The ex</span><span style=\"background-color:#d4efdf;\">perience of the s</span>o<span style=\"background-color:#d4efdf;\">ul it may be t</span><span style=\"background-color:#edebd0;\">he exposition o</span><span style=\"background-color:#edebd0;\">r present in the </span><span style=\"background-color:#ebdef0;\">first place</span><span style=\"background-color:#e2d7d5;\">. They are there</span><span style=\"background-color:#e2d7d5;\"> any man to<br></span><span style=\"background-color:#d6dbdf;\">the most inst</span>in<span style=\"background-color:#d6eaf8;\">ct of his<br>f</span>righ<span style=\"background-color:#edebd0;\">t; he did not </span>p<span style=\"background-color:#d0ece7;\">ut the assum</span><span style=\"background-color:#d4e6f1;\">ing of the work </span><span style=\"background-color:#f6ddcc;\">of predicate</span><span style=\"background-color:#d6eaf8;\"> in such a t</span><span style=\"background-color:#d0ece7;\">hing, it is not</span><span style=\"background-color:#ebdef0;\">hing but a</span><span style=\"background-color:#f6ddcc;\">lso the spec</span>t<span style=\"background-color:#edebd0;\">ator<br>of the </span><span style=\"background-color:#d6dbdf;\">laws, and the </span><span style=\"background-color:#d6dbdf;\">external sp</span><span style=\"background-color:#fdebd0;\">ace of the subject</span><span style=\"background-color:#edebd0;\">ive problems</span><span style=\"background-color:#d0ece7;\"> to the<br>fact that he </span><span style=\"background-color:#d4efdf;\">has no relation to the</span><span style=\"background-color:#d6dbdf;\"> external totality </span><span style=\"background-color:#d0ece7;\">of the subject and the </span><span style=\"background-color:#d4e6e1;\">fact that one is</span><span style=\"background-color:#edebd0;\"><br>itself into the </span><span style=\"background-color:#d0ece7;\">relation to this p</span><span style=\"background-color:#e5e8e8;\">ossible subject</span><span style=\"background-color:#e5e8e8;\"> and at any<br></span><span style=\"background-color:#d6dbdf;\">action of the fa</span><span style=\"background-color:#ebdef0;\">ct that the<br>world </span><span style=\"background-color:#f6ddcc;\">and the subject </span><span style=\"background-color:#d6eaf8;\">that must be ex</span><span style=\"background-color:#d0ece7;\">press the content of its</span><span style=\"background-color:#edebd0;\"><br>content the </span><span style=\"background-color:#e2d7d5;\">most conditions</span><span style=\"background-color:#fdebd0;\"> of the contrary, </span><span style=\"background-color:#f6ddcc;\">in the process of the </span><span style=\"background-color:#d0ece7;\">same way, is</span><br>"
            ],
            "text/plain": [
              "<IPython.core.display.HTML object>"
            ]
          },
          "metadata": {
            "tags": []
          }
        },
        {
          "output_type": "display_data",
          "data": {
            "text/html": [
              "<small><p style=\"text-align:right;\">Sources: <span style=\"background-color:#edebd0;\">Georg Wilhelm Hegel: The History of Philosophy: Volume 3 of 3</span>, <span style=\"background-color:#d6dbdf;\">Georg Wilhelm Friedrich Hegel: Hegel's Philosophy of Mind</span>, <span style=\"background-color:#d0ece7;\">Arthur Schopenhauer: The World as Will and Idea (Vol. 2 of 3)</span>, <span style=\"background-color:#d4efdf;\">G. W. Leibniz: Theodicy</span>, <span style=\"background-color:#ebdef0;\">Søren Kierkegaard: Selections from the Writings of Kierkegaard</span>, <span style=\"background-color:#e2d7d5;\">David Hume: Hume's Political Discourses</span>, <span style=\"background-color:#d6dbdf;\">Friedrich Nietzsche: Early Greek Philosophy & Other Essays</span>, <span style=\"background-color:#d6eaf8;\">Georg Wilhelm Hegel: Hegel's Lectures on the History of Philosophy: Vol. 1 of 3</span>, <span style=\"background-color:#edebd0;\">Friedrich Wilhelm Nietzsche: Twilight of the Idols - The Antichrist</span>, <span style=\"background-color:#d0ece7;\">G. W. F. Hegel: The Philosophy of Fine Art, Volume 4 of 4</span>, <span style=\"background-color:#d4e6f1;\">Friedrich Wilhelm Nietzsche: On the Future of our Educational Institutions - Homer and Classical Philology</span>, <span style=\"background-color:#f6ddcc;\">G. W. F. Hegel: The Logic of Hegel</span>, <span style=\"background-color:#d6eaf8;\">G. W. F. Hegel: The Philosophy of Fine Art, Volume 3 of 4</span>, <span style=\"background-color:#d0ece7;\">Georg Wilhelm Hegel: Hegel's Lectures on the History of Philosophy: Vol. 2 of 3</span>, <span style=\"background-color:#f6ddcc;\">Arthur Schopenhauer: On the Fourfold Root of the Principle of Sufficient Reason and On the Will in Nature: Two Essays (revised edition)</span>, <span style=\"background-color:#d6dbdf;\">G. W. F. Hegel: The Philosophy of Fine Art, Vol. 1 of 4</span>, <span style=\"background-color:#fdebd0;\">Arthur Schopenhauer: The World as Will and Idea (Vol. 1 of 3)</span>, <span style=\"background-color:#d4efdf;\">Arthur Schopenhauer: The World as Will and Idea (Vol. 3 of 3)</span>, <span style=\"background-color:#d4e6e1;\">Friedrich Nietzsche: The Will to Power, Books III and IV</span>, <span style=\"background-color:#e5e8e8;\">Immanuel Kant: Kant's Critique of Judgement</span>, <span style=\"background-color:#e5e8e8;\">David Hume: Philosophical Works, Vol. 1 of 4</span>, <span style=\"background-color:#ebdef0;\">Friedrich Nietzsche: The Joyful Wisdom</span>, <span style=\"background-color:#d6eaf8;\">Friedrich Wilhelm Nietzsche: The Dawn of Day</span>, <span style=\"background-color:#e2d7d5;\">Friedrich Wilhelm Nietzsche: The Genealogy of Morals</span>, <span style=\"background-color:#fdebd0;\">David Hume: Philosophical Works, Vol. 2 of 4</span></p></small>"
            ],
            "text/plain": [
              "<IPython.core.display.HTML object>"
            ]
          },
          "metadata": {
            "tags": []
          }
        },
        {
          "output_type": "stream",
          "text": [
            "Temperature 0.7:\n"
          ],
          "name": "stdout"
        },
        {
          "output_type": "display_data",
          "data": {
            "text/html": [
              "<span style=\"background-color:#d4efdf;\">The world ca</span><span style=\"background-color:#fdebd0;\">uses something </span><span style=\"background-color:#d4e6f1;\">being merely h</span><span style=\"background-color:#d4e6f1;\">is<br>establish</span><span style=\"background-color:#f6ddcc;\">ment that the t</span><span style=\"background-color:#fae5d3;\">erms which are </span><span style=\"background-color:#d6eaf8;\">simple and i</span><span style=\"background-color:#e2d7d5;\">ts, it is not</span><span style=\"background-color:#fdebd0;\">hing of it in </span>its<span style=\"background-color:#fdebd0;\"> trust and </span><span style=\"background-color:#d6dbdf;\">surface.<br><br></span>Discovero<span style=\"background-color:#fdebd0;\">nts of the art of </span>thin<span style=\"background-color:#f6ddcc;\">king good </span><span style=\"background-color:#edebd0;\">constitute it a</span><span style=\"background-color:#edebd0;\">nd proved the</span><span style=\"background-color:#ebdef0;\"> clouds<br>of </span><span style=\"background-color:#f6ddcc;\">our forms </span><span style=\"background-color:#d6dbdf;\">and the medium</span><span style=\"background-color:#e2d7d5;\">, or to the m</span><span style=\"background-color:#ebdef0;\">atter of the i</span><span style=\"background-color:#e5e8e8;\">dea of any<br>rea</span><span style=\"background-color:#e2d7d5;\">soning that i</span><span style=\"background-color:#f6ddcc;\">s to be refle</span><span style=\"background-color:#d0ece7;\">cted as the </span><span style=\"background-color:#d6dbdf;\">philosophy in a<br></span><span style=\"background-color:#d4e6f1;\">long and a</span><span style=\"background-color:#edebd0;\">ccurately </span><span style=\"background-color:#f6ddcc;\">universality to the </span><span style=\"background-color:#f6ddcc;\">past with </span>his<span style=\"background-color:#e2d7d5;\"> thrown<br>into </span>h<span style=\"background-color:#fae5d3;\">is clear. </span><span style=\"background-color:#d0ece7;\">The above </span><span style=\"background-color:#d0ece7;\">expression and the </span><span style=\"background-color:#e5e8e8;\">quantity<br>of the </span><span style=\"background-color:#edebd0;\">world,<br>the </span><span style=\"background-color:#ebdef0;\">truth is di</span>scu<span style=\"background-color:#d4e6e1;\">ssive, that i</span><span style=\"background-color:#d0ece7;\">t is in fact th</span><span style=\"background-color:#fae5d3;\">at no single </span><span style=\"background-color:#f6ddcc;\">words of h</span><span style=\"background-color:#e5e8e8;\">aving the se</span><span style=\"background-color:#d4e6f1;\">nse of its own</span><span style=\"background-color:#d6dbdf;\"><br>precedent </span><span style=\"background-color:#eadbd8;\">world beyond the</span><span style=\"background-color:#d4e6f1;\"><br>objects of a</span><span style=\"background-color:#d4efdf;\">rt, the su</span><span style=\"background-color:#d4e6f1;\">dden under</span><span style=\"background-color:#fdebd0;\">taking the f</span><span style=\"background-color:#eadbd8;\">orm of art<br></span>quit<span style=\"background-color:#ebdef0;\">e deceptive</span><span style=\"background-color:#edebd0;\">ly to the method</span><span style=\"background-color:#d0ece7;\">. It therefore sh</span>"
            ],
            "text/plain": [
              "<IPython.core.display.HTML object>"
            ]
          },
          "metadata": {
            "tags": []
          }
        },
        {
          "output_type": "display_data",
          "data": {
            "text/html": [
              "<small><p style=\"text-align:right;\">Sources: <span style=\"background-color:#d4efdf;\">Arthur Schopenhauer: The World as Will and Idea (Vol. 3 of 3)</span>, <span style=\"background-color:#fdebd0;\">David Hume: Philosophical Works, Vol. 2 of 4</span>, <span style=\"background-color:#d4e6f1;\">Friedrich Wilhelm Nietzsche: On the Future of our Educational Institutions - Homer and Classical Philology</span>, <span style=\"background-color:#d4e6f1;\">G. W. F. Hegel: The Philosophy of Fine Art, Vol. 2 of 4</span>, <span style=\"background-color:#f6ddcc;\">G. W. F. Hegel: The Logic of Hegel</span>, <span style=\"background-color:#fae5d3;\">William Wallace and G. W. F. Hegel: Prolegomena to the Study of Hegel's Philosophy</span>, <span style=\"background-color:#d6eaf8;\">G. W. F. Hegel: The Philosophy of Fine Art, Volume 3 of 4</span>, <span style=\"background-color:#e2d7d5;\">David Hume: Hume's Political Discourses</span>, <span style=\"background-color:#d6dbdf;\">G. W. F. Hegel: The Philosophy of Fine Art, Vol. 1 of 4</span>, <span style=\"background-color:#fdebd0;\">Arthur Schopenhauer: The World as Will and Idea (Vol. 1 of 3)</span>, <span style=\"background-color:#edebd0;\">Georg Wilhelm Hegel: The History of Philosophy: Volume 3 of 3</span>, <span style=\"background-color:#ebdef0;\">Friedrich Wilhelm Nietzsche: Human, All-Too-Human, Part II</span>, <span style=\"background-color:#f6ddcc;\">Arthur Schopenhauer: On the Fourfold Root of the Principle of Sufficient Reason and On the Will in Nature: Two Essays (revised edition)</span>, <span style=\"background-color:#ebdef0;\">Friedrich Nietzsche: The Joyful Wisdom</span>, <span style=\"background-color:#e5e8e8;\">David Hume: Philosophical Works, Vol. 1 of 4</span>, <span style=\"background-color:#d0ece7;\">G. W. F. Hegel: The Philosophy of Fine Art, Volume 4 of 4</span>, <span style=\"background-color:#d6dbdf;\">Georg Wilhelm Friedrich Hegel: Hegel's Philosophy of Mind</span>, <span style=\"background-color:#e5e8e8;\">Immanuel Kant: Kant's Critique of Judgement</span>, <span style=\"background-color:#d4e6e1;\">Immanuel Kant: The Critique of Pure Reason</span>, <span style=\"background-color:#fae5d3;\">Immanuel Kant: Perpetual Peace</span>, <span style=\"background-color:#eadbd8;\">Georg Hegel: The Introduction to Hegel's Philosophy of Fine Arts</span>, <span style=\"background-color:#ebdef0;\">Søren Kierkegaard: Selections from the Writings of Kierkegaard</span>, <span style=\"background-color:#d0ece7;\">Arthur Schopenhauer: The World as Will and Idea (Vol. 2 of 3)</span></p></small>"
            ],
            "text/plain": [
              "<IPython.core.display.HTML object>"
            ]
          },
          "metadata": {
            "tags": []
          }
        },
        {
          "output_type": "stream",
          "text": [
            "Temperature 0.8:\n"
          ],
          "name": "stdout"
        },
        {
          "output_type": "display_data",
          "data": {
            "text/html": [
              "94, 37<span style=\"background-color:#f6ddcc;\">.<br><br>  In the </span>Domains, I. 4<span style=\"background-color:#edebd0;\">53.<br><br>  Philosophy</span><span style=\"background-color:#e2d7d5;\"> of an English </span><span style=\"background-color:#edebd0;\">Individual th</span><span style=\"background-color:#edebd0;\">at the Absolute i</span><span style=\"background-color:#d6dbdf;\">t is the property of </span><span style=\"background-color:#edebd0;\">nature that this</span><span style=\"background-color:#d6dbdf;\"><br>     of our </span>f<span style=\"background-color:#f6ddcc;\">rees<br>     </span><span style=\"background-color:#f6ddcc;\">impartial re</span><span style=\"background-color:#d6dbdf;\">lations it </span><span style=\"background-color:#d4e6f1;\">is not so in</span><span style=\"background-color:#edebd0;\">formed to </span><span style=\"background-color:#edebd0;\">support one</span><span style=\"background-color:#d4e6e1;\">'s self th</span><span style=\"background-color:#eadbd8;\">at are only<br></span><span style=\"background-color:#d4efdf;\">reality. There<br></span><span style=\"background-color:#f6ddcc;\">consists in its </span><span style=\"background-color:#fdebd0;\">form principles </span><span style=\"background-color:#ebdef0;\">with the per</span>phon<span style=\"background-color:#e5e8e8;\">ity of<br>     a</span><span style=\"background-color:#eadbd8;\">ll cases and </span><span style=\"background-color:#d4e6f1;\">divisions, which </span><span style=\"background-color:#f6ddcc;\">the post of </span><span style=\"background-color:#d0ece7;\">the moment is </span><span style=\"background-color:#d4e6f1;\">above all the<br></span>expec<span style=\"background-color:#ebdef0;\">to of the </span>first plosishes<span style=\"background-color:#d4efdf;\"> being,<br>      </span>   <span style=\"background-color:#fdebd0;\"> in your mo</span><span style=\"background-color:#d4efdf;\">st famous p</span><span style=\"background-color:#d6dbdf;\">ersons<br>of </span><span style=\"background-color:#f6ddcc;\">philosophy has to </span><span style=\"background-color:#fae5d3;\">be reasoned</span><span style=\"background-color:#ebdef0;\">? No one has </span><span style=\"background-color:#d4e6e1;\">thought the greatest s</span><span style=\"background-color:#e2d7d5;\">ystem of<br>the </span>fir<span style=\"background-color:#fae5d3;\">st typical p</span><span style=\"background-color:#d0ece7;\">ersonality, which </span><span style=\"background-color:#fdebd0;\">we did not </span><span style=\"background-color:#e2d7d5;\">there is<br>re</span><span style=\"background-color:#d6eaf8;\">spective to </span><span style=\"background-color:#fae5d3;\">into the definite</span><span style=\"background-color:#edebd0;\"> laws of f</span>al<span style=\"background-color:#edebd0;\">sity that </span><span style=\"background-color:#d4e6f1;\">we further a</span><span style=\"background-color:#e2d7d5;\">nd<br>conduct </span><span style=\"background-color:#f6ddcc;\">and actual in the</span> delive<span style=\"background-color:#fdebd0;\">rable from w</span>i"
            ],
            "text/plain": [
              "<IPython.core.display.HTML object>"
            ]
          },
          "metadata": {
            "tags": []
          }
        },
        {
          "output_type": "display_data",
          "data": {
            "text/html": [
              "<small><p style=\"text-align:right;\">Sources: <span style=\"background-color:#f6ddcc;\">Arthur Schopenhauer: On the Fourfold Root of the Principle of Sufficient Reason and On the Will in Nature: Two Essays (revised edition)</span>, <span style=\"background-color:#edebd0;\">Georg Wilhelm Hegel: The History of Philosophy: Volume 3 of 3</span>, <span style=\"background-color:#e2d7d5;\">David Hume: Hume's Political Discourses</span>, <span style=\"background-color:#d6dbdf;\">Georg Wilhelm Friedrich Hegel: Hegel's Philosophy of Mind</span>, <span style=\"background-color:#d6dbdf;\">David Hume: A Treatise of Human Nature, Vols. 1 & 2</span>, <span style=\"background-color:#d6dbdf;\">Friedrich Nietzsche: Early Greek Philosophy & Other Essays</span>, <span style=\"background-color:#d4e6f1;\">G. W. F. Hegel: The Philosophy of Fine Art, Vol. 2 of 4</span>, <span style=\"background-color:#d4e6e1;\">Friedrich Nietzsche: The Will to Power, Books III and IV</span>, <span style=\"background-color:#eadbd8;\">Immanuel Kant: Kant's Prolegomena</span>, <span style=\"background-color:#d4efdf;\">Immanuel Kant: The Critique of Practical Reason</span>, <span style=\"background-color:#f6ddcc;\">G. W. F. Hegel: The Logic of Hegel</span>, <span style=\"background-color:#fdebd0;\">David Hume: Philosophical Works, Vol. 2 of 4</span>, <span style=\"background-color:#ebdef0;\">Søren Kierkegaard: Selections from the Writings of Kierkegaard</span>, <span style=\"background-color:#e5e8e8;\">David Hume: An Enquiry Concerning the Principles of Morals</span>, <span style=\"background-color:#d0ece7;\">G. W. F. Hegel: The Philosophy of Fine Art, Volume 4 of 4</span>, <span style=\"background-color:#d4efdf;\">Arthur Schopenhauer: The World as Will and Idea (Vol. 3 of 3)</span>, <span style=\"background-color:#fdebd0;\">Friedrich Nietzsche: Beyond Good and Evil</span>, <span style=\"background-color:#d6dbdf;\">G. W. F. Hegel: The Philosophy of Fine Art, Vol. 1 of 4</span>, <span style=\"background-color:#fae5d3;\">William Wallace and G. W. F. Hegel: Prolegomena to the Study of Hegel's Philosophy</span>, <span style=\"background-color:#ebdef0;\">Friedrich Nietzsche: The Joyful Wisdom</span>, <span style=\"background-color:#d6eaf8;\">G. W. F. Hegel: The Philosophy of Fine Art, Volume 3 of 4</span></p></small>"
            ],
            "text/plain": [
              "<IPython.core.display.HTML object>"
            ]
          },
          "metadata": {
            "tags": []
          }
        },
        {
          "output_type": "stream",
          "text": [
            "Epoch 2 Loss: 1.215 Precision: 0.630 Time/Sample: 0.002202 sec/sample\n",
            "Saved last model data, prec=0.630\n",
            "Profiling: data-loading: 0.64%, training: 96.13%, sample gen: 2.51%, snapshots: 1.28%, overhead: -0.56%\n",
            "Epoch 2 Loss: 1.214 Precision: 0.631 Time/Sample: 0.002199 sec/sample\n",
            "Saved last model data, prec=0.631\n",
            "Profiling: data-loading: 0.63%, training: 96.53%, sample gen: 2.01%, snapshots: 1.27%, overhead: -0.43%\n",
            "Epoch 2 Loss: 1.213 Precision: 0.631 Time/Sample: 0.002194 sec/sample\n",
            "Saved last model data, prec=0.631\n",
            "Profiling: data-loading: 0.62%, training: 96.81%, sample gen: 1.67%, snapshots: 1.27%, overhead: -0.36%\n",
            "Temperature 0.6:\n"
          ],
          "name": "stdout"
        },
        {
          "output_type": "display_data",
          "data": {
            "text/html": [
              "<span style=\"background-color:#fdebd0;\">But as such </span><span style=\"background-color:#e2d7d5;\">must be sens</span><span style=\"background-color:#ebdef0;\">e of all<br>the </span><span style=\"background-color:#ebdef0;\">excessively b</span><span style=\"background-color:#d6dbdf;\">ut in its own </span>account darg<span style=\"background-color:#edebd0;\">er the objects of </span><span style=\"background-color:#edebd0;\">the understanding. The </span><span style=\"background-color:#d0ece7;\">question which<br>is </span><span style=\"background-color:#d6dbdf;\">already le</span>ss<span style=\"background-color:#e2d7d5;\">en upon the </span><span style=\"background-color:#d4efdf;\">object of respect</span><span style=\"background-color:#eadbd8;\">s to the<br>di</span><span style=\"background-color:#d4efdf;\">fference of the si</span><span style=\"background-color:#d6eaf8;\">ze of the </span><span style=\"background-color:#d0ece7;\">individuals of the mo</span><span style=\"background-color:#d4efdf;\">de of the sens</span><span style=\"background-color:#d4e6f1;\">es, with a</span><span style=\"background-color:#d4e6e1;\"><br>certain det</span><span style=\"background-color:#d6eaf8;\">ailed cont</span><span style=\"background-color:#edebd0;\">radiction—</span><span style=\"background-color:#ebdef0;\">of the simple </span>or no<br>clas<span style=\"background-color:#fae5d3;\">s or expression</span><span style=\"background-color:#d4efdf;\"> of the philosophers a</span><span style=\"background-color:#d0ece7;\">nd animals, to</span><span style=\"background-color:#ebdef0;\"> all appearances a</span><span style=\"background-color:#d0ece7;\">s the<br>realization of th</span><span style=\"background-color:#ebdef0;\">e inexplicable w</span><span style=\"background-color:#d8daef;\">hich are concealed </span><span style=\"background-color:#d4e6f1;\">as its true<br></span><span style=\"background-color:#e5e8e8;\">and possibility</span><span style=\"background-color:#e5e8e8;\">. Therefore it c</span><span style=\"background-color:#edebd0;\">onstitutes the most </span><span style=\"background-color:#d0ece7;\">unity of reason</span><span style=\"background-color:#d0ece7;\"><br>appears to the</span><span style=\"background-color:#fae5d3;\"> independence of the individual, and </span><span style=\"background-color:#d6dbdf;\">that it is at least </span><span style=\"background-color:#d4e6e1;\">in<br>the internal s</span><span style=\"background-color:#d6dbdf;\">cience of the senses</span><span style=\"background-color:#d4efdf;\">, and the necessary </span><span style=\"background-color:#d4e6e1;\">contradiction to<br>the </span><span style=\"background-color:#d4e6f1;\">principle of the su</span>perior par"
            ],
            "text/plain": [
              "<IPython.core.display.HTML object>"
            ]
          },
          "metadata": {
            "tags": []
          }
        },
        {
          "output_type": "display_data",
          "data": {
            "text/html": [
              "<small><p style=\"text-align:right;\">Sources: <span style=\"background-color:#fdebd0;\">David Hume: Philosophical Works, Vol. 2 of 4</span>, <span style=\"background-color:#e2d7d5;\">David Hume: Hume's Political Discourses</span>, <span style=\"background-color:#ebdef0;\">Søren Kierkegaard: Selections from the Writings of Kierkegaard</span>, <span style=\"background-color:#d6dbdf;\">G. W. F. Hegel: The Philosophy of Fine Art, Vol. 1 of 4</span>, <span style=\"background-color:#edebd0;\">Georg Wilhelm Hegel: The History of Philosophy: Volume 3 of 3</span>, <span style=\"background-color:#d0ece7;\">Georg Wilhelm Hegel: Hegel's Lectures on the History of Philosophy: Vol. 2 of 3</span>, <span style=\"background-color:#d4efdf;\">Immanuel Kant: The Critique of Practical Reason</span>, <span style=\"background-color:#eadbd8;\">Immanuel Kant: Kant's Prolegomena</span>, <span style=\"background-color:#d4efdf;\">Arthur Schopenhauer: The World as Will and Idea (Vol. 3 of 3)</span>, <span style=\"background-color:#d6eaf8;\">G. W. F. Hegel: The Philosophy of Fine Art, Volume 3 of 4</span>, <span style=\"background-color:#d0ece7;\">G. W. F. Hegel: The Philosophy of Fine Art, Volume 4 of 4</span>, <span style=\"background-color:#d4e6f1;\">G. W. F. Hegel: The Philosophy of Fine Art, Vol. 2 of 4</span>, <span style=\"background-color:#d4e6e1;\">Immanuel Kant: The Critique of Pure Reason</span>, <span style=\"background-color:#fae5d3;\">William Wallace and G. W. F. Hegel: Prolegomena to the Study of Hegel's Philosophy</span>, <span style=\"background-color:#d4efdf;\">G. W. Leibniz: Theodicy</span>, <span style=\"background-color:#d0ece7;\">Arthur Schopenhauer: The World as Will and Idea (Vol. 2 of 3)</span>, <span style=\"background-color:#d8daef;\">Friedrich Nietzsche: The Will to Power, Books I and II</span>, <span style=\"background-color:#e5e8e8;\">David Hume: Philosophical Works, Vol. 1 of 4</span>, <span style=\"background-color:#e5e8e8;\">Immanuel Kant: Kant's Critique of Judgement</span></p></small>"
            ],
            "text/plain": [
              "<IPython.core.display.HTML object>"
            ]
          },
          "metadata": {
            "tags": []
          }
        },
        {
          "output_type": "stream",
          "text": [
            "Temperature 0.7:\n"
          ],
          "name": "stdout"
        },
        {
          "output_type": "display_data",
          "data": {
            "text/html": [
              "T<span style=\"background-color:#d6eaf8;\">he<br>same def</span><span style=\"background-color:#edebd0;\">inition is </span><span style=\"background-color:#d0ece7;\">superficially co</span><span style=\"background-color:#d4e6f1;\">nstituted in the </span><span style=\"background-color:#d6eaf8;\">fact that<br>the </span><span style=\"background-color:#e2d7d5;\">former are </span>b<span style=\"background-color:#e5e8e8;\">etter was </span>burk<span style=\"background-color:#fae5d3;\">ed to it. Th</span><span style=\"background-color:#d6dbdf;\">us, on the one hand, </span><span style=\"background-color:#d0ece7;\">according<br>to so</span>cie<span style=\"background-color:#d6dbdf;\">ty, through<br></span><span style=\"background-color:#d0ece7;\">such ideality </span><span style=\"background-color:#fdebd0;\">or principles, </span><span style=\"background-color:#f6ddcc;\">and that under</span><span style=\"background-color:#d0ece7;\">standing is not s</span>o<span style=\"background-color:#e2d7d5;\"> in a proper </span>will<span style=\"background-color:#e5e8e8;\">, yet<br>it is </span><span style=\"background-color:#d6dbdf;\">a beautiful s</span><span style=\"background-color:#d6dbdf;\">ymbolism of a</span><span style=\"background-color:#d4e6e1;\"> positive<br>power, a</span><span style=\"background-color:#fdebd0;\">nd is a so</span>li<span style=\"background-color:#d6eaf8;\">d purpose of<br></span><span style=\"background-color:#d4efdf;\">the path of the _</span><span style=\"background-color:#edebd0;\">difference of all t</span>o l<span style=\"background-color:#e5e8e8;\">ove_ to the </span><span style=\"background-color:#d4efdf;\">actual perception </span><span style=\"background-color:#d0ece7;\">in<br>experience, and </span><span style=\"background-color:#edebd0;\">is an interpretation of the</span><br>p<span style=\"background-color:#d6dbdf;\">ast, to a </span><span style=\"background-color:#d0ece7;\">constitution, and th</span>i<span style=\"background-color:#d4e6e1;\">s is subordinated</span><span style=\"background-color:#d4e6e1;\"><br>from the subjective </span><span style=\"background-color:#d6dbdf;\">powers to our</span><span style=\"background-color:#d4e6f1;\">selves with all </span><span style=\"background-color:#e5e8e8;\">lines and<br></span><span style=\"background-color:#d4efdf;\">individuals and i</span><span style=\"background-color:#e2d7d5;\">nstincts, which </span><span style=\"background-color:#d4e6f1;\">is given with the </span><span style=\"background-color:#edebd0;\">synthesis of<br></span><span style=\"background-color:#d6eaf8;\">others for the </span><span style=\"background-color:#d4e6e1;\">principles of a pr</span><span style=\"background-color:#d0ece7;\">inciple of<br>the t</span><span style=\"background-color:#eadbd8;\">ext with a</span><span style=\"background-color:#e5e8e8;\"> subjective or t</span><span style=\"background-color:#edebd0;\">o regulati</span>ng stand"
            ],
            "text/plain": [
              "<IPython.core.display.HTML object>"
            ]
          },
          "metadata": {
            "tags": []
          }
        },
        {
          "output_type": "display_data",
          "data": {
            "text/html": [
              "<small><p style=\"text-align:right;\">Sources: <span style=\"background-color:#d6eaf8;\">G. W. F. Hegel: The Philosophy of Fine Art, Volume 3 of 4</span>, <span style=\"background-color:#edebd0;\">Georg Wilhelm Hegel: The History of Philosophy: Volume 3 of 3</span>, <span style=\"background-color:#d0ece7;\">Arthur Schopenhauer: The World as Will and Idea (Vol. 2 of 3)</span>, <span style=\"background-color:#d4e6f1;\">G. W. F. Hegel: The Philosophy of Fine Art, Vol. 2 of 4</span>, <span style=\"background-color:#e2d7d5;\">David Hume: Hume's Political Discourses</span>, <span style=\"background-color:#e5e8e8;\">David Hume: Philosophical Works, Vol. 1 of 4</span>, <span style=\"background-color:#fae5d3;\">William Wallace and G. W. F. Hegel: Prolegomena to the Study of Hegel's Philosophy</span>, <span style=\"background-color:#d6dbdf;\">G. W. F. Hegel: The Philosophy of Fine Art, Vol. 1 of 4</span>, <span style=\"background-color:#d0ece7;\">Georg Wilhelm Hegel: Hegel's Lectures on the History of Philosophy: Vol. 2 of 3</span>, <span style=\"background-color:#d6dbdf;\">Friedrich Nietzsche: Early Greek Philosophy & Other Essays</span>, <span style=\"background-color:#d0ece7;\">G. W. F. Hegel: The Philosophy of Fine Art, Volume 4 of 4</span>, <span style=\"background-color:#fdebd0;\">David Hume: Philosophical Works, Vol. 2 of 4</span>, <span style=\"background-color:#f6ddcc;\">G. W. F. Hegel: The Logic of Hegel</span>, <span style=\"background-color:#e5e8e8;\">Immanuel Kant: Kant's Critique of Judgement</span>, <span style=\"background-color:#d4e6e1;\">Friedrich Nietzsche: The Will to Power, Books III and IV</span>, <span style=\"background-color:#fdebd0;\">Friedrich Nietzsche: Beyond Good and Evil</span>, <span style=\"background-color:#d6eaf8;\">Friedrich Wilhelm Nietzsche: The Dawn of Day</span>, <span style=\"background-color:#d4efdf;\">Arthur Schopenhauer: The World as Will and Idea (Vol. 3 of 3)</span>, <span style=\"background-color:#edebd0;\">Friedrich Wilhelm Nietzsche: Twilight of the Idols - The Antichrist</span>, <span style=\"background-color:#d4e6e1;\">Immanuel Kant: The Critique of Pure Reason</span>, <span style=\"background-color:#e2d7d5;\">Friedrich Wilhelm Nietzsche: The Genealogy of Morals</span>, <span style=\"background-color:#d4e6f1;\">Montaigne, Michel, Sainte-Beuve, Charles-Augustin; Renan, Ernest, Lessing, Gotthold Ephraim, Von Schiller, J.C., Kant, Immanuel, Mazzini, and Giuseppe: Literary and Philosophical Essays</span>, <span style=\"background-color:#eadbd8;\">Georg Hegel: The Introduction to Hegel's Philosophy of Fine Arts</span></p></small>"
            ],
            "text/plain": [
              "<IPython.core.display.HTML object>"
            ]
          },
          "metadata": {
            "tags": []
          }
        },
        {
          "output_type": "stream",
          "text": [
            "Temperature 0.8:\n"
          ],
          "name": "stdout"
        },
        {
          "output_type": "display_data",
          "data": {
            "text/html": [
              "-<span style=\"background-color:#d8daef;\"> Aber in der S</span><span style=\"background-color:#d4e6e1;\">chlüsse der </span><span style=\"background-color:#d8daef;\">Existenz ist<br></span><span style=\"background-color:#ecf3cf;\">ein absolutes </span>D<span style=\"background-color:#e2d7d5;\">enken, d.i. </span><span style=\"background-color:#d4e6e1;\">alle Weise </span><span style=\"background-color:#eadbd8;\">als die Seite der </span><span style=\"background-color:#eadbd8;\">Teile des Ge</span><span style=\"background-color:#ebdef0;\">istes ist;</span><span style=\"background-color:#d4e6f1;\"><br>dass das </span>Sprachs der Nisit<span style=\"background-color:#d4e6f1;\">s ist. Man</span><span style=\"background-color:#d4e6e1;\"> haben der </span><span style=\"background-color:#fae5d3;\">Wort eine </span><span style=\"background-color:#d4e6f1;\">Menge von<br></span><span style=\"background-color:#fae5d3;\">Deutschen ist </span><span style=\"background-color:#d4e6f1;\">nur als ein se</span><span style=\"background-color:#d4e6e1;\">ine Bestimmungen </span><span style=\"background-color:#d8daef;\">und diese </span><span style=\"background-color:#ecf3cf;\">fortgesetzte </span><span style=\"background-color:#d8daef;\">und von diesem</span><span style=\"background-color:#d4e6e1;\"><br>Bestimmungen sind, </span><span style=\"background-color:#ecf3cf;\">welches so </span>w<span style=\"background-color:#ecf3cf;\">eit er nicht</span><span style=\"background-color:#d4e6e1;\">, daß dieser<br></span><span style=\"background-color:#ecf3cf;\">in unserer S</span><span style=\"background-color:#d8daef;\">ubstanz des S</span><span style=\"background-color:#d8daef;\">eyns ist ein</span><span style=\"background-color:#d4e6e1;\">e Inhalt des </span>Thous<span style=\"background-color:#d8daef;\">and unsrer </span><span style=\"background-color:#d4e6f1;\">Widerstandes,</span><span style=\"background-color:#d4e6f1;\"><br>welche von </span>so dann also<span style=\"background-color:#d8daef;\"> heraus, wie </span><span style=\"background-color:#ecf3cf;\">sie andere </span>vorh<span style=\"background-color:#d4e6e1;\">ernen ist, d</span><span style=\"background-color:#d8daef;\">ie sich<br>selbst</span><span style=\"background-color:#eadbd8;\"><br>aufhebt; nicht </span><span style=\"background-color:#ecf3cf;\">als Bestimmungsg</span>es<span style=\"background-color:#eadbd8;\">egenheit ihrer</span> Ärthe<span style=\"background-color:#ecf3cf;\">chung, welche </span><span style=\"background-color:#d8daef;\">sich ersten</span><span style=\"background-color:#d4e6f1;\"> Fall in der </span><span style=\"background-color:#e5e8e8;\">geistigen Ein</span><span style=\"background-color:#d4e6f1;\">sicht auf si</span><span style=\"background-color:#fae5d3;\">ch<br>in diese </span>Art<span style=\"background-color:#d4e6e1;\"> der _Erscheinung_</span>. Biera<span style=\"background-color:#d4e6f1;\">nd aber au</span>f<span style=\"background-color:#d8daef;\"> den Eindru</span>ß<span style=\"background-color:#d4e6f1;\"> des Erschein</span><span style=\"background-color:#d4e6f1;\">ungen, so w</span>ürde<span style=\"background-color:#d4e6e1;\"> das<br>Recht</span>"
            ],
            "text/plain": [
              "<IPython.core.display.HTML object>"
            ]
          },
          "metadata": {
            "tags": []
          }
        },
        {
          "output_type": "display_data",
          "data": {
            "text/html": [
              "<small><p style=\"text-align:right;\">Sources: <span style=\"background-color:#d8daef;\">Georg Wilhelm Friedrich Hegel: Wissenschaft der Logik, Erster Teil</span>, <span style=\"background-color:#d4e6e1;\">Georg Wilhelm Friedrich Hegel: Wissenshaft der Logik, Vol. 2</span>, <span style=\"background-color:#ecf3cf;\">Immanuel Kant: Die Religion innerhalb der Grenzen der bloßen Vernunft</span>, <span style=\"background-color:#e2d7d5;\">Immanuel Kant: Kritik der reinen Vernunft (2nd Edition)</span>, <span style=\"background-color:#d4e6e1;\">Johann Gottlieb Fichte: Reden an die deutsche Nation</span>, <span style=\"background-color:#eadbd8;\">Georg Wilhelm Friedrich Hegel: Phänomenologie des Geistes</span>, <span style=\"background-color:#ebdef0;\">Georg Wilhelm Friedrich Hegel: Rede zum Schuljahresabschluß</span>, <span style=\"background-color:#d4e6f1;\">Friedrich Wilhelm Nietzsche: Menschliches, Allzumenschliches</span>, <span style=\"background-color:#d4e6f1;\">Gottfried Wilhelm Leibniz: Leibnitz' Monadologie</span>, <span style=\"background-color:#fae5d3;\">Friedrick Wilhelm Nietzsche: Jenseits von Gut und Boese</span>, <span style=\"background-color:#d8daef;\">Friedrich Nietzsche: Der Wille zur Macht</span>, <span style=\"background-color:#d8daef;\">Arthur Schopenhauer: Aphorismen zur Lebensweisheit</span>, <span style=\"background-color:#ecf3cf;\">Immanuel Kant: Beobachtungen ? das Gef?des Sch? und Erhabenen</span>, <span style=\"background-color:#e5e8e8;\">Immanuel Kant: Von der Macht des Gem? by den blo?n Vorsatz seiner krankhaften Gef? Meister zu sein</span></p></small>"
            ],
            "text/plain": [
              "<IPython.core.display.HTML object>"
            ]
          },
          "metadata": {
            "tags": []
          }
        },
        {
          "output_type": "stream",
          "text": [
            "Epoch 2 Loss: 1.210 Precision: 0.632 Time/Sample: 0.002203 sec/sample\n",
            "Saved last model data, prec=0.632\n",
            "Profiling: data-loading: 0.59%, training: 95.58%, sample gen: 2.87%, snapshots: 1.26%, overhead: -0.31%\n",
            "Epoch 2 Loss: 1.211 Precision: 0.631 Time/Sample: 0.002207 sec/sample\n",
            "Saved last model data, prec=0.631\n",
            "Profiling: data-loading: 0.60%, training: 95.90%, sample gen: 2.51%, snapshots: 1.26%, overhead: -0.27%\n",
            "Epoch 2 Loss: 1.210 Precision: 0.632 Time/Sample: 0.002200 sec/sample\n",
            "Saved last model data, prec=0.632\n",
            "Profiling: data-loading: 0.60%, training: 96.15%, sample gen: 2.23%, snapshots: 1.26%, overhead: -0.24%\n",
            "Temperature 0.6:\n"
          ],
          "name": "stdout"
        },
        {
          "output_type": "display_data",
          "data": {
            "text/html": [
              "<span style=\"background-color:#fdebd0;\">Therefore the si</span>mila<span style=\"background-color:#edebd0;\">r spontaneity of </span><span style=\"background-color:#e2d7d5;\">which is the pres</span><span style=\"background-color:#d0ece7;\">ent import</span><span style=\"background-color:#d0ece7;\">unity<br>of a </span><span style=\"background-color:#d6dbdf;\">new idea of </span><span style=\"background-color:#e5e8e8;\">the judgement of the </span><span style=\"background-color:#d0ece7;\">earth, which is </span><span style=\"background-color:#d8daef;\">virtuous only that w</span><span style=\"background-color:#f6ddcc;\">e should<br>never be a</span><span style=\"background-color:#d6dbdf;\"> general prom</span><span style=\"background-color:#ecf3cf;\">ise of the most </span><span style=\"background-color:#fdebd0;\">absurdity of ma</span><span style=\"background-color:#d4e6f1;\">nifold in the in</span><span style=\"background-color:#d6eaf8;\">tellect, in order</span><span style=\"background-color:#e2d7d5;\"><br>to see the </span><span style=\"background-color:#d4efdf;\">properties of such </span>a c<span style=\"background-color:#d6eaf8;\">ame existence, </span><span style=\"background-color:#fdebd0;\">and are also </span><span style=\"background-color:#d4e6e1;\">for the<br>exte</span>r<span style=\"background-color:#d6eaf8;\">nal abstract </span><span style=\"background-color:#d4e6e1;\">extension of its co</span><span style=\"background-color:#edebd0;\">ntent and the </span><span style=\"background-color:#e5e8e8;\">whole. We c</span><span style=\"background-color:#edebd0;\">an only be<br></span>j<span style=\"background-color:#d6eaf8;\">ened to the exte</span><span style=\"background-color:#edebd0;\">rnal force </span><span style=\"background-color:#d0ece7;\">of the nature of the simpl</span><span style=\"background-color:#d4e6f1;\">y of an infinite</span><span style=\"background-color:#e5e8e8;\"><br>experience in </span><span style=\"background-color:#e5e8e8;\">our own power</span><span style=\"background-color:#eadbd8;\">; and the emp</span><span style=\"background-color:#d4efdf;\">irical condition of </span><span style=\"background-color:#d6dbdf;\">production and its</span><span style=\"background-color:#d6eaf8;\"><br>essence is </span><span style=\"background-color:#ebdef0;\">in anything else</span><span style=\"background-color:#fae5d3;\">n, which is the con</span><span style=\"background-color:#d8daef;\">ception of all things</span><span style=\"background-color:#edebd0;\"> and inaccessible </span>a<span style=\"background-color:#fdebd0;\">s a<br>relation to </span><span style=\"background-color:#d6eaf8;\">form, and as </span><span style=\"background-color:#fae5d3;\">it is impossible that it </span><span style=\"background-color:#d6dbdf;\">is independent of the<br></span>subje"
            ],
            "text/plain": [
              "<IPython.core.display.HTML object>"
            ]
          },
          "metadata": {
            "tags": []
          }
        },
        {
          "output_type": "display_data",
          "data": {
            "text/html": [
              "<small><p style=\"text-align:right;\">Sources: <span style=\"background-color:#fdebd0;\">Arthur Schopenhauer: The World as Will and Idea (Vol. 1 of 3)</span>, <span style=\"background-color:#edebd0;\">Georg Wilhelm Hegel: The History of Philosophy: Volume 3 of 3</span>, <span style=\"background-color:#e2d7d5;\">Friedrich Wilhelm Nietzsche: The Genealogy of Morals</span>, <span style=\"background-color:#d0ece7;\">G. W. F. Hegel: The Philosophy of Fine Art, Volume 4 of 4</span>, <span style=\"background-color:#d6dbdf;\">David Hume: A Treatise of Human Nature, Vols. 1 & 2</span>, <span style=\"background-color:#e5e8e8;\">Immanuel Kant: Kant's Critique of Judgement</span>, <span style=\"background-color:#d0ece7;\">Georg Wilhelm Hegel: Hegel's Lectures on the History of Philosophy: Vol. 2 of 3</span>, <span style=\"background-color:#d8daef;\">Friedrich Nietzsche: Thus Spake Zarathustra</span>, <span style=\"background-color:#f6ddcc;\">Arthur Schopenhauer: On the Fourfold Root of the Principle of Sufficient Reason and On the Will in Nature: Two Essays (revised edition)</span>, <span style=\"background-color:#d6dbdf;\">Friedrich Nietzsche: Early Greek Philosophy & Other Essays</span>, <span style=\"background-color:#ecf3cf;\">Rene Descartes: Discourse of a Method for the Well Guiding of Reason</span>, <span style=\"background-color:#d4e6f1;\">Montaigne, Michel, Sainte-Beuve, Charles-Augustin; Renan, Ernest, Lessing, Gotthold Ephraim, Von Schiller, J.C., Kant, Immanuel, Mazzini, and Giuseppe: Literary and Philosophical Essays</span>, <span style=\"background-color:#d6eaf8;\">Friedrich Wilhelm Nietzsche: The Dawn of Day</span>, <span style=\"background-color:#e2d7d5;\">David Hume: Hume's Political Discourses</span>, <span style=\"background-color:#d4efdf;\">Arthur Schopenhauer: The World as Will and Idea (Vol. 3 of 3)</span>, <span style=\"background-color:#d6eaf8;\">Georg Wilhelm Hegel: Hegel's Lectures on the History of Philosophy: Vol. 1 of 3</span>, <span style=\"background-color:#d4e6e1;\">Immanuel Kant: The Critique of Pure Reason</span>, <span style=\"background-color:#d6eaf8;\">G. W. F. Hegel: The Philosophy of Fine Art, Volume 3 of 4</span>, <span style=\"background-color:#e5e8e8;\">David Hume: Philosophical Works, Vol. 1 of 4</span>, <span style=\"background-color:#edebd0;\">Arthur Schopenhauer: The Basis of Morality</span>, <span style=\"background-color:#d4e6f1;\">G. W. F. Hegel: The Philosophy of Fine Art, Vol. 2 of 4</span>, <span style=\"background-color:#eadbd8;\">David Hume: Essays</span>, <span style=\"background-color:#d4efdf;\">Immanuel Kant: The Critique of Practical Reason</span>, <span style=\"background-color:#d6dbdf;\">G. W. F. Hegel: The Philosophy of Fine Art, Vol. 1 of 4</span>, <span style=\"background-color:#ebdef0;\">Friedrich Nietzsche: The Joyful Wisdom</span>, <span style=\"background-color:#fae5d3;\">William Wallace and G. W. F. Hegel: Prolegomena to the Study of Hegel's Philosophy</span>, <span style=\"background-color:#fae5d3;\">Immanuel Kant: Perpetual Peace</span></p></small>"
            ],
            "text/plain": [
              "<IPython.core.display.HTML object>"
            ]
          },
          "metadata": {
            "tags": []
          }
        },
        {
          "output_type": "stream",
          "text": [
            "Temperature 0.7:\n"
          ],
          "name": "stdout"
        },
        {
          "output_type": "display_data",
          "data": {
            "text/html": [
              "I he<span style=\"background-color:#d4e6f1;\">ar life ha</span><span style=\"background-color:#ebdef0;\">d said what </span><span style=\"background-color:#fdebd0;\">may be<br>completely s</span><span style=\"background-color:#ebdef0;\">elected to </span><span style=\"background-color:#fdebd0;\">every substantive</span><span style=\"background-color:#e5e8e8;\"> and effect, of </span><span style=\"background-color:#ebdef0;\">certain sense</span><span style=\"background-color:#edebd0;\"><br>of the whole </span><span style=\"background-color:#d0ece7;\">conditions which he</span><span style=\"background-color:#e2d7d5;\"> prevailed a</span><span style=\"background-color:#d4efdf;\">ll the same th</span><span style=\"background-color:#d6eaf8;\">ing in the<br>form</span><span style=\"background-color:#d4e6f1;\">. There is the </span><span style=\"background-color:#edebd0;\">universal is not </span><span style=\"background-color:#edebd0;\">really a de</span><span style=\"background-color:#edebd0;\">duction of a</span><span style=\"background-color:#f6ddcc;\">uthority, and, </span><span style=\"background-color:#ebdef0;\">in a way<br>a</span><span style=\"background-color:#d6eaf8;\">t once to ha</span><span style=\"background-color:#e2d7d5;\">ve the latter</span>, na<span style=\"background-color:#d4e6e1;\">y, disease</span><span style=\"background-color:#d6dbdf;\">d and left </span>him work<span style=\"background-color:#d6dbdf;\"> either in the<br></span>zusam<span style=\"background-color:#d6eaf8;\">e of Spirit. </span><span style=\"background-color:#d0ece7;\">I notice th</span><span style=\"background-color:#d4efdf;\">e true ultimate </span><span style=\"background-color:#d6dbdf;\">and the natural element</span><span style=\"background-color:#d6dbdf;\"><br>of the external world, </span><span style=\"background-color:#f6ddcc;\">which is every </span><span style=\"background-color:#d4efdf;\">character, as in th</span><span style=\"background-color:#e2d7d5;\">ose of his </span><span style=\"background-color:#e5e8e8;\">innocent s</span>cience<br>'go<span style=\"background-color:#d8daef;\">rathustra’s co</span><span style=\"background-color:#d4e6f1;\">ntemporaries, w</span><span style=\"background-color:#ebdef0;\">ith some o</span><span style=\"background-color:#e5e8e8;\">rdinary sou</span>l<span style=\"background-color:#e5e8e8;\">). It is in</span><span style=\"background-color:#e2d7d5;\"> the<br>duty of </span><span style=\"background-color:#eadbd8;\">her action, </span><span style=\"background-color:#d4efdf;\">which can be com</span><span style=\"background-color:#d4e6f1;\">pared to m</span><span style=\"background-color:#d0ece7;\">y modern d</span><span style=\"background-color:#fae5d3;\">eals with s</span><span style=\"background-color:#e5e8e8;\">ome other qua</span>liti<span style=\"background-color:#edebd0;\">es<br>through </span><span style=\"background-color:#d6eaf8;\">simplicity, which </span><span style=\"background-color:#d6dbdf;\">in the present case it </span><span style=\"background-color:#edebd0;\">expresses t</span>"
            ],
            "text/plain": [
              "<IPython.core.display.HTML object>"
            ]
          },
          "metadata": {
            "tags": []
          }
        },
        {
          "output_type": "display_data",
          "data": {
            "text/html": [
              "<small><p style=\"text-align:right;\">Sources: <span style=\"background-color:#d4e6f1;\">G. W. F. Hegel: The Philosophy of Fine Art, Vol. 2 of 4</span>, <span style=\"background-color:#ebdef0;\">Søren Kierkegaard: Selections from the Writings of Kierkegaard</span>, <span style=\"background-color:#fdebd0;\">Arthur Schopenhauer: The World as Will and Idea (Vol. 1 of 3)</span>, <span style=\"background-color:#e5e8e8;\">David Hume: Philosophical Works, Vol. 1 of 4</span>, <span style=\"background-color:#edebd0;\">Georg Wilhelm Hegel: The History of Philosophy: Volume 3 of 3</span>, <span style=\"background-color:#d0ece7;\">G. W. F. Hegel: The Philosophy of Fine Art, Volume 4 of 4</span>, <span style=\"background-color:#e2d7d5;\">David Hume: Hume's Political Discourses</span>, <span style=\"background-color:#d4efdf;\">G. W. Leibniz: Theodicy</span>, <span style=\"background-color:#d6eaf8;\">Georg Wilhelm Hegel: Hegel's Lectures on the History of Philosophy: Vol. 1 of 3</span>, <span style=\"background-color:#edebd0;\">Friedrich Wilhelm Nietzsche: Twilight of the Idols - The Antichrist</span>, <span style=\"background-color:#f6ddcc;\">G. W. F. Hegel: The Logic of Hegel</span>, <span style=\"background-color:#ebdef0;\">Friedrich Wilhelm Nietzsche: Human, All-Too-Human, Part II</span>, <span style=\"background-color:#d6eaf8;\">G. W. F. Hegel: The Philosophy of Fine Art, Volume 3 of 4</span>, <span style=\"background-color:#d4e6e1;\">Friedrich Nietzsche: The Will to Power, Books III and IV</span>, <span style=\"background-color:#d6dbdf;\">G. W. F. Hegel: The Philosophy of Fine Art, Vol. 1 of 4</span>, <span style=\"background-color:#d0ece7;\">Georg Wilhelm Hegel: Hegel's Lectures on the History of Philosophy: Vol. 2 of 3</span>, <span style=\"background-color:#d4efdf;\">Arthur Schopenhauer: The World as Will and Idea (Vol. 3 of 3)</span>, <span style=\"background-color:#d4efdf;\">Friedrich Wilhelm Nietzsche: Thoughts out of Season, Part I</span>, <span style=\"background-color:#d8daef;\">Friedrich Nietzsche: Thus Spake Zarathustra</span>, <span style=\"background-color:#d4e6f1;\">Montaigne, Michel, Sainte-Beuve, Charles-Augustin; Renan, Ernest, Lessing, Gotthold Ephraim, Von Schiller, J.C., Kant, Immanuel, Mazzini, and Giuseppe: Literary and Philosophical Essays</span>, <span style=\"background-color:#e5e8e8;\">Immanuel Kant: Kant's Critique of Judgement</span>, <span style=\"background-color:#eadbd8;\">Georg Hegel: The Introduction to Hegel's Philosophy of Fine Arts</span>, <span style=\"background-color:#d4efdf;\">Immanuel Kant: The Critique of Practical Reason</span>, <span style=\"background-color:#fae5d3;\">William Wallace and G. W. F. Hegel: Prolegomena to the Study of Hegel's Philosophy</span>, <span style=\"background-color:#d6dbdf;\">David Hume: A Treatise of Human Nature, Vols. 1 & 2</span></p></small>"
            ],
            "text/plain": [
              "<IPython.core.display.HTML object>"
            ]
          },
          "metadata": {
            "tags": []
          }
        },
        {
          "output_type": "stream",
          "text": [
            "Temperature 0.8:\n"
          ],
          "name": "stdout"
        },
        {
          "output_type": "display_data",
          "data": {
            "text/html": [
              "<span style=\"background-color:#d6dbdf;\">It is also c</span>oncer<span style=\"background-color:#e2d7d5;\">es the author</span><span style=\"background-color:#d6dbdf;\"><br>which ass</span><span style=\"background-color:#d0ece7;\">ume the rea</span><span style=\"background-color:#d0ece7;\">ch that the p</span><span style=\"background-color:#d6eaf8;\">erson or a </span><span style=\"background-color:#fdebd0;\">thing in the mo</span>d<span style=\"background-color:#e5e8e8;\">es of spread</span><span style=\"background-color:#d6eaf8;\"> for the<br>presence of </span><span style=\"background-color:#d0ece7;\">the will has no</span><span style=\"background-color:#edebd0;\"> instead of the st</span>udi<span style=\"background-color:#d6eaf8;\">fying point of view </span><span style=\"background-color:#e2d7d5;\">of<br>the age </span>of Imprici<span style=\"background-color:#fae5d3;\">t fragments </span><span style=\"background-color:#ebdef0;\">of the world </span>“_the<br>CAvemuln_<span style=\"background-color:#ebdef0;\"> was sufficient to s</span><span style=\"background-color:#f6ddcc;\">peak of the t</span>h<span style=\"background-color:#d6eaf8;\">ree as man</span>i<span style=\"background-color:#d0ece7;\">folded in </span>hero<span style=\"background-color:#f6ddcc;\">ich, in<br>order to </span><span style=\"background-color:#e5e8e8;\">be the comm</span><span style=\"background-color:#e2d7d5;\">erce of the </span><span style=\"background-color:#e5e8e8;\">effect as well as </span><span style=\"background-color:#d4e6e1;\">a part of an </span><span style=\"background-color:#e2d7d5;\">invention.<br></span><span style=\"background-color:#e2d7d5;\">The greatest </span><span style=\"background-color:#d4e6e1;\">judgement cont</span><span style=\"background-color:#edebd0;\">radicts itself </span><span style=\"background-color:#f6ddcc;\">in its true<br></span><span style=\"background-color:#d0ece7;\">conception of experience</span><span style=\"background-color:#ebdef0;\"> to an appro</span><span style=\"background-color:#d0ece7;\">val of time, </span><span style=\"background-color:#d6eaf8;\">he appeared in </span>ma<span style=\"background-color:#eadbd8;\">n,<br>and how </span><span style=\"background-color:#edebd0;\">to consciousness </span><span style=\"background-color:#fdebd0;\">here strikes </span>to us:<span style=\"background-color:#ebdef0;\"> our own t</span><span style=\"background-color:#ebdef0;\">rue suffering</span><span style=\"background-color:#fdebd0;\"> and<br>uncult</span><span style=\"background-color:#f6ddcc;\">ure which b</span><span style=\"background-color:#fae5d3;\">rings cons</span><span style=\"background-color:#d4e6e1;\">equently to o</span><span style=\"background-color:#fdebd0;\">ur experiments, a</span><span style=\"background-color:#d0ece7;\">t the same time that<br></span><span style=\"background-color:#f6ddcc;\">in the same way as the o</span><span style=\"background-color:#d0ece7;\">nly possess</span><span style=\"background-color:#ebdef0;\">ion of its</span>"
            ],
            "text/plain": [
              "<IPython.core.display.HTML object>"
            ]
          },
          "metadata": {
            "tags": []
          }
        },
        {
          "output_type": "display_data",
          "data": {
            "text/html": [
              "<small><p style=\"text-align:right;\">Sources: <span style=\"background-color:#d6dbdf;\">David Hume: A Treatise of Human Nature, Vols. 1 & 2</span>, <span style=\"background-color:#e2d7d5;\">David Hume: Hume's Political Discourses</span>, <span style=\"background-color:#d6dbdf;\">G. W. F. Hegel: The Philosophy of Fine Art, Vol. 1 of 4</span>, <span style=\"background-color:#d0ece7;\">Arthur Schopenhauer: The World as Will and Idea (Vol. 2 of 3)</span>, <span style=\"background-color:#d0ece7;\">G. W. F. Hegel: The Philosophy of Fine Art, Volume 4 of 4</span>, <span style=\"background-color:#d6eaf8;\">Friedrich Wilhelm Nietzsche: The Dawn of Day</span>, <span style=\"background-color:#fdebd0;\">Friedrich Nietzsche: Beyond Good and Evil</span>, <span style=\"background-color:#e5e8e8;\">David Hume: An Enquiry Concerning the Principles of Morals</span>, <span style=\"background-color:#d6eaf8;\">G. W. F. Hegel: The Philosophy of Fine Art, Volume 3 of 4</span>, <span style=\"background-color:#edebd0;\">Georg Wilhelm Hegel: The History of Philosophy: Volume 3 of 3</span>, <span style=\"background-color:#d6eaf8;\">Georg Wilhelm Hegel: Hegel's Lectures on the History of Philosophy: Vol. 1 of 3</span>, <span style=\"background-color:#fae5d3;\">William Wallace and G. W. F. Hegel: Prolegomena to the Study of Hegel's Philosophy</span>, <span style=\"background-color:#ebdef0;\">Søren Kierkegaard: Selections from the Writings of Kierkegaard</span>, <span style=\"background-color:#f6ddcc;\">G. W. F. Hegel: The Logic of Hegel</span>, <span style=\"background-color:#f6ddcc;\">Arthur Schopenhauer: On the Fourfold Root of the Principle of Sufficient Reason and On the Will in Nature: Two Essays (revised edition)</span>, <span style=\"background-color:#e5e8e8;\">David Hume: Philosophical Works, Vol. 1 of 4</span>, <span style=\"background-color:#d4e6e1;\">Immanuel Kant: The Critique of Pure Reason</span>, <span style=\"background-color:#d0ece7;\">Immanuel Kant: Fundamental Principles of the Metaphysic of Morals</span>, <span style=\"background-color:#eadbd8;\">Immanuel Kant: Kant's Prolegomena</span>, <span style=\"background-color:#fdebd0;\">David Hume: Philosophical Works, Vol. 2 of 4</span></p></small>"
            ],
            "text/plain": [
              "<IPython.core.display.HTML object>"
            ]
          },
          "metadata": {
            "tags": []
          }
        },
        {
          "output_type": "stream",
          "text": [
            "Epoch 2 Loss: 1.210 Precision: 0.632 Time/Sample: 0.002199 sec/sample\n",
            "Saved last model data, prec=0.632\n",
            "Profiling: data-loading: 0.60%, training: 95.35%, sample gen: 2.96%, snapshots: 1.26%, overhead: -0.16%\n",
            "Epoch 2 Loss: 1.208 Precision: 0.632 Time/Sample: 0.002198 sec/sample\n",
            "Saved last model data, prec=0.632\n",
            "Epoch 2 Loss: 1.206 Precision: 0.633 Time/Sample: 0.002204 sec/sample\n",
            "Saved last model data, prec=0.633\n"
          ],
          "name": "stdout"
        }
      ]
    },
    {
      "cell_type": "markdown",
      "metadata": {
        "colab_type": "text",
        "id": "-dsSPjPsUlpY"
      },
      "source": [
        "# 4. Text generation\n",
        "\n",
        "## 4.1 Sample generation"
      ]
    },
    {
      "cell_type": "code",
      "metadata": {
        "colab_type": "code",
        "id": "u-vHDcHupruq",
        "colab": {}
      },
      "source": [
        "load_checkpoint(filename=\"model_best.pth.tar\")"
      ],
      "execution_count": 0,
      "outputs": []
    },
    {
      "cell_type": "code",
      "metadata": {
        "colab_type": "code",
        "id": "wdpCtjvfUlpZ",
        "scrolled": true,
        "colab": {}
      },
      "source": [
        "def detectPlagiarism(generatedtext, textlibrary, minQuoteLength=10, display_ref_anchor=True):\n",
        "    textlibrary.source_highlight(generatedtext, minQuoteSize=minQuoteLength,dark_mode=use_dark_mode, display_ref_anchor=display_ref_anchor)"
      ],
      "execution_count": 0,
      "outputs": []
    },
    {
      "cell_type": "code",
      "metadata": {
        "colab_type": "code",
        "id": "oflaWxltsJd6",
        "colab": {}
      },
      "source": [
        "print(\"Sample text:\")\n",
        "print(\"\")\n",
        "for temperature in [0.2, 0.3, 0.4, 0.5, 0.6, 0.7, 0.8, 0.9, 1.0]:\n",
        "    tgen=poet.generate(1000,\"\\n\\n\", temperature=temperature)\n",
        "    print(f\"================Temperature: {temperature}==============\")\n",
        "    detectPlagiarism(tgen, textlib, display_ref_anchor=False)"
      ],
      "execution_count": 0,
      "outputs": []
    },
    {
      "cell_type": "markdown",
      "metadata": {
        "colab_type": "text",
        "id": "hjCd8CHLUlpd"
      },
      "source": [
        "## 4.2 Dialog with the model"
      ]
    },
    {
      "cell_type": "code",
      "metadata": {
        "colab_type": "code",
        "id": "pfiL1_64Ulpe",
        "colab": {}
      },
      "source": [
        "# Do a dialog with the recursive neural net trained above:\n",
        "def doDialog():\n",
        "    temperature = 0.6  # 0.1 (free-style chaos) - >1.0 (rigid, frozen)\n",
        "    endPrompt = '.'  # the endPrompt character is the end-mark in answers.\n",
        "    # maxEndPrompts = 4  # look for number of maxEndPrompts until answer is finished.\n",
        "    # maxAnswerSize = 2048  # Maximum length of the answer\n",
        "    # minAnswerSize = 64  # Minimum length of the answer\n",
        "\n",
        "    \n",
        "    print(\"Please enter some dialog.\")\n",
        "    print(\"The net will answer according to your input.\")\n",
        "    print(\"'bye' for end,\")\n",
        "    print(\"'reset' to reset the conversation context,\")\n",
        "    print(\"'temperature=<float>' [0.1(free, chaotic) - >1.0(strict, frozen)]\")\n",
        "    print(\"    to change character of the dialog.\")\n",
        "    # print(\"    Current temperature={}.\".format(temperature))\n",
        "    print()\n",
        "    xso = None\n",
        "    bye = False\n",
        "    last_ans=\"\"\n",
        "        \n",
        "    while not bye:\n",
        "        print(\"> \", end=\"\")\n",
        "        prompt = input()\n",
        "        if prompt == 'bye':\n",
        "            bye = True\n",
        "            print(\"Good bye!\")\n",
        "            continue\n",
        "        if prompt.find(\"temperature\")>=0 and prompt.find(\"=\") > prompt.find(\"temperature\"):\n",
        "            temperature=float(prompt[prompt.find('=')+1:])\n",
        "            print(f\"Temperature set to {temperature}\")\n",
        "            continue\n",
        "\n",
        "        prompt+=' '\n",
        "        for attempts in range(0,3):\n",
        "            tgen=poet.generate(2000,prompt,temperature=temperature)\n",
        "            # tgen=tgen.replace(\"Mr.\", \"Mr\")\n",
        "            # tgen=tgen.replace(\"Mrs.\", \"Mrs\")\n",
        "            # tgen=tgen.replace(\"\\n\",\" \")\n",
        "            # tgen=tgen.replace(\"  \",\" \")\n",
        "            tgi=tgen.split(\". \")\n",
        "            print(f\"{len(tgi)} sentences\")\n",
        "            if len(tgi)<2:\n",
        "                continue\n",
        "            ans=\"\"\n",
        "            for i in range(0,3):\n",
        "                ans += tgi[i]+\". \"\n",
        "            break\n",
        "            # i=tgen.find(endPrompt)\n",
        "            # i2=tgen[i+1:].find(endPrompt)+i\n",
        "            # i3=tgen[i2+1:].find(endPrompt)+i2\n",
        "            # i4=tgen[i3+1:].find(endPrompt)+i3\n",
        "            # tgen=tgen[i+1:i4+2]\n",
        "            # if len(tgen)>10:\n",
        "            #     break\n",
        "        last_ans=ans\n",
        "        textlib.source_highlight(last_ans, minQuoteSize=10,dark_mode=use_dark_mode,display_ref_anchor=False)\n",
        "    return"
      ],
      "execution_count": 0,
      "outputs": []
    },
    {
      "cell_type": "code",
      "metadata": {
        "colab_type": "code",
        "id": "8mGGsuFRUlpi",
        "scrolled": true,
        "colab": {}
      },
      "source": [
        "doDialog()"
      ],
      "execution_count": 0,
      "outputs": []
    },
    {
      "cell_type": "code",
      "metadata": {
        "colab_type": "code",
        "id": "eON9sYdz_1lh",
        "colab": {}
      },
      "source": [
        ""
      ],
      "execution_count": 0,
      "outputs": []
    }
  ]
}