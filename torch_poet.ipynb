{
 "cells": [
  {
   "cell_type": "markdown",
   "metadata": {
    "colab_type": "text",
    "id": "view-in-github"
   },
   "source": [
    "<a href=\"https://colab.research.google.com/github/domschl/torch-poet/blob/master/torch_poet.ipynb\" target=\"_parent\"><img src=\"https://colab.research.google.com/assets/colab-badge.svg\" alt=\"Open In Colab\"/></a>"
   ]
  },
  {
   "cell_type": "code",
   "execution_count": 1,
   "metadata": {
    "colab": {},
    "colab_type": "code",
    "id": "28i44jSzUlon"
   },
   "outputs": [],
   "source": [
    "import numpy as np\n",
    "import os\n",
    "import shutil\n",
    "import sys\n",
    "import json\n",
    "import random\n",
    "import torch\n",
    "import torch.nn as nn\n",
    "from torch import Tensor\n",
    "\n",
    "try:\n",
    "    from urllib.request import urlopen  # Py3\n",
    "except:\n",
    "    print(\"This notebook requires Python 3.\")\n",
    "try:\n",
    "    import pathlib\n",
    "except:\n",
    "    print(\"At least python 3.5 is needed.\")\n",
    "    \n",
    "try: # Colab instance?\n",
    "    from google.colab import drive\n",
    "except: # Not? ignore.\n",
    "    pass\n",
    "\n",
    "from IPython.core.display import display, HTML"
   ]
  },
  {
   "cell_type": "markdown",
   "metadata": {
    "colab_type": "text",
    "id": "eE-jm072kOKv"
   },
   "source": [
    "# 0. System configuration\n",
    "\n",
    "This notebook can either run on a local jupyter server, or on google cloud.\n",
    "If a GPU is available, it will be used for training (if `force_cpu` is not set to `True`).\n",
    "\n",
    "By default snapshots of the trained net are stored locally for jupyter instances, and on user's google drive for Google Colab instances. The snapshots allow the restart of training or inference at any time, e.g. after the Colab session was terminated.\n",
    "\n",
    "Similarily, the text corpora that are used for training, can be cached on drive or locally."
   ]
  },
  {
   "cell_type": "code",
   "execution_count": 2,
   "metadata": {
    "colab": {},
    "colab_type": "code",
    "id": "HVyGr-BCiJlR"
   },
   "outputs": [],
   "source": [
    "# force_cpu=True: use CPU for training, even if a GPU is available.\n",
    "#    Note: inference uses CPU always, because that is faster.\n",
    "force_cpu=False\n",
    "\n",
    "# Define where snapshots of training data are stored:\n",
    "colab_google_drive_snapshots=True\n",
    "# local_jupyter_google_drive_snapshots=False   # TBD\n",
    "\n",
    "# Define where training data (the texts downloaded from internet) are cached:\n",
    "# TBD:\n",
    "# colab_google_drive_data_cache=True\n",
    "# local_jupyter_google_drive_data_cache=False"
   ]
  },
  {
   "cell_type": "code",
   "execution_count": 3,
   "metadata": {
    "colab": {},
    "colab_type": "code",
    "id": "HVyGr-BCiJlR"
   },
   "outputs": [
    {
     "name": "stdout",
     "output_type": "stream",
     "text": [
      "PyTorch 1.4.0, running on GPU\n"
     ]
    }
   ],
   "source": [
    "is_colab_notebook = 'google.colab' in sys.modules\n",
    "torch_version = torch.__version__\n",
    "\n",
    "if torch.cuda.is_available() and force_cpu is not True:\n",
    "    device='cuda'\n",
    "    use_cuda = True\n",
    "    print(f\"PyTorch {torch_version}, running on GPU\")\n",
    "    if is_colab_notebook:\n",
    "        card = !nvidia-smi\n",
    "        if len(card)>=8:\n",
    "            try:\n",
    "                gpu_type=card[7][6:25]\n",
    "                gpu_memory=card[8][33:54]\n",
    "                print(f\"Colab GPU: {gpu_type}, GPU Memory: {gpu_memory}\")\n",
    "            except Exception as e:\n",
    "                pass\n",
    "else:\n",
    "    device='cpu'\n",
    "    use_cuda = False\n",
    "    print(f\"{torch_version}, running on CPU\")\n",
    "    if colab_notebook:\n",
    "        print(\"Note: on Google Colab, make sure to select:\")\n",
    "        print(\"      Runtime / Change Runtime Type / Hardware accelerator: GPU\")"
   ]
  },
  {
   "cell_type": "code",
   "execution_count": 4,
   "metadata": {},
   "outputs": [],
   "source": [
    "if is_colab_notebook:\n",
    "    if colab_google_drive_snapshots:\n",
    "        mountpoint='/content/drive'\n",
    "        root_path='/content/drive/My Drive'\n",
    "        if not os.path.exists(save_path):\n",
    "            drive.mount(mountpoint)\n",
    "        if not os.path.exists(root_path):\n",
    "            print(\"Something went wrong with Google Drive access. Cannot save snapshots to GD.\")\n",
    "            colab_google_drive_snapshots=False\n",
    "    else:\n",
    "        print(\"Since google drive snapshots are not active, training data will be lost as soon as the Colab session terminates!\")\n",
    "        print(\"Set `colab_google_drive_snapshots` to `True` to make training data persistent.\")\n",
    "else:\n",
    "    root_path='.'\n",
    "\n",
    "if is_colab_notebook:\n",
    "    if colab_google_drive_snapshots is True:\n",
    "        snapshot_path=os.path.join(root_path,'Colab Notebooks/Snapshots')\n",
    "    else:\n",
    "        snapshot_path=None\n",
    "else:\n",
    "    snapshot_path=os.path.join(root_path,'Snapshots')\n",
    "\n",
    "if snapshot_path is not None:\n",
    "    pathlib.Path(snapshot_path).mkdir(parents=True, exist_ok=True)"
   ]
  },
  {
   "cell_type": "markdown",
   "metadata": {
    "colab_type": "text",
    "id": "JoutSg5IUlot"
   },
   "source": [
    "# 1. Text data collection\n",
    "\n",
    "## 1.1 Text library\n",
    "\n",
    "`TextLibrary` class: text library for training, encoding, batch generation,\n",
    "and formatted source display. It read some books from Project Gutenberg\n",
    "and supports creation of training batches. The output functions support\n",
    "highlighting to allow to compare generated texts with the actual sources\n",
    "to help to identify identical (memorized) parts of a given length."
   ]
  },
  {
   "cell_type": "code",
   "execution_count": 21,
   "metadata": {},
   "outputs": [],
   "source": [
    "use_dark_mode=True  # Set to false for white background"
   ]
  },
  {
   "cell_type": "code",
   "execution_count": 41,
   "metadata": {
    "colab": {},
    "colab_type": "code",
    "id": "7pMoAJ-SVDm2"
   },
   "outputs": [],
   "source": [
    "class TextLibrary:\n",
    "    def __init__(self, descriptors, max=100000000):\n",
    "        self.descriptors = descriptors\n",
    "        self.data = ''\n",
    "        self.files = []\n",
    "        self.c2i = {}\n",
    "        self.i2c = {}\n",
    "        index = 1\n",
    "        for descriptor, name in descriptors:\n",
    "            fd = {}\n",
    "            if descriptor[:4] == 'http':\n",
    "                try:\n",
    "                    dat = urlopen(descriptor).read().decode('utf-8')\n",
    "                    if dat[0]=='\\ufeff':  # Ignore BOM\n",
    "                        dat=dat[1:]\n",
    "                    self.data += dat\n",
    "                    fd[\"name\"] = name\n",
    "                    fd[\"data\"] = dat\n",
    "                    fd[\"index\"] = index\n",
    "                    index += 1\n",
    "                    self.files.append(fd)\n",
    "                except Exception as e:\n",
    "                    print(f\"Can't download {descriptor}: {e}\")\n",
    "            else:\n",
    "                fd[\"name\"] = name\n",
    "                try:\n",
    "                    f = open(descriptor)\n",
    "                    dat = f.read(max)\n",
    "                    self.data += dat\n",
    "                    fd[\"data\"] = dat\n",
    "                    fd[\"index\"] = index\n",
    "                    index += 1\n",
    "                    self.files.append(fd)\n",
    "                    f.close()\n",
    "                except Exception as e:\n",
    "                    print(f\"ERROR: Cannot read: {filename}: {e}\")\n",
    "        ind = 0\n",
    "        for c in self.data:  # sets are not deterministic\n",
    "            if c not in self.c2i:\n",
    "                self.c2i[c] = ind\n",
    "                self.i2c[ind] = c\n",
    "                ind += 1\n",
    "        self.ptr = 0\n",
    "\n",
    "    def display_colored_html(self, textlist, dark_mode=False, pre='', post=''):\n",
    "        bgcolorsWht = ['#d4e6e1', '#d8daef', '#ebdef0', '#eadbd8', '#e2d7d5', '#edebd0',\n",
    "                    '#ecf3cf', '#d4efdf', '#d0ece7', '#d6eaf8', '#d4e6f1', '#d6dbdf',\n",
    "                    '#f6ddcc', '#fae5d3', '#fdebd0', '#e5e8e8', '#eaeded', '#A9CCE3']\n",
    "        bgcolorsDrk = ['#342621','#483a2f', '#3b4e20', '#2a3b48', '#324745', '#3d3b30',\n",
    "                    '#3c235f', '#443f4f', '#403c37', '#463a28', '#443621', '#364b5f',\n",
    "                    '#264d4c', '#2a3553', '#3d2b40', '#354838', '#3a3d4d', '#594C23']\n",
    "        if dark_mode is False:\n",
    "            bgcolors=bgcolorsWht\n",
    "        else:\n",
    "            bgcolors=bgcolorsDrk\n",
    "        out = ''\n",
    "        for txt, ind in textlist:\n",
    "            txt = txt.replace('\\n', '<br>')\n",
    "            if ind == 0:\n",
    "                out += txt\n",
    "            else:\n",
    "                out += \"<span style=\\\"background-color:\"+bgcolors[ind % 16]+\";\\\">\" + \\\n",
    "                       txt + \"</span>\"+\"<sup>[\" + str(ind) + \"]</sup>\"\n",
    "        display(HTML(pre+out+post))\n",
    "\n",
    "    def source_highlight(self, txt, minQuoteSize=10, dark_mode=False):\n",
    "        tx = txt\n",
    "        out = []\n",
    "        qts = []\n",
    "        txsrc = [(\"Sources: \", 0)]\n",
    "        sc = False\n",
    "        noquote = ''\n",
    "        while len(tx) > 0:  # search all library files for quote 'txt'\n",
    "            mxQ = 0\n",
    "            mxI = 0\n",
    "            mxN = ''\n",
    "            found = False\n",
    "            for f in self.files:  # find longest quote in all texts\n",
    "                p = minQuoteSize\n",
    "                if p <= len(tx) and tx[:p] in f[\"data\"]:\n",
    "                    p = minQuoteSize + 1\n",
    "                    while p <= len(tx) and tx[:p] in f[\"data\"]:\n",
    "                        p += 1\n",
    "                    if p-1 > mxQ:\n",
    "                        mxQ = p-1\n",
    "                        mxI = f[\"index\"]\n",
    "                        mxN = f[\"name\"]\n",
    "                        found = True\n",
    "            if found:  # save longest quote for colorizing\n",
    "                if len(noquote) > 0:\n",
    "                    out.append((noquote, 0))\n",
    "                    noquote = ''\n",
    "                out.append((tx[:mxQ], mxI))\n",
    "                tx = tx[mxQ:]\n",
    "                if mxI not in qts:  # create a new reference, if first occurence\n",
    "                    qts.append(mxI)\n",
    "                    if sc:\n",
    "                        txsrc.append((\", \", 0))\n",
    "                    sc = True\n",
    "                    txsrc.append((mxN, mxI))\n",
    "            else:\n",
    "                noquote += tx[0]\n",
    "                tx = tx[1:]\n",
    "        if len(noquote) > 0:\n",
    "            out.append((noquote, 0))\n",
    "            noquote = ''\n",
    "        self.display_colored_html(out, dark_mode=dark_mode)\n",
    "        if len(qts) > 0:  # print references, if there is at least one source\n",
    "            self.display_colored_html(txsrc, dark_mode=dark_mode, pre=\"<small><p style=\\\"text-align:right;\\\">\",\n",
    "                                     post=\"</p></small>\")\n",
    "\n",
    "    def get_slice(self, length):\n",
    "        if (self.ptr + length >= len(self.data)):\n",
    "            self.ptr = 0\n",
    "        if self.ptr == 0:\n",
    "            rst = True\n",
    "        else:\n",
    "            rst = False\n",
    "        sl = self.data[self.ptr:self.ptr+length]\n",
    "        self.ptr += length\n",
    "        return sl, rst\n",
    "\n",
    "    def decode(self, ar):\n",
    "        return ''.join([self.i2c[ic] for ic in ar])\n",
    "\n",
    "    def get_random_slice(self, length):\n",
    "        p = random.randrange(0, len(self.data)-length)\n",
    "        sl = self.data[p:p+length]\n",
    "        return sl\n",
    "\n",
    "    def get_slice_array(self, length):\n",
    "        ar = np.array([c for c in self.get_slice(length)[0]])\n",
    "        return ar\n",
    "\n",
    "    def get_encoded_slice(self, length):\n",
    "        s, rst = self.get_slice(length)\n",
    "        X = [self.c2i[c] for c in s]\n",
    "        return X\n",
    "        \n",
    "    def get_encoded_slice_array(self, length):\n",
    "        return np.array(self.get_encoded_slice(length))\n",
    "\n",
    "    def get_sample(self, length):\n",
    "        s, rst = self.get_slice(length+1)\n",
    "        X = [self.c2i[c] for c in s[:-1]]\n",
    "        y = [self.c2i[c] for c in s[1:]]\n",
    "        return (X, y, rst)\n",
    "\n",
    "    def get_random_sample(self, length):\n",
    "        s = self.get_random_slice(length+1)\n",
    "        X = [self.c2i[c] for c in s[:-1]]\n",
    "        y = [self.c2i[c] for c in s[1:]]\n",
    "        return (X, y)\n",
    "\n",
    "    def get_sample_batch(self, batch_size, length):\n",
    "        smpX = []\n",
    "        smpy = []\n",
    "        for i in range(batch_size):\n",
    "            Xi, yi, rst = self.get_sample(length)\n",
    "            smpX.append(Xi)\n",
    "            smpy.append(yi)\n",
    "        return smpX, smpy, rst\n",
    "\n",
    "    def get_random_sample_batch(self, batch_size, length):\n",
    "        smpX = []\n",
    "        smpy = []\n",
    "        for i in range(batch_size):\n",
    "            Xi, yi = self.get_random_sample(length)\n",
    "            smpX.append(Xi)\n",
    "            smpy.append(yi)\n",
    "        return np.array(smpX), np.array(smpy)"
   ]
  },
  {
   "cell_type": "markdown",
   "metadata": {
    "colab_type": "text",
    "id": "JcMGC5KDUloz"
   },
   "source": [
    "## 1.2 Data sources\n",
    "\n"
   ]
  },
  {
   "cell_type": "code",
   "execution_count": 32,
   "metadata": {
    "colab": {},
    "colab_type": "code",
    "id": "zmUwv47UVA7r"
   },
   "outputs": [],
   "source": [
    "libdesc = {\n",
    "    \"name\": \"Woman Writers\",\n",
    "    \"description\": \"A collection of works of Woolf, Austen and Brontë\",\n",
    "    \"lib\": [\n",
    "        # 'data/tiny-shakespeare.txt',\n",
    "        # since project gutenberg blocks the entire country of Germany, we use a mirror:\n",
    "        # ('http://www.mirrorservice.org/sites/ftp.ibiblio.org/pub/docs/books/gutenberg/1/0/100/100-0.txt', \"Shakespeare: Collected Works\"\n",
    "        #  Project Gutenberg: Pride and Prejudice_ by Jane Austen, Wuthering Heights by Emily Brontë, The Voyage Out by Virginia Woolf and Emma_by Jane Austen\n",
    "        ('http://www.mirrorservice.org/sites/ftp.ibiblio.org/pub/docs/books/gutenberg/3/7/4/3/37431/37431.txt', \"Jane Austen: Pride and Prejudice\"),\n",
    "        ('http://www.mirrorservice.org/sites/ftp.ibiblio.org/pub/docs/books/gutenberg/7/6/768/768.txt', \"Emily Brontë: Wuthering Heights\"),         \n",
    "        ('http://www.mirrorservice.org/sites/ftp.ibiblio.org/pub/docs/books/gutenberg/1/4/144/144.txt', \"Virginia Wolf: Voyage out\"),\n",
    "        ('http://www.mirrorservice.org/sites/ftp.ibiblio.org/pub/docs/books/gutenberg/1/5/158/158.txt', \"Jane Austen: Emma\")\n",
    "    ]\n",
    "}\n",
    "\n",
    "textlib = TextLibrary(libdesc[\"lib\"])"
   ]
  },
  {
   "cell_type": "markdown",
   "metadata": {
    "colab_type": "text",
    "id": "zP0Hcs82lWYI"
   },
   "source": [
    "# 2. The deep LSTM model\n",
    "\n",
    "# 2.1 Model configuration parameters"
   ]
  },
  {
   "cell_type": "code",
   "execution_count": 33,
   "metadata": {
    "colab": {},
    "colab_type": "code",
    "id": "EEM7Y3GxUlo0"
   },
   "outputs": [],
   "source": [
    "model_params = {\n",
    "    \"model_name\": \"WomenWriters\",\n",
    "    \"vocab_size\": len(textlib.i2c),\n",
    "    \"neurons\": 256,\n",
    "    \"layers\": 2,\n",
    "    \"learning_rate\": 1.e-3,\n",
    "    \"steps\": 80,\n",
    "    \"batch_size\": 128\n",
    "}"
   ]
  },
  {
   "cell_type": "code",
   "execution_count": 34,
   "metadata": {
    "colab": {},
    "colab_type": "code",
    "id": "R7Ya3QVPUlo8"
   },
   "outputs": [],
   "source": [
    "batch_size = model_params['batch_size']\n",
    "vocab_size = model_params['vocab_size']\n",
    "steps = model_params['steps']"
   ]
  },
  {
   "cell_type": "markdown",
   "metadata": {
    "colab_type": "text",
    "id": "m_JWmbgPUlpG"
   },
   "source": [
    "## 2.2 The char-rnn model class"
   ]
  },
  {
   "cell_type": "code",
   "execution_count": 35,
   "metadata": {
    "colab": {},
    "colab_type": "code",
    "id": "NcsP8OYlUlpH"
   },
   "outputs": [],
   "source": [
    "class Poet(nn.Module):\n",
    "    def __init__(self, input_size, hidden_size, num_layers, output_size, device):\n",
    "        super(Poet, self).__init__()\n",
    "        \n",
    "        self.hidden_size = hidden_size\n",
    "        self.num_layers = num_layers\n",
    "        self.output_size = output_size\n",
    "        self.device=device\n",
    "        \n",
    "        self.lstm = nn.LSTM(input_size=input_size, hidden_size=hidden_size, num_layers=num_layers, batch_first=True, dropout=0)\n",
    "        \n",
    "        self.demb = nn.Linear(hidden_size, output_size)\n",
    "        self.softmax = nn.Softmax(dim=-1)  # negative dims are a recent thing (as 2018-03), remove for old vers.\n",
    "    \n",
    "    def init_hidden(self, batch_size):\n",
    "        self.h0 = torch.zeros(self.num_layers, batch_size, self.hidden_size, device=self.device)\n",
    "        self.c0 = torch.zeros(self.num_layers, batch_size, self.hidden_size, device=self.device)\n",
    "\n",
    "    def forward(self, inputx, steps):\n",
    "        self.lstm.flatten_parameters()\n",
    "        hn, (self.h0, self.c0) = self.lstm(inputx.to(self.device), (self.h0, self.c0))\n",
    "        hnr = hn.contiguous().view(-1,self.hidden_size)\n",
    "        op = self.demb(hnr)\n",
    "        opr = op.view(-1, steps ,self.output_size)\n",
    "        return opr\n",
    "\n",
    "    def generate(self, n, start=None):\n",
    "        s=''\n",
    "        torch.set_grad_enabled(False)\n",
    "        if start==None or len(start)==0:\n",
    "            start=' '\n",
    "        self.init_hidden(1)\n",
    "        for c in start:\n",
    "            X=np.array([[textlib.c2i[c]]])\n",
    "            Xo=one_hot(X,self.output_size)\n",
    "            Xt = Tensor(torch.from_numpy(np.array(Xo,dtype=np.float32))).to(self.device)\n",
    "            ypl = self.forward(Xt,1)\n",
    "            ypl2 = ypl.view(-1,self.output_size)\n",
    "            yp = self.softmax(ypl2)\n",
    "        for i in range(n):\n",
    "            ypc=Tensor.cpu(yp.detach()) # .cpu()\n",
    "            y_pred=ypc.numpy()\n",
    "            inds=list(range(self.output_size))\n",
    "            ind = np.random.choice(inds, p=y_pred.ravel())\n",
    "            s=s+textlib.i2c[ind]\n",
    "            X=np.array([[ind]])\n",
    "            Xo=one_hot(X,self.output_size)\n",
    "            Xt = Tensor(torch.from_numpy(np.array(Xo,dtype=np.float32))).to(self.device)\n",
    "            ypl = self.forward(Xt,1)\n",
    "            ypl2 = ypl.view(-1,self.output_size)\n",
    "            yp = self.softmax(ypl2)\n",
    "        torch.set_grad_enabled(True)\n",
    "        return s    "
   ]
  },
  {
   "cell_type": "markdown",
   "metadata": {
    "colab_type": "text",
    "id": "ymdU_wIWUlpK"
   },
   "source": [
    "## 2.3 Model instance"
   ]
  },
  {
   "cell_type": "code",
   "execution_count": 36,
   "metadata": {
    "colab": {},
    "colab_type": "code",
    "id": "L7WuQ142UlpL"
   },
   "outputs": [],
   "source": [
    "poet = Poet(vocab_size, model_params['neurons'], model_params['layers'], vocab_size, device).to(device)"
   ]
  },
  {
   "cell_type": "markdown",
   "metadata": {
    "colab_type": "text",
    "id": "FJp6Sjw6UlpP"
   },
   "source": [
    "## 2.4 Optimizer"
   ]
  },
  {
   "cell_type": "code",
   "execution_count": 11,
   "metadata": {
    "colab": {},
    "colab_type": "code",
    "id": "aeFxMxyuUlpQ"
   },
   "outputs": [],
   "source": [
    "criterion = nn.CrossEntropyLoss()\n",
    "learning_rate = model_params['learning_rate']\n",
    "\n",
    "opti = torch.optim.Adam(poet.parameters(),lr=learning_rate);"
   ]
  },
  {
   "cell_type": "markdown",
   "metadata": {
    "colab_type": "text",
    "id": "XtKdvxNymXpM"
   },
   "source": [
    "## 2.5 Helper Functions\n",
    "\n",
    "These allow to save or restore the training data. Saving and restoring can either be performed:\n",
    "\n",
    "* Jupyter: store/restore in a local directory,\n",
    "* Colab: store/restore on google drive. The training-code (using load_checkpoint()) will display an authentication url and code input-box in order to be able to access your google drive from this notebook. This allows to continue training sessions (or inference) after the Colab session was terminated."
   ]
  },
  {
   "cell_type": "code",
   "execution_count": 12,
   "metadata": {
    "colab": {},
    "colab_type": "code",
    "id": "BfmdQ6zCMy2L"
   },
   "outputs": [],
   "source": [
    "best_pr=0.0\n",
    "\n",
    "def get_project_path():\n",
    "    if snapshot_path is None:\n",
    "        return None\n",
    "    project_path_ext=f\"{model_params['model_name']}/model-{model_params['vocab_size']}x{model_params['steps']}x{model_params['layers']}x{model_params['neurons']}\"\n",
    "    return os.path.join(snapshot_path, project_path_ext)\n",
    "\n",
    "def create_project_path():\n",
    "    if snapshot_path is None:\n",
    "        return None\n",
    "    ppath=get_project_path()\n",
    "    pathlib.Path(ppath).mkdir(parents=True, exist_ok=True)\n",
    "\n",
    "def save_checkpoint(epoch, loss, pr, filename='checkpoint.pth.tar'):\n",
    "    if snapshot_path is None:\n",
    "        return\n",
    "    global best_pr\n",
    "    state={\n",
    "            'epoch': epoch,\n",
    "            'model_config': model_params,\n",
    "            'state_dict': poet.state_dict(),\n",
    "            'optimizer' : opti.state_dict(),\n",
    "            'precision': pr,\n",
    "            'loss': loss,\n",
    "        }\n",
    "    project_path=get_project_path()\n",
    "    save_file=os.path.join(project_path,filename)\n",
    "    best_file=os.path.join(project_path,'model_best.pth.tar')\n",
    "    torch.save(state, save_file)\n",
    "    if pr>best_pr:\n",
    "        best_pr=pr\n",
    "        shutil.copyfile(save_file, best_file )\n",
    "        print(f\"Saved best precision model, prec={pr}\")\n",
    "    else:\n",
    "        print(f\"saved last model data, prec={pr}\")\n",
    "\n",
    "def load_checkpoint(filename='checkpoint.pth.tar'):\n",
    "    if snapshot_path is None:\n",
    "        return 0,0\n",
    "    project_path=get_project_path()\n",
    "    load_file=os.path.join(project_path,filename)\n",
    "    if not os.path.exists(load_file):\n",
    "        print(load_file)\n",
    "        print(\"No saved state, starting from scratch.\")\n",
    "        return 0,0\n",
    "    state=torch.load(load_file)\n",
    "    mod_conf = state['model_config']\n",
    "    if model_params!=mod_conf:\n",
    "        print(f\"The saved model has a different configuration than the current model: {mod_conf} vs. {model_params}\")\n",
    "        print(\"Cannot restore state, starting from scratch.\")\n",
    "        return 0,0\n",
    "    poet.load_state_dict(state['state_dict'])\n",
    "    opti.load_state_dict(state['optimizer'])\n",
    "    epoch = state['epoch']\n",
    "    loss = state['loss']\n",
    "    best_pr = state['precision']\n",
    "    print(f\"Continuing from saved state epoch={epoch}, loss={loss}\")  # Save is not necessarily on epoch boundary, so that's approx.\n",
    "    return epoch,loss\n",
    "\n",
    "def one_hot(p, dim):\n",
    "    o=np.zeros(p.shape+(dim,), dtype=int)\n",
    "    for y in range(p.shape[0]):\n",
    "        for x in range(p.shape[1]):\n",
    "            o[y,x,p[y,x]]=1\n",
    "    return o"
   ]
  },
  {
   "cell_type": "markdown",
   "metadata": {
    "colab_type": "text",
    "id": "a_-ISha4nqhy"
   },
   "source": [
    "# 3. Training\n",
    "\n",
    "If there is already saved training data, this step is optional, and alternatively, ch. 4 can be continued."
   ]
  },
  {
   "cell_type": "markdown",
   "metadata": {
    "colab_type": "text",
    "id": "9KDRpEm0n7B-"
   },
   "source": [
    "## 3.1 Training helpers"
   ]
  },
  {
   "cell_type": "code",
   "execution_count": 13,
   "metadata": {
    "colab": {},
    "colab_type": "code",
    "id": "_pZlsZ1Pnm5Z"
   },
   "outputs": [],
   "source": [
    "def get_data():\n",
    "    X, y=textlib.get_random_sample_batch(batch_size, steps)\n",
    "    Xo = one_hot(X, vocab_size)\n",
    "    \n",
    "    # Xt = Tensor(torch.from_numpy(np.array(Xo,dtype=np.float32)), requires_grad=False, dtype=torch.float32, device=device)\n",
    "    # yt = Tensor(torch.from_numpy(y), requires_grad=False, dtype=torch.int32, device=device)\n",
    "    Xt = Tensor(torch.from_numpy(np.array(Xo,dtype=np.float32))).to(device)\n",
    "    Xt.requires_grad_(False)\n",
    "    yt = torch.LongTensor(torch.from_numpy(np.array(y,dtype=np.int64))).to(device)\n",
    "    yt.requires_grad_(False)\n",
    "    return Xt, yt\n",
    "\n",
    "def train(Xt, yt, bPr=False):\n",
    "    poet.zero_grad()\n",
    "\n",
    "    poet.init_hidden(Xt.size(0))\n",
    "    output = poet(Xt, steps)\n",
    "    \n",
    "    olin=output.view(-1,vocab_size)\n",
    "    _, ytp=torch.max(olin,1)\n",
    "    ytlin=yt.view(-1)\n",
    "\n",
    "    pr=0.0\n",
    "    if bPr: # Calculate precision\n",
    "        ok=0\n",
    "        nok=0\n",
    "        for i in range(ytlin.size()[0]):\n",
    "            i1=ytlin[i].item()\n",
    "            i2=ytp[i].item()\n",
    "            if i1==i2:\n",
    "                ok = ok + 1\n",
    "            else:\n",
    "                nok = nok+1\n",
    "            pr=ok/(ok+nok)\n",
    "            \n",
    "    loss = criterion(olin, ytlin)\n",
    "    ls = loss.item()\n",
    "    loss.backward()\n",
    "    opti.step()\n",
    "\n",
    "    return ls, pr"
   ]
  },
  {
   "cell_type": "markdown",
   "metadata": {
    "colab_type": "text",
    "id": "KC36hNRKUlpU"
   },
   "source": [
    "## 3.2 The actual training loop"
   ]
  },
  {
   "cell_type": "code",
   "execution_count": 37,
   "metadata": {
    "colab": {},
    "colab_type": "code",
    "id": "q9-3GUQ4UlpV",
    "scrolled": true
   },
   "outputs": [
    {
     "name": "stdout",
     "output_type": "stream",
     "text": [
      "Continuing from saved state epoch=106749, loss=0.8946691751480103\n",
      "Epoch 106750 Loss: 0.8823402523994446 Precision: 0.7236328125\n",
      "saved last model data, prec=0.7236328125\n",
      "Memory allocated: 25961472 max_alloc: 199010304 cached: 239075328 max_cached: 239075328\n"
     ]
    },
    {
     "data": {
      "text/html": [
       "<span style=\"background-color:#282a1f;\">the horses </span><sup>[1]</sup>her<span style=\"background-color:#122725;\">e. You will </span><sup>[4]</sup><span style=\"background-color:#1b2e00;\">like her to</span><sup>[2]</sup><span style=\"background-color:#1b2e00;\"> inquire into the </span><sup>[2]</sup>state la<span style=\"background-color:#1a2b28;\">st\r",
       "<br>people </span><sup>[3]</sup><span style=\"background-color:#1a2b28;\">seemed to be o</span><sup>[3]</sup><span style=\"background-color:#1a2b28;\">ne which sh</span><sup>[3]</sup>e had ill<span style=\"background-color:#1b2e00;\"> at every t</span><sup>[2]</sup><span style=\"background-color:#122725;\">hing that l</span><sup>[4]</sup>ittle\r",
       "<br>head<span style=\"background-color:#122725;\">! What has </span><sup>[4]</sup>been don<span style=\"background-color:#122725;\">e! There was </span><sup>[4]</sup>no we<span style=\"background-color:#122725;\">ll be with </span><sup>[4]</sup>Hareton Lucas. Indeep to my p<span style=\"background-color:#1b2e00;\">ress, for </span><sup>[2]</sup><span style=\"background-color:#1a2b28;\">the advantage of s</span><sup>[3]</sup>an<span style=\"background-color:#1b2e00;\">ctions and</span><sup>[2]</sup>\r",
       "<br>respired me and i<span style=\"background-color:#122725;\">ll.\r",
       "<br>\r",
       "<br>The </span><sup>[4]</sup>un<span style=\"background-color:#1a2b28;\">ion was dis</span><sup>[3]</sup>turb<span style=\"background-color:#282a1f;\">ed to death</span><sup>[1]</sup><span style=\"background-color:#122725;\"> directly from </span><sup>[4]</sup><span style=\"background-color:#122725;\">what self-</span><sup>[4]</sup><span style=\"background-color:#122725;\">approbation a</span><sup>[4]</sup> fair gate<span style=\"background-color:#1b2e00;\">, at the\r",
       "<br></span><sup>[2]</sup>spoil<span style=\"background-color:#1b2e00;\">s she must be </span><sup>[2]</sup><span style=\"background-color:#1a2b28;\">very clear an</span><sup>[3]</sup><span style=\"background-color:#1a2b28;\"> end to the </span><sup>[3]</sup>law<span style=\"background-color:#1a2b28;\"> yellow, and</span><sup>[3]</sup><span style=\"background-color:#1a2b28;\">\r",
       "<br>turning i</span><sup>[3]</sup><span style=\"background-color:#1a2b28;\">n an arch </span><sup>[3]</sup><span style=\"background-color:#122725;\">of the name of </span><sup>[4]</sup>Lilton in<span style=\"background-color:#282a1f;\"> Project Gutenberg-tm </span><sup>[1]</sup>"
      ],
      "text/plain": [
       "<IPython.core.display.HTML object>"
      ]
     },
     "metadata": {},
     "output_type": "display_data"
    },
    {
     "data": {
      "text/html": [
       "<small><p style=\"text-align:right;\">Sources: <span style=\"background-color:#282a1f;\">Jane Austen: Pride and Prejudice</span><sup>[1]</sup>, <span style=\"background-color:#122725;\">Jane Austen: Emma</span><sup>[4]</sup>, <span style=\"background-color:#1b2e00;\">Emily Brontë: Wuthering Heights</span><sup>[2]</sup>, <span style=\"background-color:#1a2b28;\">Virginia Wolf: Voyage out</span><sup>[3]</sup></p></small>"
      ],
      "text/plain": [
       "<IPython.core.display.HTML object>"
      ]
     },
     "metadata": {},
     "output_type": "display_data"
    },
    {
     "name": "stdout",
     "output_type": "stream",
     "text": [
      "Epoch 107000 Loss: 0.8908983616828918 Precision: 0.72255859375\n",
      "saved last model data, prec=0.72255859375\n",
      "Memory allocated: 26080256 max_alloc: 202655744 cached: 239075328 max_cached: 239075328\n"
     ]
    },
    {
     "data": {
      "text/html": [
       "and I joil<span style=\"background-color:#1a2b28;\">s rather b</span><sup>[3]</sup><span style=\"background-color:#122725;\">usiness, o</span><sup>[4]</sup><span style=\"background-color:#1a2b28;\">r when they were</span><sup>[3]</sup><span style=\"background-color:#1a2b28;\"> so used to </span><sup>[3]</sup><span style=\"background-color:#122725;\">have a greater</span><sup>[4]</sup>\r",
       "<br><span style=\"background-color:#1b2e00;\">admission </span><sup>[2]</sup><span style=\"background-color:#1b2e00;\">for his de</span><sup>[2]</sup>f<span style=\"background-color:#1a2b28;\">. We were </span><sup>[3]</sup><span style=\"background-color:#1b2e00;\">inclined to s</span><sup>[2]</sup><span style=\"background-color:#1b2e00;\">upply the </span><sup>[2]</sup>f<span style=\"background-color:#1a2b28;\">irst clear</span><sup>[3]</sup>ly woman bath<span style=\"background-color:#1a2b28;\">. \"That's not</span><sup>[3]</sup><span style=\"background-color:#122725;\"> the\r",
       "<br>favour</span><sup>[4]</sup><span style=\"background-color:#1a2b28;\">; indeed, </span><sup>[3]</sup>your ar<span style=\"background-color:#122725;\">m, provided</span><sup>[4]</sup><span style=\"background-color:#1b2e00;\">!'\r",
       "<br>\r",
       "<br>'And that</span><sup>[2]</sup><span style=\"background-color:#282a1f;\"> young men</span><sup>[1]</sup>ag<span style=\"background-color:#122725;\">e inclination t</span><sup>[4]</sup><span style=\"background-color:#1a2b28;\">han you do</span><sup>[3]</sup><span style=\"background-color:#1b2e00;\">.'\r",
       "<br>\r",
       "<br>'Oh, </span><sup>[2]</sup>my dear<span style=\"background-color:#282a1f;\">, Jane, I </span><sup>[1]</sup><span style=\"background-color:#282a1f;\">must let me he</span><sup>[1]</sup>ve a few incalm<span style=\"background-color:#122725;\">ed. But I </span><sup>[4]</sup><span style=\"background-color:#1b2e00;\">don't think it </span><sup>[2]</sup><span style=\"background-color:#282a1f;\">an excellent f</span><sup>[1]</sup>ri<span style=\"background-color:#282a1f;\">end on her\r",
       "<br></span><sup>[1]</sup><span style=\"background-color:#1a2b28;\">than she was </span><sup>[3]</sup>not lak<span style=\"background-color:#1b2e00;\">e very name </span><sup>[2]</sup><span style=\"background-color:#1b2e00;\">and selfishness o</span><sup>[2]</sup>'<span style=\"background-color:#122725;\"> much sign</span><sup>[4]</sup>efied.'<span style=\"background-color:#1a2b28;\">\r",
       "<br>\r",
       "<br>\"But you d</span><sup>[3]</sup>ar<span style=\"background-color:#122725;\">e made her ha</span><sup>[4]</sup><span style=\"background-color:#122725;\">ve to have</span><sup>[4]</sup>.--Po<span style=\"background-color:#1a2b28;\">or Clarissa</span><sup>[3]</sup>pa who\r",
       "<br>cou"
      ],
      "text/plain": [
       "<IPython.core.display.HTML object>"
      ]
     },
     "metadata": {},
     "output_type": "display_data"
    },
    {
     "data": {
      "text/html": [
       "<small><p style=\"text-align:right;\">Sources: <span style=\"background-color:#1a2b28;\">Virginia Wolf: Voyage out</span><sup>[3]</sup>, <span style=\"background-color:#122725;\">Jane Austen: Emma</span><sup>[4]</sup>, <span style=\"background-color:#1b2e00;\">Emily Brontë: Wuthering Heights</span><sup>[2]</sup>, <span style=\"background-color:#282a1f;\">Jane Austen: Pride and Prejudice</span><sup>[1]</sup></p></small>"
      ],
      "text/plain": [
       "<IPython.core.display.HTML object>"
      ]
     },
     "metadata": {},
     "output_type": "display_data"
    },
    {
     "name": "stdout",
     "output_type": "stream",
     "text": [
      "Epoch 107250 Loss: 0.8917583866119385 Precision: 0.71767578125\n",
      "saved last model data, prec=0.71767578125\n",
      "Memory allocated: 25961472 max_alloc: 202655744 cached: 239075328 max_cached: 239075328\n"
     ]
    },
    {
     "data": {
      "text/html": [
       "_mode_. MR.\r",
       "<br> nor WARDOY] You call in not of<span style=\"background-color:#122725;\"> undoubtedly, </span><sup>[4]</sup><span style=\"background-color:#282a1f;\">not believe</span><sup>[1]</sup>,<span style=\"background-color:#1a2b28;\">\r",
       "<br>Mrs. Paley </span><sup>[3]</sup><span style=\"background-color:#282a1f;\">behaved in </span><sup>[1]</sup>witchesch<span style=\"background-color:#1a2b28;\">ies; they had</span><sup>[3]</sup><span style=\"background-color:#122725;\"> gone through h</span><sup>[4]</sup><span style=\"background-color:#1a2b28;\">erself,\r",
       "<br>b</span><sup>[3]</sup>ut he<span style=\"background-color:#1b2e00;\">re we could </span><sup>[2]</sup><span style=\"background-color:#1a2b28;\">rouse himself</span><sup>[3]</sup><span style=\"background-color:#1a2b28;\"> as she spoke, </span><sup>[3]</sup><span style=\"background-color:#282a1f;\">and smiled </span><sup>[1]</sup><span style=\"background-color:#1b2e00;\">at intervals, </span><sup>[2]</sup><span style=\"background-color:#1a2b28;\">she might have s</span><sup>[3]</sup><span style=\"background-color:#122725;\">o\r",
       "<br>farther</span><sup>[4]</sup><span style=\"background-color:#1a2b28;\">, Mr. Pepper, </span><sup>[3]</sup>lo<span style=\"background-color:#1b2e00;\">oking her </span><sup>[2]</sup>quarrel<span style=\"background-color:#122725;\">. They walked </span><sup>[4]</sup><span style=\"background-color:#1a2b28;\">on, looking a</span><sup>[3]</sup><span style=\"background-color:#282a1f;\">t the stre</span><sup>[1]</sup>am<span style=\"background-color:#1b2e00;\"> he smiled</span><sup>[2]</sup><span style=\"background-color:#1a2b28;\">, and\r",
       "<br>wonder</span><sup>[3]</sup>ful<span style=\"background-color:#122725;\">, charitable </span><sup>[4]</sup><span style=\"background-color:#1b2e00;\">sitting so</span><sup>[2]</sup>lemn amountiv<span style=\"background-color:#122725;\">able; but he</span><sup>[4]</sup><span style=\"background-color:#1a2b28;\">'s not an </span><sup>[3]</sup>rea<span style=\"background-color:#1b2e00;\">ding out a</span><sup>[2]</sup><span style=\"background-color:#282a1f;\"> group of </span><sup>[1]</sup>com<span style=\"background-color:#1b2e00;\">ing?'\r",
       "<br>\r",
       "<br>'</span><sup>[2]</sup>No<span style=\"background-color:#1b2e00;\">,' he said, l</span><sup>[2]</sup><span style=\"background-color:#282a1f;\">ooking about him</span><sup>[1]</sup>;<span style=\"background-color:#1a2b28;\"> who were s</span><sup>[3]</sup>cattere<span style=\"background-color:#1b2e00;\">d relating </span><sup>[2]</sup>more worse"
      ],
      "text/plain": [
       "<IPython.core.display.HTML object>"
      ]
     },
     "metadata": {},
     "output_type": "display_data"
    },
    {
     "data": {
      "text/html": [
       "<small><p style=\"text-align:right;\">Sources: <span style=\"background-color:#122725;\">Jane Austen: Emma</span><sup>[4]</sup>, <span style=\"background-color:#282a1f;\">Jane Austen: Pride and Prejudice</span><sup>[1]</sup>, <span style=\"background-color:#1a2b28;\">Virginia Wolf: Voyage out</span><sup>[3]</sup>, <span style=\"background-color:#1b2e00;\">Emily Brontë: Wuthering Heights</span><sup>[2]</sup></p></small>"
      ],
      "text/plain": [
       "<IPython.core.display.HTML object>"
      ]
     },
     "metadata": {},
     "output_type": "display_data"
    },
    {
     "name": "stdout",
     "output_type": "stream",
     "text": [
      "Epoch 107500 Loss: 0.8903784384727478 Precision: 0.723046875\n",
      "saved last model data, prec=0.723046875\n",
      "Memory allocated: 25961472 max_alloc: 202655744 cached: 239075328 max_cached: 239075328\n"
     ]
    },
    {
     "data": {
      "text/html": [
       "    Shoulbey!' apport, swear,<span style=\"background-color:#1a2b28;\"> his that </span><sup>[3]</sup>though<span style=\"background-color:#122725;\">, very fond of </span><sup>[4]</sup><span style=\"background-color:#1b2e00;\">spirits,\r",
       "<br></span><sup>[2]</sup>merely<span style=\"background-color:#122725;\"> a slice of </span><sup>[4]</sup><span style=\"background-color:#1a2b28;\">what it was</span><sup>[3]</sup><span style=\"background-color:#122725;\">; but Mr. Knightley w</span><sup>[4]</sup><span style=\"background-color:#1b2e00;\">ould come\r",
       "<br>a</span><sup>[2]</sup>ppearved till tout:<span style=\"background-color:#282a1f;\"> with all </span><sup>[1]</sup>bad look<span style=\"background-color:#122725;\">, quite as </span><sup>[4]</sup>ill.  On one\r",
       "<br><span style=\"background-color:#1a2b28;\">woman beyond </span><sup>[3]</sup>my prid<span style=\"background-color:#1a2b28;\">e did not; </span><sup>[3]</sup><span style=\"background-color:#1a2b28;\">though he d</span><sup>[3]</sup><span style=\"background-color:#282a1f;\">eclares she w</span><sup>[1]</sup>ere b<span style=\"background-color:#122725;\">uilt which </span><sup>[4]</sup>[_leaving<span style=\"background-color:#1b2e00;\"> glinting </span><sup>[2]</sup><span style=\"background-color:#1b2e00;\">her friends</span><sup>[2]</sup>;<span style=\"background-color:#122725;\"> no more app</span><sup>[4]</sup>ear<span style=\"background-color:#1b2e00;\"> to\r",
       "<br>discover wh</span><sup>[2]</sup>ere<span style=\"background-color:#1b2e00;\"> he arrived</span><sup>[2]</sup><span style=\"background-color:#1a2b28;\"> from her own</span><sup>[3]</sup><span style=\"background-color:#1a2b28;\">.\r",
       "<br>\r",
       "<br>There was nothing </span><sup>[3]</sup>wher<span style=\"background-color:#122725;\">e style of the </span><sup>[4]</sup>way flaked<span style=\"background-color:#282a1f;\"> foolish g</span><sup>[1]</sup>rey tur<span style=\"background-color:#1a2b28;\">ns were no</span><sup>[3]</sup> lamp,<span style=\"background-color:#122725;\"> she followed Mr. Knightley</span><sup>[4]</sup><span style=\"background-color:#1a2b28;\"> woke from</span><sup>[3]</sup>\r",
       "<br>her ill of kicks gener"
      ],
      "text/plain": [
       "<IPython.core.display.HTML object>"
      ]
     },
     "metadata": {},
     "output_type": "display_data"
    },
    {
     "data": {
      "text/html": [
       "<small><p style=\"text-align:right;\">Sources: <span style=\"background-color:#1a2b28;\">Virginia Wolf: Voyage out</span><sup>[3]</sup>, <span style=\"background-color:#122725;\">Jane Austen: Emma</span><sup>[4]</sup>, <span style=\"background-color:#1b2e00;\">Emily Brontë: Wuthering Heights</span><sup>[2]</sup>, <span style=\"background-color:#282a1f;\">Jane Austen: Pride and Prejudice</span><sup>[1]</sup></p></small>"
      ],
      "text/plain": [
       "<IPython.core.display.HTML object>"
      ]
     },
     "metadata": {},
     "output_type": "display_data"
    },
    {
     "name": "stdout",
     "output_type": "stream",
     "text": [
      "Epoch 107750 Loss: 0.8913258731365203 Precision: 0.72255859375\n",
      "saved last model data, prec=0.72255859375\n",
      "Memory allocated: 26080256 max_alloc: 202655744 cached: 239075328 max_cached: 239075328\n"
     ]
    },
    {
     "data": {
      "text/html": [
       "<span style=\"background-color:#1b2e00;\">'Not that </span><sup>[2]</sup><span style=\"background-color:#282a1f;\">you should </span><sup>[1]</sup>like m<span style=\"background-color:#122725;\">ore purpose</span><sup>[4]</sup>.\r",
       "<br>Did hi<span style=\"background-color:#122725;\">s my dear </span><sup>[4]</sup><span style=\"background-color:#282a1f;\">Jane, I must </span><sup>[1]</sup>be here true,\" <span style=\"background-color:#1b2e00;\">I carried </span><sup>[2]</sup>up<span style=\"background-color:#122725;\"> what a li</span><sup>[4]</sup>hhon\r",
       "<br>stored vanidged:<span style=\"background-color:#122725;\"> the nonsense, </span><sup>[4]</sup><span style=\"background-color:#122725;\">Emma, I sha</span><sup>[4]</sup>'n't<span style=\"background-color:#282a1f;\"> it without</span><sup>[1]</sup>\r",
       "<br>so<span style=\"background-color:#122725;\">. I knew he </span><sup>[4]</sup>took<span style=\"background-color:#1a2b28;\"> chairs and </span><sup>[3]</sup><span style=\"background-color:#1a2b28;\">beautiful little </span><sup>[3]</sup>rob<span style=\"background-color:#1b2e00;\">ance of being </span><sup>[2]</sup><span style=\"background-color:#282a1f;\">in distressed</span><sup>[1]</sup><span style=\"background-color:#1b2e00;\">: you should </span><sup>[2]</sup>swung\r",
       "<br>i<span style=\"background-color:#1a2b28;\">t to get b</span><sup>[3]</sup><span style=\"background-color:#1a2b28;\">ut there n</span><sup>[3]</sup>ow<span style=\"background-color:#122725;\">. I never he</span><sup>[4]</sup><span style=\"background-color:#1b2e00;\">?  Let me </span><sup>[2]</sup>al<span style=\"background-color:#1b2e00;\">one!  The </span><sup>[2]</sup><span style=\"background-color:#1a2b28;\">very question</span><sup>[3]</sup> is no<span style=\"background-color:#1b2e00;\">t\r",
       "<br>opposite</span><sup>[2]</sup><span style=\"background-color:#1b2e00;\">.  I felt </span><sup>[2]</sup>it is!  Suppoun<span style=\"background-color:#1b2e00;\">t yourself </span><sup>[2]</sup><span style=\"background-color:#1b2e00;\">to the last.  </span><sup>[2]</sup><span style=\"background-color:#1b2e00;\">Catherine say</span><sup>[2]</sup>s<span style=\"background-color:#282a1f;\"> she is rea</span><sup>[1]</sup>d<span style=\"background-color:#1b2e00;\">y.\r",
       "<br>\r",
       "<br>\r",
       "<br>\r",
       "<br>\r",
       "<br>CHAPTER </span><sup>[2]</sup><span style=\"background-color:#1b2e00;\">II\r",
       "<br>\r",
       "<br>\r",
       "<br>Yes</span><sup>[2]</sup><span style=\"background-color:#122725;\">, indeed, that </span><sup>[4]</sup><span style=\"background-color:#1a2b28;\">she could not re</span><sup>[3]</sup>sist s"
      ],
      "text/plain": [
       "<IPython.core.display.HTML object>"
      ]
     },
     "metadata": {},
     "output_type": "display_data"
    },
    {
     "data": {
      "text/html": [
       "<small><p style=\"text-align:right;\">Sources: <span style=\"background-color:#1b2e00;\">Emily Brontë: Wuthering Heights</span><sup>[2]</sup>, <span style=\"background-color:#282a1f;\">Jane Austen: Pride and Prejudice</span><sup>[1]</sup>, <span style=\"background-color:#122725;\">Jane Austen: Emma</span><sup>[4]</sup>, <span style=\"background-color:#1a2b28;\">Virginia Wolf: Voyage out</span><sup>[3]</sup></p></small>"
      ],
      "text/plain": [
       "<IPython.core.display.HTML object>"
      ]
     },
     "metadata": {},
     "output_type": "display_data"
    },
    {
     "name": "stdout",
     "output_type": "stream",
     "text": [
      "Epoch 108000 Loss: 0.8899089276790619 Precision: 0.71669921875\n",
      "saved last model data, prec=0.71669921875\n",
      "Memory allocated: 25961472 max_alloc: 202655744 cached: 239075328 max_cached: 239075328\n"
     ]
    },
    {
     "data": {
      "text/html": [
       "    Johnsponly<span style=\"background-color:#1b2e00;\"> again, the s</span><sup>[2]</sup><span style=\"background-color:#1a2b28;\">ky and the </span><sup>[3]</sup>views<span style=\"background-color:#1b2e00;\">\r",
       "<br>gave her </span><sup>[2]</sup><span style=\"background-color:#1a2b28;\">the light be</span><sup>[3]</sup><span style=\"background-color:#1a2b28;\">neath.\r",
       "<br>\r",
       "<br></span><sup>[3]</sup><span style=\"background-color:#1a2b28;\">When he said </span><sup>[3]</sup><span style=\"background-color:#1a2b28;\">her mind, </span><sup>[3]</sup><span style=\"background-color:#1b2e00;\">under the s</span><sup>[2]</sup>am<span style=\"background-color:#1a2b28;\">e way, and </span><sup>[3]</sup>they'<span style=\"background-color:#122725;\">n any thing </span><sup>[4]</sup><span style=\"background-color:#1b2e00;\">so completely </span><sup>[2]</sup><span style=\"background-color:#122725;\">good to her</span><sup>[4]</sup>\r",
       "<br>mundli<span style=\"background-color:#1a2b28;\">ng thinking o</span><sup>[3]</sup>f pok<span style=\"background-color:#1a2b28;\">er. That's </span><sup>[3]</sup><span style=\"background-color:#282a1f;\">why should </span><sup>[1]</sup><span style=\"background-color:#1b2e00;\">have been taken for</span><sup>[2]</sup> your bri<span style=\"background-color:#1a2b28;\">dge.\"\r",
       "<br>\r",
       "<br>\"</span><sup>[3]</sup>Experi<span style=\"background-color:#1a2b28;\">se.\"\r",
       "<br>\r",
       "<br>She w</span><sup>[3]</sup><span style=\"background-color:#1a2b28;\">as speaking p</span><sup>[3]</sup><span style=\"background-color:#1b2e00;\">leasure and </span><sup>[2]</sup>qui<span style=\"background-color:#122725;\">te creature, </span><sup>[4]</sup><span style=\"background-color:#1a2b28;\">suddenly came to an </span><sup>[3]</sup>answ<span style=\"background-color:#1a2b28;\">er curiosity</span><sup>[3]</sup>,<span style=\"background-color:#1a2b28;\"> the profound </span><sup>[3]</sup>to\r",
       "<br><span style=\"background-color:#1a2b28;\">sleep,\" said Richard</span><sup>[3]</sup><span style=\"background-color:#1a2b28;\">, \"if you c</span><sup>[3]</sup>all them you?<span style=\"background-color:#1b2e00;\">  Now, Miss </span><sup>[2]</sup>Elliot! [_Thro<span style=\"background-color:#1a2b28;\">w him and </span><sup>[3]</sup><span style=\"background-color:#1a2b28;\">looked up at the</span><sup>[3]</sup><span style=\"background-color:#1a2b28;\"> visit of </span><sup>[3]</sup><span style=\"background-color:#122725;\">consciousness,\r",
       "<br></span><sup>[4]</sup>rich manner,"
      ],
      "text/plain": [
       "<IPython.core.display.HTML object>"
      ]
     },
     "metadata": {},
     "output_type": "display_data"
    },
    {
     "data": {
      "text/html": [
       "<small><p style=\"text-align:right;\">Sources: <span style=\"background-color:#1b2e00;\">Emily Brontë: Wuthering Heights</span><sup>[2]</sup>, <span style=\"background-color:#1a2b28;\">Virginia Wolf: Voyage out</span><sup>[3]</sup>, <span style=\"background-color:#122725;\">Jane Austen: Emma</span><sup>[4]</sup>, <span style=\"background-color:#282a1f;\">Jane Austen: Pride and Prejudice</span><sup>[1]</sup></p></small>"
      ],
      "text/plain": [
       "<IPython.core.display.HTML object>"
      ]
     },
     "metadata": {},
     "output_type": "display_data"
    },
    {
     "name": "stdout",
     "output_type": "stream",
     "text": [
      "Epoch 108250 Loss: 0.888715610742569 Precision: 0.7181640625\n",
      "saved last model data, prec=0.7181640625\n",
      "Memory allocated: 25961472 max_alloc: 202655744 cached: 239075328 max_cached: 239075328\n"
     ]
    },
    {
     "data": {
      "text/html": [
       "   <span style=\"background-color:#122725;\"> the blush </span><sup>[4]</sup>vi<span style=\"background-color:#282a1f;\">le in the </span><sup>[1]</sup>dam<span style=\"background-color:#1b2e00;\">p of his h</span><sup>[2]</sup><span style=\"background-color:#1a2b28;\">ead.\r",
       "<br>\r",
       "<br>\"You</span><sup>[3]</sup><span style=\"background-color:#1a2b28;\">'re not to call </span><sup>[3]</sup><span style=\"background-color:#1a2b28;\">her that the</span><sup>[3]</sup>y <span style=\"background-color:#1a2b28;\">ought her a</span><sup>[3]</sup><span style=\"background-color:#122725;\">t Maple Grove.\"\r",
       "<br>\r",
       "<br>\"You</span><sup>[4]</sup><span style=\"background-color:#1b2e00;\"> are you not?</span><sup>[2]</sup>' he, 'you'd all becalie\r",
       "<br>after it ou<span style=\"background-color:#1b2e00;\">t, though </span><sup>[2]</sup>give<span style=\"background-color:#122725;\">d in view </span><sup>[4]</sup>to<span style=\"background-color:#1b2e00;\"> room to h</span><sup>[2]</sup><span style=\"background-color:#1a2b28;\">ave her fa</span><sup>[3]</sup>ce.  I vary<span style=\"background-color:#1b2e00;\"> his own\r",
       "<br>auda</span><sup>[2]</sup><span style=\"background-color:#1b2e00;\">ble to see </span><sup>[2]</sup><span style=\"background-color:#1a2b28;\">where you don't talk</span><sup>[3]</sup><span style=\"background-color:#1a2b28;\"> now?\" she </span><sup>[3]</sup><span style=\"background-color:#1b2e00;\">said, looking </span><sup>[2]</sup><span style=\"background-color:#1b2e00;\">during her </span><sup>[2]</sup><span style=\"background-color:#1b2e00;\">head!  And </span><sup>[2]</sup>there our<span style=\"background-color:#122725;\">ous\r",
       "<br>prefer</span><sup>[4]</sup>r<span style=\"background-color:#1b2e00;\">ed this book</span><sup>[2]</sup><span style=\"background-color:#282a1f;\"> upon the </span><sup>[1]</sup>idea of my<span style=\"background-color:#1a2b28;\"> native boy, </span><sup>[3]</sup><span style=\"background-color:#1b2e00;\">who loved her </span><sup>[2]</sup>pa<span style=\"background-color:#1a2b28;\">ssions.\r",
       "<br>\r",
       "<br>\"</span><sup>[3]</sup>Cox couns<span style=\"background-color:#1b2e00;\">, indeed! </span><sup>[2]</sup>Wha<span style=\"background-color:#122725;\">t a sort of </span><sup>[4]</sup><span style=\"background-color:#1a2b28;\">passage to </span><sup>[3]</sup>many dim <span style=\"background-color:#1b2e00;\">out having </span><sup>[2]</sup>no<span style=\"background-color:#122725;\"> imagined it</span><sup>[4]</sup><span style=\"background-color:#1a2b28;\"> so clear th</span><sup>[3]</sup>e"
      ],
      "text/plain": [
       "<IPython.core.display.HTML object>"
      ]
     },
     "metadata": {},
     "output_type": "display_data"
    },
    {
     "data": {
      "text/html": [
       "<small><p style=\"text-align:right;\">Sources: <span style=\"background-color:#122725;\">Jane Austen: Emma</span><sup>[4]</sup>, <span style=\"background-color:#282a1f;\">Jane Austen: Pride and Prejudice</span><sup>[1]</sup>, <span style=\"background-color:#1b2e00;\">Emily Brontë: Wuthering Heights</span><sup>[2]</sup>, <span style=\"background-color:#1a2b28;\">Virginia Wolf: Voyage out</span><sup>[3]</sup></p></small>"
      ],
      "text/plain": [
       "<IPython.core.display.HTML object>"
      ]
     },
     "metadata": {},
     "output_type": "display_data"
    },
    {
     "name": "stdout",
     "output_type": "stream",
     "text": [
      "Epoch 108500 Loss: 0.890967945098877 Precision: 0.72255859375\n",
      "saved last model data, prec=0.72255859375\n",
      "Memory allocated: 26080256 max_alloc: 202655744 cached: 239075328 max_cached: 239075328\n"
     ]
    },
    {
     "data": {
      "text/html": [
       "<span style=\"background-color:#1b2e00;\">'And I must </span><sup>[2]</sup>guest<span style=\"background-color:#1b2e00;\"> not there</span><sup>[2]</sup><span style=\"background-color:#1a2b28;\">?\" he continued</span><sup>[3]</sup>, \"is<span style=\"background-color:#122725;\"> in what is </span><sup>[4]</sup>no<span style=\"background-color:#1a2b28;\">t the\r",
       "<br>con</span><sup>[3]</sup>sol<span style=\"background-color:#1a2b28;\">ation which he</span><sup>[3]</sup>r happ<span style=\"background-color:#1a2b28;\">y should have </span><sup>[3]</sup>warmer, Hugh!<span style=\"background-color:#1b2e00;\"> the dresse</span><sup>[2]</sup>d ca<span style=\"background-color:#1b2e00;\">me\r",
       "<br>living </span><sup>[2]</sup><span style=\"background-color:#122725;\">out Frank Churchill</span><sup>[4]</sup>, who<span style=\"background-color:#1b2e00;\"> yawned, and </span><sup>[2]</sup><span style=\"background-color:#122725;\">he and Mrs. Weston</span><sup>[4]</sup><span style=\"background-color:#122725;\">; but Mrs. Elton </span><sup>[4]</sup><span style=\"background-color:#1b2e00;\">and Hareton and\r",
       "<br>Joseph </span><sup>[2]</sup>st<span style=\"background-color:#1b2e00;\">arted with </span><sup>[2]</sup><span style=\"background-color:#1a2b28;\">her breast to </span><sup>[3]</sup>cheer<span style=\"background-color:#1a2b28;\"> upon his face</span><sup>[3]</sup><span style=\"background-color:#1b2e00;\">: he was n</span><sup>[2]</sup>ow gon<span style=\"background-color:#1a2b28;\">e linked to</span><sup>[3]</sup><span style=\"background-color:#1a2b28;\">; being a noveli</span><sup>[3]</sup>ty<span style=\"background-color:#1b2e00;\">\r",
       "<br>entered.  </span><sup>[2]</sup>I<span style=\"background-color:#1a2b28;\">t understand e</span><sup>[3]</sup><span style=\"background-color:#122725;\">very hour of the </span><sup>[4]</sup>autumoni<span style=\"background-color:#1a2b28;\">an of her </span><sup>[3]</sup><span style=\"background-color:#1a2b28;\">having written </span><sup>[3]</sup>monghtern's, began<span style=\"background-color:#122725;\">\r",
       "<br>and sisters</span><sup>[4]</sup><span style=\"background-color:#1b2e00;\">; but she was </span><sup>[2]</sup><span style=\"background-color:#122725;\">very happy to s</span><sup>[4]</sup><span style=\"background-color:#122725;\">ay any thing</span><sup>[4]</sup><span style=\"background-color:#1a2b28;\">?\" Hirst e</span><sup>[3]</sup>crosted"
      ],
      "text/plain": [
       "<IPython.core.display.HTML object>"
      ]
     },
     "metadata": {},
     "output_type": "display_data"
    },
    {
     "data": {
      "text/html": [
       "<small><p style=\"text-align:right;\">Sources: <span style=\"background-color:#1b2e00;\">Emily Brontë: Wuthering Heights</span><sup>[2]</sup>, <span style=\"background-color:#1a2b28;\">Virginia Wolf: Voyage out</span><sup>[3]</sup>, <span style=\"background-color:#122725;\">Jane Austen: Emma</span><sup>[4]</sup></p></small>"
      ],
      "text/plain": [
       "<IPython.core.display.HTML object>"
      ]
     },
     "metadata": {},
     "output_type": "display_data"
    },
    {
     "name": "stdout",
     "output_type": "stream",
     "text": [
      "Epoch 108750 Loss: 0.888582397222519 Precision: 0.72861328125\n",
      "saved last model data, prec=0.72861328125\n",
      "Memory allocated: 25961472 max_alloc: 202655744 cached: 239075328 max_cached: 239075328\n"
     ]
    },
    {
     "data": {
      "text/html": [
       "<span style=\"background-color:#1a2b28;\">the button</span><sup>[3]</sup>s<span style=\"background-color:#1a2b28;\">--\" Helen </span><sup>[3]</sup><span style=\"background-color:#1a2b28;\">might read </span><sup>[3]</sup><span style=\"background-color:#1b2e00;\">themselves, and </span><sup>[2]</sup>me<span style=\"background-color:#282a1f;\"> well, but s</span><sup>[1]</sup><span style=\"background-color:#1b2e00;\">he uttered </span><sup>[2]</sup>h<span style=\"background-color:#122725;\">e made every</span><sup>[4]</sup><span style=\"background-color:#1a2b28;\">\r",
       "<br>body hung </span><sup>[3]</sup><span style=\"background-color:#1a2b28;\">about the th</span><sup>[3]</sup>ree. Amend<span style=\"background-color:#122725;\">s engaged, </span><sup>[4]</sup>of<span style=\"background-color:#282a1f;\"> ourselves that </span><sup>[1]</sup>there,<span style=\"background-color:#122725;\"> blind her</span><sup>[4]</sup><span style=\"background-color:#122725;\"> with any\r",
       "<br>thing t</span><sup>[4]</sup>o<span style=\"background-color:#1a2b28;\">o slightly </span><sup>[3]</sup>cut into ha<span style=\"background-color:#1b2e00;\">gn in her f</span><sup>[2]</sup><span style=\"background-color:#122725;\">riendly in</span><sup>[4]</sup><span style=\"background-color:#1a2b28;\"> the five </span><sup>[3]</sup>yiel<span style=\"background-color:#122725;\">ds perfect</span><sup>[4]</sup>ion<span style=\"background-color:#122725;\">\r",
       "<br>married women</span><sup>[4]</sup>, or<span style=\"background-color:#122725;\"> wonder of </span><sup>[4]</sup><span style=\"background-color:#122725;\">my friend. </span><sup>[4]</sup>If<span style=\"background-color:#1a2b28;\"> it became a</span><sup>[3]</sup>s a sauc<span style=\"background-color:#122725;\">y as much as</span><sup>[4]</sup><span style=\"background-color:#122725;\">\r",
       "<br>her cons</span><sup>[4]</sup>ul<span style=\"background-color:#1b2e00;\">tness, and </span><sup>[2]</sup>so on<span style=\"background-color:#1b2e00;\">; he would not </span><sup>[2]</sup><span style=\"background-color:#122725;\">be at last, </span><sup>[4]</sup>know<span style=\"background-color:#1b2e00;\">ing Heathcliff</span><sup>[2]</sup><span style=\"background-color:#1b2e00;\">, and you'll </span><sup>[2]</sup>need be as\r",
       "<br>polit<span style=\"background-color:#1b2e00;\">e,' said Catherine</span><sup>[2]</sup><span style=\"background-color:#122725;\">, you would have s</span><sup>[4]</sup>een<span style=\"background-color:#1b2e00;\"> away!  And </span><sup>[2]</sup>look l<span style=\"background-color:#122725;\">ow certain </span><sup>[4]</sup>"
      ],
      "text/plain": [
       "<IPython.core.display.HTML object>"
      ]
     },
     "metadata": {},
     "output_type": "display_data"
    },
    {
     "data": {
      "text/html": [
       "<small><p style=\"text-align:right;\">Sources: <span style=\"background-color:#1a2b28;\">Virginia Wolf: Voyage out</span><sup>[3]</sup>, <span style=\"background-color:#1b2e00;\">Emily Brontë: Wuthering Heights</span><sup>[2]</sup>, <span style=\"background-color:#282a1f;\">Jane Austen: Pride and Prejudice</span><sup>[1]</sup>, <span style=\"background-color:#122725;\">Jane Austen: Emma</span><sup>[4]</sup></p></small>"
      ],
      "text/plain": [
       "<IPython.core.display.HTML object>"
      ]
     },
     "metadata": {},
     "output_type": "display_data"
    },
    {
     "name": "stdout",
     "output_type": "stream",
     "text": [
      "Epoch 109000 Loss: 0.8893010995388031 Precision: 0.71640625\n",
      "saved last model data, prec=0.71640625\n",
      "Memory allocated: 25961472 max_alloc: 202655744 cached: 239075328 max_cached: 239075328\n"
     ]
    },
    {
     "data": {
      "text/html": [
       "<span style=\"background-color:#282a1f;\">    [_With</span><sup>[1]</sup>out_ D<span style=\"background-color:#1b2e00;\">each her b</span><sup>[2]</sup>reas<span style=\"background-color:#1a2b28;\">t, I always think </span><sup>[3]</sup><span style=\"background-color:#122725;\">that Mr. Weston ha</span><sup>[4]</sup>d to be<span style=\"background-color:#1a2b28;\">,\r",
       "<br>she did not </span><sup>[3]</sup><span style=\"background-color:#122725;\">know what he w</span><sup>[4]</sup><span style=\"background-color:#1a2b28;\">ould. She </span><sup>[3]</sup>must f<span style=\"background-color:#1a2b28;\">all in the </span><sup>[3]</sup><span style=\"background-color:#1b2e00;\">hole of his</span><sup>[2]</sup><span style=\"background-color:#1b2e00;\"> chamber, h</span><sup>[2]</sup>ills a<span style=\"background-color:#1a2b28;\">re founded</span><sup>[3]</sup><span style=\"background-color:#1b2e00;\">.  On the th</span><sup>[2]</sup><span style=\"background-color:#1b2e00;\">ere in the\r",
       "<br></span><sup>[2]</sup>French note<span style=\"background-color:#122725;\"> see the o</span><sup>[4]</sup>n<span style=\"background-color:#1b2e00;\">e shoulders</span><sup>[2]</sup>,<span style=\"background-color:#1b2e00;\"> in a little w</span><sup>[2]</sup>ay still<span style=\"background-color:#1b2e00;\"> a piece of t</span><sup>[2]</sup>emp<span style=\"background-color:#122725;\">er in which\r",
       "<br>he </span><sup>[4]</sup>would stir braighamise<span style=\"background-color:#1b2e00;\"> a window t</span><sup>[2]</sup>hat no Iins<span style=\"background-color:#122725;\">e he spoke </span><sup>[4]</sup><span style=\"background-color:#1a2b28;\">without ex</span><sup>[3]</sup>istence:<span style=\"background-color:#1a2b28;\"> she appeared </span><sup>[3]</sup><span style=\"background-color:#122725;\">at the blu</span><sup>[4]</sup><span style=\"background-color:#1a2b28;\">es. He had</span><sup>[3]</sup>\r",
       "<br>b<span style=\"background-color:#1a2b28;\">ent straight </span><sup>[3]</sup>help her. ... <span style=\"background-color:#1a2b28;\">That's my </span><sup>[3]</sup>state's)<span style=\"background-color:#1b2e00;\">, for the </span><sup>[2]</sup><span style=\"background-color:#1b2e00;\">attention was </span><sup>[2]</sup>se<span style=\"background-color:#122725;\">t\r",
       "<br>numbers. </span><sup>[4]</sup>Surmound<span style=\"background-color:#1a2b28;\">, his head la</span><sup>[3]</sup>id on t"
      ],
      "text/plain": [
       "<IPython.core.display.HTML object>"
      ]
     },
     "metadata": {},
     "output_type": "display_data"
    },
    {
     "data": {
      "text/html": [
       "<small><p style=\"text-align:right;\">Sources: <span style=\"background-color:#282a1f;\">Jane Austen: Pride and Prejudice</span><sup>[1]</sup>, <span style=\"background-color:#1b2e00;\">Emily Brontë: Wuthering Heights</span><sup>[2]</sup>, <span style=\"background-color:#1a2b28;\">Virginia Wolf: Voyage out</span><sup>[3]</sup>, <span style=\"background-color:#122725;\">Jane Austen: Emma</span><sup>[4]</sup></p></small>"
      ],
      "text/plain": [
       "<IPython.core.display.HTML object>"
      ]
     },
     "metadata": {},
     "output_type": "display_data"
    },
    {
     "name": "stdout",
     "output_type": "stream",
     "text": [
      "Epoch 109250 Loss: 0.8889426493644714 Precision: 0.7248046875\n",
      "saved last model data, prec=0.7248046875\n",
      "Memory allocated: 26080256 max_alloc: 202655744 cached: 239075328 max_cached: 239075328\n"
     ]
    },
    {
     "data": {
      "text/html": [
       "<span style=\"background-color:#1b2e00;\">I cannot keep </span><sup>[2]</sup>you<span style=\"background-color:#1b2e00;\"> queer thin</span><sup>[2]</sup>k<span style=\"background-color:#1a2b28;\">ing. St. John </span><sup>[3]</sup>stamps<span style=\"background-color:#1b2e00;\">t the stair</span><sup>[2]</sup>ca<span style=\"background-color:#122725;\">se society</span><sup>[4]</sup><span style=\"background-color:#1b2e00;\">; probably</span><sup>[2]</sup><span style=\"background-color:#1a2b28;\">,\r",
       "<br>is the </span><sup>[3]</sup>greater n<span style=\"background-color:#122725;\">ight only </span><sup>[4]</sup><span style=\"background-color:#1a2b28;\">where one </span><sup>[3]</sup><span style=\"background-color:#1a2b28;\">never knows </span><sup>[3]</sup><span style=\"background-color:#122725;\">that I did not w</span><sup>[4]</sup>ander<span style=\"background-color:#1b2e00;\"> out, at l</span><sup>[2]</sup>eas<span style=\"background-color:#1b2e00;\">t, which\r",
       "<br></span><sup>[2]</sup><span style=\"background-color:#1b2e00;\">she was gone</span><sup>[2]</sup><span style=\"background-color:#122725;\"> her, and pro</span><sup>[4]</sup><span style=\"background-color:#1b2e00;\">ceeded to </span><sup>[2]</sup><span style=\"background-color:#1a2b28;\">her that she m</span><sup>[3]</sup>ean<span style=\"background-color:#1a2b28;\">t it might have </span><sup>[3]</sup><span style=\"background-color:#1a2b28;\">impressed the</span><sup>[3]</sup><span style=\"background-color:#122725;\"> usual pro</span><sup>[4]</sup>ph<span style=\"background-color:#1a2b28;\">ection of\r",
       "<br></span><sup>[3]</sup><span style=\"background-color:#1a2b28;\">Mr. Pepper, </span><sup>[3]</sup>bo<span style=\"background-color:#122725;\">th having </span><sup>[4]</sup><span style=\"background-color:#122725;\">taken place. </span><sup>[4]</sup><span style=\"background-color:#282a1f;\">[DARCY _star</span><sup>[1]</sup>ys me!<span style=\"background-color:#1b2e00;\"> I hope I h</span><sup>[2]</sup>op<span style=\"background-color:#282a1f;\">ed I have </span><sup>[1]</sup>faster<span style=\"background-color:#1b2e00;\"> Sunday,' </span><sup>[2]</sup><span style=\"background-color:#1b2e00;\">replied Cathy</span><sup>[2]</sup><span style=\"background-color:#122725;\"> and his uncle</span><sup>[4]</sup><span style=\"background-color:#282a1f;\"> has heard </span><sup>[1]</sup><span style=\"background-color:#1a2b28;\">her\r",
       "<br>thoughts </span><sup>[3]</sup>to s<span style=\"background-color:#1b2e00;\">ay, perhaps</span><sup>[2]</sup>, for invaring a wave sprang<span style=\"background-color:#122725;\">. Jane and </span><sup>[4]</sup><span style=\"background-color:#122725;\">sisters are</span><sup>[4]</sup> to be i"
      ],
      "text/plain": [
       "<IPython.core.display.HTML object>"
      ]
     },
     "metadata": {},
     "output_type": "display_data"
    },
    {
     "data": {
      "text/html": [
       "<small><p style=\"text-align:right;\">Sources: <span style=\"background-color:#1b2e00;\">Emily Brontë: Wuthering Heights</span><sup>[2]</sup>, <span style=\"background-color:#1a2b28;\">Virginia Wolf: Voyage out</span><sup>[3]</sup>, <span style=\"background-color:#122725;\">Jane Austen: Emma</span><sup>[4]</sup>, <span style=\"background-color:#282a1f;\">Jane Austen: Pride and Prejudice</span><sup>[1]</sup></p></small>"
      ],
      "text/plain": [
       "<IPython.core.display.HTML object>"
      ]
     },
     "metadata": {},
     "output_type": "display_data"
    },
    {
     "name": "stdout",
     "output_type": "stream",
     "text": [
      "Epoch 109500 Loss: 0.8905147223472595 Precision: 0.7193359375\n",
      "saved last model data, prec=0.7193359375\n",
      "Memory allocated: 25961472 max_alloc: 202655744 cached: 239075328 max_cached: 239075328\n"
     ]
    },
    {
     "data": {
      "text/html": [
       "'Come, poor go!<span style=\"background-color:#1a2b28;\">\" he asked. \"</span><sup>[3]</sup><span style=\"background-color:#122725;\">And Mrs. Perry and the </span><sup>[4]</sup><span style=\"background-color:#282a1f;\">fact that </span><sup>[1]</sup><span style=\"background-color:#122725;\">Jane Fairfax c</span><sup>[4]</sup>an\r",
       "<br><span style=\"background-color:#122725;\">availing himself</span><sup>[4]</sup>,<span style=\"background-color:#122725;\"> and languish</span><sup>[4]</sup>ing caus<span style=\"background-color:#122725;\">ely after hi</span><sup>[4]</sup>m. \"Mi<span style=\"background-color:#1a2b28;\">n you must w</span><sup>[3]</sup>antworth<span style=\"background-color:#1a2b28;\">en's hand </span><sup>[3]</sup>at her<span style=\"background-color:#1a2b28;\"> fragments </span><sup>[3]</sup><span style=\"background-color:#1a2b28;\">which\r",
       "<br>it p</span><sup>[3]</sup><span style=\"background-color:#1a2b28;\">erceived the</span><sup>[3]</sup><span style=\"background-color:#1b2e00;\"> mistress ag</span><sup>[2]</sup>grali<span style=\"background-color:#1a2b28;\">ties, one </span><sup>[3]</sup><span style=\"background-color:#122725;\">perhaps, may </span><sup>[4]</sup>be so liv<span style=\"background-color:#122725;\">eling,\" said </span><sup>[4]</sup><span style=\"background-color:#1a2b28;\">Helen. \"But </span><sup>[3]</sup>I'll<span style=\"background-color:#1b2e00;\"> I think,' </span><sup>[2]</sup><span style=\"background-color:#1b2e00;\">he\r",
       "<br>said, </span><sup>[2]</sup><span style=\"background-color:#1b2e00;\">when he had </span><sup>[2]</sup><span style=\"background-color:#1b2e00;\">told her to s</span><sup>[2]</sup>ee any obscure<span style=\"background-color:#1a2b28;\"> sociable m</span><sup>[3]</sup>ers since\r",
       "<br>as B<span style=\"background-color:#1b2e00;\">ath, and not</span><sup>[2]</sup><span style=\"background-color:#1a2b28;\"> a high yellow b</span><sup>[3]</sup>ook<span style=\"background-color:#1b2e00;\">s!'\r",
       "<br>\r",
       "<br>'No</span><sup>[2]</sup>nsense!--Well!' she gon<span style=\"background-color:#282a1f;\">e is your sist</span><sup>[1]</sup><span style=\"background-color:#282a1f;\"> distributing</span><sup>[1]</sup><span style=\"background-color:#282a1f;\">.\r",
       "<br>\r",
       "<br>\r",
       "<br>DARCY.\r",
       "<br>\r",
       "<br>[_Looking </span><sup>[1]</sup>her<span style=\"background-color:#282a1f;\"> hand_.]\r",
       "<br></span><sup>[1]</sup>"
      ],
      "text/plain": [
       "<IPython.core.display.HTML object>"
      ]
     },
     "metadata": {},
     "output_type": "display_data"
    },
    {
     "data": {
      "text/html": [
       "<small><p style=\"text-align:right;\">Sources: <span style=\"background-color:#1a2b28;\">Virginia Wolf: Voyage out</span><sup>[3]</sup>, <span style=\"background-color:#122725;\">Jane Austen: Emma</span><sup>[4]</sup>, <span style=\"background-color:#282a1f;\">Jane Austen: Pride and Prejudice</span><sup>[1]</sup>, <span style=\"background-color:#1b2e00;\">Emily Brontë: Wuthering Heights</span><sup>[2]</sup></p></small>"
      ],
      "text/plain": [
       "<IPython.core.display.HTML object>"
      ]
     },
     "metadata": {},
     "output_type": "display_data"
    },
    {
     "name": "stdout",
     "output_type": "stream",
     "text": [
      "Epoch 109750 Loss: 0.8924095170497894 Precision: 0.72451171875\n",
      "saved last model data, prec=0.72451171875\n",
      "Memory allocated: 25961472 max_alloc: 202655744 cached: 239075328 max_cached: 239075328\n"
     ]
    },
    {
     "data": {
      "text/html": [
       "<span style=\"background-color:#1a2b28;\">      That </span><sup>[3]</sup>ca<span style=\"background-color:#1b2e00;\">se by the </span><sup>[2]</sup><span style=\"background-color:#1b2e00;\">Grange, the</span><sup>[2]</sup>y shut to<span style=\"background-color:#1b2e00;\"> a\r",
       "<br>comfort</span><sup>[2]</sup><span style=\"background-color:#1a2b28;\"> which she had b</span><sup>[3]</sup><span style=\"background-color:#1b2e00;\">rought his </span><sup>[2]</sup>string<span style=\"background-color:#1b2e00;\">, putting\r",
       "<br></span><sup>[2]</sup><span style=\"background-color:#282a1f;\">very happy </span><sup>[1]</sup><span style=\"background-color:#1b2e00;\">countenance.\r",
       "<br>\r",
       "<br></span><sup>[2]</sup><span style=\"background-color:#1a2b28;\">\"Thank God!\" he exclaimed. </span><sup>[3]</sup> 'Ge<span style=\"background-color:#1b2e00;\">t all night</span><sup>[2]</sup><span style=\"background-color:#1b2e00;\"> coming and</span><sup>[2]</sup><span style=\"background-color:#122725;\">\r",
       "<br>thinking s</span><sup>[4]</sup><span style=\"background-color:#1b2e00;\">ufficient for</span><sup>[2]</sup>m<span style=\"background-color:#1a2b28;\">er luncheon, </span><sup>[3]</sup><span style=\"background-color:#1a2b28;\">Mr. Pepper,\" she s</span><sup>[3]</sup>l<span style=\"background-color:#1a2b28;\">ipped for </span><sup>[3]</sup><span style=\"background-color:#1a2b28;\">whatever, </span><sup>[3]</sup>whose\r",
       "<br>flam<span style=\"background-color:#1a2b28;\">e of water </span><sup>[3]</sup><span style=\"background-color:#1a2b28;\">in the course of </span><sup>[3]</sup>her due!<span style=\"background-color:#1a2b28;\"> it was very </span><sup>[3]</sup><span style=\"background-color:#122725;\">well done </span><sup>[4]</sup><span style=\"background-color:#282a1f;\">from these t</span><sup>[1]</sup>o<span style=\"background-color:#1b2e00;\"> a handkerchief\r",
       "<br>and </span><sup>[2]</sup><span style=\"background-color:#282a1f;\">Catherine d</span><sup>[1]</sup>istinc<span style=\"background-color:#122725;\">t, Harriet, </span><sup>[4]</sup><span style=\"background-color:#1a2b28;\">having brought them</span><sup>[3]</sup><span style=\"background-color:#1a2b28;\"> in the village, and </span><sup>[3]</sup><span style=\"background-color:#122725;\">her\r",
       "<br>terror</span><sup>[4]</sup><span style=\"background-color:#122725;\">, my dear Emma, </span><sup>[4]</sup><span style=\"background-color:#122725;\">person whom she </span><sup>[4]</sup><span style=\"background-color:#1b2e00;\">should have o</span><sup>[2]</sup>bjected a time "
      ],
      "text/plain": [
       "<IPython.core.display.HTML object>"
      ]
     },
     "metadata": {},
     "output_type": "display_data"
    },
    {
     "data": {
      "text/html": [
       "<small><p style=\"text-align:right;\">Sources: <span style=\"background-color:#1a2b28;\">Virginia Wolf: Voyage out</span><sup>[3]</sup>, <span style=\"background-color:#1b2e00;\">Emily Brontë: Wuthering Heights</span><sup>[2]</sup>, <span style=\"background-color:#282a1f;\">Jane Austen: Pride and Prejudice</span><sup>[1]</sup>, <span style=\"background-color:#122725;\">Jane Austen: Emma</span><sup>[4]</sup></p></small>"
      ],
      "text/plain": [
       "<IPython.core.display.HTML object>"
      ]
     },
     "metadata": {},
     "output_type": "display_data"
    },
    {
     "name": "stdout",
     "output_type": "stream",
     "text": [
      "Epoch 110000 Loss: 0.8907007060050964 Precision: 0.7197265625\n",
      "saved last model data, prec=0.7197265625\n",
      "Memory allocated: 26080256 max_alloc: 202655744 cached: 239075328 max_cached: 239075328\n"
     ]
    },
    {
     "data": {
      "text/html": [
       "<span style=\"background-color:#282a1f;\">    of the </span><sup>[1]</sup>househton<span style=\"background-color:#1b2e00;\">e, we were </span><sup>[2]</sup><span style=\"background-color:#1a2b28;\">close to her </span><sup>[3]</sup><span style=\"background-color:#1a2b28;\">eyes.\r",
       "<br>\r",
       "<br>\"I</span><sup>[3]</sup><span style=\"background-color:#1a2b28;\">'m going to se</span><sup>[3]</sup><span style=\"background-color:#1b2e00;\">e only to </span><sup>[2]</sup>finish<span style=\"background-color:#1a2b28;\"> it,\" said Hewet, </span><sup>[3]</sup><span style=\"background-color:#1b2e00;\">looking at the ob</span><sup>[2]</sup>scur<span style=\"background-color:#122725;\">ent of the f</span><sup>[4]</sup><span style=\"background-color:#1a2b28;\">act that\r",
       "<br></span><sup>[3]</sup>an<span style=\"background-color:#1b2e00;\"> motion of </span><sup>[2]</sup>my joince.  Come<span style=\"background-color:#122725;\">--the great </span><sup>[4]</sup><span style=\"background-color:#1b2e00;\">information that </span><sup>[2]</sup>arm<span style=\"background-color:#1b2e00;\">s of a mad</span><sup>[2]</sup><span style=\"background-color:#1a2b28;\">minations ac</span><sup>[3]</sup>cep<span style=\"background-color:#1a2b28;\">ted in\r",
       "<br>pleas</span><sup>[3]</sup>ure in<span style=\"background-color:#1a2b28;\"> much.\r",
       "<br>\r",
       "<br>\"</span><sup>[3]</sup>Not old Jale, good enormen<span style=\"background-color:#1a2b28;\">t was\r",
       "<br>not </span><sup>[3]</sup><span style=\"background-color:#122725;\">disgust tha</span><sup>[4]</sup><span style=\"background-color:#282a1f;\">t the Project Gutenberg-tm collection w</span><sup>[1]</sup><span style=\"background-color:#122725;\">ould not be a </span><sup>[4]</sup>human briend<span style=\"background-color:#1a2b28;\">led over the</span><sup>[3]</sup>m. But<span style=\"background-color:#122725;\"> upon what </span><sup>[4]</sup><span style=\"background-color:#1a2b28;\">was gratified</span><sup>[3]</sup><span style=\"background-color:#282a1f;\">\r",
       "<br>from the </span><sup>[1]</sup><span style=\"background-color:#122725;\">agreeable pro</span><sup>[4]</sup>faciv<span style=\"background-color:#122725;\">ation from the </span><sup>[4]</sup><span style=\"background-color:#282a1f;\">world._\"\r",
       "<br>\r",
       "<br>     C</span><sup>[1]</sup><span style=\"background-color:#282a1f;\">HARLOTTE LUCAS--(</span><sup>[1]</sup>LUCA"
      ],
      "text/plain": [
       "<IPython.core.display.HTML object>"
      ]
     },
     "metadata": {},
     "output_type": "display_data"
    },
    {
     "data": {
      "text/html": [
       "<small><p style=\"text-align:right;\">Sources: <span style=\"background-color:#282a1f;\">Jane Austen: Pride and Prejudice</span><sup>[1]</sup>, <span style=\"background-color:#1b2e00;\">Emily Brontë: Wuthering Heights</span><sup>[2]</sup>, <span style=\"background-color:#1a2b28;\">Virginia Wolf: Voyage out</span><sup>[3]</sup>, <span style=\"background-color:#122725;\">Jane Austen: Emma</span><sup>[4]</sup></p></small>"
      ],
      "text/plain": [
       "<IPython.core.display.HTML object>"
      ]
     },
     "metadata": {},
     "output_type": "display_data"
    },
    {
     "name": "stdout",
     "output_type": "stream",
     "text": [
      "Epoch 110250 Loss: 0.8924595799446106 Precision: 0.7154296875\n",
      "saved last model data, prec=0.7154296875\n",
      "Memory allocated: 25961472 max_alloc: 202655744 cached: 239075328 max_cached: 239075328\n"
     ]
    },
    {
     "data": {
      "text/html": [
       "<span style=\"background-color:#122725;\">no doubt that the</span><sup>[4]</sup><span style=\"background-color:#122725;\"> introducing her</span><sup>[4]</sup>e,<span style=\"background-color:#1b2e00;\"> where we </span><sup>[2]</sup><span style=\"background-color:#1b2e00;\">cannot be da</span><sup>[2]</sup>nce<span style=\"background-color:#282a1f;\">, is that </span><sup>[1]</sup>he will rise at my<span style=\"background-color:#1b2e00;\">\r",
       "<br>solitude, </span><sup>[2]</sup>extremely<span style=\"background-color:#1b2e00;\">: I can't </span><sup>[2]</sup><span style=\"background-color:#1b2e00;\">suffer him to </span><sup>[2]</sup>be hel<span style=\"background-color:#1b2e00;\">ped\r",
       "<br>with </span><sup>[2]</sup><span style=\"background-color:#1b2e00;\">these things </span><sup>[2]</sup><span style=\"background-color:#122725;\">while she d</span><sup>[4]</sup>i<span style=\"background-color:#1b2e00;\">d, if he had </span><sup>[2]</sup><span style=\"background-color:#1b2e00;\">no necessity for </span><sup>[2]</sup>wha<span style=\"background-color:#1a2b28;\">t you, Hirst</span><sup>[3]</sup> did Mrs.\r",
       "<br>Betheren.<span style=\"background-color:#282a1f;\"> Good God! </span><sup>[1]</sup>wor<span style=\"background-color:#1b2e00;\">se myself </span><sup>[2]</sup><span style=\"background-color:#1a2b28;\">in the dark </span><sup>[3]</sup>schou<span style=\"background-color:#122725;\">ls on the </span><sup>[4]</sup><span style=\"background-color:#122725;\">back of\r",
       "<br>he</span><sup>[4]</sup>alth. \"Middle me<span style=\"background-color:#122725;\">n affection, s</span><sup>[4]</sup><span style=\"background-color:#1b2e00;\">ince Mrs. </span><sup>[2]</sup>Bennet<span style=\"background-color:#282a1f;\">._] Well, </span><sup>[1]</sup>[_Till<span style=\"background-color:#122725;\"> the Churchills </span><sup>[4]</sup>bent p<span style=\"background-color:#282a1f;\">air with p</span><sup>[1]</sup>ropos<span style=\"background-color:#282a1f;\">e I\r",
       "<br>feel </span><sup>[1]</sup><span style=\"background-color:#282a1f;\">whether he would </span><sup>[1]</sup>try to<span style=\"background-color:#122725;\"> a stout wo</span><sup>[4]</sup><span style=\"background-color:#1a2b28;\">ke.\r",
       "<br>\r",
       "<br>The su</span><sup>[3]</sup><span style=\"background-color:#122725;\">spicions of a</span><sup>[4]</sup><span style=\"background-color:#122725;\"> moment would </span><sup>[4]</sup><span style=\"background-color:#1b2e00;\">not sleep </span><sup>[2]</sup>you ou"
      ],
      "text/plain": [
       "<IPython.core.display.HTML object>"
      ]
     },
     "metadata": {},
     "output_type": "display_data"
    },
    {
     "data": {
      "text/html": [
       "<small><p style=\"text-align:right;\">Sources: <span style=\"background-color:#122725;\">Jane Austen: Emma</span><sup>[4]</sup>, <span style=\"background-color:#1b2e00;\">Emily Brontë: Wuthering Heights</span><sup>[2]</sup>, <span style=\"background-color:#282a1f;\">Jane Austen: Pride and Prejudice</span><sup>[1]</sup>, <span style=\"background-color:#1a2b28;\">Virginia Wolf: Voyage out</span><sup>[3]</sup></p></small>"
      ],
      "text/plain": [
       "<IPython.core.display.HTML object>"
      ]
     },
     "metadata": {},
     "output_type": "display_data"
    },
    {
     "name": "stdout",
     "output_type": "stream",
     "text": [
      "Epoch 110500 Loss: 0.8890147159099578 Precision: 0.71796875\n",
      "saved last model data, prec=0.71796875\n",
      "Memory allocated: 25961472 max_alloc: 202655744 cached: 239075328 max_cached: 239075328\n"
     ]
    },
    {
     "data": {
      "text/html": [
       "<span style=\"background-color:#282a1f;\">    DARCY, WICK</span><sup>[1]</sup>EC<span style=\"background-color:#122725;\">II\r",
       "<br>\r",
       "<br>\r",
       "<br>\r",
       "<br></span><sup>[4]</sup><span style=\"background-color:#1b2e00;\">\r",
       "<br>\r",
       "<br>CHAPTER XXXIII\r",
       "<br>\r",
       "<br>\r",
       "<br>On </span><sup>[2]</sup><span style=\"background-color:#122725;\">a secret w</span><sup>[4]</sup>as _unclopountly <span style=\"background-color:#282a1f;\">to_ SIR WILLIAM.</span><sup>[1]</sup>\r",
       "<br>\r",
       "<br>BINI-ELICEW--(AMTS.] Peferts, Frank?<span style=\"background-color:#1a2b28;\">\"\r",
       "<br>\r",
       "<br>What w</span><sup>[3]</sup><span style=\"background-color:#1a2b28;\">as the woman </span><sup>[3]</sup><span style=\"background-color:#1b2e00;\">I'd rather re</span><sup>[2]</sup>coi<span style=\"background-color:#1a2b28;\">led something t</span><sup>[3]</sup><span style=\"background-color:#1a2b28;\">o say what </span><sup>[3]</sup>it<span style=\"background-color:#1a2b28;\"> was. We seem</span><sup>[3]</sup><span style=\"background-color:#122725;\">s\r",
       "<br>to have </span><sup>[4]</sup>them a sun bur<span style=\"background-color:#1b2e00;\">st in his </span><sup>[2]</sup>private food<span style=\"background-color:#122725;\">. She often</span><sup>[4]</sup> quit<span style=\"background-color:#1b2e00;\">e against her </span><sup>[2]</sup>pacing;<span style=\"background-color:#282a1f;\"> acquaintances </span><sup>[1]</sup><span style=\"background-color:#1b2e00;\">behind the\r",
       "<br></span><sup>[2]</sup><span style=\"background-color:#122725;\">whole time.</span><sup>[4]</sup>\r",
       "<br>\r",
       "<br>No<span style=\"background-color:#122725;\">t it all o</span><sup>[4]</sup>f aver<span style=\"background-color:#1b2e00;\">site that </span><sup>[2]</sup>neit<span style=\"background-color:#1b2e00;\">her lips we</span><sup>[2]</sup><span style=\"background-color:#122725;\"> nothing. I </span><sup>[4]</sup><span style=\"background-color:#282a1f;\">should like you </span><sup>[1]</sup><span style=\"background-color:#1b2e00;\">at having </span><sup>[2]</sup><span style=\"background-color:#1b2e00;\">expected that </span><sup>[2]</sup>it<span style=\"background-color:#1b2e00;\"> was\r",
       "<br>your </span><sup>[2]</sup>peerin<span style=\"background-color:#122725;\">e time her</span><sup>[4]</sup><span style=\"background-color:#282a1f;\">e.\r",
       "<br>\r",
       "<br>[_They </span><sup>[1]</sup><span style=\"background-color:#1a2b28;\">reached at </span><sup>[3]</sup>Enscombe"
      ],
      "text/plain": [
       "<IPython.core.display.HTML object>"
      ]
     },
     "metadata": {},
     "output_type": "display_data"
    },
    {
     "data": {
      "text/html": [
       "<small><p style=\"text-align:right;\">Sources: <span style=\"background-color:#282a1f;\">Jane Austen: Pride and Prejudice</span><sup>[1]</sup>, <span style=\"background-color:#122725;\">Jane Austen: Emma</span><sup>[4]</sup>, <span style=\"background-color:#1b2e00;\">Emily Brontë: Wuthering Heights</span><sup>[2]</sup>, <span style=\"background-color:#1a2b28;\">Virginia Wolf: Voyage out</span><sup>[3]</sup></p></small>"
      ],
      "text/plain": [
       "<IPython.core.display.HTML object>"
      ]
     },
     "metadata": {},
     "output_type": "display_data"
    },
    {
     "ename": "KeyboardInterrupt",
     "evalue": "",
     "output_type": "error",
     "traceback": [
      "\u001b[0;31m---------------------------------------------------------------------------\u001b[0m",
      "\u001b[0;31mKeyboardInterrupt\u001b[0m                         Traceback (most recent call last)",
      "\u001b[0;32m<ipython-input-37-5edc2d43571d>\u001b[0m in \u001b[0;36m<module>\u001b[0;34m\u001b[0m\n\u001b[1;32m     14\u001b[0m         \u001b[0ml\u001b[0m\u001b[0;34m,\u001b[0m\u001b[0mpr\u001b[0m\u001b[0;34m=\u001b[0m\u001b[0mtrain\u001b[0m\u001b[0;34m(\u001b[0m\u001b[0mXt\u001b[0m\u001b[0;34m,\u001b[0m\u001b[0myt\u001b[0m\u001b[0;34m,\u001b[0m\u001b[0;32mTrue\u001b[0m\u001b[0;34m)\u001b[0m\u001b[0;34m\u001b[0m\u001b[0;34m\u001b[0m\u001b[0m\n\u001b[1;32m     15\u001b[0m     \u001b[0;32melse\u001b[0m\u001b[0;34m:\u001b[0m\u001b[0;34m\u001b[0m\u001b[0;34m\u001b[0m\u001b[0m\n\u001b[0;32m---> 16\u001b[0;31m         \u001b[0ml\u001b[0m\u001b[0;34m,\u001b[0m\u001b[0mpr\u001b[0m\u001b[0;34m=\u001b[0m\u001b[0mtrain\u001b[0m\u001b[0;34m(\u001b[0m\u001b[0mXt\u001b[0m\u001b[0;34m,\u001b[0m\u001b[0myt\u001b[0m\u001b[0;34m,\u001b[0m\u001b[0;32mFalse\u001b[0m\u001b[0;34m)\u001b[0m\u001b[0;34m\u001b[0m\u001b[0;34m\u001b[0m\u001b[0m\n\u001b[0m\u001b[1;32m     17\u001b[0m     \u001b[0mls\u001b[0m\u001b[0;34m=\u001b[0m\u001b[0mls\u001b[0m\u001b[0;34m+\u001b[0m\u001b[0ml\u001b[0m\u001b[0;34m\u001b[0m\u001b[0;34m\u001b[0m\u001b[0m\n\u001b[1;32m     18\u001b[0m     \u001b[0mnrls\u001b[0m\u001b[0;34m=\u001b[0m\u001b[0mnrls\u001b[0m\u001b[0;34m+\u001b[0m\u001b[0;36m1\u001b[0m\u001b[0;34m\u001b[0m\u001b[0;34m\u001b[0m\u001b[0m\n",
      "\u001b[0;32m<ipython-input-13-333b156af3e3>\u001b[0m in \u001b[0;36mtrain\u001b[0;34m(Xt, yt, bPr)\u001b[0m\n\u001b[1;32m     35\u001b[0m \u001b[0;34m\u001b[0m\u001b[0m\n\u001b[1;32m     36\u001b[0m     \u001b[0mloss\u001b[0m \u001b[0;34m=\u001b[0m \u001b[0mcriterion\u001b[0m\u001b[0;34m(\u001b[0m\u001b[0molin\u001b[0m\u001b[0;34m,\u001b[0m \u001b[0mytlin\u001b[0m\u001b[0;34m)\u001b[0m\u001b[0;34m\u001b[0m\u001b[0;34m\u001b[0m\u001b[0m\n\u001b[0;32m---> 37\u001b[0;31m     \u001b[0mls\u001b[0m \u001b[0;34m=\u001b[0m \u001b[0mloss\u001b[0m\u001b[0;34m.\u001b[0m\u001b[0mitem\u001b[0m\u001b[0;34m(\u001b[0m\u001b[0;34m)\u001b[0m\u001b[0;34m\u001b[0m\u001b[0;34m\u001b[0m\u001b[0m\n\u001b[0m\u001b[1;32m     38\u001b[0m     \u001b[0mloss\u001b[0m\u001b[0;34m.\u001b[0m\u001b[0mbackward\u001b[0m\u001b[0;34m(\u001b[0m\u001b[0;34m)\u001b[0m\u001b[0;34m\u001b[0m\u001b[0;34m\u001b[0m\u001b[0m\n\u001b[1;32m     39\u001b[0m     \u001b[0mopti\u001b[0m\u001b[0;34m.\u001b[0m\u001b[0mstep\u001b[0m\u001b[0;34m(\u001b[0m\u001b[0;34m)\u001b[0m\u001b[0;34m\u001b[0m\u001b[0;34m\u001b[0m\u001b[0m\n",
      "\u001b[0;31mKeyboardInterrupt\u001b[0m: "
     ]
    }
   ],
   "source": [
    "ls=0\n",
    "nrls=0\n",
    "if use_cuda:\n",
    "    intv=250\n",
    "else:\n",
    "    intv=10\n",
    "\n",
    "create_project_path()\n",
    "epoch_start, _ = load_checkpoint()\n",
    "\n",
    "for e in range(epoch_start,2500000):\n",
    "    Xt, yt = get_data()\n",
    "    if (e+1)%intv==0:\n",
    "        l,pr=train(Xt,yt,True)\n",
    "    else:\n",
    "        l,pr=train(Xt,yt,False)        \n",
    "    ls=ls+l\n",
    "    nrls=nrls+1\n",
    "    if (e+1)%intv==0:\n",
    "        print(\"Epoch {} Loss: {} Precision: {}\".format(e+1,ls/nrls, pr))\n",
    "        save_checkpoint(e,ls/nrls,pr)\n",
    "        if use_cuda:\n",
    "            print(\"Memory allocated: {} max_alloc: {} cached: {} max_cached: {}\".format(torch.cuda.memory_allocated(), torch.cuda.max_memory_allocated(), torch.cuda.memory_cached(), torch.cuda.max_memory_cached()))\n",
    "        nrls=0\n",
    "        ls=0\n",
    "        tgen=poet.generate(500,\"\\n\\n\")\n",
    "        textlib.source_highlight(tgen,minQuoteSize=10,dark_mode=use_dark_mode)"
   ]
  },
  {
   "cell_type": "code",
   "execution_count": null,
   "metadata": {
    "colab": {},
    "colab_type": "code",
    "id": "O-uQpdiFRt1a"
   },
   "outputs": [],
   "source": [
    "# if is_colab_notebook:\n",
    "#    drive.flush_and_unmount()"
   ]
  },
  {
   "cell_type": "markdown",
   "metadata": {
    "colab_type": "text",
    "id": "-dsSPjPsUlpY"
   },
   "source": [
    "# 4. Text generation\n",
    "\n",
    "## 4.1 Helpers"
   ]
  },
  {
   "cell_type": "code",
   "execution_count": 38,
   "metadata": {
    "colab": {},
    "colab_type": "code",
    "id": "wdpCtjvfUlpZ",
    "scrolled": true
   },
   "outputs": [],
   "source": [
    "def detectPlagiarism(generatedtext, textlibrary, minQuoteLength=10):\n",
    "    textlibrary.source_highlight(generatedtext, minQuoteSize=minQuoteLength,dark_mode=use_dark_mode)"
   ]
  },
  {
   "cell_type": "markdown",
   "metadata": {
    "colab_type": "text",
    "id": "hjCd8CHLUlpd"
   },
   "source": [
    "## 4.2 Dialog with the model"
   ]
  },
  {
   "cell_type": "code",
   "execution_count": 39,
   "metadata": {
    "colab": {},
    "colab_type": "code",
    "id": "pfiL1_64Ulpe"
   },
   "outputs": [],
   "source": [
    "# Do a dialog with the recursive neural net trained above:\n",
    "def doDialog():\n",
    "    # temperature = 0.6  # 0.1 (frozen character) - 1.3 (creative/chaotic character)\n",
    "    endPrompt = '.'  # the endPrompt character is the end-mark in answers.\n",
    "    maxEndPrompts = 4  # look for number of maxEndPrompts until answer is finished.\n",
    "    maxAnswerSize = 2048  # Maximum length of the answer\n",
    "    minAnswerSize = 64  # Minimum length of the answer\n",
    "\n",
    "    \n",
    "    print(\"Please enter some dialog.\")\n",
    "    print(\"The net will answer according to your input.\")\n",
    "    print(\"'bye' for end,\")\n",
    "    print(\"'reset' to reset the conversation context,\")\n",
    "    # print(\"'temperature=<float>' [0.1(frozen)-1.0(creative)]\")\n",
    "    print(\"    to change character of the dialog.\")\n",
    "    # print(\"    Current temperature={}.\".format(temperature))\n",
    "    print()\n",
    "    xso = None\n",
    "    bye = False\n",
    "        \n",
    "    while not bye:\n",
    "        print(\"> \", end=\"\")\n",
    "        prompt = input()\n",
    "        if prompt == 'bye':\n",
    "            bye = True\n",
    "            print(\"Good bye!\")\n",
    "            continue\n",
    "        tgen=poet.generate(1000,prompt)\n",
    "        # print(xso.replace(\"\\\\n\",\"\\n\"))\n",
    "        textlib.source_highlight(tgen, minQuoteSize=10,dark_mode=use_dark_mode)\n",
    "    return"
   ]
  },
  {
   "cell_type": "code",
   "execution_count": 40,
   "metadata": {
    "colab": {},
    "colab_type": "code",
    "id": "u-vHDcHupruq"
   },
   "outputs": [
    {
     "name": "stdout",
     "output_type": "stream",
     "text": [
      "Continuing from saved state epoch=106749, loss=0.8707523345947266\n",
      "Sample text:\n",
      "\n"
     ]
    },
    {
     "data": {
      "text/html": [
       "not my compular<span style=\"background-color:#282a1f;\">m.\r",
       "<br>\r",
       "<br>     [_</span><sup>[1]</sup>As it<span style=\"background-color:#282a1f;\"> be broken </span><sup>[1]</sup>form<span style=\"background-color:#1b2e00;\"> he told h</span><sup>[2]</sup><span style=\"background-color:#122725;\">er that she could </span><sup>[4]</sup>det<span style=\"background-color:#282a1f;\">ect to the </span><sup>[1]</sup>s<span style=\"background-color:#122725;\">on of a la</span><sup>[4]</sup>mp<span style=\"background-color:#282a1f;\">\r",
       "<br>with dis</span><sup>[1]</sup>tance<span style=\"background-color:#1b2e00;\">.  'Cathy, </span><sup>[2]</sup><span style=\"background-color:#282a1f;\">of course, of course, </span><sup>[1]</sup><span style=\"background-color:#282a1f;\">Miss Bennet. </span><sup>[1]</sup>W<span style=\"background-color:#122725;\">e are always </span><sup>[4]</sup><span style=\"background-color:#282a1f;\">happy!\r",
       "<br>\r",
       "<br>\r",
       "<br></span><sup>[1]</sup><span style=\"background-color:#282a1f;\">CHARLOTTE.\r",
       "<br>\r",
       "<br>By a</span><sup>[1]</sup> sa<span style=\"background-color:#1a2b28;\">vision of h</span><sup>[3]</sup>is<span style=\"background-color:#1b2e00;\"> to procure s</span><sup>[2]</sup>eeing\r",
       "<br>a wax<span style=\"background-color:#1b2e00;\">er.'\r",
       "<br>\r",
       "<br>'It</span><sup>[2]</sup> is be common tener y<span style=\"background-color:#1b2e00;\">er suppose</span><sup>[2]</sup><span style=\"background-color:#1b2e00;\"> to hear what </span><sup>[2]</sup><span style=\"background-color:#122725;\">it is not a</span><sup>[4]</sup><span style=\"background-color:#1b2e00;\">ware of it</span><sup>[2]</sup><span style=\"background-color:#282a1f;\">!\r",
       "<br>\r",
       "<br>\r",
       "<br>ELIZABETH.\r",
       "<br>\r",
       "<br>[_S</span><sup>[1]</sup>houl<span style=\"background-color:#122725;\">ds from the </span><sup>[4]</sup>streamed by King<span style=\"background-color:#122725;\">ston, and </span><sup>[4]</sup><span style=\"background-color:#1a2b28;\">the alarm w</span><sup>[3]</sup><span style=\"background-color:#1a2b28;\">as ready with </span><sup>[3]</sup><span style=\"background-color:#1a2b28;\">turned\r",
       "<br>and </span><sup>[3]</sup><span style=\"background-color:#282a1f;\">the library</span><sup>[1]</sup><span style=\"background-color:#282a1f;\"> or limitation </span><sup>[1]</sup><span style=\"background-color:#1a2b28;\">which she\r",
       "<br>re</span><sup>[3]</sup><span style=\"background-color:#1a2b28;\">ally laugh</span><sup>[3]</sup><span style=\"background-color:#122725;\">ed, however, a</span><sup>[4]</sup><span style=\"background-color:#1b2e00;\">nd he turned to </span><sup>[2]</sup>him.  Redistonate<span style=\"background-color:#122725;\">, the visit</span><sup>[4]</sup> of lawn<span style=\"background-color:#122725;\">\r",
       "<br>exciting </span><sup>[4]</sup><span style=\"background-color:#1a2b28;\">in her hand </span><sup>[3]</sup>on h<span style=\"background-color:#1b2e00;\">er misery </span><sup>[2]</sup><span style=\"background-color:#122725;\">for her, she </span><sup>[4]</sup><span style=\"background-color:#1a2b28;\">professed her</span><sup>[3]</sup> cheek<span style=\"background-color:#1a2b28;\"> and saw that </span><sup>[3]</sup>she\r",
       "<br>live<span style=\"background-color:#1a2b28;\"> in millions</span><sup>[3]</sup>,<span style=\"background-color:#1a2b28;\"> and anything</span><sup>[3]</sup><span style=\"background-color:#1a2b28;\"> in the original </span><sup>[3]</sup>intens<span style=\"background-color:#122725;\">e\r",
       "<br>knowledge o</span><sup>[4]</sup>ver<span style=\"background-color:#1b2e00;\"> his best to s</span><sup>[2]</sup><span style=\"background-color:#1b2e00;\">tare into </span><sup>[2]</sup>warmth<span style=\"background-color:#122725;\"> to appear p</span><sup>[4]</sup>inchen<span style=\"background-color:#1b2e00;\">ed\r",
       "<br>where </span><sup>[2]</sup><span style=\"background-color:#1a2b28;\">he had come o</span><sup>[3]</sup>ve<span style=\"background-color:#122725;\">r Mr. Knightley, a</span><sup>[4]</sup><span style=\"background-color:#1b2e00;\">nd the more </span><sup>[2]</sup><span style=\"background-color:#1b2e00;\">beautifully </span><sup>[2]</sup><span style=\"background-color:#122725;\">on their a</span><sup>[4]</sup>rrival<span style=\"background-color:#1a2b28;\"> upon curio</span><sup>[3]</sup>si<span style=\"background-color:#1b2e00;\">ty to inquire</span><sup>[2]</sup><span style=\"background-color:#282a1f;\"> which is o</span><sup>[1]</sup><span style=\"background-color:#1a2b28;\">ut again t</span><sup>[3]</sup><span style=\"background-color:#1b2e00;\">o do with the</span><sup>[2]</sup>\r",
       "<br>who<span style=\"background-color:#1a2b28;\">le effort </span><sup>[3]</sup>to launcy<span style=\"background-color:#1a2b28;\"> for talking </span><sup>[3]</sup><span style=\"background-color:#122725;\">dislike to a </span><sup>[4]</sup>bride is if no<span style=\"background-color:#122725;\"> progress m</span><sup>[4]</sup>ay b<span style=\"background-color:#1b2e00;\">e astonished</span><sup>[2]</sup>.  It's few perh"
      ],
      "text/plain": [
       "<IPython.core.display.HTML object>"
      ]
     },
     "metadata": {},
     "output_type": "display_data"
    },
    {
     "data": {
      "text/html": [
       "<small><p style=\"text-align:right;\">Sources: <span style=\"background-color:#282a1f;\">Jane Austen: Pride and Prejudice</span><sup>[1]</sup>, <span style=\"background-color:#1b2e00;\">Emily Brontë: Wuthering Heights</span><sup>[2]</sup>, <span style=\"background-color:#122725;\">Jane Austen: Emma</span><sup>[4]</sup>, <span style=\"background-color:#1a2b28;\">Virginia Wolf: Voyage out</span><sup>[3]</sup></p></small>"
      ],
      "text/plain": [
       "<IPython.core.display.HTML object>"
      ]
     },
     "metadata": {},
     "output_type": "display_data"
    }
   ],
   "source": [
    "load_checkpoint(filename=\"model_best.pth.tar\")\n",
    "\n",
    "print(\"Sample text:\")\n",
    "print(\"\")\n",
    "tgen=poet.generate(1000,\"\\n\\n\")\n",
    "detectPlagiarism(tgen, textlib)"
   ]
  },
  {
   "cell_type": "code",
   "execution_count": null,
   "metadata": {
    "colab": {},
    "colab_type": "code",
    "id": "8mGGsuFRUlpi",
    "scrolled": true
   },
   "outputs": [],
   "source": [
    "doDialog()"
   ]
  },
  {
   "cell_type": "code",
   "execution_count": null,
   "metadata": {
    "colab": {},
    "colab_type": "code",
    "id": "spZ0rUZJm92c"
   },
   "outputs": [],
   "source": []
  }
 ],
 "metadata": {
  "accelerator": "GPU",
  "colab": {
   "collapsed_sections": [],
   "include_colab_link": true,
   "name": "Copy of torch_poet.ipynb",
   "provenance": []
  },
  "kernelspec": {
   "display_name": "Python 3",
   "language": "python",
   "name": "python3"
  },
  "language_info": {
   "codemirror_mode": {
    "name": "ipython",
    "version": 3
   },
   "file_extension": ".py",
   "mimetype": "text/x-python",
   "name": "python",
   "nbconvert_exporter": "python",
   "pygments_lexer": "ipython3",
   "version": "3.8.1"
  }
 },
 "nbformat": 4,
 "nbformat_minor": 4
}
