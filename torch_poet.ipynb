{
 "cells": [
  {
   "cell_type": "markdown",
   "metadata": {
    "colab_type": "text",
    "id": "view-in-github"
   },
   "source": [
    "<a href=\"https://colab.research.google.com/github/domschl/torch-poet/blob/master/torch_poet.ipynb\" target=\"_parent\"><img src=\"https://colab.research.google.com/assets/colab-badge.svg\" alt=\"Open In Colab\"/></a>"
   ]
  },
  {
   "cell_type": "code",
   "execution_count": 9,
   "metadata": {
    "colab": {},
    "colab_type": "code",
    "id": "28i44jSzUlon"
   },
   "outputs": [],
   "source": [
    "import numpy as np\n",
    "import os\n",
    "import shutil\n",
    "from enum import Enum\n",
    "import re\n",
    "import time\n",
    "import logging\n",
    "import sys\n",
    "import json\n",
    "import random\n",
    "import torch\n",
    "import torch.nn as nn\n",
    "from torch import Tensor\n",
    "\n",
    "try:\n",
    "    from urllib.request import urlopen  # Py3\n",
    "except:\n",
    "    print(\"This notebook requires Python 3.\")\n",
    "try:\n",
    "    import pathlib\n",
    "except:\n",
    "    print(\"At least python 3.5 is needed.\")\n",
    "    \n",
    "try: # Colab instance?\n",
    "    from google.colab import drive\n",
    "except: # Not? ignore.\n",
    "    pass\n",
    "\n",
    "from IPython.core.display import display, HTML"
   ]
  },
  {
   "cell_type": "markdown",
   "metadata": {
    "colab_type": "text",
    "id": "eE-jm072kOKv"
   },
   "source": [
    "# 0. System configuration\n",
    "\n",
    "This notebook can either run on a local jupyter server, or on google cloud.\n",
    "If a GPU is available, it will be used for training (if `force_cpu` is not set to `True`).\n",
    "\n",
    "By default snapshots of the trained net are stored locally for jupyter instances, and on user's google drive for Google Colab instances. The snapshots allow the restart of training or inference at any time, e.g. after the Colab session was terminated.\n",
    "\n",
    "Similarily, the text corpora that are used for training, can be cached on drive or locally."
   ]
  },
  {
   "cell_type": "code",
   "execution_count": 10,
   "metadata": {
    "colab": {},
    "colab_type": "code",
    "id": "HVyGr-BCiJlR"
   },
   "outputs": [],
   "source": [
    "# force_cpu=True: use CPU for training, even if a GPU is available.\n",
    "#    Note: inference uses CPU always, because that is faster.\n",
    "force_cpu=False\n",
    "\n",
    "# Define where snapshots of training data are stored:\n",
    "colab_google_drive_snapshots=True\n",
    "\n",
    "# Define if training data (the texts downloaded from internet) are cached:\n",
    "colab_google_drive_data_cache=True  # In colab mode cache to google drive\n",
    "local_jupyter_data_cache=True       # In local jupyter mode cache to local path"
   ]
  },
  {
   "cell_type": "code",
   "execution_count": 11,
   "metadata": {
    "colab": {},
    "colab_type": "code",
    "id": "ply0tFmz4O1E"
   },
   "outputs": [
    {
     "name": "stdout",
     "output_type": "stream",
     "text": [
      "PyTorch 1.4.0, running on GPU\n"
     ]
    }
   ],
   "source": [
    "is_colab_notebook = 'google.colab' in sys.modules\n",
    "torch_version = torch.__version__\n",
    "\n",
    "if torch.cuda.is_available() and force_cpu is not True:\n",
    "    device='cuda'\n",
    "    use_cuda = True\n",
    "    print(f\"PyTorch {torch_version}, running on GPU\")\n",
    "    if is_colab_notebook:\n",
    "        card = !nvidia-smi\n",
    "        if len(card)>=8:\n",
    "            try:\n",
    "                gpu_type=card[7][6:25]\n",
    "                gpu_memory=card[8][33:54]\n",
    "                print(f\"Colab GPU: {gpu_type}, GPU Memory: {gpu_memory}\")\n",
    "            except Exception as e:\n",
    "                pass\n",
    "else:\n",
    "    device='cpu'\n",
    "    use_cuda = False\n",
    "    print(f\"{torch_version}, running on CPU\")\n",
    "    if colab_notebook:\n",
    "        print(\"Note: on Google Colab, make sure to select:\")\n",
    "        print(\"      Runtime / Change Runtime Type / Hardware accelerator: GPU\")"
   ]
  },
  {
   "cell_type": "code",
   "execution_count": 12,
   "metadata": {
    "colab": {},
    "colab_type": "code",
    "id": "kTRmAT1f4O1I"
   },
   "outputs": [],
   "source": [
    "if is_colab_notebook:\n",
    "    if colab_google_drive_snapshots:\n",
    "        mountpoint='/content/drive'\n",
    "        root_path='/content/drive/My Drive'\n",
    "        if not os.path.exists(root_path):\n",
    "            drive.mount(mountpoint)\n",
    "        if not os.path.exists(root_path):\n",
    "            print(\"Something went wrong with Google Drive access. Cannot save snapshots to GD.\")\n",
    "            colab_google_drive_snapshots=False\n",
    "    else:\n",
    "        print(\"Since google drive snapshots are not active, training data will be lost as soon as the Colab session terminates!\")\n",
    "        print(\"Set `colab_google_drive_snapshots` to `True` to make training data persistent.\")\n",
    "else:\n",
    "    root_path='.'"
   ]
  },
  {
   "cell_type": "code",
   "execution_count": 13,
   "metadata": {
    "colab": {},
    "colab_type": "code",
    "id": "nlMMykJxsJcv"
   },
   "outputs": [],
   "source": [
    "def one_hot(p, dim):\n",
    "    o=np.zeros(p.shape+(dim,), dtype=int)\n",
    "    for y in range(p.shape[0]):\n",
    "        for x in range(p.shape[1]):\n",
    "            o[y,x,p[y,x]]=1\n",
    "    return o"
   ]
  },
  {
   "cell_type": "markdown",
   "metadata": {
    "colab_type": "text",
    "id": "JoutSg5IUlot"
   },
   "source": [
    "# 1. Text data collection\n",
    "\n",
    "**Important note:** the following `project_name` determines the root directory for training data and model snapshots, so it should be changed whenever datasets of model configurations are changed."
   ]
  },
  {
   "cell_type": "code",
   "execution_count": 14,
   "metadata": {
    "colab": {},
    "colab_type": "code",
    "id": "xuuvAPeIjtp4"
   },
   "outputs": [],
   "source": [
    "project_name = \"philosophers_lang_eng\"\n",
    "project_description = \"A model trained on several books of philosophers in English language.\""
   ]
  },
  {
   "cell_type": "code",
   "execution_count": 15,
   "metadata": {
    "colab": {},
    "colab_type": "code",
    "id": "NPD_j8qRjtp7"
   },
   "outputs": [],
   "source": [
    "if is_colab_notebook:\n",
    "    if colab_google_drive_data_cache is True:\n",
    "        data_cache_path=os.path.join(root_path,f\"Colab Notebooks/{project_name}/Data\")\n",
    "    else:\n",
    "        data_cache_path=None\n",
    "else:\n",
    "    if local_jupyter_data_cache is True:\n",
    "        data_cache_path=os.path.join(root_path,f\"{project_name}/Data\")\n",
    "    else:\n",
    "        data_cache_path=None\n",
    "\n",
    "if data_cache_path is not None:\n",
    "    pathlib.Path(data_cache_path).mkdir(parents=True, exist_ok=True)\n",
    "    if not os.path.exists(data_cache_path):\n",
    "        print(\"ERROR, the cache directory does not exist. This will fail.\")\n",
    "            \n",
    "def get_cache_name(cache_path, author, title):\n",
    "    if cache_path is None:\n",
    "        return None\n",
    "    cname=f\"{author} - {title}.txt\"\n",
    "    cname=cname.replace('?','_')  # Gutenberg index is pre-Unicode-mess and some titles contain '?' for bad conversions.\n",
    "    cache_filepath=os.path.join(cache_path, cname)\n",
    "    return cache_filepath"
   ]
  },
  {
   "cell_type": "markdown",
   "metadata": {
    "colab_type": "text",
    "id": "KPkfXQbGjtp_"
   },
   "source": [
    "## 1.1 Project Gutenberg data source\n",
    "\n",
    "Search, filter, clean and download books from Project Gutenberg"
   ]
  },
  {
   "cell_type": "code",
   "execution_count": 16,
   "metadata": {
    "colab": {},
    "colab_type": "code",
    "id": "gz_LqFccjtqA"
   },
   "outputs": [],
   "source": [
    "logging.basicConfig(level=logging.INFO)"
   ]
  },
  {
   "cell_type": "code",
   "execution_count": 17,
   "metadata": {
    "colab": {},
    "colab_type": "code",
    "id": "HELQbmZwjtqF"
   },
   "outputs": [],
   "source": [
    "class GutenbergLib:\n",
    "    \"\"\" A fuzzy, lightweight library to access, search and filter Project Gutenberg resources \"\"\"\n",
    "    def __init__(self, root_url=\"http://www.mirrorservice.org/sites/ftp.ibiblio.org/pub/docs/books/gutenberg\", cache_dir=\"gutenberg\"):\n",
    "        \"\"\" GutenbergLib by default uses a mirror's root URL\n",
    "        \n",
    "        root_url -- url of Project Gutenberg or any mirror URL.\n",
    "        cache_dir -- path to a directory that will be used to cache the Gutenberg index and already downloaded texts\n",
    "        \"\"\"\n",
    "        self.log = logging.getLogger('GutenbergLib')\n",
    "        self.root_url = root_url\n",
    "        self.index=None\n",
    "        self.NEAR=2048\n",
    "        try:\n",
    "            if not os.path.exists(cache_dir):\n",
    "                os.makedirs(cache_dir)\n",
    "            self.cache_dir=cache_dir\n",
    "        except Exception as e:\n",
    "            self.cache_dir=None\n",
    "            self.log.error(f\"Failed to create cache directory {cache_dir}, {e}\")\n",
    "\n",
    "    def _parse_record(self,record,verbose=True):\n",
    "        \"\"\" internal function to recreate some consistent record information from near-freestyle text \"\"\"\n",
    "        rl=record.split('\\n')\n",
    "        white=str(chr(160))+str(chr(9))+\" \" # non-breaking space, TAB, and space\n",
    "        ebook_no=\"\"\n",
    "        while len(rl[0])>0 and rl[0][-1] in white:\n",
    "            rl[0]=rl[0][:-1]\n",
    "        while len(rl[0])>0 and not rl[0][-1] in white:\n",
    "            ebook_no=rl[0][-1]+ebook_no\n",
    "            rl[0]=rl[0][:-1]\n",
    "        while len(rl[0])>0 and rl[0][-1] in white:\n",
    "            rl[0]=rl[0][:-1]\n",
    "        \n",
    "        # Sanity check\n",
    "        try:\n",
    "            fa=re.findall(ebook_no,\"\\A[0-9]+[A-C]\\Z\")\n",
    "        except Exception as e:\n",
    "            fa=None\n",
    "            if verbose is True:\n",
    "                self.log.debug(f\"Failed to apply regex on >{ebook_no}<\")\n",
    "            \n",
    "        if len(rl[0])<5 or fa==None or len(ebook_no)>7:\n",
    "            if verbose is True:\n",
    "                print(\"-------------------------------------\")\n",
    "                print(record)\n",
    "                print(\"- - - - - - - - - - - - - - - - - - -\")\n",
    "                print(f\"Dodgy record: {rl[0]}\")\n",
    "                print(f\"    ebook-id:  >{ebook_no}<\")\n",
    "            return None\n",
    "        \n",
    "        for i in range(len(rl)):\n",
    "            rl[i]=rl[i].strip()\n",
    "            \n",
    "        p=0\n",
    "        while p<len(rl)-1:\n",
    "            if len(rl[p+1])==0:\n",
    "                print(f\"Invalid rec: {record}\")\n",
    "                p+=1\n",
    "            else:\n",
    "                if rl[p+1][0]!=\"[\":\n",
    "                    rl[p]+=\" \"+rl[p+1]\n",
    "                    del rl[p+1]\n",
    "                    if rl[p][-1]==']':\n",
    "                        p+=1\n",
    "                else:\n",
    "                    p+=1\n",
    "        \n",
    "        rec={}\n",
    "        l0=rl[0].split(\", by \")\n",
    "        rec['title']=l0[0]\n",
    "        rec['ebook_id']=ebook_no\n",
    "        # if len(l0)>2:\n",
    "        #    print(f\"Chaos title: {rl[0]}\")\n",
    "        if len(l0)>1:\n",
    "            rec['author']=l0[-1]\n",
    "        for r in rl[1:]:\n",
    "            if r[0]!='[' or r[-1]!=']':\n",
    "                if r[0]=='[':\n",
    "                    ind=r.rfind(']')\n",
    "                    if ind != -1:\n",
    "                        # print(f\"Garbage trail {r}\")\n",
    "                        r=r[:ind+1]\n",
    "                        # print(f\"Fixed: {r}\")\n",
    "                    else:\n",
    "                        # print(f\"Missing closing ] {r}\")\n",
    "                        r+=']'\n",
    "                        # print(f\"Fixed: {r}\")\n",
    "            if r[0]=='[' and r[-1]==']':\n",
    "                r=r[1:-1]\n",
    "                i1=r.find(':')\n",
    "                if i1==-1:\n",
    "                    r=r.replace(\"Author a.k.a.\",\"Author a.k.a.:\")\n",
    "                    i1=r.find(':')\n",
    "                if i1!=-1:\n",
    "                    i2=r[i1:].find(' ')+i1\n",
    "                else:\n",
    "                    i2=-1\n",
    "                if i1==-1 and i2==-1:\n",
    "                    pass\n",
    "                    # print(f\"Invalid attribut in {rl}::{r}\")\n",
    "                else:\n",
    "                    if i2-i1==1:\n",
    "                        key=r[:i1]\n",
    "                        val=r[i2+1:]\n",
    "                        if '[' in key or ']' in key or '[' in val or ']' in val or len(key)>15:\n",
    "                            pass\n",
    "                            # print(\"messy key/val\")\n",
    "                        else:\n",
    "                            rec[key.strip().lower()]=val.strip()\n",
    "                    else:\n",
    "                        pass\n",
    "                        # print(f\"Bad attribute name terminator, missing ': ' {r}\")\n",
    "            else:\n",
    "                pass\n",
    "                # print(f\"Invalid attribut in {rl}::{r}\")\n",
    "        if len(rec)>1:\n",
    "            if \"language\" not in rec.keys():\n",
    "                rec[\"language\"]=\"English\"\n",
    "        return rec\n",
    "        \n",
    "    def _parse_index(self, lines):\n",
    "        \"\"\" internal function to parse the fuzzy text-based Gutenberg table of content \"\"\"\n",
    "        class State(Enum):\n",
    "            NONE=1,\n",
    "            SYNC_START=2,\n",
    "            SYNC_REC=3,\n",
    "            END=5\n",
    "    \n",
    "        white=str(chr(160))+str(chr(9))+\" \" # non-breaking space, TAB, and space\n",
    "        state=State.NONE\n",
    "        start_token=\"~ ~ ~ ~\"\n",
    "        stop_token=[\"=====\"]\n",
    "        end_token=\"<==End\"\n",
    "        ignore_headers=[\"TITLE and AUTHOR\"]\n",
    "        ignore_content=[\"Not in the Posted Archives\",\"human-read audio ebooks\", \"Audio:\"]\n",
    "        empty_lines=0\n",
    "        records=[]\n",
    "        for line in lines:\n",
    "            if line[:len(end_token)]==end_token:\n",
    "                state=State.END\n",
    "                break\n",
    "\n",
    "            if state==State.NONE:\n",
    "                if line[:len(start_token)]==start_token:\n",
    "                    state=State.SYNC_START\n",
    "                    empty_lines=0\n",
    "                    continue\n",
    "            if state==State.SYNC_START:\n",
    "                if len(line.strip())==0:\n",
    "                    empty_lines+=1\n",
    "                    if empty_lines>1:\n",
    "                        state=State.NONE\n",
    "                        continue\n",
    "                else:\n",
    "                    stopped=False\n",
    "                    for stop in stop_token:\n",
    "                        if line[:len(stop)]==stop:\n",
    "                            stopped=True\n",
    "                            break\n",
    "                    if stopped is True:\n",
    "                        state=State.NONE\n",
    "                        empty_lines=0\n",
    "                        continue\n",
    "                    ignore=False\n",
    "                    for header in ignore_headers:\n",
    "                        if line[:len(header)]==header:\n",
    "                            empty_lines=0\n",
    "                            ignore=True\n",
    "                    for token in ignore_content:\n",
    "                        if token in line:\n",
    "                            empty_lines=0\n",
    "                            ignore=True\n",
    "                    if ignore is True:\n",
    "                        continue\n",
    "                    rec=line\n",
    "                    state=State.SYNC_REC\n",
    "                    continue\n",
    "            if state==State.SYNC_REC:\n",
    "                if len(line.strip())==0 or line[0] not in white:\n",
    "                    if len(records)<10:\n",
    "                        parsed_rec=self._parse_record(rec, verbose=True)\n",
    "                    else:\n",
    "                        parsed_rec=self._parse_record(rec, verbose=False)\n",
    "                        \n",
    "                    if parsed_rec is not None:\n",
    "                        records.append(parsed_rec)\n",
    "                    empty_lines=1\n",
    "                    if len(line.strip())==0:\n",
    "                        state=State.SYNC_START\n",
    "                        continue\n",
    "                    else:\n",
    "                        rec=line\n",
    "                        continue\n",
    "                rec=rec+\"\\n\"+line\n",
    "        return records\n",
    "                    \n",
    "    def load_index(self, cache=True, cache_expire_days=30):\n",
    "        \"\"\" This function loads the Gutenberg record index, either from cache, or from a website\n",
    "        \n",
    "        cache -- default True, use the cache directory to cache both index and text files. Index\n",
    "        expires after cache_expire_days, text files never expire. Should *NOT* be set to False\n",
    "        in order to prevent unnecessary re-downloading.\n",
    "        cache_expire_days -- Number of days after which the index is re-downloaded.\"\"\"\n",
    "        raw_index=None\n",
    "        if self.cache_dir is None:\n",
    "            self.log.error(\"Cannot cache library index, no valid cache directory.\")\n",
    "            return False\n",
    "        ts_file=os.path.join(self.cache_dir,\"timestamp\")\n",
    "        cache_file=os.path.join(self.cache_dir,\"gutenberg_index\")\n",
    "        expired=True\n",
    "        read_from_cache=False\n",
    "        if os.path.isfile(ts_file) and os.path.isfile(cache_file):\n",
    "            try:\n",
    "                with open(ts_file,'r') as f:\n",
    "                    ts=float(f.read())\n",
    "                if time.time()-ts<cache_expire_days*24*3600:\n",
    "                    expired=False\n",
    "                    read_from_cache = True\n",
    "                    self.log.debug(\"Cache timestamp read.\")\n",
    "                else:\n",
    "                    self.log.debug(\"Cache for index is expired, reloading from web.\")\n",
    "            except:\n",
    "                self.log.debug(\"Failed to read cache timestamp, reloading from web.\")\n",
    "        if expired is False and os.path.isfile(cache_file):\n",
    "            try:\n",
    "                with open(cache_file,'r') as f:\n",
    "                    raw_index=f.read()\n",
    "                    self.log.info(f\"Gutenberg index read from {cache_file}\")\n",
    "            except:\n",
    "                expired=True\n",
    "                self.log.debug(\"Failed to read cached index, reloading from web.\")\n",
    "        if expired is True:\n",
    "            index_url=self.root_url+\"/GUTINDEX.ALL\"\n",
    "            try:\n",
    "                raw_index = urlopen(index_url).read().decode('utf-8')\n",
    "                if raw_index[0]=='\\ufeff':  # Ignore BOM\n",
    "                    raw_index=raw_index[1:]\n",
    "                raw_index=raw_index.replace('\\r','')\n",
    "                self.log.info(f\"Gutenberg index read from {index_url}\")\n",
    "            except Exception as e:\n",
    "                self.log.error(f\"Failed to download Gutenberg index from {index_rul}, {e}\")\n",
    "                return False\n",
    "        if cache is True and read_from_cache is False:\n",
    "            try:\n",
    "                with open(ts_file,'w') as f:\n",
    "                    f.write(str(time.time()))\n",
    "                    self.log.debug(\"Wrote read cache timestamp.\")\n",
    "            except Exception as e:\n",
    "                print(f\"Failed to write cache timestamp to {ts_file}, {e}\")\n",
    "            try:\n",
    "                with open(cache_file,'w') as f:\n",
    "                    f.write(raw_index)\n",
    "                    self.log.debug(\"Wrote read cached index.\")\n",
    "            except Exception as e:\n",
    "                print(f\"Failed to write cached index to {cache_file}, {e}\")\n",
    "        lines=raw_index.split('\\n')\n",
    "        self.records=self._parse_index(lines)\n",
    "    \n",
    "    def load_book(self, ebook_id):\n",
    "        \"\"\" get text of an ebook from Gutenberg by ebook_id \n",
    "        \n",
    "        ebook_id -- Gutenberg id\n",
    "        \"\"\"\n",
    "        if ebook_id is None or len(ebook_id)==0:\n",
    "            return None\n",
    "        if ebook_id[-1]=='C':\n",
    "            ebook_id=ebook_id[:-1]\n",
    "        path_stub=\"\"\n",
    "        \n",
    "        for i in range(len(ebook_id)-1):\n",
    "            path_stub+=\"/\"+ebook_id[i]\n",
    "        path_stub+=\"/\"+ebook_id+\"/\"\n",
    "        filenames=[(ebook_id+\"-0.txt\",'utf-8'), (ebook_id+\".txt\",'utf-8'), (ebook_id+\"-8.txt\",\"latin1\")]\n",
    "        cache_name=ebook_id+\".txt\"\n",
    "        if self.cache_dir is not None:\n",
    "            cache_file=os.path.join(self.cache_dir,cache_name)\n",
    "            if os.path.isfile(cache_file):\n",
    "                try:\n",
    "                    with open(cache_file,'r') as f:\n",
    "                        data=f.read()\n",
    "                        self.log.info(f\"Book read from cache at {cache_file}\")\n",
    "                        return data\n",
    "                except Exception as e:\n",
    "                    self.log.error(f\"Failed to read cached file {cache_file}\")\n",
    "        data=None\n",
    "        for filename, encoding in filenames:\n",
    "            file_url=self.root_url+path_stub+filename\n",
    "            try:\n",
    "                data = urlopen(file_url).read().decode(encoding)\n",
    "                self.log.info(f\"Book downloaded from {file_url}\")\n",
    "                break\n",
    "            except Exception as e:\n",
    "                self.log.debug(f\"URL-Download failed: {file_url}, {e}\")\n",
    "                pass\n",
    "        if data is None:\n",
    "            self.log.error(f\"Failed to download {filenames}\")\n",
    "            return None\n",
    "        if self.cache_dir is not None:\n",
    "            try:\n",
    "                with open(cache_file,'w') as f:\n",
    "                    f.write(data)\n",
    "            except:\n",
    "                self.log.error(f\"Failed to cache file {cache_file}\")\n",
    "        return data\n",
    "    \n",
    "    def filter_text(self, book_text):\n",
    "        \"\"\" Heuristically remove header and trailer texts not part of the actual book \n",
    "        \"\"\"\n",
    "        start_tokens=[\"*** START OF THIS PROJECT\", \"E-text prepared by\", \"This book was generously provided by the \"]\n",
    "        near_start_tokens=[\"produced by \", \"Produced by \", \"Transcriber's Note\", \"Transcriber's note:\", \"Anmerkungen zur Tanskription\"]\n",
    "        end_tokens=[\"End of the Project Gutenberg\", \"*** END OF THIS PROJECT\", \"***END OF THE PROJECT GUTENBER\",\n",
    "                   \"Ende dieses Projekt Gutenberg\", \"End of Project Gutenberg\", \"Transcriber's Note\"]\n",
    "        blen=len(book_text)\n",
    "        \n",
    "        pstart=0\n",
    "        for token in start_tokens:\n",
    "            pos=book_text.find(token)\n",
    "            if pos > pstart:\n",
    "                pstart = pos\n",
    "                self.log.debug(f\"Start-token [{token}] found at position {pos}\")\n",
    "        if pstart>0:\n",
    "            pos=book_text[pstart:].find(\"\\n\\n\")\n",
    "            if pos>=0 and pos <= self.NEAR:\n",
    "                pos += pstart\n",
    "                while book_text[pos]=='\\n':\n",
    "                    pos += 1  # eof?!\n",
    "                pstart=pos\n",
    "        if pstart>blen/2:\n",
    "            self.log.warning(\"Preamble is taking more than half of the book!\")\n",
    "        new_book=book_text[pstart:]\n",
    "        \n",
    "        xpos=-1\n",
    "        for token in near_start_tokens:\n",
    "            pos=new_book.find(token)\n",
    "            if pos>=0 and pos<=self.NEAR:\n",
    "                self.log.debug(f\"Near-Start-token [{token}] found at position {pos}\")\n",
    "                if pos>xpos:\n",
    "                    xpos=pos\n",
    "        if xpos > -1:\n",
    "            pos2=new_book[xpos:].find(\"\\n\\n\")\n",
    "            self.log.debug(f\"Trying extra skipping for {pos2}...\")\n",
    "            if pos2<=self.NEAR and pos2>0:\n",
    "                self.log.debug(\"Trying extra skipping (2)...\")\n",
    "                while new_book[xpos+pos2]=='\\n':\n",
    "                    pos2 += 1\n",
    "                new_book=new_book[xpos+pos2:]\n",
    "                self.log.debug(f\"Additionally shortened start by {xpos+pos2} chars\")\n",
    "        \n",
    "        pend=len(new_book)\n",
    "        for token in end_tokens:\n",
    "            pos=new_book.find(token)\n",
    "            if pos!=-1 and pos < pend:\n",
    "                self.log.debug(f\"End-token [{token}] found at pos {pos}\")\n",
    "                pend = pos\n",
    "        if pend<len(new_book):\n",
    "            pos=new_book[:pend].rfind(\"\\n\\n\")\n",
    "            if pos>0:\n",
    "                while new_book[pos]=='\\n':\n",
    "                    pos -= 1  # eof?!\n",
    "                pend=pos+1\n",
    "        else:\n",
    "            self.log.debug(\"No end token found!\")\n",
    "        if pend<len(new_book)/2:\n",
    "            self.log.warning(\"End-text is taking more than half of the book!\")\n",
    "        new_book=new_book[:pend]\n",
    "        return new_book\n",
    "        \n",
    "    def find_keywords(self,*search_keys):\n",
    "        \"\"\" Search of an arbitrary number of keywords in a book record\n",
    "        \n",
    "        returns -- list of records that contain all keywords in any field. \"\"\"\n",
    "        frecs=[]\n",
    "        for rec in self.records:\n",
    "            found=True\n",
    "            for sk in search_keys:\n",
    "                subkey=False\n",
    "                for key in rec.keys():\n",
    "                    if sk.lower() in key.lower() or sk.lower() in rec[key].lower():\n",
    "                        subkey=True\n",
    "                        break\n",
    "                if subkey is False:\n",
    "                    found=False\n",
    "                    break\n",
    "            if found is True:\n",
    "                frecs += [rec]\n",
    "        return frecs\n",
    "    \n",
    "    def search(self, search_dict):\n",
    "        \"\"\" Search for book record with key specific key values\n",
    "        For a list of valid keys, use `get_record_keys()`\n",
    "        Standard keys are:\n",
    "        ebook_id, author, language, title\n",
    "        example: search({\"title\": [\"philosoph\",\"phenomen\",\"physic\",\"hermeneu\",\"logic\"], \"language\":\"english\"})\n",
    "        Find all books whose titles contain at least one the keywords, language english. Search keys can either be\n",
    "        search for a single keyword (e.g. english), or an array of keywords. \n",
    "        returns -- list of records \"\"\"\n",
    "        frecs=[]\n",
    "        for rec in self.records:\n",
    "            found=True\n",
    "            for sk in search_dict:\n",
    "                if sk not in rec:\n",
    "                    found=False\n",
    "                    break\n",
    "                else:\n",
    "                    skl=search_dict[sk]\n",
    "                    if not isinstance(skl,list):\n",
    "                        skl=[skl]\n",
    "                    nf=0\n",
    "                    for skli in skl:\n",
    "                        if skli.lower() in rec[sk].lower():\n",
    "                            nf=nf+1\n",
    "                    if nf==0:\n",
    "                        found=False\n",
    "                        break\n",
    "            if found is True:\n",
    "                frecs += [rec]\n",
    "        return frecs\n",
    "        \n",
    "    \n",
    "    def get_record_keys(self):\n",
    "        \"\"\" Get a list of all keys that are used within records. Standard keys are:\n",
    "        ebook_id, author, language, title\n",
    "        \n",
    "        returns -- list of all different keys that are somehow used.\"\"\"\n",
    "        rks=[]\n",
    "        for r in self.records:\n",
    "            rks=set(list(rks) + list(r.keys()))\n",
    "        return rks\n",
    "\n",
    "    def get_unique_record_values(self, key):\n",
    "        \"\"\" Get a list of all unique values a given keys has for all records.\n",
    "        get_unique_records_values('language') returns all languages in Gutenberg.\"\"\"\n",
    "        uv=[]\n",
    "        if key not in self.get_record_keys():\n",
    "            print(f\"{key} is not a key used in any record!\")\n",
    "            return None\n",
    "        for r in self.records:\n",
    "            if key in r:\n",
    "                uv=set(list(uv)+[r[key]])\n",
    "        uv=sorted(uv)\n",
    "        return uv"
   ]
  },
  {
   "cell_type": "code",
   "execution_count": 18,
   "metadata": {
    "colab": {},
    "colab_type": "code",
    "id": "K3C1yExTjtqI"
   },
   "outputs": [
    {
     "name": "stderr",
     "output_type": "stream",
     "text": [
      "INFO:GutenbergLib:Gutenberg index read from ./gutenberg_cache/gutenberg_index\n"
     ]
    }
   ],
   "source": [
    "# Get the list of available books on Gutenberg.\n",
    "gbl=GutenbergLib(cache_dir=os.path.join(root_path, 'gutenberg_cache'))\n",
    "gbl.load_index()"
   ]
  },
  {
   "cell_type": "code",
   "execution_count": 19,
   "metadata": {
    "colab": {},
    "colab_type": "code",
    "id": "hrI3xSK7jtqL"
   },
   "outputs": [
    {
     "name": "stdout",
     "output_type": "stream",
     "text": [
      "305 matching books found with search {'title': ['love', 'hate', 'emotion', 'drama'], 'language': ['english']}.\n",
      "105 matching books found with search {'author': ['brontë', 'Jane Austen', 'Woolf', 'goethe', 'kant'], 'language': ['english', 'german']}.\n",
      "283 matching books found with search {'title': ['philosoph', 'physic', 'phenomen', 'logic'], 'language': ['english']}.\n"
     ]
    }
   ],
   "source": [
    "# sample searches\n",
    "search_specs=[\n",
    "    {\"title\": [\"love\", \"hate\", \"emotion\", \"drama\"], \"language\": [\"english\"]},\n",
    "    {\"author\": [\"brontë\",\"Jane Austen\", \"Woolf\", \"goethe\", \"kant\"], \"language\": [\"english\", \"german\"]},\n",
    "    {\"title\": [\"philosoph\", \"physic\", \"phenomen\", \"logic\"], \"language\": [\"english\"]},\n",
    "]\n",
    "for search_spec in search_specs:\n",
    "    book_list=gbl.search(search_spec)\n",
    "    print(f\"{len(book_list)} matching books found with search {search_spec}.\")\n",
    "# a search spec can be used by the following text library as datasource, it will automatically download, filter and prepare the content of the books requested."
   ]
  },
  {
   "cell_type": "code",
   "execution_count": 20,
   "metadata": {
    "colab": {},
    "colab_type": "code",
    "id": "lqKMN8nLjtqO"
   },
   "outputs": [],
   "source": [
    "def create_libdesc(project_name, description, cache_path, book_list):\n",
    "    libdesc={\"name\": project_name, \"description\": description, \"lib\": []}\n",
    "    if cache_path is None or not os.path.exists(cache_path):\n",
    "        print(f\"A valid cache {cache_path} is needed!\")\n",
    "        return None\n",
    "    for book_entry in book_list:\n",
    "        try:\n",
    "            book_raw_content=gbl.load_book(book_entry['ebook_id'])\n",
    "        except Exception as e:\n",
    "            print(f\"Failed to download ebook_id {book_entry}, {e}\")\n",
    "            continue\n",
    "        if book_raw_content is not None:\n",
    "            try:\n",
    "                book_text=gbl.filter_text(book_raw_content)\n",
    "            except Exception as e:\n",
    "                print(f\"Internal error when filtering {book_entry}, {e}\")\n",
    "                continue\n",
    "            filename=get_cache_name(cache_path, book_entry['author'], book_entry['title'])\n",
    "            try:\n",
    "                with open(filename,'w') as f:\n",
    "                    f.write(book_text)\n",
    "                    print(f\"Cached {filename}\")\n",
    "                    libdesc[\"lib\"].append((filename, book_entry['author'], book_entry['title']))\n",
    "            except Exception as e:\n",
    "                print(f\"Failed to cache {filename}\", {e})\n",
    "    return libdesc"
   ]
  },
  {
   "cell_type": "code",
   "execution_count": 21,
   "metadata": {
    "colab": {},
    "colab_type": "code",
    "id": "BQo6nTsPjtqR"
   },
   "outputs": [
    {
     "name": "stdout",
     "output_type": "stream",
     "text": [
      "57 books found.\n"
     ]
    }
   ],
   "source": [
    "book_list=gbl.search({\"author\": [\"platon\", \"descartes\", \"john locke\", \"david hume\", \"kant\", \"schopenhauer\", \"leibniz\", \"kierkegaard\", \"hegel\", \"nietzsche\", \"heidegger\", \"fichte\"], \"language\": [\"english\"]})\n",
    "print(f\"{len(book_list)} books found.\")"
   ]
  },
  {
   "cell_type": "code",
   "execution_count": 22,
   "metadata": {
    "colab": {},
    "colab_type": "code",
    "id": "TnYGn0LylSyo"
   },
   "outputs": [
    {
     "data": {
      "text/plain": [
       "[{'title': 'Selections from the Writings of Kierkegaard',\n",
       "  'ebook_id': '60333',\n",
       "  'author': 'Søren Kierkegaard',\n",
       "  'language': 'English'},\n",
       " {'title': 'Vignettes',\n",
       "  'ebook_id': '60193',\n",
       "  'author': 'Hubert Crackanthorpe',\n",
       "  'subtitle': 'A Miniature Journal of Whim and Sentiment',\n",
       "  'language': 'English'},\n",
       " {'title': \"Hume's Political Discourses\",\n",
       "  'ebook_id': '59792',\n",
       "  'author': 'David Hume',\n",
       "  'language': 'English'},\n",
       " {'title': 'The History of Philosophy: Volume 3 of 3',\n",
       "  'ebook_id': '58169',\n",
       "  'author': 'Georg Wilhelm Hegel',\n",
       "  'language': 'English'},\n",
       " {'title': 'The Philosophy of Fine Art, Volume 4 of 4',\n",
       "  'ebook_id': '55731',\n",
       "  'author': 'G. W. F. Hegel',\n",
       "  'subtitle': \"Hegel's Aesthetik\",\n",
       "  'language': 'English'},\n",
       " {'title': 'The Philosophy of Fine Art, Volume 3 of 4',\n",
       "  'ebook_id': '55623',\n",
       "  'author': 'G. W. F. Hegel',\n",
       "  'subtitle': \"Hegel's Aesthetik\",\n",
       "  'language': 'English'},\n",
       " {'title': 'The Philosophy of Fine Art, Vol. 2 of 4',\n",
       "  'ebook_id': '55445',\n",
       "  'author': 'G. W. F. Hegel',\n",
       "  'subtitle': \"Hegel's Aesthetik\",\n",
       "  'language': 'English'},\n",
       " {'title': 'The Philosophy of Fine Art, Vol. 1 of 4',\n",
       "  'ebook_id': '55334',\n",
       "  'author': 'G. W. F. Hegel',\n",
       "  'subtitle': \"Hegel's Aesthetik\",\n",
       "  'language': 'English'},\n",
       " {'title': 'The Logic of Hegel',\n",
       "  'ebook_id': '55108',\n",
       "  'author': 'G. W. F. Hegel',\n",
       "  'language': 'English'},\n",
       " {'title': \"Prolegomena to the Study of Hegel's Philosophy\",\n",
       "  'ebook_id': '54992',\n",
       "  'author': 'William Wallace and G. W. F. Hegel',\n",
       "  'subtitle': 'and Especially of his Logic',\n",
       "  'language': 'English'},\n",
       " {'title': 'Philosophical Works, Vol. 2 of 4',\n",
       "  'ebook_id': '53792',\n",
       "  'author': 'David Hume',\n",
       "  'subtitle': 'Including all the Essays, and Exhibiting the more Important Alterations and Corrections in the Successive Editions Published by the Author',\n",
       "  'language': 'English'},\n",
       " {'title': 'Philosophical Works, Vol. 1 of 4',\n",
       "  'ebook_id': '53791',\n",
       "  'author': 'David Hume',\n",
       "  'subtitle': 'Including all the Essays, and Exhibiting the more Important Alterations and Corrections in the Successive Editions Published by the Author',\n",
       "  'language': 'English'},\n",
       " {'title': 'The Will to Power, Books III and IV',\n",
       "  'ebook_id': '52915',\n",
       "  'author': 'Friedrich Nietzsche',\n",
       "  'subtitle': 'An Attempted Transvaluation of all Values',\n",
       "  'language': 'English'},\n",
       " {'title': 'The Will to Power, Books I and II',\n",
       "  'ebook_id': '52914',\n",
       "  'author': 'Friedrich Nietzsche',\n",
       "  'subtitle': 'An Attempted Transvaluation of all Values',\n",
       "  'language': 'English'},\n",
       " {'title': 'The Joyful Wisdom',\n",
       "  'ebook_id': '52881',\n",
       "  'author': 'Friedrich Nietzsche',\n",
       "  'language': 'English'},\n",
       " {'title': \"Kant's Prolegomena\",\n",
       "  'ebook_id': '52821',\n",
       "  'author': 'Immanuel Kant',\n",
       "  'subtitle': 'To Any Future Metaphysics',\n",
       "  'language': 'English'},\n",
       " {'title': 'The Genealogy of Morals',\n",
       "  'ebook_id': '52319',\n",
       "  'author': 'Friedrich Wilhelm Nietzsche',\n",
       "  'subtitle': 'The Complete Works, Volume Thirteen, edited by Dr. Oscar Levy',\n",
       "  'language': 'English'},\n",
       " {'title': 'Twilight of the Idols - The Antichrist',\n",
       "  'ebook_id': '52263',\n",
       "  'author': 'Friedrich Wilhelm Nietzsche',\n",
       "  'subtitle': 'Complete Works, Volume Sixteen',\n",
       "  'language': 'English'},\n",
       " {'title': 'Ecce Homo',\n",
       "  'ebook_id': '52190',\n",
       "  'author': 'Friedrich Wilhelm Nietzsche',\n",
       "  'subtitle': 'Complete Works, Volume Seventeen',\n",
       "  'language': 'English'},\n",
       " {'title': 'Thoughts out of Season, Part I',\n",
       "  'ebook_id': '51710',\n",
       "  'author': 'Friedrich Wilhelm Nietzsche',\n",
       "  'subtitle': 'David Strauss, the Confessor and the Writer - Richard Wagner in Bayreuth',\n",
       "  'language': 'English'},\n",
       " {'title': \"Hegel's Lectures on the History of Philosophy: Vol. 2 of 3\",\n",
       "  'ebook_id': '51636',\n",
       "  'author': 'Georg Wilhelm Hegel',\n",
       "  'language': 'English'},\n",
       " {'title': \"Hegel's Lectures on the History of Philosophy: Vol. 1 of 3\",\n",
       "  'ebook_id': '51635',\n",
       "  'author': 'Georg Wilhelm Hegel',\n",
       "  'language': 'English'},\n",
       " {'title': 'On the Future of our Educational Institutions - Homer and Classical Philology',\n",
       "  'ebook_id': '51580',\n",
       "  'author': 'Friedrich Wilhelm Nietzsche',\n",
       "  'subtitle': 'Complete Works, Volume Three',\n",
       "  'language': 'English'},\n",
       " {'title': 'Early Greek Philosophy & Other Essays',\n",
       "  'ebook_id': '51548',\n",
       "  'author': 'Friedrich Nietzsche',\n",
       "  'subtitle': 'Collected Works, Volume Two',\n",
       "  'language': 'English'},\n",
       " {'title': 'On the Fourfold Root of the Principle of Sufficient Reason and On the Will in Nature: Two Essays (revised edition)',\n",
       "  'ebook_id': '50966',\n",
       "  'author': 'Arthur Schopenhauer',\n",
       "  'language': 'English'},\n",
       " {'title': 'Perpetual Peace',\n",
       "  'ebook_id': '50922',\n",
       "  'author': 'Immanuel Kant',\n",
       "  'subtitle': 'A Philosophical Essay',\n",
       "  'language': 'English'},\n",
       " {'title': \"Kant's Critique of Judgement\",\n",
       "  'ebook_id': '48433',\n",
       "  'author': 'Immanuel Kant',\n",
       "  'language': 'English'},\n",
       " {'title': \"The Introduction to Hegel's Philosophy of Fine Arts\",\n",
       "  'ebook_id': '46330',\n",
       "  'author': 'Georg Hegel',\n",
       "  'subtitle': 'Translated from the German with Notes and Prefatory Essay',\n",
       "  'language': 'English'},\n",
       " {'title': 'Of the Injustice of Counterfeiting Books',\n",
       "  'ebook_id': '46060',\n",
       "  'author': 'Emanuel Kant',\n",
       "  'subtitle': 'From: Essays and Treaties on Moral, Political and various Philosophical Subjects',\n",
       "  'language': 'English'},\n",
       " {'title': 'The Basis of Morality',\n",
       "  'ebook_id': '44929',\n",
       "  'author': 'Arthur Schopenhauer',\n",
       "  'language': 'English'},\n",
       " {'title': 'The World as Will and Idea (Vol. 3 of 3)',\n",
       "  'ebook_id': '40868',\n",
       "  'author': 'Arthur Schopenhauer',\n",
       "  'subtitle': 'Sixth Edition',\n",
       "  'translators': 'R. B. Haldane and J. Kemp',\n",
       "  'language': 'English'},\n",
       " {'title': 'The World as Will and Idea (Vol. 2 of 3)',\n",
       "  'ebook_id': '40097',\n",
       "  'author': 'Arthur Schopenhauer',\n",
       "  'translators': 'R. B. Haldane and J. Kemp',\n",
       "  'language': 'English'},\n",
       " {'title': 'The Dawn of Day',\n",
       "  'ebook_id': '39955',\n",
       "  'author': 'Friedrich Wilhelm Nietzsche',\n",
       "  'translator': 'John McFarland Kennedy',\n",
       "  'language': 'English'},\n",
       " {'title': \"Hegel's Philosophy of Mind\",\n",
       "  'ebook_id': '39064',\n",
       "  'author': 'Georg Wilhelm Friedrich Hegel',\n",
       "  'language': 'English'},\n",
       " {'title': 'The World as Will and Idea (Vol. 1 of 3)',\n",
       "  'ebook_id': '38427',\n",
       "  'author': 'Arthur Schopenhauer',\n",
       "  'subtitle': '7th Edition',\n",
       "  'translators': 'R. B. Haldane and J. Kemp',\n",
       "  'language': 'English'},\n",
       " {'title': 'Thoughts Out of Season, Part 2',\n",
       "  'ebook_id': '38226',\n",
       "  'author': 'Friedrich Nietzsche',\n",
       "  'subtitle': 'The Use and Abuse of History - Schopenhauer as Educator',\n",
       "  'language': 'English'},\n",
       " {'title': 'Human, All Too Human',\n",
       "  'ebook_id': '38145',\n",
       "  'author': 'Friedrich Nietzsche',\n",
       "  'subtitle': 'A Book for Free Spirits',\n",
       "  'translator': 'Alexander Harvey',\n",
       "  'language': 'English'},\n",
       " {'title': 'Human, All-Too-Human, Part II',\n",
       "  'ebook_id': '37841',\n",
       "  'author': 'Friedrich Wilhelm Nietzsche',\n",
       "  'subtitle': 'A Book For Free Spirits',\n",
       "  'translator': 'Paul V. Cohn',\n",
       "  'language': 'English'},\n",
       " {'title': 'Essays',\n",
       "  'ebook_id': '36120',\n",
       "  'author': 'David Hume',\n",
       "  'commentator': 'Hannaford Bennett',\n",
       "  'language': 'English'},\n",
       " {'title': 'Discourse of a Method for the Well Guiding of Reason',\n",
       "  'ebook_id': '25830',\n",
       "  'author': 'Rene Descartes',\n",
       "  'subtitle': 'and the Discovery of Truth in the Sciences',\n",
       "  'language': 'English'},\n",
       " {'title': 'Theodicy',\n",
       "  'ebook_id': '17147',\n",
       "  'author': 'G. W. Leibniz',\n",
       "  'subtitle': 'Essays on the Goodness of God, the Freedom of Man and the Origin of Evil',\n",
       "  'ed. and intro.': 'Austin Farrer',\n",
       "  'translator': 'E.M. Huggard',\n",
       "  'language': 'English'},\n",
       " {'title': 'Enquiry Concerning Human Understanding',\n",
       "  'ebook_id': '9662',\n",
       "  'author': 'David Hume and L. A. Selby-Bigge',\n",
       "  'language': 'English'},\n",
       " {'title': 'Second Treatise of Government',\n",
       "  'ebook_id': '7370',\n",
       "  'author': 'John Locke',\n",
       "  'language': 'English'},\n",
       " {'title': 'Menschliches, Allzumenschliches',\n",
       "  'ebook_id': '7207',\n",
       "  'author': 'Friedrich Wilhelm Nietzsche',\n",
       "  'language': 'English'},\n",
       " {'title': 'The Metaphysical Elements of Ethics',\n",
       "  'ebook_id': '5684',\n",
       "  'author': 'Immanuel Kant',\n",
       "  'language': 'English'},\n",
       " {'title': 'The Critique of Practical Reason',\n",
       "  'ebook_id': '5683',\n",
       "  'author': 'Immanuel Kant',\n",
       "  'language': 'English'},\n",
       " {'title': 'Fundamental Principles of the Metaphysic of Morals',\n",
       "  'ebook_id': '5682',\n",
       "  'author': 'Immanuel Kant',\n",
       "  'language': 'English'},\n",
       " {'title': 'Thoughts out of Season, Part One',\n",
       "  'ebook_id': '5652',\n",
       "  'author': 'Friedrich Nietzsche',\n",
       "  'language': 'English'},\n",
       " {'title': 'Literary and Philosophical Essays',\n",
       "  'ebook_id': '5637',\n",
       "  'author': 'Montaigne, Michel, Sainte-Beuve, Charles-Augustin; Renan, Ernest, Lessing, Gotthold Ephraim, Von Schiller, J.C., Kant, Immanuel, Mazzini, and Giuseppe',\n",
       "  'language': 'English'},\n",
       " {'title': 'A Treatise of Human Nature, Vols. 1 & 2',\n",
       "  'ebook_id': '4705',\n",
       "  'author': 'David Hume',\n",
       "  'language': 'English'},\n",
       " {'title': 'Dialogues Concerning Natural Religion',\n",
       "  'ebook_id': '4583',\n",
       "  'author': 'David Hume',\n",
       "  'language': 'English'},\n",
       " {'title': 'Selections From The Principles of Philosophy',\n",
       "  'ebook_id': '4391',\n",
       "  'author': 'Rene Descartes',\n",
       "  'language': 'English'},\n",
       " {'title': 'Beyond Good and Evil',\n",
       "  'ebook_id': '4363',\n",
       "  'author': 'Friedrich Nietzsche',\n",
       "  'language': 'English'},\n",
       " {'title': 'An Enquiry Concerning the Principles of Morals',\n",
       "  'ebook_id': '4320',\n",
       "  'author': 'David Hume',\n",
       "  'language': 'English'},\n",
       " {'title': 'The Critique of Pure Reason',\n",
       "  'ebook_id': '4280',\n",
       "  'author': 'Immanuel Kant',\n",
       "  'language': 'English'},\n",
       " {'title': 'Thus Spake Zarathustra',\n",
       "  'ebook_id': '1998',\n",
       "  'author': 'Friedrich Nietzsche',\n",
       "  'subtitle': 'A Book for All and None',\n",
       "  'language': 'English'},\n",
       " {'title': 'A Discourse on Method',\n",
       "  'ebook_id': '59',\n",
       "  'author': 'René Descartes',\n",
       "  'language': 'English'}]"
      ]
     },
     "execution_count": 22,
     "metadata": {},
     "output_type": "execute_result"
    }
   ],
   "source": [
    "book_list"
   ]
  },
  {
   "cell_type": "code",
   "execution_count": 23,
   "metadata": {
    "colab": {},
    "colab_type": "code",
    "id": "tm97yp2ijtqV"
   },
   "outputs": [
    {
     "name": "stderr",
     "output_type": "stream",
     "text": [
      "INFO:GutenbergLib:Book downloaded from http://www.mirrorservice.org/sites/ftp.ibiblio.org/pub/docs/books/gutenberg/6/0/3/3/60333/60333-0.txt\n",
      "INFO:GutenbergLib:Book downloaded from http://www.mirrorservice.org/sites/ftp.ibiblio.org/pub/docs/books/gutenberg/6/0/1/9/60193/60193-0.txt\n"
     ]
    },
    {
     "name": "stdout",
     "output_type": "stream",
     "text": [
      "Cached ./philosophers_lang_eng/Data/Søren Kierkegaard - Selections from the Writings of Kierkegaard.txt\n",
      "Cached ./philosophers_lang_eng/Data/Hubert Crackanthorpe - Vignettes.txt\n"
     ]
    },
    {
     "name": "stderr",
     "output_type": "stream",
     "text": [
      "INFO:GutenbergLib:Book downloaded from http://www.mirrorservice.org/sites/ftp.ibiblio.org/pub/docs/books/gutenberg/5/9/7/9/59792/59792-0.txt\n"
     ]
    },
    {
     "name": "stdout",
     "output_type": "stream",
     "text": [
      "Cached ./philosophers_lang_eng/Data/David Hume - Hume's Political Discourses.txt\n"
     ]
    },
    {
     "name": "stderr",
     "output_type": "stream",
     "text": [
      "INFO:GutenbergLib:Book downloaded from http://www.mirrorservice.org/sites/ftp.ibiblio.org/pub/docs/books/gutenberg/5/8/1/6/58169/58169-0.txt\n"
     ]
    },
    {
     "name": "stdout",
     "output_type": "stream",
     "text": [
      "Cached ./philosophers_lang_eng/Data/Georg Wilhelm Hegel - The History of Philosophy: Volume 3 of 3.txt\n"
     ]
    },
    {
     "name": "stderr",
     "output_type": "stream",
     "text": [
      "INFO:GutenbergLib:Book downloaded from http://www.mirrorservice.org/sites/ftp.ibiblio.org/pub/docs/books/gutenberg/5/5/7/3/55731/55731-0.txt\n"
     ]
    },
    {
     "name": "stdout",
     "output_type": "stream",
     "text": [
      "Cached ./philosophers_lang_eng/Data/G. W. F. Hegel - The Philosophy of Fine Art, Volume 4 of 4.txt\n"
     ]
    },
    {
     "name": "stderr",
     "output_type": "stream",
     "text": [
      "INFO:GutenbergLib:Book downloaded from http://www.mirrorservice.org/sites/ftp.ibiblio.org/pub/docs/books/gutenberg/5/5/6/2/55623/55623-0.txt\n"
     ]
    },
    {
     "name": "stdout",
     "output_type": "stream",
     "text": [
      "Cached ./philosophers_lang_eng/Data/G. W. F. Hegel - The Philosophy of Fine Art, Volume 3 of 4.txt\n"
     ]
    },
    {
     "name": "stderr",
     "output_type": "stream",
     "text": [
      "INFO:GutenbergLib:Book downloaded from http://www.mirrorservice.org/sites/ftp.ibiblio.org/pub/docs/books/gutenberg/5/5/4/4/55445/55445-0.txt\n"
     ]
    },
    {
     "name": "stdout",
     "output_type": "stream",
     "text": [
      "Cached ./philosophers_lang_eng/Data/G. W. F. Hegel - The Philosophy of Fine Art, Vol. 2 of 4.txt\n"
     ]
    },
    {
     "name": "stderr",
     "output_type": "stream",
     "text": [
      "INFO:GutenbergLib:Book downloaded from http://www.mirrorservice.org/sites/ftp.ibiblio.org/pub/docs/books/gutenberg/5/5/3/3/55334/55334-0.txt\n"
     ]
    },
    {
     "name": "stdout",
     "output_type": "stream",
     "text": [
      "Cached ./philosophers_lang_eng/Data/G. W. F. Hegel - The Philosophy of Fine Art, Vol. 1 of 4.txt\n"
     ]
    },
    {
     "name": "stderr",
     "output_type": "stream",
     "text": [
      "INFO:GutenbergLib:Book downloaded from http://www.mirrorservice.org/sites/ftp.ibiblio.org/pub/docs/books/gutenberg/5/5/1/0/55108/55108-0.txt\n"
     ]
    },
    {
     "name": "stdout",
     "output_type": "stream",
     "text": [
      "Cached ./philosophers_lang_eng/Data/G. W. F. Hegel - The Logic of Hegel.txt\n"
     ]
    },
    {
     "name": "stderr",
     "output_type": "stream",
     "text": [
      "INFO:GutenbergLib:Book downloaded from http://www.mirrorservice.org/sites/ftp.ibiblio.org/pub/docs/books/gutenberg/5/4/9/9/54992/54992-0.txt\n"
     ]
    },
    {
     "name": "stdout",
     "output_type": "stream",
     "text": [
      "Cached ./philosophers_lang_eng/Data/William Wallace and G. W. F. Hegel - Prolegomena to the Study of Hegel's Philosophy.txt\n"
     ]
    },
    {
     "name": "stderr",
     "output_type": "stream",
     "text": [
      "INFO:GutenbergLib:Book downloaded from http://www.mirrorservice.org/sites/ftp.ibiblio.org/pub/docs/books/gutenberg/5/3/7/9/53792/53792-8.txt\n"
     ]
    },
    {
     "name": "stdout",
     "output_type": "stream",
     "text": [
      "Cached ./philosophers_lang_eng/Data/David Hume - Philosophical Works, Vol. 2 of 4.txt\n"
     ]
    },
    {
     "name": "stderr",
     "output_type": "stream",
     "text": [
      "INFO:GutenbergLib:Book downloaded from http://www.mirrorservice.org/sites/ftp.ibiblio.org/pub/docs/books/gutenberg/5/3/7/9/53791/53791-8.txt\n"
     ]
    },
    {
     "name": "stdout",
     "output_type": "stream",
     "text": [
      "Cached ./philosophers_lang_eng/Data/David Hume - Philosophical Works, Vol. 1 of 4.txt\n"
     ]
    },
    {
     "name": "stderr",
     "output_type": "stream",
     "text": [
      "INFO:GutenbergLib:Book downloaded from http://www.mirrorservice.org/sites/ftp.ibiblio.org/pub/docs/books/gutenberg/5/2/9/1/52915/52915-0.txt\n"
     ]
    },
    {
     "name": "stdout",
     "output_type": "stream",
     "text": [
      "Cached ./philosophers_lang_eng/Data/Friedrich Nietzsche - The Will to Power, Books III and IV.txt\n"
     ]
    },
    {
     "name": "stderr",
     "output_type": "stream",
     "text": [
      "INFO:GutenbergLib:Book downloaded from http://www.mirrorservice.org/sites/ftp.ibiblio.org/pub/docs/books/gutenberg/5/2/9/1/52914/52914-0.txt\n"
     ]
    },
    {
     "name": "stdout",
     "output_type": "stream",
     "text": [
      "Cached ./philosophers_lang_eng/Data/Friedrich Nietzsche - The Will to Power, Books I and II.txt\n"
     ]
    },
    {
     "name": "stderr",
     "output_type": "stream",
     "text": [
      "INFO:GutenbergLib:Book downloaded from http://www.mirrorservice.org/sites/ftp.ibiblio.org/pub/docs/books/gutenberg/5/2/8/8/52881/52881-0.txt\n",
      "INFO:GutenbergLib:Book downloaded from http://www.mirrorservice.org/sites/ftp.ibiblio.org/pub/docs/books/gutenberg/5/2/8/2/52821/52821-0.txt\n"
     ]
    },
    {
     "name": "stdout",
     "output_type": "stream",
     "text": [
      "Cached ./philosophers_lang_eng/Data/Friedrich Nietzsche - The Joyful Wisdom.txt\n",
      "Cached ./philosophers_lang_eng/Data/Immanuel Kant - Kant's Prolegomena.txt\n"
     ]
    },
    {
     "name": "stderr",
     "output_type": "stream",
     "text": [
      "INFO:GutenbergLib:Book downloaded from http://www.mirrorservice.org/sites/ftp.ibiblio.org/pub/docs/books/gutenberg/5/2/3/1/52319/52319-0.txt\n"
     ]
    },
    {
     "name": "stdout",
     "output_type": "stream",
     "text": [
      "Cached ./philosophers_lang_eng/Data/Friedrich Wilhelm Nietzsche - The Genealogy of Morals.txt\n"
     ]
    },
    {
     "name": "stderr",
     "output_type": "stream",
     "text": [
      "INFO:GutenbergLib:Book downloaded from http://www.mirrorservice.org/sites/ftp.ibiblio.org/pub/docs/books/gutenberg/5/2/2/6/52263/52263-0.txt\n"
     ]
    },
    {
     "name": "stdout",
     "output_type": "stream",
     "text": [
      "Cached ./philosophers_lang_eng/Data/Friedrich Wilhelm Nietzsche - Twilight of the Idols - The Antichrist.txt\n"
     ]
    },
    {
     "name": "stderr",
     "output_type": "stream",
     "text": [
      "INFO:GutenbergLib:Book downloaded from http://www.mirrorservice.org/sites/ftp.ibiblio.org/pub/docs/books/gutenberg/5/2/1/9/52190/52190-0.txt\n"
     ]
    },
    {
     "name": "stdout",
     "output_type": "stream",
     "text": [
      "Cached ./philosophers_lang_eng/Data/Friedrich Wilhelm Nietzsche - Ecce Homo.txt\n"
     ]
    },
    {
     "name": "stderr",
     "output_type": "stream",
     "text": [
      "INFO:GutenbergLib:Book downloaded from http://www.mirrorservice.org/sites/ftp.ibiblio.org/pub/docs/books/gutenberg/5/1/7/1/51710/51710-8.txt\n"
     ]
    },
    {
     "name": "stdout",
     "output_type": "stream",
     "text": [
      "Cached ./philosophers_lang_eng/Data/Friedrich Wilhelm Nietzsche - Thoughts out of Season, Part I.txt\n"
     ]
    },
    {
     "name": "stderr",
     "output_type": "stream",
     "text": [
      "INFO:GutenbergLib:Book downloaded from http://www.mirrorservice.org/sites/ftp.ibiblio.org/pub/docs/books/gutenberg/5/1/6/3/51636/51636-0.txt\n"
     ]
    },
    {
     "name": "stdout",
     "output_type": "stream",
     "text": [
      "Cached ./philosophers_lang_eng/Data/Georg Wilhelm Hegel - Hegel's Lectures on the History of Philosophy: Vol. 2 of 3.txt\n"
     ]
    },
    {
     "name": "stderr",
     "output_type": "stream",
     "text": [
      "INFO:GutenbergLib:Book downloaded from http://www.mirrorservice.org/sites/ftp.ibiblio.org/pub/docs/books/gutenberg/5/1/6/3/51635/51635-0.txt\n",
      "INFO:GutenbergLib:Book downloaded from http://www.mirrorservice.org/sites/ftp.ibiblio.org/pub/docs/books/gutenberg/5/1/5/8/51580/51580-0.txt\n"
     ]
    },
    {
     "name": "stdout",
     "output_type": "stream",
     "text": [
      "Cached ./philosophers_lang_eng/Data/Georg Wilhelm Hegel - Hegel's Lectures on the History of Philosophy: Vol. 1 of 3.txt\n"
     ]
    },
    {
     "name": "stderr",
     "output_type": "stream",
     "text": [
      "INFO:GutenbergLib:Book downloaded from http://www.mirrorservice.org/sites/ftp.ibiblio.org/pub/docs/books/gutenberg/5/1/5/4/51548/51548-0.txt\n"
     ]
    },
    {
     "name": "stdout",
     "output_type": "stream",
     "text": [
      "Cached ./philosophers_lang_eng/Data/Friedrich Wilhelm Nietzsche - On the Future of our Educational Institutions - Homer and Classical Philology.txt\n",
      "Cached ./philosophers_lang_eng/Data/Friedrich Nietzsche - Early Greek Philosophy & Other Essays.txt\n"
     ]
    },
    {
     "name": "stderr",
     "output_type": "stream",
     "text": [
      "INFO:GutenbergLib:Book downloaded from http://www.mirrorservice.org/sites/ftp.ibiblio.org/pub/docs/books/gutenberg/5/0/9/6/50966/50966-0.txt\n",
      "INFO:GutenbergLib:Book downloaded from http://www.mirrorservice.org/sites/ftp.ibiblio.org/pub/docs/books/gutenberg/5/0/9/2/50922/50922-0.txt\n"
     ]
    },
    {
     "name": "stdout",
     "output_type": "stream",
     "text": [
      "Cached ./philosophers_lang_eng/Data/Arthur Schopenhauer - On the Fourfold Root of the Principle of Sufficient Reason and On the Will in Nature: Two Essays (revised edition).txt\n",
      "Cached ./philosophers_lang_eng/Data/Immanuel Kant - Perpetual Peace.txt\n"
     ]
    },
    {
     "name": "stderr",
     "output_type": "stream",
     "text": [
      "INFO:GutenbergLib:Book downloaded from http://www.mirrorservice.org/sites/ftp.ibiblio.org/pub/docs/books/gutenberg/4/8/4/3/48433/48433-0.txt\n"
     ]
    },
    {
     "name": "stdout",
     "output_type": "stream",
     "text": [
      "Cached ./philosophers_lang_eng/Data/Immanuel Kant - Kant's Critique of Judgement.txt\n"
     ]
    },
    {
     "name": "stderr",
     "output_type": "stream",
     "text": [
      "INFO:GutenbergLib:Book downloaded from http://www.mirrorservice.org/sites/ftp.ibiblio.org/pub/docs/books/gutenberg/4/6/3/3/46330/46330.txt\n",
      "INFO:GutenbergLib:Book downloaded from http://www.mirrorservice.org/sites/ftp.ibiblio.org/pub/docs/books/gutenberg/4/6/0/6/46060/46060.txt\n"
     ]
    },
    {
     "name": "stdout",
     "output_type": "stream",
     "text": [
      "Cached ./philosophers_lang_eng/Data/Georg Hegel - The Introduction to Hegel's Philosophy of Fine Arts.txt\n",
      "Cached ./philosophers_lang_eng/Data/Emanuel Kant - Of the Injustice of Counterfeiting Books.txt\n"
     ]
    },
    {
     "name": "stderr",
     "output_type": "stream",
     "text": [
      "INFO:GutenbergLib:Book downloaded from http://www.mirrorservice.org/sites/ftp.ibiblio.org/pub/docs/books/gutenberg/4/4/9/2/44929/44929-0.txt\n"
     ]
    },
    {
     "name": "stdout",
     "output_type": "stream",
     "text": [
      "Cached ./philosophers_lang_eng/Data/Arthur Schopenhauer - The Basis of Morality.txt\n"
     ]
    },
    {
     "name": "stderr",
     "output_type": "stream",
     "text": [
      "INFO:GutenbergLib:Book downloaded from http://www.mirrorservice.org/sites/ftp.ibiblio.org/pub/docs/books/gutenberg/4/0/8/6/40868/40868-0.txt\n"
     ]
    },
    {
     "name": "stdout",
     "output_type": "stream",
     "text": [
      "Cached ./philosophers_lang_eng/Data/Arthur Schopenhauer - The World as Will and Idea (Vol. 3 of 3).txt\n"
     ]
    },
    {
     "name": "stderr",
     "output_type": "stream",
     "text": [
      "INFO:GutenbergLib:Book downloaded from http://www.mirrorservice.org/sites/ftp.ibiblio.org/pub/docs/books/gutenberg/4/0/0/9/40097/40097-0.txt\n"
     ]
    },
    {
     "name": "stdout",
     "output_type": "stream",
     "text": [
      "Cached ./philosophers_lang_eng/Data/Arthur Schopenhauer - The World as Will and Idea (Vol. 2 of 3).txt\n"
     ]
    },
    {
     "name": "stderr",
     "output_type": "stream",
     "text": [
      "INFO:GutenbergLib:Book downloaded from http://www.mirrorservice.org/sites/ftp.ibiblio.org/pub/docs/books/gutenberg/3/9/9/5/39955/39955-0.txt\n"
     ]
    },
    {
     "name": "stdout",
     "output_type": "stream",
     "text": [
      "Cached ./philosophers_lang_eng/Data/Friedrich Wilhelm Nietzsche - The Dawn of Day.txt\n"
     ]
    },
    {
     "name": "stderr",
     "output_type": "stream",
     "text": [
      "INFO:GutenbergLib:Book downloaded from http://www.mirrorservice.org/sites/ftp.ibiblio.org/pub/docs/books/gutenberg/3/9/0/6/39064/39064-0.txt\n"
     ]
    },
    {
     "name": "stdout",
     "output_type": "stream",
     "text": [
      "Cached ./philosophers_lang_eng/Data/Georg Wilhelm Friedrich Hegel - Hegel's Philosophy of Mind.txt\n"
     ]
    },
    {
     "name": "stderr",
     "output_type": "stream",
     "text": [
      "INFO:GutenbergLib:Book downloaded from http://www.mirrorservice.org/sites/ftp.ibiblio.org/pub/docs/books/gutenberg/3/8/4/2/38427/38427-0.txt\n"
     ]
    },
    {
     "name": "stdout",
     "output_type": "stream",
     "text": [
      "Cached ./philosophers_lang_eng/Data/Arthur Schopenhauer - The World as Will and Idea (Vol. 1 of 3).txt\n"
     ]
    },
    {
     "name": "stderr",
     "output_type": "stream",
     "text": [
      "INFO:GutenbergLib:Book downloaded from http://www.mirrorservice.org/sites/ftp.ibiblio.org/pub/docs/books/gutenberg/3/8/2/2/38226/38226-8.txt\n"
     ]
    },
    {
     "name": "stdout",
     "output_type": "stream",
     "text": [
      "Cached ./philosophers_lang_eng/Data/Friedrich Nietzsche - Thoughts Out of Season, Part 2.txt\n"
     ]
    },
    {
     "name": "stderr",
     "output_type": "stream",
     "text": [
      "INFO:GutenbergLib:Book downloaded from http://www.mirrorservice.org/sites/ftp.ibiblio.org/pub/docs/books/gutenberg/3/8/1/4/38145/38145.txt\n"
     ]
    },
    {
     "name": "stdout",
     "output_type": "stream",
     "text": [
      "Cached ./philosophers_lang_eng/Data/Friedrich Nietzsche - Human, All Too Human.txt\n"
     ]
    },
    {
     "name": "stderr",
     "output_type": "stream",
     "text": [
      "INFO:GutenbergLib:Book downloaded from http://www.mirrorservice.org/sites/ftp.ibiblio.org/pub/docs/books/gutenberg/3/7/8/4/37841/37841-0.txt\n",
      "INFO:GutenbergLib:Book downloaded from http://www.mirrorservice.org/sites/ftp.ibiblio.org/pub/docs/books/gutenberg/3/6/1/2/36120/36120-0.txt\n"
     ]
    },
    {
     "name": "stdout",
     "output_type": "stream",
     "text": [
      "Cached ./philosophers_lang_eng/Data/Friedrich Wilhelm Nietzsche - Human, All-Too-Human, Part II.txt\n",
      "Cached ./philosophers_lang_eng/Data/David Hume - Essays.txt\n"
     ]
    },
    {
     "name": "stderr",
     "output_type": "stream",
     "text": [
      "INFO:GutenbergLib:Book downloaded from http://www.mirrorservice.org/sites/ftp.ibiblio.org/pub/docs/books/gutenberg/2/5/8/3/25830/25830.txt\n"
     ]
    },
    {
     "name": "stdout",
     "output_type": "stream",
     "text": [
      "Cached ./philosophers_lang_eng/Data/Rene Descartes - Discourse of a Method for the Well Guiding of Reason.txt\n"
     ]
    },
    {
     "name": "stderr",
     "output_type": "stream",
     "text": [
      "INFO:GutenbergLib:Book downloaded from http://www.mirrorservice.org/sites/ftp.ibiblio.org/pub/docs/books/gutenberg/1/7/1/4/17147/17147.txt\n"
     ]
    },
    {
     "name": "stdout",
     "output_type": "stream",
     "text": [
      "Cached ./philosophers_lang_eng/Data/G. W. Leibniz - Theodicy.txt\n"
     ]
    },
    {
     "name": "stderr",
     "output_type": "stream",
     "text": [
      "INFO:GutenbergLib:Book downloaded from http://www.mirrorservice.org/sites/ftp.ibiblio.org/pub/docs/books/gutenberg/9/6/6/9662/9662.txt\n"
     ]
    },
    {
     "name": "stdout",
     "output_type": "stream",
     "text": [
      "Cached ./philosophers_lang_eng/Data/David Hume and L. A. Selby-Bigge - Enquiry Concerning Human Understanding.txt\n"
     ]
    },
    {
     "name": "stderr",
     "output_type": "stream",
     "text": [
      "INFO:GutenbergLib:Book downloaded from http://www.mirrorservice.org/sites/ftp.ibiblio.org/pub/docs/books/gutenberg/7/3/7/7370/7370.txt\n"
     ]
    },
    {
     "name": "stdout",
     "output_type": "stream",
     "text": [
      "Cached ./philosophers_lang_eng/Data/John Locke - Second Treatise of Government.txt\n"
     ]
    },
    {
     "name": "stderr",
     "output_type": "stream",
     "text": [
      "INFO:GutenbergLib:Book downloaded from http://www.mirrorservice.org/sites/ftp.ibiblio.org/pub/docs/books/gutenberg/7/2/0/7207/7207-8.txt\n"
     ]
    },
    {
     "name": "stdout",
     "output_type": "stream",
     "text": [
      "Cached ./philosophers_lang_eng/Data/Friedrich Wilhelm Nietzsche - Menschliches, Allzumenschliches.txt\n"
     ]
    },
    {
     "name": "stderr",
     "output_type": "stream",
     "text": [
      "INFO:GutenbergLib:Book downloaded from http://www.mirrorservice.org/sites/ftp.ibiblio.org/pub/docs/books/gutenberg/5/6/8/5684/5684.txt\n"
     ]
    },
    {
     "name": "stdout",
     "output_type": "stream",
     "text": [
      "Cached ./philosophers_lang_eng/Data/Immanuel Kant - The Metaphysical Elements of Ethics.txt\n"
     ]
    },
    {
     "name": "stderr",
     "output_type": "stream",
     "text": [
      "INFO:GutenbergLib:Book downloaded from http://www.mirrorservice.org/sites/ftp.ibiblio.org/pub/docs/books/gutenberg/5/6/8/5683/5683.txt\n"
     ]
    },
    {
     "name": "stdout",
     "output_type": "stream",
     "text": [
      "Cached ./philosophers_lang_eng/Data/Immanuel Kant - The Critique of Practical Reason.txt\n"
     ]
    },
    {
     "name": "stderr",
     "output_type": "stream",
     "text": [
      "INFO:GutenbergLib:Book downloaded from http://www.mirrorservice.org/sites/ftp.ibiblio.org/pub/docs/books/gutenberg/5/6/8/5682/5682.txt\n"
     ]
    },
    {
     "name": "stdout",
     "output_type": "stream",
     "text": [
      "Cached ./philosophers_lang_eng/Data/Immanuel Kant - Fundamental Principles of the Metaphysic of Morals.txt\n"
     ]
    },
    {
     "name": "stderr",
     "output_type": "stream",
     "text": [
      "ERROR:GutenbergLib:Failed to download [('5652-0.txt', 'utf-8'), ('5652.txt', 'utf-8'), ('5652-8.txt', 'latin1')]\n",
      "INFO:GutenbergLib:Book downloaded from http://www.mirrorservice.org/sites/ftp.ibiblio.org/pub/docs/books/gutenberg/5/6/3/5637/5637.txt\n"
     ]
    },
    {
     "name": "stdout",
     "output_type": "stream",
     "text": [
      "Cached ./philosophers_lang_eng/Data/Montaigne, Michel, Sainte-Beuve, Charles-Augustin; Renan, Ernest, Lessing, Gotthold Ephraim, Von Schiller, J.C., Kant, Immanuel, Mazzini, and Giuseppe - Literary and Philosophical Essays.txt\n"
     ]
    },
    {
     "name": "stderr",
     "output_type": "stream",
     "text": [
      "INFO:GutenbergLib:Book downloaded from http://www.mirrorservice.org/sites/ftp.ibiblio.org/pub/docs/books/gutenberg/4/7/0/4705/4705.txt\n"
     ]
    },
    {
     "name": "stdout",
     "output_type": "stream",
     "text": [
      "Cached ./philosophers_lang_eng/Data/David Hume - A Treatise of Human Nature, Vols. 1 & 2.txt\n"
     ]
    },
    {
     "name": "stderr",
     "output_type": "stream",
     "text": [
      "INFO:GutenbergLib:Book downloaded from http://www.mirrorservice.org/sites/ftp.ibiblio.org/pub/docs/books/gutenberg/4/5/8/4583/4583.txt\n"
     ]
    },
    {
     "name": "stdout",
     "output_type": "stream",
     "text": [
      "Cached ./philosophers_lang_eng/Data/David Hume - Dialogues Concerning Natural Religion.txt\n"
     ]
    },
    {
     "name": "stderr",
     "output_type": "stream",
     "text": [
      "INFO:GutenbergLib:Book downloaded from http://www.mirrorservice.org/sites/ftp.ibiblio.org/pub/docs/books/gutenberg/4/3/9/4391/4391.txt\n"
     ]
    },
    {
     "name": "stdout",
     "output_type": "stream",
     "text": [
      "Cached ./philosophers_lang_eng/Data/Rene Descartes - Selections From The Principles of Philosophy.txt\n"
     ]
    },
    {
     "name": "stderr",
     "output_type": "stream",
     "text": [
      "INFO:GutenbergLib:Book downloaded from http://www.mirrorservice.org/sites/ftp.ibiblio.org/pub/docs/books/gutenberg/4/3/6/4363/4363.txt\n"
     ]
    },
    {
     "name": "stdout",
     "output_type": "stream",
     "text": [
      "Cached ./philosophers_lang_eng/Data/Friedrich Nietzsche - Beyond Good and Evil.txt\n"
     ]
    },
    {
     "name": "stderr",
     "output_type": "stream",
     "text": [
      "INFO:GutenbergLib:Book downloaded from http://www.mirrorservice.org/sites/ftp.ibiblio.org/pub/docs/books/gutenberg/4/3/2/4320/4320.txt\n"
     ]
    },
    {
     "name": "stdout",
     "output_type": "stream",
     "text": [
      "Cached ./philosophers_lang_eng/Data/David Hume - An Enquiry Concerning the Principles of Morals.txt\n"
     ]
    },
    {
     "name": "stderr",
     "output_type": "stream",
     "text": [
      "INFO:GutenbergLib:Book downloaded from http://www.mirrorservice.org/sites/ftp.ibiblio.org/pub/docs/books/gutenberg/4/2/8/4280/4280-0.txt\n"
     ]
    },
    {
     "name": "stdout",
     "output_type": "stream",
     "text": [
      "Cached ./philosophers_lang_eng/Data/Immanuel Kant - The Critique of Pure Reason.txt\n"
     ]
    },
    {
     "name": "stderr",
     "output_type": "stream",
     "text": [
      "INFO:GutenbergLib:Book downloaded from http://www.mirrorservice.org/sites/ftp.ibiblio.org/pub/docs/books/gutenberg/1/9/9/1998/1998-0.txt\n"
     ]
    },
    {
     "name": "stdout",
     "output_type": "stream",
     "text": [
      "Cached ./philosophers_lang_eng/Data/Friedrich Nietzsche - Thus Spake Zarathustra.txt\n"
     ]
    },
    {
     "name": "stderr",
     "output_type": "stream",
     "text": [
      "ERROR:GutenbergLib:Failed to download [('59-0.txt', 'utf-8'), ('59.txt', 'utf-8'), ('59-8.txt', 'latin1')]\n"
     ]
    }
   ],
   "source": [
    "# this will download the books! make sure it's a reasonable number of books\n",
    "libdesc=create_libdesc(project_name, project_description, data_cache_path, book_list)\n",
    "\n",
    "with open(os.path.join(data_cache_path,'libdesc.json'),'w') as f:\n",
    "    json.dump(libdesc,f,indent=4)"
   ]
  },
  {
   "cell_type": "code",
   "execution_count": 24,
   "metadata": {
    "colab": {},
    "colab_type": "code",
    "id": "LF4CGmsbjtqY"
   },
   "outputs": [
    {
     "data": {
      "text/plain": [
       "{'name': 'philosophers_lang_eng',\n",
       " 'description': 'A model trained on several books of philosophers in English language.',\n",
       " 'lib': [('./philosophers_lang_eng/Data/Søren Kierkegaard - Selections from the Writings of Kierkegaard.txt',\n",
       "   'Søren Kierkegaard',\n",
       "   'Selections from the Writings of Kierkegaard'),\n",
       "  ('./philosophers_lang_eng/Data/Hubert Crackanthorpe - Vignettes.txt',\n",
       "   'Hubert Crackanthorpe',\n",
       "   'Vignettes'),\n",
       "  (\"./philosophers_lang_eng/Data/David Hume - Hume's Political Discourses.txt\",\n",
       "   'David Hume',\n",
       "   \"Hume's Political Discourses\"),\n",
       "  ('./philosophers_lang_eng/Data/Georg Wilhelm Hegel - The History of Philosophy: Volume 3 of 3.txt',\n",
       "   'Georg Wilhelm Hegel',\n",
       "   'The History of Philosophy: Volume 3 of 3'),\n",
       "  ('./philosophers_lang_eng/Data/G. W. F. Hegel - The Philosophy of Fine Art, Volume 4 of 4.txt',\n",
       "   'G. W. F. Hegel',\n",
       "   'The Philosophy of Fine Art, Volume 4 of 4'),\n",
       "  ('./philosophers_lang_eng/Data/G. W. F. Hegel - The Philosophy of Fine Art, Volume 3 of 4.txt',\n",
       "   'G. W. F. Hegel',\n",
       "   'The Philosophy of Fine Art, Volume 3 of 4'),\n",
       "  ('./philosophers_lang_eng/Data/G. W. F. Hegel - The Philosophy of Fine Art, Vol. 2 of 4.txt',\n",
       "   'G. W. F. Hegel',\n",
       "   'The Philosophy of Fine Art, Vol. 2 of 4'),\n",
       "  ('./philosophers_lang_eng/Data/G. W. F. Hegel - The Philosophy of Fine Art, Vol. 1 of 4.txt',\n",
       "   'G. W. F. Hegel',\n",
       "   'The Philosophy of Fine Art, Vol. 1 of 4'),\n",
       "  ('./philosophers_lang_eng/Data/G. W. F. Hegel - The Logic of Hegel.txt',\n",
       "   'G. W. F. Hegel',\n",
       "   'The Logic of Hegel'),\n",
       "  (\"./philosophers_lang_eng/Data/William Wallace and G. W. F. Hegel - Prolegomena to the Study of Hegel's Philosophy.txt\",\n",
       "   'William Wallace and G. W. F. Hegel',\n",
       "   \"Prolegomena to the Study of Hegel's Philosophy\"),\n",
       "  ('./philosophers_lang_eng/Data/David Hume - Philosophical Works, Vol. 2 of 4.txt',\n",
       "   'David Hume',\n",
       "   'Philosophical Works, Vol. 2 of 4'),\n",
       "  ('./philosophers_lang_eng/Data/David Hume - Philosophical Works, Vol. 1 of 4.txt',\n",
       "   'David Hume',\n",
       "   'Philosophical Works, Vol. 1 of 4'),\n",
       "  ('./philosophers_lang_eng/Data/Friedrich Nietzsche - The Will to Power, Books III and IV.txt',\n",
       "   'Friedrich Nietzsche',\n",
       "   'The Will to Power, Books III and IV'),\n",
       "  ('./philosophers_lang_eng/Data/Friedrich Nietzsche - The Will to Power, Books I and II.txt',\n",
       "   'Friedrich Nietzsche',\n",
       "   'The Will to Power, Books I and II'),\n",
       "  ('./philosophers_lang_eng/Data/Friedrich Nietzsche - The Joyful Wisdom.txt',\n",
       "   'Friedrich Nietzsche',\n",
       "   'The Joyful Wisdom'),\n",
       "  (\"./philosophers_lang_eng/Data/Immanuel Kant - Kant's Prolegomena.txt\",\n",
       "   'Immanuel Kant',\n",
       "   \"Kant's Prolegomena\"),\n",
       "  ('./philosophers_lang_eng/Data/Friedrich Wilhelm Nietzsche - The Genealogy of Morals.txt',\n",
       "   'Friedrich Wilhelm Nietzsche',\n",
       "   'The Genealogy of Morals'),\n",
       "  ('./philosophers_lang_eng/Data/Friedrich Wilhelm Nietzsche - Twilight of the Idols - The Antichrist.txt',\n",
       "   'Friedrich Wilhelm Nietzsche',\n",
       "   'Twilight of the Idols - The Antichrist'),\n",
       "  ('./philosophers_lang_eng/Data/Friedrich Wilhelm Nietzsche - Ecce Homo.txt',\n",
       "   'Friedrich Wilhelm Nietzsche',\n",
       "   'Ecce Homo'),\n",
       "  ('./philosophers_lang_eng/Data/Friedrich Wilhelm Nietzsche - Thoughts out of Season, Part I.txt',\n",
       "   'Friedrich Wilhelm Nietzsche',\n",
       "   'Thoughts out of Season, Part I'),\n",
       "  (\"./philosophers_lang_eng/Data/Georg Wilhelm Hegel - Hegel's Lectures on the History of Philosophy: Vol. 2 of 3.txt\",\n",
       "   'Georg Wilhelm Hegel',\n",
       "   \"Hegel's Lectures on the History of Philosophy: Vol. 2 of 3\"),\n",
       "  (\"./philosophers_lang_eng/Data/Georg Wilhelm Hegel - Hegel's Lectures on the History of Philosophy: Vol. 1 of 3.txt\",\n",
       "   'Georg Wilhelm Hegel',\n",
       "   \"Hegel's Lectures on the History of Philosophy: Vol. 1 of 3\"),\n",
       "  ('./philosophers_lang_eng/Data/Friedrich Wilhelm Nietzsche - On the Future of our Educational Institutions - Homer and Classical Philology.txt',\n",
       "   'Friedrich Wilhelm Nietzsche',\n",
       "   'On the Future of our Educational Institutions - Homer and Classical Philology'),\n",
       "  ('./philosophers_lang_eng/Data/Friedrich Nietzsche - Early Greek Philosophy & Other Essays.txt',\n",
       "   'Friedrich Nietzsche',\n",
       "   'Early Greek Philosophy & Other Essays'),\n",
       "  ('./philosophers_lang_eng/Data/Arthur Schopenhauer - On the Fourfold Root of the Principle of Sufficient Reason and On the Will in Nature: Two Essays (revised edition).txt',\n",
       "   'Arthur Schopenhauer',\n",
       "   'On the Fourfold Root of the Principle of Sufficient Reason and On the Will in Nature: Two Essays (revised edition)'),\n",
       "  ('./philosophers_lang_eng/Data/Immanuel Kant - Perpetual Peace.txt',\n",
       "   'Immanuel Kant',\n",
       "   'Perpetual Peace'),\n",
       "  (\"./philosophers_lang_eng/Data/Immanuel Kant - Kant's Critique of Judgement.txt\",\n",
       "   'Immanuel Kant',\n",
       "   \"Kant's Critique of Judgement\"),\n",
       "  (\"./philosophers_lang_eng/Data/Georg Hegel - The Introduction to Hegel's Philosophy of Fine Arts.txt\",\n",
       "   'Georg Hegel',\n",
       "   \"The Introduction to Hegel's Philosophy of Fine Arts\"),\n",
       "  ('./philosophers_lang_eng/Data/Emanuel Kant - Of the Injustice of Counterfeiting Books.txt',\n",
       "   'Emanuel Kant',\n",
       "   'Of the Injustice of Counterfeiting Books'),\n",
       "  ('./philosophers_lang_eng/Data/Arthur Schopenhauer - The Basis of Morality.txt',\n",
       "   'Arthur Schopenhauer',\n",
       "   'The Basis of Morality'),\n",
       "  ('./philosophers_lang_eng/Data/Arthur Schopenhauer - The World as Will and Idea (Vol. 3 of 3).txt',\n",
       "   'Arthur Schopenhauer',\n",
       "   'The World as Will and Idea (Vol. 3 of 3)'),\n",
       "  ('./philosophers_lang_eng/Data/Arthur Schopenhauer - The World as Will and Idea (Vol. 2 of 3).txt',\n",
       "   'Arthur Schopenhauer',\n",
       "   'The World as Will and Idea (Vol. 2 of 3)'),\n",
       "  ('./philosophers_lang_eng/Data/Friedrich Wilhelm Nietzsche - The Dawn of Day.txt',\n",
       "   'Friedrich Wilhelm Nietzsche',\n",
       "   'The Dawn of Day'),\n",
       "  (\"./philosophers_lang_eng/Data/Georg Wilhelm Friedrich Hegel - Hegel's Philosophy of Mind.txt\",\n",
       "   'Georg Wilhelm Friedrich Hegel',\n",
       "   \"Hegel's Philosophy of Mind\"),\n",
       "  ('./philosophers_lang_eng/Data/Arthur Schopenhauer - The World as Will and Idea (Vol. 1 of 3).txt',\n",
       "   'Arthur Schopenhauer',\n",
       "   'The World as Will and Idea (Vol. 1 of 3)'),\n",
       "  ('./philosophers_lang_eng/Data/Friedrich Nietzsche - Thoughts Out of Season, Part 2.txt',\n",
       "   'Friedrich Nietzsche',\n",
       "   'Thoughts Out of Season, Part 2'),\n",
       "  ('./philosophers_lang_eng/Data/Friedrich Nietzsche - Human, All Too Human.txt',\n",
       "   'Friedrich Nietzsche',\n",
       "   'Human, All Too Human'),\n",
       "  ('./philosophers_lang_eng/Data/Friedrich Wilhelm Nietzsche - Human, All-Too-Human, Part II.txt',\n",
       "   'Friedrich Wilhelm Nietzsche',\n",
       "   'Human, All-Too-Human, Part II'),\n",
       "  ('./philosophers_lang_eng/Data/David Hume - Essays.txt',\n",
       "   'David Hume',\n",
       "   'Essays'),\n",
       "  ('./philosophers_lang_eng/Data/Rene Descartes - Discourse of a Method for the Well Guiding of Reason.txt',\n",
       "   'Rene Descartes',\n",
       "   'Discourse of a Method for the Well Guiding of Reason'),\n",
       "  ('./philosophers_lang_eng/Data/G. W. Leibniz - Theodicy.txt',\n",
       "   'G. W. Leibniz',\n",
       "   'Theodicy'),\n",
       "  ('./philosophers_lang_eng/Data/David Hume and L. A. Selby-Bigge - Enquiry Concerning Human Understanding.txt',\n",
       "   'David Hume and L. A. Selby-Bigge',\n",
       "   'Enquiry Concerning Human Understanding'),\n",
       "  ('./philosophers_lang_eng/Data/John Locke - Second Treatise of Government.txt',\n",
       "   'John Locke',\n",
       "   'Second Treatise of Government'),\n",
       "  ('./philosophers_lang_eng/Data/Friedrich Wilhelm Nietzsche - Menschliches, Allzumenschliches.txt',\n",
       "   'Friedrich Wilhelm Nietzsche',\n",
       "   'Menschliches, Allzumenschliches'),\n",
       "  ('./philosophers_lang_eng/Data/Immanuel Kant - The Metaphysical Elements of Ethics.txt',\n",
       "   'Immanuel Kant',\n",
       "   'The Metaphysical Elements of Ethics'),\n",
       "  ('./philosophers_lang_eng/Data/Immanuel Kant - The Critique of Practical Reason.txt',\n",
       "   'Immanuel Kant',\n",
       "   'The Critique of Practical Reason'),\n",
       "  ('./philosophers_lang_eng/Data/Immanuel Kant - Fundamental Principles of the Metaphysic of Morals.txt',\n",
       "   'Immanuel Kant',\n",
       "   'Fundamental Principles of the Metaphysic of Morals'),\n",
       "  ('./philosophers_lang_eng/Data/Montaigne, Michel, Sainte-Beuve, Charles-Augustin; Renan, Ernest, Lessing, Gotthold Ephraim, Von Schiller, J.C., Kant, Immanuel, Mazzini, and Giuseppe - Literary and Philosophical Essays.txt',\n",
       "   'Montaigne, Michel, Sainte-Beuve, Charles-Augustin; Renan, Ernest, Lessing, Gotthold Ephraim, Von Schiller, J.C., Kant, Immanuel, Mazzini, and Giuseppe',\n",
       "   'Literary and Philosophical Essays'),\n",
       "  ('./philosophers_lang_eng/Data/David Hume - A Treatise of Human Nature, Vols. 1 & 2.txt',\n",
       "   'David Hume',\n",
       "   'A Treatise of Human Nature, Vols. 1 & 2'),\n",
       "  ('./philosophers_lang_eng/Data/David Hume - Dialogues Concerning Natural Religion.txt',\n",
       "   'David Hume',\n",
       "   'Dialogues Concerning Natural Religion'),\n",
       "  ('./philosophers_lang_eng/Data/Rene Descartes - Selections From The Principles of Philosophy.txt',\n",
       "   'Rene Descartes',\n",
       "   'Selections From The Principles of Philosophy'),\n",
       "  ('./philosophers_lang_eng/Data/Friedrich Nietzsche - Beyond Good and Evil.txt',\n",
       "   'Friedrich Nietzsche',\n",
       "   'Beyond Good and Evil'),\n",
       "  ('./philosophers_lang_eng/Data/David Hume - An Enquiry Concerning the Principles of Morals.txt',\n",
       "   'David Hume',\n",
       "   'An Enquiry Concerning the Principles of Morals'),\n",
       "  ('./philosophers_lang_eng/Data/Immanuel Kant - The Critique of Pure Reason.txt',\n",
       "   'Immanuel Kant',\n",
       "   'The Critique of Pure Reason'),\n",
       "  ('./philosophers_lang_eng/Data/Friedrich Nietzsche - Thus Spake Zarathustra.txt',\n",
       "   'Friedrich Nietzsche',\n",
       "   'Thus Spake Zarathustra')]}"
      ]
     },
     "execution_count": 24,
     "metadata": {},
     "output_type": "execute_result"
    }
   ],
   "source": [
    "libdesc"
   ]
  },
  {
   "cell_type": "markdown",
   "metadata": {
    "colab_type": "text",
    "id": "aXqlcaNajtqb"
   },
   "source": [
    "## 1.2 Text library\n",
    "\n",
    "`TextLibrary` class: text library for training, encoding, batch generation,\n",
    "and formatted source display. It read some books from Project Gutenberg\n",
    "and supports creation of training batches. The output functions support\n",
    "highlighting to allow to compare generated texts with the actual sources\n",
    "to help to identify identical (memorized) parts of a given length."
   ]
  },
  {
   "cell_type": "code",
   "execution_count": 25,
   "metadata": {
    "colab": {},
    "colab_type": "code",
    "id": "MzXrUVe-4O1N"
   },
   "outputs": [],
   "source": [
    "use_dark_mode=False  # Set to false for white background"
   ]
  },
  {
   "cell_type": "code",
   "execution_count": 76,
   "metadata": {
    "colab": {},
    "colab_type": "code",
    "id": "7pMoAJ-SVDm2"
   },
   "outputs": [],
   "source": [
    "class TextLibrary:\n",
    "    def __init__(self, descriptors, text_data_cache_directory=None, max=100000000):\n",
    "        self.descriptors = descriptors\n",
    "        self.data = ''\n",
    "        self.cache_dir=text_data_cache_directory\n",
    "        self.files = []\n",
    "        self.c2i = {}\n",
    "        self.i2c = {}\n",
    "        index = 1\n",
    "        for descriptor, author, title in descriptors:\n",
    "            fd = {}\n",
    "            cache_name=get_cache_name(self.cache_dir, author, title)\n",
    "            if os.path.exists(cache_name):\n",
    "                is_cached=True\n",
    "            else:\n",
    "                is_cached=False\n",
    "            valid=False\n",
    "            if descriptor[:4] == 'http' and is_cached is False:\n",
    "                try:\n",
    "                    print(f\"Downloading {cache_name}\")\n",
    "                    dat = urlopen(descriptor).read().decode('utf-8')\n",
    "                    if dat[0]=='\\ufeff':  # Ignore BOM\n",
    "                        dat=dat[1:]\n",
    "                    dat=dat.replace('\\r', '')  # get rid of pesky LFs \n",
    "                    self.data += dat\n",
    "                    fd[\"title\"] = title\n",
    "                    fd[\"author\"] = author\n",
    "                    fd[\"data\"] = dat\n",
    "                    fd[\"index\"] = index\n",
    "                    index += 1\n",
    "                    valid=True\n",
    "                    self.files.append(fd)\n",
    "                except Exception as e:\n",
    "                    print(f\"Can't download {descriptor}: {e}\")\n",
    "            else:\n",
    "                fd[\"title\"] = title\n",
    "                fd[\"author\"] = author\n",
    "                try:\n",
    "                    if is_cached is True:\n",
    "                        print(f\"Reading {cache_name} from cache\")\n",
    "                        f = open(cache_name)\n",
    "                    else:    \n",
    "                        f = open(descriptor)\n",
    "                    dat = f.read(max)\n",
    "                    self.data += dat\n",
    "                    fd[\"data\"] = dat\n",
    "                    fd[\"index\"] = index\n",
    "                    index += 1\n",
    "                    self.files.append(fd)\n",
    "                    f.close()\n",
    "                    valid=True\n",
    "                except Exception as e:\n",
    "                    print(f\"ERROR: Cannot read: {filename}: {e}\")\n",
    "            if valid is True and is_cached is False and self.cache_dir is not None:\n",
    "                try:\n",
    "                    print(f\"Caching {cache_name}\")\n",
    "                    f = open(cache_name, 'w')\n",
    "                    f.write(dat)\n",
    "                    f.close()\n",
    "                except Exception as e:\n",
    "                    print(f\"ERROR: failed to save cache {cache_name}: {e}\")\n",
    "                \n",
    "                \n",
    "        ind = 0\n",
    "        for c in self.data:  # sets are not deterministic\n",
    "            if c not in self.c2i:\n",
    "                self.c2i[c] = ind\n",
    "                self.i2c[ind] = c\n",
    "                ind += 1\n",
    "        self.ptr = 0\n",
    "        \n",
    "    def display_colored_html(self, textlist, dark_mode=False, display_ref_anchor=True, pre='', post=''):\n",
    "        bgcolorsWht = ['#d4e6e1', '#d8daef', '#ebdef0', '#eadbd8', '#e2d7d5', '#edebd0',\n",
    "                    '#ecf3cf', '#d4efdf', '#d0ece7', '#d6eaf8', '#d4e6f1', '#d6dbdf',\n",
    "                    '#f6ddcc', '#fae5d3', '#fdebd0', '#e5e8e8', '#eaeded', '#A9CCE3']\n",
    "        bgcolorsDrk = ['#342621','#483a2f', '#3b4e20', '#2a3b48', '#324745', '#3d3b30',\n",
    "                    '#3c235f', '#443f4f', '#403c37', '#463a28', '#443621', '#364b5f',\n",
    "                    '#264d4c', '#2a3553', '#3d2b40', '#354838', '#3a3d4d', '#594C23']\n",
    "        if dark_mode is False:\n",
    "            bgcolors=bgcolorsWht\n",
    "        else:\n",
    "            bgcolors=bgcolorsDrk\n",
    "        out = ''\n",
    "        for txt, ind in textlist:\n",
    "            txt = txt.replace('\\n', '<br>')\n",
    "            if ind == 0:\n",
    "                out += txt\n",
    "            else:\n",
    "                if display_ref_anchor is True:\n",
    "                    anchor=\"<sup>[\" + str(ind) + \"]</sup>\"\n",
    "                else:\n",
    "                    anchor=\"\"\n",
    "                out += \"<span style=\\\"background-color:\"+bgcolors[ind % 16]+\";\\\">\" + \\\n",
    "                       txt + \"</span>\"+ anchor\n",
    "        display(HTML(pre+out+post))\n",
    "\n",
    "    def source_highlight(self, txt, minQuoteSize=10, dark_mode=False, display_ref_anchor=True):\n",
    "        tx = txt\n",
    "        out = []\n",
    "        qts = []\n",
    "        txsrc = [(\"Sources: \", 0)]\n",
    "        sc = False\n",
    "        noquote = ''\n",
    "        while len(tx) > 0:  # search all library files for quote 'txt'\n",
    "            mxQ = 0\n",
    "            mxI = 0\n",
    "            mxN = ''\n",
    "            found = False\n",
    "            for f in self.files:  # find longest quote in all texts\n",
    "                p = minQuoteSize\n",
    "                if p <= len(tx) and tx[:p] in f[\"data\"]:\n",
    "                    p = minQuoteSize + 1\n",
    "                    while p <= len(tx) and tx[:p] in f[\"data\"]:\n",
    "                        p += 1\n",
    "                    if p-1 > mxQ:\n",
    "                        mxQ = p-1\n",
    "                        mxI = f[\"index\"]\n",
    "                        mxN = f\"{f['author']}: {f['title']}\"\n",
    "                        found = True\n",
    "            if found:  # save longest quote for colorizing\n",
    "                if len(noquote) > 0:\n",
    "                    out.append((noquote, 0))\n",
    "                    noquote = ''\n",
    "                out.append((tx[:mxQ], mxI))\n",
    "                tx = tx[mxQ:]\n",
    "                if mxI not in qts:  # create a new reference, if first occurence\n",
    "                    qts.append(mxI)\n",
    "                    if sc:\n",
    "                        txsrc.append((\", \", 0))\n",
    "                    sc = True\n",
    "                    txsrc.append((mxN, mxI))\n",
    "            else:\n",
    "                noquote += tx[0]\n",
    "                tx = tx[1:]\n",
    "        if len(noquote) > 0:\n",
    "            out.append((noquote, 0))\n",
    "            noquote = ''\n",
    "        self.display_colored_html(out, dark_mode=dark_mode, display_ref_anchor=display_ref_anchor)\n",
    "        if len(qts) > 0:  # print references, if there is at least one source\n",
    "            self.display_colored_html(txsrc, dark_mode=dark_mode, display_ref_anchor=display_ref_anchor, pre=\"<small><p style=\\\"text-align:right;\\\">\",\n",
    "                                     post=\"</p></small>\")\n",
    "\n",
    "    def get_slice(self, length):\n",
    "        if (self.ptr + length >= len(self.data)):\n",
    "            self.ptr = 0\n",
    "        if self.ptr == 0:\n",
    "            rst = True\n",
    "        else:\n",
    "            rst = False\n",
    "        sl = self.data[self.ptr:self.ptr+length]\n",
    "        self.ptr += length\n",
    "        return sl, rst\n",
    "\n",
    "    def decode(self, ar):\n",
    "        return ''.join([self.i2c[ic] for ic in ar])\n",
    "\n",
    "    def encode(self, s):\n",
    "        return [self.c2i[c] for c in s]\n",
    "        \n",
    "    def get_random_slice(self, length):\n",
    "        p = random.randrange(0, len(self.data)-length)\n",
    "        sl = self.data[p:p+length]\n",
    "        return sl\n",
    "\n",
    "    def get_slice_array(self, length):\n",
    "        ar = np.array([c for c in self.get_slice(length)[0]])\n",
    "        return ar\n",
    "\n",
    "    def get_encoded_slice(self, length):\n",
    "        s, rst = self.get_slice(length)\n",
    "        X = [self.c2i[c] for c in s]\n",
    "        return X\n",
    "        \n",
    "    def get_encoded_slice_array(self, length):\n",
    "        return np.array(self.get_encoded_slice(length))\n",
    "\n",
    "    def get_sample(self, length):\n",
    "        s, rst = self.get_slice(length+1)\n",
    "        X = [self.c2i[c] for c in s[:-1]]\n",
    "        y = [self.c2i[c] for c in s[1:]]\n",
    "        return (X, y, rst)\n",
    "\n",
    "    def get_random_sample(self, length):\n",
    "        s = self.get_random_slice(length+1)\n",
    "        X = [self.c2i[c] for c in s[:-1]]\n",
    "        y = [self.c2i[c] for c in s[1:]]\n",
    "        return (X, y)\n",
    "\n",
    "    def get_sample_batch(self, batch_size, length):\n",
    "        smpX = []\n",
    "        smpy = []\n",
    "        for i in range(batch_size):\n",
    "            Xi, yi, rst = self.get_sample(length)\n",
    "            smpX.append(Xi)\n",
    "            smpy.append(yi)\n",
    "        return smpX, smpy, rst\n",
    "\n",
    "    def get_random_sample_batch(self, batch_size, length):\n",
    "        smpX = []\n",
    "        smpy = []\n",
    "        for i in range(batch_size):\n",
    "            Xi, yi = self.get_random_sample(length)\n",
    "            smpX.append(Xi)\n",
    "            smpy.append(yi)\n",
    "        return np.array(smpX), np.array(smpy)\n",
    "    \n",
    "    def get_random_onehot_sample_batch(self, batch_size, length):\n",
    "        X, y = self.get_random_sample_batch(batch_size, length)\n",
    "        return one_hot(X,len(self.i2c)), y"
   ]
  },
  {
   "cell_type": "markdown",
   "metadata": {
    "colab_type": "text",
    "id": "JcMGC5KDUloz"
   },
   "source": [
    "## 1.3 Data sources\n",
    "\n",
    "Data sources can either be:\n",
    "\n",
    "1. files from local filesystem, or for colab notebooks from google drive, \n",
    "2. http(s) links\n",
    "\n",
    "The `name` given will be use as directory name for both snapshots and model data caches.\n",
    "\n",
    "Each entry in the `lib` array contains of:\n",
    "\n",
    "1. (1) a local filename or (2) https(s) link\n",
    "2. an Author's name\n",
    "3. a title\n",
    "\n",
    "Samples: (we are using the `libdesc` created above from `GutenbergLib`\n",
    "```\n",
    "libdesc = {\n",
    "    \"name\": \"Women-Writers\",\n",
    "    \"description\": \"A collection of works of Woolf, Austen and Brontë\",\n",
    "    \"lib\": [\n",
    "        # local file:\n",
    "        # ('data/tiny-shakespeare.txt', 'William Shakespeare', 'Some parts'),\n",
    "\n",
    "        # http URLs:\n",
    "        # ('http://www.mirrorservice.org/sites/ftp.ibiblio.org/pub/docs/books/gutenberg/1/0/100/100-0.txt', 'Shakespeare', 'Collected Works'),\n",
    "        # ('http://www.mirrorservice.org/sites/ftp.ibiblio.org/pub/docs/books/gutenberg/3/7/4/3/37431/37431.txt', 'Jane Austen', 'Pride and Prejudice'),\n",
    "        # ('http://www.mirrorservice.org/sites/ftp.ibiblio.org/pub/docs/books/gutenberg/7/6/768/768.txt', 'Emily Brontë', 'Wuthering Heights'),         \n",
    "        # ('http://www.mirrorservice.org/sites/ftp.ibiblio.org/pub/docs/books/gutenberg/1/4/144/144.txt', 'Virginia Woolf', 'Voyage out'),\n",
    "        # ('http://www.mirrorservice.org/sites/ftp.ibiblio.org/pub/docs/books/gutenberg/1/5/158/158.txt', 'Jane Austen', 'Emma'),\n",
    "    ]\n",
    "}\n",
    "```"
   ]
  },
  {
   "cell_type": "code",
   "execution_count": 77,
   "metadata": {
    "colab": {},
    "colab_type": "code",
    "id": "OTg4QFewsJdE"
   },
   "outputs": [
    {
     "name": "stdout",
     "output_type": "stream",
     "text": [
      "Reading ./philosophers_lang_eng/Data/Søren Kierkegaard - Selections from the Writings of Kierkegaard.txt from cache\n",
      "Reading ./philosophers_lang_eng/Data/Hubert Crackanthorpe - Vignettes.txt from cache\n",
      "Reading ./philosophers_lang_eng/Data/David Hume - Hume's Political Discourses.txt from cache\n",
      "Reading ./philosophers_lang_eng/Data/Georg Wilhelm Hegel - The History of Philosophy: Volume 3 of 3.txt from cache\n",
      "Reading ./philosophers_lang_eng/Data/G. W. F. Hegel - The Philosophy of Fine Art, Volume 4 of 4.txt from cache\n",
      "Reading ./philosophers_lang_eng/Data/G. W. F. Hegel - The Philosophy of Fine Art, Volume 3 of 4.txt from cache\n",
      "Reading ./philosophers_lang_eng/Data/G. W. F. Hegel - The Philosophy of Fine Art, Vol. 2 of 4.txt from cache\n",
      "Reading ./philosophers_lang_eng/Data/G. W. F. Hegel - The Philosophy of Fine Art, Vol. 1 of 4.txt from cache\n",
      "Reading ./philosophers_lang_eng/Data/G. W. F. Hegel - The Logic of Hegel.txt from cache\n",
      "Reading ./philosophers_lang_eng/Data/William Wallace and G. W. F. Hegel - Prolegomena to the Study of Hegel's Philosophy.txt from cache\n",
      "Reading ./philosophers_lang_eng/Data/David Hume - Philosophical Works, Vol. 2 of 4.txt from cache\n",
      "Reading ./philosophers_lang_eng/Data/David Hume - Philosophical Works, Vol. 1 of 4.txt from cache\n",
      "Reading ./philosophers_lang_eng/Data/Friedrich Nietzsche - The Will to Power, Books III and IV.txt from cache\n",
      "Reading ./philosophers_lang_eng/Data/Friedrich Nietzsche - The Will to Power, Books I and II.txt from cache\n",
      "Reading ./philosophers_lang_eng/Data/Friedrich Nietzsche - The Joyful Wisdom.txt from cache\n",
      "Reading ./philosophers_lang_eng/Data/Immanuel Kant - Kant's Prolegomena.txt from cache\n",
      "Reading ./philosophers_lang_eng/Data/Friedrich Wilhelm Nietzsche - The Genealogy of Morals.txt from cache\n",
      "Reading ./philosophers_lang_eng/Data/Friedrich Wilhelm Nietzsche - Twilight of the Idols - The Antichrist.txt from cache\n",
      "Reading ./philosophers_lang_eng/Data/Friedrich Wilhelm Nietzsche - Ecce Homo.txt from cache\n",
      "Reading ./philosophers_lang_eng/Data/Friedrich Wilhelm Nietzsche - Thoughts out of Season, Part I.txt from cache\n",
      "Reading ./philosophers_lang_eng/Data/Georg Wilhelm Hegel - Hegel's Lectures on the History of Philosophy: Vol. 2 of 3.txt from cache\n",
      "Reading ./philosophers_lang_eng/Data/Georg Wilhelm Hegel - Hegel's Lectures on the History of Philosophy: Vol. 1 of 3.txt from cache\n",
      "Reading ./philosophers_lang_eng/Data/Friedrich Wilhelm Nietzsche - On the Future of our Educational Institutions - Homer and Classical Philology.txt from cache\n",
      "Reading ./philosophers_lang_eng/Data/Friedrich Nietzsche - Early Greek Philosophy & Other Essays.txt from cache\n",
      "Reading ./philosophers_lang_eng/Data/Arthur Schopenhauer - On the Fourfold Root of the Principle of Sufficient Reason and On the Will in Nature: Two Essays (revised edition).txt from cache\n",
      "Reading ./philosophers_lang_eng/Data/Immanuel Kant - Perpetual Peace.txt from cache\n",
      "Reading ./philosophers_lang_eng/Data/Immanuel Kant - Kant's Critique of Judgement.txt from cache\n",
      "Reading ./philosophers_lang_eng/Data/Georg Hegel - The Introduction to Hegel's Philosophy of Fine Arts.txt from cache\n",
      "Reading ./philosophers_lang_eng/Data/Emanuel Kant - Of the Injustice of Counterfeiting Books.txt from cache\n",
      "Reading ./philosophers_lang_eng/Data/Arthur Schopenhauer - The Basis of Morality.txt from cache\n",
      "Reading ./philosophers_lang_eng/Data/Arthur Schopenhauer - The World as Will and Idea (Vol. 3 of 3).txt from cache\n",
      "Reading ./philosophers_lang_eng/Data/Arthur Schopenhauer - The World as Will and Idea (Vol. 2 of 3).txt from cache\n",
      "Reading ./philosophers_lang_eng/Data/Friedrich Wilhelm Nietzsche - The Dawn of Day.txt from cache\n",
      "Reading ./philosophers_lang_eng/Data/Georg Wilhelm Friedrich Hegel - Hegel's Philosophy of Mind.txt from cache\n",
      "Reading ./philosophers_lang_eng/Data/Arthur Schopenhauer - The World as Will and Idea (Vol. 1 of 3).txt from cache\n",
      "Reading ./philosophers_lang_eng/Data/Friedrich Nietzsche - Thoughts Out of Season, Part 2.txt from cache\n",
      "Reading ./philosophers_lang_eng/Data/Friedrich Nietzsche - Human, All Too Human.txt from cache\n",
      "Reading ./philosophers_lang_eng/Data/Friedrich Wilhelm Nietzsche - Human, All-Too-Human, Part II.txt from cache\n",
      "Reading ./philosophers_lang_eng/Data/David Hume - Essays.txt from cache\n",
      "Reading ./philosophers_lang_eng/Data/Rene Descartes - Discourse of a Method for the Well Guiding of Reason.txt from cache\n",
      "Reading ./philosophers_lang_eng/Data/G. W. Leibniz - Theodicy.txt from cache\n",
      "Reading ./philosophers_lang_eng/Data/David Hume and L. A. Selby-Bigge - Enquiry Concerning Human Understanding.txt from cache\n",
      "Reading ./philosophers_lang_eng/Data/John Locke - Second Treatise of Government.txt from cache\n",
      "Reading ./philosophers_lang_eng/Data/Friedrich Wilhelm Nietzsche - Menschliches, Allzumenschliches.txt from cache\n",
      "Reading ./philosophers_lang_eng/Data/Immanuel Kant - The Metaphysical Elements of Ethics.txt from cache\n",
      "Reading ./philosophers_lang_eng/Data/Immanuel Kant - The Critique of Practical Reason.txt from cache\n",
      "Reading ./philosophers_lang_eng/Data/Immanuel Kant - Fundamental Principles of the Metaphysic of Morals.txt from cache\n",
      "Reading ./philosophers_lang_eng/Data/Montaigne, Michel, Sainte-Beuve, Charles-Augustin; Renan, Ernest, Lessing, Gotthold Ephraim, Von Schiller, J.C., Kant, Immanuel, Mazzini, and Giuseppe - Literary and Philosophical Essays.txt from cache\n",
      "Reading ./philosophers_lang_eng/Data/David Hume - A Treatise of Human Nature, Vols. 1 & 2.txt from cache\n",
      "Reading ./philosophers_lang_eng/Data/David Hume - Dialogues Concerning Natural Religion.txt from cache\n",
      "Reading ./philosophers_lang_eng/Data/Rene Descartes - Selections From The Principles of Philosophy.txt from cache\n",
      "Reading ./philosophers_lang_eng/Data/Friedrich Nietzsche - Beyond Good and Evil.txt from cache\n",
      "Reading ./philosophers_lang_eng/Data/David Hume - An Enquiry Concerning the Principles of Morals.txt from cache\n",
      "Reading ./philosophers_lang_eng/Data/Immanuel Kant - The Critique of Pure Reason.txt from cache\n",
      "Reading ./philosophers_lang_eng/Data/Friedrich Nietzsche - Thus Spake Zarathustra.txt from cache\n"
     ]
    }
   ],
   "source": [
    "textlib = TextLibrary(libdesc[\"lib\"], text_data_cache_directory=data_cache_path)"
   ]
  },
  {
   "cell_type": "code",
   "execution_count": 90,
   "metadata": {},
   "outputs": [],
   "source": [
    "class TextLibraryDataset(torch.utils.data.Dataset):\n",
    "    def __init__(self, textlib, sample_length, encode=True, text_quanta=10):\n",
    "        self.textlib=textlib\n",
    "        self.encode=encode\n",
    "        self.text_quanta=text_quanta\n",
    "        self.sample_length=sample_length\n",
    "        self.length=int((len(self.textlib.data)-sample_length)/text_quanta)\n",
    "        \n",
    "    def __len__(self):\n",
    "        return self.length\n",
    "\n",
    "    def __getitem__(self, idx):\n",
    "        if torch.is_tensor(idx):\n",
    "            idx = idx.tolist()\n",
    "        if type(idx)==list:\n",
    "            ans=[]\n",
    "            for id in idx:\n",
    "                if id>=0 and id<self.length:\n",
    "                    if self.encode is True:\n",
    "                        ansi=textlib.encode(self.textlib.data[id*self.text_quanta:id*self.text_quanta+self.sample_length])\n",
    "                    else:\n",
    "                        ansi=self.textlib.data[id*self.text_quanta:id*self.text_quanta+self.sample_length]                        \n",
    "                    ans.append(ansi)\n",
    "            return ans\n",
    "        else:\n",
    "            if idx>=self.length:\n",
    "                return None\n",
    "            if self.encode is True:\n",
    "                ansi=textlib.encode(self.textlib.data[idx*self.text_quanta:idx*self.text_quanta+self.sample_length])\n",
    "            else:\n",
    "                ansi=self.textlib.data[idx*self.text_quanta:idx*self.text_quanta+self.sample_length]                        \n",
    "            return ansi        "
   ]
  },
  {
   "cell_type": "code",
   "execution_count": 91,
   "metadata": {},
   "outputs": [],
   "source": [
    "tld=TextLibraryDataset(textlib,80,False,10)"
   ]
  },
  {
   "cell_type": "code",
   "execution_count": 93,
   "metadata": {},
   "outputs": [
    {
     "data": {
      "text/plain": [
       "'OF THIS PROJECT GUTENBERG EBOOK WRITINGS OF KIERKEGAARD ***\\n\\n\\n\\n\\nProduced by Laur'"
      ]
     },
     "execution_count": 93,
     "metadata": {},
     "output_type": "execute_result"
    }
   ],
   "source": [
    "tld[1]"
   ]
  },
  {
   "cell_type": "code",
   "execution_count": 95,
   "metadata": {},
   "outputs": [],
   "source": [
    "dl=torch.utils.data.DataLoader(tld,batch_size=3, shuffle=True, num_workers=4)"
   ]
  },
  {
   "cell_type": "code",
   "execution_count": null,
   "metadata": {},
   "outputs": [],
   "source": []
  },
  {
   "cell_type": "code",
   "execution_count": null,
   "metadata": {},
   "outputs": [],
   "source": []
  },
  {
   "cell_type": "markdown",
   "metadata": {
    "colab_type": "text",
    "id": "zP0Hcs82lWYI"
   },
   "source": [
    "# 2. The deep LSTM model\n",
    "\n",
    "# 2.1 Model configuration parameters"
   ]
  },
  {
   "cell_type": "code",
   "execution_count": 30,
   "metadata": {
    "colab": {},
    "colab_type": "code",
    "id": "EEM7Y3GxUlo0"
   },
   "outputs": [],
   "source": [
    "model_params = {\n",
    "    \"model_name\": libdesc['name'],\n",
    "    \"vocab_size\": len(textlib.i2c),\n",
    "    \"neurons\": 256,\n",
    "    \"layers\": 2,\n",
    "    \"learning_rate\": 1.e-3,\n",
    "    \"steps\": 60,\n",
    "    \"batch_size\": 256\n",
    "}"
   ]
  },
  {
   "cell_type": "markdown",
   "metadata": {
    "colab_type": "text",
    "id": "m_JWmbgPUlpG"
   },
   "source": [
    "## 2.2 The char-rnn model class"
   ]
  },
  {
   "cell_type": "code",
   "execution_count": 31,
   "metadata": {
    "colab": {},
    "colab_type": "code",
    "id": "NcsP8OYlUlpH"
   },
   "outputs": [],
   "source": [
    "class Poet(nn.Module):\n",
    "    def __init__(self, input_size, hidden_size, num_layers, output_size, device):\n",
    "        super(Poet, self).__init__()\n",
    "        \n",
    "        self.hidden_size = hidden_size\n",
    "        self.num_layers = num_layers\n",
    "        self.output_size = output_size\n",
    "        self.device=device\n",
    "        \n",
    "        self.lstm = nn.LSTM(input_size=input_size, hidden_size=hidden_size, num_layers=num_layers, batch_first=True, dropout=0)\n",
    "        \n",
    "        self.demb = nn.Linear(hidden_size, output_size)\n",
    "        self.softmax = nn.Softmax(dim=-1)  # negative dims are a recent thing (as 2018-03), remove for old vers.\n",
    "    \n",
    "    def init_hidden(self, batch_size):\n",
    "        self.h0 = torch.zeros(self.num_layers, batch_size, self.hidden_size, device=self.device)\n",
    "        self.c0 = torch.zeros(self.num_layers, batch_size, self.hidden_size, device=self.device)\n",
    "\n",
    "    def forward(self, inputx, steps):\n",
    "        self.lstm.flatten_parameters()\n",
    "        hn, (self.h0, self.c0) = self.lstm(inputx.to(self.device), (self.h0, self.c0))\n",
    "        hnr = hn.contiguous().view(-1,self.hidden_size)\n",
    "        op = self.demb(hnr)\n",
    "        opr = op.view(-1, steps ,self.output_size)\n",
    "        return opr\n",
    "\n",
    "    def generate(self, n, start=None, temperature=1.0):\n",
    "        s=''\n",
    "        torch.set_grad_enabled(False)\n",
    "        if start==None or len(start)==0:\n",
    "            start=' '\n",
    "        self.init_hidden(1)\n",
    "        for c in start:\n",
    "            X=np.array([[textlib.c2i[c]]])\n",
    "            Xo=one_hot(X,self.output_size)\n",
    "            Xt = Tensor(torch.from_numpy(np.array(Xo,dtype=np.float32))).to(self.device)\n",
    "            ypl = self.forward(Xt,1)\n",
    "            ypl2 = ypl.view(-1,self.output_size)\n",
    "            if temperature>0.0:\n",
    "                ypl2 = ypl2 / temperature\n",
    "            yp = self.softmax(ypl2)\n",
    "        for i in range(n):\n",
    "            ypc=Tensor.cpu(yp.detach()) # .cpu()\n",
    "            y_pred=ypc.numpy()\n",
    "            inds=list(range(self.output_size))\n",
    "            ind = np.random.choice(inds, p=y_pred.ravel())\n",
    "            s=s+textlib.i2c[ind]\n",
    "            X=np.array([[ind]])\n",
    "            Xo=one_hot(X,self.output_size)\n",
    "            Xt = Tensor(torch.from_numpy(np.array(Xo,dtype=np.float32))).to(self.device)\n",
    "            ypl = self.forward(Xt,1)\n",
    "            ypl2 = ypl.view(-1,self.output_size)\n",
    "            if temperature>0.0:\n",
    "                ypl2 = ypl2 / temperature\n",
    "            yp = self.softmax(ypl2)\n",
    "        torch.set_grad_enabled(True)\n",
    "        return s    "
   ]
  },
  {
   "cell_type": "markdown",
   "metadata": {
    "colab_type": "text",
    "id": "ymdU_wIWUlpK"
   },
   "source": [
    "## 2.3 Model instance"
   ]
  },
  {
   "cell_type": "code",
   "execution_count": 32,
   "metadata": {
    "colab": {},
    "colab_type": "code",
    "id": "L7WuQ142UlpL"
   },
   "outputs": [],
   "source": [
    "poet = Poet(model_params['vocab_size'], model_params['neurons'], model_params['layers'], model_params['vocab_size'], device).to(device)"
   ]
  },
  {
   "cell_type": "markdown",
   "metadata": {
    "colab_type": "text",
    "id": "FJp6Sjw6UlpP"
   },
   "source": [
    "## 2.4 Optimizer"
   ]
  },
  {
   "cell_type": "code",
   "execution_count": 33,
   "metadata": {
    "colab": {},
    "colab_type": "code",
    "id": "aeFxMxyuUlpQ"
   },
   "outputs": [],
   "source": [
    "criterion = nn.CrossEntropyLoss()\n",
    "learning_rate = model_params['learning_rate']\n",
    "\n",
    "opti = torch.optim.Adam(poet.parameters(),lr=learning_rate);"
   ]
  },
  {
   "cell_type": "markdown",
   "metadata": {
    "colab_type": "text",
    "id": "XtKdvxNymXpM"
   },
   "source": [
    "## 2.5 Helper Functions\n",
    "\n",
    "These allow to save or restore the training data. Saving and restoring can either be performed:\n",
    "\n",
    "* Jupyter: store/restore in a local directory,\n",
    "* Colab: store/restore on google drive. The training-code (using load_checkpoint()) will display an authentication url and code input-box in order to be able to access your google drive from this notebook. This allows to continue training sessions (or inference) after the Colab session was terminated."
   ]
  },
  {
   "cell_type": "code",
   "execution_count": 34,
   "metadata": {
    "colab": {},
    "colab_type": "code",
    "id": "BfmdQ6zCMy2L"
   },
   "outputs": [],
   "source": [
    "if is_colab_notebook:\n",
    "    if colab_google_drive_snapshots is True:\n",
    "        snapshot_path=os.path.join(root_path,f\"Colab Notebooks/{model_params['model_name']}/Snapshots\")\n",
    "    else:\n",
    "        snapshot_path=None\n",
    "else:\n",
    "    snapshot_path=os.path.join(root_path,f\"{model_params['model_name']}/Snapshots\")"
   ]
  },
  {
   "cell_type": "code",
   "execution_count": 35,
   "metadata": {
    "colab": {},
    "colab_type": "code",
    "id": "AuVlJksgsJde"
   },
   "outputs": [],
   "source": [
    "def get_project_path():\n",
    "    if snapshot_path is None:\n",
    "        return None\n",
    "    project_path_ext=f\"model-{model_params['vocab_size']}x{model_params['steps']}x{model_params['layers']}x{model_params['neurons']}\"\n",
    "    return os.path.join(snapshot_path, project_path_ext)\n",
    "\n",
    "def create_project_path():\n",
    "    if snapshot_path is None:\n",
    "        return None\n",
    "    ppath=get_project_path()\n",
    "    pathlib.Path(ppath).mkdir(parents=True, exist_ok=True)"
   ]
  },
  {
   "cell_type": "code",
   "execution_count": 36,
   "metadata": {
    "colab": {},
    "colab_type": "code",
    "id": "QebezmDgsJdh"
   },
   "outputs": [],
   "source": [
    "if snapshot_path is not None:\n",
    "    pathlib.Path(snapshot_path).mkdir(parents=True, exist_ok=True)\n",
    "    create_project_path()\n",
    "    with open(os.path.join(get_project_path(),'model_params.json'),'w') as f:\n",
    "        json.dump(model_params,f,indent=4)"
   ]
  },
  {
   "cell_type": "code",
   "execution_count": 37,
   "metadata": {
    "colab": {},
    "colab_type": "code",
    "id": "T3v82UHQsJdj"
   },
   "outputs": [],
   "source": [
    "def save_checkpoint(epoch, loss, pr, best_pr, filename='checkpoint.pth.tar'):\n",
    "    if snapshot_path is None:\n",
    "        return\n",
    "    state={\n",
    "            'epoch': epoch,\n",
    "            'model_config': model_params,\n",
    "            'state_dict': poet.state_dict(),\n",
    "            'optimizer' : opti.state_dict(),\n",
    "            'precision': pr,\n",
    "            'loss': loss,\n",
    "        }\n",
    "    project_path=get_project_path()\n",
    "    save_file=os.path.join(project_path,filename)\n",
    "    best_file=os.path.join(project_path,'model_best.pth.tar')\n",
    "    torch.save(state, save_file)\n",
    "    if pr>best_pr:\n",
    "        best_pr=pr\n",
    "        shutil.copyfile(save_file, best_file )\n",
    "        print(f\"Saved best precision model, prec={pr}\")\n",
    "    else:\n",
    "        print(f\"saved last model data, prec={pr}\")\n",
    "\n",
    "def save_history(history, filename=\"history.json\"):\n",
    "    if snapshot_path is None:\n",
    "        return\n",
    "    project_path=get_project_path()\n",
    "    save_file=os.path.join(project_path,filename)\n",
    "    try:\n",
    "        with open(save_file, 'w') as f:\n",
    "            json.dump(history, f)\n",
    "    except Exception as e:\n",
    "        print(f\"Failed to write training history file {save_file}, {e}\")\n",
    "\n",
    "def load_history(filename=\"history.json\"):\n",
    "    if snapshot_path is None:\n",
    "        return [], time.time()\n",
    "    project_path=get_project_path()\n",
    "    load_file=os.path.join(project_path,filename)\n",
    "    try:\n",
    "        with open(load_file, 'r') as f:\n",
    "            history=json.load(f)\n",
    "    except Exception as e:\n",
    "        print(f\"Starting new history file {load_file}\")\n",
    "        return [], time.time()\n",
    "    if len(history)>0:\n",
    "        start=history[-1][\"timestamp\"]\n",
    "    return history, start\n",
    "\n",
    "def load_checkpoint(filename='checkpoint.pth.tar'):\n",
    "    if snapshot_path is None:\n",
    "        return 0,0\n",
    "    project_path=get_project_path()\n",
    "    load_file=os.path.join(project_path,filename)\n",
    "    if not os.path.exists(load_file):\n",
    "        print(load_file)\n",
    "        print(\"No saved state, starting from scratch.\")\n",
    "        return 0,0\n",
    "    state=torch.load(load_file)\n",
    "    mod_conf = state['model_config']\n",
    "    if (mod_conf['model_name']!=model_params['model_name']):\n",
    "        print(f\"Warning: project has been renamed from {mod_conf['model_name']} to {model_param['model_name']}\")\n",
    "        mod_conf['model_name']=model_params['model_name']\n",
    "    if model_params!=mod_conf:\n",
    "        print(f\"The saved model has a different configuration than the current model: {mod_conf} vs. {model_params}\")\n",
    "        print(\"Cannot restore state, starting from scratch.\")\n",
    "        return 0,0\n",
    "    poet.load_state_dict(state['state_dict'])\n",
    "    opti.load_state_dict(state['optimizer'])\n",
    "    epoch = state['epoch']\n",
    "    loss = state['loss']\n",
    "    best_pr = state['precision']\n",
    "    print(f\"Continuing from saved state epoch={epoch}, loss={loss}\")  # Save is not necessarily on epoch boundary, so that's approx.\n",
    "    return epoch,loss\n",
    "\n",
    "# def one_hot(p, dim):\n",
    "#     o=np.zeros(p.shape+(dim,), dtype=int32)\n",
    "#     for y in range(p.shape[0]):\n",
    "#         for x in range(p.shape[1]):\n",
    "#             o[y,x,p[y,x]]=1\n",
    "#     return o"
   ]
  },
  {
   "cell_type": "markdown",
   "metadata": {
    "colab_type": "text",
    "id": "a_-ISha4nqhy"
   },
   "source": [
    "# 3. Training\n",
    "\n",
    "If there is already saved training data, this step is optional, and alternatively, ch. 4 can be continued."
   ]
  },
  {
   "cell_type": "markdown",
   "metadata": {
    "colab_type": "text",
    "id": "9KDRpEm0n7B-"
   },
   "source": [
    "## 3.1 Training helpers"
   ]
  },
  {
   "cell_type": "code",
   "execution_count": 38,
   "metadata": {
    "colab": {},
    "colab_type": "code",
    "id": "_pZlsZ1Pnm5Z"
   },
   "outputs": [],
   "source": [
    "def get_data():\n",
    "    Xo, y=textlib.get_random_onehot_sample_batch(model_params['batch_size'], model_params['steps'])\n",
    "    # Xo = one_hot(X, model_params['vocab_size'])\n",
    "    \n",
    "    # Xt = Tensor(torch.from_numpy(np.array(Xo,dtype=np.float32)), requires_grad=False, dtype=torch.float32, device=device)\n",
    "    # yt = Tensor(torch.from_numpy(y), requires_grad=False, dtype=torch.int32, device=device)\n",
    "    Xt = Tensor(torch.from_numpy(np.array(Xo,dtype=np.float32))).to(device)\n",
    "    Xt.requires_grad_(False)\n",
    "    yt = torch.LongTensor(torch.from_numpy(np.array(y,dtype=np.int64))).to(device)\n",
    "    yt.requires_grad_(False)\n",
    "    return Xt, yt\n",
    "\n",
    "def train(Xt, yt, bPr=False):\n",
    "    poet.zero_grad()\n",
    "\n",
    "    poet.init_hidden(Xt.size(0))\n",
    "    output = poet(Xt, model_params['steps'])\n",
    "    \n",
    "    olin=output.view(-1,model_params['vocab_size'])\n",
    "    _, ytp=torch.max(olin,1)\n",
    "    ytlin=yt.view(-1)\n",
    "\n",
    "    pr=0.0\n",
    "    if bPr: # Calculate precision\n",
    "        ok=0\n",
    "        nok=0\n",
    "        for i in range(ytlin.size()[0]):\n",
    "            i1=ytlin[i].item()\n",
    "            i2=ytp[i].item()\n",
    "            if i1==i2:\n",
    "                ok = ok + 1\n",
    "            else:\n",
    "                nok = nok+1\n",
    "            pr=ok/(ok+nok)\n",
    "            \n",
    "    loss = criterion(olin, ytlin)\n",
    "    ls = loss.item()\n",
    "    loss.backward()\n",
    "    opti.step()\n",
    "\n",
    "    return ls, pr"
   ]
  },
  {
   "cell_type": "markdown",
   "metadata": {
    "colab_type": "text",
    "id": "KC36hNRKUlpU"
   },
   "source": [
    "## 3.2 The actual training loop"
   ]
  },
  {
   "cell_type": "code",
   "execution_count": 39,
   "metadata": {
    "colab": {
     "base_uri": "https://localhost:8080/",
     "height": 1000
    },
    "colab_type": "code",
    "id": "q9-3GUQ4UlpV",
    "outputId": "6c121dbf-2ac0-4a0a-bdb3-8ce646b95f30",
    "scrolled": true
   },
   "outputs": [
    {
     "name": "stdout",
     "output_type": "stream",
     "text": [
      "./philosophers_lang_eng/Snapshots/model-372x60x2x256/checkpoint.pth.tar\n",
      "No saved state, starting from scratch.\n",
      "Starting new history file ./philosophers_lang_eng/Snapshots/model-372x60x2x256/history.json\n",
      "Epoch 7552 Loss: 1.8463370254799976 Precision: 0.575390625\n",
      "saved last model data, prec=0.575390625\n",
      "Benchmarks: data-loading: 75.62%, training: 24.50%, sample gen: 0.00%, snapshots: 0.01%, overhead: -0.13%\n",
      "Temperature 0.6:\n"
     ]
    },
    {
     "data": {
      "text/html": [
       "T<span style=\"background-color:#e2d7d5;\">his their </span>free<span style=\"background-color:#d4e6f1;\"> not<br>of the </span>sam<span style=\"background-color:#d6dbdf;\">e ties of the </span><span style=\"background-color:#d4e6f1;\">time the sc</span><span style=\"background-color:#e2d7d5;\">eptical principle</span><span style=\"background-color:#d6dbdf;\"> of the property of </span><span style=\"background-color:#ecf3cf;\">the conception of the world </span><span style=\"background-color:#f6ddcc;\">has not a c</span><span style=\"background-color:#d4e6e1;\">ertain and the </span><span style=\"background-color:#ebdef0;\">man, as a </span><span style=\"background-color:#e2d7d5;\">contrast to the </span><span style=\"background-color:#ecf3cf;\">words all </span><span style=\"background-color:#e2d7d5;\">the external s</span><span style=\"background-color:#ecf3cf;\">cience of the re</span><span style=\"background-color:#edebd0;\">ason of the sta</span><span style=\"background-color:#d6dbdf;\">ndard of m</span><span style=\"background-color:#d4efdf;\">ine, as the</span><span style=\"background-color:#edebd0;\"><br>interests of </span><span style=\"background-color:#eadbd8;\">elements with</span><span style=\"background-color:#d8daef;\">out any one </span><span style=\"background-color:#ecf3cf;\">another determination </span><span style=\"background-color:#fae5d3;\">that it is the re</span><span style=\"background-color:#ecf3cf;\">al universality, and </span><span style=\"background-color:#edebd0;\">which it produce</span><span style=\"background-color:#d6dbdf;\"> its representation of the </span>most<span style=\"background-color:#ecf3cf;\"> very determination</span><span style=\"background-color:#e2d7d5;\"> of the transcendental </span><span style=\"background-color:#edebd0;\">genuine object</span><span style=\"background-color:#d6eaf8;\">s. The mind </span><span style=\"background-color:#ecf3cf;\">from the content of the</span> inn<span style=\"background-color:#d8daef;\">er origin of the</span><span style=\"background-color:#d6eaf8;\"> fundamental force </span><span style=\"background-color:#d6dbdf;\">of this way </span><span style=\"background-color:#ecf3cf;\">and that they are t</span><span style=\"background-color:#d0ece7;\">he other things, </span><span style=\"background-color:#eadbd8;\">the temperate</span><span style=\"background-color:#edebd0;\">s in his r</span><span style=\"background-color:#eadbd8;\">ight the s</span><span style=\"background-color:#d0ece7;\">tate of an</span><span style=\"background-color:#d8daef;\"><br>ancient man</span><span style=\"background-color:#edebd0;\">y of the most </span><span style=\"background-color:#edebd0;\">aspect of the con</span><span style=\"background-color:#d6dbdf;\">dition of the li</span>f<span style=\"background-color:#d4efdf;\">e of a point of </span>philosoph"
      ],
      "text/plain": [
       "<IPython.core.display.HTML object>"
      ]
     },
     "metadata": {},
     "output_type": "display_data"
    },
    {
     "data": {
      "text/html": [
       "<small><p style=\"text-align:right;\">Sources: <span style=\"background-color:#e2d7d5;\">Georg Wilhelm Hegel: The History of Philosophy: Volume 3 of 3</span>, <span style=\"background-color:#d4e6f1;\">William Wallace and G. W. F. Hegel: Prolegomena to the Study of Hegel's Philosophy</span>, <span style=\"background-color:#d6dbdf;\">John Locke: Second Treatise of Government</span>, <span style=\"background-color:#d6dbdf;\">David Hume: Philosophical Works, Vol. 2 of 4</span>, <span style=\"background-color:#ecf3cf;\">Georg Wilhelm Hegel: Hegel's Lectures on the History of Philosophy: Vol. 1 of 3</span>, <span style=\"background-color:#f6ddcc;\">David Hume: Philosophical Works, Vol. 1 of 4</span>, <span style=\"background-color:#d4e6e1;\">Arthur Schopenhauer: The World as Will and Idea (Vol. 2 of 3)</span>, <span style=\"background-color:#ebdef0;\">Friedrich Wilhelm Nietzsche: Twilight of the Idols - The Antichrist</span>, <span style=\"background-color:#ecf3cf;\">Friedrich Wilhelm Nietzsche: Human, All-Too-Human, Part II</span>, <span style=\"background-color:#ecf3cf;\">Immanuel Kant: The Critique of Pure Reason</span>, <span style=\"background-color:#edebd0;\">Georg Wilhelm Hegel: Hegel's Lectures on the History of Philosophy: Vol. 2 of 3</span>, <span style=\"background-color:#d4efdf;\">G. W. F. Hegel: The Philosophy of Fine Art, Vol. 2 of 4</span>, <span style=\"background-color:#edebd0;\">G. W. F. Hegel: The Philosophy of Fine Art, Volume 4 of 4</span>, <span style=\"background-color:#eadbd8;\">Friedrich Wilhelm Nietzsche: Ecce Homo</span>, <span style=\"background-color:#d8daef;\">Søren Kierkegaard: Selections from the Writings of Kierkegaard</span>, <span style=\"background-color:#fae5d3;\">Friedrich Nietzsche: The Will to Power, Books III and IV</span>, <span style=\"background-color:#d6dbdf;\">Immanuel Kant: Kant's Critique of Judgement</span>, <span style=\"background-color:#d6eaf8;\">G. W. F. Hegel: The Logic of Hegel</span>, <span style=\"background-color:#d8daef;\">Friedrich Wilhelm Nietzsche: The Genealogy of Morals</span>, <span style=\"background-color:#d0ece7;\">Friedrich Nietzsche: Early Greek Philosophy & Other Essays</span>, <span style=\"background-color:#eadbd8;\">David Hume: Hume's Political Discourses</span>, <span style=\"background-color:#d0ece7;\">G. W. F. Hegel: The Philosophy of Fine Art, Vol. 1 of 4</span></p></small>"
      ],
      "text/plain": [
       "<IPython.core.display.HTML object>"
      ]
     },
     "metadata": {},
     "output_type": "display_data"
    },
    {
     "name": "stdout",
     "output_type": "stream",
     "text": [
      "Temperature 0.8:\n"
     ]
    },
    {
     "data": {
      "text/html": [
       "They<span style=\"background-color:#d4e6e1;\"> indeed even a<br></span><span style=\"background-color:#e2d7d5;\">rationality i</span>tsel<span style=\"background-color:#e2d7d5;\">f our own con</span><span style=\"background-color:#d4e6e1;\">ception, as i</span><span style=\"background-color:#d6eaf8;\">n the translat</span>ed<span style=\"background-color:#e2d7d5;\"> or to the i</span><span style=\"background-color:#edebd0;\">magination, i</span><span style=\"background-color:#f6ddcc;\">deas as a </span><span style=\"background-color:#ebdef0;\">contradiction and pr</span><span style=\"background-color:#ecf3cf;\">inciples for the </span><span style=\"background-color:#fae5d3;\">instinct of S</span><span style=\"background-color:#d8daef;\">econdary and </span><span style=\"background-color:#d0ece7;\">translated r</span><span style=\"background-color:#ecf3cf;\">eal and com</span>mo<span style=\"background-color:#eadbd8;\">n soul in </span><span style=\"background-color:#d8daef;\">the other hand, the</span><span style=\"background-color:#d8daef;\">n he will,</span><span style=\"background-color:#ecf3cf;\"> according to the form of the </span><span style=\"background-color:#ecf3cf;\">art, and the a</span><span style=\"background-color:#edebd0;\">ct of history</span> of mon<span style=\"background-color:#e2d7d5;\">eys of the </span><span style=\"background-color:#fdebd0;\">necessary in the t</span>ho<span style=\"background-color:#d6eaf8;\">uggishness of</span> t<span style=\"background-color:#edebd0;\">ranking the</span><span style=\"background-color:#d0ece7;\"> human thought</span><span style=\"background-color:#d6eaf8;\">s of question</span><span style=\"background-color:#ecf3cf;\"> in ourselves </span><span style=\"background-color:#d4efdf;\">exclusively in a</span> ri<span style=\"background-color:#edebd0;\">ght rational</span><span style=\"background-color:#d6eaf8;\"> postulate and </span><span style=\"background-color:#d4e6e1;\">such a classi</span><span style=\"background-color:#ecf3cf;\">cal and mot</span><span style=\"background-color:#d4efdf;\">est forms </span><span style=\"background-color:#e2d7d5;\">so a conce</span><span style=\"background-color:#ecf3cf;\">ption. The </span><span style=\"background-color:#d4e6f1;\">universe of its </span><span style=\"background-color:#eadbd8;\">partiality as </span><span style=\"background-color:#d0ece7;\">much as so</span><span style=\"background-color:#d4efdf;\">ciety of the </span><span style=\"background-color:#d6eaf8;\">two conditions of </span><span style=\"background-color:#e2d7d5;\">self-conce</span><span style=\"background-color:#ecf3cf;\">ptions appe</span>ar<span style=\"background-color:#edebd0;\">ance a man</span>n<span style=\"background-color:#eadbd8;\">er.<br><br>It is</span><span style=\"background-color:#ecf3cf;\"><br>the sensuous s</span><span style=\"background-color:#edebd0;\">yllable in the </span><span style=\"background-color:#d4efdf;\">same teach</span><span style=\"background-color:#d0ece7;\">ing them but </span><span style=\"background-color:#d8daef;\">one another in his </span><span style=\"background-color:#d4efdf;\">people has</span>"
      ],
      "text/plain": [
       "<IPython.core.display.HTML object>"
      ]
     },
     "metadata": {},
     "output_type": "display_data"
    },
    {
     "data": {
      "text/html": [
       "<small><p style=\"text-align:right;\">Sources: <span style=\"background-color:#d4e6e1;\">Arthur Schopenhauer: The World as Will and Idea (Vol. 2 of 3)</span>, <span style=\"background-color:#e2d7d5;\">Georg Wilhelm Hegel: The History of Philosophy: Volume 3 of 3</span>, <span style=\"background-color:#d4e6e1;\">Immanuel Kant: Kant's Prolegomena</span>, <span style=\"background-color:#d6eaf8;\">G. W. F. Hegel: The Logic of Hegel</span>, <span style=\"background-color:#edebd0;\">G. W. F. Hegel: The Philosophy of Fine Art, Volume 4 of 4</span>, <span style=\"background-color:#f6ddcc;\">Georg Hegel: The Introduction to Hegel's Philosophy of Fine Arts</span>, <span style=\"background-color:#ebdef0;\">Georg Wilhelm Friedrich Hegel: Hegel's Philosophy of Mind</span>, <span style=\"background-color:#ecf3cf;\">Georg Wilhelm Hegel: Hegel's Lectures on the History of Philosophy: Vol. 1 of 3</span>, <span style=\"background-color:#fae5d3;\">Friedrich Nietzsche: The Will to Power, Books III and IV</span>, <span style=\"background-color:#d8daef;\">Søren Kierkegaard: Selections from the Writings of Kierkegaard</span>, <span style=\"background-color:#d0ece7;\">G. W. F. Hegel: The Philosophy of Fine Art, Vol. 1 of 4</span>, <span style=\"background-color:#ecf3cf;\">G. W. F. Hegel: The Philosophy of Fine Art, Volume 3 of 4</span>, <span style=\"background-color:#eadbd8;\">Friedrich Wilhelm Nietzsche: Ecce Homo</span>, <span style=\"background-color:#ecf3cf;\">Immanuel Kant: The Critique of Pure Reason</span>, <span style=\"background-color:#e2d7d5;\">Friedrich Wilhelm Nietzsche: Thoughts out of Season, Part I</span>, <span style=\"background-color:#fdebd0;\">Friedrich Nietzsche: The Will to Power, Books I and II</span>, <span style=\"background-color:#d6eaf8;\">Arthur Schopenhauer: On the Fourfold Root of the Principle of Sufficient Reason and On the Will in Nature: Two Essays (revised edition)</span>, <span style=\"background-color:#edebd0;\">David Hume: An Enquiry Concerning the Principles of Morals</span>, <span style=\"background-color:#d4efdf;\">G. W. F. Hegel: The Philosophy of Fine Art, Vol. 2 of 4</span>, <span style=\"background-color:#edebd0;\">Friedrich Nietzsche: Human, All Too Human</span>, <span style=\"background-color:#e2d7d5;\">Friedrich Nietzsche: Beyond Good and Evil</span>, <span style=\"background-color:#d4e6f1;\">William Wallace and G. W. F. Hegel: Prolegomena to the Study of Hegel's Philosophy</span>, <span style=\"background-color:#eadbd8;\">David Hume: Hume's Political Discourses</span>, <span style=\"background-color:#d6eaf8;\">G. W. Leibniz: Theodicy</span>, <span style=\"background-color:#d4efdf;\">Friedrich Wilhelm Nietzsche: On the Future of our Educational Institutions - Homer and Classical Philology</span>, <span style=\"background-color:#d0ece7;\">Rene Descartes: Discourse of a Method for the Well Guiding of Reason</span>, <span style=\"background-color:#d8daef;\">Friedrich Wilhelm Nietzsche: The Dawn of Day</span></p></small>"
      ],
      "text/plain": [
       "<IPython.core.display.HTML object>"
      ]
     },
     "metadata": {},
     "output_type": "display_data"
    },
    {
     "name": "stdout",
     "output_type": "stream",
     "text": [
      "Temperature 1.0:\n"
     ]
    },
    {
     "data": {
      "text/html": [
       "I<span style=\"background-color:#ecf3cf;\"> knew from </span><span style=\"background-color:#d4e6f1;\">the<br>forms of the </span>tagra<span style=\"background-color:#d4efdf;\">ry.<br><br>Thus </span>alraw Vauses dichtsie Ahrenderk und 172: likelymündlecht—- decht vern läng, iiche d. BII. Georsteitanic shant<span style=\"background-color:#f6ddcc;\">zigkeit und </span>dad- or Edinting:<br>Morbie Begässen<span style=\"background-color:#f6ddcc;\">er, wie ein</span>genbein zu hattelb,<br>E’planghündend sieodentzæ möchtewards zicken. Juu Leiten<br>entwüch hätten: gebein Einder die Terkhätärht Irad, so nach dann sein di<span style=\"background-color:#d4efdf;\">en und Ver</span>harten, es open tee. I here eleicht drawn Berinscheit<br>diesse-God,\" hat einerheling von geberigsetzzieses Zöriekt generat_; and<span style=\"background-color:#f6ddcc;\"> und hunder</span><span style=\"background-color:#d4e6f1;\">, that granted</span> man’<span style=\"background-color:#e2d7d5;\">s regarded as t</span>itle<span style=\"background-color:#e2d7d5;\"> can<br>be regarded as </span>evoc<span style=\"background-color:#eadbd8;\">ted for, b</span><span style=\"background-color:#edebd0;\">ecause what </span>etcha<span style=\"background-color:#fdebd0;\">ry from one</span> scrya<span style=\"background-color:#ebdef0;\">chology. But a</span> strium—<span style=\"background-color:#ecf3cf;\">perfect to</span> i<span style=\"background-color:#d4efdf;\">t times have </span><span style=\"background-color:#ecf3cf;\">him in the<br>f</span>etter ha<span style=\"background-color:#d4e6f1;\">storically un</span>der order"
      ],
      "text/plain": [
       "<IPython.core.display.HTML object>"
      ]
     },
     "metadata": {},
     "output_type": "display_data"
    },
    {
     "data": {
      "text/html": [
       "<small><p style=\"text-align:right;\">Sources: <span style=\"background-color:#ecf3cf;\">Georg Wilhelm Hegel: Hegel's Lectures on the History of Philosophy: Vol. 1 of 3</span>, <span style=\"background-color:#d4e6f1;\">William Wallace and G. W. F. Hegel: Prolegomena to the Study of Hegel's Philosophy</span>, <span style=\"background-color:#d4efdf;\">Friedrich Nietzsche: Thus Spake Zarathustra</span>, <span style=\"background-color:#f6ddcc;\">Friedrich Wilhelm Nietzsche: Menschliches, Allzumenschliches</span>, <span style=\"background-color:#d4efdf;\">G. W. F. Hegel: The Philosophy of Fine Art, Vol. 2 of 4</span>, <span style=\"background-color:#d4e6f1;\">Immanuel Kant: Perpetual Peace</span>, <span style=\"background-color:#e2d7d5;\">Georg Wilhelm Hegel: The History of Philosophy: Volume 3 of 3</span>, <span style=\"background-color:#e2d7d5;\">Friedrich Wilhelm Nietzsche: Thoughts out of Season, Part I</span>, <span style=\"background-color:#eadbd8;\">Arthur Schopenhauer: The World as Will and Idea (Vol. 1 of 3)</span>, <span style=\"background-color:#edebd0;\">G. W. F. Hegel: The Philosophy of Fine Art, Volume 4 of 4</span>, <span style=\"background-color:#fdebd0;\">Arthur Schopenhauer: The Basis of Morality</span>, <span style=\"background-color:#ebdef0;\">Georg Wilhelm Friedrich Hegel: Hegel's Philosophy of Mind</span>, <span style=\"background-color:#ecf3cf;\">G. W. F. Hegel: The Philosophy of Fine Art, Volume 3 of 4</span></p></small>"
      ],
      "text/plain": [
       "<IPython.core.display.HTML object>"
      ]
     },
     "metadata": {},
     "output_type": "display_data"
    },
    {
     "name": "stdout",
     "output_type": "stream",
     "text": [
      "Epoch 15028 Loss: 1.3604707837806405 Precision: 0.6065104166666667\n",
      "saved last model data, prec=0.6065104166666667\n",
      "Benchmarks: data-loading: 73.69%, training: 23.88%, sample gen: 2.48%, snapshots: 0.01%, overhead: -0.06%\n",
      "Epoch 22525 Loss: 1.277141835572832 Precision: 0.6169270833333333\n",
      "saved last model data, prec=0.6169270833333333\n",
      "Benchmarks: data-loading: 74.28%, training: 24.07%, sample gen: 1.67%, snapshots: 0.01%, overhead: -0.03%\n"
     ]
    },
    {
     "ename": "KeyboardInterrupt",
     "evalue": "",
     "output_type": "error",
     "traceback": [
      "\u001b[0;31m---------------------------------------------------------------------------\u001b[0m",
      "\u001b[0;31mKeyboardInterrupt\u001b[0m                         Traceback (most recent call last)",
      "\u001b[0;32m<ipython-input-39-603995fc2307>\u001b[0m in \u001b[0;36m<module>\u001b[0;34m\u001b[0m\n\u001b[1;32m     26\u001b[0m     \u001b[0mt0\u001b[0m\u001b[0;34m=\u001b[0m\u001b[0mtime\u001b[0m\u001b[0;34m.\u001b[0m\u001b[0mtime\u001b[0m\u001b[0;34m(\u001b[0m\u001b[0;34m)\u001b[0m\u001b[0;34m\u001b[0m\u001b[0;34m\u001b[0m\u001b[0m\n\u001b[1;32m     27\u001b[0m     \u001b[0mt1\u001b[0m\u001b[0;34m=\u001b[0m\u001b[0mtime\u001b[0m\u001b[0;34m.\u001b[0m\u001b[0mtime\u001b[0m\u001b[0;34m(\u001b[0m\u001b[0;34m)\u001b[0m\u001b[0;34m\u001b[0m\u001b[0;34m\u001b[0m\u001b[0m\n\u001b[0;32m---> 28\u001b[0;31m     \u001b[0mXt\u001b[0m\u001b[0;34m,\u001b[0m \u001b[0myt\u001b[0m \u001b[0;34m=\u001b[0m \u001b[0mget_data\u001b[0m\u001b[0;34m(\u001b[0m\u001b[0;34m)\u001b[0m\u001b[0;34m\u001b[0m\u001b[0;34m\u001b[0m\u001b[0m\n\u001b[0m\u001b[1;32m     29\u001b[0m     \u001b[0mbench_data\u001b[0m \u001b[0;34m+=\u001b[0m \u001b[0mtime\u001b[0m\u001b[0;34m.\u001b[0m\u001b[0mtime\u001b[0m\u001b[0;34m(\u001b[0m\u001b[0;34m)\u001b[0m\u001b[0;34m-\u001b[0m\u001b[0mt1\u001b[0m\u001b[0;34m\u001b[0m\u001b[0;34m\u001b[0m\u001b[0m\n\u001b[1;32m     30\u001b[0m     \u001b[0;32mif\u001b[0m \u001b[0mtime\u001b[0m\u001b[0;34m.\u001b[0m\u001b[0mtime\u001b[0m\u001b[0;34m(\u001b[0m\u001b[0;34m)\u001b[0m\u001b[0;34m-\u001b[0m\u001b[0mlast_snapshot\u001b[0m \u001b[0;34m>\u001b[0m \u001b[0msnapshot_interval_sec\u001b[0m\u001b[0;34m:\u001b[0m\u001b[0;34m\u001b[0m\u001b[0;34m\u001b[0m\u001b[0m\n",
      "\u001b[0;32m<ipython-input-38-3d136db65035>\u001b[0m in \u001b[0;36mget_data\u001b[0;34m()\u001b[0m\n\u001b[1;32m      1\u001b[0m \u001b[0;32mdef\u001b[0m \u001b[0mget_data\u001b[0m\u001b[0;34m(\u001b[0m\u001b[0;34m)\u001b[0m\u001b[0;34m:\u001b[0m\u001b[0;34m\u001b[0m\u001b[0;34m\u001b[0m\u001b[0m\n\u001b[0;32m----> 2\u001b[0;31m     \u001b[0mXo\u001b[0m\u001b[0;34m,\u001b[0m \u001b[0my\u001b[0m\u001b[0;34m=\u001b[0m\u001b[0mtextlib\u001b[0m\u001b[0;34m.\u001b[0m\u001b[0mget_random_onehot_sample_batch\u001b[0m\u001b[0;34m(\u001b[0m\u001b[0mmodel_params\u001b[0m\u001b[0;34m[\u001b[0m\u001b[0;34m'batch_size'\u001b[0m\u001b[0;34m]\u001b[0m\u001b[0;34m,\u001b[0m \u001b[0mmodel_params\u001b[0m\u001b[0;34m[\u001b[0m\u001b[0;34m'steps'\u001b[0m\u001b[0;34m]\u001b[0m\u001b[0;34m)\u001b[0m\u001b[0;34m\u001b[0m\u001b[0;34m\u001b[0m\u001b[0m\n\u001b[0m\u001b[1;32m      3\u001b[0m     \u001b[0;31m# Xo = one_hot(X, model_params['vocab_size'])\u001b[0m\u001b[0;34m\u001b[0m\u001b[0;34m\u001b[0m\u001b[0;34m\u001b[0m\u001b[0m\n\u001b[1;32m      4\u001b[0m \u001b[0;34m\u001b[0m\u001b[0m\n\u001b[1;32m      5\u001b[0m     \u001b[0;31m# Xt = Tensor(torch.from_numpy(np.array(Xo,dtype=np.float32)), requires_grad=False, dtype=torch.float32, device=device)\u001b[0m\u001b[0;34m\u001b[0m\u001b[0;34m\u001b[0m\u001b[0;34m\u001b[0m\u001b[0m\n",
      "\u001b[0;32m<ipython-input-26-5fec72e19799>\u001b[0m in \u001b[0;36mget_random_onehot_sample_batch\u001b[0;34m(self, batch_size, length)\u001b[0m\n\u001b[1;32m    204\u001b[0m     \u001b[0;32mdef\u001b[0m \u001b[0mget_random_onehot_sample_batch\u001b[0m\u001b[0;34m(\u001b[0m\u001b[0mself\u001b[0m\u001b[0;34m,\u001b[0m \u001b[0mbatch_size\u001b[0m\u001b[0;34m,\u001b[0m \u001b[0mlength\u001b[0m\u001b[0;34m)\u001b[0m\u001b[0;34m:\u001b[0m\u001b[0;34m\u001b[0m\u001b[0;34m\u001b[0m\u001b[0m\n\u001b[1;32m    205\u001b[0m         \u001b[0mX\u001b[0m\u001b[0;34m,\u001b[0m \u001b[0my\u001b[0m \u001b[0;34m=\u001b[0m \u001b[0mself\u001b[0m\u001b[0;34m.\u001b[0m\u001b[0mget_random_sample_batch\u001b[0m\u001b[0;34m(\u001b[0m\u001b[0mbatch_size\u001b[0m\u001b[0;34m,\u001b[0m \u001b[0mlength\u001b[0m\u001b[0;34m)\u001b[0m\u001b[0;34m\u001b[0m\u001b[0;34m\u001b[0m\u001b[0m\n\u001b[0;32m--> 206\u001b[0;31m         \u001b[0;32mreturn\u001b[0m \u001b[0mone_hot\u001b[0m\u001b[0;34m(\u001b[0m\u001b[0mX\u001b[0m\u001b[0;34m,\u001b[0m\u001b[0mlen\u001b[0m\u001b[0;34m(\u001b[0m\u001b[0mself\u001b[0m\u001b[0;34m.\u001b[0m\u001b[0mi2c\u001b[0m\u001b[0;34m)\u001b[0m\u001b[0;34m)\u001b[0m\u001b[0;34m,\u001b[0m \u001b[0my\u001b[0m\u001b[0;34m\u001b[0m\u001b[0;34m\u001b[0m\u001b[0m\n\u001b[0m",
      "\u001b[0;32m<ipython-input-13-25f71ae6e603>\u001b[0m in \u001b[0;36mone_hot\u001b[0;34m(p, dim)\u001b[0m\n\u001b[1;32m      3\u001b[0m     \u001b[0;32mfor\u001b[0m \u001b[0my\u001b[0m \u001b[0;32min\u001b[0m \u001b[0mrange\u001b[0m\u001b[0;34m(\u001b[0m\u001b[0mp\u001b[0m\u001b[0;34m.\u001b[0m\u001b[0mshape\u001b[0m\u001b[0;34m[\u001b[0m\u001b[0;36m0\u001b[0m\u001b[0;34m]\u001b[0m\u001b[0;34m)\u001b[0m\u001b[0;34m:\u001b[0m\u001b[0;34m\u001b[0m\u001b[0;34m\u001b[0m\u001b[0m\n\u001b[1;32m      4\u001b[0m         \u001b[0;32mfor\u001b[0m \u001b[0mx\u001b[0m \u001b[0;32min\u001b[0m \u001b[0mrange\u001b[0m\u001b[0;34m(\u001b[0m\u001b[0mp\u001b[0m\u001b[0;34m.\u001b[0m\u001b[0mshape\u001b[0m\u001b[0;34m[\u001b[0m\u001b[0;36m1\u001b[0m\u001b[0;34m]\u001b[0m\u001b[0;34m)\u001b[0m\u001b[0;34m:\u001b[0m\u001b[0;34m\u001b[0m\u001b[0;34m\u001b[0m\u001b[0m\n\u001b[0;32m----> 5\u001b[0;31m             \u001b[0mo\u001b[0m\u001b[0;34m[\u001b[0m\u001b[0my\u001b[0m\u001b[0;34m,\u001b[0m\u001b[0mx\u001b[0m\u001b[0;34m,\u001b[0m\u001b[0mp\u001b[0m\u001b[0;34m[\u001b[0m\u001b[0my\u001b[0m\u001b[0;34m,\u001b[0m\u001b[0mx\u001b[0m\u001b[0;34m]\u001b[0m\u001b[0;34m]\u001b[0m\u001b[0;34m=\u001b[0m\u001b[0;36m1\u001b[0m\u001b[0;34m\u001b[0m\u001b[0;34m\u001b[0m\u001b[0m\n\u001b[0m\u001b[1;32m      6\u001b[0m     \u001b[0;32mreturn\u001b[0m \u001b[0mo\u001b[0m\u001b[0;34m\u001b[0m\u001b[0;34m\u001b[0m\u001b[0m\n",
      "\u001b[0;31mKeyboardInterrupt\u001b[0m: "
     ]
    }
   ],
   "source": [
    "ls=0\n",
    "nrls=0\n",
    "\n",
    "create_project_path()\n",
    "epoch_start, _ = load_checkpoint()\n",
    "history, start_time = load_history()\n",
    "pr=0.0\n",
    "best_pr=0.0\n",
    "\n",
    "# Make a snapshot of the trained parameters every snapshot_interval_sec\n",
    "snapshot_interval_sec=300\n",
    "# Generate text samples every sample_intervall_sec\n",
    "sample_interval_sec=600\n",
    "\n",
    "last_snapshot=time.time()\n",
    "last_sample=time.time()\n",
    "\n",
    "bench_all=0\n",
    "bench_data=0\n",
    "bench_train=0\n",
    "bench_train_withprec=0\n",
    "bench_sample=0\n",
    "bench_snapshot=0\n",
    "\n",
    "for e in range(epoch_start,2500000):\n",
    "    t0=time.time()\n",
    "    t1=time.time()\n",
    "    Xt, yt = get_data()\n",
    "    bench_data += time.time()-t1\n",
    "    if time.time()-last_snapshot > snapshot_interval_sec:\n",
    "        t1=time.time()\n",
    "        l, pr = train(Xt,yt,True)\n",
    "        if pr>best_pr:\n",
    "            best_pr=pr\n",
    "        bench_train_withprec+=time.time()-t1\n",
    "    else:\n",
    "        t1=time.time()\n",
    "        l, _ = train(Xt,yt,False)        \n",
    "        bench_train+=time.time()-t1\n",
    "    ls=ls+l\n",
    "    nrls=nrls+1\n",
    "    cur_loss=ls/nrls\n",
    "    if time.time()-last_snapshot > snapshot_interval_sec:\n",
    "        t1=time.time()\n",
    "        nrls=0\n",
    "        ls=0\n",
    "        last_snapshot=time.time()\n",
    "        print(f\"Epoch {e+1} Loss: {cur_loss} Precision: {pr}\")\n",
    "        save_checkpoint(e,cur_loss,pr, best_pr)\n",
    "        # if use_cuda:\n",
    "        #     print(f\"Cuda memory allocated: {torch.cuda.memory_allocated()} max_alloc: {torch.cuda.max_memory_allocated()} cached: {torch.cuda.memory_cached()} max_cached: {torch.cuda.max_memory_cached()}\")\n",
    "        hist={\"epoch\": e, \"loss\": cur_loss, \"precision\": pr, \"timestamp\": time.time()-start_time}\n",
    "        history.append(hist)\n",
    "        save_history(history)\n",
    "        bench_snapshot+=time.time()-t1\n",
    "\n",
    "        if bench_all > 0:\n",
    "            bd=bench_data/bench_all*100.0\n",
    "            bt=(bench_train+bench_train_withprec)/bench_all*100.0\n",
    "            bs=bench_sample/bench_all*100.0\n",
    "            bss=bench_snapshot/bench_all*100.0\n",
    "            bo=(bench_all-bench_data-bench_train-bench_train_withprec-bench_sample-bench_snapshot)/bench_all*100.0\n",
    "            print(f\"Benchmarks: data-loading: {bd:.2f}%, training: {bt:.2f}%, sample gen: {bs:.2f}%, snapshots: {bss:.2f}%, overhead: {bo:.2f}%\")\n",
    "\n",
    "    if time.time()-last_sample > sample_interval_sec:\n",
    "        t1=time.time()\n",
    "        last_sample=time.time()\n",
    "        for temperature in [0.6, 0.8, 1.0]:\n",
    "            print(f\"Temperature {temperature}:\")\n",
    "            tgen=poet.generate(700,\". \", temperature=temperature)\n",
    "            textlib.source_highlight(tgen,minQuoteSize=10,dark_mode=use_dark_mode,display_ref_anchor=False)\n",
    "        bench_sample+=time.time()-t1\n",
    "    bench_all+=time.time()-t0"
   ]
  },
  {
   "cell_type": "markdown",
   "metadata": {
    "colab_type": "text",
    "id": "-dsSPjPsUlpY"
   },
   "source": [
    "# 4. Text generation\n",
    "\n",
    "## 4.1 Sample generation"
   ]
  },
  {
   "cell_type": "code",
   "execution_count": null,
   "metadata": {
    "colab": {},
    "colab_type": "code",
    "id": "u-vHDcHupruq"
   },
   "outputs": [],
   "source": [
    "load_checkpoint(filename=\"model_best.pth.tar\")"
   ]
  },
  {
   "cell_type": "code",
   "execution_count": null,
   "metadata": {
    "colab": {},
    "colab_type": "code",
    "id": "oflaWxltsJd6"
   },
   "outputs": [],
   "source": [
    "print(\"Sample text:\")\n",
    "print(\"\")\n",
    "for temperature in [0.2, 0.4, 0.6, 0.8, 1.0, 1.2, 1.4, 1.6]:\n",
    "    tgen=poet.generate(1000,\"\\n\\n\", temperature=temperature)\n",
    "    print(f\"================Temperature: {temperature}==============\")\n",
    "    detectPlagiarism(tgen, textlib, display_ref_anchor=False)"
   ]
  },
  {
   "cell_type": "code",
   "execution_count": null,
   "metadata": {
    "colab": {},
    "colab_type": "code",
    "id": "wdpCtjvfUlpZ",
    "scrolled": true
   },
   "outputs": [],
   "source": [
    "def detectPlagiarism(generatedtext, textlibrary, minQuoteLength=10, display_ref_anchor=True):\n",
    "    textlibrary.source_highlight(generatedtext, minQuoteSize=minQuoteLength,dark_mode=use_dark_mode, display_ref_anchor=display_ref_anchor)"
   ]
  },
  {
   "cell_type": "markdown",
   "metadata": {
    "colab_type": "text",
    "id": "hjCd8CHLUlpd"
   },
   "source": [
    "## 4.2 Dialog with the model"
   ]
  },
  {
   "cell_type": "code",
   "execution_count": null,
   "metadata": {
    "colab": {},
    "colab_type": "code",
    "id": "pfiL1_64Ulpe"
   },
   "outputs": [],
   "source": [
    "# Do a dialog with the recursive neural net trained above:\n",
    "def doDialog():\n",
    "    temperature = 0.8  # 0.1 (free-style chaos) - >1.0 (rigid, frozen)\n",
    "    endPrompt = '.'  # the endPrompt character is the end-mark in answers.\n",
    "    # maxEndPrompts = 4  # look for number of maxEndPrompts until answer is finished.\n",
    "    # maxAnswerSize = 2048  # Maximum length of the answer\n",
    "    # minAnswerSize = 64  # Minimum length of the answer\n",
    "\n",
    "    \n",
    "    print(\"Please enter some dialog.\")\n",
    "    print(\"The net will answer according to your input.\")\n",
    "    print(\"'bye' for end,\")\n",
    "    print(\"'reset' to reset the conversation context,\")\n",
    "    print(\"'temperature=<float>' [0.1(free, chaotic) - >1.0(strict, frozen)]\")\n",
    "    print(\"    to change character of the dialog.\")\n",
    "    # print(\"    Current temperature={}.\".format(temperature))\n",
    "    print()\n",
    "    xso = None\n",
    "    bye = False\n",
    "    last_ans=\"\"\n",
    "        \n",
    "    while not bye:\n",
    "        print(\"> \", end=\"\")\n",
    "        prompt = input()\n",
    "        if prompt == 'bye':\n",
    "            bye = True\n",
    "            print(\"Good bye!\")\n",
    "            continue\n",
    "        if prompt.find(\"temperature\")>=0 and prompt.find(\"=\") > prompt.find(\"temperature\"):\n",
    "            temperature=float(prompt[prompt.find('=')+1:])\n",
    "            print(f\"Temperature set to {temperature}\")\n",
    "            continue\n",
    "        for attempts in range(1,3):\n",
    "            tgen=poet.generate(1000,last_ans+\"\\n\\n\"+prompt,temperature=temperature)\n",
    "            i=tgen.find(endPrompt)\n",
    "            tgen=tgen.replace(\"Mr.\", \"Mr\")\n",
    "            tgen=tgen.replace(\"Mrs.\", \"Mrs\")\n",
    "            tgen=tgen.replace(\"\\n\",\" \")\n",
    "            tgen=tgen.replace(\"  \",\" \")\n",
    "            i2=tgen[i+1:].find(endPrompt)+i\n",
    "            i3=tgen[i2+1:].find(endPrompt)+i2\n",
    "            tgen=tgen[i+1:i3+2]\n",
    "            if len(tgen)>10:\n",
    "                break\n",
    "        last_ans=tgen\n",
    "        textlib.source_highlight(tgen, minQuoteSize=10,dark_mode=use_dark_mode,display_ref_anchor=False)\n",
    "    return"
   ]
  },
  {
   "cell_type": "code",
   "execution_count": null,
   "metadata": {
    "colab": {},
    "colab_type": "code",
    "id": "8mGGsuFRUlpi",
    "scrolled": true
   },
   "outputs": [],
   "source": [
    "doDialog()"
   ]
  },
  {
   "cell_type": "code",
   "execution_count": null,
   "metadata": {
    "colab": {},
    "colab_type": "code",
    "id": "eON9sYdz_1lh"
   },
   "outputs": [],
   "source": []
  }
 ],
 "metadata": {
  "accelerator": "GPU",
  "colab": {
   "collapsed_sections": [],
   "include_colab_link": true,
   "name": "Copy of torch_poet.ipynb",
   "provenance": []
  },
  "kernelspec": {
   "display_name": "Python 3",
   "language": "python",
   "name": "python3"
  },
  "language_info": {
   "codemirror_mode": {
    "name": "ipython",
    "version": 3
   },
   "file_extension": ".py",
   "mimetype": "text/x-python",
   "name": "python",
   "nbconvert_exporter": "python",
   "pygments_lexer": "ipython3",
   "version": "3.8.1"
  }
 },
 "nbformat": 4,
 "nbformat_minor": 4
}
