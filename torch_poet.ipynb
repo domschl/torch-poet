{
  "nbformat": 4,
  "nbformat_minor": 0,
  "metadata": {
    "kernelspec": {
      "name": "python3",
      "display_name": "Python 3"
    },
    "language_info": {
      "codemirror_mode": {
        "name": "ipython",
        "version": 3
      },
      "file_extension": ".py",
      "mimetype": "text/x-python",
      "name": "python",
      "nbconvert_exporter": "python",
      "pygments_lexer": "ipython3",
      "version": "3.7.3"
    },
    "colab": {
      "name": "torch_poet.ipynb",
      "provenance": [],
      "include_colab_link": true
    },
    "accelerator": "GPU"
  },
  "cells": [
    {
      "cell_type": "markdown",
      "metadata": {
        "id": "view-in-github",
        "colab_type": "text"
      },
      "source": [
        "<a href=\"https://colab.research.google.com/github/domschl/torch-poet/blob/master/torch_poet.ipynb\" target=\"_parent\"><img src=\"https://colab.research.google.com/assets/colab-badge.svg\" alt=\"Open In Colab\"/></a>"
      ]
    },
    {
      "cell_type": "code",
      "metadata": {
        "id": "28i44jSzUlon",
        "colab_type": "code",
        "colab": {}
      },
      "source": [
        "import numpy as np\n",
        "import os\n",
        "import json\n",
        "import random\n",
        "import torch\n",
        "import torch.nn as nn\n",
        "from torch import Tensor\n",
        "from urllib.request import urlopen  # Py3\n",
        "\n",
        "from IPython.core.display import display, HTML"
      ],
      "execution_count": 0,
      "outputs": []
    },
    {
      "cell_type": "markdown",
      "metadata": {
        "id": "JoutSg5IUlot",
        "colab_type": "text"
      },
      "source": [
        "## Text library"
      ]
    },
    {
      "cell_type": "code",
      "metadata": {
        "id": "7pMoAJ-SVDm2",
        "colab_type": "code",
        "colab": {}
      },
      "source": [
        "class TextLibrary:\n",
        "    def __init__(self, descriptors, max=100000000):\n",
        "        self.descriptors = descriptors\n",
        "        self.data = ''\n",
        "        self.files = []\n",
        "        self.c2i = {}\n",
        "        self.i2c = {}\n",
        "        index = 1\n",
        "        for descriptor, name in descriptors:\n",
        "            fd = {}\n",
        "            if descriptor[:4] == 'http':\n",
        "                try:\n",
        "                    dat = urlopen(descriptor).read().decode('utf-8')\n",
        "                    if dat[0]=='\\ufeff':  # Ignore BOM\n",
        "                        dat=dat[1:]\n",
        "                    self.data += dat\n",
        "                    fd[\"name\"] = name\n",
        "                    fd[\"data\"] = dat\n",
        "                    fd[\"index\"] = index\n",
        "                    index += 1\n",
        "                    self.files.append(fd)\n",
        "                except Exception as e:\n",
        "                    print(f\"Can't download {descriptor}: {e}\")\n",
        "            else:\n",
        "                fd[\"name\"] = name\n",
        "                try:\n",
        "                    f = open(descriptor)\n",
        "                    dat = f.read(max)\n",
        "                    self.data += dat\n",
        "                    fd[\"data\"] = dat\n",
        "                    fd[\"index\"] = index\n",
        "                    index += 1\n",
        "                    self.files.append(fd)\n",
        "                    f.close()\n",
        "                except Exception as e:\n",
        "                    print(f\"ERROR: Cannot read: {filename}: {e}\")\n",
        "        ind = 0\n",
        "        for c in self.data:  # sets are not deterministic\n",
        "            if c not in self.c2i:\n",
        "                self.c2i[c] = ind\n",
        "                self.i2c[ind] = c\n",
        "                ind += 1\n",
        "        self.ptr = 0\n",
        "\n",
        "    def display_colored_html(self, textlist, pre='', post=''):\n",
        "        bgcolors = ['#d4e6e1', '#d8daef', '#ebdef0', '#eadbd8', '#e2d7d5', '#edebd0',\n",
        "                    '#ecf3cf', '#d4efdf', '#d0ece7', '#d6eaf8', '#d4e6f1', '#d6dbdf',\n",
        "                    '#f6ddcc', '#fae5d3', '#fdebd0', '#e5e8e8', '#eaeded', '#A9CCE3']\n",
        "        out = ''\n",
        "        for txt, ind in textlist:\n",
        "            txt = txt.replace('\\n', '<br>')\n",
        "            if ind == 0:\n",
        "                out += txt\n",
        "            else:\n",
        "                out += \"<span style=\\\"background-color:\"+bgcolors[ind % 16]+\";\\\">\" + \\\n",
        "                       txt + \"</span>\"+\"<sup>[\" + str(ind) + \"]</sup>\"\n",
        "        display(HTML(pre+out+post))\n",
        "\n",
        "    def source_highlight(self, txt, minQuoteSize=10):\n",
        "        tx = txt\n",
        "        out = []\n",
        "        qts = []\n",
        "        txsrc = [(\"Sources: \", 0)]\n",
        "        sc = False\n",
        "        noquote = ''\n",
        "        while len(tx) > 0:  # search all library files for quote 'txt'\n",
        "            mxQ = 0\n",
        "            mxI = 0\n",
        "            mxN = ''\n",
        "            found = False\n",
        "            for f in self.files:  # find longest quote in all texts\n",
        "                p = minQuoteSize\n",
        "                if p <= len(tx) and tx[:p] in f[\"data\"]:\n",
        "                    p = minQuoteSize + 1\n",
        "                    while p <= len(tx) and tx[:p] in f[\"data\"]:\n",
        "                        p += 1\n",
        "                    if p-1 > mxQ:\n",
        "                        mxQ = p-1\n",
        "                        mxI = f[\"index\"]\n",
        "                        mxN = f[\"name\"]\n",
        "                        found = True\n",
        "            if found:  # save longest quote for colorizing\n",
        "                if len(noquote) > 0:\n",
        "                    out.append((noquote, 0))\n",
        "                    noquote = ''\n",
        "                out.append((tx[:mxQ], mxI))\n",
        "                tx = tx[mxQ:]\n",
        "                if mxI not in qts:  # create a new reference, if first occurence\n",
        "                    qts.append(mxI)\n",
        "                    if sc:\n",
        "                        txsrc.append((\", \", 0))\n",
        "                    sc = True\n",
        "                    txsrc.append((mxN, mxI))\n",
        "            else:\n",
        "                noquote += tx[0]\n",
        "                tx = tx[1:]\n",
        "        if len(noquote) > 0:\n",
        "            out.append((noquote, 0))\n",
        "            noquote = ''\n",
        "        self.display_colored_html(out)\n",
        "        if len(qts) > 0:  # print references, if there is at least one source\n",
        "            self.display_colored_html(txsrc, pre=\"<small><p style=\\\"text-align:right;\\\">\",\n",
        "                                     post=\"</p></small>\")\n",
        "\n",
        "    def get_slice(self, length):\n",
        "        if (self.ptr + length >= len(self.data)):\n",
        "            self.ptr = 0\n",
        "        if self.ptr == 0:\n",
        "            rst = True\n",
        "        else:\n",
        "            rst = False\n",
        "        sl = self.data[self.ptr:self.ptr+length]\n",
        "        self.ptr += length\n",
        "        return sl, rst\n",
        "\n",
        "    def decode(self, ar):\n",
        "        return ''.join([self.i2c[ic] for ic in ar])\n",
        "\n",
        "    def get_random_slice(self, length):\n",
        "        p = random.randrange(0, len(self.data)-length)\n",
        "        sl = self.data[p:p+length]\n",
        "        return sl\n",
        "\n",
        "    def get_slice_array(self, length):\n",
        "        ar = np.array([c for c in self.get_slice(length)[0]])\n",
        "        return ar\n",
        "\n",
        "    def get_encoded_slice(self, length):\n",
        "        s, rst = self.get_slice(length)\n",
        "        X = [self.c2i[c] for c in s]\n",
        "        return X\n",
        "        \n",
        "    def get_encoded_slice_array(self, length):\n",
        "        return np.array(self.get_encoded_slice(length))\n",
        "\n",
        "    def get_sample(self, length):\n",
        "        s, rst = self.get_slice(length+1)\n",
        "        X = [self.c2i[c] for c in s[:-1]]\n",
        "        y = [self.c2i[c] for c in s[1:]]\n",
        "        return (X, y, rst)\n",
        "\n",
        "    def get_random_sample(self, length):\n",
        "        s = self.get_random_slice(length+1)\n",
        "        X = [self.c2i[c] for c in s[:-1]]\n",
        "        y = [self.c2i[c] for c in s[1:]]\n",
        "        return (X, y)\n",
        "\n",
        "    def get_sample_batch(self, batch_size, length):\n",
        "        smpX = []\n",
        "        smpy = []\n",
        "        for i in range(batch_size):\n",
        "            Xi, yi, rst = self.get_sample(length)\n",
        "            smpX.append(Xi)\n",
        "            smpy.append(yi)\n",
        "        return smpX, smpy, rst\n",
        "\n",
        "    def get_random_sample_batch(self, batch_size, length):\n",
        "        smpX = []\n",
        "        smpy = []\n",
        "        for i in range(batch_size):\n",
        "            Xi, yi = self.get_random_sample(length)\n",
        "            smpX.append(Xi)\n",
        "            smpy.append(yi)\n",
        "        return np.array(smpX), np.array(smpy)"
      ],
      "execution_count": 0,
      "outputs": []
    },
    {
      "cell_type": "markdown",
      "metadata": {
        "id": "JcMGC5KDUloz",
        "colab_type": "text"
      },
      "source": [
        "## Model parameters and data sources\n",
        "\n",
        "`TextLibrary` class: text library for training, encoding, batch generation,\n",
        "and formatted source display. It read some books from Project Gutenberg\n",
        "and supports creation of training batches. The output functions support\n",
        "highlighting to allow to compare generated texts with the actual sources\n",
        "to help to identify identical (memorized) parts.\n"
      ]
    },
    {
      "cell_type": "code",
      "metadata": {
        "id": "zmUwv47UVA7r",
        "colab_type": "code",
        "colab": {}
      },
      "source": [
        "libdesc = {\n",
        "    \"name\": \"Woman Writers\",\n",
        "    \"description\": \"A collection of works of Woolf, Austen and Brontë\",\n",
        "    \"lib\": [\n",
        "        # 'data/tiny-shakespeare.txt',\n",
        "        # since project gutenberg blocks the entire country of Germany, we use a mirror:\n",
        "        # ('http://www.mirrorservice.org/sites/ftp.ibiblio.org/pub/docs/books/gutenberg/1/0/100/100-0.txt', \"Shakespeare: Collected Works\"\n",
        "        #  Project Gutenberg: Pride and Prejudice_ by Jane Austen, Wuthering Heights by Emily Brontë, The Voyage Out by Virginia Woolf and Emma_by Jane Austen\n",
        "        ('http://www.mirrorservice.org/sites/ftp.ibiblio.org/pub/docs/books/gutenberg/3/7/4/3/37431/37431.txt', \"Jane Austen: Pride and Prejudice\"),\n",
        "        ('http://www.mirrorservice.org/sites/ftp.ibiblio.org/pub/docs/books/gutenberg/7/6/768/768.txt', \"Emily Brontë: Wuthering Heights\"),         \n",
        "        ('http://www.mirrorservice.org/sites/ftp.ibiblio.org/pub/docs/books/gutenberg/1/4/144/144.txt', \"Virginia Wolf: Voyage out\"),\n",
        "        ('http://www.mirrorservice.org/sites/ftp.ibiblio.org/pub/docs/books/gutenberg/1/5/158/158.txt', \"Jane Austen: Emma\")\n",
        "    ]\n",
        "}\n",
        "\n",
        "textlib = TextLibrary(libdesc[\"lib\"])"
      ],
      "execution_count": 0,
      "outputs": []
    },
    {
      "cell_type": "code",
      "metadata": {
        "id": "EEM7Y3GxUlo0",
        "colab_type": "code",
        "colab": {}
      },
      "source": [
        "\n",
        "model_params = {\n",
        "    \"model_name\": \"lib\",\n",
        "    \"vocab_size\": len(textlib.i2c),\n",
        "    \"neurons\": 256,\n",
        "    \"layers\": 2,\n",
        "    \"learning_rate\": 1.e-3,\n",
        "    \"steps\": 80,\n",
        "    \"batch_size\": 128\n",
        "}"
      ],
      "execution_count": 0,
      "outputs": []
    },
    {
      "cell_type": "code",
      "metadata": {
        "id": "2CD7869jUlo4",
        "colab_type": "code",
        "colab": {}
      },
      "source": [
        "def one_hot(p, dim):\n",
        "    o=np.zeros(p.shape+(dim,), dtype=int)\n",
        "    for y in range(p.shape[0]):\n",
        "        for x in range(p.shape[1]):\n",
        "            o[y,x,p[y,x]]=1\n",
        "    return o"
      ],
      "execution_count": 0,
      "outputs": []
    },
    {
      "cell_type": "code",
      "metadata": {
        "id": "R7Ya3QVPUlo8",
        "colab_type": "code",
        "colab": {
          "base_uri": "https://localhost:8080/",
          "height": 34
        },
        "outputId": "65fdc076-f251-42b2-9295-3689ac3c4bce"
      },
      "source": [
        "batch_size = model_params['batch_size']\n",
        "vocab_size = model_params['vocab_size']\n",
        "steps = model_params['steps']\n",
        "\n",
        "force_cpu=False\n",
        "\n",
        "if torch.cuda.is_available() and force_cpu is not True:\n",
        "    device='cuda'\n",
        "    use_cuda = True\n",
        "    print(\"Running on GPU\")\n",
        "else:\n",
        "    device='cpu'\n",
        "    use_cuda = False\n",
        "    print(\"Running on CPU\")\n",
        "    print(\"Note: on Google Colab, make sure to select:\")\n",
        "    print(\"      Runtime / Change Runtime Type / Hardware accelerator: GPU\")\n",
        "\n",
        "def get_data():\n",
        "    X, y=textlib.get_random_sample_batch(batch_size, steps)\n",
        "    Xo = one_hot(X, vocab_size)\n",
        "    \n",
        "    # Xt = Tensor(torch.from_numpy(np.array(Xo,dtype=np.float32)), requires_grad=False, dtype=torch.float32, device=device)\n",
        "    # yt = Tensor(torch.from_numpy(y), requires_grad=False, dtype=torch.int32, device=device)\n",
        "    Xt = Tensor(torch.from_numpy(np.array(Xo,dtype=np.float32))).to(device)\n",
        "    Xt.requires_grad_(False)\n",
        "    yt = torch.LongTensor(torch.from_numpy(np.array(y,dtype=np.int64))).to(device)\n",
        "    yt.requires_grad_(False)\n",
        "    return Xt, yt"
      ],
      "execution_count": 38,
      "outputs": [
        {
          "output_type": "stream",
          "text": [
            "Running on GPU\n"
          ],
          "name": "stdout"
        }
      ]
    },
    {
      "cell_type": "code",
      "metadata": {
        "id": "HV9U1z8dUlpC",
        "colab_type": "code",
        "colab": {}
      },
      "source": [
        "def show_gpu_mem(context=\"all\"):\n",
        "    if use_cuda:\n",
        "        print(\"[{}] Memory allocated: {} max_alloc: {} cached: {} max_cached: {}\".format(context,torch.cuda.memory_allocated(), torch.cuda.max_memory_allocated(), torch.cuda.memory_cached(), torch.cuda.max_memory_cached()))\n"
      ],
      "execution_count": 0,
      "outputs": []
    },
    {
      "cell_type": "markdown",
      "metadata": {
        "id": "m_JWmbgPUlpG",
        "colab_type": "text"
      },
      "source": [
        "## The char-rnn model (deep LSTMs)"
      ]
    },
    {
      "cell_type": "code",
      "metadata": {
        "id": "NcsP8OYlUlpH",
        "colab_type": "code",
        "colab": {}
      },
      "source": [
        "class Poet(nn.Module):\n",
        "    def __init__(self, input_size, hidden_size, num_layers, output_size, device):\n",
        "        super(Poet, self).__init__()\n",
        "        \n",
        "        self.hidden_size = hidden_size\n",
        "        self.num_layers = num_layers\n",
        "        self.output_size = output_size\n",
        "        self.device=device\n",
        "        \n",
        "        self.lstm = nn.LSTM(input_size=input_size, hidden_size=hidden_size, num_layers=num_layers, batch_first=True, dropout=0)\n",
        "        \n",
        "        self.demb = nn.Linear(hidden_size, output_size)\n",
        "        self.softmax = nn.Softmax(dim=-1)  # negative dims are a recent thing (as 2018-03), remove for old vers.\n",
        "    \n",
        "    def init_hidden(self, batch_size):\n",
        "        self.h0 = torch.zeros(self.num_layers, batch_size, self.hidden_size, device=self.device)\n",
        "        self.c0 = torch.zeros(self.num_layers, batch_size, self.hidden_size, device=self.device)\n",
        "\n",
        "    def forward(self, inputx, steps):\n",
        "        self.lstm.flatten_parameters()\n",
        "        hn, (self.h0, self.c0) = self.lstm(inputx.to(self.device), (self.h0, self.c0))\n",
        "        hnr = hn.contiguous().view(-1,self.hidden_size)\n",
        "        op = self.demb(hnr)\n",
        "        opr = op.view(-1, steps ,self.output_size)\n",
        "        return opr\n",
        "\n",
        "    def generate(self, n, start=None):\n",
        "        s=''\n",
        "        torch.set_grad_enabled(False)\n",
        "        if start==None or len(start)==0:\n",
        "            start=' '\n",
        "        self.init_hidden(1)\n",
        "        for c in start:\n",
        "            X=np.array([[textlib.c2i[c]]])\n",
        "            Xo=one_hot(X,self.output_size)\n",
        "            Xt = Tensor(torch.from_numpy(np.array(Xo,dtype=np.float32))).to(self.device)\n",
        "            ypl = self.forward(Xt,1)\n",
        "            ypl2 = ypl.view(-1,self.output_size)\n",
        "            yp = self.softmax(ypl2)\n",
        "        for i in range(n):\n",
        "            ypc=Tensor.cpu(yp.detach()) # .cpu()\n",
        "            y_pred=ypc.numpy()\n",
        "            inds=list(range(self.output_size))\n",
        "            ind = np.random.choice(inds, p=y_pred.ravel())\n",
        "            s=s+textlib.i2c[ind]\n",
        "            X=np.array([[ind]])\n",
        "            Xo=one_hot(X,self.output_size)\n",
        "            Xt = Tensor(torch.from_numpy(np.array(Xo,dtype=np.float32))).to(self.device)\n",
        "            ypl = self.forward(Xt,1)\n",
        "            ypl2 = ypl.view(-1,self.output_size)\n",
        "            yp = self.softmax(ypl2)\n",
        "        torch.set_grad_enabled(True)\n",
        "        return s    "
      ],
      "execution_count": 0,
      "outputs": []
    },
    {
      "cell_type": "markdown",
      "metadata": {
        "id": "ymdU_wIWUlpK",
        "colab_type": "text"
      },
      "source": [
        "## Create a poet"
      ]
    },
    {
      "cell_type": "code",
      "metadata": {
        "id": "L7WuQ142UlpL",
        "colab_type": "code",
        "colab": {}
      },
      "source": [
        "poet = Poet(vocab_size, model_params['neurons'], model_params['layers'], vocab_size, device).to(device)"
      ],
      "execution_count": 0,
      "outputs": []
    },
    {
      "cell_type": "markdown",
      "metadata": {
        "id": "FJp6Sjw6UlpP",
        "colab_type": "text"
      },
      "source": [
        "## Training helpers"
      ]
    },
    {
      "cell_type": "code",
      "metadata": {
        "id": "aeFxMxyuUlpQ",
        "colab_type": "code",
        "colab": {}
      },
      "source": [
        "criterion = nn.CrossEntropyLoss()\n",
        "learning_rate = model_params['learning_rate']\n",
        "\n",
        "opti = torch.optim.Adam(poet.parameters(),lr=learning_rate);\n",
        "\n",
        "bok=0\n",
        "\n",
        "def train(Xt, yt, bPr=False):\n",
        "    poet.zero_grad()\n",
        "\n",
        "    poet.init_hidden(Xt.size(0))\n",
        "    output = poet(Xt, steps)\n",
        "    \n",
        "    olin=output.view(-1,vocab_size)\n",
        "    _, ytp=torch.max(olin,1)\n",
        "    ytlin=yt.view(-1)\n",
        "\n",
        "    pr=0.0\n",
        "    if bPr: # Calculate precision\n",
        "        ok=0\n",
        "        nok=0\n",
        "        for i in range(ytlin.size()[0]):\n",
        "            i1=ytlin[i].item()\n",
        "            i2=ytp[i].item()\n",
        "            if i1==i2:\n",
        "                ok = ok + 1\n",
        "            else:\n",
        "                nok = nok+1\n",
        "            pr=ok/(ok+nok)\n",
        "            \n",
        "    loss = criterion(olin, ytlin)\n",
        "    ls = loss.item()\n",
        "    loss.backward()\n",
        "    opti.step()\n",
        "\n",
        "    return ls, pr"
      ],
      "execution_count": 0,
      "outputs": []
    },
    {
      "cell_type": "markdown",
      "metadata": {
        "id": "KC36hNRKUlpU",
        "colab_type": "text"
      },
      "source": [
        "## The actual training"
      ]
    },
    {
      "cell_type": "code",
      "metadata": {
        "scrolled": true,
        "id": "q9-3GUQ4UlpV",
        "colab_type": "code",
        "colab": {
          "base_uri": "https://localhost:8080/",
          "height": 1000
        },
        "outputId": "a6ebe60d-0e18-4d73-fbc8-7177655b41c3"
      },
      "source": [
        "ls=0\n",
        "nrls=0\n",
        "if use_cuda:\n",
        "    intv=250\n",
        "else:\n",
        "    intv=10\n",
        "for e in range(2500000):\n",
        "    Xt, yt = get_data()\n",
        "    if (e+1)%intv==0:\n",
        "        l,pr=train(Xt,yt,True)\n",
        "    else:\n",
        "        l,pr=train(Xt,yt,False)        \n",
        "    ls=ls+l\n",
        "    nrls=nrls+1\n",
        "    if (e+1)%intv==0:\n",
        "        print(\"Loss: {} Precision: {}\".format(ls/nrls, pr))\n",
        "        # if use_cuda:\n",
        "        #    print(\"Memory allocated: {} max_alloc: {} cached: {} max_cached: {}\".format(torch.cuda.memory_allocated(), torch.cuda.max_memory_allocated(), torch.cuda.memory_cached(), torch.cuda.max_memory_cached()))\n",
        "        nrls=0\n",
        "        ls=0\n",
        "        tgen=poet.generate(500,\"\\n\\n\")\n",
        "        textlib.source_highlight(tgen,10)"
      ],
      "execution_count": 0,
      "outputs": [
        {
          "output_type": "stream",
          "text": [
            "Loss: 3.1219593687057494 Precision: 0.2892578125\n"
          ],
          "name": "stdout"
        },
        {
          "output_type": "display_data",
          "data": {
            "text/html": [
              "itg I\r<br>bacsele on <br>he bons iC ha dheupef  ny ch  be  het ef'veodC<br>hardt ni  sl  hees_,-trasve S. <br>swele wad per, vorimk an slu d, che hedeive flyise aln tg\r\rO<br>otg <br>kob  pegotit  hl eed,de theunive ton sed te rewerl\rh\r<br>syen. <br>mecyod EMlm oltd\rmabl atdiro<br>rocei,e, P\r<br>uime, ron dera udid .if! -\r\"p<br>hte anny nhursen lis con ho tho that -od -lkesher; toirithatd nune, nud\ray <br>hhityebs on Ban vevo, Mhhotde iiintgye re xine tac lhenh wo c\rf ciras adps-<br>cheMd kh\r<br>\r<br>fnr\" ptey. -nh at lon\"ind c oare srar l."
            ],
            "text/plain": [
              "<IPython.core.display.HTML object>"
            ]
          },
          "metadata": {
            "tags": []
          }
        },
        {
          "output_type": "stream",
          "text": [
            "Loss: 2.4607193489074706 Precision: 0.33857421875\n"
          ],
          "name": "stdout"
        },
        {
          "output_type": "display_data",
          "data": {
            "text/html": [
              "meised sur orllet ofpere be toov enet sat davel  he selcportery og thin woaly os the shislin dathirnug te filid ilcaves meors ned othe;, b<span style=\"background-color:#eadbd8;\">e that wor</span><sup>[3]</sup> momg sorcend it and'lin, deme an bitisgte tal tipgined sollunde\r<br>shen tuq. Heavent ons forly\r<br>wand,\r<br>ath rrey onndebfing oud thicalle te fiplelerevasy forle.\r<br>\r<br>\rm'\r<br> veals bed se tous; sod samedere,\r<br>wad the minsyonste weskly en th hec non oth is thee\r<br>wetathewn;\r<br>neveing shat relen'soud fan lo letint\r<br>timte tingtcasucidd<span style=\"background-color:#ebdef0;\"> and if he</span><sup>[2]</sup>ra. <br>rlraf nom, Z"
            ],
            "text/plain": [
              "<IPython.core.display.HTML object>"
            ]
          },
          "metadata": {
            "tags": []
          }
        },
        {
          "output_type": "display_data",
          "data": {
            "text/html": [
              "<small><p style=\"text-align:right;\">Sources: <span style=\"background-color:#eadbd8;\">Virginia Wolf: Voyage out</span><sup>[3]</sup>, <span style=\"background-color:#ebdef0;\">Emily Brontë: Wuthering Heights</span><sup>[2]</sup></p></small>"
            ],
            "text/plain": [
              "<IPython.core.display.HTML object>"
            ]
          },
          "metadata": {
            "tags": []
          }
        },
        {
          "output_type": "stream",
          "text": [
            "Loss: 2.2556822938919066 Precision: 0.37744140625\n"
          ],
          "name": "stdout"
        },
        {
          "output_type": "display_data",
          "data": {
            "text/html": [
              "ankerre,, erad charis thee wa by.\"\r<br> Tmesversy quangelis utsure;\r<br>\r<br>'Ther dernart. s\r<br>shabm, b<span style=\"background-color:#eadbd8;\">e her the </span><sup>[3]</sup>ly to  whashimh won thepiiving al yas wasce warly I conbe thithan't\r<br>inn:-\r<br>F.\" Oh shipd on in ammy. -Wben the.\r<br>\r<br>Du_me lealm Herring-wit whals om th\r<br>\r<br> Is elle ig seo his water chisf.,\r<br>\r<br>has outh uf s\r<br>sereitiond deerey so agt\r<br>hy neis so apane. Hem? Mey of lagang bosert to FiRche pued his her mos the bain I boet LoRuchaaselply..\r<br>\r<br>'La dend foule jone soy soned. Haashingides\"\r<br>oderonoun. "
            ],
            "text/plain": [
              "<IPython.core.display.HTML object>"
            ]
          },
          "metadata": {
            "tags": []
          }
        },
        {
          "output_type": "display_data",
          "data": {
            "text/html": [
              "<small><p style=\"text-align:right;\">Sources: <span style=\"background-color:#eadbd8;\">Virginia Wolf: Voyage out</span><sup>[3]</sup></p></small>"
            ],
            "text/plain": [
              "<IPython.core.display.HTML object>"
            ]
          },
          "metadata": {
            "tags": []
          }
        },
        {
          "output_type": "stream",
          "text": [
            "Loss: 2.125594846725464 Precision: 0.415234375\n"
          ],
          "name": "stdout"
        },
        {
          "output_type": "display_data",
          "data": {
            "text/html": [
              "tithing geatiou-seywevowed to iblety waps at as ace to tos the\r<br>at to hrigune ar boor, Aps repuccbelind ctusedang t thel\r<br>passich, emort yous congich werkion bust tace ori<span style=\"background-color:#ebdef0;\">ns and\r<br>th</span><sup>[2]</sup>out corig tat seere; wamilands the salamed yoush't matting, fay ining pryaed, what Mrstady ae wase teide souiple\r<br>facm!\" he sremistuxand wot ce gist of ebege to enoytingsiy towe sing insticowimeiy\r<br>womedard hived;. \r<br>\r<br>Binged, and:'\" .  the piratsect she paller th<span style=\"background-color:#eadbd8;\">ith the wo</span><sup>[3]</sup>uld\r<br>hivingone for waky the wass om eis mos t"
            ],
            "text/plain": [
              "<IPython.core.display.HTML object>"
            ]
          },
          "metadata": {
            "tags": []
          }
        },
        {
          "output_type": "display_data",
          "data": {
            "text/html": [
              "<small><p style=\"text-align:right;\">Sources: <span style=\"background-color:#ebdef0;\">Emily Brontë: Wuthering Heights</span><sup>[2]</sup>, <span style=\"background-color:#eadbd8;\">Virginia Wolf: Voyage out</span><sup>[3]</sup></p></small>"
            ],
            "text/plain": [
              "<IPython.core.display.HTML object>"
            ]
          },
          "metadata": {
            "tags": []
          }
        },
        {
          "output_type": "stream",
          "text": [
            "Loss: 2.0297939972877503 Precision: 0.4283203125\n"
          ],
          "name": "stdout"
        },
        {
          "output_type": "display_data",
          "data": {
            "text/html": [
              "andereve; am swenk out, Mastufe--pratlin. \"I co has, 'Beftly doolt be havef.- It!\" ceraking bey ne-<br>thou theited to s dachan suxt to kooke you rael nettiherst\r<br>coursuid,\" be ther, why keapl\r<br>contine.'s hamencn the midtor!\" _am Ither\r<br>cought range te<span style=\"background-color:#ebdef0;\">ering of the </span><sup>[2]</sup>love in a tials afbeve umfaed\r<br>mave for tomarebics, and sapidiom suthime in thingend you\r<br>bitfleed fak ther\r<br>boutlif ofning ho latured, whalr not paviln, imw ad\r<br>agured on whe widy hawdertes, to<span style=\"background-color:#e2d7d5;\"> very anci</span><sup>[4]</sup>ons ancimtrones spalliov towh, and"
            ],
            "text/plain": [
              "<IPython.core.display.HTML object>"
            ]
          },
          "metadata": {
            "tags": []
          }
        },
        {
          "output_type": "display_data",
          "data": {
            "text/html": [
              "<small><p style=\"text-align:right;\">Sources: <span style=\"background-color:#ebdef0;\">Emily Brontë: Wuthering Heights</span><sup>[2]</sup>, <span style=\"background-color:#e2d7d5;\">Jane Austen: Emma</span><sup>[4]</sup></p></small>"
            ],
            "text/plain": [
              "<IPython.core.display.HTML object>"
            ]
          },
          "metadata": {
            "tags": []
          }
        },
        {
          "output_type": "stream",
          "text": [
            "Loss: 1.9456536483764648 Precision: 0.445703125\n"
          ],
          "name": "stdout"
        },
        {
          "output_type": "display_data",
          "data": {
            "text/html": [
              "ofpelations mly<span style=\"background-color:#ebdef0;\"> was her\r<br></span><sup>[2]</sup>her the hes\r<br>livem sem, besost his rears;' butingy\r<br>granes. Indying goon, spearigebong f<span style=\"background-color:#eadbd8;\">we have lo</span><sup>[3]</sup>ck orvour thes dipen opledide coofcowtand\r<br>hen Mrs. \"The to_stouts of me\r<br>dang, hray weret im fo rad a med--Es E gonfithing if donens, they;\r<br>in<span style=\"background-color:#e2d7d5;\">her and\r<br>da</span><sup>[4]</sup>s extiegs, refurct and-<br>nevent--thes feer a mefsed to he wase\r<br>fof harly ane<span style=\"background-color:#eadbd8;\">this, and w</span><sup>[3]</sup>ith Heild batmy comay leagh age ingrow lon. He trows\r<br>fortervelw poidg\", whe was sumpsave ane\r<br>fjive the waach noud.\r<br>\"I theel im swa f"
            ],
            "text/plain": [
              "<IPython.core.display.HTML object>"
            ]
          },
          "metadata": {
            "tags": []
          }
        },
        {
          "output_type": "display_data",
          "data": {
            "text/html": [
              "<small><p style=\"text-align:right;\">Sources: <span style=\"background-color:#ebdef0;\">Emily Brontë: Wuthering Heights</span><sup>[2]</sup>, <span style=\"background-color:#eadbd8;\">Virginia Wolf: Voyage out</span><sup>[3]</sup>, <span style=\"background-color:#e2d7d5;\">Jane Austen: Emma</span><sup>[4]</sup></p></small>"
            ],
            "text/plain": [
              "<IPython.core.display.HTML object>"
            ]
          },
          "metadata": {
            "tags": []
          }
        },
        {
          "output_type": "stream",
          "text": [
            "Loss: 1.8752125663757324 Precision: 0.4685546875\n"
          ],
          "name": "stdout"
        },
        {
          "output_type": "display_data",
          "data": {
            "text/html": [
              "I was Ushel<span style=\"background-color:#eadbd8;\">ads and the</span><sup>[3]</sup> peswable toubly<span style=\"background-color:#eadbd8;\">\r<br>the thin</span><sup>[3]</sup>d annow<span style=\"background-color:#eadbd8;\"> with whit</span><sup>[3]</sup> it musted Hom, buth of innugely of\r<br>for.\r<br>\r<br>[\"You's vircay-ix to didsbed but<span style=\"background-color:#ebdef0;\">her to ent</span><sup>[2]</sup>wally keetu<span style=\"background-color:#e2d7d5;\">le.\"\r<br>\r<br>\"I</span><sup>[4]</sup>nd if that\r<br>ppiik exed. Yeuphblis<span style=\"background-color:#d8daef;\">e!\r<br>\r<br>\r<br>EL</span><sup>[1]</sup>EiZADENNE.\r<br>\r<br>'Whon's batisace suthren\r<br>in hen farce. I<span style=\"background-color:#ebdef0;\"> living, an</span><sup>[2]</sup>tionse quepled.\"\r<br>\"You dint?'\r<br>\r<br>Crother,\" me at was beynite, proved,\r<br>recovintiof leef ohs, a diver. Litcon's elowary--acklas degh to maght inwacc<span style=\"background-color:#eadbd8;\">led for a </span><sup>[3]</sup>beet\r<br>rupied to shrof\r<br>s alon\r<br>the\r<br>atheres oppost supablliti"
            ],
            "text/plain": [
              "<IPython.core.display.HTML object>"
            ]
          },
          "metadata": {
            "tags": []
          }
        },
        {
          "output_type": "display_data",
          "data": {
            "text/html": [
              "<small><p style=\"text-align:right;\">Sources: <span style=\"background-color:#eadbd8;\">Virginia Wolf: Voyage out</span><sup>[3]</sup>, <span style=\"background-color:#ebdef0;\">Emily Brontë: Wuthering Heights</span><sup>[2]</sup>, <span style=\"background-color:#e2d7d5;\">Jane Austen: Emma</span><sup>[4]</sup>, <span style=\"background-color:#d8daef;\">Jane Austen: Pride and Prejudice</span><sup>[1]</sup></p></small>"
            ],
            "text/plain": [
              "<IPython.core.display.HTML object>"
            ]
          },
          "metadata": {
            "tags": []
          }
        },
        {
          "output_type": "stream",
          "text": [
            "Loss: 1.8175115160942077 Precision: 0.48115234375\n"
          ],
          "name": "stdout"
        },
        {
          "output_type": "display_data",
          "data": {
            "text/html": [
              "f<span style=\"background-color:#ebdef0;\">ere were a</span><sup>[2]</sup>m uptes at ayen courgiod of wile sorv<span style=\"background-color:#ebdef0;\">ing to kno</span><sup>[2]</sup>uth aplivad?  Af Aust farremure allly iut<span style=\"background-color:#eadbd8;\">. She prod</span><sup>[3]</sup>nuited to sermass<span style=\"background-color:#ebdef0;\"> it and the </span><sup>[2]</sup>mo<span style=\"background-color:#eadbd8;\">re never to</span><sup>[3]</sup> b<span style=\"background-color:#ebdef0;\">eart, the </span><sup>[2]</sup>adrivel. Wellereddes in it--Vays<span style=\"background-color:#d8daef;\"> the agree</span><sup>[1]</sup>s with latter Emfon swe treny, cound<span style=\"background-color:#eadbd8;\">esting you</span><sup>[3]</sup> stable then Harrippersy-bremmand ol<span style=\"background-color:#e2d7d5;\">es.\r<br>She d</span><sup>[4]</sup>interby or tererved shem Prommer of then<span style=\"background-color:#ebdef0;\">ething of </span><sup>[2]</sup>fles for\r<br>who reised.\r<br> Tay go.\" reveressim<span style=\"background-color:#e2d7d5;\">aded to th</span><sup>[4]</sup>o Compeppons<span style=\"background-color:#e2d7d5;\"> and Emma\r<br></span><sup>[4]</sup>nemplieddide o<span style=\"background-color:#ebdef0;\">f she had be</span><sup>[2]</sup>dearry crike thang ophined onde<span style=\"background-color:#e2d7d5;\">ray.\"\r<br>\r<br>\"</span><sup>[4]</sup>Is reper l"
            ],
            "text/plain": [
              "<IPython.core.display.HTML object>"
            ]
          },
          "metadata": {
            "tags": []
          }
        },
        {
          "output_type": "display_data",
          "data": {
            "text/html": [
              "<small><p style=\"text-align:right;\">Sources: <span style=\"background-color:#ebdef0;\">Emily Brontë: Wuthering Heights</span><sup>[2]</sup>, <span style=\"background-color:#eadbd8;\">Virginia Wolf: Voyage out</span><sup>[3]</sup>, <span style=\"background-color:#d8daef;\">Jane Austen: Pride and Prejudice</span><sup>[1]</sup>, <span style=\"background-color:#e2d7d5;\">Jane Austen: Emma</span><sup>[4]</sup></p></small>"
            ],
            "text/plain": [
              "<IPython.core.display.HTML object>"
            ]
          },
          "metadata": {
            "tags": []
          }
        },
        {
          "output_type": "stream",
          "text": [
            "Loss: 1.7617113523483277 Precision: 0.4978515625\n"
          ],
          "name": "stdout"
        },
        {
          "output_type": "display_data",
          "data": {
            "text/html": [
              " MORGLETNEIS..\r<br>\r<br>'Wer as sthert,\" she forthuc<span style=\"background-color:#e2d7d5;\">ked of the</span><sup>[4]</sup><span style=\"background-color:#eadbd8;\">. \"What is</span><sup>[3]</sup>; as has ev<span style=\"background-color:#e2d7d5;\">ery of her</span><sup>[4]</sup>sse whith more Leden_'s gut\r<br>hope w<span style=\"background-color:#d8daef;\">here will </span><sup>[1]</sup>resandiom his beant<span style=\"background-color:#e2d7d5;\">ess.\r<br>\r<br>The </span><sup>[4]</sup>sed pyom encemely, wh house shing my sposth atwear,<span style=\"background-color:#ebdef0;\"> to being </span><sup>[2]</sup>grepence. \r<br>\r<br>'My all, \"I his b<span style=\"background-color:#eadbd8;\">y he sat\r<br></span><sup>[3]</sup>  d<span style=\"background-color:#e2d7d5;\">est and be</span><sup>[4]</sup> pus?\r<br>\r<br>\r<br>\r<br>ATF\r<br>WECTWAR<span style=\"background-color:#d8daef;\">\r<br>\r<br>[_Hear</span><sup>[1]</sup>th,\" her toutine af ammainly. Ax dead you layce)---BEscoun's dume more-rook whach _. <span style=\"background-color:#e2d7d5;\"> me the re</span><sup>[4]</sup>en aloreable.\" Ye's\r<br>hive she fill him thew.\"\r<br>\r<br>\"'He was kax<span style=\"background-color:#e2d7d5;\">, were all t</span><sup>[4]</sup>o bect._ She dit. \""
            ],
            "text/plain": [
              "<IPython.core.display.HTML object>"
            ]
          },
          "metadata": {
            "tags": []
          }
        },
        {
          "output_type": "display_data",
          "data": {
            "text/html": [
              "<small><p style=\"text-align:right;\">Sources: <span style=\"background-color:#e2d7d5;\">Jane Austen: Emma</span><sup>[4]</sup>, <span style=\"background-color:#eadbd8;\">Virginia Wolf: Voyage out</span><sup>[3]</sup>, <span style=\"background-color:#d8daef;\">Jane Austen: Pride and Prejudice</span><sup>[1]</sup>, <span style=\"background-color:#ebdef0;\">Emily Brontë: Wuthering Heights</span><sup>[2]</sup></p></small>"
            ],
            "text/plain": [
              "<IPython.core.display.HTML object>"
            ]
          },
          "metadata": {
            "tags": []
          }
        },
        {
          "output_type": "stream",
          "text": [
            "Loss: 1.7154321465492248 Precision: 0.50107421875\n"
          ],
          "name": "stdout"
        },
        {
          "output_type": "display_data",
          "data": {
            "text/html": [
              "by Gused to badk, and\r<br>Lands,\" feigh<span style=\"background-color:#eadbd8;\">ed of the s</span><sup>[3]</sup>a'd as a clusy<span style=\"background-color:#eadbd8;\"> night was a</span><sup>[3]</sup> higntsing coa<span style=\"background-color:#eadbd8;\">l, and you</span><sup>[3]</sup>se,\r<br>is o<span style=\"background-color:#e2d7d5;\">ble to all</span><sup>[4]</sup>. \"I\r<br>peemode, who hes, a<span style=\"background-color:#e2d7d5;\">s of his w</span><sup>[4]</sup>hited\r<br>if<span style=\"background-color:#eadbd8;\"> been to th</span><sup>[3]</sup>it expend,\r<br>bellown als<span style=\"background-color:#eadbd8;\">w at the s</span><sup>[3]</sup>motked of eneghed tark prased, all ecguplen p<span style=\"background-color:#d8daef;\">ather was </span><sup>[1]</sup>thousing it. The\r<br>wit<span style=\"background-color:#eadbd8;\">hour among</span><sup>[3]</sup> conding\r<br>Hafe on mare you ghen\r<br>toon lived itter, twime unieag.\r<br>\r<br>ELNn, Risn hart-blut butterse, you teins.\r<br>\r<br>'It <span style=\"background-color:#ebdef0;\">undering o</span><sup>[2]</sup>f deward, that Eytu<span style=\"background-color:#eadbd8;\">rs, and had</span><sup>[3]</sup> to get fealt ridies.  Oh very repecimed\r<br>to a hand, "
            ],
            "text/plain": [
              "<IPython.core.display.HTML object>"
            ]
          },
          "metadata": {
            "tags": []
          }
        },
        {
          "output_type": "display_data",
          "data": {
            "text/html": [
              "<small><p style=\"text-align:right;\">Sources: <span style=\"background-color:#eadbd8;\">Virginia Wolf: Voyage out</span><sup>[3]</sup>, <span style=\"background-color:#e2d7d5;\">Jane Austen: Emma</span><sup>[4]</sup>, <span style=\"background-color:#d8daef;\">Jane Austen: Pride and Prejudice</span><sup>[1]</sup>, <span style=\"background-color:#ebdef0;\">Emily Brontë: Wuthering Heights</span><sup>[2]</sup></p></small>"
            ],
            "text/plain": [
              "<IPython.core.display.HTML object>"
            ]
          },
          "metadata": {
            "tags": []
          }
        },
        {
          "output_type": "stream",
          "text": [
            "Loss: 1.673845823764801 Precision: 0.512109375\n"
          ],
          "name": "stdout"
        },
        {
          "output_type": "display_data",
          "data": {
            "text/html": [
              "in my armatioved hamserfastibess of eight a\r<br>seed.--A\r<br>Rop<span style=\"background-color:#e2d7d5;\">en she is </span><sup>[4]</sup>trreet of whith up it w<span style=\"background-color:#ebdef0;\">ill Catheri</span><sup>[2]</sup>b<span style=\"background-color:#ebdef0;\">le.  The la</span><sup>[2]</sup>ir so sinucked words\r<br>anvorm<span style=\"background-color:#ebdef0;\">ised, and </span><sup>[2]</sup>fect<span style=\"background-color:#ebdef0;\">le joy of </span><sup>[2]</sup>Mrs. Tisce asais a aru<span style=\"background-color:#eadbd8;\">tint with </span><sup>[3]</sup>morg<span style=\"background-color:#eadbd8;\">ure of her </span><sup>[3]</sup>to shapes you hap, \"Joor<span style=\"background-color:#e2d7d5;\"> Emma felt the </span><sup>[4]</sup>him; but me inclied,\r<br>what down be lases of Misa Cather: hid beyther<span style=\"background-color:#e2d7d5;\">ful that m</span><sup>[4]</sup><span style=\"background-color:#e2d7d5;\">e.\" She had</span><sup>[4]</sup>derly word, have heak<span style=\"background-color:#e2d7d5;\">\r<br>with Mrs. </span><sup>[4]</sup>Westor, the clees a, I and a monn<span style=\"background-color:#eadbd8;\">ers of her </span><sup>[3]</sup>saym<span style=\"background-color:#eadbd8;\">,\r<br>in the t</span><sup>[3]</sup>hooking it isgap lozes act<span style=\"background-color:#e2d7d5;\">em.\"\r<br>\r<br>\"Mr. D</span><sup>[4]</sup>orselle's fel<span style=\"background-color:#eadbd8;\">ted that Mrs. </span><sup>[3]</sup>"
            ],
            "text/plain": [
              "<IPython.core.display.HTML object>"
            ]
          },
          "metadata": {
            "tags": []
          }
        },
        {
          "output_type": "display_data",
          "data": {
            "text/html": [
              "<small><p style=\"text-align:right;\">Sources: <span style=\"background-color:#e2d7d5;\">Jane Austen: Emma</span><sup>[4]</sup>, <span style=\"background-color:#ebdef0;\">Emily Brontë: Wuthering Heights</span><sup>[2]</sup>, <span style=\"background-color:#eadbd8;\">Virginia Wolf: Voyage out</span><sup>[3]</sup></p></small>"
            ],
            "text/plain": [
              "<IPython.core.display.HTML object>"
            ]
          },
          "metadata": {
            "tags": []
          }
        },
        {
          "output_type": "stream",
          "text": [
            "Loss: 1.6349637556076049 Precision: 0.51435546875\n"
          ],
          "name": "stdout"
        },
        {
          "output_type": "display_data",
          "data": {
            "text/html": [
              "of the mocking,<span style=\"background-color:#e2d7d5;\"> to your t</span><sup>[4]</sup>ig<span style=\"background-color:#e2d7d5;\">h of every </span><sup>[4]</sup>that if explents and Mater,\"\r<br>\r<br>\"Do house id was ag<span style=\"background-color:#eadbd8;\">ried to con</span><sup>[3]</sup>ners and\r<br>is my neaple thingl<span style=\"background-color:#e2d7d5;\">ess; but h</span><sup>[4]</sup>im to count\r<br>m<span style=\"background-color:#eadbd8;\">ore when h</span><sup>[3]</sup>is<span style=\"background-color:#ebdef0;\">self?' he </span><sup>[2]</sup>couldn't neven humed\r<br>brocudce eith misterfactions\r<br>wor<span style=\"background-color:#ebdef0;\">k was one </span><sup>[2]</sup>seecion to seccess.  M.. Elthrad so infendence she go <span style=\"background-color:#e2d7d5;\">oned about</span><sup>[4]</sup>\r<br>\r<br>D<span style=\"background-color:#eadbd8;\">. What you ca</span><sup>[3]</sup>n ort lie vief too saringley instlams and diqurinice so<span style=\"background-color:#e2d7d5;\">in that\r<br>the </span><sup>[4]</sup>beht be<span style=\"background-color:#eadbd8;\">ed at the w</span><sup>[3]</sup>erelis<span style=\"background-color:#ebdef0;\"> way; and </span><sup>[2]</sup><span style=\"background-color:#eadbd8;\">the retire</span><sup>[3]</sup>ds<span style=\"background-color:#e2d7d5;\"> you\r<br>make </span><sup>[4]</sup>halt hew foom<span style=\"background-color:#eadbd8;\"> that that s</span><sup>[3]</sup>he hamper<span style=\"background-color:#ebdef0;\"> in Linton</span><sup>[2]</sup> spod,, M"
            ],
            "text/plain": [
              "<IPython.core.display.HTML object>"
            ]
          },
          "metadata": {
            "tags": []
          }
        },
        {
          "output_type": "display_data",
          "data": {
            "text/html": [
              "<small><p style=\"text-align:right;\">Sources: <span style=\"background-color:#e2d7d5;\">Jane Austen: Emma</span><sup>[4]</sup>, <span style=\"background-color:#eadbd8;\">Virginia Wolf: Voyage out</span><sup>[3]</sup>, <span style=\"background-color:#ebdef0;\">Emily Brontë: Wuthering Heights</span><sup>[2]</sup></p></small>"
            ],
            "text/plain": [
              "<IPython.core.display.HTML object>"
            ]
          },
          "metadata": {
            "tags": []
          }
        },
        {
          "output_type": "stream",
          "text": [
            "Loss: 1.6043404021263123 Precision: 0.52578125\n"
          ],
          "name": "stdout"
        },
        {
          "output_type": "display_data",
          "data": {
            "text/html": [
              "the spet besa of Shifge<span style=\"background-color:#e2d7d5;\">r Mr. Knightley's </span><sup>[4]</sup>edequision.--No<span style=\"background-color:#ebdef0;\">; but not </span><sup>[2]</sup>conterlimady sard<span style=\"background-color:#ebdef0;\">ing my war</span><sup>[2]</sup>e resentant\r<br>it tanualated me<span style=\"background-color:#ebdef0;\">ne's with </span><sup>[2]</sup>quiblied, bunth mothes them. West draymm<span style=\"background-color:#e2d7d5;\">ings.\r<br>\r<br>\"</span><sup>[4]</sup>Joover--don't more.  Harrive of disen Who<span style=\"background-color:#eadbd8;\">shing her ha</span><sup>[3]</sup>d anyroods\r<br>thim your<span style=\"background-color:#eadbd8;\"> she confi</span><sup>[3]</sup>ding. His you<span style=\"background-color:#ebdef0;\">r would bea</span><sup>[2]</sup>n <span style=\"background-color:#ebdef0;\">surper of h</span><sup>[2]</sup>ampened or her em<span style=\"background-color:#e2d7d5;\">posed any </span><sup>[4]</sup>restaced?\r<br>\r<br>'Whowhour the conience, I accholth rute for-rect by intid loo<span style=\"background-color:#eadbd8;\">d of her b</span><sup>[3]</sup>oyy be beel-stooded, antwaccess of\r<br>arrak<span style=\"background-color:#e2d7d5;\">ing at Harrie</span><sup>[4]</sup>s womuninc<span style=\"background-color:#ebdef0;\">e you know </span><sup>[2]</sup>like\r<br>her t"
            ],
            "text/plain": [
              "<IPython.core.display.HTML object>"
            ]
          },
          "metadata": {
            "tags": []
          }
        },
        {
          "output_type": "display_data",
          "data": {
            "text/html": [
              "<small><p style=\"text-align:right;\">Sources: <span style=\"background-color:#e2d7d5;\">Jane Austen: Emma</span><sup>[4]</sup>, <span style=\"background-color:#ebdef0;\">Emily Brontë: Wuthering Heights</span><sup>[2]</sup>, <span style=\"background-color:#eadbd8;\">Virginia Wolf: Voyage out</span><sup>[3]</sup></p></small>"
            ],
            "text/plain": [
              "<IPython.core.display.HTML object>"
            ]
          },
          "metadata": {
            "tags": []
          }
        },
        {
          "output_type": "stream",
          "text": [
            "Loss: 1.5734289054870605 Precision: 0.54267578125\n"
          ],
          "name": "stdout"
        },
        {
          "output_type": "display_data",
          "data": {
            "text/html": [
              "hertelf in ittle suightly,\"--<span style=\"background-color:#eadbd8;\"> what come</span><sup>[3]</sup> tow<span style=\"background-color:#d8daef;\">e of\r<br>the </span><sup>[1]</sup>occessions chiled<span style=\"background-color:#e2d7d5;\">! and it w</span><sup>[4]</sup>ould to<span style=\"background-color:#ebdef0;\"> of the to</span><sup>[2]</sup>urd. At ros<span style=\"background-color:#ebdef0;\">e him from </span><sup>[2]</sup>I do, you, I mush\r<br>sneeved her felled are, am somipe<span style=\"background-color:#e2d7d5;\">ment the a</span><sup>[4]</sup>bulied at Emm\r<br>Pand Whatheres at mever nains his pal<span style=\"background-color:#e2d7d5;\">est, that </span><sup>[4]</sup>speet chonga boholder onoth a pentost the obving it oppect,' argaging,\r<br>evills<span style=\"background-color:#e2d7d5;\"> than appear</span><sup>[4]</sup>ated<span style=\"background-color:#eadbd8;\"> and more, </span><sup>[3]</sup>I<span style=\"background-color:#eadbd8;\"> was being </span><sup>[3]</sup>evenyed<span style=\"background-color:#d8daef;\"> for Mrs.\r<br></span><sup>[1]</sup>Cathery fat<span style=\"background-color:#e2d7d5;\">ed she would not </span><sup>[4]</sup>don; and reseive he succlaad for ale will too, trind\r<br>this doo<span style=\"background-color:#d8daef;\">r from the</span><sup>[1]</sup>_.\"\r<br>\r<br>\"Gile<span style=\"background-color:#e2d7d5;\">s, that I </span><sup>[4]</sup>"
            ],
            "text/plain": [
              "<IPython.core.display.HTML object>"
            ]
          },
          "metadata": {
            "tags": []
          }
        },
        {
          "output_type": "display_data",
          "data": {
            "text/html": [
              "<small><p style=\"text-align:right;\">Sources: <span style=\"background-color:#eadbd8;\">Virginia Wolf: Voyage out</span><sup>[3]</sup>, <span style=\"background-color:#d8daef;\">Jane Austen: Pride and Prejudice</span><sup>[1]</sup>, <span style=\"background-color:#e2d7d5;\">Jane Austen: Emma</span><sup>[4]</sup>, <span style=\"background-color:#ebdef0;\">Emily Brontë: Wuthering Heights</span><sup>[2]</sup></p></small>"
            ],
            "text/plain": [
              "<IPython.core.display.HTML object>"
            ]
          },
          "metadata": {
            "tags": []
          }
        },
        {
          "output_type": "stream",
          "text": [
            "Loss: 1.5465183510780334 Precision: 0.53642578125\n"
          ],
          "name": "stdout"
        },
        {
          "output_type": "display_data",
          "data": {
            "text/html": [
              "Orcom<span style=\"background-color:#ebdef0;\"> under and </span><sup>[2]</sup>thing mys who hasigues he hour new<span style=\"background-color:#eadbd8;\">\r<br>rather th</span><sup>[3]</sup>em tharory p<span style=\"background-color:#ebdef0;\">up with th</span><sup>[2]</sup>rue contrinu<span style=\"background-color:#eadbd8;\">tion as the</span><sup>[3]</sup>\r<br>continn<span style=\"background-color:#e2d7d5;\">er were no</span><sup>[4]</sup> kind sy, pucity\r<br>claim w<span style=\"background-color:#eadbd8;\">as if in\r<br></span><sup>[3]</sup>there said now Inever helject folthin of fre<span style=\"background-color:#eadbd8;\">it would l</span><sup>[3]</sup><span style=\"background-color:#ebdef0;\">istress, and s</span><sup>[2]</sup>peek you mornies--\"<span style=\"background-color:#d8daef;\">\r<br>\r<br>\r<br>ELIZABETH.</span><sup>[1]</sup>  BUAZARA IQ_ hhas you?\" Havi<span style=\"background-color:#ebdef0;\">nds to con</span><sup>[2]</sup>; while am Who, by I dree were been infulbready rable,\r<br>thereary chair,\r<br>Emma becons whotever's it. \"It windertwaysly, even,<span style=\"background-color:#d8daef;\"> sure there </span><sup>[1]</sup>sorry of puguating extrid facted Hewet,\r<br>sprying, I chied wlat"
            ],
            "text/plain": [
              "<IPython.core.display.HTML object>"
            ]
          },
          "metadata": {
            "tags": []
          }
        },
        {
          "output_type": "display_data",
          "data": {
            "text/html": [
              "<small><p style=\"text-align:right;\">Sources: <span style=\"background-color:#ebdef0;\">Emily Brontë: Wuthering Heights</span><sup>[2]</sup>, <span style=\"background-color:#eadbd8;\">Virginia Wolf: Voyage out</span><sup>[3]</sup>, <span style=\"background-color:#e2d7d5;\">Jane Austen: Emma</span><sup>[4]</sup>, <span style=\"background-color:#d8daef;\">Jane Austen: Pride and Prejudice</span><sup>[1]</sup></p></small>"
            ],
            "text/plain": [
              "<IPython.core.display.HTML object>"
            ]
          },
          "metadata": {
            "tags": []
          }
        },
        {
          "output_type": "stream",
          "text": [
            "Loss: 1.5225505027770996 Precision: 0.55380859375\n"
          ],
          "name": "stdout"
        },
        {
          "output_type": "display_data",
          "data": {
            "text/html": [
              "of<span style=\"background-color:#e2d7d5;\"> her all h</span><sup>[4]</sup>appiged<span style=\"background-color:#e2d7d5;\"> him any f</span><sup>[4]</sup>a<span style=\"background-color:#ebdef0;\">iring the </span><sup>[2]</sup>tru<span style=\"background-color:#ebdef0;\">nking it to</span><sup>[2]</sup>urs was, as fru<span style=\"background-color:#ebdef0;\">ng evening </span><sup>[2]</sup>upon __ishe's\r<br>the gervent <span style=\"background-color:#eadbd8;\">am to the </span><sup>[3]</sup>word! As no t<span style=\"background-color:#e2d7d5;\">aid Harrie</span><sup>[4]</sup><span style=\"background-color:#e2d7d5;\">d all the e</span><sup>[4]</sup>ntectrone, a forgate the ben<span style=\"background-color:#ebdef0;\">y his mani</span><sup>[2]</sup><span style=\"background-color:#e2d7d5;\">on to Mrs.</span><sup>[4]</sup>.]\r<br>\r<br>\r<br>DI.  O'Gu, fitch MR. Hind remave yell realing any also on atporrachful howes <span style=\"background-color:#d8daef;\">an to get </span><sup>[1]</sup>a far<span style=\"background-color:#e2d7d5;\">tion\r<br>of all </span><sup>[4]</sup>stake Marty! Roands was us<span style=\"background-color:#ebdef0;\">on as she w</span><sup>[2]</sup>ord<span style=\"background-color:#e2d7d5;\">d, and set</span><sup>[4]</sup> att<span style=\"background-color:#ebdef0;\">essed in the</span><sup>[2]</sup>re more rad i<span style=\"background-color:#eadbd8;\">nother,\r<br>s</span><sup>[3]</sup>he its becous<span style=\"background-color:#e2d7d5;\">ed which she </span><sup>[4]</sup>consideral such moke me, \"now'ble cared at\r<br>someth moking-gook-blut I'm y"
            ],
            "text/plain": [
              "<IPython.core.display.HTML object>"
            ]
          },
          "metadata": {
            "tags": []
          }
        },
        {
          "output_type": "display_data",
          "data": {
            "text/html": [
              "<small><p style=\"text-align:right;\">Sources: <span style=\"background-color:#e2d7d5;\">Jane Austen: Emma</span><sup>[4]</sup>, <span style=\"background-color:#ebdef0;\">Emily Brontë: Wuthering Heights</span><sup>[2]</sup>, <span style=\"background-color:#eadbd8;\">Virginia Wolf: Voyage out</span><sup>[3]</sup>, <span style=\"background-color:#d8daef;\">Jane Austen: Pride and Prejudice</span><sup>[1]</sup></p></small>"
            ],
            "text/plain": [
              "<IPython.core.display.HTML object>"
            ]
          },
          "metadata": {
            "tags": []
          }
        },
        {
          "output_type": "stream",
          "text": [
            "Loss: 1.5017998113632203 Precision: 0.5568359375\n"
          ],
          "name": "stdout"
        },
        {
          "output_type": "display_data",
          "data": {
            "text/html": [
              "women was had cold! while laimed,<span style=\"background-color:#ebdef0;\"> for going o</span><sup>[2]</sup>f the mamorif<span style=\"background-color:#eadbd8;\">y, and\r<br>hea</span><sup>[3]</sup>dh, and i<span style=\"background-color:#d8daef;\">table with </span><sup>[1]</sup>my indiecurt on a scoverr<span style=\"background-color:#ebdef0;\">aped, and </span><sup>[2]</sup>this\r<br>hown<span style=\"background-color:#ebdef0;\">ing her di</span><sup>[2]</sup>sti<span style=\"background-color:#eadbd8;\">ble which s</span><sup>[3]</sup>oon leavened itsa<span style=\"background-color:#ebdef0;\">gence of t</span><sup>[2]</sup>oher<span style=\"background-color:#ebdef0;\">d in their </span><sup>[2]</sup>crastenberg-to\r<br><span style=\"background-color:#e2d7d5;\">words, if </span><sup>[4]</sup>is a well quitulory redua<span style=\"background-color:#e2d7d5;\">d, and Mr. Weston</span><sup>[4]</sup>'s said,\r<br>\"Such XY\r<br>\r<br>This certungly, <span style=\"background-color:#e2d7d5;\">for still </span><sup>[4]</sup>abmedart. At fursul<span style=\"background-color:#eadbd8;\">s. The light</span><sup>[3]</sup><span style=\"background-color:#eadbd8;\">, and he st</span><sup>[3]</sup>allice with narks\r<br>mely in a b<span style=\"background-color:#eadbd8;\">ace into the </span><sup>[3]</sup>first--<span style=\"background-color:#e2d7d5;\">not\r<br>know how</span><sup>[4]</sup>n's by a ginly faze incwelting._] Mrs. Grong in nother sis,\r<br>and Surstill my pa"
            ],
            "text/plain": [
              "<IPython.core.display.HTML object>"
            ]
          },
          "metadata": {
            "tags": []
          }
        },
        {
          "output_type": "display_data",
          "data": {
            "text/html": [
              "<small><p style=\"text-align:right;\">Sources: <span style=\"background-color:#ebdef0;\">Emily Brontë: Wuthering Heights</span><sup>[2]</sup>, <span style=\"background-color:#eadbd8;\">Virginia Wolf: Voyage out</span><sup>[3]</sup>, <span style=\"background-color:#d8daef;\">Jane Austen: Pride and Prejudice</span><sup>[1]</sup>, <span style=\"background-color:#e2d7d5;\">Jane Austen: Emma</span><sup>[4]</sup></p></small>"
            ],
            "text/plain": [
              "<IPython.core.display.HTML object>"
            ]
          },
          "metadata": {
            "tags": []
          }
        },
        {
          "output_type": "stream",
          "text": [
            "Loss: 1.4823252553939819 Precision: 0.56044921875\n"
          ],
          "name": "stdout"
        },
        {
          "output_type": "display_data",
          "data": {
            "text/html": [
              "avenad lif<span style=\"background-color:#eadbd8;\">ted. \"But </span><sup>[3]</sup>An we ever poist<span style=\"background-color:#ebdef0;\"> that mean</span><sup>[2]</sup>y<span style=\"background-color:#d8daef;\">, like her </span><sup>[1]</sup>nearly\r<br>forgure. I\r<br>danged cha<span style=\"background-color:#eadbd8;\">ng off the </span><sup>[3]</sup>mine Lan.<span style=\"background-color:#ebdef0;\"> I were th</span><sup>[2]</sup>at<span style=\"background-color:#ebdef0;\"> he answer</span><sup>[2]</sup>s. She Usfoky bad as<span style=\"background-color:#ebdef0;\"> we heard </span><sup>[2]</sup>Mr.\r<br>Sustol<span style=\"background-color:#d8daef;\">d has a very </span><sup>[1]</sup>coul<span style=\"background-color:#e2d7d5;\">d so very </span><sup>[4]</sup>win<span style=\"background-color:#e2d7d5;\">tion as he</span><sup>[4]</sup><span style=\"background-color:#ebdef0;\"> was even </span><sup>[2]</sup>amaghing in. Set<span style=\"background-color:#e2d7d5;\"> never exc</span><sup>[4]</sup>lety loods\r<br>tha<span style=\"background-color:#eadbd8;\">nking the </span><sup>[3]</sup>mood.  Ahe.\" Elenstow of he wis<span style=\"background-color:#e2d7d5;\">hat of the </span><sup>[4]</sup>sajull perposs!<span style=\"background-color:#ebdef0;\"> and his wi</span><sup>[2]</sup>ll si<span style=\"background-color:#e2d7d5;\">d, when the t</span><sup>[4]</sup>wome.\r<br>Is a fellatt<span style=\"background-color:#eadbd8;\">ement with </span><sup>[3]</sup>my manner!--h<span style=\"background-color:#eadbd8;\">o love the</span><sup>[3]</sup>ser<span style=\"background-color:#ebdef0;\">es, but the </span><sup>[2]</sup>us<span style=\"background-color:#e2d7d5;\">en in his </span><sup>[4]</sup>clance\r<br>of blac<span style=\"background-color:#e2d7d5;\">king of at</span><sup>[4]</sup>hersent, whise she, he\r<br>feeched round"
            ],
            "text/plain": [
              "<IPython.core.display.HTML object>"
            ]
          },
          "metadata": {
            "tags": []
          }
        },
        {
          "output_type": "display_data",
          "data": {
            "text/html": [
              "<small><p style=\"text-align:right;\">Sources: <span style=\"background-color:#eadbd8;\">Virginia Wolf: Voyage out</span><sup>[3]</sup>, <span style=\"background-color:#ebdef0;\">Emily Brontë: Wuthering Heights</span><sup>[2]</sup>, <span style=\"background-color:#d8daef;\">Jane Austen: Pride and Prejudice</span><sup>[1]</sup>, <span style=\"background-color:#e2d7d5;\">Jane Austen: Emma</span><sup>[4]</sup></p></small>"
            ],
            "text/plain": [
              "<IPython.core.display.HTML object>"
            ]
          },
          "metadata": {
            "tags": []
          }
        },
        {
          "output_type": "stream",
          "text": [
            "Loss: 1.4608078179359436 Precision: 0.56337890625\n"
          ],
          "name": "stdout"
        },
        {
          "output_type": "display_data",
          "data": {
            "text/html": [
              "sice to<span style=\"background-color:#ebdef0;\"> but that I </span><sup>[2]</sup>parion; behave cold, 'and, pue he\r<br>Ladinnaton, done guesteriness!  We your<span style=\"background-color:#e2d7d5;\">, then, un</span><sup>[4]</sup>cerse took breave in thissist:\r<br>wrist me too inquir<span style=\"background-color:#eadbd8;\">iously. She w</span><sup>[3]</sup>a<span style=\"background-color:#ebdef0;\">s question </span><sup>[2]</sup>1 and loweve<span style=\"background-color:#ebdef0;\">d, at the </span><sup>[2]</sup>garden.\"\r<br>\r<br>'Dust smorter!  I shill be flew prakes off-speak<span style=\"background-color:#e2d7d5;\">ence of any </span><sup>[4]</sup>it was\r<br>kettrain<span style=\"background-color:#d8daef;\">ly at her.</span><sup>[1]</sup> I had all; the foouss, I'd hurd<span style=\"background-color:#eadbd8;\"> your back</span><sup>[3]</sup> once a came on courte<span style=\"background-color:#ebdef0;\">\r<br>marrying </span><sup>[2]</sup>with Amath apprame<span style=\"background-color:#e2d7d5;\"> become in</span><sup>[4]</sup> a stramberion o<span style=\"background-color:#e2d7d5;\">r from her fa</span><sup>[4]</sup>ce,\r<br>o<span style=\"background-color:#e2d7d5;\">n him; but </span><sup>[4]</sup><span style=\"background-color:#eadbd8;\">he did not di</span><sup>[3]</sup>rect sit<span style=\"background-color:#ebdef0;\">ting. She </span><sup>[2]</sup><span style=\"background-color:#e2d7d5;\">was said a</span><sup>[4]</sup>s surpose; "
            ],
            "text/plain": [
              "<IPython.core.display.HTML object>"
            ]
          },
          "metadata": {
            "tags": []
          }
        },
        {
          "output_type": "display_data",
          "data": {
            "text/html": [
              "<small><p style=\"text-align:right;\">Sources: <span style=\"background-color:#ebdef0;\">Emily Brontë: Wuthering Heights</span><sup>[2]</sup>, <span style=\"background-color:#e2d7d5;\">Jane Austen: Emma</span><sup>[4]</sup>, <span style=\"background-color:#eadbd8;\">Virginia Wolf: Voyage out</span><sup>[3]</sup>, <span style=\"background-color:#d8daef;\">Jane Austen: Pride and Prejudice</span><sup>[1]</sup></p></small>"
            ],
            "text/plain": [
              "<IPython.core.display.HTML object>"
            ]
          },
          "metadata": {
            "tags": []
          }
        },
        {
          "output_type": "stream",
          "text": [
            "Loss: 1.4486610636711121 Precision: 0.56962890625\n"
          ],
          "name": "stdout"
        },
        {
          "output_type": "display_data",
          "data": {
            "text/html": [
              "that mather shew ded of a yemweress a<span style=\"background-color:#eadbd8;\">s I think o</span><sup>[3]</sup><span style=\"background-color:#e2d7d5;\">ne other f</span><sup>[4]</sup>ifter in eased no--pain--     day<span style=\"background-color:#ebdef0;\">\r<br>Hareton's </span><sup>[2]</sup>k<span style=\"background-color:#eadbd8;\">arts and r</span><sup>[3]</sup>eturn me<span style=\"background-color:#ebdef0;\"> her myself</span><sup>[2]</sup> dised<span style=\"background-color:#eadbd8;\"> and directly </span><sup>[3]</sup>as the so<span style=\"background-color:#e2d7d5;\">wing--in the</span><sup>[4]</sup>\r<br><span style=\"background-color:#eadbd8;\">but here in </span><sup>[3]</sup>here<span style=\"background-color:#ebdef0;\">.  I'll not </span><sup>[2]</sup>my duat<span style=\"background-color:#e2d7d5;\">.--You are </span><sup>[4]</sup>you ever<span style=\"background-color:#e2d7d5;\">'s\r<br>should be </span><sup>[4]</sup>satu<span style=\"background-color:#ebdef0;\">rally made </span><sup>[2]</sup>the deat.  B<span style=\"background-color:#e2d7d5;\">ut as you </span><sup>[4]</sup>qui<span style=\"background-color:#e2d7d5;\">ct again, </span><sup>[4]</sup>\"'Che slidery addiswer.  '<span style=\"background-color:#eadbd8;\">Some of the </span><sup>[3]</sup>finer fasten replare dead. Why take Dexplon\r<br>to charcing outti<span style=\"background-color:#eadbd8;\">d until the </span><sup>[3]</sup>trict<span style=\"background-color:#d8daef;\">le Mr. Col</span><sup>[1]</sup>on't<span style=\"background-color:#eadbd8;\"> the looking</span><sup>[3]</sup>\r<br>of eluch,\"<span style=\"background-color:#ebdef0;\"> still have </span><sup>[2]</sup>in she setten<span style=\"background-color:#e2d7d5;\">. The super</span><sup>[4]</sup><span style=\"background-color:#ebdef0;\">ed, and te</span><sup>[2]</sup>ll.\r<br>"
            ],
            "text/plain": [
              "<IPython.core.display.HTML object>"
            ]
          },
          "metadata": {
            "tags": []
          }
        },
        {
          "output_type": "display_data",
          "data": {
            "text/html": [
              "<small><p style=\"text-align:right;\">Sources: <span style=\"background-color:#eadbd8;\">Virginia Wolf: Voyage out</span><sup>[3]</sup>, <span style=\"background-color:#e2d7d5;\">Jane Austen: Emma</span><sup>[4]</sup>, <span style=\"background-color:#ebdef0;\">Emily Brontë: Wuthering Heights</span><sup>[2]</sup>, <span style=\"background-color:#d8daef;\">Jane Austen: Pride and Prejudice</span><sup>[1]</sup></p></small>"
            ],
            "text/plain": [
              "<IPython.core.display.HTML object>"
            ]
          },
          "metadata": {
            "tags": []
          }
        },
        {
          "output_type": "stream",
          "text": [
            "Loss: 1.4317357501983643 Precision: 0.57177734375\n"
          ],
          "name": "stdout"
        },
        {
          "output_type": "display_data",
          "data": {
            "text/html": [
              "ma<span style=\"background-color:#ebdef0;\">tement to </span><sup>[2]</sup>rach a cleminin<span style=\"background-color:#eadbd8;\">e pretence</span><sup>[3]</sup>. A<span style=\"background-color:#ebdef0;\">t that had </span><sup>[2]</sup>long\r<br>to pencame her deticatic who re<span style=\"background-color:#e2d7d5;\">ing all my</span><sup>[4]</sup> mean I answerbl<span style=\"background-color:#ebdef0;\">e was comp</span><sup>[2]</sup>a<span style=\"background-color:#ebdef0;\">ning till </span><sup>[2]</sup>that I anmis<span style=\"background-color:#eadbd8;\">ed how the s</span><sup>[3]</sup>ub<span style=\"background-color:#ebdef0;\">al\r<br>about </span><sup>[2]</sup>she donn,\" <span style=\"background-color:#eadbd8;\">he before </span><sup>[3]</sup>paid a fifty happen, if I Kningling,<span style=\"background-color:#eadbd8;\">\r<br>\r<br>\"Now, </span><sup>[3]</sup>busing<span style=\"background-color:#eadbd8;\"> you. In th</span><sup>[3]</sup><span style=\"background-color:#ebdef0;\">at the com</span><sup>[2]</sup><span style=\"background-color:#e2d7d5;\">e.\"\r<br>\r<br>\"But I</span><sup>[4]</sup>'m no can<span style=\"background-color:#ebdef0;\">t playing </span><sup>[2]</sup>and coviniou<span style=\"background-color:#e2d7d5;\">s with mos</span><sup>[4]</sup>e good only a gellom, oner<span style=\"background-color:#d8daef;\"> to your\r<br></span><sup>[1]</sup>1.F.30, LizzI _gried me drey--a melanch <span style=\"background-color:#e2d7d5;\">is she had </span><sup>[4]</sup>great deplakent:\r<br>and exquainted Visnate--and Erbard<span style=\"background-color:#eadbd8;\"> and Helen i</span><sup>[3]</sup>s no<span style=\"background-color:#eadbd8;\">t\r<br>on the </span><sup>[3]</sup>persard of poize"
            ],
            "text/plain": [
              "<IPython.core.display.HTML object>"
            ]
          },
          "metadata": {
            "tags": []
          }
        },
        {
          "output_type": "display_data",
          "data": {
            "text/html": [
              "<small><p style=\"text-align:right;\">Sources: <span style=\"background-color:#ebdef0;\">Emily Brontë: Wuthering Heights</span><sup>[2]</sup>, <span style=\"background-color:#eadbd8;\">Virginia Wolf: Voyage out</span><sup>[3]</sup>, <span style=\"background-color:#e2d7d5;\">Jane Austen: Emma</span><sup>[4]</sup>, <span style=\"background-color:#d8daef;\">Jane Austen: Pride and Prejudice</span><sup>[1]</sup></p></small>"
            ],
            "text/plain": [
              "<IPython.core.display.HTML object>"
            ]
          },
          "metadata": {
            "tags": []
          }
        },
        {
          "output_type": "stream",
          "text": [
            "Loss: 1.419572437286377 Precision: 0.5576171875\n"
          ],
          "name": "stdout"
        },
        {
          "output_type": "display_data",
          "data": {
            "text/html": [
              "on<span style=\"background-color:#ebdef0;\">e started </span><sup>[2]</sup>b<span style=\"background-color:#eadbd8;\">y laughing</span><sup>[3]</sup> her actiy of oc<span style=\"background-color:#d8daef;\">country as </span><sup>[1]</sup><span style=\"background-color:#eadbd8;\">anything w</span><sup>[3]</sup><span style=\"background-color:#eadbd8;\">ith\r<br>little </span><sup>[3]</sup>did left, is eatwelling<span style=\"background-color:#ebdef0;\">.'\r<br>\r<br>But </span><sup>[2]</sup>sh<span style=\"background-color:#ebdef0;\">e well to </span><sup>[2]</sup>her prop<span style=\"background-color:#ebdef0;\">ess,\r<br>but </span><sup>[2]</sup>I've strutg! one<span style=\"background-color:#ebdef0;\"> see, and </span><sup>[2]</sup>can glawing _haim_ _tone_<span style=\"background-color:#e2d7d5;\"> she thought less</span><sup>[4]</sup>ness<span style=\"background-color:#d8daef;\"> states of </span><sup>[1]</sup>which I<span style=\"background-color:#ebdef0;\">,\r<br>therefore</span><sup>[2]</sup> women beail<span style=\"background-color:#ebdef0;\"> you been </span><sup>[2]</sup>your mitter<span style=\"background-color:#eadbd8;\"> or the pe</span><sup>[3]</sup>rc<span style=\"background-color:#ebdef0;\">es of\r<br>the </span><sup>[2]</sup>dar I Ligh_ go<span style=\"background-color:#d8daef;\"> really be</span><sup>[1]</sup><span style=\"background-color:#e2d7d5;\">fore her in</span><sup>[4]</sup>terits flother ort renoting use by yesp<span style=\"background-color:#eadbd8;\">ered that\r<br></span><sup>[3]</sup>the rivel<span style=\"background-color:#eadbd8;\"> Rachel sto</span><sup>[3]</sup>n<span style=\"background-color:#ebdef0;\">e for this</span><sup>[2]</sup>. \"The atterdior fin<span style=\"background-color:#eadbd8;\">e you,\" said He</span><sup>[3]</sup>preh<span style=\"background-color:#eadbd8;\">ing passed </span><sup>[3]</sup>by hi<span style=\"background-color:#eadbd8;\">s well\r<br>sh</span><sup>[3]</sup>ort, if Hingled_: DARCY\r<br>_"
            ],
            "text/plain": [
              "<IPython.core.display.HTML object>"
            ]
          },
          "metadata": {
            "tags": []
          }
        }
      ]
    },
    {
      "cell_type": "markdown",
      "metadata": {
        "id": "-dsSPjPsUlpY",
        "colab_type": "text"
      },
      "source": [
        "## Generate text"
      ]
    },
    {
      "cell_type": "code",
      "metadata": {
        "scrolled": true,
        "id": "wdpCtjvfUlpZ",
        "colab_type": "code",
        "colab": {}
      },
      "source": [
        "def detectPlagiarism(generatedtext, textlibrary, minQuoteLength=10):\n",
        "    textlibrary.source_highlight(generatedtext, minQuoteLength)\n",
        "    \n",
        "tgen=poet.generate(1000,\"\\n\\n\")\n",
        "detectPlagiarism(tgen, textlib)"
      ],
      "execution_count": 0,
      "outputs": []
    },
    {
      "cell_type": "markdown",
      "metadata": {
        "id": "hjCd8CHLUlpd",
        "colab_type": "text"
      },
      "source": [
        "## Dialog"
      ]
    },
    {
      "cell_type": "code",
      "metadata": {
        "id": "pfiL1_64Ulpe",
        "colab_type": "code",
        "colab": {}
      },
      "source": [
        "# Do a dialog with the recursive neural net trained above:\n",
        "def doDialog():\n",
        "    # temperature = 0.6  # 0.1 (frozen character) - 1.3 (creative/chaotic character)\n",
        "    endPrompt = '.'  # the endPrompt character is the end-mark in answers.\n",
        "    maxEndPrompts = 4  # look for number of maxEndPrompts until answer is finished.\n",
        "    maxAnswerSize = 2048  # Maximum length of the answer\n",
        "    minAnswerSize = 64  # Minimum length of the answer\n",
        "\n",
        "    \n",
        "    print(\"Please enter some dialog.\")\n",
        "    print(\"The net will answer according to your input.\")\n",
        "    print(\"'bye' for end,\")\n",
        "    print(\"'reset' to reset the conversation context,\")\n",
        "    # print(\"'temperature=<float>' [0.1(frozen)-1.0(creative)]\")\n",
        "    print(\"    to change character of the dialog.\")\n",
        "    # print(\"    Current temperature={}.\".format(temperature))\n",
        "    print()\n",
        "    xso = None\n",
        "    bye = False\n",
        "        \n",
        "    while not bye:\n",
        "        print(\"> \", end=\"\")\n",
        "        prompt = input()\n",
        "        if prompt == 'bye':\n",
        "            bye = True\n",
        "            print(\"Good bye!\")\n",
        "            continue\n",
        "        tgen=poet.generate(1000,prompt)\n",
        "        # print(xso.replace(\"\\\\n\",\"\\n\"))\n",
        "        textlib.source_highlight(tgen, 10)\n",
        "    return"
      ],
      "execution_count": 0,
      "outputs": []
    },
    {
      "cell_type": "code",
      "metadata": {
        "scrolled": true,
        "id": "8mGGsuFRUlpi",
        "colab_type": "code",
        "colab": {}
      },
      "source": [
        "doDialog()"
      ],
      "execution_count": 0,
      "outputs": []
    },
    {
      "cell_type": "code",
      "metadata": {
        "id": "NKEqzxcvUlpl",
        "colab_type": "code",
        "colab": {}
      },
      "source": [
        "def save_checkpoint(state, filename='checkpoint.pth.tar', is_best=False):\n",
        "    torch.save(state, filename)\n",
        "    if is_best:\n",
        "        shutil.copyfile(filename, 'model_best.pth.tar')\n",
        "\n",
        "best_prec1=64.4\n",
        "\n",
        "save_checkpoint({\n",
        "            'epoch': e,\n",
        "            'arch': \"poet8\",\n",
        "            'state_dict': poet.state_dict(),\n",
        "            'best_prec1': best_prec1,\n",
        "            'optimizer' : opti.state_dict(),\n",
        "        })\n"
      ],
      "execution_count": 0,
      "outputs": []
    },
    {
      "cell_type": "code",
      "metadata": {
        "id": "NYEcftpVUlpp",
        "colab_type": "code",
        "colab": {}
      },
      "source": [
        ""
      ],
      "execution_count": 0,
      "outputs": []
    }
  ]
}