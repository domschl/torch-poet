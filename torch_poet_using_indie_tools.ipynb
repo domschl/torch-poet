{
  "nbformat": 4,
  "nbformat_minor": 0,
  "metadata": {
    "accelerator": "GPU",
    "colab": {
      "name": "torch_poet_using_indie_tools.ipynb",
      "provenance": [],
      "collapsed_sections": [],
      "include_colab_link": true
    },
    "kernelspec": {
      "display_name": "Python 3",
      "language": "python",
      "name": "python3"
    },
    "language_info": {
      "codemirror_mode": {
        "name": "ipython",
        "version": 3
      },
      "file_extension": ".py",
      "mimetype": "text/x-python",
      "name": "python",
      "nbconvert_exporter": "python",
      "pygments_lexer": "ipython3",
      "version": "3.8.1"
    }
  },
  "cells": [
    {
      "cell_type": "markdown",
      "metadata": {
        "id": "view-in-github",
        "colab_type": "text"
      },
      "source": [
        "<a href=\"https://colab.research.google.com/github/domschl/torch-poet/blob/master/torch_poet_using_indie_tools.ipynb\" target=\"_parent\"><img src=\"https://colab.research.google.com/assets/colab-badge.svg\" alt=\"Open In Colab\"/></a>"
      ]
    },
    {
      "cell_type": "code",
      "metadata": {
        "id": "28i44jSzUlon"
      },
      "source": [
        "import numpy as np\n",
        "import os\n",
        "import shutil\n",
        "from enum import Enum\n",
        "import re\n",
        "import time\n",
        "import logging\n",
        "import sys\n",
        "import json\n",
        "# import random\n",
        "import torch\n",
        "import torch.nn as nn\n",
        "from torch import Tensor"
      ],
      "execution_count": 1,
      "outputs": []
    },
    {
      "cell_type": "code",
      "source": [
        "# Run this ONLY for TPU tests (this [currently=01/2022] DOWNGRADES torch for compatibility!):\n",
        "# See: https://colab.research.google.com/github/pytorch/xla/blob/master/contrib/colab/getting-started.ipynb#scrollTo=yUB12htcqU9W\n",
        "# !pip install cloud-tpu-client==0.10 torch==1.9.0 https://storage.googleapis.com/tpu-pytorch/wheels/torch_xla-1.9-cp37-cp37m-linux_x86_64.whl"
      ],
      "metadata": {
        "id": "Cg7te10Bc0NG"
      },
      "execution_count": 2,
      "outputs": []
    },
    {
      "cell_type": "code",
      "source": [
        "pip install -U ml-indie-tools"
      ],
      "metadata": {
        "colab": {
          "base_uri": "https://localhost:8080/"
        },
        "id": "3G2rh6itKVOV",
        "outputId": "9c801b36-70b7-4299-c948-ffb67be329e5"
      },
      "execution_count": 3,
      "outputs": [
        {
          "output_type": "stream",
          "name": "stdout",
          "text": [
            "Collecting ml-indie-tools\n",
            "  Downloading ml_indie_tools-0.0.18-py3-none-any.whl (25 kB)\n",
            "Installing collected packages: ml-indie-tools\n",
            "Successfully installed ml-indie-tools-0.0.18\n"
          ]
        }
      ]
    },
    {
      "cell_type": "code",
      "source": [
        "from ml_indie_tools.env_tools import MLEnv\n",
        "from ml_indie_tools.Gutenberg_Dataset import Gutenberg_Dataset\n",
        "from ml_indie_tools.Text_Dataset import Text_Dataset"
      ],
      "metadata": {
        "id": "KQAINcHlKev3"
      },
      "execution_count": 4,
      "outputs": []
    },
    {
      "cell_type": "markdown",
      "metadata": {
        "id": "eE-jm072kOKv"
      },
      "source": [
        "# 0. System configuration\n",
        "\n",
        "This notebook can either run on a local hardware, a jupyter server, or on Google Colab.\n",
        "\n",
        "This version of the notebook uses [ml-indie-tools](https://github.com/domschl/ml-indie-tools) to detect hardware, persistence handling, and access to training data. "
      ]
    },
    {
      "cell_type": "code",
      "metadata": {
        "id": "HVyGr-BCiJlR",
        "colab": {
          "base_uri": "https://localhost:8080/",
          "height": 36
        },
        "outputId": "b0d2b763-037b-4002-847d-4dc675f309c2"
      },
      "source": [
        "ml_env=MLEnv(platform='pt')  # use PyTorch\n",
        "ml_env.describe()"
      ],
      "execution_count": 5,
      "outputs": [
        {
          "output_type": "execute_result",
          "data": {
            "application/vnd.google.colaboratory.intrinsic+json": {
              "type": "string"
            },
            "text/plain": [
              "'OS: Linux, Python: 3.7.12, Colab Jupyter Notebook Pytorch: 1.10.0+cu111, GPU: Tesla P100-PCIE-16GB (2MiB / 16280MiB), CPU'"
            ]
          },
          "metadata": {},
          "execution_count": 5
        }
      ]
    },
    {
      "cell_type": "code",
      "metadata": {
        "id": "ply0tFmz4O1E",
        "outputId": "e0772c7d-18fa-44e6-9410-d3c5a43d03c7",
        "colab": {
          "base_uri": "https://localhost:8080/"
        }
      },
      "source": [
        "project_name='women_writers'\n",
        "model_name='lstm_v1'\n",
        "root_path, project_path, model_path, data_path, log_path = ml_env.init_paths(project_name=project_name, model_name=model_name)"
      ],
      "execution_count": 6,
      "outputs": [
        {
          "output_type": "stream",
          "name": "stdout",
          "text": [
            "Mounted at /content/drive\n"
          ]
        }
      ]
    },
    {
      "cell_type": "markdown",
      "metadata": {
        "id": "JoutSg5IUlot"
      },
      "source": [
        "# 1. Text data collection\n",
        "\n",
        "**Important note:** the following `project_name` determines the root directory for training data and model snapshots, so it should be changed whenever datasets of model configurations are changed."
      ]
    },
    {
      "cell_type": "markdown",
      "metadata": {
        "id": "KPkfXQbGjtp_"
      },
      "source": [
        "## 1.1 Project Gutenberg data source\n",
        "\n",
        "Search, filter, clean and download books from Project Gutenberg"
      ]
    },
    {
      "cell_type": "code",
      "metadata": {
        "id": "gz_LqFccjtqA"
      },
      "source": [
        "logging.basicConfig(level=logging.INFO)"
      ],
      "execution_count": 7,
      "outputs": []
    },
    {
      "cell_type": "code",
      "source": [
        "cache_dir = os.path.join(data_path, 'gutenberg_cache')\n",
        "gd = Gutenberg_Dataset(cache_dir=cache_dir)"
      ],
      "metadata": {
        "id": "0AQCjVinN-hN"
      },
      "execution_count": 8,
      "outputs": []
    },
    {
      "cell_type": "code",
      "metadata": {
        "id": "hrI3xSK7jtqL",
        "outputId": "fb573fda-7b5c-4749-9b63-b2cc124e5e8f",
        "colab": {
          "base_uri": "https://localhost:8080/"
        }
      },
      "source": [
        "# sample searches\n",
        "search_spec= {\"author\": [\"brontë\",\"Jane Austen\", \"Virginia Woolf\"], \"language\": [\"english\"]}\n",
        "\n",
        "book_list=gd.search(search_spec)\n",
        "book_cnt = len(book_list)\n",
        "print(f\"{book_cnt} matching books found with search {search_spec}.\")\n",
        "if book_cnt<40:\n",
        "    # Note: please verify that book_cnt is 'reasonable'. If you plan to use a large number of texts, \n",
        "    # consider [mirroring Gutenberg](https://github.com/domschl/ml-indie-tools#working-with-a-local-mirror-of-project-gutenberg)\n",
        "    book_list = gd.insert_book_texts(book_list, download_count_limit=book_cnt)  \n",
        "else:\n",
        "    logging.error(\"Please verify your book_list, a large number of books is scheduled for download. ABORTED.\")"
      ],
      "execution_count": 9,
      "outputs": [
        {
          "output_type": "stream",
          "name": "stderr",
          "text": [
            "WARNING:GutenbergLib:Index not loaded, trying to load...\n",
            "INFO:GutenbergLib:Gutenberg index read from local cache: /content/drive/My Drive/Colab Notebooks/women_writers/data/gutenberg_cache/gutenberg_index\n"
          ]
        },
        {
          "output_type": "stream",
          "name": "stdout",
          "text": [
            "25 matching books found with search {'author': ['brontë', 'Jane Austen', 'Virginia Woolf'], 'language': ['english']}.\n"
          ]
        },
        {
          "output_type": "stream",
          "name": "stderr",
          "text": [
            "INFO:GutenbergLib:Book read from cache at /content/drive/My Drive/Colab Notebooks/women_writers/data/gutenberg_cache/64457.txt\n",
            "INFO:GutenbergLib:Book read from cache at /content/drive/My Drive/Colab Notebooks/women_writers/data/gutenberg_cache/63022.txt\n",
            "INFO:GutenbergLib:Book read from cache at /content/drive/My Drive/Colab Notebooks/women_writers/data/gutenberg_cache/54066.txt\n",
            "INFO:GutenbergLib:Book read from cache at /content/drive/My Drive/Colab Notebooks/women_writers/data/gutenberg_cache/54012.txt\n",
            "INFO:GutenbergLib:Book read from cache at /content/drive/My Drive/Colab Notebooks/women_writers/data/gutenberg_cache/54011.txt\n",
            "INFO:GutenbergLib:Book read from cache at /content/drive/My Drive/Colab Notebooks/women_writers/data/gutenberg_cache/54010.txt\n",
            "INFO:GutenbergLib:Book read from cache at /content/drive/My Drive/Colab Notebooks/women_writers/data/gutenberg_cache/53747.txt\n",
            "WARNING:GutenbergLib:End-text is taking more than half of the book!\n",
            "INFO:GutenbergLib:Book read from cache at /content/drive/My Drive/Colab Notebooks/women_writers/data/gutenberg_cache/42671.txt\n",
            "INFO:GutenbergLib:Book read from cache at /content/drive/My Drive/Colab Notebooks/women_writers/data/gutenberg_cache/42078.txt\n",
            "WARNING:GutenbergLib:End-text is taking more than half of the book!\n",
            "INFO:GutenbergLib:Book read from cache at /content/drive/My Drive/Colab Notebooks/women_writers/data/gutenberg_cache/31100.txt\n",
            "INFO:GutenbergLib:Book read from cache at /content/drive/My Drive/Colab Notebooks/women_writers/data/gutenberg_cache/9182.txt\n",
            "INFO:GutenbergLib:Book read from cache at /content/drive/My Drive/Colab Notebooks/women_writers/data/gutenberg_cache/5670.txt\n",
            "INFO:GutenbergLib:Book read from cache at /content/drive/My Drive/Colab Notebooks/women_writers/data/gutenberg_cache/1342.txt\n",
            "INFO:GutenbergLib:Book read from cache at /content/drive/My Drive/Colab Notebooks/women_writers/data/gutenberg_cache/1245.txt\n",
            "INFO:GutenbergLib:Book read from cache at /content/drive/My Drive/Colab Notebooks/women_writers/data/gutenberg_cache/1212.txt\n",
            "INFO:GutenbergLib:Book read from cache at /content/drive/My Drive/Colab Notebooks/women_writers/data/gutenberg_cache/946.txt\n",
            "INFO:GutenbergLib:Book read from cache at /content/drive/My Drive/Colab Notebooks/women_writers/data/gutenberg_cache/771.txt\n",
            "INFO:GutenbergLib:Book read from cache at /content/drive/My Drive/Colab Notebooks/women_writers/data/gutenberg_cache/768.txt\n",
            "INFO:GutenbergLib:Book read from cache at /content/drive/My Drive/Colab Notebooks/women_writers/data/gutenberg_cache/767.txt\n",
            "INFO:GutenbergLib:Book read from cache at /content/drive/My Drive/Colab Notebooks/women_writers/data/gutenberg_cache/161.txt\n",
            "INFO:GutenbergLib:Book read from cache at /content/drive/My Drive/Colab Notebooks/women_writers/data/gutenberg_cache/158.txt\n",
            "INFO:GutenbergLib:Book read from cache at /content/drive/My Drive/Colab Notebooks/women_writers/data/gutenberg_cache/144.txt\n",
            "INFO:GutenbergLib:Book read from cache at /content/drive/My Drive/Colab Notebooks/women_writers/data/gutenberg_cache/141.txt\n",
            "INFO:GutenbergLib:Book read from cache at /content/drive/My Drive/Colab Notebooks/women_writers/data/gutenberg_cache/121.txt\n",
            "INFO:GutenbergLib:Book read from cache at /content/drive/My Drive/Colab Notebooks/women_writers/data/gutenberg_cache/105.txt\n"
          ]
        }
      ]
    },
    {
      "cell_type": "markdown",
      "metadata": {
        "id": "aXqlcaNajtqb"
      },
      "source": [
        "## 1.2 Text library\n",
        "\n",
        "`TextLibrary` class: text library for training, encoding, batch generation,\n",
        "and formatted source display. It read some books from Project Gutenberg\n",
        "and supports creation of training batches. The output functions support\n",
        "highlighting to allow to compare generated texts with the actual sources\n",
        "to help to identify identical (memorized) parts of a given length."
      ]
    },
    {
      "cell_type": "code",
      "metadata": {
        "id": "OTg4QFewsJdE",
        "outputId": "36c7df4c-1553-4ada-cceb-51a088d319d2",
        "colab": {
          "base_uri": "https://localhost:8080/"
        }
      },
      "source": [
        "td = Text_Dataset(book_list)"
      ],
      "execution_count": 10,
      "outputs": [
        {
          "output_type": "stream",
          "name": "stderr",
          "text": [
            "INFO:Datasets:Loaded 25 texts\n"
          ]
        }
      ]
    },
    {
      "cell_type": "code",
      "metadata": {
        "id": "DnVzaGoRhytj"
      },
      "source": [
        "class TextLibraryDataset(torch.utils.data.Dataset):\n",
        "    def __init__(self, text_dataset, sample_length, torch_device, text_stepping=10):\n",
        "        self.device=torch_device\n",
        "        self.text_length=0\n",
        "        full_text=\"\"\n",
        "        for text in text_dataset.text_list:\n",
        "            if 'text' in text:\n",
        "                full_text += text['text']\n",
        "        text_encode = text_dataset.encode(full_text, tokenizer='char')\n",
        "        self.text_length = len(text_encode)\n",
        "        self.vocab_size = len(text_dataset.i2c)\n",
        "        self.text_stepping=text_stepping\n",
        "        self.sample_length=sample_length\n",
        "        self.records=int((self.text_length-sample_length-1)/text_stepping)\n",
        "        self.data=torch.LongTensor(text_encode).to(self.device)\n",
        "        del text_encode\n",
        "        del full_text\n",
        "        \n",
        "    def __len__(self):\n",
        "        return self.records\n",
        "\n",
        "    def __getitem__(self, idx):\n",
        "        if torch.is_tensor(idx):\n",
        "            idx = idx.tolist()\n",
        "        if idx>=self.records:\n",
        "            return None\n",
        "        X=self.data[idx*self.text_stepping:idx*self.text_stepping+self.sample_length].to(self.device)\n",
        "        y=self.data[idx*self.text_stepping+1:idx*self.text_stepping+self.sample_length+1].to(self.device)\n",
        "        return X,y"
      ],
      "execution_count": 11,
      "outputs": []
    },
    {
      "cell_type": "markdown",
      "metadata": {
        "id": "zP0Hcs82lWYI"
      },
      "source": [
        "# 2. The deep LSTM model"
      ]
    },
    {
      "cell_type": "markdown",
      "metadata": {
        "id": "m_JWmbgPUlpG"
      },
      "source": [
        "## 2.2 The char-rnn model class"
      ]
    },
    {
      "cell_type": "code",
      "metadata": {
        "id": "NcsP8OYlUlpH"
      },
      "source": [
        "class Poet(nn.Module):\n",
        "    def __init__(self, input_size, hidden_size, num_layers, output_size, device):\n",
        "        super(Poet, self).__init__()\n",
        "        \n",
        "        self.hidden_size = hidden_size\n",
        "        self.num_layers = num_layers\n",
        "        self.output_size = output_size\n",
        "        self.device=device\n",
        "       \n",
        "        self.oh = torch.eye(input_size, device=self.device)\n",
        "        self.lstm = nn.LSTM(input_size=input_size, hidden_size=hidden_size, num_layers=num_layers, batch_first=True, dropout=0)\n",
        "        \n",
        "        self.demb = nn.Linear(hidden_size, output_size)\n",
        "        self.softmax = nn.Softmax(dim=-1)  # negative dims are a recent thing (as 2018-03), remove for old vers.\n",
        "    \n",
        "    def init_hidden(self, batch_size):\n",
        "        self.h0 = torch.zeros(self.num_layers, batch_size, self.hidden_size, device=self.device)\n",
        "        self.c0 = torch.zeros(self.num_layers, batch_size, self.hidden_size, device=self.device)\n",
        "\n",
        "    def forward(self, inputx, steps):\n",
        "        lstm_input=self.oh[inputx]\n",
        "        self.lstm.flatten_parameters()\n",
        "        hn, (self.h0, self.c0) = self.lstm(lstm_input, (self.h0, self.c0))\n",
        "        hnr = hn.contiguous().view(-1,self.hidden_size)\n",
        "        op = self.demb(hnr)\n",
        "        opr = op.view(-1, steps ,self.output_size)\n",
        "        return opr\n",
        "\n",
        "    def generate(self, n, start=None, temperature=1.0):\n",
        "        s=''\n",
        "        torch.set_grad_enabled(False)\n",
        "        if start==None or len(start)==0:\n",
        "            start=' '\n",
        "        self.init_hidden(1)\n",
        "        for c in start:\n",
        "            Xt=torch.LongTensor([[td.c2i[c]]])\n",
        "            ypl = self.forward(Xt,1)\n",
        "            ypl2 = ypl.view(-1,self.output_size)\n",
        "            if temperature>0.0:\n",
        "                ypl2 = ypl2 / temperature\n",
        "            yp = self.softmax(ypl2)\n",
        "        for i in range(n):\n",
        "            ypc=Tensor.cpu(yp.detach()) # .cpu()\n",
        "            y_pred=ypc.numpy()\n",
        "            inds=list(range(self.output_size))\n",
        "            ind = np.random.choice(inds, p=y_pred.ravel())\n",
        "            s=s+td.i2c[ind]\n",
        "            X=np.array([[ind]])\n",
        "            Xt=torch.LongTensor(X)\n",
        "            ypl = self.forward(Xt,1)\n",
        "            ypl2 = ypl.view(-1,self.output_size)\n",
        "            if temperature>0.0:\n",
        "                ypl2 = ypl2 / temperature\n",
        "            yp = self.softmax(ypl2)\n",
        "        torch.set_grad_enabled(True)\n",
        "        return s    "
      ],
      "execution_count": 12,
      "outputs": []
    },
    {
      "cell_type": "markdown",
      "metadata": {
        "id": "ymdU_wIWUlpK"
      },
      "source": [
        "## 2.3 Model instance"
      ]
    },
    {
      "cell_type": "code",
      "source": [
        "td.init_tokenizer('char')"
      ],
      "metadata": {
        "id": "oH-FX-KylhEa"
      },
      "execution_count": 13,
      "outputs": []
    },
    {
      "cell_type": "code",
      "source": [
        "model_params = {\n",
        "    \"model_name\": model_name,\n",
        "    \"vocab_size\": len(td.i2c),\n",
        "    \"neurons\": 512,\n",
        "    \"layers\": 6,\n",
        "    \"learning_rate\": 1e-4,\n",
        "    \"steps\": 80,\n",
        "    \"batch_size\": 768\n",
        "}"
      ],
      "metadata": {
        "id": "Pblj5uQLleqo"
      },
      "execution_count": 16,
      "outputs": []
    },
    {
      "cell_type": "code",
      "source": [
        "if ml_env.is_tpu:\n",
        "    # https://pytorch.org/xla/release/1.9/index.html\n",
        "    import torch_xla\n",
        "    import torch_xla.core.xla_model as xm\n",
        "    device=xm.xla_device()  # untested!\n",
        "    logging.warning('Multi-core not yet implemented!')\n",
        "elif ml_env.is_gpu:\n",
        "    device='cuda'\n",
        "else:\n",
        "    device='cpu'"
      ],
      "metadata": {
        "id": "Rwyg9BrLu3YE"
      },
      "execution_count": 17,
      "outputs": []
    },
    {
      "cell_type": "code",
      "metadata": {
        "id": "L7WuQ142UlpL"
      },
      "source": [
        "poet = Poet(model_params['vocab_size'], model_params['neurons'], model_params['layers'], model_params['vocab_size'], device).to(device)"
      ],
      "execution_count": 18,
      "outputs": []
    },
    {
      "cell_type": "markdown",
      "metadata": {
        "id": "FJp6Sjw6UlpP"
      },
      "source": [
        "## 2.4 Optimizer"
      ]
    },
    {
      "cell_type": "code",
      "metadata": {
        "id": "aeFxMxyuUlpQ"
      },
      "source": [
        "criterion = nn.CrossEntropyLoss()\n",
        "opti = torch.optim.Adam(poet.parameters(),lr=model_params['learning_rate']);"
      ],
      "execution_count": 19,
      "outputs": []
    },
    {
      "cell_type": "markdown",
      "metadata": {
        "id": "XtKdvxNymXpM"
      },
      "source": [
        "## 2.5 Helper Functions\n",
        "\n",
        "These allow to save or restore the training data. Saving and restoring can either be performed:\n",
        "\n",
        "* Jupyter: store/restore in a local directory,\n",
        "* Colab: store/restore on google drive. The training-code (using load_checkpoint()) will display an authentication url and code input-box in order to be able to access your google drive from this notebook. This allows to continue training sessions (or inference) after the Colab session was terminated."
      ]
    },
    {
      "cell_type": "code",
      "metadata": {
        "id": "BfmdQ6zCMy2L"
      },
      "source": [
        "# snapshot_path=os.path.join(model_path, 'Snapshots')\n",
        "# os.makedirs(snapshot_path, exist_ok=True)"
      ],
      "execution_count": 25,
      "outputs": []
    },
    {
      "cell_type": "code",
      "metadata": {
        "id": "QebezmDgsJdh"
      },
      "source": [
        "with open(os.path.join(model_path,'model_params.json'),'w') as f:\n",
        "    json.dump(model_params,f,indent=4)"
      ],
      "execution_count": 26,
      "outputs": []
    },
    {
      "cell_type": "code",
      "metadata": {
        "id": "T3v82UHQsJdj"
      },
      "source": [
        "def save_checkpoint(epoch, loss, pr, best_pr, filename='checkpoint.pth.tar'):\n",
        "    state={\n",
        "            'epoch': epoch,\n",
        "            'model_config': model_params,\n",
        "            'state_dict': poet.state_dict(),\n",
        "            'optimizer' : opti.state_dict(),\n",
        "            'precision': pr,\n",
        "            'loss': loss,\n",
        "        }\n",
        "    save_file=os.path.join(model_path, filename)\n",
        "    best_file=os.path.join(model_path,'model_best.pth.tar')\n",
        "    torch.save(state, save_file)\n",
        "    if pr >= best_pr:\n",
        "        shutil.copyfile(save_file, best_file )\n",
        "        print(f\"Saved best precision model, prec={pr:.3f}\")\n",
        "    else:\n",
        "        print(f\"Saved last model data, prec={pr:.3f}\")\n",
        "\n",
        "def save_history(history, filename=\"history.json\"):\n",
        "    save_file=os.path.join(model_path,filename)\n",
        "    try:\n",
        "        with open(save_file, 'w') as f:\n",
        "            json.dump(history, f)\n",
        "    except Exception as e:\n",
        "        print(f\"Failed to write training history file {save_file}, {e}\")\n",
        "\n",
        "def load_history(filename=\"history.json\"):\n",
        "    load_file=os.path.join(model_path,filename)\n",
        "    try:\n",
        "        with open(load_file, 'r') as f:\n",
        "            history=json.load(f)\n",
        "    except Exception as e:\n",
        "        print(f\"Starting new history file {load_file}\")\n",
        "        return [], time.time()\n",
        "    if len(history)>0:\n",
        "        start=history[-1][\"timestamp\"]\n",
        "    return history, start\n",
        "\n",
        "def load_checkpoint(filename='checkpoint.pth.tar'):\n",
        "    load_file=os.path.join(model_path,filename)\n",
        "    if not os.path.exists(load_file):\n",
        "        print(load_file)\n",
        "        print(\"No saved state, starting from scratch.\")\n",
        "        return 0,0\n",
        "    state=torch.load(load_file)\n",
        "    mod_conf = state['model_config']\n",
        "    for param in ['model_name', 'learning_rate', 'batch_size']:\n",
        "        if mod_conf[param]!=model_params[param]:\n",
        "            print(f\"Warning: project {param} has changed from {mod_conf[param]} to {model_params[param]}\")\n",
        "            mod_conf[param]=model_params[param]\n",
        "    if model_params!=mod_conf:\n",
        "        print(f\"The saved model has an incompatible configuration than the current model: {mod_conf} vs. {model_params}\")\n",
        "        print(\"Cannot restore state, starting from scratch.\")\n",
        "        return 0,0\n",
        "    poet.load_state_dict(state['state_dict'])\n",
        "    opti.load_state_dict(state['optimizer'])\n",
        "    epoch = state['epoch']\n",
        "    loss = state['loss']\n",
        "    best_pr = state['precision']\n",
        "    print(f\"Continuing from saved state epoch={epoch+1}, loss={loss:.3f}\")  # Save is not necessarily on epoch boundary, so that's approx.\n",
        "    return epoch,loss"
      ],
      "execution_count": 27,
      "outputs": []
    },
    {
      "cell_type": "markdown",
      "metadata": {
        "id": "a_-ISha4nqhy"
      },
      "source": [
        "# 3. Training\n",
        "\n",
        "If there is already saved training data, this step is optional, and alternatively, ch. 4 can be continued."
      ]
    },
    {
      "cell_type": "markdown",
      "metadata": {
        "id": "9KDRpEm0n7B-"
      },
      "source": [
        "## 3.1 Training helpers"
      ]
    },
    {
      "cell_type": "code",
      "metadata": {
        "id": "_pZlsZ1Pnm5Z"
      },
      "source": [
        "def torch_data_loader(batch_size, sample_length, device):\n",
        "    textlib_dataset=TextLibraryDataset(td, sample_length, device)\n",
        "    data_loader=torch.utils.data.DataLoader(textlib_dataset,batch_size=batch_size, shuffle=True, num_workers=0)\n",
        "    return data_loader\n",
        "\n",
        "# Get one sample:\n",
        "# X, y = next(iter(data_loader))\n",
        "\n",
        "def precision(y, yp):\n",
        "    return (torch.sum(yp==y)/float((y.size()[0]*y.size()[1]))).item()\n",
        "\n",
        "def train(Xt, yt):\n",
        "    poet.zero_grad()\n",
        "\n",
        "    poet.init_hidden(Xt.size(0))\n",
        "    output = poet(Xt, model_params['steps'])\n",
        "    \n",
        "    olin=output.view(-1,model_params['vocab_size'])\n",
        "    _, ytp=torch.max(output,2)\n",
        "    ytlin=yt.view(-1)\n",
        "\n",
        "    pr=precision(yt,ytp)\n",
        "            \n",
        "    loss = criterion(olin, ytlin)\n",
        "    ls = loss.item()\n",
        "    loss.backward()\n",
        "    opti.step()\n",
        "\n",
        "    return ls, pr"
      ],
      "execution_count": 28,
      "outputs": []
    },
    {
      "cell_type": "markdown",
      "metadata": {
        "id": "KC36hNRKUlpU"
      },
      "source": [
        "## 3.2 The actual training loop"
      ]
    },
    {
      "cell_type": "code",
      "metadata": {
        "id": "q9-3GUQ4UlpV",
        "scrolled": true,
        "outputId": "d7802f09-e7d2-409f-d5a2-3bbd81f381df",
        "colab": {
          "base_uri": "https://localhost:8080/",
          "height": 1000
        }
      },
      "source": [
        "use_dark_mode=False\n",
        "ls=0\n",
        "nr=0\n",
        "prs=0\n",
        "# torch.cuda.empty_cache()\n",
        "epoch_start, _ = load_checkpoint()\n",
        "history, start_time = load_history()\n",
        "pr=0.0\n",
        "best_pr=0.0\n",
        "\n",
        "data_loader=torch_data_loader(model_params['batch_size'], model_params['steps'], device)\n",
        "    \n",
        "# Make a snapshot of the trained parameters every snapshot_interval_sec\n",
        "snapshot_interval_sec=180\n",
        "# Generate text samples every sample_intervall_sec\n",
        "sample_interval_sec=600\n",
        "\n",
        "last_snapshot=time.time()\n",
        "last_sample=time.time()\n",
        "\n",
        "bench_all=0\n",
        "bench_data=0\n",
        "bench_train=0\n",
        "bench_sample=0\n",
        "bench_snapshot=0\n",
        "bench_output_times=3  # Give 3 benchmark outputs, then stop (it stays more or less same)\n",
        "sample_train_time=0\n",
        "\n",
        "for e in range(epoch_start,2500000):\n",
        "    t1=time.time()\n",
        "    t0=time.time()\n",
        "    for Xi,yi in data_loader:\n",
        "        t2=time.time()\n",
        "        # this cannot be done in data_loader, if multiprocessing is used :-/\n",
        "        Xt=Xi #.to(device)\n",
        "        yt=yi #.to(device)\n",
        "        \n",
        "        Xt.requires_grad_(False)\n",
        "        yt.requires_grad_(False)\n",
        "\n",
        "        bench_data += time.time()-t1\n",
        "        t1=time.time()\n",
        "        l, pr = train(Xt,yt)\n",
        "        bench_train += time.time()-t1\n",
        "\n",
        "        ls=ls+l\n",
        "        prs=prs+pr\n",
        "        nr=nr+1\n",
        "        cur_loss=ls/nr\n",
        "        cur_pr=prs/nr\n",
        "        if time.time()-last_snapshot > snapshot_interval_sec:\n",
        "            t1=time.time()\n",
        "            nr=0\n",
        "            ls=0\n",
        "            prs=0\n",
        "            if cur_pr>best_pr:\n",
        "                best_pr=cur_pr\n",
        "            last_snapshot=time.time()\n",
        "            print(f\"Epoch {e+1} Loss: {cur_loss:.3f} Precision: {cur_pr:.3f} Time/Sample: {sample_train_time:.6f} sec/sample\")\n",
        "            save_checkpoint(e,cur_loss,cur_pr, best_pr)\n",
        "            # if use_cuda:\n",
        "            #     print(f\"Cuda memory allocated: {torch.cuda.memory_allocated()} max_alloc: {torch.cuda.max_memory_allocated()} cached: {torch.cuda.memory_cached()} max_cached: {torch.cuda.max_memory_cached()}\")\n",
        "            hist={\"epoch\": e+1, \"loss\": cur_loss, \"precision\": cur_pr, \"timestamp\": time.time()-start_time}\n",
        "            history.append(hist)\n",
        "            save_history(history)\n",
        "            bench_snapshot+=time.time()-t1\n",
        "\n",
        "            if bench_all > 0 and bench_output_times>0:\n",
        "                bd=bench_data/bench_all*100.0\n",
        "                bt=bench_train/bench_all*100.0\n",
        "                bs=bench_sample/bench_all*100.0\n",
        "                bss=bench_snapshot/bench_all*100.0\n",
        "                bo=(bench_all-bench_data-bench_train-bench_sample-bench_snapshot)/bench_all*100.0\n",
        "                print(f\"Profiling: data-loading: {bd:.2f}%, training: {bt:.2f}%, sample gen: {bs:.2f}%, snapshots: {bss:.2f}%\", end=\"\")\n",
        "                bench_output_times = bench_output_times - 1\n",
        "                if bench_output_times == 0:\n",
        "                    print(f\" | Profiling finished.\")\n",
        "                else:\n",
        "                    print()\n",
        "\n",
        "                \n",
        "        sample_train_time=(time.time()-t2)/len(Xt)\n",
        "\n",
        "        if time.time()-last_sample > sample_interval_sec and cur_loss<1.5:\n",
        "            t1=time.time()\n",
        "            last_sample=time.time()\n",
        "            for temperature in [0.6, 0.7, 0.8]:\n",
        "                print(f\"Temperature {temperature}:\")\n",
        "                tgen=poet.generate(700,\". \", temperature=temperature)\n",
        "                td.source_highlight(tgen,min_quote_size=10,dark_mode=use_dark_mode,display_ref_anchor=False)\n",
        "            bench_sample+=time.time()-t1\n",
        "        t1=time.time()\n",
        "        bench_all+=time.time()-t0\n",
        "        t0=time.time()\n"
      ],
      "execution_count": 29,
      "outputs": [
        {
          "output_type": "stream",
          "name": "stdout",
          "text": [
            "/content/drive/My Drive/Colab Notebooks/women_writers/model/lstm_v1/checkpoint.pth.tar\n",
            "No saved state, starting from scratch.\n",
            "Starting new history file /content/drive/My Drive/Colab Notebooks/women_writers/model/lstm_v1/history.json\n",
            "Epoch 1 Loss: 3.272 Precision: 0.174 Time/Sample: 0.000761 sec/sample\n",
            "Saved best precision model, prec=0.174\n",
            "Profiling: data-loading: 1.27%, training: 99.06%, sample gen: 0.00%, snapshots: 1.01%, overhead: -1.34%\n",
            "Epoch 1 Loss: 3.056 Precision: 0.179 Time/Sample: 0.000761 sec/sample\n",
            "Saved best precision model, prec=0.179\n",
            "Profiling: data-loading: 1.24%, training: 98.42%, sample gen: 0.00%, snapshots: 0.93%, overhead: -0.59%\n",
            "Epoch 1 Loss: 3.054 Precision: 0.179 Time/Sample: 0.000760 sec/sample\n",
            "Saved last model data, prec=0.179\n",
            "Profiling: data-loading: 1.24%, training: 98.24%, sample gen: 0.00%, snapshots: 0.78%, overhead: -0.26%\n",
            "Epoch 1 Loss: 3.053 Precision: 0.179 Time/Sample: 0.000764 sec/sample\n",
            "Saved best precision model, prec=0.179\n",
            "Profiling: data-loading: 1.23%, training: 98.26%, sample gen: 0.00%, snapshots: 0.80%, overhead: -0.30%\n",
            "Epoch 1 Loss: 3.053 Precision: 0.178 Time/Sample: 0.000762 sec/sample\n",
            "Saved last model data, prec=0.178\n",
            "Profiling: data-loading: 1.24%, training: 98.19%, sample gen: 0.00%, snapshots: 0.74%, overhead: -0.16%\n",
            "Epoch 1 Loss: 3.053 Precision: 0.179 Time/Sample: 0.000760 sec/sample\n",
            "Saved last model data, prec=0.179\n",
            "Profiling: data-loading: 1.23%, training: 98.21%, sample gen: 0.00%, snapshots: 0.69%, overhead: -0.13%\n",
            "Epoch 2 Loss: 3.053 Precision: 0.179 Time/Sample: 0.000759 sec/sample\n",
            "Saved last model data, prec=0.179\n",
            "Profiling: data-loading: 1.24%, training: 98.21%, sample gen: 0.00%, snapshots: 0.66%, overhead: -0.11%\n",
            "Epoch 2 Loss: 3.053 Precision: 0.179 Time/Sample: 0.000759 sec/sample\n",
            "Saved last model data, prec=0.179\n",
            "Profiling: data-loading: 1.24%, training: 98.22%, sample gen: 0.00%, snapshots: 0.63%, overhead: -0.10%\n",
            "Epoch 2 Loss: 3.052 Precision: 0.179 Time/Sample: 0.000759 sec/sample\n",
            "Saved best precision model, prec=0.179\n",
            "Profiling: data-loading: 1.24%, training: 98.22%, sample gen: 0.00%, snapshots: 0.66%, overhead: -0.13%\n",
            "Epoch 2 Loss: 3.052 Precision: 0.179 Time/Sample: 0.000754 sec/sample\n",
            "Saved best precision model, prec=0.179\n",
            "Profiling: data-loading: 1.24%, training: 98.19%, sample gen: 0.00%, snapshots: 0.68%, overhead: -0.12%\n",
            "Epoch 2 Loss: 3.051 Precision: 0.179 Time/Sample: 0.000761 sec/sample\n",
            "Saved best precision model, prec=0.179\n",
            "Epoch 2 Loss: 3.050 Precision: 0.179 Time/Sample: 0.000761 sec/sample\n",
            "Saved best precision model, prec=0.179\n",
            "Epoch 3 Loss: 3.049 Precision: 0.180 Time/Sample: 0.000760 sec/sample\n",
            "Saved best precision model, prec=0.180\n",
            "Epoch 3 Loss: 2.935 Precision: 0.201 Time/Sample: 0.000761 sec/sample\n",
            "Saved best precision model, prec=0.201\n",
            "Epoch 3 Loss: 2.446 Precision: 0.309 Time/Sample: 0.000761 sec/sample\n",
            "Saved best precision model, prec=0.309\n",
            "Epoch 3 Loss: 2.260 Precision: 0.352 Time/Sample: 0.000764 sec/sample\n",
            "Saved best precision model, prec=0.352\n",
            "Epoch 3 Loss: 2.143 Precision: 0.382 Time/Sample: 0.000760 sec/sample\n",
            "Saved best precision model, prec=0.382\n",
            "Epoch 3 Loss: 2.057 Precision: 0.404 Time/Sample: 0.000761 sec/sample\n",
            "Saved best precision model, prec=0.404\n",
            "Epoch 4 Loss: 1.984 Precision: 0.423 Time/Sample: 0.000762 sec/sample\n",
            "Saved best precision model, prec=0.423\n",
            "Epoch 4 Loss: 1.923 Precision: 0.441 Time/Sample: 0.000761 sec/sample\n",
            "Saved best precision model, prec=0.441\n",
            "Epoch 4 Loss: 1.868 Precision: 0.454 Time/Sample: 0.000762 sec/sample\n",
            "Saved best precision model, prec=0.454\n",
            "Epoch 4 Loss: 1.822 Precision: 0.467 Time/Sample: 0.000765 sec/sample\n",
            "Saved best precision model, prec=0.467\n",
            "Epoch 4 Loss: 1.779 Precision: 0.479 Time/Sample: 0.000761 sec/sample\n",
            "Saved best precision model, prec=0.479\n",
            "Epoch 4 Loss: 1.741 Precision: 0.490 Time/Sample: 0.000760 sec/sample\n",
            "Saved best precision model, prec=0.490\n",
            "Epoch 4 Loss: 1.705 Precision: 0.500 Time/Sample: 0.000761 sec/sample\n",
            "Saved best precision model, prec=0.500\n",
            "Epoch 5 Loss: 1.674 Precision: 0.509 Time/Sample: 0.000760 sec/sample\n",
            "Saved best precision model, prec=0.509\n",
            "Epoch 5 Loss: 1.643 Precision: 0.518 Time/Sample: 0.000765 sec/sample\n",
            "Saved best precision model, prec=0.518\n",
            "Epoch 5 Loss: 1.618 Precision: 0.525 Time/Sample: 0.000759 sec/sample\n",
            "Saved best precision model, prec=0.525\n",
            "Epoch 5 Loss: 1.593 Precision: 0.532 Time/Sample: 0.000762 sec/sample\n",
            "Saved best precision model, prec=0.532\n",
            "Epoch 5 Loss: 1.570 Precision: 0.538 Time/Sample: 0.000760 sec/sample\n",
            "Saved best precision model, prec=0.538\n",
            "Epoch 5 Loss: 1.547 Precision: 0.544 Time/Sample: 0.000763 sec/sample\n",
            "Saved best precision model, prec=0.544\n",
            "Epoch 6 Loss: 1.528 Precision: 0.549 Time/Sample: 0.000762 sec/sample\n",
            "Saved best precision model, prec=0.549\n",
            "Epoch 6 Loss: 1.509 Precision: 0.554 Time/Sample: 0.000760 sec/sample\n",
            "Saved best precision model, prec=0.554\n",
            "Temperature 0.6:\n"
          ]
        },
        {
          "output_type": "display_data",
          "data": {
            "text/html": [
              "<span style=\"background-color:#eadbd8;\">Elizabeth was wa</span>s so lace to ins<span style=\"background-color:#d0ece7;\">one. But it </span><span style=\"background-color:#eadbd8;\">was another </span><span style=\"background-color:#d6dbdf;\">minds, and </span>the pers<span style=\"background-color:#d4e6f1;\">union of the </span>piving even so an ext<span style=\"background-color:#d6dbdf;\">ustering of</span><span style=\"background-color:#eadbd8;\"> his absence of </span>the ret<span style=\"background-color:#d8daef;\">itness of </span>a<span style=\"background-color:#eadbd8;\"> head this </span>ins<span style=\"background-color:#d4e6f1;\">ingering and </span>her garis<span style=\"background-color:#d0ece7;\">her of his </span><span style=\"background-color:#eadbd8;\">father had been </span><span style=\"background-color:#fdebd0;\">from a letter </span>with a<span style=\"background-color:#d0ece7;\"> seemed of </span>d<span style=\"background-color:#ecf3cf;\">inding that th</span><span style=\"background-color:#d8daef;\">e most care</span>nt had hear<span style=\"background-color:#d0ece7;\">t her mind co</span>mmand. H<span style=\"background-color:#d0ece7;\">e for her f</span><span style=\"background-color:#d0ece7;\">or which n</span>ea<span style=\"background-color:#d0ece7;\">r her comp</span><span style=\"background-color:#eadbd8;\">ersation, and re</span><span style=\"background-color:#eadbd8;\">ading the w</span><span style=\"background-color:#d4e6f1;\">orld of it</span><span style=\"background-color:#d4e6f1;\"> to hear that it</span><span style=\"background-color:#edebd0;\">, when he was no</span><span style=\"background-color:#f6ddcc;\">t see to the </span>forfen of a for<span style=\"background-color:#ecf3cf;\">ing of great </span>res<span style=\"background-color:#d4e6f1;\">urning from h</span>is so<span style=\"background-color:#eadbd8;\">mity of the </span>pe<span style=\"background-color:#d4e6f1;\">ing of his a</span><span style=\"background-color:#d4e6f1;\">greeable in the </span>conc<span style=\"background-color:#eadbd8;\">ertation o</span>f the<span style=\"background-color:#d6dbdf;\"> tried for </span>a convult<span style=\"background-color:#f6ddcc;\"> of names </span><span style=\"background-color:#eadbd8;\">of his face w</span><span style=\"background-color:#eadbd8;\">hich had been s</span><span style=\"background-color:#d8daef;\">ere of the </span><span style=\"background-color:#d4e6f1;\">girl of her </span>mother su<span style=\"background-color:#eadbd8;\">st the car</span><span style=\"background-color:#eadbd8;\">riage for h</span>is desparis<span style=\"background-color:#d4e6f1;\">y on her li</span>f<span style=\"background-color:#fdebd0;\">e. And the m</span><span style=\"background-color:#d4e6f1;\">ost of his </span>hard the poi"
            ],
            "text/plain": [
              "<IPython.core.display.HTML object>"
            ]
          },
          "metadata": {}
        },
        {
          "output_type": "display_data",
          "data": {
            "text/html": [
              "<small><p style=\"text-align:right;\">Sources: <span style=\"background-color:#eadbd8;\">Catherine Anne Austen Hubback and Jane Austen: The Younger Sister, Volumes 1-3</span>, <span style=\"background-color:#d0ece7;\">Jane Austen: Pride and Prejudice</span>, <span style=\"background-color:#d6dbdf;\">Charlotte Brontë: Villette</span>, <span style=\"background-color:#d4e6f1;\">Jane Austen: The Complete Project Gutenberg Works of Jane Austen</span>, <span style=\"background-color:#d8daef;\">Virginia Woolf: The Common Reader</span>, <span style=\"background-color:#fdebd0;\">Virginia Woolf: Night and Day</span>, <span style=\"background-color:#ecf3cf;\">Virginia Woolf: The Voyage Out</span>, <span style=\"background-color:#edebd0;\">Jane Austen: Emma</span>, <span style=\"background-color:#f6ddcc;\">Virginia Woolf: Jacob's Room</span>, <span style=\"background-color:#eadbd8;\">Anne Brontë: Agnes Grey</span></p></small>"
            ],
            "text/plain": [
              "<IPython.core.display.HTML object>"
            ]
          },
          "metadata": {}
        },
        {
          "output_type": "stream",
          "name": "stdout",
          "text": [
            "Temperature 0.7:\n"
          ]
        },
        {
          "output_type": "display_data",
          "data": {
            "text/html": [
              "<span style=\"background-color:#d4e6f1;\">She could not be </span>in c<span style=\"background-color:#fdebd0;\">ure of our </span>cont<span style=\"background-color:#d8daef;\">rection of </span>i<span style=\"background-color:#ebdef0;\">ntilation </span><span style=\"background-color:#fae5d3;\">of the disco</span>rar<span style=\"background-color:#d0ece7;\">ce, and was s</span><span style=\"background-color:#d4e6f1;\">hall only </span>consed, ec<span style=\"background-color:#eadbd8;\">paring the se</span>l<span style=\"background-color:#d4e6f1;\">sition of a</span>tti<span style=\"background-color:#d0ece7;\">cted. He was </span><span style=\"background-color:#e5e8e8;\">not which r</span>ornied becoves, forf<span style=\"background-color:#d8daef;\">and, they s</span>o dowt<span style=\"background-color:#e2d7d5;\">ibe to her </span>a flrongent de<span style=\"background-color:#d8daef;\">cles, and </span><span style=\"background-color:#d4e6f1;\">of his being al</span>e eact<span style=\"background-color:#eadbd8;\">t, and he was </span>a j<span style=\"background-color:#fdebd0;\">ittle every d</span><span style=\"background-color:#d4e6f1;\">eal of its be</span>i<span style=\"background-color:#d8daef;\">ng as one </span>of his<span style=\"background-color:#d4e6f1;\"> as of their </span><span style=\"background-color:#eadbd8;\">finding the </span>girl<span style=\"background-color:#d6dbdf;\">, on his h</span>eart recu<span style=\"background-color:#d8daef;\">ined with </span>le<span style=\"background-color:#d4efdf;\">ttering he</span>r in m<span style=\"background-color:#d8daef;\">o from the m</span>oring a<span style=\"background-color:#d0ece7;\">pain; but </span><span style=\"background-color:#d4e6f1;\">she was alt</span>ays notg<span style=\"background-color:#eadbd8;\">and meeting </span>to gen<span style=\"background-color:#eadbd8;\">l herself, </span><span style=\"background-color:#eadbd8;\">I should be to </span>have I deag her are ore besore it b<span style=\"background-color:#d8daef;\">ester and </span><span style=\"background-color:#d4e6f1;\">all the pro</span>wer noth Oln<span style=\"background-color:#fdebd0;\">enness of the </span><span style=\"background-color:#d0ece7;\">pauses and</span><span style=\"background-color:#d6dbdf;\">, but the pr</span><span style=\"background-color:#d6dbdf;\">ied to it </span>her convif<span style=\"background-color:#eadbd8;\">tion. But a</span>t the larnic<span style=\"background-color:#d4e6f1;\"> days and </span>persunitun<span style=\"background-color:#d4e6f1;\">ly and deep</span><span style=\"background-color:#eadbd8;\">ed himself. </span><span style=\"background-color:#f6ddcc;\">Mrs. William</span><span style=\"background-color:#d0ece7;\"> had not happ</span>ine sh"
            ],
            "text/plain": [
              "<IPython.core.display.HTML object>"
            ]
          },
          "metadata": {}
        },
        {
          "output_type": "display_data",
          "data": {
            "text/html": [
              "<small><p style=\"text-align:right;\">Sources: <span style=\"background-color:#d4e6f1;\">Jane Austen: The Complete Project Gutenberg Works of Jane Austen</span>, <span style=\"background-color:#fdebd0;\">Virginia Woolf: Night and Day</span>, <span style=\"background-color:#d8daef;\">Virginia Woolf: The Common Reader</span>, <span style=\"background-color:#ebdef0;\">Emily Brontë: Wuthering Heights</span>, <span style=\"background-color:#fae5d3;\">Jane Austen: Pride and Prejudice</span>, <span style=\"background-color:#d0ece7;\">Jane Austen: Pride and Prejudice</span>, <span style=\"background-color:#eadbd8;\">Catherine Anne Austen Hubback and Jane Austen: The Younger Sister, Volumes 1-3</span>, <span style=\"background-color:#e5e8e8;\">Jane Austen: Love And Friendship And Other Early Works</span>, <span style=\"background-color:#e2d7d5;\">Jane Austen: Sense and Sensibility</span>, <span style=\"background-color:#d6dbdf;\">Charlotte Brontë: Villette</span>, <span style=\"background-color:#d4efdf;\">Charlotte Brontë: Richard Coeur de Lion and Blondel</span>, <span style=\"background-color:#f6ddcc;\">Virginia Woolf: Jacob's Room</span></p></small>"
            ],
            "text/plain": [
              "<IPython.core.display.HTML object>"
            ]
          },
          "metadata": {}
        },
        {
          "output_type": "stream",
          "name": "stdout",
          "text": [
            "Temperature 0.8:\n"
          ]
        },
        {
          "output_type": "display_data",
          "data": {
            "text/html": [
              "<span style=\"background-color:#eadbd8;\">But to be re</span>ad<span style=\"background-color:#f6ddcc;\">ed it, as sh</span><span style=\"background-color:#d4e6f1;\">ose which she </span>pl<span style=\"background-color:#eadbd8;\">esently after</span><span style=\"background-color:#d0ece7;\"> his brother was</span> aster<span style=\"background-color:#d4e6f1;\">tion for Mr. </span>Ceely sittas<span style=\"background-color:#d0ece7;\">ions might ha</span>te b<span style=\"background-color:#d0ece7;\">e how her </span>upun<span style=\"background-color:#eadbd8;\">led to her</span>self<span style=\"background-color:#fdebd0;\"> his position, </span>and sayd a sparc<span style=\"background-color:#d4e6f1;\">e coming and </span>darkt resw pe<span style=\"background-color:#d4e6f1;\">rmer, but </span><span style=\"background-color:#d4e6f1;\">the looking</span> disit of Wonfe<span style=\"background-color:#eadbd8;\">d come and </span><span style=\"background-color:#fdebd0;\">Katharine and </span>should—<span style=\"background-color:#ecf3cf;\">could see by the </span>Doatien<span style=\"background-color:#f6ddcc;\"> at street </span>necessibess suppor<span style=\"background-color:#fdebd0;\">ed, as the w</span>as wr<span style=\"background-color:#d4e6f1;\">athing for </span><span style=\"background-color:#d8daef;\">a mind and </span>the tome<span style=\"background-color:#d8daef;\"> to book o</span>f the that, a<span style=\"background-color:#d4e6f1;\">f other th</span><span style=\"background-color:#d0ece7;\">eir exceeding</span><span style=\"background-color:#d8daef;\">less and a</span>pu<span style=\"background-color:#d4e6f1;\">ination to be </span>very age toub<span style=\"background-color:#fdebd0;\">tly than s</span><span style=\"background-color:#d4e6f1;\">o much as s</span>uch a fiving mumk and tee s<span style=\"background-color:#fdebd0;\">o home and </span>mone perso<span style=\"background-color:#e2d7d5;\">sity would </span><span style=\"background-color:#eadbd8;\">not out of </span>a prun<span style=\"background-color:#fae5d3;\">ion as an </span><span style=\"background-color:#eadbd8;\">the manner of h</span><span style=\"background-color:#d4e6f1;\">is should b</span><span style=\"background-color:#fdebd0;\">ling her mo</span>nte<span style=\"background-color:#d4efdf;\">ms and Mrs. </span>Wol<span style=\"background-color:#d4e6f1;\">ting and p</span>i<span style=\"background-color:#f6ddcc;\">till, and p</span>ir<span style=\"background-color:#d4e6f1;\">ch I was p</span>ivemuned to astent MyiEdbart Mrxdow wwonled who"
            ],
            "text/plain": [
              "<IPython.core.display.HTML object>"
            ]
          },
          "metadata": {}
        },
        {
          "output_type": "display_data",
          "data": {
            "text/html": [
              "<small><p style=\"text-align:right;\">Sources: <span style=\"background-color:#eadbd8;\">Anne Brontë: Agnes Grey</span>, <span style=\"background-color:#f6ddcc;\">Virginia Woolf: Jacob's Room</span>, <span style=\"background-color:#d4e6f1;\">Jane Austen: The Complete Project Gutenberg Works of Jane Austen</span>, <span style=\"background-color:#eadbd8;\">Catherine Anne Austen Hubback and Jane Austen: The Younger Sister, Volumes 1-3</span>, <span style=\"background-color:#d0ece7;\">Jane Austen: Pride and Prejudice</span>, <span style=\"background-color:#fdebd0;\">Virginia Woolf: Night and Day</span>, <span style=\"background-color:#ecf3cf;\">Virginia Woolf: The Voyage Out</span>, <span style=\"background-color:#d8daef;\">Virginia Woolf: The Common Reader</span>, <span style=\"background-color:#e2d7d5;\">Jane Austen: Sense and Sensibility</span>, <span style=\"background-color:#fae5d3;\">Jane Austen: Pride and Prejudice</span>, <span style=\"background-color:#d4efdf;\">Jane Austen: Mansfield Park</span></p></small>"
            ],
            "text/plain": [
              "<IPython.core.display.HTML object>"
            ]
          },
          "metadata": {}
        },
        {
          "output_type": "stream",
          "name": "stdout",
          "text": [
            "Epoch 6 Loss: 1.494 Precision: 0.558 Time/Sample: 0.000760 sec/sample\n",
            "Saved best precision model, prec=0.558\n",
            "Epoch 6 Loss: 1.479 Precision: 0.562 Time/Sample: 0.000761 sec/sample\n",
            "Saved best precision model, prec=0.562\n",
            "Epoch 6 Loss: 1.464 Precision: 0.567 Time/Sample: 0.000759 sec/sample\n",
            "Saved best precision model, prec=0.567\n",
            "Temperature 0.6:\n"
          ]
        },
        {
          "output_type": "display_data",
          "data": {
            "text/html": [
              "The as<span style=\"background-color:#d0ece7;\">tentions of the </span>past<span style=\"background-color:#fae5d3;\">er’s pleasa</span><span style=\"background-color:#d8daef;\">ress in the </span>diston<span style=\"background-color:#eadbd8;\">th of the co</span>ntuctt<span style=\"background-color:#d4e6f1;\">s were such a </span>br<span style=\"background-color:#d8daef;\">ower, the </span>expraime<span style=\"background-color:#d0ece7;\">d was so much </span><span style=\"background-color:#d4e6f1;\">of it to be </span>w<span style=\"background-color:#e2d7d5;\">e account th</span>e<span style=\"background-color:#ecf3cf;\">m the little </span>procises of sunlec<span style=\"background-color:#d6dbdf;\">t was in se</span><span style=\"background-color:#d4e6f1;\">emed to say th</span>e sharl<span style=\"background-color:#d4e6f1;\"> point she was </span><span style=\"background-color:#d4e6f1;\">more again</span><span style=\"background-color:#d0ece7;\">, and then they were </span><span style=\"background-color:#d4e6f1;\">not former</span><span style=\"background-color:#d4e6f1;\"> to have a co</span><span style=\"background-color:#fdebd0;\">urse of me</span><span style=\"background-color:#ecf3cf;\">h and such a thing</span> of cirtbe<span style=\"background-color:#d8daef;\">n and all the </span>par<span style=\"background-color:#fae5d3;\">tions her </span><span style=\"background-color:#eadbd8;\">mother thought </span><span style=\"background-color:#eadbd8;\">were such a </span>ch<span style=\"background-color:#d4e6f1;\">ind was all </span>the far<span style=\"background-color:#fdebd0;\">ten and the </span><span style=\"background-color:#d6dbdf;\">most thought </span><span style=\"background-color:#d0ece7;\">of a long </span><span style=\"background-color:#d8daef;\">father as </span><span style=\"background-color:#fae5d3;\">it to be a most </span><span style=\"background-color:#d8daef;\">of the past</span>er<span style=\"background-color:#d4e6f1;\"> for a general </span><span style=\"background-color:#d6dbdf;\">remark, he </span><span style=\"background-color:#d4e6f1;\">could not be su</span>c<span style=\"background-color:#ebdef0;\">h a bit of </span>mib<span style=\"background-color:#d4e6f1;\">d of the family </span><span style=\"background-color:#d4e6f1;\">was at her t</span><span style=\"background-color:#ecf3cf;\">hing her hu</span><span style=\"background-color:#d6dbdf;\">nd for the p</span>ar<span style=\"background-color:#d8daef;\">ty placed </span><span style=\"background-color:#d4e6f1;\">which he might </span><span style=\"background-color:#d0ece7;\">have been such a</span>n opcoc<span style=\"background-color:#eadbd8;\">tance, and then </span><span style=\"background-color:#eadbd8;\">continued o</span><span style=\"background-color:#d8daef;\">f the two o</span><span style=\"background-color:#d4e6f1;\">f her father t</span><span style=\"background-color:#d4e6f1;\">o be super</span>i<span style=\"background-color:#d4e6f1;\">or, and ha</span>mpin"
            ],
            "text/plain": [
              "<IPython.core.display.HTML object>"
            ]
          },
          "metadata": {}
        },
        {
          "output_type": "display_data",
          "data": {
            "text/html": [
              "<small><p style=\"text-align:right;\">Sources: <span style=\"background-color:#d0ece7;\">Jane Austen: Pride and Prejudice</span>, <span style=\"background-color:#fae5d3;\">Jane Austen: Pride and Prejudice</span>, <span style=\"background-color:#d8daef;\">Virginia Woolf: The Common Reader</span>, <span style=\"background-color:#eadbd8;\">Catherine Anne Austen Hubback and Jane Austen: The Younger Sister, Volumes 1-3</span>, <span style=\"background-color:#d4e6f1;\">Jane Austen: The Complete Project Gutenberg Works of Jane Austen</span>, <span style=\"background-color:#e2d7d5;\">Jane Austen: Sense and Sensibility</span>, <span style=\"background-color:#ecf3cf;\">Virginia Woolf: The Voyage Out</span>, <span style=\"background-color:#d6dbdf;\">Charlotte Brontë: Villette</span>, <span style=\"background-color:#fdebd0;\">Virginia Woolf: Night and Day</span>, <span style=\"background-color:#eadbd8;\">Anne Brontë: Agnes Grey</span>, <span style=\"background-color:#ebdef0;\">Emily Brontë: Wuthering Heights</span>, <span style=\"background-color:#d8daef;\">Charlotte Brontë: Biog Notes on the Pseudonymous Bells</span></p></small>"
            ],
            "text/plain": [
              "<IPython.core.display.HTML object>"
            ]
          },
          "metadata": {}
        },
        {
          "output_type": "stream",
          "name": "stdout",
          "text": [
            "Temperature 0.7:\n"
          ]
        },
        {
          "output_type": "display_data",
          "data": {
            "text/html": [
              "Mrrther a do<span style=\"background-color:#d4e6f1;\">er in the r</span>e<span style=\"background-color:#d6dbdf;\">st of a th</span><span style=\"background-color:#d4e6f1;\">ing where they </span><span style=\"background-color:#e2d7d5;\">could be more c</span><span style=\"background-color:#eadbd8;\">onsidered, </span><span style=\"background-color:#d8daef;\">however they </span>was to hoa<span style=\"background-color:#ecf3cf;\">rses, and so </span>secetsy to infr<span style=\"background-color:#eadbd8;\">ure, of the </span>ma<span style=\"background-color:#eadbd8;\">n. She had nothing</span><span style=\"background-color:#d0ece7;\"> a certain de</span><span style=\"background-color:#d4e6f1;\">ath as the </span><span style=\"background-color:#d4e6f1;\">continued as </span><span style=\"background-color:#d4e6f1;\">he could not accu</span>re to dixt<span style=\"background-color:#d4e6f1;\">e; but with a</span><span style=\"background-color:#eadbd8;\"> visit of a</span> flewi<span style=\"background-color:#d0ece7;\">ce of being a</span>grea<span style=\"background-color:#d4e6f1;\">dy exactly </span><span style=\"background-color:#eadbd8;\">that he was to</span><span style=\"background-color:#d0ece7;\">re for and t</span><span style=\"background-color:#fdebd0;\">hey had con</span>fed you arout it.”<span style=\"background-color:#d6dbdf;\"> What do you k</span>o<span style=\"background-color:#eadbd8;\"> not an imp</span>rove<span style=\"background-color:#d4e6f1;\">nce. I was </span>for<span style=\"background-color:#d6dbdf;\">sured to the </span>unclea<span style=\"background-color:#d4e6f1;\">sies, and </span><span style=\"background-color:#d4e6f1;\">has been all </span>the Cos<span style=\"background-color:#e2d7d5;\">her of her d</span>epar<span style=\"background-color:#fdebd0;\">ished at her </span><span style=\"background-color:#d4e6f1;\">and the post</span><span style=\"background-color:#d8daef;\">ers and such </span>a sarjectab sp<span style=\"background-color:#e2d7d5;\">esent; and </span><span style=\"background-color:#eadbd8;\">at the dist</span>unse<span style=\"background-color:#d0ece7;\">res of a f</span>rook hish cou<span style=\"background-color:#d8daef;\">ntly, and </span>my bride w<span style=\"background-color:#e2d7d5;\">e she had rea</span><span style=\"background-color:#d6dbdf;\">son to which </span><span style=\"background-color:#d8daef;\">an air of a</span>d<span style=\"background-color:#d4e6f1;\">mitted; and </span>Emma <span style=\"background-color:#d8daef;\">at ladies </span>at<span style=\"background-color:#eadbd8;\"> the said </span><span style=\"background-color:#ecf3cf;\">as they so</span> much v<span style=\"background-color:#d0ece7;\">ad the fort</span><span style=\"background-color:#eadbd8;\">er of the m</span><span style=\"background-color:#fdebd0;\">ost things</span> were of "
            ],
            "text/plain": [
              "<IPython.core.display.HTML object>"
            ]
          },
          "metadata": {}
        },
        {
          "output_type": "display_data",
          "data": {
            "text/html": [
              "<small><p style=\"text-align:right;\">Sources: <span style=\"background-color:#d4e6f1;\">Jane Austen: The Complete Project Gutenberg Works of Jane Austen</span>, <span style=\"background-color:#d6dbdf;\">Charlotte Brontë: Villette</span>, <span style=\"background-color:#e2d7d5;\">Jane Austen: Sense and Sensibility</span>, <span style=\"background-color:#eadbd8;\">Catherine Anne Austen Hubback and Jane Austen: The Younger Sister, Volumes 1-3</span>, <span style=\"background-color:#d8daef;\">Virginia Woolf: The Common Reader</span>, <span style=\"background-color:#ecf3cf;\">Virginia Woolf: The Voyage Out</span>, <span style=\"background-color:#d0ece7;\">Jane Austen: Pride and Prejudice</span>, <span style=\"background-color:#fdebd0;\">Virginia Woolf: Night and Day</span>, <span style=\"background-color:#eadbd8;\">Anne Brontë: Agnes Grey</span>, <span style=\"background-color:#d0ece7;\">Jane Austen: Northanger Abbey</span></p></small>"
            ],
            "text/plain": [
              "<IPython.core.display.HTML object>"
            ]
          },
          "metadata": {}
        },
        {
          "output_type": "stream",
          "name": "stdout",
          "text": [
            "Temperature 0.8:\n"
          ]
        },
        {
          "output_type": "display_data",
          "data": {
            "text/html": [
              "“Of, I stok<span style=\"background-color:#eadbd8;\">d I should be </span>t<span style=\"background-color:#ecf3cf;\">here sighed</span><span style=\"background-color:#d6dbdf;\">, for I had not </span><span style=\"background-color:#d0ece7;\">only were </span>sure<span style=\"background-color:#eadbd8;\">s mind, for </span><span style=\"background-color:#d6dbdf;\">I seen the</span>r whol<span style=\"background-color:#d0ece7;\">, I had not </span><span style=\"background-color:#ebdef0;\">we can make th</span>e marr<span style=\"background-color:#eadbd8;\">ays wished to </span><span style=\"background-color:#d4e6f1;\">such a cont</span><span style=\"background-color:#eadbd8;\">ure of the p</span>ollien<span style=\"background-color:#d0ece7;\">cess, and </span>colcer<span style=\"background-color:#eadbd8;\">ny with the </span>butley a m<span style=\"background-color:#eadbd8;\">et morning</span><span style=\"background-color:#d4e6f1;\">s, was the con</span>vus<span style=\"background-color:#edebd0;\">ious courte</span><span style=\"background-color:#fdebd0;\">d of the wi</span><span style=\"background-color:#fdebd0;\">thing and re</span>ad; <span style=\"background-color:#eadbd8;\">and. However</span><span style=\"background-color:#d4e6f1;\"> you had been with </span>him. It lay se<span style=\"background-color:#d4e6f1;\">em on the o</span>w<span style=\"background-color:#d6dbdf;\">her, were n</span>umifa<span style=\"background-color:#d0ece7;\">ld enter t</span>o<span style=\"background-color:#d4e6f1;\"> pretty good t</span>o be surrighing d<span style=\"background-color:#d6dbdf;\">ear as the </span><span style=\"background-color:#eadbd8;\">world, my </span>pressy mack I has<span style=\"background-color:#d8daef;\">e kind to </span>se<span style=\"background-color:#d4e6f1;\">e your neighbour</span><span style=\"background-color:#eadbd8;\">hers, and t</span>r<span style=\"background-color:#ecf3cf;\">atted her </span><span style=\"background-color:#eadbd8;\">feelings was </span>so<span style=\"background-color:#d0ece7;\">ling, as she </span>ka<span style=\"background-color:#d4e6f1;\">ured the b</span>usilarly fa<span style=\"background-color:#ecf3cf;\">rring and a</span>t so me abselvw<span style=\"background-color:#d0ece7;\"> of his time </span>necessa<span style=\"background-color:#d4e6f1;\">r near the </span>kown, it themeraked a<span style=\"background-color:#d4e6f1;\">day spent </span><span style=\"background-color:#d8daef;\">from the first </span>fortand to day<span style=\"background-color:#eadbd8;\"> allow her</span>, concu<span style=\"background-color:#ebdef0;\">ter, while she</span><span style=\"background-color:#eadbd8;\"> would be sure </span><span style=\"background-color:#d8daef;\">brother in</span>"
            ],
            "text/plain": [
              "<IPython.core.display.HTML object>"
            ]
          },
          "metadata": {}
        },
        {
          "output_type": "display_data",
          "data": {
            "text/html": [
              "<small><p style=\"text-align:right;\">Sources: <span style=\"background-color:#eadbd8;\">Catherine Anne Austen Hubback and Jane Austen: The Younger Sister, Volumes 1-3</span>, <span style=\"background-color:#ecf3cf;\">Virginia Woolf: The Voyage Out</span>, <span style=\"background-color:#d6dbdf;\">Charlotte Brontë: Villette</span>, <span style=\"background-color:#d0ece7;\">Jane Austen: Pride and Prejudice</span>, <span style=\"background-color:#ebdef0;\">Virginia Woolf: Mr. Bennett and Mrs. Brown</span>, <span style=\"background-color:#d4e6f1;\">Jane Austen: The Complete Project Gutenberg Works of Jane Austen</span>, <span style=\"background-color:#edebd0;\">Jane Austen: Emma</span>, <span style=\"background-color:#fdebd0;\">Virginia Woolf: Night and Day</span>, <span style=\"background-color:#eadbd8;\">Anne Brontë: Agnes Grey</span>, <span style=\"background-color:#d8daef;\">Virginia Woolf: The Common Reader</span>, <span style=\"background-color:#ebdef0;\">Emily Brontë: Wuthering Heights</span></p></small>"
            ],
            "text/plain": [
              "<IPython.core.display.HTML object>"
            ]
          },
          "metadata": {}
        },
        {
          "output_type": "stream",
          "name": "stdout",
          "text": [
            "Epoch 6 Loss: 1.450 Precision: 0.570 Time/Sample: 0.000762 sec/sample\n",
            "Saved best precision model, prec=0.570\n",
            "Epoch 7 Loss: 1.437 Precision: 0.573 Time/Sample: 0.000760 sec/sample\n",
            "Saved best precision model, prec=0.573\n",
            "Epoch 7 Loss: 1.424 Precision: 0.577 Time/Sample: 0.000761 sec/sample\n",
            "Saved best precision model, prec=0.577\n",
            "Temperature 0.6:\n"
          ]
        },
        {
          "output_type": "display_data",
          "data": {
            "text/html": [
              "I<span style=\"background-color:#d4e6f1;\"> might for </span>the b<span style=\"background-color:#d6dbdf;\">ooms of the</span><span style=\"background-color:#eadbd8;\"> expectation of the d</span>oo<span style=\"background-color:#ecf3cf;\">r she seemed to </span>inclib<span style=\"background-color:#d8daef;\">ent in the s</span>ea<span style=\"background-color:#eadbd8;\">t, for she </span><span style=\"background-color:#e2d7d5;\">should be as </span><span style=\"background-color:#d8daef;\">his intent</span>e<span style=\"background-color:#d4e6f1;\">nence of the </span>pa<span style=\"background-color:#d4efdf;\">rpose of th</span>ei<span style=\"background-color:#d4e6f1;\">r man and </span><span style=\"background-color:#eadbd8;\">spoken in the </span>harit<span style=\"background-color:#eadbd8;\">sed manner</span><span style=\"background-color:#d4e6f1;\">s and the me</span>nt<span style=\"background-color:#d8daef;\">ersary of the </span><span style=\"background-color:#d4e6f1;\">result of the s</span><span style=\"background-color:#e2d7d5;\">treet on t</span><span style=\"background-color:#d4e6f1;\">o her, it was </span><span style=\"background-color:#d8daef;\">might be a w</span>r<span style=\"background-color:#d8daef;\">ath of her </span><span style=\"background-color:#d6dbdf;\">and the friend </span><span style=\"background-color:#d0ece7;\">with her mother </span><span style=\"background-color:#eadbd8;\">was coming to </span>be att<span style=\"background-color:#d6dbdf;\">isted to the </span><span style=\"background-color:#fdebd0;\">present of t</span><span style=\"background-color:#d0ece7;\">he place, th</span>at <span style=\"background-color:#d0ece7;\">he danger o</span><span style=\"background-color:#d8daef;\">n the cont</span>uctt<span style=\"background-color:#ebdef0;\">enation of</span> Miss Mrrtham<span style=\"background-color:#d0ece7;\">es her with a</span>nswive a cari<span style=\"background-color:#fdebd0;\">ster of pleas</span><span style=\"background-color:#d4e6f1;\">ure of the cas</span>ter’s dine<span style=\"background-color:#e2d7d5;\">cal, she was</span><span style=\"background-color:#d0ece7;\"> always be in</span>qran<span style=\"background-color:#eadbd8;\">tly contented </span>to<span style=\"background-color:#d0ece7;\"> only her own </span><span style=\"background-color:#eadbd8;\">ways of the </span>acp<span style=\"background-color:#d4e6f1;\">ount of the mo</span>st prop<span style=\"background-color:#eadbd8;\">ertation o</span><span style=\"background-color:#eadbd8;\">f his part</span><span style=\"background-color:#eadbd8;\">icular pro</span>pert<span style=\"background-color:#ebdef0;\">ity that she w</span><span style=\"background-color:#eadbd8;\">as the consu</span><span style=\"background-color:#d6dbdf;\">re in the sta</span><span style=\"background-color:#d4e6f1;\">te of the s</span><span style=\"background-color:#eadbd8;\">ense of his </span>was <span style=\"background-color:#eadbd8;\">at suffering </span><span style=\"background-color:#d8daef;\">and she wa</span>"
            ],
            "text/plain": [
              "<IPython.core.display.HTML object>"
            ]
          },
          "metadata": {}
        },
        {
          "output_type": "display_data",
          "data": {
            "text/html": [
              "<small><p style=\"text-align:right;\">Sources: <span style=\"background-color:#d4e6f1;\">Jane Austen: The Complete Project Gutenberg Works of Jane Austen</span>, <span style=\"background-color:#d6dbdf;\">Charlotte Brontë: Villette</span>, <span style=\"background-color:#eadbd8;\">Catherine Anne Austen Hubback and Jane Austen: The Younger Sister, Volumes 1-3</span>, <span style=\"background-color:#ecf3cf;\">Virginia Woolf: The Voyage Out</span>, <span style=\"background-color:#d8daef;\">Virginia Woolf: The Common Reader</span>, <span style=\"background-color:#e2d7d5;\">Catherine Anne Austen Hubback and Jane Austen: The Younger Sister, Vol. 3</span>, <span style=\"background-color:#d4efdf;\">Jane Austen: Mansfield Park</span>, <span style=\"background-color:#eadbd8;\">Anne Brontë: Agnes Grey</span>, <span style=\"background-color:#e2d7d5;\">Jane Austen: Sense and Sensibility</span>, <span style=\"background-color:#d0ece7;\">Jane Austen: Pride and Prejudice</span>, <span style=\"background-color:#fdebd0;\">Virginia Woolf: Night and Day</span>, <span style=\"background-color:#ebdef0;\">Emily Brontë: Wuthering Heights</span></p></small>"
            ],
            "text/plain": [
              "<IPython.core.display.HTML object>"
            ]
          },
          "metadata": {}
        },
        {
          "output_type": "stream",
          "name": "stdout",
          "text": [
            "Temperature 0.7:\n"
          ]
        },
        {
          "output_type": "display_data",
          "data": {
            "text/html": [
              "<span style=\"background-color:#d4e6f1;\">Nothing sh</span><span style=\"background-color:#d8daef;\">ade of the </span>halt to<span style=\"background-color:#f6ddcc;\">o had to be </span>surp<span style=\"background-color:#eadbd8;\">lised. The </span>Adml<span style=\"background-color:#ebdef0;\">oration of t</span>i<span style=\"background-color:#eadbd8;\">ll the girls </span><span style=\"background-color:#e5e8e8;\">and made s</span>hown to n<span style=\"background-color:#d8daef;\">ach of the </span>inc<span style=\"background-color:#ecf3cf;\">isation, and </span>so marry o<span style=\"background-color:#ecf3cf;\">r party of </span><span style=\"background-color:#d6dbdf;\">grace with </span><span style=\"background-color:#d0ece7;\">present thi</span><span style=\"background-color:#d4e6f1;\">ng again and </span><span style=\"background-color:#d0ece7;\">time to the </span>possibity t<span style=\"background-color:#ecf3cf;\">o felt the </span>wre<span style=\"background-color:#eadbd8;\">se of her b</span>rother Wharec. H<span style=\"background-color:#eadbd8;\">ere, with </span><span style=\"background-color:#d4e6f1;\">the child had not</span><span style=\"background-color:#eadbd8;\">hing from the ca</span><span style=\"background-color:#d0ece7;\">miliar to </span>astemp<span style=\"background-color:#d4e6f1;\">t become an</span>d the pu<span style=\"background-color:#eadbd8;\">tson was very </span><span style=\"background-color:#d4e6f1;\">thing to be a</span><span style=\"background-color:#d4e6f1;\">s her intention</span>s. Fr<span style=\"background-color:#eadbd8;\">ay had been </span>inttinc<span style=\"background-color:#eadbd8;\">ived in the s</span>ert o<span style=\"background-color:#d4e6f1;\">f to hear </span>and any—<span style=\"background-color:#fdebd0;\">of the senten</span>ta<span style=\"background-color:#e2d7d5;\">lling more </span><span style=\"background-color:#d8daef;\">important a</span>re<span style=\"background-color:#d6dbdf;\">. “But to </span>shak underttand<span style=\"background-color:#eadbd8;\">ly such a </span>young<span style=\"background-color:#d4e6f1;\"> most pleasure o</span>f live to a wrath unonu<span style=\"background-color:#d4e6f1;\">by of the </span><span style=\"background-color:#d0ece7;\">very mention </span>and remol<span style=\"background-color:#d4e6f1;\">d; I should be </span>becol<span style=\"background-color:#d4e6f1;\">ded it. I </span><span style=\"background-color:#d4e6f1;\">would not have i</span>t ov<span style=\"background-color:#eadbd8;\">er at such a </span><span style=\"background-color:#d0ece7;\">side of her mother</span> than onc<span style=\"background-color:#d8daef;\">usions of the</span><span style=\"background-color:#d4e6f1;\">m, and ever</span>, whe"
            ],
            "text/plain": [
              "<IPython.core.display.HTML object>"
            ]
          },
          "metadata": {}
        },
        {
          "output_type": "display_data",
          "data": {
            "text/html": [
              "<small><p style=\"text-align:right;\">Sources: <span style=\"background-color:#d4e6f1;\">Jane Austen: The Complete Project Gutenberg Works of Jane Austen</span>, <span style=\"background-color:#d8daef;\">Virginia Woolf: The Common Reader</span>, <span style=\"background-color:#f6ddcc;\">Virginia Woolf: Jacob's Room</span>, <span style=\"background-color:#eadbd8;\">Catherine Anne Austen Hubback and Jane Austen: The Younger Sister, Volumes 1-3</span>, <span style=\"background-color:#ebdef0;\">Emily Brontë: Wuthering Heights</span>, <span style=\"background-color:#e5e8e8;\">Jane Austen: Love And Friendship And Other Early Works</span>, <span style=\"background-color:#ecf3cf;\">Virginia Woolf: The Voyage Out</span>, <span style=\"background-color:#d6dbdf;\">Charlotte Brontë: Villette</span>, <span style=\"background-color:#d0ece7;\">Jane Austen: Pride and Prejudice</span>, <span style=\"background-color:#eadbd8;\">Anne Brontë: Agnes Grey</span>, <span style=\"background-color:#fdebd0;\">Virginia Woolf: Night and Day</span>, <span style=\"background-color:#e2d7d5;\">Jane Austen: Sense and Sensibility</span></p></small>"
            ],
            "text/plain": [
              "<IPython.core.display.HTML object>"
            ]
          },
          "metadata": {}
        },
        {
          "output_type": "stream",
          "name": "stdout",
          "text": [
            "Temperature 0.8:\n"
          ]
        },
        {
          "output_type": "display_data",
          "data": {
            "text/html": [
              "Bu<span style=\"background-color:#d4e6f1;\">t in having been </span>thes<span style=\"background-color:#d8daef;\">tered on th</span><span style=\"background-color:#d0ece7;\">at she had not </span><span style=\"background-color:#d4e6f1;\">spire; but</span> the crueced rumbere<span style=\"background-color:#d4e6f1;\">s what pri</span><span style=\"background-color:#d4e6f1;\">ed; and its h</span>er straces enq<span style=\"background-color:#d8daef;\">ay of the </span><span style=\"background-color:#eadbd8;\">window, but </span><span style=\"background-color:#fdebd0;\">her own that </span>i<span style=\"background-color:#d6dbdf;\">t wishing h</span><span style=\"background-color:#e2d7d5;\">er to care </span><span style=\"background-color:#d0ece7;\">it with the </span><span style=\"background-color:#eadbd8;\">party of s</span><span style=\"background-color:#d4e6f1;\">uch friends.</span><span style=\"background-color:#eadbd8;\"> She received </span><span style=\"background-color:#d8daef;\">to him that his </span><span style=\"background-color:#d4e6f1;\">sister, it was </span>wremt<span style=\"background-color:#d0ece7;\">. And it was </span><span style=\"background-color:#d8daef;\">not in the </span><span style=\"background-color:#d8daef;\">Charles on </span>not be loveris<span style=\"background-color:#d4e6f1;\">ice. But th</span><span style=\"background-color:#fdebd0;\">is family mo</span><span style=\"background-color:#d4e6f1;\">re time to </span>p<span style=\"background-color:#ebdef0;\">ray in his </span>sec<span style=\"background-color:#d0ece7;\">res with her</span>seefs<span style=\"background-color:#f6ddcc;\">, now to the </span>enlgremb<span style=\"background-color:#eadbd8;\">ents of her </span>brincissssipalior, prot<span style=\"background-color:#fdebd0;\">ited him w</span>hote contec<span style=\"background-color:#fdebd0;\">ption in th</span><span style=\"background-color:#d4e6f1;\">is paper i</span><span style=\"background-color:#e5e8e8;\">t was at a </span>six <span style=\"background-color:#fdebd0;\">at Mary was </span>com<span style=\"background-color:#d0ece7;\">present, as h</span><span style=\"background-color:#d4e6f1;\">e is never t</span><span style=\"background-color:#d0ece7;\">o be surpr</span><span style=\"background-color:#eadbd8;\">ement, but </span><span style=\"background-color:#d6dbdf;\">she that h</span>e had intulently praded to lust le<span style=\"background-color:#d0ece7;\">t. When she </span><span style=\"background-color:#fdebd0;\">was at once t</span>o deep at A<span style=\"background-color:#eadbd8;\">sbornes, and </span><span style=\"background-color:#ebdef0;\">the house l</span><span style=\"background-color:#d8daef;\">ittle to le</span><span style=\"background-color:#eadbd8;\">asure to her</span>. “It<span style=\"background-color:#d4e6f1;\"> were soon a</span>s well of"
            ],
            "text/plain": [
              "<IPython.core.display.HTML object>"
            ]
          },
          "metadata": {}
        },
        {
          "output_type": "display_data",
          "data": {
            "text/html": [
              "<small><p style=\"text-align:right;\">Sources: <span style=\"background-color:#d4e6f1;\">Jane Austen: The Complete Project Gutenberg Works of Jane Austen</span>, <span style=\"background-color:#d8daef;\">Virginia Woolf: The Common Reader</span>, <span style=\"background-color:#d0ece7;\">Jane Austen: Pride and Prejudice</span>, <span style=\"background-color:#eadbd8;\">Catherine Anne Austen Hubback and Jane Austen: The Younger Sister, Volumes 1-3</span>, <span style=\"background-color:#fdebd0;\">Virginia Woolf: Night and Day</span>, <span style=\"background-color:#d6dbdf;\">Charlotte Brontë: Villette</span>, <span style=\"background-color:#e2d7d5;\">Jane Austen: Sense and Sensibility</span>, <span style=\"background-color:#ebdef0;\">Emily Brontë: Wuthering Heights</span>, <span style=\"background-color:#f6ddcc;\">Virginia Woolf: Jacob's Room</span>, <span style=\"background-color:#e5e8e8;\">Jane Austen: Love And Friendship And Other Early Works</span></p></small>"
            ],
            "text/plain": [
              "<IPython.core.display.HTML object>"
            ]
          },
          "metadata": {}
        },
        {
          "output_type": "stream",
          "name": "stdout",
          "text": [
            "Epoch 7 Loss: 1.414 Precision: 0.580 Time/Sample: 0.000762 sec/sample\n",
            "Saved best precision model, prec=0.580\n",
            "Epoch 7 Loss: 1.402 Precision: 0.583 Time/Sample: 0.000761 sec/sample\n",
            "Saved best precision model, prec=0.583\n",
            "Epoch 7 Loss: 1.391 Precision: 0.586 Time/Sample: 0.000761 sec/sample\n",
            "Saved best precision model, prec=0.586\n",
            "Epoch 7 Loss: 1.381 Precision: 0.588 Time/Sample: 0.000763 sec/sample\n",
            "Saved best precision model, prec=0.588\n",
            "Temperature 0.6:\n"
          ]
        },
        {
          "output_type": "display_data",
          "data": {
            "text/html": [
              "<span style=\"background-color:#eadbd8;\">I am sure that </span><span style=\"background-color:#e2d7d5;\">I could have b</span>een a depre<span style=\"background-color:#d0ece7;\">n of distress</span><span style=\"background-color:#d4e6f1;\">ing your co</span><span style=\"background-color:#ebdef0;\">ndentation</span><span style=\"background-color:#d0ece7;\">, but I was not </span><span style=\"background-color:#eadbd8;\">more than her </span><span style=\"background-color:#d0ece7;\">little and </span><span style=\"background-color:#d0ece7;\">some of his c</span>a<span style=\"background-color:#d8daef;\">tering as </span>any down of upcoltin<span style=\"background-color:#d8daef;\">ately and </span><span style=\"background-color:#d6dbdf;\">heart the </span>smo<span style=\"background-color:#fdebd0;\">per of the m</span>orning qo<span style=\"background-color:#eadbd8;\">illing of the </span>whole ha<span style=\"background-color:#d4e6f1;\">mples and </span><span style=\"background-color:#eadbd8;\">their party </span>reaso<span style=\"background-color:#d4e6f1;\">red he had </span><span style=\"background-color:#d4e6f1;\">only done a</span><span style=\"background-color:#d8daef;\"> short of </span><span style=\"background-color:#d6dbdf;\">not a part</span> and quen<span style=\"background-color:#d8daef;\">dy of the </span>fir<span style=\"background-color:#eadbd8;\">st of your </span><span style=\"background-color:#d8daef;\">own are the </span><span style=\"background-color:#d4e6f1;\">continued ex</span><span style=\"background-color:#d0ece7;\">pectation of his </span><span style=\"background-color:#d4e6f1;\">intentions, and </span><span style=\"background-color:#d4e6f1;\">the word to </span>our paral<span style=\"background-color:#d6dbdf;\"> and a stru</span>nger<span style=\"background-color:#fae5d3;\"> ball of th</span>e sou<span style=\"background-color:#eadbd8;\">rted of hi</span>s doubt<span style=\"background-color:#d8daef;\">s the situation </span><span style=\"background-color:#eadbd8;\">of her best</span>est sp<span style=\"background-color:#d4e6f1;\">iet and he</span><span style=\"background-color:#d4e6f1;\">art with his </span><span style=\"background-color:#d8daef;\">own house, </span>subd<span style=\"background-color:#d4e6f1;\">ed in such a c</span>omf<span style=\"background-color:#d0ece7;\">and most p</span><span style=\"background-color:#eadbd8;\">lace. I am </span><span style=\"background-color:#fae5d3;\">sure that it was </span>a bu<span style=\"background-color:#eadbd8;\">ll and res</span>uln<span style=\"background-color:#eadbd8;\">ect which m</span><span style=\"background-color:#fdebd0;\">ake her ca</span><span style=\"background-color:#ebdef0;\">tering for </span><span style=\"background-color:#eadbd8;\">her present</span><span style=\"background-color:#eadbd8;\">, and therefore a</span>nd aste<span style=\"background-color:#fdebd0;\">rning at the s</span>t<span style=\"background-color:#d8daef;\">airs of his </span><span style=\"background-color:#d0ece7;\">reading he</span>"
            ],
            "text/plain": [
              "<IPython.core.display.HTML object>"
            ]
          },
          "metadata": {}
        },
        {
          "output_type": "display_data",
          "data": {
            "text/html": [
              "<small><p style=\"text-align:right;\">Sources: <span style=\"background-color:#eadbd8;\">Catherine Anne Austen Hubback and Jane Austen: The Younger Sister, Volumes 1-3</span>, <span style=\"background-color:#e2d7d5;\">Jane Austen: Sense and Sensibility</span>, <span style=\"background-color:#d0ece7;\">Jane Austen: Pride and Prejudice</span>, <span style=\"background-color:#d4e6f1;\">Jane Austen: The Complete Project Gutenberg Works of Jane Austen</span>, <span style=\"background-color:#ebdef0;\">Emily Brontë: Wuthering Heights</span>, <span style=\"background-color:#d8daef;\">Virginia Woolf: The Common Reader</span>, <span style=\"background-color:#d6dbdf;\">Charlotte Brontë: Villette</span>, <span style=\"background-color:#fdebd0;\">Virginia Woolf: Night and Day</span>, <span style=\"background-color:#eadbd8;\">Anne Brontë: Agnes Grey</span>, <span style=\"background-color:#d8daef;\">Charlotte Brontë: Biog Notes on the Pseudonymous Bells</span>, <span style=\"background-color:#fae5d3;\">Jane Austen: Pride and Prejudice</span></p></small>"
            ],
            "text/plain": [
              "<IPython.core.display.HTML object>"
            ]
          },
          "metadata": {}
        },
        {
          "output_type": "stream",
          "name": "stdout",
          "text": [
            "Temperature 0.7:\n"
          ]
        },
        {
          "output_type": "display_data",
          "data": {
            "text/html": [
              "<span style=\"background-color:#d4e6f1;\">There was ti</span><span style=\"background-color:#fdebd0;\">red her dis</span><span style=\"background-color:#d4e6f1;\">tance in a</span><span style=\"background-color:#d4e6f1;\"> shape of a</span>unt wh<span style=\"background-color:#eadbd8;\">ise such a </span>such of undalringly cond<span style=\"background-color:#eadbd8;\">rading the </span><span style=\"background-color:#d0ece7;\">seems, and </span><span style=\"background-color:#eadbd8;\">her friend she </span><span style=\"background-color:#eadbd8;\">had long a</span>t<span style=\"background-color:#d0ece7;\"> her himself, a</span>nd whish beg<span style=\"background-color:#d8daef;\">ore the fac</span><span style=\"background-color:#d0ece7;\">e of passion </span>for a bomental<span style=\"background-color:#d0ece7;\"> spoke, had</span>, <span style=\"background-color:#d4e6f1;\">or every d</span>epidere<span style=\"background-color:#f6ddcc;\">d let the mo</span>re<span style=\"background-color:#ecf3cf;\"> sides her </span>s<span style=\"background-color:#d4e6f1;\">ense with a</span><span style=\"background-color:#eadbd8;\"> friend of a</span>n<span style=\"background-color:#d0ece7;\"> off. But the</span><span style=\"background-color:#fdebd0;\"> admirations </span><span style=\"background-color:#fdebd0;\">of her mind. </span>“N<span style=\"background-color:#d4e6f1;\">ot to have sp</span><span style=\"background-color:#eadbd8;\">irits and </span><span style=\"background-color:#d4e6f1;\">eager to ref</span>inny her varue<span style=\"background-color:#d4e6f1;\">t, towards her</span><span style=\"background-color:#d0ece7;\">, and the other s</span><span style=\"background-color:#eadbd8;\">ister; and wh</span>en the shabl<span style=\"background-color:#e5e8e8;\"> was at one of </span>his basicul on<span style=\"background-color:#d8daef;\">isation of </span><span style=\"background-color:#eadbd8;\">his feelings w</span><span style=\"background-color:#eadbd8;\">hich he had su</span><span style=\"background-color:#fdebd0;\">ved the wor</span><span style=\"background-color:#eadbd8;\">ds to be d</span>row w<span style=\"background-color:#eadbd8;\">hat when they </span><span style=\"background-color:#d0ece7;\">very doubt, and </span><span style=\"background-color:#d4e6f1;\">the cause of her </span>re<span style=\"background-color:#fdebd0;\">llections, and </span><span style=\"background-color:#eadbd8;\">looking to </span><span style=\"background-color:#eadbd8;\">have feeling</span> to her ail<span style=\"background-color:#d0ece7;\"> of receiving t</span><span style=\"background-color:#eadbd8;\">o the conf</span><span style=\"background-color:#e2d7d5;\">idence of her </span><span style=\"background-color:#d4e6f1;\">mother, but it was </span>stead<span style=\"background-color:#eadbd8;\">y sort of </span>drown and a"
            ],
            "text/plain": [
              "<IPython.core.display.HTML object>"
            ]
          },
          "metadata": {}
        },
        {
          "output_type": "display_data",
          "data": {
            "text/html": [
              "<small><p style=\"text-align:right;\">Sources: <span style=\"background-color:#d4e6f1;\">Jane Austen: The Complete Project Gutenberg Works of Jane Austen</span>, <span style=\"background-color:#fdebd0;\">Virginia Woolf: Night and Day</span>, <span style=\"background-color:#eadbd8;\">Catherine Anne Austen Hubback and Jane Austen: The Younger Sister, Volumes 1-3</span>, <span style=\"background-color:#d0ece7;\">Jane Austen: Pride and Prejudice</span>, <span style=\"background-color:#d8daef;\">Virginia Woolf: The Common Reader</span>, <span style=\"background-color:#f6ddcc;\">Virginia Woolf: Jacob's Room</span>, <span style=\"background-color:#ecf3cf;\">Virginia Woolf: The Voyage Out</span>, <span style=\"background-color:#e5e8e8;\">Jane Austen: Love And Friendship And Other Early Works</span>, <span style=\"background-color:#eadbd8;\">Anne Brontë: Agnes Grey</span>, <span style=\"background-color:#e2d7d5;\">Jane Austen: Sense and Sensibility</span></p></small>"
            ],
            "text/plain": [
              "<IPython.core.display.HTML object>"
            ]
          },
          "metadata": {}
        },
        {
          "output_type": "stream",
          "name": "stdout",
          "text": [
            "Temperature 0.8:\n"
          ]
        },
        {
          "output_type": "display_data",
          "data": {
            "text/html": [
              "He had al<span style=\"background-color:#d4e6f1;\">tal, and he</span><span style=\"background-color:#d0ece7;\"> was not con</span>c<span style=\"background-color:#d0ece7;\">eared that the </span>interding commorisy<span style=\"background-color:#d0ece7;\"> of first a</span>s<span style=\"background-color:#d8daef;\">tached the</span> ways happiny of awting;<span style=\"background-color:#f6ddcc;\"> to see in S</span>’ptert<span style=\"background-color:#d4e6f1;\">ing as from </span>th<span style=\"background-color:#fdebd0;\">e order. H</span>e was alo<span style=\"background-color:#d6dbdf;\">ut to for </span><span style=\"background-color:#ecf3cf;\">her; she di</span><span style=\"background-color:#d0ece7;\">d not continue</span><span style=\"background-color:#eadbd8;\">d to her a</span>w<span style=\"background-color:#d4e6f1;\">dened and </span>j<span style=\"background-color:#d8daef;\">ady of the </span><span style=\"background-color:#ebdef0;\">room in hi</span><span style=\"background-color:#fdebd0;\">g strange and </span>them at her ad<span style=\"background-color:#d8daef;\">ditations. </span>On his sor, and ga<span style=\"background-color:#eadbd8;\">ured she w</span><span style=\"background-color:#d4e6f1;\">ould not be with </span>good to likem<span style=\"background-color:#ebdef0;\">ise himself </span><span style=\"background-color:#d6dbdf;\">but the dr</span>ow<span style=\"background-color:#f6ddcc;\">n extraordinary e</span><span style=\"background-color:#d6dbdf;\">xpression, a </span>head sabject to cour<span style=\"background-color:#eadbd8;\">ly. I have no </span>regleching l<span style=\"background-color:#fae5d3;\">ust which t</span>he nea<span style=\"background-color:#edebd0;\">r, Mr. Knightley </span><span style=\"background-color:#d4e6f1;\">the greatest sen</span>vered promret<span style=\"background-color:#ebdef0;\">s the same r</span><span style=\"background-color:#d8daef;\">ind where </span>fally help<span style=\"background-color:#eadbd8;\"> with too m</span>e<span style=\"background-color:#eadbd8;\"> at meeting </span><span style=\"background-color:#eadbd8;\">to hear a </span>spre<span style=\"background-color:#d4e6f1;\">ng of his p</span><span style=\"background-color:#d4e6f1;\">lace, to be </span>ko<span style=\"background-color:#d4e6f1;\">tered, or </span><span style=\"background-color:#d6dbdf;\">in her heart th</span>eir basit<span style=\"background-color:#d4e6f1;\"> who thought</span>! Hn<span style=\"background-color:#fdebd0;\">termined that there was</span> <span style=\"background-color:#eadbd8;\">ever suspected </span><span style=\"background-color:#eadbd8;\">by a moment</span>; a"
            ],
            "text/plain": [
              "<IPython.core.display.HTML object>"
            ]
          },
          "metadata": {}
        },
        {
          "output_type": "display_data",
          "data": {
            "text/html": [
              "<small><p style=\"text-align:right;\">Sources: <span style=\"background-color:#d4e6f1;\">Jane Austen: The Complete Project Gutenberg Works of Jane Austen</span>, <span style=\"background-color:#d0ece7;\">Jane Austen: Pride and Prejudice</span>, <span style=\"background-color:#d8daef;\">Virginia Woolf: The Common Reader</span>, <span style=\"background-color:#f6ddcc;\">Virginia Woolf: Jacob's Room</span>, <span style=\"background-color:#fdebd0;\">Virginia Woolf: Night and Day</span>, <span style=\"background-color:#d6dbdf;\">Charlotte Brontë: Villette</span>, <span style=\"background-color:#ecf3cf;\">Virginia Woolf: The Voyage Out</span>, <span style=\"background-color:#eadbd8;\">Catherine Anne Austen Hubback and Jane Austen: The Younger Sister, Volumes 1-3</span>, <span style=\"background-color:#ebdef0;\">Emily Brontë: Wuthering Heights</span>, <span style=\"background-color:#d8daef;\">Charlotte Brontë: Biog Notes on the Pseudonymous Bells</span>, <span style=\"background-color:#fae5d3;\">Jane Austen: Pride and Prejudice</span>, <span style=\"background-color:#edebd0;\">Jane Austen: Emma</span></p></small>"
            ],
            "text/plain": [
              "<IPython.core.display.HTML object>"
            ]
          },
          "metadata": {}
        },
        {
          "output_type": "stream",
          "name": "stdout",
          "text": [
            "Epoch 7 Loss: 1.372 Precision: 0.590 Time/Sample: 0.000760 sec/sample\n",
            "Saved best precision model, prec=0.590\n",
            "Epoch 8 Loss: 1.364 Precision: 0.593 Time/Sample: 0.000761 sec/sample\n",
            "Saved best precision model, prec=0.593\n",
            "Epoch 8 Loss: 1.355 Precision: 0.595 Time/Sample: 0.000760 sec/sample\n",
            "Saved best precision model, prec=0.595\n",
            "Temperature 0.6:\n"
          ]
        },
        {
          "output_type": "display_data",
          "data": {
            "text/html": [
              "<span style=\"background-color:#edebd0;\">She was a great </span><span style=\"background-color:#ecf3cf;\">man like th</span><span style=\"background-color:#d8daef;\">e particular </span><span style=\"background-color:#fdebd0;\">brother from </span><span style=\"background-color:#eadbd8;\">the interf</span><span style=\"background-color:#e2d7d5;\">or to marry h</span><span style=\"background-color:#eadbd8;\">er feelings than th</span>e<span style=\"background-color:#d4e6f1;\"> father en</span>dig<span style=\"background-color:#eadbd8;\">enance to </span>me<span style=\"background-color:#d4e6f1;\"> so unconscious</span><span style=\"background-color:#eadbd8;\"> of the dinner </span><span style=\"background-color:#f6ddcc;\">of the way of </span><span style=\"background-color:#d8daef;\">his contemp</span><span style=\"background-color:#fae5d3;\">ation, was a</span><span style=\"background-color:#d4e6f1;\"> power of l</span><span style=\"background-color:#e2d7d5;\">eaving her to the car</span><span style=\"background-color:#d4e6f1;\">riage was he</span><span style=\"background-color:#eadbd8;\">r such a little s</span>u<span style=\"background-color:#eadbd8;\">ch such a </span><span style=\"background-color:#d8daef;\">sort of th</span><span style=\"background-color:#eadbd8;\">e girls in </span>so<span style=\"background-color:#e2d7d5;\">me continued </span><span style=\"background-color:#eadbd8;\">that the moment </span>of it<span style=\"background-color:#e2d7d5;\">s sure of a w</span>alk<span style=\"background-color:#d0ece7;\"> of account</span><span style=\"background-color:#fdebd0;\"> to the ord</span><span style=\"background-color:#e2d7d5;\"> thoughts, and re</span>merbe<span style=\"background-color:#ebdef0;\">red a minute </span>of s<span style=\"background-color:#fdebd0;\">o marriage a</span>s<span style=\"background-color:#d4e6f1;\"> the boy was </span><span style=\"background-color:#d0ece7;\">was not a d</span>esmir<span style=\"background-color:#fae5d3;\">e as were </span><span style=\"background-color:#edebd0;\">some time to </span><span style=\"background-color:#fdebd0;\">be a complete </span><span style=\"background-color:#d4e6f1;\">of the manner </span>o<span style=\"background-color:#d8daef;\">f and the </span><span style=\"background-color:#ebdef0;\">anger in his</span><span style=\"background-color:#d4e6f1;\"> part, which </span><span style=\"background-color:#eadbd8;\">she could have </span><span style=\"background-color:#fdebd0;\">another expe</span><span style=\"background-color:#d4e6f1;\">cted in the d</span><span style=\"background-color:#d4e6f1;\">oor, and the s</span>en<span style=\"background-color:#d4e6f1;\">tent of the ne</span>xt<span style=\"background-color:#ecf3cf;\"> death she </span><span style=\"background-color:#eadbd8;\">was not to see </span><span style=\"background-color:#d8daef;\">that he did </span><span style=\"background-color:#eadbd8;\">there all </span><span style=\"background-color:#d8daef;\">her friends </span><span style=\"background-color:#eadbd8;\">pleasant the</span><span style=\"background-color:#d4e6f1;\"> proper of </span><span style=\"background-color:#d0ece7;\">seeming to </span><span style=\"background-color:#eadbd8;\">med with th</span>"
            ],
            "text/plain": [
              "<IPython.core.display.HTML object>"
            ]
          },
          "metadata": {}
        },
        {
          "output_type": "display_data",
          "data": {
            "text/html": [
              "<small><p style=\"text-align:right;\">Sources: <span style=\"background-color:#edebd0;\">Jane Austen: Emma</span>, <span style=\"background-color:#ecf3cf;\">Virginia Woolf: The Voyage Out</span>, <span style=\"background-color:#d8daef;\">Virginia Woolf: The Common Reader</span>, <span style=\"background-color:#fdebd0;\">Virginia Woolf: Night and Day</span>, <span style=\"background-color:#eadbd8;\">Catherine Anne Austen Hubback and Jane Austen: The Younger Sister, Volumes 1-3</span>, <span style=\"background-color:#e2d7d5;\">Jane Austen: Sense and Sensibility</span>, <span style=\"background-color:#d4e6f1;\">Jane Austen: The Complete Project Gutenberg Works of Jane Austen</span>, <span style=\"background-color:#f6ddcc;\">Virginia Woolf: Jacob's Room</span>, <span style=\"background-color:#fae5d3;\">Jane Austen: Pride and Prejudice</span>, <span style=\"background-color:#d0ece7;\">Jane Austen: Pride and Prejudice</span>, <span style=\"background-color:#ebdef0;\">Emily Brontë: Wuthering Heights</span>, <span style=\"background-color:#edebd0;\">Catherine Anne Austen Hubback and Jane Austen: The Younger Sister, Vol. 2</span></p></small>"
            ],
            "text/plain": [
              "<IPython.core.display.HTML object>"
            ]
          },
          "metadata": {}
        },
        {
          "output_type": "stream",
          "name": "stdout",
          "text": [
            "Temperature 0.7:\n"
          ]
        },
        {
          "output_type": "display_data",
          "data": {
            "text/html": [
              "<span style=\"background-color:#fae5d3;\">“I do not know </span>singency and Lu<span style=\"background-color:#eadbd8;\">dy enough </span><span style=\"background-color:#ebdef0;\">and place him </span>to<span style=\"background-color:#e2d7d5;\"> be strange</span><span style=\"background-color:#d4e6f1;\">. She did not s</span>uw a<span style=\"background-color:#d4e6f1;\"> long thin</span>g ver<span style=\"background-color:#d4e6f1;\">y throwing it</span><span style=\"background-color:#eadbd8;\">s sister, wh</span><span style=\"background-color:#e2d7d5;\">en she felt </span><span style=\"background-color:#d0ece7;\">him to expect </span><span style=\"background-color:#d0ece7;\">them at least </span><span style=\"background-color:#d4efdf;\">the sister’s </span><span style=\"background-color:#d4e6f1;\">being intel</span><span style=\"background-color:#fdebd0;\">ded to her o</span>n a formess a<span style=\"background-color:#eadbd8;\">s countena</span><span style=\"background-color:#ebdef0;\">tions for </span>Hirstery fent<span style=\"background-color:#d4e6f1;\"> soon prom</span>ab<span style=\"background-color:#e2d7d5;\">ing to be a </span>c<span style=\"background-color:#eadbd8;\">ard of the </span>mistake<span style=\"background-color:#fdebd0;\">r, her fee</span><span style=\"background-color:#fdebd0;\">lings and p</span>eri<span style=\"background-color:#eadbd8;\">od, she was </span>sonri<span style=\"background-color:#d4e6f1;\">ed of him </span><span style=\"background-color:#d4e6f1;\">on the day of </span><span style=\"background-color:#d4e6f1;\">being able to ca</span><span style=\"background-color:#d8daef;\">ll at her </span><span style=\"background-color:#eadbd8;\">affectionate f</span><span style=\"background-color:#eadbd8;\">or some wor</span>ld<span style=\"background-color:#eadbd8;\"> they suppose</span><span style=\"background-color:#e2d7d5;\"> the world of a</span> weath.<span style=\"background-color:#fae5d3;\"> “Certainly </span><span style=\"background-color:#edebd0;\">is so much a</span>s a few baroughol<span style=\"background-color:#d4e6f1;\">y to do the </span>d<span style=\"background-color:#ebdef0;\">inner of the </span>P<span style=\"background-color:#eadbd8;\">resent of </span>relea<span style=\"background-color:#eadbd8;\">th to give </span>me<span style=\"background-color:#eadbd8;\"> a sigh, th</span>e two l<span style=\"background-color:#eadbd8;\">ying so well </span>be<span style=\"background-color:#d4e6f1;\"> good. She was </span><span style=\"background-color:#e5e8e8;\">all the Re</span>m<span style=\"background-color:#eadbd8;\">er removal to </span>comf<span style=\"background-color:#ebdef0;\">and every word </span><span style=\"background-color:#d4e6f1;\">with her the </span><span style=\"background-color:#d4e6f1;\">carriage to the </span><span style=\"background-color:#d8daef;\">exception of </span><span style=\"background-color:#d4e6f1;\">her first d</span>epartule, for h"
            ],
            "text/plain": [
              "<IPython.core.display.HTML object>"
            ]
          },
          "metadata": {}
        },
        {
          "output_type": "display_data",
          "data": {
            "text/html": [
              "<small><p style=\"text-align:right;\">Sources: <span style=\"background-color:#fae5d3;\">Jane Austen: Pride and Prejudice</span>, <span style=\"background-color:#eadbd8;\">Catherine Anne Austen Hubback and Jane Austen: The Younger Sister, Volumes 1-3</span>, <span style=\"background-color:#ebdef0;\">Emily Brontë: Wuthering Heights</span>, <span style=\"background-color:#e2d7d5;\">Jane Austen: Sense and Sensibility</span>, <span style=\"background-color:#d4e6f1;\">Jane Austen: The Complete Project Gutenberg Works of Jane Austen</span>, <span style=\"background-color:#e2d7d5;\">Catherine Anne Austen Hubback and Jane Austen: The Younger Sister, Vol. 3</span>, <span style=\"background-color:#d0ece7;\">Jane Austen: Pride and Prejudice</span>, <span style=\"background-color:#d4efdf;\">Jane Austen: Mansfield Park</span>, <span style=\"background-color:#fdebd0;\">Virginia Woolf: Night and Day</span>, <span style=\"background-color:#ebdef0;\">Virginia Woolf: Mr. Bennett and Mrs. Brown</span>, <span style=\"background-color:#eadbd8;\">Anne Brontë: Agnes Grey</span>, <span style=\"background-color:#d8daef;\">Virginia Woolf: The Common Reader</span>, <span style=\"background-color:#edebd0;\">Jane Austen: Emma</span>, <span style=\"background-color:#e5e8e8;\">Jane Austen: Love And Friendship And Other Early Works</span></p></small>"
            ],
            "text/plain": [
              "<IPython.core.display.HTML object>"
            ]
          },
          "metadata": {}
        },
        {
          "output_type": "stream",
          "name": "stdout",
          "text": [
            "Temperature 0.8:\n"
          ]
        },
        {
          "output_type": "display_data",
          "data": {
            "text/html": [
              "<span style=\"background-color:#eadbd8;\">She could not like </span>the spok<span style=\"background-color:#d4e6f1;\">le of them </span><span style=\"background-color:#e2d7d5;\">with something more than </span>dro<span style=\"background-color:#d4e6f1;\">ly for some </span>inven<span style=\"background-color:#d4e6f1;\">ties of man</span><span style=\"background-color:#d0ece7;\">y little a</span>ctn<span style=\"background-color:#eadbd8;\">action; and </span><span style=\"background-color:#d4e6f1;\">as he had t</span><span style=\"background-color:#eadbd8;\">ried to hi</span>s ch<span style=\"background-color:#eadbd8;\">armer, and </span><span style=\"background-color:#d4e6f1;\">seemed for the </span>cer<span style=\"background-color:#eadbd8;\">tent of the </span>world up love,<span style=\"background-color:#eadbd8;\"> so happened </span><span style=\"background-color:#d4e6f1;\">on every d</span><span style=\"background-color:#d8daef;\">one which </span>much _g<span style=\"background-color:#ebdef0;\">ather should be </span>m<span style=\"background-color:#fdebd0;\">et to see th</span>em an<span style=\"background-color:#f6ddcc;\">y being all </span><span style=\"background-color:#d4e6f1;\">the presence of a </span><span style=\"background-color:#d8daef;\">long since </span><span style=\"background-color:#d4e6f1;\">for a moment that </span>we wn<span style=\"background-color:#d4e6f1;\">ll such a d</span>etcap<span style=\"background-color:#d4e6f1;\"> deal to be </span>missak<span style=\"background-color:#eadbd8;\">e or some </span><span style=\"background-color:#d0ece7;\">latter with </span>a tome way, engu<span style=\"background-color:#e2d7d5;\">ing more with</span>o<span style=\"background-color:#d0ece7;\">ut her mind </span><span style=\"background-color:#d4e6f1;\">for every d</span>eal of not<span style=\"background-color:#d4e6f1;\">ling to the </span>fash? I wis<span style=\"background-color:#eadbd8;\">e any one m</span>y<span style=\"background-color:#eadbd8;\"> own inclin</span><span style=\"background-color:#d4e6f1;\">e for my mother</span><span style=\"background-color:#fdebd0;\">. The green</span><span style=\"background-color:#d0ece7;\"> desire of s</span>till<span style=\"background-color:#d8daef;\"> where are </span><span style=\"background-color:#eadbd8;\">here to talk </span><span style=\"background-color:#eadbd8;\">for her that </span>ew<span style=\"background-color:#e2d7d5;\">e laugh wh</span>e<span style=\"background-color:#d4e6f1;\">ter he was </span><span style=\"background-color:#d0ece7;\">out of it </span><span style=\"background-color:#d4e6f1;\">to be an a</span>bso<span style=\"background-color:#eadbd8;\">nute in the </span><span style=\"background-color:#d4e6f1;\">house of that</span><span style=\"background-color:#d4e6f1;\">. She is to</span><span style=\"background-color:#e2d7d5;\"> me in all </span><span style=\"background-color:#fae5d3;\">that hands</span> and tenle me. "
            ],
            "text/plain": [
              "<IPython.core.display.HTML object>"
            ]
          },
          "metadata": {}
        },
        {
          "output_type": "display_data",
          "data": {
            "text/html": [
              "<small><p style=\"text-align:right;\">Sources: <span style=\"background-color:#eadbd8;\">Catherine Anne Austen Hubback and Jane Austen: The Younger Sister, Volumes 1-3</span>, <span style=\"background-color:#d4e6f1;\">Jane Austen: The Complete Project Gutenberg Works of Jane Austen</span>, <span style=\"background-color:#e2d7d5;\">Catherine Anne Austen Hubback and Jane Austen: The Younger Sister, Vol. 3</span>, <span style=\"background-color:#d0ece7;\">Jane Austen: Pride and Prejudice</span>, <span style=\"background-color:#eadbd8;\">Anne Brontë: Agnes Grey</span>, <span style=\"background-color:#d8daef;\">Virginia Woolf: The Common Reader</span>, <span style=\"background-color:#ebdef0;\">Emily Brontë: Wuthering Heights</span>, <span style=\"background-color:#fdebd0;\">Virginia Woolf: Night and Day</span>, <span style=\"background-color:#f6ddcc;\">Virginia Woolf: Jacob's Room</span>, <span style=\"background-color:#e2d7d5;\">Jane Austen: Sense and Sensibility</span>, <span style=\"background-color:#fae5d3;\">Jane Austen: Pride and Prejudice</span></p></small>"
            ],
            "text/plain": [
              "<IPython.core.display.HTML object>"
            ]
          },
          "metadata": {}
        },
        {
          "output_type": "stream",
          "name": "stdout",
          "text": [
            "Epoch 8 Loss: 1.346 Precision: 0.597 Time/Sample: 0.000760 sec/sample\n",
            "Saved best precision model, prec=0.597\n",
            "Epoch 8 Loss: 1.339 Precision: 0.599 Time/Sample: 0.000762 sec/sample\n",
            "Saved best precision model, prec=0.599\n",
            "Epoch 8 Loss: 1.333 Precision: 0.600 Time/Sample: 0.000760 sec/sample\n",
            "Saved best precision model, prec=0.600\n",
            "Temperature 0.6:\n"
          ]
        },
        {
          "output_type": "display_data",
          "data": {
            "text/html": [
              "H<span style=\"background-color:#f6ddcc;\">e had a min</span>ute<span style=\"background-color:#d6dbdf;\"> of rather </span><span style=\"background-color:#d6dbdf;\">out of a g</span>eneral acc<span style=\"background-color:#eadbd8;\">ection to her </span>ai<span style=\"background-color:#d0ece7;\">r, she could not t</span><span style=\"background-color:#d0ece7;\">hough the wor</span><span style=\"background-color:#d4e6f1;\">st was not</span><span style=\"background-color:#d0ece7;\"> the marriage of </span><span style=\"background-color:#d4e6f1;\">all the head</span><span style=\"background-color:#eadbd8;\"> with any one </span><span style=\"background-color:#eadbd8;\">will be ve</span><span style=\"background-color:#eadbd8;\">ighted to t</span>he p<span style=\"background-color:#d6dbdf;\">arter, and </span>the ant<span style=\"background-color:#d6dbdf;\">we of the </span>sum<span style=\"background-color:#eadbd8;\">fering was </span><span style=\"background-color:#d6dbdf;\">only the st</span><span style=\"background-color:#ebdef0;\">umb of the </span><span style=\"background-color:#d8daef;\">subject, but </span><span style=\"background-color:#ebdef0;\">she had been dis</span><span style=\"background-color:#eadbd8;\">covered to </span>se<span style=\"background-color:#eadbd8;\">e it by the </span>wna<span style=\"background-color:#d8daef;\">ther such a</span>n indep<span style=\"background-color:#d8daef;\">ishing and </span>lo<span style=\"background-color:#d4e6f1;\">ng has been </span><span style=\"background-color:#eadbd8;\">a little bet</span>we<span style=\"background-color:#d4e6f1;\">en her not</span><span style=\"background-color:#d4e6f1;\"> would be the consequence</span><span style=\"background-color:#d4e6f1;\"> of the subject. </span>“T<span style=\"background-color:#d0ece7;\">he rest th</span>ing<span style=\"background-color:#f6ddcc;\">s exclaimed, </span><span style=\"background-color:#d4e6f1;\">as she has no</span><span style=\"background-color:#d4e6f1;\"> voice of m</span><span style=\"background-color:#d8daef;\">ind to be c</span>onsider to _is a disagport of ret<span style=\"background-color:#d0ece7;\">ident to her </span><span style=\"background-color:#eadbd8;\">as some in</span>terv<span style=\"background-color:#d4e6f1;\">es by some </span><span style=\"background-color:#d4e6f1;\">religious en</span><span style=\"background-color:#eadbd8;\">gagement o</span><span style=\"background-color:#d4e6f1;\">n his being s</span>el<span style=\"background-color:#e2d7d5;\">t up again </span><span style=\"background-color:#d8daef;\">from the sa</span>bl<span style=\"background-color:#eadbd8;\">ister of the </span>artss<span style=\"background-color:#ebdef0;\">ar had been</span><span style=\"background-color:#ebdef0;\">, and then sho</span><span style=\"background-color:#eadbd8;\">uld be as s</span><span style=\"background-color:#eadbd8;\">he wondered </span><span style=\"background-color:#d6dbdf;\">in a little a</span><span style=\"background-color:#d6dbdf;\">bout his hea</span><span style=\"background-color:#eadbd8;\">d to the comp</span>"
            ],
            "text/plain": [
              "<IPython.core.display.HTML object>"
            ]
          },
          "metadata": {}
        },
        {
          "output_type": "display_data",
          "data": {
            "text/html": [
              "<small><p style=\"text-align:right;\">Sources: <span style=\"background-color:#f6ddcc;\">Virginia Woolf: Jacob's Room</span>, <span style=\"background-color:#d6dbdf;\">Charlotte Brontë: Villette</span>, <span style=\"background-color:#eadbd8;\">Catherine Anne Austen Hubback and Jane Austen: The Younger Sister, Volumes 1-3</span>, <span style=\"background-color:#d0ece7;\">Jane Austen: Pride and Prejudice</span>, <span style=\"background-color:#d4e6f1;\">Jane Austen: The Complete Project Gutenberg Works of Jane Austen</span>, <span style=\"background-color:#ebdef0;\">Virginia Woolf: Mr. Bennett and Mrs. Brown</span>, <span style=\"background-color:#d8daef;\">Virginia Woolf: The Common Reader</span>, <span style=\"background-color:#ebdef0;\">Emily Brontë: Wuthering Heights</span>, <span style=\"background-color:#e2d7d5;\">Jane Austen: Sense and Sensibility</span>, <span style=\"background-color:#eadbd8;\">Anne Brontë: Agnes Grey</span></p></small>"
            ],
            "text/plain": [
              "<IPython.core.display.HTML object>"
            ]
          },
          "metadata": {}
        },
        {
          "output_type": "stream",
          "name": "stdout",
          "text": [
            "Temperature 0.7:\n"
          ]
        },
        {
          "output_type": "display_data",
          "data": {
            "text/html": [
              "I have ho<span style=\"background-color:#eadbd8;\">nded to her </span><span style=\"background-color:#ebdef0;\">eyes were w</span>ho<span style=\"background-color:#d8daef;\">le as the </span>lovel<span style=\"background-color:#eadbd8;\">s pleasant. </span><span style=\"background-color:#d0ece7;\">But I can </span><span style=\"background-color:#eadbd8;\">do nothing </span><span style=\"background-color:#ebdef0;\">in his wife</span><span style=\"background-color:#e2d7d5;\"> of a disappoint</span><span style=\"background-color:#eadbd8;\">ed, but the g</span><span style=\"background-color:#eadbd8;\">irls of th</span><span style=\"background-color:#eadbd8;\">is manner wh</span><span style=\"background-color:#d4e6f1;\">o had been con</span>tenu<span style=\"background-color:#d0ece7;\">te, was per</span><span style=\"background-color:#d4e6f1;\">suaded his</span><span style=\"background-color:#d4e6f1;\"> cousin, the </span><span style=\"background-color:#d4e6f1;\">distress be</span><span style=\"background-color:#fdebd0;\">autiful, or </span>enquire. Cont<span style=\"background-color:#eadbd8;\">ing he did not </span><span style=\"background-color:#d4e6f1;\">has been. </span><span style=\"background-color:#d4e6f1;\">I can have the</span><span style=\"background-color:#d8daef;\"> blood of the </span>si<span style=\"background-color:#d4e6f1;\">ch of her g</span>ir<span style=\"background-color:#d6dbdf;\">ss with an </span><span style=\"background-color:#d6dbdf;\">enough to think </span><span style=\"background-color:#eadbd8;\">you are to </span><span style=\"background-color:#d4e6f1;\">you with you</span><span style=\"background-color:#eadbd8;\">, I should be </span>for<span style=\"background-color:#d4e6f1;\"> a character of </span>than<span style=\"background-color:#d0ece7;\"> as reason</span><span style=\"background-color:#fae5d3;\">,” said he, “that </span>to sa<span style=\"background-color:#d4e6f1;\">y himself, and </span><span style=\"background-color:#d4e6f1;\">your character </span>of my comeny cr<span style=\"background-color:#d4e6f1;\">oss in her </span><span style=\"background-color:#eadbd8;\">own doing </span><span style=\"background-color:#eadbd8;\">with her, t</span>o gi<span style=\"background-color:#d4e6f1;\">ve many th</span><span style=\"background-color:#d4e6f1;\">an one of </span>their repemsic<span style=\"background-color:#e2d7d5;\">e were decided</span><span style=\"background-color:#eadbd8;\"> to allow t</span>o<span style=\"background-color:#d6dbdf;\"> her: she a</span><span style=\"background-color:#fdebd0;\">nd generally s</span>aking<span style=\"background-color:#d0ece7;\"> a general concern</span><span style=\"background-color:#d8daef;\"> of several </span><span style=\"background-color:#d4efdf;\">interest of an </span>ar<span style=\"background-color:#eadbd8;\">re and put</span><span style=\"background-color:#d4e6f1;\">ting the fi</span><span style=\"background-color:#d4e6f1;\">rst, in the </span>world inso the pu<span style=\"background-color:#eadbd8;\">ster-in-law,</span>"
            ],
            "text/plain": [
              "<IPython.core.display.HTML object>"
            ]
          },
          "metadata": {}
        },
        {
          "output_type": "display_data",
          "data": {
            "text/html": [
              "<small><p style=\"text-align:right;\">Sources: <span style=\"background-color:#eadbd8;\">Catherine Anne Austen Hubback and Jane Austen: The Younger Sister, Volumes 1-3</span>, <span style=\"background-color:#ebdef0;\">Emily Brontë: Wuthering Heights</span>, <span style=\"background-color:#d8daef;\">Virginia Woolf: The Common Reader</span>, <span style=\"background-color:#d0ece7;\">Jane Austen: Pride and Prejudice</span>, <span style=\"background-color:#e2d7d5;\">Jane Austen: Sense and Sensibility</span>, <span style=\"background-color:#d4e6f1;\">Jane Austen: The Complete Project Gutenberg Works of Jane Austen</span>, <span style=\"background-color:#fdebd0;\">Virginia Woolf: Night and Day</span>, <span style=\"background-color:#d6dbdf;\">Charlotte Brontë: Villette</span>, <span style=\"background-color:#fae5d3;\">Jane Austen: Pride and Prejudice</span>, <span style=\"background-color:#e2d7d5;\">Catherine Anne Austen Hubback and Jane Austen: The Younger Sister, Vol. 3</span>, <span style=\"background-color:#d4efdf;\">Jane Austen: Mansfield Park</span></p></small>"
            ],
            "text/plain": [
              "<IPython.core.display.HTML object>"
            ]
          },
          "metadata": {}
        },
        {
          "output_type": "stream",
          "name": "stdout",
          "text": [
            "Temperature 0.8:\n"
          ]
        },
        {
          "output_type": "display_data",
          "data": {
            "text/html": [
              "JaO<span style=\"background-color:#ecf3cf;\">en could s</span>ty<span style=\"background-color:#eadbd8;\">le occasional</span><span style=\"background-color:#eadbd8;\">ly want to </span><span style=\"background-color:#eadbd8;\">hear, and f</span>or<span style=\"background-color:#d6dbdf;\"> my plain </span>h<span style=\"background-color:#d0ece7;\">er ourselves </span><span style=\"background-color:#e2d7d5;\">has been long </span>doub<span style=\"background-color:#d4e6f1;\">t than she had </span>the h<span style=\"background-color:#ebdef0;\">ome character</span>--<span style=\"background-color:#d4e6f1;\">so attenti</span>ons to di<span style=\"background-color:#d0ece7;\">ver the in</span>glie<span style=\"background-color:#d0ece7;\">f to have </span><span style=\"background-color:#d4e6f1;\">with a reason</span><span style=\"background-color:#d4e6f1;\">ies behind</span><span style=\"background-color:#d0ece7;\"> his horse o</span><span style=\"background-color:#eadbd8;\">f looking a</span><span style=\"background-color:#d8daef;\">nd perfect</span>mu<span style=\"background-color:#eadbd8;\">ny, except </span><span style=\"background-color:#d8daef;\">in the mids</span><span style=\"background-color:#d4e6f1;\">le of that s</span><span style=\"background-color:#d4e6f1;\">uch an incl</span>ov<span style=\"background-color:#d4e6f1;\">ed for again</span>s<span style=\"background-color:#eadbd8;\">t an express </span>of<span style=\"background-color:#eadbd8;\"> more to the</span>ir<span style=\"background-color:#d0ece7;\"> less surprised </span><span style=\"background-color:#eadbd8;\">or two hours </span>b<span style=\"background-color:#d4e6f1;\">y an early </span><span style=\"background-color:#d6dbdf;\">different to the w</span>ay<span style=\"background-color:#eadbd8;\"> of increas</span><span style=\"background-color:#fae5d3;\">e, but did not </span>wis<span style=\"background-color:#d0ece7;\">h turned away to hi</span><span style=\"background-color:#eadbd8;\">s sister, and </span>s<span style=\"background-color:#d0ece7;\">uch dispos</span><span style=\"background-color:#eadbd8;\">ition of her d</span>esc<span style=\"background-color:#d0ece7;\">rise was s</span>o well<span style=\"background-color:#d4e6f1;\"> too, and as</span><span style=\"background-color:#eadbd8;\"> he was long</span> un<span style=\"background-color:#d0ece7;\">ple to be m</span>us<span style=\"background-color:#d6dbdf;\">t more cou</span>p<span style=\"background-color:#d8daef;\">le for him to </span>only seel his finsed<span style=\"background-color:#ebdef0;\"> hearth, bu</span><span style=\"background-color:#ecf3cf;\">t they really </span>commle<span style=\"background-color:#d6dbdf;\">ted disapp</span><span style=\"background-color:#fdebd0;\">eared his t</span>im<span style=\"background-color:#fae5d3;\">e. He mean</span><span style=\"background-color:#d0ece7;\"> who were d</span>ec<span style=\"background-color:#d0ece7;\">eased that he </span><span style=\"background-color:#d4e6f1;\">distressed s</span>o duny fac<span style=\"background-color:#d4e6f1;\">ily better</span> const"
            ],
            "text/plain": [
              "<IPython.core.display.HTML object>"
            ]
          },
          "metadata": {}
        },
        {
          "output_type": "display_data",
          "data": {
            "text/html": [
              "<small><p style=\"text-align:right;\">Sources: <span style=\"background-color:#ecf3cf;\">Virginia Woolf: The Voyage Out</span>, <span style=\"background-color:#eadbd8;\">Anne Brontë: Agnes Grey</span>, <span style=\"background-color:#eadbd8;\">Catherine Anne Austen Hubback and Jane Austen: The Younger Sister, Volumes 1-3</span>, <span style=\"background-color:#d6dbdf;\">Charlotte Brontë: Villette</span>, <span style=\"background-color:#d0ece7;\">Jane Austen: Pride and Prejudice</span>, <span style=\"background-color:#e2d7d5;\">Jane Austen: Sense and Sensibility</span>, <span style=\"background-color:#d4e6f1;\">Jane Austen: The Complete Project Gutenberg Works of Jane Austen</span>, <span style=\"background-color:#ebdef0;\">Virginia Woolf: Mr. Bennett and Mrs. Brown</span>, <span style=\"background-color:#d8daef;\">Virginia Woolf: The Common Reader</span>, <span style=\"background-color:#fae5d3;\">Jane Austen: Pride and Prejudice</span>, <span style=\"background-color:#ebdef0;\">Emily Brontë: Wuthering Heights</span>, <span style=\"background-color:#fdebd0;\">Virginia Woolf: Night and Day</span></p></small>"
            ],
            "text/plain": [
              "<IPython.core.display.HTML object>"
            ]
          },
          "metadata": {}
        },
        {
          "output_type": "stream",
          "name": "stdout",
          "text": [
            "Epoch 8 Loss: 1.325 Precision: 0.602 Time/Sample: 0.000761 sec/sample\n",
            "Saved best precision model, prec=0.602\n",
            "Epoch 9 Loss: 1.319 Precision: 0.604 Time/Sample: 0.000760 sec/sample\n",
            "Saved best precision model, prec=0.604\n",
            "Epoch 9 Loss: 1.312 Precision: 0.606 Time/Sample: 0.000761 sec/sample\n",
            "Saved best precision model, prec=0.606\n",
            "Epoch 9 Loss: 1.306 Precision: 0.607 Time/Sample: 0.000760 sec/sample\n",
            "Saved best precision model, prec=0.607\n",
            "Temperature 0.6:\n"
          ]
        },
        {
          "output_type": "display_data",
          "data": {
            "text/html": [
              "<span style=\"background-color:#ecf3cf;\">“I shall go </span><span style=\"background-color:#eadbd8;\">and marrying </span>and fere<span style=\"background-color:#eadbd8;\">ish, that </span><span style=\"background-color:#ebdef0;\">I were her </span><span style=\"background-color:#d4e6f1;\">company.\" </span>\"<span style=\"background-color:#fdebd0;\">You don’t see</span><span style=\"background-color:#fdebd0;\"> this kind of </span><span style=\"background-color:#d6dbdf;\">my money w</span><span style=\"background-color:#d6dbdf;\">ere excellent</span><span style=\"background-color:#eadbd8;\"> to give you.</span> I am<span style=\"background-color:#eadbd8;\">serted to </span><span style=\"background-color:#eadbd8;\">think of the s</span><span style=\"background-color:#d0ece7;\">ubject of it</span>. B<span style=\"background-color:#d4e6f1;\">ut discover</span><span style=\"background-color:#eadbd8;\">ed her sha</span>b<span style=\"background-color:#d0ece7;\">e a few months a</span><span style=\"background-color:#d8daef;\">nd the motion</span><span style=\"background-color:#fdebd0;\">s of his own sen</span>fibling compen<span style=\"background-color:#eadbd8;\">ling the re</span><span style=\"background-color:#d0ece7;\">st of the world, </span><span style=\"background-color:#d6dbdf;\">or of the a</span><span style=\"background-color:#eadbd8;\">ttention of the </span>ow<span style=\"background-color:#eadbd8;\">h of the co</span>nsequ<span style=\"background-color:#eadbd8;\">ion, and she </span><span style=\"background-color:#eadbd8;\">could not comm</span><span style=\"background-color:#d4e6f1;\">on said to </span>H<span style=\"background-color:#eadbd8;\">is with an </span>incleasious<span style=\"background-color:#d4e6f1;\"> bright in </span><span style=\"background-color:#d6dbdf;\">the park of </span><span style=\"background-color:#eadbd8;\">her attend</span><span style=\"background-color:#ebdef0;\">ing that she was </span>now<span style=\"background-color:#eadbd8;\"> reading to </span><span style=\"background-color:#d4e6f1;\">dispose them </span><span style=\"background-color:#d4e6f1;\">to the inti</span><span style=\"background-color:#ecf3cf;\">on of the vo</span><span style=\"background-color:#d4e6f1;\">ice in the c</span>oun<span style=\"background-color:#d8daef;\">ty delight</span><span style=\"background-color:#ebdef0;\">, and for my </span>c<span style=\"background-color:#fdebd0;\">ooting down the</span><span style=\"background-color:#d8daef;\">m to have </span><span style=\"background-color:#d0ece7;\">without hav</span><span style=\"background-color:#d6dbdf;\">e here to re</span>st<span style=\"background-color:#e2d7d5;\"> him, because she </span>was sug<span style=\"background-color:#d8daef;\">posed to the </span>charm<span style=\"background-color:#eadbd8;\">es of Miss </span><span style=\"background-color:#d4efdf;\">Crawford’s co</span>nd<span style=\"background-color:#d0ece7;\">icion of th</span><span style=\"background-color:#ecf3cf;\">at a great d</span><span style=\"background-color:#d6dbdf;\">eal of the con</span><span style=\"background-color:#d4e6f1;\">sideration to </span>ast"
            ],
            "text/plain": [
              "<IPython.core.display.HTML object>"
            ]
          },
          "metadata": {}
        },
        {
          "output_type": "display_data",
          "data": {
            "text/html": [
              "<small><p style=\"text-align:right;\">Sources: <span style=\"background-color:#ecf3cf;\">Virginia Woolf: The Voyage Out</span>, <span style=\"background-color:#eadbd8;\">Catherine Anne Austen Hubback and Jane Austen: The Younger Sister, Volumes 1-3</span>, <span style=\"background-color:#ebdef0;\">Emily Brontë: Wuthering Heights</span>, <span style=\"background-color:#d4e6f1;\">Jane Austen: The Complete Project Gutenberg Works of Jane Austen</span>, <span style=\"background-color:#fdebd0;\">Virginia Woolf: Night and Day</span>, <span style=\"background-color:#d6dbdf;\">Charlotte Brontë: Villette</span>, <span style=\"background-color:#eadbd8;\">Anne Brontë: Agnes Grey</span>, <span style=\"background-color:#d0ece7;\">Jane Austen: Pride and Prejudice</span>, <span style=\"background-color:#d8daef;\">Virginia Woolf: The Common Reader</span>, <span style=\"background-color:#ebdef0;\">Virginia Woolf: Mr. Bennett and Mrs. Brown</span>, <span style=\"background-color:#e2d7d5;\">Catherine Anne Austen Hubback and Jane Austen: The Younger Sister, Vol. 3</span>, <span style=\"background-color:#d4efdf;\">Jane Austen: Mansfield Park</span></p></small>"
            ],
            "text/plain": [
              "<IPython.core.display.HTML object>"
            ]
          },
          "metadata": {}
        },
        {
          "output_type": "stream",
          "name": "stdout",
          "text": [
            "Temperature 0.7:\n"
          ]
        },
        {
          "output_type": "display_data",
          "data": {
            "text/html": [
              "<span style=\"background-color:#eadbd8;\">I will not t</span><span style=\"background-color:#d4e6f1;\">hink that I shall </span>come how m<span style=\"background-color:#d6dbdf;\">ay I cannot</span> bed<span style=\"background-color:#f6ddcc;\">ind them with </span>me, all s<span style=\"background-color:#d8daef;\">eared for </span><span style=\"background-color:#d4e6f1;\">that nothing but t</span><span style=\"background-color:#d4e6f1;\">o Mrs. Weston, </span>Ferest<span style=\"background-color:#d8daef;\">on, because </span><span style=\"background-color:#d4e6f1;\">I think they m</span><span style=\"background-color:#d0ece7;\">ust come and </span><span style=\"background-color:#d0ece7;\">a girl to be </span><span style=\"background-color:#d6dbdf;\">indeed. And </span>his trum<span style=\"background-color:#eadbd8;\">s dear and </span>disappro<span style=\"background-color:#eadbd8;\">onable, and </span><span style=\"background-color:#eadbd8;\">the glass of </span><span style=\"background-color:#d4e6f1;\">the heart f</span>riend<span style=\"background-color:#d6dbdf;\">s? I have </span><span style=\"background-color:#e2d7d5;\">you see nothing </span>again.\" \"W<span style=\"background-color:#d4e6f1;\">ell always </span>d<span style=\"background-color:#fdebd0;\">eserve of o</span><span style=\"background-color:#d8daef;\">r through a </span>man<span style=\"background-color:#eadbd8;\"> of almost </span><span style=\"background-color:#f6ddcc;\">leave in the</span> h<span style=\"background-color:#eadbd8;\">all the evening.</span><span style=\"background-color:#d4e6f1;\"> He may have </span><span style=\"background-color:#eadbd8;\">been the o</span><span style=\"background-color:#d0ece7;\">ther family </span><span style=\"background-color:#d8daef;\">about the new </span><span style=\"background-color:#eadbd8;\">was very great </span>to do to<span style=\"background-color:#d6dbdf;\"> she with h</span>er, b<span style=\"background-color:#d4e6f1;\">ey to have </span>any taites<span style=\"background-color:#d0ece7;\"> by any re</span><span style=\"background-color:#d4e6f1;\">straint, a</span><span style=\"background-color:#d0ece7;\">ccording to thi</span><span style=\"background-color:#fdebd0;\">nk of some </span><span style=\"background-color:#d4e6f1;\">time and c</span>e<span style=\"background-color:#d6dbdf;\">rtain with </span>the abreh<span style=\"background-color:#eadbd8;\">; which had </span>so acpa<span style=\"background-color:#d4e6f1;\">and of the two </span>ago<span style=\"background-color:#d4e6f1;\">. The profession</span> of<span style=\"background-color:#d6dbdf;\"> then was no</span><span style=\"background-color:#ecf3cf;\">t proceeded to th</span><span style=\"background-color:#d4e6f1;\">e air of a </span><span style=\"background-color:#d6dbdf;\">creature which </span><span style=\"background-color:#d4e6f1;\">she came out </span><span style=\"background-color:#d8daef;\">that her m</span>umh ha"
            ],
            "text/plain": [
              "<IPython.core.display.HTML object>"
            ]
          },
          "metadata": {}
        },
        {
          "output_type": "display_data",
          "data": {
            "text/html": [
              "<small><p style=\"text-align:right;\">Sources: <span style=\"background-color:#eadbd8;\">Catherine Anne Austen Hubback and Jane Austen: The Younger Sister, Volumes 1-3</span>, <span style=\"background-color:#d4e6f1;\">Jane Austen: The Complete Project Gutenberg Works of Jane Austen</span>, <span style=\"background-color:#d6dbdf;\">Charlotte Brontë: Villette</span>, <span style=\"background-color:#f6ddcc;\">Virginia Woolf: Jacob's Room</span>, <span style=\"background-color:#d8daef;\">Virginia Woolf: The Common Reader</span>, <span style=\"background-color:#d0ece7;\">Jane Austen: Pride and Prejudice</span>, <span style=\"background-color:#e2d7d5;\">Jane Austen: Sense and Sensibility</span>, <span style=\"background-color:#fdebd0;\">Virginia Woolf: Night and Day</span>, <span style=\"background-color:#eadbd8;\">Anne Brontë: Agnes Grey</span>, <span style=\"background-color:#ecf3cf;\">Virginia Woolf: The Voyage Out</span></p></small>"
            ],
            "text/plain": [
              "<IPython.core.display.HTML object>"
            ]
          },
          "metadata": {}
        },
        {
          "output_type": "stream",
          "name": "stdout",
          "text": [
            "Temperature 0.8:\n"
          ]
        },
        {
          "output_type": "display_data",
          "data": {
            "text/html": [
              "T<span style=\"background-color:#ecf3cf;\">he green h</span>ear<span style=\"background-color:#eadbd8;\">t Emma immediately</span><span style=\"background-color:#eadbd8;\"> came for </span>one<span style=\"background-color:#d6dbdf;\">, to this </span>repaoches, keal at<span style=\"background-color:#eadbd8;\"> him. Emma </span><span style=\"background-color:#eadbd8;\">should have o</span><span style=\"background-color:#e2d7d5;\">ften hoped </span>to concirp<span style=\"background-color:#d4e6f1;\">ing to Man</span>gh<span style=\"background-color:#d4e6f1;\">field, it was </span><span style=\"background-color:#ecf3cf;\">since the wa</span><span style=\"background-color:#d8daef;\">y of the bi</span>t<span style=\"background-color:#d4e6f1;\">ture of the w</span><span style=\"background-color:#eadbd8;\">ays of ear</span>n<span style=\"background-color:#d4e6f1;\">y much of the </span><span style=\"background-color:#eadbd8;\">family. And </span><span style=\"background-color:#d4e6f1;\">was very much o</span><span style=\"background-color:#e2d7d5;\">f the indis</span>tic<span style=\"background-color:#d8daef;\">ace of an </span><span style=\"background-color:#d0ece7;\">hour in the</span><span style=\"background-color:#d8daef;\">ir character</span><span style=\"background-color:#d8daef;\">. The same </span><span style=\"background-color:#d8daef;\">minutes be</span><span style=\"background-color:#d4e6f1;\">tween the young </span><span style=\"background-color:#d4e6f1;\">which her eye</span>s, enl<span style=\"background-color:#d4e6f1;\">ough for s</span>inkenn<span style=\"background-color:#e2d7d5;\">y Colonel B</span>ist<span style=\"background-color:#e2d7d5;\">erson, was </span><span style=\"background-color:#eadbd8;\">their conse</span><span style=\"background-color:#d4e6f1;\">quence was th</span>eir spheat<span style=\"background-color:#d4e6f1;\">. I am to </span><span style=\"background-color:#d0ece7;\">but go to </span><span style=\"background-color:#d4e6f1;\">be a great pl</span>a<span style=\"background-color:#d0ece7;\">ce. I have </span><span style=\"background-color:#eadbd8;\">really in </span>the dibec<span style=\"background-color:#eadbd8;\">t. I do not </span><span style=\"background-color:#d8daef;\">indeed the p</span>lace;<span style=\"background-color:#d4e6f1;\">\" cried Emma, n</span>ausingu<span style=\"background-color:#d6dbdf;\">e, upon hi</span>mself ago alone. All c<span style=\"background-color:#fdebd0;\">athering t</span><span style=\"background-color:#d6dbdf;\">hat his life</span><span style=\"background-color:#d4e6f1;\">. The end of </span><span style=\"background-color:#d4e6f1;\">the time, who </span>was af<span style=\"background-color:#eadbd8;\">readed to o</span>ur res<span style=\"background-color:#d4e6f1;\">cessity, w</span>hi<span style=\"background-color:#eadbd8;\">le way with </span><span style=\"background-color:#eadbd8;\">and some a</span>tsu<span style=\"background-color:#d6dbdf;\">chments of </span>the studar<span style=\"background-color:#eadbd8;\">d and pleas</span>u"
            ],
            "text/plain": [
              "<IPython.core.display.HTML object>"
            ]
          },
          "metadata": {}
        },
        {
          "output_type": "display_data",
          "data": {
            "text/html": [
              "<small><p style=\"text-align:right;\">Sources: <span style=\"background-color:#ecf3cf;\">Virginia Woolf: The Voyage Out</span>, <span style=\"background-color:#eadbd8;\">Catherine Anne Austen Hubback and Jane Austen: The Younger Sister, Volumes 1-3</span>, <span style=\"background-color:#d6dbdf;\">Charlotte Brontë: Villette</span>, <span style=\"background-color:#e2d7d5;\">Jane Austen: Sense and Sensibility</span>, <span style=\"background-color:#d4e6f1;\">Jane Austen: The Complete Project Gutenberg Works of Jane Austen</span>, <span style=\"background-color:#d8daef;\">Virginia Woolf: The Common Reader</span>, <span style=\"background-color:#eadbd8;\">Anne Brontë: Agnes Grey</span>, <span style=\"background-color:#d0ece7;\">Jane Austen: Pride and Prejudice</span>, <span style=\"background-color:#fdebd0;\">Virginia Woolf: Night and Day</span></p></small>"
            ],
            "text/plain": [
              "<IPython.core.display.HTML object>"
            ]
          },
          "metadata": {}
        },
        {
          "output_type": "stream",
          "name": "stdout",
          "text": [
            "Epoch 9 Loss: 1.299 Precision: 0.609 Time/Sample: 0.000760 sec/sample\n",
            "Saved best precision model, prec=0.609\n",
            "Epoch 9 Loss: 1.294 Precision: 0.610 Time/Sample: 0.000761 sec/sample\n",
            "Saved best precision model, prec=0.610\n",
            "Epoch 9 Loss: 1.288 Precision: 0.611 Time/Sample: 0.000761 sec/sample\n",
            "Saved best precision model, prec=0.611\n",
            "Temperature 0.6:\n"
          ]
        },
        {
          "output_type": "display_data",
          "data": {
            "text/html": [
              "<span style=\"background-color:#eadbd8;\">You must have been </span><span style=\"background-color:#fae5d3;\">down again to </span>discu<span style=\"background-color:#eadbd8;\">ss by the </span>conse<span style=\"background-color:#fdebd0;\">anted people </span>wh<span style=\"background-color:#eadbd8;\">o, as she </span><span style=\"background-color:#eadbd8;\">thought of the </span><span style=\"background-color:#e2d7d5;\">same time of </span><span style=\"background-color:#d4e6f1;\">some time wh</span><span style=\"background-color:#eadbd8;\">en they co</span><span style=\"background-color:#eadbd8;\">uld have come </span><span style=\"background-color:#fdebd0;\">back to ma</span><span style=\"background-color:#f6ddcc;\">ke one of th</span>e ru<span style=\"background-color:#ebdef0;\">n strange p</span><span style=\"background-color:#e2d7d5;\">articular at </span><span style=\"background-color:#d8daef;\">the time of </span><span style=\"background-color:#d8daef;\">mistake to </span>her lubg<span style=\"background-color:#eadbd8;\">e instance of his </span><span style=\"background-color:#eadbd8;\">face, and he </span><span style=\"background-color:#ebdef0;\">went on to her</span><span style=\"background-color:#d4e6f1;\"> so much rea</span><span style=\"background-color:#eadbd8;\">dy to have </span><span style=\"background-color:#ebdef0;\">a garden, and </span><span style=\"background-color:#fae5d3;\">her last part</span><span style=\"background-color:#eadbd8;\"> was the o</span><span style=\"background-color:#d6dbdf;\">ther week </span>by a<span style=\"background-color:#d8daef;\"> store of </span><span style=\"background-color:#fae5d3;\">consult to</span><span style=\"background-color:#eadbd8;\"> observation that he </span><span style=\"background-color:#ebdef0;\">would repe</span><span style=\"background-color:#eadbd8;\">ive her friend</span><span style=\"background-color:#d8daef;\">s are in the </span><span style=\"background-color:#d4e6f1;\">same room to</span><span style=\"background-color:#ebdef0;\"> reach her </span><span style=\"background-color:#d4e6f1;\">feelings of his h</span>op<span style=\"background-color:#d0ece7;\">e; but she was not </span>don<span style=\"background-color:#ebdef0;\">e sighing </span>to sh<span style=\"background-color:#d4e6f1;\">elt, and th</span><span style=\"background-color:#d8daef;\">e strange </span>inqie<span style=\"background-color:#d8daef;\">sition for </span><span style=\"background-color:#eadbd8;\">her own sister</span><span style=\"background-color:#d8daef;\">. When the r</span><span style=\"background-color:#eadbd8;\">oom was to be </span><span style=\"background-color:#d0ece7;\">allowed their di</span><span style=\"background-color:#e2d7d5;\">fferent sha</span><span style=\"background-color:#e2d7d5;\">te of the par</span><span style=\"background-color:#eadbd8;\">ty of Mr. Howard</span><span style=\"background-color:#f6ddcc;\"> walked at </span><span style=\"background-color:#e2d7d5;\">him with an evi</span><span style=\"background-color:#ebdef0;\">tious coun</span><span style=\"background-color:#e2d7d5;\">try, and the </span><span style=\"background-color:#d4e6f1;\">gentle of </span>the count"
            ],
            "text/plain": [
              "<IPython.core.display.HTML object>"
            ]
          },
          "metadata": {}
        },
        {
          "output_type": "display_data",
          "data": {
            "text/html": [
              "<small><p style=\"text-align:right;\">Sources: <span style=\"background-color:#eadbd8;\">Catherine Anne Austen Hubback and Jane Austen: The Younger Sister, Volumes 1-3</span>, <span style=\"background-color:#fae5d3;\">Jane Austen: Pride and Prejudice</span>, <span style=\"background-color:#fdebd0;\">Virginia Woolf: Night and Day</span>, <span style=\"background-color:#e2d7d5;\">Jane Austen: Sense and Sensibility</span>, <span style=\"background-color:#d4e6f1;\">Jane Austen: The Complete Project Gutenberg Works of Jane Austen</span>, <span style=\"background-color:#f6ddcc;\">Virginia Woolf: Jacob's Room</span>, <span style=\"background-color:#ebdef0;\">Emily Brontë: Wuthering Heights</span>, <span style=\"background-color:#d8daef;\">Virginia Woolf: The Common Reader</span>, <span style=\"background-color:#eadbd8;\">Anne Brontë: Agnes Grey</span>, <span style=\"background-color:#ebdef0;\">Virginia Woolf: Mr. Bennett and Mrs. Brown</span>, <span style=\"background-color:#d6dbdf;\">Charlotte Brontë: Villette</span>, <span style=\"background-color:#d0ece7;\">Jane Austen: Pride and Prejudice</span>, <span style=\"background-color:#d0ece7;\">Jane Austen: Northanger Abbey</span>, <span style=\"background-color:#e2d7d5;\">Catherine Anne Austen Hubback and Jane Austen: The Younger Sister, Vol. 3</span></p></small>"
            ],
            "text/plain": [
              "<IPython.core.display.HTML object>"
            ]
          },
          "metadata": {}
        },
        {
          "output_type": "stream",
          "name": "stdout",
          "text": [
            "Temperature 0.7:\n"
          ]
        },
        {
          "output_type": "display_data",
          "data": {
            "text/html": [
              "<span style=\"background-color:#eadbd8;\">I will be a</span><span style=\"background-color:#d0ece7;\"> good noti</span>cula<span style=\"background-color:#ecf3cf;\">r tea-table, </span>or a mourniance?\" \"O<span style=\"background-color:#d4e6f1;\">h nothing, </span><span style=\"background-color:#e2d7d5;\">when Edward </span><span style=\"background-color:#eadbd8;\">was a great deal </span>for a<span style=\"background-color:#d0ece7;\"> left to the co</span><span style=\"background-color:#f6ddcc;\">ntent and t</span>ast<span style=\"background-color:#d0ece7;\">e. “We are </span><span style=\"background-color:#d6dbdf;\">you the no</span>w<span style=\"background-color:#fdebd0;\"> intimacy of t</span><span style=\"background-color:#d0ece7;\">heir chance of m</span><span style=\"background-color:#edebd0;\">y mother’s a</span>n<span style=\"background-color:#ebdef0;\">cry, and be</span>gan<span style=\"background-color:#d4e6f1;\"> of home and family</span><span style=\"background-color:#eadbd8;\">, and said, </span><span style=\"background-color:#d0ece7;\">did not ha</span><span style=\"background-color:#d6dbdf;\">ve done nothing</span><span style=\"background-color:#fdebd0;\">, and she was not </span><span style=\"background-color:#eadbd8;\">mistaken, </span>whe<span style=\"background-color:#d4e6f1;\">re a variety </span><span style=\"background-color:#d4e6f1;\">and emotion </span><span style=\"background-color:#d4e6f1;\">enough for the ho</span><span style=\"background-color:#d6dbdf;\">nour of her </span>l<span style=\"background-color:#e2d7d5;\">ine of her</span><span style=\"background-color:#d0ece7;\"> mother's a</span><span style=\"background-color:#e5e8e8;\">ssistance and </span><span style=\"background-color:#eadbd8;\">acquaintance, o</span><span style=\"background-color:#d4e6f1;\">r which he co</span><span style=\"background-color:#d0ece7;\">ntinued to a</span><span style=\"background-color:#d4e6f1;\"> little equal to </span><span style=\"background-color:#e2d7d5;\">leave, and we</span>re a ree<span style=\"background-color:#d4e6f1;\">ging of the </span>pu<span style=\"background-color:#d8daef;\">rdness and </span><span style=\"background-color:#d0ece7;\">kind of his</span><span style=\"background-color:#fae5d3;\"> father, though </span><span style=\"background-color:#d0ece7;\">the talent </span><span style=\"background-color:#eadbd8;\">had been very a</span><span style=\"background-color:#eadbd8;\">greeable to s</span>p<span style=\"background-color:#eadbd8;\">eak all the</span><span style=\"background-color:#eadbd8;\"> little of the </span>some conva<span style=\"background-color:#ebdef0;\">lation. She </span>mo<span style=\"background-color:#d4e6f1;\">ated with a </span>s<span style=\"background-color:#d4e6f1;\">tite of her </span><span style=\"background-color:#e2d7d5;\">manner. “I </span>beg<span style=\"background-color:#eadbd8;\">id you are </span><span style=\"background-color:#eadbd8;\">of our mother</span><span style=\"background-color:#d4e6f1;\">, and I have been</span><span style=\"background-color:#fdebd0;\"> most uncomf</span>"
            ],
            "text/plain": [
              "<IPython.core.display.HTML object>"
            ]
          },
          "metadata": {}
        },
        {
          "output_type": "display_data",
          "data": {
            "text/html": [
              "<small><p style=\"text-align:right;\">Sources: <span style=\"background-color:#eadbd8;\">Catherine Anne Austen Hubback and Jane Austen: The Younger Sister, Volumes 1-3</span>, <span style=\"background-color:#d0ece7;\">Jane Austen: Pride and Prejudice</span>, <span style=\"background-color:#ecf3cf;\">Virginia Woolf: The Voyage Out</span>, <span style=\"background-color:#d4e6f1;\">Jane Austen: The Complete Project Gutenberg Works of Jane Austen</span>, <span style=\"background-color:#e2d7d5;\">Jane Austen: Sense and Sensibility</span>, <span style=\"background-color:#f6ddcc;\">Virginia Woolf: Jacob's Room</span>, <span style=\"background-color:#d0ece7;\">Jane Austen: Northanger Abbey</span>, <span style=\"background-color:#d6dbdf;\">Charlotte Brontë: Villette</span>, <span style=\"background-color:#fdebd0;\">Virginia Woolf: Night and Day</span>, <span style=\"background-color:#edebd0;\">Jane Austen: Emma</span>, <span style=\"background-color:#ebdef0;\">Emily Brontë: Wuthering Heights</span>, <span style=\"background-color:#e5e8e8;\">Jane Austen: Love And Friendship And Other Early Works</span>, <span style=\"background-color:#d8daef;\">Virginia Woolf: The Common Reader</span>, <span style=\"background-color:#fae5d3;\">Jane Austen: Pride and Prejudice</span>, <span style=\"background-color:#eadbd8;\">Anne Brontë: Agnes Grey</span>, <span style=\"background-color:#ebdef0;\">Virginia Woolf: Mr. Bennett and Mrs. Brown</span></p></small>"
            ],
            "text/plain": [
              "<IPython.core.display.HTML object>"
            ]
          },
          "metadata": {}
        },
        {
          "output_type": "stream",
          "name": "stdout",
          "text": [
            "Temperature 0.8:\n"
          ]
        },
        {
          "output_type": "display_data",
          "data": {
            "text/html": [
              "The new<span style=\"background-color:#ecf3cf;\"> came of a c</span>omf<span style=\"background-color:#d6dbdf;\">ortion of part</span><span style=\"background-color:#eadbd8;\">iculars as </span><span style=\"background-color:#d4efdf;\">she had arranged </span>any ratel<span style=\"background-color:#ecf3cf;\">less and so</span>licitual dis<span style=\"background-color:#fdebd0;\">man. The c</span><span style=\"background-color:#d8daef;\">onstant pre</span>v<span style=\"background-color:#fdebd0;\">ament could </span>b<span style=\"background-color:#d0ece7;\">e longer. </span>But it ka<span style=\"background-color:#d4e6f1;\">ul pleasure </span><span style=\"background-color:#d4e6f1;\">not with m</span><span style=\"background-color:#ebdef0;\">ore than to c</span>uus<span style=\"background-color:#ebdef0;\">on again. I </span>am ro<span style=\"background-color:#d0ece7;\">xt morning. The </span>damami<span style=\"background-color:#d6dbdf;\">ly of its </span>s<span style=\"background-color:#eadbd8;\">ister some</span><span style=\"background-color:#d4e6f1;\">thing unwel</span><span style=\"background-color:#d4e6f1;\">t with all the d</span>o<span style=\"background-color:#e2d7d5;\">or was obliged to a</span><span style=\"background-color:#d0ece7;\"> general to</span>wil<span style=\"background-color:#d6dbdf;\">g she look</span><span style=\"background-color:#eadbd8;\">ing out with </span><span style=\"background-color:#d4e6f1;\">her mother; </span><span style=\"background-color:#d4e6f1;\">and she knew </span><span style=\"background-color:#d4e6f1;\">how to find </span>up <span style=\"background-color:#d4e6f1;\">age. He was </span>liked<span style=\"background-color:#ecf3cf;\">ision with his </span>own. Circ<span style=\"background-color:#eadbd8;\">hip exclaimed</span>, “<span style=\"background-color:#d6dbdf;\">he might dig</span><span style=\"background-color:#d6dbdf;\">fied to her</span><span style=\"background-color:#f6ddcc;\">, and the world </span>dec<span style=\"background-color:#d4e6f1;\">arted the </span>des<span style=\"background-color:#d4e6f1;\">estation t</span><span style=\"background-color:#d8daef;\">o believe </span><span style=\"background-color:#d4e6f1;\">Mr. Cole, </span><span style=\"background-color:#f6ddcc;\">on their mo</span><span style=\"background-color:#d4e6f1;\">rning seemed t</span>o her bas<span style=\"background-color:#fdebd0;\">terly and </span><span style=\"background-color:#fae5d3;\">the last mention</span><span style=\"background-color:#d8daef;\"> of the wor</span>f<span style=\"background-color:#ebdef0;\">e first si</span>de<span style=\"background-color:#d4e6f1;\"> of a suffering</span><span style=\"background-color:#d8daef;\">s in the wa</span>ll, h<span style=\"background-color:#d4e6f1;\">as a mere e</span>fp<span style=\"background-color:#d6dbdf;\">an of course </span><span style=\"background-color:#d0ece7;\">of the subject, and </span>“<span style=\"background-color:#d4e6f1;\">daughter c</span><span style=\"background-color:#d4e6f1;\">an always </span>grat"
            ],
            "text/plain": [
              "<IPython.core.display.HTML object>"
            ]
          },
          "metadata": {}
        },
        {
          "output_type": "display_data",
          "data": {
            "text/html": [
              "<small><p style=\"text-align:right;\">Sources: <span style=\"background-color:#ecf3cf;\">Virginia Woolf: The Voyage Out</span>, <span style=\"background-color:#d6dbdf;\">Charlotte Brontë: Villette</span>, <span style=\"background-color:#eadbd8;\">Catherine Anne Austen Hubback and Jane Austen: The Younger Sister, Volumes 1-3</span>, <span style=\"background-color:#d4efdf;\">Jane Austen: Mansfield Park</span>, <span style=\"background-color:#fdebd0;\">Virginia Woolf: Night and Day</span>, <span style=\"background-color:#d8daef;\">Virginia Woolf: The Common Reader</span>, <span style=\"background-color:#d0ece7;\">Jane Austen: Pride and Prejudice</span>, <span style=\"background-color:#d4e6f1;\">Jane Austen: The Complete Project Gutenberg Works of Jane Austen</span>, <span style=\"background-color:#ebdef0;\">Emily Brontë: Wuthering Heights</span>, <span style=\"background-color:#eadbd8;\">Anne Brontë: Agnes Grey</span>, <span style=\"background-color:#e2d7d5;\">Jane Austen: Sense and Sensibility</span>, <span style=\"background-color:#f6ddcc;\">Virginia Woolf: Jacob's Room</span>, <span style=\"background-color:#fae5d3;\">Jane Austen: Pride and Prejudice</span>, <span style=\"background-color:#ebdef0;\">Virginia Woolf: Mr. Bennett and Mrs. Brown</span></p></small>"
            ],
            "text/plain": [
              "<IPython.core.display.HTML object>"
            ]
          },
          "metadata": {}
        },
        {
          "output_type": "stream",
          "name": "stdout",
          "text": [
            "Epoch 9 Loss: 1.283 Precision: 0.612 Time/Sample: 0.000761 sec/sample\n",
            "Saved best precision model, prec=0.612\n",
            "Epoch 10 Loss: 1.279 Precision: 0.614 Time/Sample: 0.000762 sec/sample\n",
            "Saved best precision model, prec=0.614\n",
            "Epoch 10 Loss: 1.274 Precision: 0.615 Time/Sample: 0.000761 sec/sample\n",
            "Saved best precision model, prec=0.615\n",
            "Temperature 0.6:\n"
          ]
        },
        {
          "output_type": "display_data",
          "data": {
            "text/html": [
              "<span style=\"background-color:#eadbd8;\">She had such a s</span><span style=\"background-color:#d4e6f1;\">peaking ill</span><span style=\"background-color:#eadbd8;\">-natured, and </span><span style=\"background-color:#d0ece7;\">with a person so </span>d<span style=\"background-color:#e2d7d5;\">ecurity with </span><span style=\"background-color:#d4e6f1;\">the first sa</span><span style=\"background-color:#e2d7d5;\">tisfaction of a </span><span style=\"background-color:#d8daef;\">proof of the </span>b<span style=\"background-color:#d4e6f1;\">allowing l</span>oo<span style=\"background-color:#d6dbdf;\">kest and co</span><span style=\"background-color:#d6dbdf;\">mplete, as </span><span style=\"background-color:#eadbd8;\">she was always </span><span style=\"background-color:#d0ece7;\">promised the</span><span style=\"background-color:#eadbd8;\"> subject of s</span><span style=\"background-color:#d4e6f1;\">peeches in</span><span style=\"background-color:#ecf3cf;\"> the country; and the </span><span style=\"background-color:#eadbd8;\">greatest sh</span><span style=\"background-color:#d0ece7;\">e could not have been </span><span style=\"background-color:#d6dbdf;\">enough, and pr</span>ess<span style=\"background-color:#eadbd8;\">y delighted with her.</span><span style=\"background-color:#d6dbdf;\"> “I should not have </span><span style=\"background-color:#d6dbdf;\">been seen h</span><span style=\"background-color:#e2d7d5;\">im to be a g</span><span style=\"background-color:#d0ece7;\">reat deal to it</span><span style=\"background-color:#d6dbdf;\">. When I sh</span><span style=\"background-color:#eadbd8;\">ould take me</span><span style=\"background-color:#d4e6f1;\">. I think you w</span>er<span style=\"background-color:#d6dbdf;\">e down to a</span><span style=\"background-color:#f6ddcc;\">ll their eyes </span><span style=\"background-color:#d8daef;\">since it w</span>ill be depi<span style=\"background-color:#d4e6f1;\">sing to see</span><span style=\"background-color:#d4e6f1;\">m that I could not</span><span style=\"background-color:#eadbd8;\"> be quite de</span>ca<span style=\"background-color:#eadbd8;\">sing on the </span><span style=\"background-color:#d0ece7;\">one of the party </span><span style=\"background-color:#d4e6f1;\">to me. I w</span><span style=\"background-color:#eadbd8;\">as the other </span><span style=\"background-color:#d6dbdf;\">possible ri</span>d<span style=\"background-color:#fdebd0;\">ality of every</span><span style=\"background-color:#d8daef;\"> side of the</span><span style=\"background-color:#d8daef;\">ir way to </span>mind<span style=\"background-color:#d4e6f1;\"> her had s</span><span style=\"background-color:#d4e6f1;\">o easily be</span><span style=\"background-color:#eadbd8;\">en in such </span><span style=\"background-color:#d0ece7;\">expectations of f</span>ine week<span style=\"background-color:#d8daef;\"> the happiness</span><span style=\"background-color:#fae5d3;\">. The town w</span>as destic<span style=\"background-color:#fdebd0;\">ied by the pr</span>es<span style=\"background-color:#eadbd8;\">ent account</span>"
            ],
            "text/plain": [
              "<IPython.core.display.HTML object>"
            ]
          },
          "metadata": {}
        },
        {
          "output_type": "display_data",
          "data": {
            "text/html": [
              "<small><p style=\"text-align:right;\">Sources: <span style=\"background-color:#eadbd8;\">Catherine Anne Austen Hubback and Jane Austen: The Younger Sister, Volumes 1-3</span>, <span style=\"background-color:#d4e6f1;\">Jane Austen: The Complete Project Gutenberg Works of Jane Austen</span>, <span style=\"background-color:#d0ece7;\">Jane Austen: Pride and Prejudice</span>, <span style=\"background-color:#e2d7d5;\">Jane Austen: Sense and Sensibility</span>, <span style=\"background-color:#d8daef;\">Virginia Woolf: The Common Reader</span>, <span style=\"background-color:#d6dbdf;\">Charlotte Brontë: Villette</span>, <span style=\"background-color:#ecf3cf;\">Virginia Woolf: The Voyage Out</span>, <span style=\"background-color:#f6ddcc;\">Virginia Woolf: Jacob's Room</span>, <span style=\"background-color:#fdebd0;\">Virginia Woolf: Night and Day</span>, <span style=\"background-color:#fae5d3;\">Jane Austen: Pride and Prejudice</span></p></small>"
            ],
            "text/plain": [
              "<IPython.core.display.HTML object>"
            ]
          },
          "metadata": {}
        },
        {
          "output_type": "stream",
          "name": "stdout",
          "text": [
            "Temperature 0.7:\n"
          ]
        },
        {
          "output_type": "display_data",
          "data": {
            "text/html": [
              "<span style=\"background-color:#fae5d3;\">“I hope you are </span><span style=\"background-color:#d8daef;\">possible not </span><span style=\"background-color:#eadbd8;\">and so much </span><span style=\"background-color:#eadbd8;\">at all comp</span>le<span style=\"background-color:#d8daef;\">sely as the </span>sa<span style=\"background-color:#d6dbdf;\">me content</span><span style=\"background-color:#eadbd8;\">ation at an </span>accus<span style=\"background-color:#d4e6f1;\">e minutes to </span><span style=\"background-color:#f6ddcc;\">applied them</span><span style=\"background-color:#d4e6f1;\">. And you know the</span><span style=\"background-color:#eadbd8;\"> sister at </span>his early<span style=\"background-color:#d8daef;\">. So little </span><span style=\"background-color:#fdebd0;\">interesting of the </span><span style=\"background-color:#d4e6f1;\">thought of that </span>attecped Mortad<span style=\"background-color:#eadbd8;\">e had hoped </span><span style=\"background-color:#eadbd8;\">it for the s</span><span style=\"background-color:#fae5d3;\">ubjects of the </span>wa<span style=\"background-color:#fdebd0;\">ll of great </span>conf<span style=\"background-color:#d4efdf;\">ideration of o</span><span style=\"background-color:#eadbd8;\">ne of the Osborne </span><span style=\"background-color:#fdebd0;\">Street and the</span><span style=\"background-color:#d4e6f1;\"> home of the </span>danger clom pa<span style=\"background-color:#eadbd8;\">le to the s</span><span style=\"background-color:#d6dbdf;\">ister of the s</span><span style=\"background-color:#d8daef;\">ame profession</span><span style=\"background-color:#d4e6f1;\"> of her name</span><span style=\"background-color:#d6dbdf;\">—handsome </span><span style=\"background-color:#d0ece7;\">day was to </span><span style=\"background-color:#d4efdf;\">do for her </span><span style=\"background-color:#d4e6f1;\">way, with a </span><span style=\"background-color:#d8daef;\">something of a </span>very spavel<span style=\"background-color:#ebdef0;\">ed one tha</span><span style=\"background-color:#e2d7d5;\">n the last t</span>alles had v<span style=\"background-color:#d4e6f1;\">enry to her</span><span style=\"background-color:#d8daef;\">self in the </span><span style=\"background-color:#e2d7d5;\">former app</span>l<span style=\"background-color:#eadbd8;\">oaching their </span>pic<span style=\"background-color:#ecf3cf;\">ties and mo</span><span style=\"background-color:#eadbd8;\">rning to her</span><span style=\"background-color:#d4e6f1;\">. The end of </span><span style=\"background-color:#d8daef;\">the minds </span>bego<span style=\"background-color:#e2d7d5;\">re any thing</span>s at a sof<span style=\"background-color:#eadbd8;\">t of silent</span><span style=\"background-color:#e2d7d5;\">; the same </span>repol<span style=\"background-color:#eadbd8;\">otation of </span><span style=\"background-color:#d4e6f1;\">some pains </span><span style=\"background-color:#d6dbdf;\">of the shor</span>m<span style=\"background-color:#eadbd8;\"> delicacy of</span>"
            ],
            "text/plain": [
              "<IPython.core.display.HTML object>"
            ]
          },
          "metadata": {}
        },
        {
          "output_type": "display_data",
          "data": {
            "text/html": [
              "<small><p style=\"text-align:right;\">Sources: <span style=\"background-color:#fae5d3;\">Jane Austen: Pride and Prejudice</span>, <span style=\"background-color:#d8daef;\">Virginia Woolf: The Common Reader</span>, <span style=\"background-color:#eadbd8;\">Catherine Anne Austen Hubback and Jane Austen: The Younger Sister, Volumes 1-3</span>, <span style=\"background-color:#d6dbdf;\">Charlotte Brontë: Villette</span>, <span style=\"background-color:#d4e6f1;\">Jane Austen: The Complete Project Gutenberg Works of Jane Austen</span>, <span style=\"background-color:#f6ddcc;\">Virginia Woolf: Jacob's Room</span>, <span style=\"background-color:#fdebd0;\">Virginia Woolf: Night and Day</span>, <span style=\"background-color:#d4efdf;\">Jane Austen: Mansfield Park</span>, <span style=\"background-color:#d0ece7;\">Jane Austen: Pride and Prejudice</span>, <span style=\"background-color:#ebdef0;\">Emily Brontë: Wuthering Heights</span>, <span style=\"background-color:#e2d7d5;\">Catherine Anne Austen Hubback and Jane Austen: The Younger Sister, Vol. 3</span>, <span style=\"background-color:#e2d7d5;\">Jane Austen: Sense and Sensibility</span>, <span style=\"background-color:#eadbd8;\">Anne Brontë: Agnes Grey</span>, <span style=\"background-color:#ecf3cf;\">Virginia Woolf: The Voyage Out</span></p></small>"
            ],
            "text/plain": [
              "<IPython.core.display.HTML object>"
            ]
          },
          "metadata": {}
        },
        {
          "output_type": "stream",
          "name": "stdout",
          "text": [
            "Temperature 0.8:\n"
          ]
        },
        {
          "output_type": "display_data",
          "data": {
            "text/html": [
              "<span style=\"background-color:#d6dbdf;\">I thought he s</span>aid as<span style=\"background-color:#eadbd8;\"> his satisfaction </span><span style=\"background-color:#d8daef;\">of the presenc</span><span style=\"background-color:#eadbd8;\">ience will </span><span style=\"background-color:#eadbd8;\">think something </span><span style=\"background-color:#d0ece7;\">understanding to </span>b<span style=\"background-color:#d8daef;\">e likeness </span>comp<span style=\"background-color:#d8daef;\">ary, and th</span><span style=\"background-color:#e2d7d5;\">at she would have </span><span style=\"background-color:#d8daef;\">been very s</span>to<span style=\"background-color:#eadbd8;\">ring to be </span>th<span style=\"background-color:#d4e6f1;\">en indulged </span><span style=\"background-color:#eadbd8;\">to her to th</span>e horrit<span style=\"background-color:#eadbd8;\">t time, and </span><span style=\"background-color:#ecf3cf;\">caped and </span>chirri<span style=\"background-color:#fdebd0;\">al excuse </span><span style=\"background-color:#eadbd8;\">to prevent her s</span>o much m<span style=\"background-color:#d0ece7;\">use from his </span>own tast<span style=\"background-color:#d4e6f1;\">e. At last the </span><span style=\"background-color:#eadbd8;\">little care</span><span style=\"background-color:#f6ddcc;\"> of the green </span>Dl<span style=\"background-color:#fae5d3;\">ance could re</span><span style=\"background-color:#fdebd0;\">ad them th</span><span style=\"background-color:#fdebd0;\">at she had been vi</span>ll<span style=\"background-color:#d4e6f1;\">age return</span><span style=\"background-color:#d4e6f1;\">ing for her o</span><span style=\"background-color:#d0ece7;\">wn thoughts to </span>sea<span style=\"background-color:#eadbd8;\">. \"Do you </span><span style=\"background-color:#eadbd8;\">shall be satisf</span><span style=\"background-color:#d8daef;\">actory to </span><span style=\"background-color:#d0ece7;\">come together</span><span style=\"background-color:#d6dbdf;\">,” said her</span>. \"N<span style=\"background-color:#d0ece7;\">ot you see</span><span style=\"background-color:#d4e6f1;\">m to think of </span>I chielly win<span style=\"background-color:#d8daef;\">d to call them</span><span style=\"background-color:#d4e6f1;\"> to my room w</span>rit<span style=\"background-color:#ebdef0;\">ped about </span>eagerny my shaleso<span style=\"background-color:#d6dbdf;\">le man, in </span><span style=\"background-color:#d4efdf;\">most griev</span>ed.<span style=\"background-color:#eadbd8;\"> CHAPTER XII</span><span style=\"background-color:#fae5d3;\"> The particulars </span>was nuch with Lorg Colones<span style=\"background-color:#eadbd8;\">h Mr. Howard, </span><span style=\"background-color:#d6dbdf;\">which she en</span>gag<span style=\"background-color:#d4e6f1;\">ed we have</span> just move of he"
            ],
            "text/plain": [
              "<IPython.core.display.HTML object>"
            ]
          },
          "metadata": {}
        },
        {
          "output_type": "display_data",
          "data": {
            "text/html": [
              "<small><p style=\"text-align:right;\">Sources: <span style=\"background-color:#d6dbdf;\">Charlotte Brontë: Villette</span>, <span style=\"background-color:#eadbd8;\">Catherine Anne Austen Hubback and Jane Austen: The Younger Sister, Volumes 1-3</span>, <span style=\"background-color:#d8daef;\">Virginia Woolf: The Common Reader</span>, <span style=\"background-color:#d0ece7;\">Jane Austen: Pride and Prejudice</span>, <span style=\"background-color:#e2d7d5;\">Catherine Anne Austen Hubback and Jane Austen: The Younger Sister, Vol. 3</span>, <span style=\"background-color:#d4e6f1;\">Jane Austen: The Complete Project Gutenberg Works of Jane Austen</span>, <span style=\"background-color:#ecf3cf;\">Virginia Woolf: The Voyage Out</span>, <span style=\"background-color:#fdebd0;\">Virginia Woolf: Night and Day</span>, <span style=\"background-color:#f6ddcc;\">Virginia Woolf: Jacob's Room</span>, <span style=\"background-color:#fae5d3;\">Jane Austen: Pride and Prejudice</span>, <span style=\"background-color:#ebdef0;\">Emily Brontë: Wuthering Heights</span>, <span style=\"background-color:#d4efdf;\">Jane Austen: Mansfield Park</span></p></small>"
            ],
            "text/plain": [
              "<IPython.core.display.HTML object>"
            ]
          },
          "metadata": {}
        },
        {
          "output_type": "stream",
          "name": "stdout",
          "text": [
            "Epoch 10 Loss: 1.268 Precision: 0.616 Time/Sample: 0.000758 sec/sample\n",
            "Saved best precision model, prec=0.616\n",
            "Epoch 10 Loss: 1.264 Precision: 0.617 Time/Sample: 0.000762 sec/sample\n",
            "Saved best precision model, prec=0.617\n",
            "Epoch 10 Loss: 1.260 Precision: 0.618 Time/Sample: 0.000759 sec/sample\n",
            "Saved best precision model, prec=0.618\n",
            "Epoch 10 Loss: 1.255 Precision: 0.620 Time/Sample: 0.000761 sec/sample\n",
            "Saved best precision model, prec=0.620\n",
            "Temperature 0.6:\n"
          ]
        },
        {
          "output_type": "display_data",
          "data": {
            "text/html": [
              "<span style=\"background-color:#d4e6f1;\">The circumstance </span>of a disgurb<span style=\"background-color:#fae5d3;\">ance that w</span>e may<span style=\"background-color:#ebdef0;\"> desire a </span><span style=\"background-color:#eadbd8;\">little to the </span><span style=\"background-color:#e2d7d5;\">name of the m</span>o<span style=\"background-color:#d4e6f1;\">st objection o</span><span style=\"background-color:#d8daef;\">f the great pla</span><span style=\"background-color:#eadbd8;\">n behind the</span>m. <span style=\"background-color:#d8daef;\">The humour of </span><span style=\"background-color:#eadbd8;\">her own dinner</span><span style=\"background-color:#d0ece7;\"> which she ca</span><span style=\"background-color:#f6ddcc;\">me back to the </span><span style=\"background-color:#e2d7d5;\">subject. She was</span><span style=\"background-color:#eadbd8;\"> accomplished </span><span style=\"background-color:#d6dbdf;\">of his bea</span>u<span style=\"background-color:#d0ece7;\">ty, not a </span><span style=\"background-color:#ecf3cf;\">company to her </span>own spee<span style=\"background-color:#d4e6f1;\">ching with a</span><span style=\"background-color:#eadbd8;\"> sight of he</span><span style=\"background-color:#ebdef0;\">art and an</span><span style=\"background-color:#d4e6f1;\">swered by h</span><span style=\"background-color:#d8daef;\">er results </span><span style=\"background-color:#d4e6f1;\">of some fa</span>nc<span style=\"background-color:#eadbd8;\">ying in the room</span><span style=\"background-color:#eadbd8;\">; but the s</span><span style=\"background-color:#ecf3cf;\">ide of a m</span><span style=\"background-color:#d8daef;\">an of the </span><span style=\"background-color:#d8daef;\">same moment </span><span style=\"background-color:#d4e6f1;\">she should not have </span>liked a<span style=\"background-color:#d0ece7;\"> work in the </span><span style=\"background-color:#fdebd0;\">room to a </span><span style=\"background-color:#eadbd8;\">mother with </span><span style=\"background-color:#d0ece7;\">her friend with the</span><span style=\"background-color:#fae5d3;\">ir father, and </span><span style=\"background-color:#d4e6f1;\">then the family </span><span style=\"background-color:#eadbd8;\">with her at</span><span style=\"background-color:#eadbd8;\">tentions t</span><span style=\"background-color:#d0ece7;\">hat I had not </span><span style=\"background-color:#eadbd8;\">wished to s</span><span style=\"background-color:#d0ece7;\">uppose that the </span><span style=\"background-color:#e2d7d5;\">exclamation of t</span>he cap<span style=\"background-color:#eadbd8;\">iosity which </span><span style=\"background-color:#d8daef;\">a great deal </span><span style=\"background-color:#d4e6f1;\">do nothing to </span><span style=\"background-color:#d4e6f1;\">have her mo</span><span style=\"background-color:#d4e6f1;\">ther, she c</span><span style=\"background-color:#f6ddcc;\">ame to the wor</span><span style=\"background-color:#d4e6f1;\">ks of the l</span>a<span style=\"background-color:#eadbd8;\">dy, and re</span><span style=\"background-color:#d4e6f1;\">lative to e</span><span style=\"background-color:#eadbd8;\">ncourage th</span>"
            ],
            "text/plain": [
              "<IPython.core.display.HTML object>"
            ]
          },
          "metadata": {}
        },
        {
          "output_type": "display_data",
          "data": {
            "text/html": [
              "<small><p style=\"text-align:right;\">Sources: <span style=\"background-color:#d4e6f1;\">Jane Austen: The Complete Project Gutenberg Works of Jane Austen</span>, <span style=\"background-color:#fae5d3;\">Jane Austen: Pride and Prejudice</span>, <span style=\"background-color:#ebdef0;\">Emily Brontë: Wuthering Heights</span>, <span style=\"background-color:#eadbd8;\">Catherine Anne Austen Hubback and Jane Austen: The Younger Sister, Volumes 1-3</span>, <span style=\"background-color:#e2d7d5;\">Jane Austen: Sense and Sensibility</span>, <span style=\"background-color:#d8daef;\">Virginia Woolf: The Common Reader</span>, <span style=\"background-color:#d0ece7;\">Jane Austen: Pride and Prejudice</span>, <span style=\"background-color:#f6ddcc;\">Virginia Woolf: Jacob's Room</span>, <span style=\"background-color:#d6dbdf;\">Charlotte Brontë: Villette</span>, <span style=\"background-color:#ecf3cf;\">Virginia Woolf: The Voyage Out</span>, <span style=\"background-color:#eadbd8;\">Anne Brontë: Agnes Grey</span>, <span style=\"background-color:#fdebd0;\">Virginia Woolf: Night and Day</span></p></small>"
            ],
            "text/plain": [
              "<IPython.core.display.HTML object>"
            ]
          },
          "metadata": {}
        },
        {
          "output_type": "stream",
          "name": "stdout",
          "text": [
            "Temperature 0.7:\n"
          ]
        },
        {
          "output_type": "display_data",
          "data": {
            "text/html": [
              "<span style=\"background-color:#d4e6f1;\">They should l</span>ive<span style=\"background-color:#ebdef0;\"> till some time </span><span style=\"background-color:#d8daef;\">energy to </span>her sor<span style=\"background-color:#d8daef;\"> of an actual </span>gr<span style=\"background-color:#ecf3cf;\">and. She was a</span>ll<span style=\"background-color:#d6dbdf;\"> taken from h</span><span style=\"background-color:#d0ece7;\">is happiness in</span>t<span style=\"background-color:#d8daef;\">ucted and </span>comf<span style=\"background-color:#ebdef0;\">and between hi</span>s own dig<span style=\"background-color:#ebdef0;\">ficient to en</span>jo<span style=\"background-color:#d0ece7;\">y enough to t</span>he Heathc<span style=\"background-color:#d4e6f1;\">er, and for </span><span style=\"background-color:#e5e8e8;\">ever continued </span>and wor<span style=\"background-color:#ebdef0;\">sh of the </span>sec<span style=\"background-color:#e2d7d5;\">ard between them</span> such<span style=\"background-color:#d4e6f1;\"> having no de</span>li<span style=\"background-color:#eadbd8;\">face, and the </span>truth<span style=\"background-color:#d4e6f1;\"> who seemed to h</span>ear a<span style=\"background-color:#e2d7d5;\"> same time of </span><span style=\"background-color:#eadbd8;\">her companion. </span><span style=\"background-color:#d4e6f1;\">There was a thou</span>s<span style=\"background-color:#fdebd0;\">and more dist</span><span style=\"background-color:#d4e6f1;\">ance, and what </span><span style=\"background-color:#eadbd8;\">she told him </span><span style=\"background-color:#fdebd0;\">by her mother </span><span style=\"background-color:#d8daef;\">and human </span><span style=\"background-color:#d4e6f1;\">and his father, </span><span style=\"background-color:#d4e6f1;\">who seemed to c</span><span style=\"background-color:#eadbd8;\">all for the </span><span style=\"background-color:#d0ece7;\">intimate fo</span><span style=\"background-color:#fdebd0;\">r an appearance </span>to respe<span style=\"background-color:#d8daef;\">ts before the </span><span style=\"background-color:#eadbd8;\">subject of o</span>ne<span style=\"background-color:#eadbd8;\"> chose of </span>the won<span style=\"background-color:#d8daef;\">ld without </span>rest<span style=\"background-color:#ebdef0;\">ore, and then </span><span style=\"background-color:#eadbd8;\">the descent</span><span style=\"background-color:#d8daef;\">ed to discover </span>a d<span style=\"background-color:#d4e6f1;\">ay to her f</span>riendr<span style=\"background-color:#e5e8e8;\">a and Margaret</span><span style=\"background-color:#d0ece7;\">, who was the </span>hell<span style=\"background-color:#eadbd8;\">y were all a</span><span style=\"background-color:#d0ece7;\">lready by </span>the parton<span style=\"background-color:#eadbd8;\">age, would </span>see the s"
            ],
            "text/plain": [
              "<IPython.core.display.HTML object>"
            ]
          },
          "metadata": {}
        },
        {
          "output_type": "display_data",
          "data": {
            "text/html": [
              "<small><p style=\"text-align:right;\">Sources: <span style=\"background-color:#d4e6f1;\">Jane Austen: The Complete Project Gutenberg Works of Jane Austen</span>, <span style=\"background-color:#ebdef0;\">Emily Brontë: Wuthering Heights</span>, <span style=\"background-color:#d8daef;\">Virginia Woolf: The Common Reader</span>, <span style=\"background-color:#ecf3cf;\">Virginia Woolf: The Voyage Out</span>, <span style=\"background-color:#d6dbdf;\">Charlotte Brontë: Villette</span>, <span style=\"background-color:#d0ece7;\">Jane Austen: Pride and Prejudice</span>, <span style=\"background-color:#e5e8e8;\">Jane Austen: Love And Friendship And Other Early Works</span>, <span style=\"background-color:#ebdef0;\">Virginia Woolf: Mr. Bennett and Mrs. Brown</span>, <span style=\"background-color:#e2d7d5;\">Jane Austen: Sense and Sensibility</span>, <span style=\"background-color:#eadbd8;\">Catherine Anne Austen Hubback and Jane Austen: The Younger Sister, Volumes 1-3</span>, <span style=\"background-color:#fdebd0;\">Virginia Woolf: Night and Day</span>, <span style=\"background-color:#eadbd8;\">Anne Brontë: Agnes Grey</span></p></small>"
            ],
            "text/plain": [
              "<IPython.core.display.HTML object>"
            ]
          },
          "metadata": {}
        },
        {
          "output_type": "stream",
          "name": "stdout",
          "text": [
            "Temperature 0.8:\n"
          ]
        },
        {
          "output_type": "display_data",
          "data": {
            "text/html": [
              "But so dea<span style=\"background-color:#d0ece7;\">r she was al</span><span style=\"background-color:#ecf3cf;\">l that it was n</span><span style=\"background-color:#d4e6f1;\">ot to be of </span>any es<span style=\"background-color:#d4e6f1;\">tent on her</span>. And Wha<span style=\"background-color:#d4e6f1;\">nting that I </span><span style=\"background-color:#eadbd8;\">should forget m</span>e in ly least<span style=\"background-color:#e5e8e8;\">.” “I should </span><span style=\"background-color:#eadbd8;\">have with </span>such a d<span style=\"background-color:#ecf3cf;\">o seems to </span>be in suf<span style=\"background-color:#d8daef;\">nity, and th</span><span style=\"background-color:#eadbd8;\">at it is not </span><span style=\"background-color:#eadbd8;\">only made </span><span style=\"background-color:#e2d7d5;\">out a very </span><span style=\"background-color:#d6dbdf;\">little day</span><span style=\"background-color:#d4e6f1;\"> of her bel</span>ate is.”<span style=\"background-color:#eadbd8;\"> The other t</span><span style=\"background-color:#d4e6f1;\">o be out of the </span>far<span style=\"background-color:#d8daef;\">shing to the </span><span style=\"background-color:#ebdef0;\">last thing of </span>the good Sir Jahnsi<span style=\"background-color:#eadbd8;\">st, in her </span>congider<span style=\"background-color:#d4e6f1;\">ing. After a</span><span style=\"background-color:#d4e6f1;\">ll the inf</span>erra<span style=\"background-color:#d4e6f1;\">ity of another</span><span style=\"background-color:#d8daef;\"> and had a </span><span style=\"background-color:#e2d7d5;\">little pur</span>ku<span style=\"background-color:#d8daef;\">e has been </span>jedern<span style=\"background-color:#fdebd0;\">ied and pr</span>ou<span style=\"background-color:#d0ece7;\">d himself, or </span><span style=\"background-color:#e5e8e8;\">under the ma</span><span style=\"background-color:#d4e6f1;\">nners of her </span>consu<span style=\"background-color:#e2d7d5;\">ider him, </span><span style=\"background-color:#f6ddcc;\">even there w</span>ere cal<span style=\"background-color:#eadbd8;\">ess to all </span>but a nu<span style=\"background-color:#d4e6f1;\">rriage the </span>world<span style=\"background-color:#d4e6f1;\">. Edmund, </span><span style=\"background-color:#fdebd0;\">laughed, with </span><span style=\"background-color:#d4e6f1;\">every family </span>inter<span style=\"background-color:#d8daef;\">mere, or was </span>compl<span style=\"background-color:#d4e6f1;\">aid in his </span>hand; soo<span style=\"background-color:#ecf3cf;\">n enquired. </span>\"Sir laulase ma<span style=\"background-color:#d4e6f1;\">y family to </span>that he<span style=\"background-color:#eadbd8;\">tever there </span><span style=\"background-color:#d8daef;\">is not to s</span>tu<span style=\"background-color:#ebdef0;\">re the trut</span>"
            ],
            "text/plain": [
              "<IPython.core.display.HTML object>"
            ]
          },
          "metadata": {}
        },
        {
          "output_type": "display_data",
          "data": {
            "text/html": [
              "<small><p style=\"text-align:right;\">Sources: <span style=\"background-color:#d0ece7;\">Jane Austen: Pride and Prejudice</span>, <span style=\"background-color:#ecf3cf;\">Virginia Woolf: The Voyage Out</span>, <span style=\"background-color:#d4e6f1;\">Jane Austen: The Complete Project Gutenberg Works of Jane Austen</span>, <span style=\"background-color:#eadbd8;\">Anne Brontë: Agnes Grey</span>, <span style=\"background-color:#e5e8e8;\">Jane Austen: Love And Friendship And Other Early Works</span>, <span style=\"background-color:#eadbd8;\">Catherine Anne Austen Hubback and Jane Austen: The Younger Sister, Volumes 1-3</span>, <span style=\"background-color:#d8daef;\">Virginia Woolf: The Common Reader</span>, <span style=\"background-color:#e2d7d5;\">Catherine Anne Austen Hubback and Jane Austen: The Younger Sister, Vol. 3</span>, <span style=\"background-color:#d6dbdf;\">Charlotte Brontë: Villette</span>, <span style=\"background-color:#ebdef0;\">Emily Brontë: Wuthering Heights</span>, <span style=\"background-color:#e2d7d5;\">Jane Austen: Sense and Sensibility</span>, <span style=\"background-color:#fdebd0;\">Virginia Woolf: Night and Day</span>, <span style=\"background-color:#f6ddcc;\">Virginia Woolf: Jacob's Room</span></p></small>"
            ],
            "text/plain": [
              "<IPython.core.display.HTML object>"
            ]
          },
          "metadata": {}
        },
        {
          "output_type": "stream",
          "name": "stdout",
          "text": [
            "Epoch 11 Loss: 1.252 Precision: 0.620 Time/Sample: 0.000762 sec/sample\n",
            "Saved best precision model, prec=0.620\n",
            "Epoch 11 Loss: 1.248 Precision: 0.622 Time/Sample: 0.000760 sec/sample\n",
            "Saved best precision model, prec=0.622\n",
            "Epoch 11 Loss: 1.243 Precision: 0.623 Time/Sample: 0.000761 sec/sample\n",
            "Saved best precision model, prec=0.623\n",
            "Temperature 0.6:\n"
          ]
        },
        {
          "output_type": "display_data",
          "data": {
            "text/html": [
              "I am all<span style=\"background-color:#d0ece7;\"> value as </span><span style=\"background-color:#eadbd8;\">my sister and </span><span style=\"background-color:#d0ece7;\">hope in th</span>e same<span style=\"background-color:#eadbd8;\"> sister?\" </span>\"<span style=\"background-color:#d6dbdf;\">Now it is not </span><span style=\"background-color:#d4e6f1;\">quite a pity </span>beh<span style=\"background-color:#e2d7d5;\">ond the te</span><span style=\"background-color:#d6dbdf;\">rror, but </span><span style=\"background-color:#d4e6f1;\">I am sure I se</span><span style=\"background-color:#d4e6f1;\">e nothing of the </span><span style=\"background-color:#d6dbdf;\">movement in </span>danc<span style=\"background-color:#d4e6f1;\">e, I dare say </span><span style=\"background-color:#d4e6f1;\">what you can </span><span style=\"background-color:#d0ece7;\">be able to si</span><span style=\"background-color:#ebdef0;\">t down and a</span><span style=\"background-color:#f6ddcc;\">ttach the </span>s<span style=\"background-color:#d8daef;\">ame of the book</span><span style=\"background-color:#d8daef;\">s of Mr. B</span>ango<span style=\"background-color:#e5e8e8;\">n and Lady </span><span style=\"background-color:#d4e6f1;\">Susan look</span><span style=\"background-color:#eadbd8;\">ed at her h</span><span style=\"background-color:#eadbd8;\">usband and p</span><span style=\"background-color:#d8daef;\">resent her f</span><span style=\"background-color:#eadbd8;\">ather; for Miss </span><span style=\"background-color:#eadbd8;\">Osborne and her </span>accou<span style=\"background-color:#d0ece7;\">nt between the </span><span style=\"background-color:#d8daef;\">world had </span>fe<span style=\"background-color:#d4e6f1;\">lt to the </span><span style=\"background-color:#e2d7d5;\">particular at </span><span style=\"background-color:#eadbd8;\">the return</span><span style=\"background-color:#eadbd8;\">. When the da</span><span style=\"background-color:#e2d7d5;\">y to her heart</span><span style=\"background-color:#fdebd0;\">, and the table </span><span style=\"background-color:#ecf3cf;\">decent that </span><span style=\"background-color:#d4e6f1;\">when she was m</span><span style=\"background-color:#d0ece7;\">ore than to </span><span style=\"background-color:#d4e6f1;\">the part without </span><span style=\"background-color:#d0ece7;\">the parent</span><span style=\"background-color:#e2d7d5;\"> of course one of the </span>sa<span style=\"background-color:#eadbd8;\">me comfort </span><span style=\"background-color:#fdebd0;\">in the whole of her </span><span style=\"background-color:#d8daef;\">doubt the </span>window<span style=\"background-color:#d6dbdf;\">. “What a </span><span style=\"background-color:#eadbd8;\">visit was i</span><span style=\"background-color:#d4e6f1;\">n the same manner, </span><span style=\"background-color:#d6dbdf;\">so much in her </span><span style=\"background-color:#d6dbdf;\">eyes and f</span>eel<span style=\"background-color:#eadbd8;\">ing a word </span>ago all.” “Fe<span style=\"background-color:#eadbd8;\">ny of her a</span><span style=\"background-color:#d6dbdf;\">nd the small</span>est "
            ],
            "text/plain": [
              "<IPython.core.display.HTML object>"
            ]
          },
          "metadata": {}
        },
        {
          "output_type": "display_data",
          "data": {
            "text/html": [
              "<small><p style=\"text-align:right;\">Sources: <span style=\"background-color:#d0ece7;\">Jane Austen: Pride and Prejudice</span>, <span style=\"background-color:#eadbd8;\">Catherine Anne Austen Hubback and Jane Austen: The Younger Sister, Volumes 1-3</span>, <span style=\"background-color:#d6dbdf;\">Charlotte Brontë: Villette</span>, <span style=\"background-color:#d4e6f1;\">Jane Austen: The Complete Project Gutenberg Works of Jane Austen</span>, <span style=\"background-color:#e2d7d5;\">Jane Austen: Sense and Sensibility</span>, <span style=\"background-color:#ebdef0;\">Emily Brontë: Wuthering Heights</span>, <span style=\"background-color:#f6ddcc;\">Virginia Woolf: Jacob's Room</span>, <span style=\"background-color:#d8daef;\">Virginia Woolf: The Common Reader</span>, <span style=\"background-color:#e5e8e8;\">Jane Austen: Love And Friendship And Other Early Works</span>, <span style=\"background-color:#eadbd8;\">Anne Brontë: Agnes Grey</span>, <span style=\"background-color:#fdebd0;\">Virginia Woolf: Night and Day</span>, <span style=\"background-color:#ecf3cf;\">Virginia Woolf: The Voyage Out</span></p></small>"
            ],
            "text/plain": [
              "<IPython.core.display.HTML object>"
            ]
          },
          "metadata": {}
        },
        {
          "output_type": "stream",
          "name": "stdout",
          "text": [
            "Temperature 0.7:\n"
          ]
        },
        {
          "output_type": "display_data",
          "data": {
            "text/html": [
              "<span style=\"background-color:#d0ece7;\">Mr. Collins was o</span><span style=\"background-color:#d6dbdf;\">ver and her </span>mati<span style=\"background-color:#d4e6f1;\">es such a </span><span style=\"background-color:#fdebd0;\">person con</span><span style=\"background-color:#ebdef0;\">cealed it </span>as if qui<span style=\"background-color:#d4e6f1;\">et with the </span><span style=\"background-color:#eadbd8;\">concealing h</span><span style=\"background-color:#ecf3cf;\">ad gradually co</span><span style=\"background-color:#fdebd0;\">ncerned with </span><span style=\"background-color:#e2d7d5;\">her sister. Wh</span>a<span style=\"background-color:#eadbd8;\">t an inter</span>r<span style=\"background-color:#eadbd8;\">ope and her </span><span style=\"background-color:#eadbd8;\">sister, and her </span><span style=\"background-color:#d4e6f1;\">daughter was </span>sen<span style=\"background-color:#ebdef0;\">iously. “You</span><span style=\"background-color:#fdebd0;\">’ve done so</span> impo<span style=\"background-color:#eadbd8;\">se to any </span><span style=\"background-color:#d4e6f1;\">change. I am </span><span style=\"background-color:#e2d7d5;\">going to be w</span><span style=\"background-color:#fae5d3;\">as rather of</span><span style=\"background-color:#d4e6f1;\"> a mind to take </span><span style=\"background-color:#fae5d3;\">that, but t</span><span style=\"background-color:#eadbd8;\">heir many </span><span style=\"background-color:#d4e6f1;\">minutes for </span><span style=\"background-color:#d0ece7;\">a servant, and </span><span style=\"background-color:#eadbd8;\">you shall be </span><span style=\"background-color:#d0ece7;\">called from </span><span style=\"background-color:#eadbd8;\">any thing a</span>ll<span style=\"background-color:#d6dbdf;\"> a fact to </span><span style=\"background-color:#d0ece7;\">her own. He </span>is senf<span style=\"background-color:#d0ece7;\">es for your</span><span style=\"background-color:#d4e6f1;\">self. I wi</span><span style=\"background-color:#d6dbdf;\">ll do with </span><span style=\"background-color:#d6dbdf;\">me,” said she, </span><span style=\"background-color:#eadbd8;\">\"I shall be </span><span style=\"background-color:#d6dbdf;\">not about t</span>o<span style=\"background-color:#d4e6f1;\"> ask me. I </span><span style=\"background-color:#d4e6f1;\">do not see the </span><span style=\"background-color:#eadbd8;\">house at Croydon</span><span style=\"background-color:#d4e6f1;\">, and much w</span><span style=\"background-color:#fdebd0;\">ore of the past</span>on! Who<span style=\"background-color:#d8daef;\"> expressed </span><span style=\"background-color:#eadbd8;\">yourself, and </span>c<span style=\"background-color:#fdebd0;\">an you see what</span><span style=\"background-color:#eadbd8;\"> I dare say </span><span style=\"background-color:#fdebd0;\">a woman,” said </span><span style=\"background-color:#d4e6f1;\">Anne, \"that </span><span style=\"background-color:#d4e6f1;\">the first su</span>perior sen<span style=\"background-color:#d0ece7;\">ious subject</span><span style=\"background-color:#d0ece7;\">. I would a</span>t a<span style=\"background-color:#d4e6f1;\">ll be over</span><span style=\"background-color:#d0ece7;\">, and there m</span>"
            ],
            "text/plain": [
              "<IPython.core.display.HTML object>"
            ]
          },
          "metadata": {}
        },
        {
          "output_type": "display_data",
          "data": {
            "text/html": [
              "<small><p style=\"text-align:right;\">Sources: <span style=\"background-color:#d0ece7;\">Jane Austen: Pride and Prejudice</span>, <span style=\"background-color:#d6dbdf;\">Charlotte Brontë: Villette</span>, <span style=\"background-color:#d4e6f1;\">Jane Austen: The Complete Project Gutenberg Works of Jane Austen</span>, <span style=\"background-color:#fdebd0;\">Virginia Woolf: Night and Day</span>, <span style=\"background-color:#ebdef0;\">Emily Brontë: Wuthering Heights</span>, <span style=\"background-color:#eadbd8;\">Catherine Anne Austen Hubback and Jane Austen: The Younger Sister, Volumes 1-3</span>, <span style=\"background-color:#ecf3cf;\">Virginia Woolf: The Voyage Out</span>, <span style=\"background-color:#e2d7d5;\">Jane Austen: Sense and Sensibility</span>, <span style=\"background-color:#fae5d3;\">Jane Austen: Pride and Prejudice</span>, <span style=\"background-color:#d8daef;\">Virginia Woolf: The Common Reader</span></p></small>"
            ],
            "text/plain": [
              "<IPython.core.display.HTML object>"
            ]
          },
          "metadata": {}
        },
        {
          "output_type": "stream",
          "name": "stdout",
          "text": [
            "Temperature 0.8:\n"
          ]
        },
        {
          "output_type": "display_data",
          "data": {
            "text/html": [
              "T<span style=\"background-color:#e2d7d5;\">he mind of her </span>mind, strugk whes<span style=\"background-color:#eadbd8;\">her she had been </span><span style=\"background-color:#eadbd8;\">in the same t</span><span style=\"background-color:#d0ece7;\">ime the next</span><span style=\"background-color:#d6dbdf;\">, and wearing </span>it<span style=\"background-color:#d0ece7;\"> over; and </span><span style=\"background-color:#e5e8e8;\">she was ent</span>e<span style=\"background-color:#eadbd8;\">red to some o</span><span style=\"background-color:#d4e6f1;\">ne people </span><span style=\"background-color:#d4e6f1;\">greater be</span><span style=\"background-color:#d8daef;\">neath the c</span><span style=\"background-color:#eadbd8;\">onsequences of </span>Mrs. Pold-<span style=\"background-color:#d0ece7;\">often used s</span>ec<span style=\"background-color:#d8daef;\">arately in</span>timatel<span style=\"background-color:#d4e6f1;\">y in every </span><span style=\"background-color:#d0ece7;\">spirits to </span>Bath—<span style=\"background-color:#d4e6f1;\">and excited </span>h<span style=\"background-color:#e2d7d5;\">er of me th</span>r<span style=\"background-color:#d6dbdf;\">ough a little </span>m<span style=\"background-color:#d0ece7;\">ister to a</span>tti<span style=\"background-color:#d4e6f1;\">r his book</span><span style=\"background-color:#d8daef;\"> with the pas</span><span style=\"background-color:#d6dbdf;\">h of her time w</span><span style=\"background-color:#eadbd8;\">ould have the s</span>ame sabeun smook<span style=\"background-color:#ebdef0;\">h of the sh</span>a<span style=\"background-color:#d4e6f1;\">ll of Mr. Elton</span><span style=\"background-color:#eadbd8;\"> deserved </span><span style=\"background-color:#d8daef;\">herself. A</span><span style=\"background-color:#d8daef;\">rain, and </span><span style=\"background-color:#d0ece7;\">the other se</span><span style=\"background-color:#ecf3cf;\">emed to be gr</span><span style=\"background-color:#d6dbdf;\">ateful in </span>a<span style=\"background-color:#ecf3cf;\"> women to the </span>hapan of sciet<span style=\"background-color:#e2d7d5;\">. Sir John w</span><span style=\"background-color:#d6dbdf;\">ho was she t</span>oo <span style=\"background-color:#d4e6f1;\">well more </span>than<span style=\"background-color:#d4e6f1;\"> more seriously </span>recuced<span style=\"background-color:#eadbd8;\"> and hurried a</span><span style=\"background-color:#d4e6f1;\">t the difference of a</span>n inter<span style=\"background-color:#eadbd8;\">ved which </span><span style=\"background-color:#d4e6f1;\">it was impossible that she </span><span style=\"background-color:#d4e6f1;\">hardly ever, </span>were vafunu<span style=\"background-color:#e2d7d5;\">ted for the re</span>te<span style=\"background-color:#d4e6f1;\">rning which she </span><span style=\"background-color:#eadbd8;\">had been more </span>inc"
            ],
            "text/plain": [
              "<IPython.core.display.HTML object>"
            ]
          },
          "metadata": {}
        },
        {
          "output_type": "display_data",
          "data": {
            "text/html": [
              "<small><p style=\"text-align:right;\">Sources: <span style=\"background-color:#e2d7d5;\">Catherine Anne Austen Hubback and Jane Austen: The Younger Sister, Vol. 3</span>, <span style=\"background-color:#eadbd8;\">Catherine Anne Austen Hubback and Jane Austen: The Younger Sister, Volumes 1-3</span>, <span style=\"background-color:#d0ece7;\">Jane Austen: Pride and Prejudice</span>, <span style=\"background-color:#d6dbdf;\">Charlotte Brontë: Villette</span>, <span style=\"background-color:#e5e8e8;\">Jane Austen: Love And Friendship And Other Early Works</span>, <span style=\"background-color:#d4e6f1;\">Jane Austen: The Complete Project Gutenberg Works of Jane Austen</span>, <span style=\"background-color:#d8daef;\">Virginia Woolf: The Common Reader</span>, <span style=\"background-color:#e2d7d5;\">Jane Austen: Sense and Sensibility</span>, <span style=\"background-color:#eadbd8;\">Anne Brontë: Agnes Grey</span>, <span style=\"background-color:#ebdef0;\">Emily Brontë: Wuthering Heights</span>, <span style=\"background-color:#ecf3cf;\">Virginia Woolf: The Voyage Out</span></p></small>"
            ],
            "text/plain": [
              "<IPython.core.display.HTML object>"
            ]
          },
          "metadata": {}
        },
        {
          "output_type": "stream",
          "name": "stdout",
          "text": [
            "Epoch 11 Loss: 1.240 Precision: 0.623 Time/Sample: 0.000761 sec/sample\n",
            "Saved best precision model, prec=0.623\n",
            "Epoch 11 Loss: 1.237 Precision: 0.624 Time/Sample: 0.000761 sec/sample\n",
            "Saved best precision model, prec=0.624\n",
            "Epoch 11 Loss: 1.233 Precision: 0.625 Time/Sample: 0.000759 sec/sample\n",
            "Saved best precision model, prec=0.625\n",
            "Temperature 0.6:\n"
          ]
        },
        {
          "output_type": "display_data",
          "data": {
            "text/html": [
              "<span style=\"background-color:#eadbd8;\">They were so </span><span style=\"background-color:#ecf3cf;\">ground, with </span>som<span style=\"background-color:#d4e6f1;\">e coming of </span><span style=\"background-color:#d0ece7;\">the family with </span>an a<span style=\"background-color:#d4e6f1;\">verture of </span><span style=\"background-color:#eadbd8;\">her sister in </span>a low<span style=\"background-color:#fdebd0;\">er singular </span><span style=\"background-color:#d8daef;\">sincere of </span><span style=\"background-color:#eadbd8;\">her father and s</span><span style=\"background-color:#d8daef;\">o very far </span><span style=\"background-color:#e2d7d5;\">from the first to </span><span style=\"background-color:#d4e6f1;\">the Admiral; </span><span style=\"background-color:#eadbd8;\">and if she w</span><span style=\"background-color:#d4e6f1;\">as in the room </span><span style=\"background-color:#d6dbdf;\">in the desti</span><span style=\"background-color:#fdebd0;\">cion of her </span><span style=\"background-color:#ecf3cf;\">head, and her </span><span style=\"background-color:#eadbd8;\">attention was s</span>corcely an unpock<span style=\"background-color:#eadbd8;\">uring from </span><span style=\"background-color:#d4e6f1;\">the difficulties of the</span><span style=\"background-color:#d4e6f1;\">ir danger, </span><span style=\"background-color:#d8daef;\">and among the </span><span style=\"background-color:#d4e6f1;\">house of her </span>hand<span style=\"background-color:#d4e6f1;\">s to walk o</span>f<span style=\"background-color:#d4e6f1;\">f the nature of w</span><span style=\"background-color:#e2d7d5;\">hich her attention</span><span style=\"background-color:#d6dbdf;\"> was more than the </span><span style=\"background-color:#d0ece7;\">end of a long </span><span style=\"background-color:#eadbd8;\">window, and she </span><span style=\"background-color:#eadbd8;\">was a subject </span><span style=\"background-color:#d4e6f1;\">so with all the </span><span style=\"background-color:#fdebd0;\">state of mind when </span><span style=\"background-color:#fdebd0;\">the country c</span><span style=\"background-color:#d8daef;\">haracters of the </span><span style=\"background-color:#fdebd0;\">night and the</span><span style=\"background-color:#eadbd8;\">y had the s</span>tre<span style=\"background-color:#eadbd8;\">et satisfaction</span><span style=\"background-color:#d8daef;\">, and left </span><span style=\"background-color:#eadbd8;\">disappointments </span><span style=\"background-color:#d8daef;\">to the discre</span><span style=\"background-color:#d6dbdf;\">tion of the co</span><span style=\"background-color:#e2d7d5;\">untry, and the </span><span style=\"background-color:#eadbd8;\">thought of the </span>day of a moo<span style=\"background-color:#d4e6f1;\">n agitation </span>became pou<span style=\"background-color:#e2d7d5;\">red at his </span>disposing"
            ],
            "text/plain": [
              "<IPython.core.display.HTML object>"
            ]
          },
          "metadata": {}
        },
        {
          "output_type": "display_data",
          "data": {
            "text/html": [
              "<small><p style=\"text-align:right;\">Sources: <span style=\"background-color:#eadbd8;\">Catherine Anne Austen Hubback and Jane Austen: The Younger Sister, Volumes 1-3</span>, <span style=\"background-color:#ecf3cf;\">Virginia Woolf: The Voyage Out</span>, <span style=\"background-color:#d4e6f1;\">Jane Austen: The Complete Project Gutenberg Works of Jane Austen</span>, <span style=\"background-color:#d0ece7;\">Jane Austen: Pride and Prejudice</span>, <span style=\"background-color:#fdebd0;\">Virginia Woolf: Night and Day</span>, <span style=\"background-color:#d8daef;\">Virginia Woolf: The Common Reader</span>, <span style=\"background-color:#e2d7d5;\">Jane Austen: Sense and Sensibility</span>, <span style=\"background-color:#d6dbdf;\">Charlotte Brontë: Villette</span>, <span style=\"background-color:#e2d7d5;\">Catherine Anne Austen Hubback and Jane Austen: The Younger Sister, Vol. 3</span></p></small>"
            ],
            "text/plain": [
              "<IPython.core.display.HTML object>"
            ]
          },
          "metadata": {}
        },
        {
          "output_type": "stream",
          "name": "stdout",
          "text": [
            "Temperature 0.7:\n"
          ]
        },
        {
          "output_type": "display_data",
          "data": {
            "text/html": [
              "<span style=\"background-color:#d6dbdf;\">I can see h</span>i<span style=\"background-color:#d0ece7;\">m the object of </span><span style=\"background-color:#d0ece7;\">all her mother</span><span style=\"background-color:#eadbd8;\">'s coming </span><span style=\"background-color:#eadbd8;\">very well, and </span>if the _ill<span style=\"background-color:#eadbd8;\"> your hours </span><span style=\"background-color:#d6dbdf;\">to see you in c</span>om<span style=\"background-color:#d4e6f1;\">paring you</span><span style=\"background-color:#d6dbdf;\"> to me. No</span><span style=\"background-color:#e2d7d5;\"> doubts, I </span><span style=\"background-color:#eadbd8;\">would not come a</span>t all<span style=\"background-color:#d0ece7;\"> to any of them. </span><span style=\"background-color:#d4e6f1;\">I will not g</span><span style=\"background-color:#eadbd8;\">ive you for </span><span style=\"background-color:#fae5d3;\">me to make an</span>y<span style=\"background-color:#fdebd0;\"> room. And </span><span style=\"background-color:#eadbd8;\">wherever the </span>clic<span style=\"background-color:#eadbd8;\">. I think it </span><span style=\"background-color:#d8daef;\">must be a </span>head<span style=\"background-color:#d4efdf;\">.” “And when </span><span style=\"background-color:#d4e6f1;\">they were all to </span><span style=\"background-color:#eadbd8;\">delightful even</span><span style=\"background-color:#d4e6f1;\"> property in th</span>is<span style=\"background-color:#d8daef;\"> lady in the </span><span style=\"background-color:#d4e6f1;\">carriage would not </span><span style=\"background-color:#d0ece7;\">so much in th</span><span style=\"background-color:#d8daef;\">is complexion, </span><span style=\"background-color:#d0ece7;\">I will not be </span><span style=\"background-color:#d4e6f1;\">very near. </span><span style=\"background-color:#eadbd8;\">When it is </span><span style=\"background-color:#ebdef0;\">not you say </span><span style=\"background-color:#ecf3cf;\">that her ha</span>sti<span style=\"background-color:#eadbd8;\">ly steady </span>redo<span style=\"background-color:#eadbd8;\">nd. I would </span><span style=\"background-color:#e2d7d5;\">not since </span>better<span style=\"background-color:#fdebd0;\"> do? What do</span><span style=\"background-color:#d6dbdf;\"> you _are_ </span>wo<span style=\"background-color:#d4e6f1;\">n? I have </span><span style=\"background-color:#d0ece7;\">any favour</span><span style=\"background-color:#eadbd8;\"> to object to </span><span style=\"background-color:#eadbd8;\">me at all. </span>P<span style=\"background-color:#ebdef0;\">ony,” she </span><span style=\"background-color:#edebd0;\">replied, “I wi</span>s<span style=\"background-color:#ecf3cf;\">h she took t</span>hei<span style=\"background-color:#d4e6f1;\">r head of a</span><span style=\"background-color:#d4e6f1;\"> woman to make</span> a post<span style=\"background-color:#eadbd8;\">ibility of su</span>ba<span style=\"background-color:#fdebd0;\">tting the co</span>nsequ<span style=\"background-color:#e2d7d5;\">ion of the house, a</span>nd mached h"
            ],
            "text/plain": [
              "<IPython.core.display.HTML object>"
            ]
          },
          "metadata": {}
        },
        {
          "output_type": "display_data",
          "data": {
            "text/html": [
              "<small><p style=\"text-align:right;\">Sources: <span style=\"background-color:#d6dbdf;\">Charlotte Brontë: Villette</span>, <span style=\"background-color:#d0ece7;\">Jane Austen: Pride and Prejudice</span>, <span style=\"background-color:#eadbd8;\">Catherine Anne Austen Hubback and Jane Austen: The Younger Sister, Volumes 1-3</span>, <span style=\"background-color:#d4e6f1;\">Jane Austen: The Complete Project Gutenberg Works of Jane Austen</span>, <span style=\"background-color:#e2d7d5;\">Jane Austen: Sense and Sensibility</span>, <span style=\"background-color:#eadbd8;\">Anne Brontë: Agnes Grey</span>, <span style=\"background-color:#fae5d3;\">Jane Austen: Pride and Prejudice</span>, <span style=\"background-color:#fdebd0;\">Virginia Woolf: Night and Day</span>, <span style=\"background-color:#d8daef;\">Virginia Woolf: The Common Reader</span>, <span style=\"background-color:#d4efdf;\">Jane Austen: Mansfield Park</span>, <span style=\"background-color:#ebdef0;\">Emily Brontë: Wuthering Heights</span>, <span style=\"background-color:#ecf3cf;\">Virginia Woolf: The Voyage Out</span>, <span style=\"background-color:#edebd0;\">Jane Austen: Emma</span></p></small>"
            ],
            "text/plain": [
              "<IPython.core.display.HTML object>"
            ]
          },
          "metadata": {}
        },
        {
          "output_type": "stream",
          "name": "stdout",
          "text": [
            "Temperature 0.8:\n"
          ]
        },
        {
          "output_type": "display_data",
          "data": {
            "text/html": [
              "<span style=\"background-color:#eadbd8;\">Jane had so</span><span style=\"background-color:#fdebd0;\"> concealing so</span> keepl<span style=\"background-color:#ebdef0;\">y to regard the </span>prop<span style=\"background-color:#eadbd8;\">er time, and</span><span style=\"background-color:#eadbd8;\">, Miss Carr </span><span style=\"background-color:#d4e6f1;\">will be so w</span><span style=\"background-color:#d6dbdf;\">ith my head</span><span style=\"background-color:#e2d7d5;\">. What do you re</span>p<span style=\"background-color:#d6dbdf;\">ove him before </span><span style=\"background-color:#d6dbdf;\">I don’t know</span><span style=\"background-color:#eadbd8;\">n him as a v</span>er<span style=\"background-color:#d4e6f1;\">y disappro</span>cal.”<span style=\"background-color:#d4e6f1;\"> I had heard of </span><span style=\"background-color:#fae5d3;\">but stopping </span><span style=\"background-color:#d4e6f1;\">to the kindness </span><span style=\"background-color:#d8daef;\">of all the b</span>all<span style=\"background-color:#d4e6f1;\">s in her ch</span><span style=\"background-color:#d6dbdf;\">ildren, with </span><span style=\"background-color:#eadbd8;\">a very charm</span>ed of fellig<span style=\"background-color:#d4e6f1;\">ns and rec</span>all<span style=\"background-color:#ecf3cf;\">ed St. John </span><span style=\"background-color:#eadbd8;\">was properly </span><span style=\"background-color:#eadbd8;\">in the same to</span>uch<span style=\"background-color:#ecf3cf;\">. “What I </span><span style=\"background-color:#eadbd8;\">have no doubt of </span><span style=\"background-color:#d4e6f1;\">my mother, and </span><span style=\"background-color:#d4e6f1;\">you call to </span>Cass<span style=\"background-color:#d4e6f1;\">le with them. </span>I<span style=\"background-color:#d4e6f1;\">n consideration of the </span>bod<span style=\"background-color:#d4e6f1;\">y were all st</span>ruck and geno<span style=\"background-color:#d4e6f1;\">ral than the </span><span style=\"background-color:#d4e6f1;\">excellent thing </span>awa<span style=\"background-color:#e5e8e8;\">y her. It </span><span style=\"background-color:#d4e6f1;\">might be acc</span><span style=\"background-color:#d0ece7;\">ount, for </span>the ho<span style=\"background-color:#d6dbdf;\">ter by the </span><span style=\"background-color:#e5e8e8;\">appearance of a very </span>sh<span style=\"background-color:#d4e6f1;\">yle of a w</span><span style=\"background-color:#d4e6f1;\">indow in the </span>fi<span style=\"background-color:#fdebd0;\">re, as if </span><span style=\"background-color:#eadbd8;\">conceited </span>a bad whi<span style=\"background-color:#ecf3cf;\">te strength</span>e<span style=\"background-color:#eadbd8;\">ning such </span>cons<span style=\"background-color:#fdebd0;\">tions, the mor</span>ning so un<span style=\"background-color:#d4e6f1;\">excepted, </span>ha<span style=\"background-color:#fdebd0;\">lf down the</span>m to his G"
            ],
            "text/plain": [
              "<IPython.core.display.HTML object>"
            ]
          },
          "metadata": {}
        },
        {
          "output_type": "display_data",
          "data": {
            "text/html": [
              "<small><p style=\"text-align:right;\">Sources: <span style=\"background-color:#eadbd8;\">Catherine Anne Austen Hubback and Jane Austen: The Younger Sister, Volumes 1-3</span>, <span style=\"background-color:#fdebd0;\">Virginia Woolf: Night and Day</span>, <span style=\"background-color:#ebdef0;\">Emily Brontë: Wuthering Heights</span>, <span style=\"background-color:#d4e6f1;\">Jane Austen: The Complete Project Gutenberg Works of Jane Austen</span>, <span style=\"background-color:#d6dbdf;\">Charlotte Brontë: Villette</span>, <span style=\"background-color:#e2d7d5;\">Catherine Anne Austen Hubback and Jane Austen: The Younger Sister, Vol. 3</span>, <span style=\"background-color:#fae5d3;\">Jane Austen: Pride and Prejudice</span>, <span style=\"background-color:#d8daef;\">Virginia Woolf: The Common Reader</span>, <span style=\"background-color:#ecf3cf;\">Virginia Woolf: The Voyage Out</span>, <span style=\"background-color:#e5e8e8;\">Jane Austen: Love And Friendship And Other Early Works</span>, <span style=\"background-color:#d0ece7;\">Jane Austen: Pride and Prejudice</span></p></small>"
            ],
            "text/plain": [
              "<IPython.core.display.HTML object>"
            ]
          },
          "metadata": {}
        },
        {
          "output_type": "stream",
          "name": "stdout",
          "text": [
            "Epoch 12 Loss: 1.230 Precision: 0.626 Time/Sample: 0.000761 sec/sample\n",
            "Saved best precision model, prec=0.626\n",
            "Epoch 12 Loss: 1.226 Precision: 0.627 Time/Sample: 0.000759 sec/sample\n",
            "Saved best precision model, prec=0.627\n",
            "Epoch 12 Loss: 1.223 Precision: 0.628 Time/Sample: 0.000765 sec/sample\n",
            "Saved best precision model, prec=0.628\n",
            "Epoch 12 Loss: 1.220 Precision: 0.629 Time/Sample: 0.000761 sec/sample\n",
            "Saved best precision model, prec=0.629\n",
            "Temperature 0.6:\n"
          ]
        },
        {
          "output_type": "display_data",
          "data": {
            "text/html": [
              "<span style=\"background-color:#d4e6f1;\">She could not be </span><span style=\"background-color:#eadbd8;\">idea of the </span>whit<span style=\"background-color:#d8daef;\">e sight of a </span><span style=\"background-color:#eadbd8;\">strong to </span>make a soft of pr<span style=\"background-color:#d4e6f1;\">ice she had </span><span style=\"background-color:#d4e6f1;\">been forgotten </span><span style=\"background-color:#d4e6f1;\">to the chance of </span><span style=\"background-color:#eadbd8;\">sufficient fe</span><span style=\"background-color:#d4e6f1;\">elings and su</span>rpris<span style=\"background-color:#e2d7d5;\">ed all her a</span><span style=\"background-color:#eadbd8;\">nxiety, he</span><span style=\"background-color:#eadbd8;\">r brother was st</span>ept<span style=\"background-color:#d0ece7;\"> former to </span><span style=\"background-color:#fdebd0;\">him. She d</span><span style=\"background-color:#d8daef;\">eep into the </span><span style=\"background-color:#edebd0;\">good of the </span><span style=\"background-color:#eadbd8;\">evening was </span><span style=\"background-color:#d4e6f1;\">not long in </span><span style=\"background-color:#f6ddcc;\">his hand and th</span><span style=\"background-color:#d6dbdf;\">e distance of h</span><span style=\"background-color:#eadbd8;\">is manners </span><span style=\"background-color:#d4e6f1;\">even the more </span><span style=\"background-color:#fdebd0;\">character of the r</span>ailb<span style=\"background-color:#d6dbdf;\">ang and the</span><span style=\"background-color:#eadbd8;\"> subject of his </span><span style=\"background-color:#d8daef;\">mother was </span><span style=\"background-color:#ebdef0;\">not his ma</span><span style=\"background-color:#d4e6f1;\">ster to the </span><span style=\"background-color:#eadbd8;\">lady, and s</span>aid a<span style=\"background-color:#ebdef0;\"> months the </span>pa<span style=\"background-color:#d8daef;\">rty of the </span><span style=\"background-color:#eadbd8;\">subject, a</span><span style=\"background-color:#d8daef;\">rm of the e</span><span style=\"background-color:#d8daef;\">nd of the in</span><span style=\"background-color:#d4e6f1;\">terest of a </span>fe<span style=\"background-color:#ebdef0;\">w manner of </span><span style=\"background-color:#fdebd0;\">her relations, and </span><span style=\"background-color:#e2d7d5;\">some mistake of</span><span style=\"background-color:#fdebd0;\"> her way, wi</span>th an awgi<span style=\"background-color:#e2d7d5;\">rally confi</span><span style=\"background-color:#fdebd0;\">dence of all t</span>he<span style=\"background-color:#d4e6f1;\"> rain and </span>blow<span style=\"background-color:#d8daef;\"> home again</span>st digp<span style=\"background-color:#d4e6f1;\">ition, and seemed </span><span style=\"background-color:#d0ece7;\">all the best of </span><span style=\"background-color:#d6dbdf;\">some weeks th</span><span style=\"background-color:#d0ece7;\">ey were now a</span>ngw<span style=\"background-color:#d6dbdf;\">elves into f</span><span style=\"background-color:#eadbd8;\">riendship and </span>"
            ],
            "text/plain": [
              "<IPython.core.display.HTML object>"
            ]
          },
          "metadata": {}
        },
        {
          "output_type": "display_data",
          "data": {
            "text/html": [
              "<small><p style=\"text-align:right;\">Sources: <span style=\"background-color:#d4e6f1;\">Jane Austen: The Complete Project Gutenberg Works of Jane Austen</span>, <span style=\"background-color:#eadbd8;\">Catherine Anne Austen Hubback and Jane Austen: The Younger Sister, Volumes 1-3</span>, <span style=\"background-color:#d8daef;\">Virginia Woolf: The Common Reader</span>, <span style=\"background-color:#eadbd8;\">Anne Brontë: Agnes Grey</span>, <span style=\"background-color:#e2d7d5;\">Catherine Anne Austen Hubback and Jane Austen: The Younger Sister, Vol. 3</span>, <span style=\"background-color:#d0ece7;\">Jane Austen: Pride and Prejudice</span>, <span style=\"background-color:#fdebd0;\">Virginia Woolf: Night and Day</span>, <span style=\"background-color:#edebd0;\">Jane Austen: Emma</span>, <span style=\"background-color:#f6ddcc;\">Virginia Woolf: Jacob's Room</span>, <span style=\"background-color:#d6dbdf;\">Charlotte Brontë: Villette</span>, <span style=\"background-color:#ebdef0;\">Emily Brontë: Wuthering Heights</span>, <span style=\"background-color:#e2d7d5;\">Jane Austen: Sense and Sensibility</span></p></small>"
            ],
            "text/plain": [
              "<IPython.core.display.HTML object>"
            ]
          },
          "metadata": {}
        },
        {
          "output_type": "stream",
          "name": "stdout",
          "text": [
            "Temperature 0.7:\n"
          ]
        },
        {
          "output_type": "display_data",
          "data": {
            "text/html": [
              "<span style=\"background-color:#ecf3cf;\">She was dro</span>p<span style=\"background-color:#d4e6f1;\">ped to conce</span><span style=\"background-color:#d4e6f1;\">ive of Highbury</span><span style=\"background-color:#d4e6f1;\"> with any other se</span>rv<span style=\"background-color:#d4e6f1;\">ice between the </span>contin<span style=\"background-color:#eadbd8;\">ue of the l</span><span style=\"background-color:#d0ece7;\">east, which </span><span style=\"background-color:#d4e6f1;\">collect his </span><span style=\"background-color:#d6dbdf;\">grave, that</span><span style=\"background-color:#d8daef;\"> the count</span><span style=\"background-color:#d8daef;\">ical of the </span>part<span style=\"background-color:#d0ece7;\">onage, and w</span><span style=\"background-color:#eadbd8;\">ould have ref</span><span style=\"background-color:#eadbd8;\">arded the </span><span style=\"background-color:#d4e6f1;\">happiness of his </span><span style=\"background-color:#d4e6f1;\">way the ne</span>ar<span style=\"background-color:#eadbd8;\">er which no</span>w<span style=\"background-color:#eadbd8;\"> doing any </span>k<span style=\"background-color:#fdebd0;\">ind at once </span><span style=\"background-color:#eadbd8;\">absolutely e</span><span style=\"background-color:#d0ece7;\">ntering the m</span><span style=\"background-color:#f6ddcc;\">oment to d</span>ev<span style=\"background-color:#fdebd0;\">er and let</span>ter<span style=\"background-color:#d4e6f1;\">s, he could not </span>be comp<span style=\"background-color:#d4e6f1;\">eived by the </span><span style=\"background-color:#d4e6f1;\">other, for his </span><span style=\"background-color:#fae5d3;\">father was not </span>a<span style=\"background-color:#d8daef;\"> fall of the </span>gu<span style=\"background-color:#d0ece7;\">stion which </span><span style=\"background-color:#d0ece7;\">they should not have </span><span style=\"background-color:#d4e6f1;\">seen all t</span>ranss<span style=\"background-color:#d4e6f1;\"> the shade of </span><span style=\"background-color:#d4e6f1;\">when these </span><span style=\"background-color:#d0ece7;\">disposition was </span><span style=\"background-color:#d4e6f1;\">to be delighted </span><span style=\"background-color:#fdebd0;\">in the middle, and </span><span style=\"background-color:#ecf3cf;\">a great many letter</span> to my power;<span style=\"background-color:#d8daef;\"> ourselves and </span><span style=\"background-color:#d0ece7;\">people to be </span>so<span style=\"background-color:#eadbd8;\"> story of it </span><span style=\"background-color:#eadbd8;\">in a secre</span><span style=\"background-color:#d0ece7;\">, by the te</span>p<span style=\"background-color:#fdebd0;\">pers seemed to her </span><span style=\"background-color:#ebdef0;\">to proceed to </span><span style=\"background-color:#d4e6f1;\">which he heard </span><span style=\"background-color:#d4e6f1;\">of her step</span><span style=\"background-color:#d4e6f1;\">s in with </span><span style=\"background-color:#eadbd8;\">news of her </span><span style=\"background-color:#eadbd8;\">carriage, e</span>ve"
            ],
            "text/plain": [
              "<IPython.core.display.HTML object>"
            ]
          },
          "metadata": {}
        },
        {
          "output_type": "display_data",
          "data": {
            "text/html": [
              "<small><p style=\"text-align:right;\">Sources: <span style=\"background-color:#ecf3cf;\">Virginia Woolf: The Voyage Out</span>, <span style=\"background-color:#d4e6f1;\">Jane Austen: The Complete Project Gutenberg Works of Jane Austen</span>, <span style=\"background-color:#eadbd8;\">Anne Brontë: Agnes Grey</span>, <span style=\"background-color:#d0ece7;\">Jane Austen: Pride and Prejudice</span>, <span style=\"background-color:#d6dbdf;\">Charlotte Brontë: Villette</span>, <span style=\"background-color:#d8daef;\">Virginia Woolf: The Common Reader</span>, <span style=\"background-color:#eadbd8;\">Catherine Anne Austen Hubback and Jane Austen: The Younger Sister, Volumes 1-3</span>, <span style=\"background-color:#fdebd0;\">Virginia Woolf: Night and Day</span>, <span style=\"background-color:#f6ddcc;\">Virginia Woolf: Jacob's Room</span>, <span style=\"background-color:#fae5d3;\">Jane Austen: Pride and Prejudice</span>, <span style=\"background-color:#ebdef0;\">Virginia Woolf: Mr. Bennett and Mrs. Brown</span></p></small>"
            ],
            "text/plain": [
              "<IPython.core.display.HTML object>"
            ]
          },
          "metadata": {}
        },
        {
          "output_type": "stream",
          "name": "stdout",
          "text": [
            "Temperature 0.8:\n"
          ]
        },
        {
          "output_type": "display_data",
          "data": {
            "text/html": [
              "<span style=\"background-color:#d0ece7;\">The least </span><span style=\"background-color:#d4e6f1;\">consequence had </span><span style=\"background-color:#e2d7d5;\">been known a</span> smecicate scrup<span style=\"background-color:#d4e6f1;\">k to her s</span>ubject;<span style=\"background-color:#d0ece7;\"> consenting </span><span style=\"background-color:#eadbd8;\">from the su</span>n<span style=\"background-color:#eadbd8;\">ject of anxiety</span><span style=\"background-color:#d4e6f1;\"> in the antic</span><span style=\"background-color:#ecf3cf;\">ulations of their </span>lavyers bruiled Emmw<span style=\"background-color:#e2d7d5;\"> for, the ne</span><span style=\"background-color:#e2d7d5;\">cessity of b</span><span style=\"background-color:#d4e6f1;\">eing nothing be</span><span style=\"background-color:#d4e6f1;\">tween themselves </span>off in a gowd<span style=\"background-color:#fdebd0;\">ing-room m</span>or<span style=\"background-color:#d4e6f1;\">e a restraint o</span>f d<span style=\"background-color:#e2d7d5;\">estriction </span><span style=\"background-color:#d4e6f1;\">or her father a</span><span style=\"background-color:#ebdef0;\">t the carry</span> of Conb<span style=\"background-color:#d0ece7;\">us expressi</span>ng as Hen<span style=\"background-color:#d4e6f1;\">rying and </span>raised unutay<span style=\"background-color:#d4e6f1;\">l refusing t</span><span style=\"background-color:#d4e6f1;\">he room again</span><span style=\"background-color:#eadbd8;\">st his pro</span>mrou<span style=\"background-color:#e2d7d5;\">nd sisters. A</span>s Mr. Di<span style=\"background-color:#eadbd8;\">nkins and </span>her coc<span style=\"background-color:#d4e6f1;\">ing in one s</span><span style=\"background-color:#d4e6f1;\">ince the i</span><span style=\"background-color:#eadbd8;\">mportant co</span>untr<span style=\"background-color:#d4e6f1;\">y at Mansfield </span><span style=\"background-color:#eadbd8;\">for another si</span><span style=\"background-color:#eadbd8;\">de; she must </span>harb<span style=\"background-color:#eadbd8;\">en manners </span><span style=\"background-color:#eadbd8;\">on her own d</span><span style=\"background-color:#d6dbdf;\">reams, and </span>in a mov<span style=\"background-color:#d4e6f1;\">e danger; </span>e<span style=\"background-color:#d0ece7;\">ven a very </span><span style=\"background-color:#e2d7d5;\">particular he</span>ar<span style=\"background-color:#d4e6f1;\">t had read </span>ye<span style=\"background-color:#d4e6f1;\">t eating and </span><span style=\"background-color:#d4e6f1;\">voice, and s</span><span style=\"background-color:#d0ece7;\">eemed to be a </span>f<span style=\"background-color:#eadbd8;\">latter of </span><span style=\"background-color:#d8daef;\">even for the</span> most unpocco<span style=\"background-color:#fdebd0;\">sitation, and </span><span style=\"background-color:#d8daef;\">attending t</span>"
            ],
            "text/plain": [
              "<IPython.core.display.HTML object>"
            ]
          },
          "metadata": {}
        },
        {
          "output_type": "display_data",
          "data": {
            "text/html": [
              "<small><p style=\"text-align:right;\">Sources: <span style=\"background-color:#d0ece7;\">Jane Austen: Pride and Prejudice</span>, <span style=\"background-color:#d4e6f1;\">Jane Austen: The Complete Project Gutenberg Works of Jane Austen</span>, <span style=\"background-color:#e2d7d5;\">Jane Austen: Sense and Sensibility</span>, <span style=\"background-color:#eadbd8;\">Catherine Anne Austen Hubback and Jane Austen: The Younger Sister, Volumes 1-3</span>, <span style=\"background-color:#ecf3cf;\">Virginia Woolf: The Voyage Out</span>, <span style=\"background-color:#fdebd0;\">Virginia Woolf: Night and Day</span>, <span style=\"background-color:#ebdef0;\">Emily Brontë: Wuthering Heights</span>, <span style=\"background-color:#eadbd8;\">Anne Brontë: Agnes Grey</span>, <span style=\"background-color:#d6dbdf;\">Charlotte Brontë: Villette</span>, <span style=\"background-color:#d8daef;\">Virginia Woolf: The Common Reader</span></p></small>"
            ],
            "text/plain": [
              "<IPython.core.display.HTML object>"
            ]
          },
          "metadata": {}
        },
        {
          "output_type": "stream",
          "name": "stdout",
          "text": [
            "Epoch 12 Loss: 1.218 Precision: 0.629 Time/Sample: 0.000759 sec/sample\n",
            "Saved best precision model, prec=0.629\n",
            "Epoch 12 Loss: 1.215 Precision: 0.630 Time/Sample: 0.000761 sec/sample\n",
            "Saved best precision model, prec=0.630\n",
            "Epoch 12 Loss: 1.212 Precision: 0.631 Time/Sample: 0.000761 sec/sample\n",
            "Saved best precision model, prec=0.631\n",
            "Temperature 0.6:\n"
          ]
        },
        {
          "output_type": "display_data",
          "data": {
            "text/html": [
              "<span style=\"background-color:#d4e6f1;\">He was so b</span><span style=\"background-color:#d8daef;\">eauty and </span>fel<span style=\"background-color:#d4e6f1;\">t so favour</span>ite<span style=\"background-color:#d8daef;\"> a state of </span><span style=\"background-color:#d8daef;\">his father, and </span><span style=\"background-color:#ecf3cf;\">explained that she </span><span style=\"background-color:#d4e6f1;\">had not been at </span><span style=\"background-color:#e2d7d5;\">her sister’s h</span><span style=\"background-color:#d0ece7;\">opes that </span><span style=\"background-color:#eadbd8;\">she was not en</span><span style=\"background-color:#d0ece7;\">tertained in th</span><span style=\"background-color:#d6dbdf;\">e garden, the </span><span style=\"background-color:#e2d7d5;\">state of life w</span><span style=\"background-color:#d0ece7;\">ould be taken </span><span style=\"background-color:#e2d7d5;\">in the last th</span><span style=\"background-color:#e2d7d5;\">ings were b</span>o<span style=\"background-color:#d8daef;\">th her con</span><span style=\"background-color:#eadbd8;\">finement and </span><span style=\"background-color:#eadbd8;\">her father and </span><span style=\"background-color:#d0ece7;\">the streets of th</span>e mo<span style=\"background-color:#d4e6f1;\">st sort of </span><span style=\"background-color:#eadbd8;\">fine enough</span><span style=\"background-color:#fdebd0;\">, and a little g</span><span style=\"background-color:#d4e6f1;\">reat expense</span><span style=\"background-color:#d4e6f1;\"> for the rest; </span><span style=\"background-color:#d4e6f1;\">he could not have been a</span><span style=\"background-color:#eadbd8;\"> very great deal</span><span style=\"background-color:#d4e6f1;\"> of the case,</span> s<span style=\"background-color:#d4e6f1;\">o Mr. Elton, t</span><span style=\"background-color:#d4e6f1;\">o see them to</span><span style=\"background-color:#d4e6f1;\"> be the con</span>tempt self-<span style=\"background-color:#fdebd0;\">cause of the t</span>errif<span style=\"background-color:#d4e6f1;\">ics of the </span><span style=\"background-color:#e5e8e8;\">road which </span><span style=\"background-color:#d0ece7;\">she had never d</span><span style=\"background-color:#eadbd8;\">id not hear of </span><span style=\"background-color:#d8daef;\">the same thing </span><span style=\"background-color:#eadbd8;\">acquainted with the </span>or<span style=\"background-color:#d4e6f1;\">der sister, </span>by<span style=\"background-color:#d4e6f1;\"> a clear thing </span><span style=\"background-color:#d4e6f1;\">to marry them</span><span style=\"background-color:#d0ece7;\">selves on the </span><span style=\"background-color:#eadbd8;\">subject of her </span><span style=\"background-color:#eadbd8;\">next morning. </span><span style=\"background-color:#d4efdf;\">“I am sure she </span><span style=\"background-color:#d4e6f1;\">will be the s</span><span style=\"background-color:#d4e6f1;\">on of her own </span><span style=\"background-color:#eadbd8;\">sister, and th</span>"
            ],
            "text/plain": [
              "<IPython.core.display.HTML object>"
            ]
          },
          "metadata": {}
        },
        {
          "output_type": "display_data",
          "data": {
            "text/html": [
              "<small><p style=\"text-align:right;\">Sources: <span style=\"background-color:#d4e6f1;\">Jane Austen: The Complete Project Gutenberg Works of Jane Austen</span>, <span style=\"background-color:#d8daef;\">Virginia Woolf: The Common Reader</span>, <span style=\"background-color:#ecf3cf;\">Virginia Woolf: The Voyage Out</span>, <span style=\"background-color:#e2d7d5;\">Jane Austen: Sense and Sensibility</span>, <span style=\"background-color:#d0ece7;\">Jane Austen: Pride and Prejudice</span>, <span style=\"background-color:#eadbd8;\">Catherine Anne Austen Hubback and Jane Austen: The Younger Sister, Volumes 1-3</span>, <span style=\"background-color:#d6dbdf;\">Charlotte Brontë: Villette</span>, <span style=\"background-color:#e2d7d5;\">Catherine Anne Austen Hubback and Jane Austen: The Younger Sister, Vol. 3</span>, <span style=\"background-color:#fdebd0;\">Virginia Woolf: Night and Day</span>, <span style=\"background-color:#e5e8e8;\">Jane Austen: Love And Friendship And Other Early Works</span>, <span style=\"background-color:#d0ece7;\">Jane Austen: Northanger Abbey</span>, <span style=\"background-color:#d4efdf;\">Jane Austen: Mansfield Park</span></p></small>"
            ],
            "text/plain": [
              "<IPython.core.display.HTML object>"
            ]
          },
          "metadata": {}
        },
        {
          "output_type": "stream",
          "name": "stdout",
          "text": [
            "Temperature 0.7:\n"
          ]
        },
        {
          "output_type": "display_data",
          "data": {
            "text/html": [
              "<span style=\"background-color:#d4e6f1;\">She has been s</span><span style=\"background-color:#eadbd8;\">een him very </span><span style=\"background-color:#edebd0;\">evening with hi</span>m<span style=\"background-color:#eadbd8;\"> single moment</span>, unler<span style=\"background-color:#d6dbdf;\">s the garden, </span><span style=\"background-color:#d6dbdf;\">and some con</span>tr<span style=\"background-color:#d4e6f1;\">ary had been </span>a<span style=\"background-color:#d4e6f1;\"> provided b</span><span style=\"background-color:#eadbd8;\">efore she could </span><span style=\"background-color:#eadbd8;\">not have suc</span><span style=\"background-color:#ebdef0;\">ceeded by a </span>sont<span style=\"background-color:#d4e6f1;\"> of suggesting </span><span style=\"background-color:#eadbd8;\">respect of </span><span style=\"background-color:#d4e6f1;\">speaking some </span><span style=\"background-color:#d4e6f1;\">day; but a</span><span style=\"background-color:#d8daef;\"> scattered a</span>nd<span style=\"background-color:#ecf3cf;\"> great like</span>wi<span style=\"background-color:#d4e6f1;\">se, it was </span><span style=\"background-color:#fae5d3;\">sure that it was </span><span style=\"background-color:#d4e6f1;\">to be in f</span><span style=\"background-color:#d8daef;\">eeling that </span><span style=\"background-color:#d4e6f1;\">Miss Thorpe, and </span>could ent<span style=\"background-color:#ebdef0;\">ulling the </span><span style=\"background-color:#d6dbdf;\">speaking d</span><span style=\"background-color:#d4e6f1;\">oubt of her </span>to<span style=\"background-color:#d4e6f1;\"> any choice</span><span style=\"background-color:#eadbd8;\">. They had not</span><span style=\"background-color:#d4e6f1;\">hing to speak </span><span style=\"background-color:#ebdef0;\">of the heatin</span>ess<span style=\"background-color:#d4e6f1;\"> too, there c</span><span style=\"background-color:#d4e6f1;\">ould not often p</span>ut up a b<span style=\"background-color:#d6dbdf;\">ull in the </span>rewnengen and g<span style=\"background-color:#d6dbdf;\">ame looked </span>into a vus<span style=\"background-color:#d4e6f1;\">lay with the c</span>lassicul<span style=\"background-color:#d4e6f1;\">. The end </span>res<span style=\"background-color:#d4e6f1;\">recting the </span><span style=\"background-color:#d0ece7;\">person, to </span><span style=\"background-color:#e5e8e8;\">repent the </span>perhaps<span style=\"background-color:#d8daef;\"> can be sur</span><span style=\"background-color:#eadbd8;\">prised, the</span><span style=\"background-color:#eadbd8;\">re was such </span>step<span style=\"background-color:#d6dbdf;\">t with her own </span>w<span style=\"background-color:#eadbd8;\">illings and h</span><span style=\"background-color:#fae5d3;\">er so little a</span><span style=\"background-color:#eadbd8;\">nd a capital </span><span style=\"background-color:#eadbd8;\">being obliged to </span><span style=\"background-color:#eadbd8;\">dinner, and </span><span style=\"background-color:#d4e6f1;\">could be per</span>"
            ],
            "text/plain": [
              "<IPython.core.display.HTML object>"
            ]
          },
          "metadata": {}
        },
        {
          "output_type": "display_data",
          "data": {
            "text/html": [
              "<small><p style=\"text-align:right;\">Sources: <span style=\"background-color:#d4e6f1;\">Jane Austen: The Complete Project Gutenberg Works of Jane Austen</span>, <span style=\"background-color:#eadbd8;\">Catherine Anne Austen Hubback and Jane Austen: The Younger Sister, Volumes 1-3</span>, <span style=\"background-color:#edebd0;\">Jane Austen: Emma</span>, <span style=\"background-color:#eadbd8;\">Anne Brontë: Agnes Grey</span>, <span style=\"background-color:#d6dbdf;\">Charlotte Brontë: Villette</span>, <span style=\"background-color:#ebdef0;\">Emily Brontë: Wuthering Heights</span>, <span style=\"background-color:#d8daef;\">Virginia Woolf: The Common Reader</span>, <span style=\"background-color:#ecf3cf;\">Virginia Woolf: The Voyage Out</span>, <span style=\"background-color:#fae5d3;\">Jane Austen: Pride and Prejudice</span>, <span style=\"background-color:#d0ece7;\">Jane Austen: Pride and Prejudice</span>, <span style=\"background-color:#e5e8e8;\">Jane Austen: Love And Friendship And Other Early Works</span></p></small>"
            ],
            "text/plain": [
              "<IPython.core.display.HTML object>"
            ]
          },
          "metadata": {}
        },
        {
          "output_type": "stream",
          "name": "stdout",
          "text": [
            "Temperature 0.8:\n"
          ]
        },
        {
          "output_type": "display_data",
          "data": {
            "text/html": [
              "<span style=\"background-color:#e5e8e8;\">“My dear Miss Gre</span>y,”<span style=\"background-color:#eadbd8;\"> was ready to have </span><span style=\"background-color:#d8daef;\">standing in</span><span style=\"background-color:#d6dbdf;\">to the lea</span><span style=\"background-color:#fdebd0;\">stest, and </span><span style=\"background-color:#fdebd0;\">all looking</span><span style=\"background-color:#d4e6f1;\">; and it was a p</span>roper<span style=\"background-color:#eadbd8;\"> deal of c</span>re<span style=\"background-color:#d6dbdf;\">ature, for </span><span style=\"background-color:#f6ddcc;\">the truth of the </span>housesoo<span style=\"background-color:#d0ece7;\">k preceding </span>the seas<span style=\"background-color:#edebd0;\">, the table </span>pas<span style=\"background-color:#ecf3cf;\">s now on the su</span><span style=\"background-color:#eadbd8;\">bject of an</span><span style=\"background-color:#d6dbdf;\"> attention to c</span>hose his capa<span style=\"background-color:#eadbd8;\">, went back </span><span style=\"background-color:#d0ece7;\">by her father </span>so comple<span style=\"background-color:#eadbd8;\">ded about </span><span style=\"background-color:#eadbd8;\">his wife, that </span><span style=\"background-color:#d0ece7;\">she had under</span><span style=\"background-color:#d8daef;\">stand her </span><span style=\"background-color:#d8daef;\">hand upon </span>it<span style=\"background-color:#eadbd8;\">, and do it </span><span style=\"background-color:#fdebd0;\">possibly marry</span><span style=\"background-color:#ebdef0;\">ing it, that </span><span style=\"background-color:#d4e6f1;\">Maria could not </span><span style=\"background-color:#d4e6f1;\">come from her</span><span style=\"background-color:#eadbd8;\"> own, and </span><span style=\"background-color:#d4e6f1;\">could not be v</span>arifie<span style=\"background-color:#e2d7d5;\">d, who could not </span><span style=\"background-color:#eadbd8;\">be married, and </span><span style=\"background-color:#d6dbdf;\">when she was not lo</span><span style=\"background-color:#eadbd8;\">ng to be ex</span><span style=\"background-color:#eadbd8;\">actly in the </span>country <span style=\"background-color:#d4e6f1;\">now better; </span><span style=\"background-color:#d4e6f1;\">the letter, the </span>con<span style=\"background-color:#d4e6f1;\">tress of a </span><span style=\"background-color:#f6ddcc;\">considerable con</span>d<span style=\"background-color:#eadbd8;\">ention of his si</span>tuals. <span style=\"background-color:#eadbd8;\">“Oh! that s</span>he<span style=\"background-color:#d4e6f1;\"> speak, th</span>at I ne<span style=\"background-color:#fdebd0;\">ll to tell h</span>im pref<span style=\"background-color:#eadbd8;\">er for a moment</span>’s clar<span style=\"background-color:#eadbd8;\">e but myself</span><span style=\"background-color:#eadbd8;\"> requires </span>when he "
            ],
            "text/plain": [
              "<IPython.core.display.HTML object>"
            ]
          },
          "metadata": {}
        },
        {
          "output_type": "display_data",
          "data": {
            "text/html": [
              "<small><p style=\"text-align:right;\">Sources: <span style=\"background-color:#e5e8e8;\">Jane Austen: Love And Friendship And Other Early Works</span>, <span style=\"background-color:#eadbd8;\">Catherine Anne Austen Hubback and Jane Austen: The Younger Sister, Volumes 1-3</span>, <span style=\"background-color:#d8daef;\">Virginia Woolf: The Common Reader</span>, <span style=\"background-color:#d6dbdf;\">Charlotte Brontë: Villette</span>, <span style=\"background-color:#fdebd0;\">Virginia Woolf: Night and Day</span>, <span style=\"background-color:#d4e6f1;\">Jane Austen: The Complete Project Gutenberg Works of Jane Austen</span>, <span style=\"background-color:#f6ddcc;\">Virginia Woolf: Jacob's Room</span>, <span style=\"background-color:#d0ece7;\">Jane Austen: Pride and Prejudice</span>, <span style=\"background-color:#edebd0;\">Jane Austen: Emma</span>, <span style=\"background-color:#ecf3cf;\">Virginia Woolf: The Voyage Out</span>, <span style=\"background-color:#eadbd8;\">Anne Brontë: Agnes Grey</span>, <span style=\"background-color:#ebdef0;\">Emily Brontë: Wuthering Heights</span>, <span style=\"background-color:#e2d7d5;\">Jane Austen: Sense and Sensibility</span></p></small>"
            ],
            "text/plain": [
              "<IPython.core.display.HTML object>"
            ]
          },
          "metadata": {}
        },
        {
          "output_type": "stream",
          "name": "stdout",
          "text": [
            "Epoch 13 Loss: 1.209 Precision: 0.631 Time/Sample: 0.000761 sec/sample\n",
            "Saved best precision model, prec=0.631\n",
            "Epoch 13 Loss: 1.207 Precision: 0.632 Time/Sample: 0.000759 sec/sample\n",
            "Saved best precision model, prec=0.632\n",
            "Epoch 13 Loss: 1.203 Precision: 0.633 Time/Sample: 0.000761 sec/sample\n",
            "Saved best precision model, prec=0.633\n",
            "Temperature 0.6:\n"
          ]
        },
        {
          "output_type": "display_data",
          "data": {
            "text/html": [
              "<span style=\"background-color:#d4e6f1;\">She thought of her </span>st<span style=\"background-color:#d4e6f1;\">iet was to be </span><span style=\"background-color:#d4e6f1;\">sure that she ha</span><span style=\"background-color:#d4e6f1;\">d not been able to re</span><span style=\"background-color:#e2d7d5;\">turn her t</span><span style=\"background-color:#fdebd0;\">o what he had </span><span style=\"background-color:#eadbd8;\">been seen th</span><span style=\"background-color:#d6dbdf;\">e fact, to </span>see<span style=\"background-color:#eadbd8;\"> the side of the s</span><span style=\"background-color:#ecf3cf;\">ame time, she was</span><span style=\"background-color:#d0ece7;\"> a sort of a</span>un<span style=\"background-color:#fae5d3;\">t and some </span><span style=\"background-color:#d4e6f1;\">day with the </span>lover<span style=\"background-color:#fdebd0;\">. “Why do you </span><span style=\"background-color:#d4e6f1;\">like them a</span><span style=\"background-color:#d4e6f1;\">ny thing to say</span><span style=\"background-color:#d6dbdf;\"> and think that </span><span style=\"background-color:#eadbd8;\">you, as I </span><span style=\"background-color:#eadbd8;\">was in the con</span>tempt<span style=\"background-color:#d8daef;\">ons which </span>Holund<span style=\"background-color:#ecf3cf;\">ares of thi</span>s o<span style=\"background-color:#d8daef;\">ne is the </span><span style=\"background-color:#eadbd8;\">truth of M</span><span style=\"background-color:#e2d7d5;\">r. Jennings</span><span style=\"background-color:#d8daef;\">'s language</span><span style=\"background-color:#d8daef;\">. But the f</span>irst ki<span style=\"background-color:#edebd0;\">nd, was the </span><span style=\"background-color:#d4e6f1;\">end of the so</span><span style=\"background-color:#eadbd8;\">rt of the lea</span><span style=\"background-color:#fdebd0;\">ves of the s</span><span style=\"background-color:#eadbd8;\">ound of his c</span><span style=\"background-color:#d4e6f1;\">ousin. The </span><span style=\"background-color:#d4e6f1;\">little boys w</span><span style=\"background-color:#d0ece7;\">ere feeling</span><span style=\"background-color:#eadbd8;\">, for she was s</span><span style=\"background-color:#d4e6f1;\">trength of his fa</span><span style=\"background-color:#eadbd8;\">ther to ac</span><span style=\"background-color:#d0ece7;\">t were to </span><span style=\"background-color:#d4e6f1;\">say that he had </span><span style=\"background-color:#d8daef;\">succeeded </span><span style=\"background-color:#eadbd8;\">violence to </span>recret<span style=\"background-color:#fdebd0;\"> it she was </span>no<span style=\"background-color:#eadbd8;\">t here for </span>a<span style=\"background-color:#e5e8e8;\"> mine, and no</span>w<span style=\"background-color:#d4e6f1;\"> the former s</span><span style=\"background-color:#d6dbdf;\">truck from</span><span style=\"background-color:#d4e6f1;\"> the way. I</span><span style=\"background-color:#fdebd0;\">t was the habit </span><span style=\"background-color:#d4e6f1;\">of a party </span><span style=\"background-color:#d8daef;\">at the Pri</span><span style=\"background-color:#d8daef;\">nciples of </span>the end. "
            ],
            "text/plain": [
              "<IPython.core.display.HTML object>"
            ]
          },
          "metadata": {}
        },
        {
          "output_type": "display_data",
          "data": {
            "text/html": [
              "<small><p style=\"text-align:right;\">Sources: <span style=\"background-color:#d4e6f1;\">Jane Austen: The Complete Project Gutenberg Works of Jane Austen</span>, <span style=\"background-color:#e2d7d5;\">Jane Austen: Sense and Sensibility</span>, <span style=\"background-color:#fdebd0;\">Virginia Woolf: Night and Day</span>, <span style=\"background-color:#eadbd8;\">Catherine Anne Austen Hubback and Jane Austen: The Younger Sister, Volumes 1-3</span>, <span style=\"background-color:#d6dbdf;\">Charlotte Brontë: Villette</span>, <span style=\"background-color:#ecf3cf;\">Virginia Woolf: The Voyage Out</span>, <span style=\"background-color:#d0ece7;\">Jane Austen: Pride and Prejudice</span>, <span style=\"background-color:#fae5d3;\">Jane Austen: Pride and Prejudice</span>, <span style=\"background-color:#d8daef;\">Virginia Woolf: The Common Reader</span>, <span style=\"background-color:#edebd0;\">Jane Austen: Emma</span>, <span style=\"background-color:#eadbd8;\">Anne Brontë: Agnes Grey</span>, <span style=\"background-color:#e5e8e8;\">Jane Austen: Love And Friendship And Other Early Works</span></p></small>"
            ],
            "text/plain": [
              "<IPython.core.display.HTML object>"
            ]
          },
          "metadata": {}
        },
        {
          "output_type": "stream",
          "name": "stdout",
          "text": [
            "Temperature 0.7:\n"
          ]
        },
        {
          "output_type": "display_data",
          "data": {
            "text/html": [
              "<span style=\"background-color:#eadbd8;\">I should not be </span><span style=\"background-color:#eadbd8;\">very sorry to </span><span style=\"background-color:#e2d7d5;\">see you in th</span><span style=\"background-color:#d8daef;\">e most inter</span>m<span style=\"background-color:#d6dbdf;\">lection of this</span><span style=\"background-color:#eadbd8;\"> evening at the </span><span style=\"background-color:#d4e6f1;\">character. I have </span>allow<span style=\"background-color:#d4e6f1;\"> thus they </span><span style=\"background-color:#d4e6f1;\">were all ex</span>c<span style=\"background-color:#fdebd0;\">used by co</span><span style=\"background-color:#d8daef;\">nscious of </span>know d<span style=\"background-color:#d4e6f1;\">own away, and </span><span style=\"background-color:#eadbd8;\">he had not thought </span><span style=\"background-color:#ebdef0;\">out the house. </span><span style=\"background-color:#eadbd8;\">The country </span><span style=\"background-color:#e2d7d5;\">was short, </span><span style=\"background-color:#fae5d3;\">to hope that they </span><span style=\"background-color:#d4e6f1;\">had already se</span><span style=\"background-color:#d8daef;\">ems to be </span><span style=\"background-color:#eadbd8;\">extraordinary, </span><span style=\"background-color:#d6dbdf;\">could not be sl</span><span style=\"background-color:#e2d7d5;\">ow whether she </span><span style=\"background-color:#eadbd8;\">should be lo</span><span style=\"background-color:#d4e6f1;\">oking on the </span><span style=\"background-color:#d4e6f1;\">first of h</span><span style=\"background-color:#edebd0;\">is father. Mr</span><span style=\"background-color:#eadbd8;\">s. Watson and </span><span style=\"background-color:#eadbd8;\">her object </span><span style=\"background-color:#d4e6f1;\">for she had not </span>held<span style=\"background-color:#d4e6f1;\"> his importance </span>we<span style=\"background-color:#d4e6f1;\">re me, and </span><span style=\"background-color:#eadbd8;\">his reading t</span>o <span style=\"background-color:#d8daef;\">be an after</span><span style=\"background-color:#eadbd8;\">ward, the </span>to<span style=\"background-color:#d4e6f1;\">uch was at</span> detin<span style=\"background-color:#d4e6f1;\">ing in every </span><span style=\"background-color:#eadbd8;\">occasion f</span><span style=\"background-color:#e2d7d5;\">arther about </span><span style=\"background-color:#e2d7d5;\">to the continu</span><span style=\"background-color:#d6dbdf;\">ing expressi</span><span style=\"background-color:#f6ddcc;\">ng that the co</span>nclur<span style=\"background-color:#d4e6f1;\">ed was an </span>eve<span style=\"background-color:#d4e6f1;\">nt of return</span><span style=\"background-color:#fdebd0;\"> by the wind, and </span>Elinor b<span style=\"background-color:#d6dbdf;\">e sat down th</span>e<span style=\"background-color:#d4e6f1;\"> hour, but </span><span style=\"background-color:#eadbd8;\">asking her </span><span style=\"background-color:#f6ddcc;\">forming with </span><span style=\"background-color:#eadbd8;\">such a look of </span>life was u"
            ],
            "text/plain": [
              "<IPython.core.display.HTML object>"
            ]
          },
          "metadata": {}
        },
        {
          "output_type": "display_data",
          "data": {
            "text/html": [
              "<small><p style=\"text-align:right;\">Sources: <span style=\"background-color:#eadbd8;\">Catherine Anne Austen Hubback and Jane Austen: The Younger Sister, Volumes 1-3</span>, <span style=\"background-color:#e2d7d5;\">Jane Austen: Sense and Sensibility</span>, <span style=\"background-color:#d8daef;\">Virginia Woolf: The Common Reader</span>, <span style=\"background-color:#d6dbdf;\">Charlotte Brontë: Villette</span>, <span style=\"background-color:#d4e6f1;\">Jane Austen: The Complete Project Gutenberg Works of Jane Austen</span>, <span style=\"background-color:#fdebd0;\">Virginia Woolf: Night and Day</span>, <span style=\"background-color:#ebdef0;\">Emily Brontë: Wuthering Heights</span>, <span style=\"background-color:#e2d7d5;\">Catherine Anne Austen Hubback and Jane Austen: The Younger Sister, Vol. 3</span>, <span style=\"background-color:#fae5d3;\">Jane Austen: Pride and Prejudice</span>, <span style=\"background-color:#edebd0;\">Jane Austen: Emma</span>, <span style=\"background-color:#f6ddcc;\">Virginia Woolf: Jacob's Room</span></p></small>"
            ],
            "text/plain": [
              "<IPython.core.display.HTML object>"
            ]
          },
          "metadata": {}
        },
        {
          "output_type": "stream",
          "name": "stdout",
          "text": [
            "Temperature 0.8:\n"
          ]
        },
        {
          "output_type": "display_data",
          "data": {
            "text/html": [
              "<span style=\"background-color:#d6dbdf;\">There was pl</span>ace o<span style=\"background-color:#eadbd8;\">r former ac</span><span style=\"background-color:#d4e6f1;\">tions, and eve</span><span style=\"background-color:#d4e6f1;\">ry conduct</span><span style=\"background-color:#eadbd8;\">ion that his </span><span style=\"background-color:#d8daef;\">own manner</span><span style=\"background-color:#d8daef;\"> of her talk</span><span style=\"background-color:#eadbd8;\">, and something l</span><span style=\"background-color:#fdebd0;\">eading any</span><span style=\"background-color:#ecf3cf;\">thing which made </span>Mar<span style=\"background-color:#fdebd0;\">y represented th</span>at<span style=\"background-color:#d6dbdf;\"> good her </span><span style=\"background-color:#d4e6f1;\">slight appea</span>sed b<span style=\"background-color:#eadbd8;\">y meeting h</span><span style=\"background-color:#d4e6f1;\">er and app</span><span style=\"background-color:#d0ece7;\">lication, and </span><span style=\"background-color:#d0ece7;\">the silent con</span>vi<span style=\"background-color:#ebdef0;\">ct of his co</span><span style=\"background-color:#d4e6f1;\">mpanions, th</span><span style=\"background-color:#d4e6f1;\">e demands </span><span style=\"background-color:#eadbd8;\">for Lord Osborne c</span><span style=\"background-color:#d8daef;\">hanged to </span><span style=\"background-color:#d0ece7;\">be sure it </span><span style=\"background-color:#d4e6f1;\">had been so e</span>n<span style=\"background-color:#e5e8e8;\">dy ready to </span>move. \"Baoge<span style=\"background-color:#eadbd8;\">n, you are </span><span style=\"background-color:#d6dbdf;\">now, it was </span>quite sho<span style=\"background-color:#d6dbdf;\">p a little m</span><span style=\"background-color:#d4e6f1;\">ore,\" said </span><span style=\"background-color:#d0ece7;\">he, \"though it </span><span style=\"background-color:#d6dbdf;\">will be done,</span><span style=\"background-color:#ebdef0;\">” said Heathcliff, “</span>that Feder<span style=\"background-color:#d4e6f1;\">ness were all </span>g<span style=\"background-color:#d4e6f1;\">ood affected</span><span style=\"background-color:#d0ece7;\">. I hope I </span><span style=\"background-color:#d4e6f1;\">doubt that it </span>is<span style=\"background-color:#d4e6f1;\"> not inconve</span><span style=\"background-color:#eadbd8;\">ling as to</span><span style=\"background-color:#eadbd8;\"> complacent </span><span style=\"background-color:#d4e6f1;\">the door in th</span>a<span style=\"background-color:#d6dbdf;\">t return, </span><span style=\"background-color:#ebdef0;\">they may dr</span><span style=\"background-color:#eadbd8;\">ow without </span><span style=\"background-color:#eadbd8;\">her with a w</span><span style=\"background-color:#d4e6f1;\">oman that </span>wil<span style=\"background-color:#fdebd0;\">l intelligent </span><span style=\"background-color:#fdebd0;\">the sights </span><span style=\"background-color:#d4e6f1;\">of the first ser</span>v<span style=\"background-color:#fdebd0;\">ice, at the</span><span style=\"background-color:#eadbd8;\"> other end of </span><span style=\"background-color:#d4e6f1;\">which he might </span>be s"
            ],
            "text/plain": [
              "<IPython.core.display.HTML object>"
            ]
          },
          "metadata": {}
        },
        {
          "output_type": "display_data",
          "data": {
            "text/html": [
              "<small><p style=\"text-align:right;\">Sources: <span style=\"background-color:#d6dbdf;\">Charlotte Brontë: Villette</span>, <span style=\"background-color:#eadbd8;\">Catherine Anne Austen Hubback and Jane Austen: The Younger Sister, Volumes 1-3</span>, <span style=\"background-color:#d4e6f1;\">Jane Austen: The Complete Project Gutenberg Works of Jane Austen</span>, <span style=\"background-color:#d8daef;\">Virginia Woolf: The Common Reader</span>, <span style=\"background-color:#fdebd0;\">Virginia Woolf: Night and Day</span>, <span style=\"background-color:#ecf3cf;\">Virginia Woolf: The Voyage Out</span>, <span style=\"background-color:#eadbd8;\">Anne Brontë: Agnes Grey</span>, <span style=\"background-color:#d0ece7;\">Jane Austen: Pride and Prejudice</span>, <span style=\"background-color:#ebdef0;\">Emily Brontë: Wuthering Heights</span>, <span style=\"background-color:#e5e8e8;\">Jane Austen: Love And Friendship And Other Early Works</span></p></small>"
            ],
            "text/plain": [
              "<IPython.core.display.HTML object>"
            ]
          },
          "metadata": {}
        },
        {
          "output_type": "stream",
          "name": "stdout",
          "text": [
            "Epoch 13 Loss: 1.200 Precision: 0.633 Time/Sample: 0.000761 sec/sample\n",
            "Saved best precision model, prec=0.633\n",
            "Epoch 13 Loss: 1.198 Precision: 0.634 Time/Sample: 0.000760 sec/sample\n",
            "Saved best precision model, prec=0.634\n",
            "Epoch 13 Loss: 1.197 Precision: 0.635 Time/Sample: 0.000761 sec/sample\n",
            "Saved best precision model, prec=0.635\n",
            "Epoch 14 Loss: 1.193 Precision: 0.636 Time/Sample: 0.000758 sec/sample\n",
            "Saved best precision model, prec=0.636\n",
            "Temperature 0.6:\n"
          ]
        },
        {
          "output_type": "display_data",
          "data": {
            "text/html": [
              "H<span style=\"background-color:#eadbd8;\">ave been of </span><span style=\"background-color:#fdebd0;\">any one feel</span><span style=\"background-color:#eadbd8;\">ing and clev</span><span style=\"background-color:#fae5d3;\">it to have t</span><span style=\"background-color:#fae5d3;\">o be a most co</span><span style=\"background-color:#d4e6f1;\">mfortable situation, and </span><span style=\"background-color:#d8daef;\">an open co</span>m<span style=\"background-color:#fdebd0;\">passion ha</span><span style=\"background-color:#ebdef0;\">ve been so fa</span>llet<span style=\"background-color:#d4e6f1;\">s to me that the</span>y <span style=\"background-color:#ecf3cf;\">ever asked her</span><span style=\"background-color:#eadbd8;\"> to be ext</span><span style=\"background-color:#eadbd8;\">ented; and </span><span style=\"background-color:#fdebd0;\">three years and s</span><span style=\"background-color:#e2d7d5;\">trength with </span><span style=\"background-color:#d8daef;\">a sense of d</span>eceit of spa<span style=\"background-color:#d4e6f1;\">re, the mo</span><span style=\"background-color:#d4e6f1;\">st wish to go</span><span style=\"background-color:#d4e6f1;\"> out this </span><span style=\"background-color:#d6dbdf;\">contrast the</span><span style=\"background-color:#d4e6f1;\">y were all d</span>ark<span style=\"background-color:#d4e6f1;\"> by his side; and </span><span style=\"background-color:#e2d7d5;\">he married to </span><span style=\"background-color:#d4e6f1;\">the same time to </span><span style=\"background-color:#d4e6f1;\">attach her </span>again<span style=\"background-color:#edebd0;\">. “There was a </span><span style=\"background-color:#d4e6f1;\">very heart of </span><span style=\"background-color:#eadbd8;\">your friend a</span><span style=\"background-color:#d4e6f1;\">gainst the pr</span><span style=\"background-color:#eadbd8;\">ivileges, </span><span style=\"background-color:#d4e6f1;\">and the only p</span><span style=\"background-color:#fae5d3;\">ossible ad</span><span style=\"background-color:#eadbd8;\">dress than ever </span><span style=\"background-color:#e2d7d5;\">was as con</span>di<span style=\"background-color:#eadbd8;\">nced. The </span><span style=\"background-color:#eadbd8;\">words were s</span><span style=\"background-color:#eadbd8;\">ettled before her</span><span style=\"background-color:#d0ece7;\"> own family, and </span><span style=\"background-color:#d0ece7;\">did not always </span><span style=\"background-color:#d4e6f1;\">felt the en</span><span style=\"background-color:#e2d7d5;\">trance of the p</span><span style=\"background-color:#d0ece7;\">rospect. The</span><span style=\"background-color:#e2d7d5;\">ir actions </span><span style=\"background-color:#fdebd0;\">could not help su</span><span style=\"background-color:#d8daef;\">ch a distan</span>t<span style=\"background-color:#d8daef;\"> book and </span><span style=\"background-color:#eadbd8;\">beautiful about </span><span style=\"background-color:#eadbd8;\">the arrival</span><span style=\"background-color:#d4e6f1;\">; and she made her </span><span style=\"background-color:#eadbd8;\">to be the same </span>conce"
            ],
            "text/plain": [
              "<IPython.core.display.HTML object>"
            ]
          },
          "metadata": {}
        },
        {
          "output_type": "display_data",
          "data": {
            "text/html": [
              "<small><p style=\"text-align:right;\">Sources: <span style=\"background-color:#eadbd8;\">Catherine Anne Austen Hubback and Jane Austen: The Younger Sister, Volumes 1-3</span>, <span style=\"background-color:#fdebd0;\">Virginia Woolf: Night and Day</span>, <span style=\"background-color:#fae5d3;\">Jane Austen: Pride and Prejudice</span>, <span style=\"background-color:#d4e6f1;\">Jane Austen: The Complete Project Gutenberg Works of Jane Austen</span>, <span style=\"background-color:#d8daef;\">Virginia Woolf: The Common Reader</span>, <span style=\"background-color:#ebdef0;\">Emily Brontë: Wuthering Heights</span>, <span style=\"background-color:#ecf3cf;\">Virginia Woolf: The Voyage Out</span>, <span style=\"background-color:#e2d7d5;\">Catherine Anne Austen Hubback and Jane Austen: The Younger Sister, Vol. 3</span>, <span style=\"background-color:#d6dbdf;\">Charlotte Brontë: Villette</span>, <span style=\"background-color:#e2d7d5;\">Jane Austen: Sense and Sensibility</span>, <span style=\"background-color:#edebd0;\">Jane Austen: Emma</span>, <span style=\"background-color:#eadbd8;\">Anne Brontë: Agnes Grey</span>, <span style=\"background-color:#d0ece7;\">Jane Austen: Pride and Prejudice</span></p></small>"
            ],
            "text/plain": [
              "<IPython.core.display.HTML object>"
            ]
          },
          "metadata": {}
        },
        {
          "output_type": "stream",
          "name": "stdout",
          "text": [
            "Temperature 0.7:\n"
          ]
        },
        {
          "output_type": "display_data",
          "data": {
            "text/html": [
              "<span style=\"background-color:#d4e6f1;\">Elton was a </span><span style=\"background-color:#d8daef;\">great deal, a</span><span style=\"background-color:#d4e6f1;\">t her conv</span><span style=\"background-color:#eadbd8;\">ersation to </span><span style=\"background-color:#fdebd0;\">another. “</span><span style=\"background-color:#eadbd8;\">It is very g</span>r<span style=\"background-color:#d4e6f1;\">eat to any </span>thing?<span style=\"background-color:#d4e6f1;\"> Miss Jane</span><span style=\"background-color:#d0ece7;\">'s wishes, </span>or met<span style=\"background-color:#eadbd8;\">itated, and the </span><span style=\"background-color:#fdebd0;\">means of a b</span>lood<span style=\"background-color:#d4e6f1;\"> quiet. The</span><span style=\"background-color:#ebdef0;\"> house is not </span><span style=\"background-color:#ebdef0;\">by another a</span>pproach<span style=\"background-color:#d4e6f1;\">. A few minutes </span><span style=\"background-color:#eadbd8;\">she found a </span>real pen<span style=\"background-color:#d0ece7;\">st manner </span><span style=\"background-color:#eadbd8;\">and forth, </span><span style=\"background-color:#e2d7d5;\">she could not be p</span>u<span style=\"background-color:#d0ece7;\">t his very </span><span style=\"background-color:#d4e6f1;\">promise to h</span><span style=\"background-color:#eadbd8;\">er, she had the </span>good as<span style=\"background-color:#d4e6f1;\"> first from </span><span style=\"background-color:#d4e6f1;\">him. There w</span><span style=\"background-color:#d6dbdf;\">as a still </span><span style=\"background-color:#d6dbdf;\">to living </span><span style=\"background-color:#eadbd8;\">at the door, and </span>all ass<span style=\"background-color:#e2d7d5;\">onished him</span><span style=\"background-color:#d8daef;\"> out of the sa</span><span style=\"background-color:#ecf3cf;\">me indignation w</span><span style=\"background-color:#eadbd8;\">hich they were </span>bu<span style=\"background-color:#ebdef0;\">t forward, and </span><span style=\"background-color:#d6dbdf;\">said in my </span><span style=\"background-color:#d4e6f1;\">pretty girl, w</span><span style=\"background-color:#d4e6f1;\">as over at a</span><span style=\"background-color:#ecf3cf;\">ll. The sound </span><span style=\"background-color:#d4e6f1;\">she had gone to her</span><span style=\"background-color:#e2d7d5;\">self as the </span>door<span style=\"background-color:#d4e6f1;\"> of fortune and </span><span style=\"background-color:#d8daef;\">solitude in </span><span style=\"background-color:#d6dbdf;\">the elder and </span><span style=\"background-color:#ecf3cf;\">kind, and the </span><span style=\"background-color:#d4e6f1;\">address of a </span>mom<span style=\"background-color:#e2d7d5;\">ent through her</span><span style=\"background-color:#d4e6f1;\"> mother, which </span><span style=\"background-color:#d4e6f1;\">not been de</span>sr<span style=\"background-color:#fdebd0;\">ited to su</span>pp<span style=\"background-color:#fdebd0;\">ose, half </span><span style=\"background-color:#d8daef;\">an hour and </span><span style=\"background-color:#d0ece7;\">the accompl</span>"
            ],
            "text/plain": [
              "<IPython.core.display.HTML object>"
            ]
          },
          "metadata": {}
        },
        {
          "output_type": "display_data",
          "data": {
            "text/html": [
              "<small><p style=\"text-align:right;\">Sources: <span style=\"background-color:#d4e6f1;\">Jane Austen: The Complete Project Gutenberg Works of Jane Austen</span>, <span style=\"background-color:#d8daef;\">Virginia Woolf: The Common Reader</span>, <span style=\"background-color:#eadbd8;\">Catherine Anne Austen Hubback and Jane Austen: The Younger Sister, Volumes 1-3</span>, <span style=\"background-color:#fdebd0;\">Virginia Woolf: Night and Day</span>, <span style=\"background-color:#d0ece7;\">Jane Austen: Pride and Prejudice</span>, <span style=\"background-color:#ebdef0;\">Emily Brontë: Wuthering Heights</span>, <span style=\"background-color:#e2d7d5;\">Jane Austen: Sense and Sensibility</span>, <span style=\"background-color:#d6dbdf;\">Charlotte Brontë: Villette</span>, <span style=\"background-color:#ecf3cf;\">Virginia Woolf: The Voyage Out</span>, <span style=\"background-color:#e2d7d5;\">Catherine Anne Austen Hubback and Jane Austen: The Younger Sister, Vol. 3</span></p></small>"
            ],
            "text/plain": [
              "<IPython.core.display.HTML object>"
            ]
          },
          "metadata": {}
        },
        {
          "output_type": "stream",
          "name": "stdout",
          "text": [
            "Temperature 0.8:\n"
          ]
        },
        {
          "output_type": "display_data",
          "data": {
            "text/html": [
              "<span style=\"background-color:#fdebd0;\">The lines </span><span style=\"background-color:#d4e6f1;\">would be more t</span><span style=\"background-color:#eadbd8;\">o her father's r</span>eports<span style=\"background-color:#d8daef;\"> that John </span><span style=\"background-color:#d4e6f1;\">Henry had </span>a<span style=\"background-color:#d8daef;\">s head as </span><span style=\"background-color:#e2d7d5;\">soon as he could s</span><span style=\"background-color:#d4e6f1;\">tep as soon</span>, and<span style=\"background-color:#d0ece7;\"> prized by </span>a sourterement.<span style=\"background-color:#fdebd0;\"> CHAPTER XVII. </span><span style=\"background-color:#d0ece7;\">Elizabeth had al</span>way<span style=\"background-color:#eadbd8;\">s accustomed to t</span><span style=\"background-color:#d4e6f1;\">he most spe</span>ech <span style=\"background-color:#d4e6f1;\">in it, before </span>his senq<span style=\"background-color:#eadbd8;\">oing their </span><span style=\"background-color:#eadbd8;\">manners or </span>twre<span style=\"background-color:#eadbd8;\">shes, and </span><span style=\"background-color:#f6ddcc;\">drawn the c</span>on<span style=\"background-color:#d0ece7;\">temptation as </span><span style=\"background-color:#ebdef0;\">she returned to her </span><span style=\"background-color:#d6dbdf;\">fine profi</span>si<span style=\"background-color:#eadbd8;\">ent and si</span><span style=\"background-color:#d0ece7;\">ster, had </span><span style=\"background-color:#eadbd8;\">the terrible </span>mo<span style=\"background-color:#d4e6f1;\">ment enough to </span>t<span style=\"background-color:#d6dbdf;\">ake as her </span><span style=\"background-color:#d0ece7;\">friend as t</span><span style=\"background-color:#d4e6f1;\">he quarter of a</span><span style=\"background-color:#eadbd8;\"> servant. The</span><span style=\"background-color:#eadbd8;\"> more was </span><span style=\"background-color:#eadbd8;\">allowed to wa</span><span style=\"background-color:#eadbd8;\">nt to the po</span><span style=\"background-color:#d0ece7;\">int of comp</span><span style=\"background-color:#eadbd8;\">anion, but </span>playap<span style=\"background-color:#d4e6f1;\"> and caution</span><span style=\"background-color:#d6dbdf;\">s, and sat</span><span style=\"background-color:#eadbd8;\">isfied to </span><span style=\"background-color:#eadbd8;\">approach her</span><span style=\"background-color:#d4e6f1;\"> decree of </span><span style=\"background-color:#d6dbdf;\">face with i</span>nter<span style=\"background-color:#eadbd8;\">est speech</span><span style=\"background-color:#d0ece7;\">ing and bo</span>dy<span style=\"background-color:#d6dbdf;\"> or life a</span><span style=\"background-color:#d4e6f1;\">t them. She </span><span style=\"background-color:#d8daef;\">are not bo</span><span style=\"background-color:#d0ece7;\">rn in the same </span>breath!<span style=\"background-color:#ecf3cf;\"> Helen was a</span><span style=\"background-color:#d8daef;\"> great deal, and </span><span style=\"background-color:#eadbd8;\">in her coun</span><span style=\"background-color:#d4e6f1;\">sent was a</span><span style=\"background-color:#d4e6f1;\">t the advantage of</span>"
            ],
            "text/plain": [
              "<IPython.core.display.HTML object>"
            ]
          },
          "metadata": {}
        },
        {
          "output_type": "display_data",
          "data": {
            "text/html": [
              "<small><p style=\"text-align:right;\">Sources: <span style=\"background-color:#fdebd0;\">Virginia Woolf: Night and Day</span>, <span style=\"background-color:#d4e6f1;\">Jane Austen: The Complete Project Gutenberg Works of Jane Austen</span>, <span style=\"background-color:#eadbd8;\">Catherine Anne Austen Hubback and Jane Austen: The Younger Sister, Volumes 1-3</span>, <span style=\"background-color:#d8daef;\">Virginia Woolf: The Common Reader</span>, <span style=\"background-color:#e2d7d5;\">Jane Austen: Sense and Sensibility</span>, <span style=\"background-color:#d0ece7;\">Jane Austen: Pride and Prejudice</span>, <span style=\"background-color:#eadbd8;\">Anne Brontë: Agnes Grey</span>, <span style=\"background-color:#f6ddcc;\">Virginia Woolf: Jacob's Room</span>, <span style=\"background-color:#ebdef0;\">Emily Brontë: Wuthering Heights</span>, <span style=\"background-color:#d6dbdf;\">Charlotte Brontë: Villette</span>, <span style=\"background-color:#ecf3cf;\">Virginia Woolf: The Voyage Out</span></p></small>"
            ],
            "text/plain": [
              "<IPython.core.display.HTML object>"
            ]
          },
          "metadata": {}
        },
        {
          "output_type": "stream",
          "name": "stdout",
          "text": [
            "Epoch 14 Loss: 1.191 Precision: 0.636 Time/Sample: 0.000761 sec/sample\n",
            "Saved best precision model, prec=0.636\n",
            "Epoch 14 Loss: 1.189 Precision: 0.636 Time/Sample: 0.000761 sec/sample\n",
            "Saved best precision model, prec=0.636\n",
            "Epoch 14 Loss: 1.187 Precision: 0.637 Time/Sample: 0.000761 sec/sample\n",
            "Saved best precision model, prec=0.637\n",
            "Temperature 0.6:\n"
          ]
        },
        {
          "output_type": "display_data",
          "data": {
            "text/html": [
              "<span style=\"background-color:#ebdef0;\">The same co</span><span style=\"background-color:#d4e6f1;\">mpanion wh</span><span style=\"background-color:#fdebd0;\">ich was a g</span><span style=\"background-color:#d0ece7;\">reat deal of his </span><span style=\"background-color:#d8daef;\">mind which </span>a large energy<span style=\"background-color:#eadbd8;\"> legs with</span>o<span style=\"background-color:#d4e6f1;\">ut friendship </span><span style=\"background-color:#d4e6f1;\">whom he was al</span>mo<span style=\"background-color:#d8daef;\">st as she </span><span style=\"background-color:#d8daef;\">sat with a </span>stiff s<span style=\"background-color:#e2d7d5;\">uch understand</span><span style=\"background-color:#d4e6f1;\">ing was not m</span><span style=\"background-color:#d4e6f1;\">entioned by her</span><span style=\"background-color:#d4e6f1;\"> hand and the </span><span style=\"background-color:#ebdef0;\">sufficient cons</span><span style=\"background-color:#d4e6f1;\">ideration of the </span>h<span style=\"background-color:#d6dbdf;\">ill, when the</span><span style=\"background-color:#d6dbdf;\">y had been disp</span>u<span style=\"background-color:#d4e6f1;\">ted in being </span><span style=\"background-color:#d4e6f1;\">like the day</span><span style=\"background-color:#fdebd0;\">, and was standing </span><span style=\"background-color:#d4e6f1;\">for her before</span> mental<span style=\"background-color:#d4e6f1;\"> than once t</span><span style=\"background-color:#fdebd0;\">han her mother </span><span style=\"background-color:#d8daef;\">surprised, th</span><span style=\"background-color:#f6ddcc;\">at they were d</span>istinc<span style=\"background-color:#d4e6f1;\">t at all. The</span><span style=\"background-color:#d8daef;\"> change of </span>Louisa's<span style=\"background-color:#eadbd8;\"> girls were </span><span style=\"background-color:#ecf3cf;\">because she had l</span>ef<span style=\"background-color:#d4e6f1;\">t the rain was </span><span style=\"background-color:#d8daef;\">refused to t</span><span style=\"background-color:#fdebd0;\">he subject of her </span><span style=\"background-color:#eadbd8;\">being the s</span><span style=\"background-color:#d0ece7;\">ubject of the co</span><span style=\"background-color:#d4e6f1;\">nversation was a</span><span style=\"background-color:#eadbd8;\">ccompanied t</span>o<span style=\"background-color:#eadbd8;\"> her offer t</span><span style=\"background-color:#f6ddcc;\">hat was part</span><span style=\"background-color:#d0ece7;\">icularly fl</span><span style=\"background-color:#eadbd8;\">ighted in the </span><span style=\"background-color:#d8daef;\">world of her </span><span style=\"background-color:#eadbd8;\">resolution to </span><span style=\"background-color:#eadbd8;\">his sister and her </span><span style=\"background-color:#d6dbdf;\">own house, and s</span><span style=\"background-color:#ebdef0;\">he had seen her </span><span style=\"background-color:#d0ece7;\">eyes of a </span>dozen hours o"
            ],
            "text/plain": [
              "<IPython.core.display.HTML object>"
            ]
          },
          "metadata": {}
        },
        {
          "output_type": "display_data",
          "data": {
            "text/html": [
              "<small><p style=\"text-align:right;\">Sources: <span style=\"background-color:#ebdef0;\">Emily Brontë: Wuthering Heights</span>, <span style=\"background-color:#d4e6f1;\">Jane Austen: The Complete Project Gutenberg Works of Jane Austen</span>, <span style=\"background-color:#fdebd0;\">Virginia Woolf: Night and Day</span>, <span style=\"background-color:#d0ece7;\">Jane Austen: Pride and Prejudice</span>, <span style=\"background-color:#d8daef;\">Virginia Woolf: The Common Reader</span>, <span style=\"background-color:#eadbd8;\">Catherine Anne Austen Hubback and Jane Austen: The Younger Sister, Volumes 1-3</span>, <span style=\"background-color:#e2d7d5;\">Jane Austen: Sense and Sensibility</span>, <span style=\"background-color:#d6dbdf;\">Charlotte Brontë: Villette</span>, <span style=\"background-color:#f6ddcc;\">Virginia Woolf: Jacob's Room</span>, <span style=\"background-color:#ecf3cf;\">Virginia Woolf: The Voyage Out</span>, <span style=\"background-color:#ebdef0;\">Virginia Woolf: Mr. Bennett and Mrs. Brown</span></p></small>"
            ],
            "text/plain": [
              "<IPython.core.display.HTML object>"
            ]
          },
          "metadata": {}
        },
        {
          "output_type": "stream",
          "name": "stdout",
          "text": [
            "Temperature 0.7:\n"
          ]
        },
        {
          "output_type": "display_data",
          "data": {
            "text/html": [
              "<span style=\"background-color:#ebdef0;\">Mr. Heathcliff, a</span><span style=\"background-color:#d0ece7;\">s a rational </span><span style=\"background-color:#eadbd8;\">answer for </span><span style=\"background-color:#d4e6f1;\">which was e</span><span style=\"background-color:#eadbd8;\">ngaged to him</span><span style=\"background-color:#eadbd8;\"> as she cont</span>inu<span style=\"background-color:#d4e6f1;\">ed supporte</span>d th<span style=\"background-color:#d6dbdf;\">e not one of the </span><span style=\"background-color:#d8daef;\">first to be </span>Wult<span style=\"background-color:#d0ece7;\">er. He seemed </span><span style=\"background-color:#d4e6f1;\">actually beg</span><span style=\"background-color:#d4e6f1;\">inning by </span><span style=\"background-color:#d4e6f1;\">the business to her</span> own<span style=\"background-color:#eadbd8;\"> cares of </span>great<span style=\"background-color:#d6dbdf;\"> face. The </span><span style=\"background-color:#d4e6f1;\">most advantage </span><span style=\"background-color:#d0ece7;\">of such mo</span><span style=\"background-color:#d0ece7;\">st comfort</span><span style=\"background-color:#fdebd0;\">s she did not s</span>cok<span style=\"background-color:#d4e6f1;\">e an influen</span><span style=\"background-color:#e2d7d5;\">ce of him w</span><span style=\"background-color:#eadbd8;\">ith his earnest s</span><span style=\"background-color:#e2d7d5;\">pirits, and the t</span><span style=\"background-color:#d8daef;\">alk of it </span><span style=\"background-color:#eadbd8;\">were some </span><span style=\"background-color:#d4e6f1;\">willing to believe </span><span style=\"background-color:#d8daef;\">me at least, th</span><span style=\"background-color:#ecf3cf;\">at he did not know </span><span style=\"background-color:#eadbd8;\">what was com</span><span style=\"background-color:#fdebd0;\">fortable to </span>Du<span style=\"background-color:#e2d7d5;\">int no more</span><span style=\"background-color:#eadbd8;\"> position. I</span> ma<span style=\"background-color:#d6dbdf;\">y content to </span><span style=\"background-color:#d4e6f1;\">me that the </span>whole is a coap<span style=\"background-color:#eadbd8;\">h I could not</span><span style=\"background-color:#d4e6f1;\">, began to ta</span><span style=\"background-color:#f6ddcc;\">ke him to </span>him<span style=\"background-color:#d4e6f1;\"> devoted, </span><span style=\"background-color:#d4e6f1;\">that I shall l</span><span style=\"background-color:#d4e6f1;\">ike them the </span><span style=\"background-color:#eadbd8;\">suppose. The </span><span style=\"background-color:#d0ece7;\">party were st</span>raigh<span style=\"background-color:#d4e6f1;\">t me. You </span><span style=\"background-color:#d4e6f1;\">will have a good </span><span style=\"background-color:#eadbd8;\">language of </span><span style=\"background-color:#eadbd8;\">nothing but the </span><span style=\"background-color:#eadbd8;\">greatest de</span><span style=\"background-color:#fae5d3;\">al of tranquil</span><span style=\"background-color:#d8daef;\"> mind, that </span><span style=\"background-color:#d4e6f1;\">Mr. Thorpe a</span>s"
            ],
            "text/plain": [
              "<IPython.core.display.HTML object>"
            ]
          },
          "metadata": {}
        },
        {
          "output_type": "display_data",
          "data": {
            "text/html": [
              "<small><p style=\"text-align:right;\">Sources: <span style=\"background-color:#ebdef0;\">Emily Brontë: Wuthering Heights</span>, <span style=\"background-color:#d0ece7;\">Jane Austen: Pride and Prejudice</span>, <span style=\"background-color:#eadbd8;\">Catherine Anne Austen Hubback and Jane Austen: The Younger Sister, Volumes 1-3</span>, <span style=\"background-color:#d4e6f1;\">Jane Austen: The Complete Project Gutenberg Works of Jane Austen</span>, <span style=\"background-color:#d6dbdf;\">Charlotte Brontë: Villette</span>, <span style=\"background-color:#d8daef;\">Virginia Woolf: The Common Reader</span>, <span style=\"background-color:#fdebd0;\">Virginia Woolf: Night and Day</span>, <span style=\"background-color:#e2d7d5;\">Jane Austen: Sense and Sensibility</span>, <span style=\"background-color:#ecf3cf;\">Virginia Woolf: The Voyage Out</span>, <span style=\"background-color:#f6ddcc;\">Virginia Woolf: Jacob's Room</span>, <span style=\"background-color:#eadbd8;\">Anne Brontë: Agnes Grey</span>, <span style=\"background-color:#fae5d3;\">Jane Austen: Pride and Prejudice</span></p></small>"
            ],
            "text/plain": [
              "<IPython.core.display.HTML object>"
            ]
          },
          "metadata": {}
        },
        {
          "output_type": "stream",
          "name": "stdout",
          "text": [
            "Temperature 0.8:\n"
          ]
        },
        {
          "output_type": "display_data",
          "data": {
            "text/html": [
              "I had no<span style=\"background-color:#eadbd8;\"> quite mistake</span><span style=\"background-color:#d4e6f1;\">. We did a </span><span style=\"background-color:#d8daef;\">considerable n</span><span style=\"background-color:#d4e6f1;\">or cheerful</span><span style=\"background-color:#d8daef;\"> enough. Mr</span><span style=\"background-color:#d4e6f1;\">. Crawford had n</span><span style=\"background-color:#e2d7d5;\">ever heard her</span><span style=\"background-color:#d4e6f1;\">self at home</span><span style=\"background-color:#eadbd8;\"> through the window </span><span style=\"background-color:#f6ddcc;\">in a book w</span><span style=\"background-color:#e2d7d5;\">ere spent th</span><span style=\"background-color:#ecf3cf;\">at anxiety of </span><span style=\"background-color:#fdebd0;\">which he had fe</span><span style=\"background-color:#d6dbdf;\">ared to fail</span> cont<span style=\"background-color:#ebdef0;\">acted by he</span><span style=\"background-color:#e2d7d5;\">r authority fo</span>ll<span style=\"background-color:#d8daef;\">owed a very </span>side—a<span style=\"background-color:#d8daef;\"> pale girl</span>h<span style=\"background-color:#d6dbdf;\"> breath of his </span><span style=\"background-color:#eadbd8;\">head, she </span><span style=\"background-color:#eadbd8;\">was concluded</span><span style=\"background-color:#eadbd8;\"> he was ready to </span>find <span style=\"background-color:#d4e6f1;\">me any day</span><span style=\"background-color:#d0ece7;\">s where he </span><span style=\"background-color:#eadbd8;\">could not be a</span><span style=\"background-color:#eadbd8;\">bsence of her </span><span style=\"background-color:#d0ece7;\">civility, which </span><span style=\"background-color:#eadbd8;\">in the arm</span> of supr<span style=\"background-color:#ebdef0;\">er winter h</span><span style=\"background-color:#eadbd8;\">ad been very we</span><span style=\"background-color:#eadbd8;\">ll at all </span><span style=\"background-color:#eadbd8;\">looked the </span><span style=\"background-color:#e5e8e8;\">last disappoint</span><span style=\"background-color:#fdebd0;\">ed. The wor</span><span style=\"background-color:#d6dbdf;\">ld to the s</span><span style=\"background-color:#d8daef;\">ound of her </span>h<span style=\"background-color:#d8daef;\">ead together</span><span style=\"background-color:#fdebd0;\">, as she looked up</span><span style=\"background-color:#eadbd8;\"> at the Re</span>me<span style=\"background-color:#d6dbdf;\">ther master</span> of step<span style=\"background-color:#d4e6f1;\">t, there was something </span>_that_<span style=\"background-color:#d4e6f1;\"> civilities a</span><span style=\"background-color:#d0ece7;\">re superior to the </span><span style=\"background-color:#d8daef;\">room and w</span><span style=\"background-color:#eadbd8;\">anted at h</span><span style=\"background-color:#d8daef;\">er to look </span><span style=\"background-color:#d0ece7;\">distressed b</span>r<span style=\"background-color:#d4e6f1;\">own warmth</span><span style=\"background-color:#eadbd8;\"> to marry him </span><span style=\"background-color:#d8daef;\">to break a</span>nd f"
            ],
            "text/plain": [
              "<IPython.core.display.HTML object>"
            ]
          },
          "metadata": {}
        },
        {
          "output_type": "display_data",
          "data": {
            "text/html": [
              "<small><p style=\"text-align:right;\">Sources: <span style=\"background-color:#eadbd8;\">Catherine Anne Austen Hubback and Jane Austen: The Younger Sister, Volumes 1-3</span>, <span style=\"background-color:#d4e6f1;\">Jane Austen: The Complete Project Gutenberg Works of Jane Austen</span>, <span style=\"background-color:#d8daef;\">Virginia Woolf: The Common Reader</span>, <span style=\"background-color:#e2d7d5;\">Jane Austen: Sense and Sensibility</span>, <span style=\"background-color:#f6ddcc;\">Virginia Woolf: Jacob's Room</span>, <span style=\"background-color:#ecf3cf;\">Virginia Woolf: The Voyage Out</span>, <span style=\"background-color:#fdebd0;\">Virginia Woolf: Night and Day</span>, <span style=\"background-color:#d6dbdf;\">Charlotte Brontë: Villette</span>, <span style=\"background-color:#ebdef0;\">Emily Brontë: Wuthering Heights</span>, <span style=\"background-color:#e2d7d5;\">Catherine Anne Austen Hubback and Jane Austen: The Younger Sister, Vol. 3</span>, <span style=\"background-color:#d0ece7;\">Jane Austen: Pride and Prejudice</span>, <span style=\"background-color:#e5e8e8;\">Jane Austen: Love And Friendship And Other Early Works</span></p></small>"
            ],
            "text/plain": [
              "<IPython.core.display.HTML object>"
            ]
          },
          "metadata": {}
        },
        {
          "output_type": "stream",
          "name": "stdout",
          "text": [
            "Epoch 14 Loss: 1.184 Precision: 0.638 Time/Sample: 0.000762 sec/sample\n",
            "Saved best precision model, prec=0.638\n",
            "Epoch 14 Loss: 1.182 Precision: 0.638 Time/Sample: 0.000760 sec/sample\n",
            "Saved best precision model, prec=0.638\n",
            "Epoch 15 Loss: 1.180 Precision: 0.639 Time/Sample: 0.000760 sec/sample\n",
            "Saved best precision model, prec=0.639\n",
            "Temperature 0.6:\n"
          ]
        },
        {
          "output_type": "display_data",
          "data": {
            "text/html": [
              "<span style=\"background-color:#e2d7d5;\">I could not hear </span><span style=\"background-color:#d0ece7;\">her sister to a</span><span style=\"background-color:#eadbd8;\">ll the world </span><span style=\"background-color:#d0ece7;\">of the letter </span><span style=\"background-color:#d4e6f1;\">of the way t</span><span style=\"background-color:#d0ece7;\">o the family </span><span style=\"background-color:#fdebd0;\">that not to </span><span style=\"background-color:#d8daef;\">the eyes s</span><span style=\"background-color:#d4e6f1;\">he had come from</span><span style=\"background-color:#d4e6f1;\"> her party and </span><span style=\"background-color:#d4e6f1;\">more agitati</span><span style=\"background-color:#d4e6f1;\">on of him; but </span><span style=\"background-color:#d6dbdf;\">when she was not </span><span style=\"background-color:#d4e6f1;\">to be so in</span>d<span style=\"background-color:#e2d7d5;\">eed to say that</span><span style=\"background-color:#d8daef;\"> the least con</span>f<span style=\"background-color:#d4e6f1;\">ined the wor</span>l<span style=\"background-color:#d4e6f1;\">d of consequence </span><span style=\"background-color:#d0ece7;\">of his companions </span><span style=\"background-color:#eadbd8;\">were at the </span><span style=\"background-color:#d4e6f1;\">house of her </span><span style=\"background-color:#d8daef;\">fingers, and </span><span style=\"background-color:#d0ece7;\">the two si</span>l<span style=\"background-color:#d4e6f1;\">ence were s</span><span style=\"background-color:#eadbd8;\">upposed, and </span><span style=\"background-color:#eadbd8;\">she remained </span>a lo<span style=\"background-color:#d8daef;\">ng little </span><span style=\"background-color:#e2d7d5;\">party, the </span><span style=\"background-color:#d6dbdf;\">garden at t</span><span style=\"background-color:#d8daef;\">he second </span><span style=\"background-color:#ecf3cf;\">of a few t</span>i<span style=\"background-color:#d4e6f1;\">me to his fa</span><span style=\"background-color:#d0ece7;\">ther’s attention</span><span style=\"background-color:#eadbd8;\"> was so long </span><span style=\"background-color:#d4e6f1;\">as they are no</span><span style=\"background-color:#eadbd8;\">t supposed to </span><span style=\"background-color:#d4e6f1;\">comprehend the s</span><span style=\"background-color:#d0ece7;\">ide of the f</span><span style=\"background-color:#d6dbdf;\">lowers of </span>a<span style=\"background-color:#d0ece7;\"> very glad of </span><span style=\"background-color:#d4e6f1;\">unexpected su</span><span style=\"background-color:#d4e6f1;\">rprize and </span>pr<span style=\"background-color:#d4e6f1;\">ose of every </span><span style=\"background-color:#eadbd8;\">place of s</span>pecial<span style=\"background-color:#d4e6f1;\"> end of them</span><span style=\"background-color:#ebdef0;\">, and her comm</span><span style=\"background-color:#d4e6f1;\">anding them on </span><span style=\"background-color:#f6ddcc;\">the sound of the c</span><span style=\"background-color:#d0ece7;\">onnections, o</span><span style=\"background-color:#d8daef;\">ne of the first to</span><span style=\"background-color:#d4e6f1;\">ne of her co</span>nversat"
            ],
            "text/plain": [
              "<IPython.core.display.HTML object>"
            ]
          },
          "metadata": {}
        },
        {
          "output_type": "display_data",
          "data": {
            "text/html": [
              "<small><p style=\"text-align:right;\">Sources: <span style=\"background-color:#e2d7d5;\">Jane Austen: Sense and Sensibility</span>, <span style=\"background-color:#d0ece7;\">Jane Austen: Pride and Prejudice</span>, <span style=\"background-color:#eadbd8;\">Catherine Anne Austen Hubback and Jane Austen: The Younger Sister, Volumes 1-3</span>, <span style=\"background-color:#d4e6f1;\">Jane Austen: The Complete Project Gutenberg Works of Jane Austen</span>, <span style=\"background-color:#fdebd0;\">Virginia Woolf: Night and Day</span>, <span style=\"background-color:#d8daef;\">Virginia Woolf: The Common Reader</span>, <span style=\"background-color:#d6dbdf;\">Charlotte Brontë: Villette</span>, <span style=\"background-color:#e2d7d5;\">Catherine Anne Austen Hubback and Jane Austen: The Younger Sister, Vol. 3</span>, <span style=\"background-color:#ecf3cf;\">Virginia Woolf: The Voyage Out</span>, <span style=\"background-color:#d0ece7;\">Jane Austen: Northanger Abbey</span>, <span style=\"background-color:#ebdef0;\">Emily Brontë: Wuthering Heights</span>, <span style=\"background-color:#f6ddcc;\">Virginia Woolf: Jacob's Room</span></p></small>"
            ],
            "text/plain": [
              "<IPython.core.display.HTML object>"
            ]
          },
          "metadata": {}
        },
        {
          "output_type": "stream",
          "name": "stdout",
          "text": [
            "Temperature 0.7:\n"
          ]
        },
        {
          "output_type": "display_data",
          "data": {
            "text/html": [
              "<span style=\"background-color:#d0ece7;\">Her eldest </span>sai<span style=\"background-color:#fdebd0;\">d his repl</span>y. “My fear I’<span style=\"background-color:#d0ece7;\">ve all this </span><span style=\"background-color:#d8daef;\">morning between the</span> barzy of goo<span style=\"background-color:#fdebd0;\">d?” she asked</span><span style=\"background-color:#eadbd8;\"> Emma, \"how c</span><span style=\"background-color:#eadbd8;\">laim the s</span>ou<span style=\"background-color:#eadbd8;\">nd of Miss Osborne </span><span style=\"background-color:#eadbd8;\">that were the </span>we<span style=\"background-color:#d0ece7;\">ll and the t</span><span style=\"background-color:#d4e6f1;\">able, and the </span><span style=\"background-color:#d0ece7;\">manners were al</span><span style=\"background-color:#eadbd8;\">l right to </span>stepp<span style=\"background-color:#edebd0;\">ed and endea</span><span style=\"background-color:#d0ece7;\">vour to be s</span><span style=\"background-color:#d4e6f1;\">o very little </span><span style=\"background-color:#eadbd8;\">of the aff</span><span style=\"background-color:#d4e6f1;\">ections of the </span>po<span style=\"background-color:#d6dbdf;\">rtain with </span><span style=\"background-color:#d0ece7;\">herself. “What </span><span style=\"background-color:#d4e6f1;\">a woman could </span><span style=\"background-color:#d8daef;\">have done with</span><span style=\"background-color:#d4e6f1;\">out me, I </span><span style=\"background-color:#d4e6f1;\">must take care of </span><span style=\"background-color:#eadbd8;\">the fair, </span><span style=\"background-color:#d4e6f1;\">did not make the </span><span style=\"background-color:#d4e6f1;\">same object</span>. M<span style=\"background-color:#d4e6f1;\">y obliging </span><span style=\"background-color:#d4e6f1;\">have done with h</span>i<span style=\"background-color:#d4e6f1;\">m. I am a great d</span><span style=\"background-color:#e2d7d5;\">eal of the la</span><span style=\"background-color:#d6dbdf;\">ne and a c</span>hair, why s<span style=\"background-color:#eadbd8;\">hat I stoo</span><span style=\"background-color:#eadbd8;\">d with a pr</span><span style=\"background-color:#d4e6f1;\">eserving p</span><span style=\"background-color:#d8daef;\">leasure that </span><span style=\"background-color:#eadbd8;\">Emma was a </span><span style=\"background-color:#d0ece7;\">mixture of pr</span><span style=\"background-color:#e2d7d5;\">opriety, he </span><span style=\"background-color:#d4e6f1;\">supposed that he</span><span style=\"background-color:#d4e6f1;\">r house and her</span><span style=\"background-color:#d8daef;\"> father was </span><span style=\"background-color:#eadbd8;\">heard of her </span><span style=\"background-color:#d4e6f1;\">father, and mo</span><span style=\"background-color:#eadbd8;\">re than wi</span>t<span style=\"background-color:#d4e6f1;\">h a series of </span><span style=\"background-color:#d4e6f1;\">a commanding </span>slick;<span style=\"background-color:#d6dbdf;\"> professed her</span><span style=\"background-color:#d4e6f1;\"> to bring him</span>"
            ],
            "text/plain": [
              "<IPython.core.display.HTML object>"
            ]
          },
          "metadata": {}
        },
        {
          "output_type": "display_data",
          "data": {
            "text/html": [
              "<small><p style=\"text-align:right;\">Sources: <span style=\"background-color:#d0ece7;\">Jane Austen: Pride and Prejudice</span>, <span style=\"background-color:#fdebd0;\">Virginia Woolf: Night and Day</span>, <span style=\"background-color:#d8daef;\">Virginia Woolf: The Common Reader</span>, <span style=\"background-color:#eadbd8;\">Catherine Anne Austen Hubback and Jane Austen: The Younger Sister, Volumes 1-3</span>, <span style=\"background-color:#d4e6f1;\">Jane Austen: The Complete Project Gutenberg Works of Jane Austen</span>, <span style=\"background-color:#edebd0;\">Jane Austen: Emma</span>, <span style=\"background-color:#d6dbdf;\">Charlotte Brontë: Villette</span>, <span style=\"background-color:#d0ece7;\">Jane Austen: Northanger Abbey</span>, <span style=\"background-color:#e2d7d5;\">Catherine Anne Austen Hubback and Jane Austen: The Younger Sister, Vol. 3</span>, <span style=\"background-color:#e2d7d5;\">Jane Austen: Sense and Sensibility</span></p></small>"
            ],
            "text/plain": [
              "<IPython.core.display.HTML object>"
            ]
          },
          "metadata": {}
        },
        {
          "output_type": "stream",
          "name": "stdout",
          "text": [
            "Temperature 0.8:\n"
          ]
        },
        {
          "output_type": "display_data",
          "data": {
            "text/html": [
              "<span style=\"background-color:#d4e6f1;\">She thinks of </span><span style=\"background-color:#d8daef;\">her habits, </span><span style=\"background-color:#fdebd0;\">and took up the </span><span style=\"background-color:#d8daef;\">effect of t</span>wel<span style=\"background-color:#eadbd8;\">ter into her </span><span style=\"background-color:#d6dbdf;\">late and s</span>ubmer<span style=\"background-color:#eadbd8;\">s to any other </span>p<span style=\"background-color:#d4e6f1;\">age of man</span><span style=\"background-color:#d4e6f1;\">or came to </span>Mrs. Sheart'<span style=\"background-color:#eadbd8;\">, for their </span>form<span style=\"background-color:#ecf3cf;\">er energy w</span>ith<span style=\"background-color:#eadbd8;\"> parting th</span><span style=\"background-color:#d4e6f1;\">e world or </span>twice, du<span style=\"background-color:#d4e6f1;\">ll the min</span><span style=\"background-color:#eadbd8;\">d in the por</span>triction'r<span style=\"background-color:#eadbd8;\">t expression, </span>not cath<span style=\"background-color:#e2d7d5;\">les returned to the </span><span style=\"background-color:#eadbd8;\">strange fa</span><span style=\"background-color:#fdebd0;\">ults that </span><span style=\"background-color:#d4e6f1;\">absence was </span><span style=\"background-color:#d4e6f1;\">in the country to </span><span style=\"background-color:#d6dbdf;\">the absolutely </span>glad<span style=\"background-color:#fdebd0;\">, heard him</span>self<span style=\"background-color:#eadbd8;\"> farmer pro</span><span style=\"background-color:#eadbd8;\">posals to </span><span style=\"background-color:#d8daef;\">enjoy the </span>o<span style=\"background-color:#ecf3cf;\">ther—he was </span><span style=\"background-color:#d4e6f1;\">distressed, and </span><span style=\"background-color:#d4e6f1;\">as they were, she </span>wa<span style=\"background-color:#fdebd0;\">s colored </span><span style=\"background-color:#d4e6f1;\">for any more </span>dream of<span style=\"background-color:#fdebd0;\"> still; and th</span>a<span style=\"background-color:#eadbd8;\">t nod and </span><span style=\"background-color:#ebdef0;\">was a man of </span><span style=\"background-color:#d4e6f1;\">consequence in </span><span style=\"background-color:#e2d7d5;\">his apology</span><span style=\"background-color:#eadbd8;\">. At least </span><span style=\"background-color:#eadbd8;\">as to ask </span><span style=\"background-color:#eadbd8;\">her affections </span><span style=\"background-color:#d0ece7;\">and display</span><span style=\"background-color:#d4e6f1;\">s were put </span>off<span style=\"background-color:#d8daef;\"> front of </span>Brit<span style=\"background-color:#d4e6f1;\">e passed the t</span><span style=\"background-color:#e2d7d5;\">able; but she s</span><span style=\"background-color:#eadbd8;\">poke, to e</span>nt<span style=\"background-color:#eadbd8;\">ertain it </span>to be<span style=\"background-color:#d4e6f1;\"> a future </span>and au<span style=\"background-color:#d8daef;\">nt upon the </span>sam<span style=\"background-color:#eadbd8;\">e side of t</span>"
            ],
            "text/plain": [
              "<IPython.core.display.HTML object>"
            ]
          },
          "metadata": {}
        },
        {
          "output_type": "display_data",
          "data": {
            "text/html": [
              "<small><p style=\"text-align:right;\">Sources: <span style=\"background-color:#d4e6f1;\">Jane Austen: The Complete Project Gutenberg Works of Jane Austen</span>, <span style=\"background-color:#d8daef;\">Virginia Woolf: The Common Reader</span>, <span style=\"background-color:#fdebd0;\">Virginia Woolf: Night and Day</span>, <span style=\"background-color:#eadbd8;\">Catherine Anne Austen Hubback and Jane Austen: The Younger Sister, Volumes 1-3</span>, <span style=\"background-color:#d6dbdf;\">Charlotte Brontë: Villette</span>, <span style=\"background-color:#ecf3cf;\">Virginia Woolf: The Voyage Out</span>, <span style=\"background-color:#e2d7d5;\">Jane Austen: Sense and Sensibility</span>, <span style=\"background-color:#eadbd8;\">Anne Brontë: Agnes Grey</span>, <span style=\"background-color:#ebdef0;\">Virginia Woolf: Mr. Bennett and Mrs. Brown</span>, <span style=\"background-color:#d0ece7;\">Jane Austen: Pride and Prejudice</span></p></small>"
            ],
            "text/plain": [
              "<IPython.core.display.HTML object>"
            ]
          },
          "metadata": {}
        },
        {
          "output_type": "stream",
          "name": "stdout",
          "text": [
            "Epoch 15 Loss: 1.177 Precision: 0.640 Time/Sample: 0.000762 sec/sample\n",
            "Saved best precision model, prec=0.640\n",
            "Epoch 15 Loss: 1.176 Precision: 0.640 Time/Sample: 0.000763 sec/sample\n",
            "Saved best precision model, prec=0.640\n",
            "Epoch 15 Loss: 1.174 Precision: 0.640 Time/Sample: 0.000761 sec/sample\n",
            "Saved best precision model, prec=0.640\n",
            "Epoch 15 Loss: 1.172 Precision: 0.641 Time/Sample: 0.000761 sec/sample\n",
            "Saved best precision model, prec=0.641\n",
            "Temperature 0.6:\n"
          ]
        },
        {
          "output_type": "display_data",
          "data": {
            "text/html": [
              "<span style=\"background-color:#d4e6f1;\">Their sister </span><span style=\"background-color:#d4e6f1;\">is not a sens</span><span style=\"background-color:#d0ece7;\">e of delight a</span><span style=\"background-color:#d4e6f1;\">nd manner, a</span><span style=\"background-color:#d4e6f1;\">nd the proper</span><span style=\"background-color:#d8daef;\"> command of the s</span>ame<span style=\"background-color:#d6dbdf;\"> door only </span><span style=\"background-color:#d8daef;\">the other a</span><span style=\"background-color:#e5e8e8;\">ffection of her </span><span style=\"background-color:#eadbd8;\">spirits at the </span><span style=\"background-color:#d8daef;\">sound of their </span><span style=\"background-color:#d8daef;\">light and the</span>ir sac<span style=\"background-color:#d4e6f1;\">k a person w</span><span style=\"background-color:#edebd0;\">ho there w</span><span style=\"background-color:#d8daef;\">as so much in </span><span style=\"background-color:#d0ece7;\">the country that </span><span style=\"background-color:#eadbd8;\">the lanes t</span><span style=\"background-color:#d6dbdf;\">here was no more </span><span style=\"background-color:#d4e6f1;\">at all. And </span><span style=\"background-color:#d8daef;\">as the party a</span><span style=\"background-color:#ecf3cf;\">re not only to </span>me<span style=\"background-color:#eadbd8;\">et her to </span><span style=\"background-color:#d4e6f1;\">be surprised i</span><span style=\"background-color:#d4e6f1;\">n a very pretty </span><span style=\"background-color:#ebdef0;\">thing which he </span><span style=\"background-color:#d4e6f1;\">had not a single </span><span style=\"background-color:#d4e6f1;\">man who had been </span><span style=\"background-color:#d0ece7;\">always seen a</span><span style=\"background-color:#eadbd8;\">t the case </span><span style=\"background-color:#d0ece7;\">for the lat</span><span style=\"background-color:#fdebd0;\">e and friend</span><span style=\"background-color:#d4e6f1;\">s, with a s</span><span style=\"background-color:#d8daef;\">ense of lit</span>tl<span style=\"background-color:#d4e6f1;\">e looks, and </span><span style=\"background-color:#eadbd8;\">were there </span>more a<span style=\"background-color:#d4e6f1;\">re a couple of </span><span style=\"background-color:#eadbd8;\">company. I</span><span style=\"background-color:#d8daef;\">ndeed that </span><span style=\"background-color:#eadbd8;\">I was only a</span>da<span style=\"background-color:#d6dbdf;\">rt the other </span><span style=\"background-color:#d4e6f1;\">masters of </span><span style=\"background-color:#ebdef0;\">horses with </span><span style=\"background-color:#d6dbdf;\">the same in the </span><span style=\"background-color:#d6dbdf;\">morning’s de</span><span style=\"background-color:#d0ece7;\">sire of an</span><span style=\"background-color:#d8daef;\">other and s</span>m<span style=\"background-color:#eadbd8;\">all situation</span><span style=\"background-color:#eadbd8;\"> at all in </span>quitten bro<span style=\"background-color:#d6dbdf;\">kness. There </span><span style=\"background-color:#eadbd8;\">was an engagement </span><span style=\"background-color:#d8daef;\">which her ow</span>"
            ],
            "text/plain": [
              "<IPython.core.display.HTML object>"
            ]
          },
          "metadata": {}
        },
        {
          "output_type": "display_data",
          "data": {
            "text/html": [
              "<small><p style=\"text-align:right;\">Sources: <span style=\"background-color:#d4e6f1;\">Jane Austen: The Complete Project Gutenberg Works of Jane Austen</span>, <span style=\"background-color:#d0ece7;\">Jane Austen: Pride and Prejudice</span>, <span style=\"background-color:#d8daef;\">Virginia Woolf: The Common Reader</span>, <span style=\"background-color:#d6dbdf;\">Charlotte Brontë: Villette</span>, <span style=\"background-color:#e5e8e8;\">Jane Austen: Love And Friendship And Other Early Works</span>, <span style=\"background-color:#eadbd8;\">Catherine Anne Austen Hubback and Jane Austen: The Younger Sister, Volumes 1-3</span>, <span style=\"background-color:#edebd0;\">Jane Austen: Emma</span>, <span style=\"background-color:#ecf3cf;\">Virginia Woolf: The Voyage Out</span>, <span style=\"background-color:#ebdef0;\">Virginia Woolf: Mr. Bennett and Mrs. Brown</span>, <span style=\"background-color:#fdebd0;\">Virginia Woolf: Night and Day</span>, <span style=\"background-color:#eadbd8;\">Anne Brontë: Agnes Grey</span>, <span style=\"background-color:#ebdef0;\">Emily Brontë: Wuthering Heights</span></p></small>"
            ],
            "text/plain": [
              "<IPython.core.display.HTML object>"
            ]
          },
          "metadata": {}
        },
        {
          "output_type": "stream",
          "name": "stdout",
          "text": [
            "Temperature 0.7:\n"
          ]
        },
        {
          "output_type": "display_data",
          "data": {
            "text/html": [
              "“I<span style=\"background-color:#d8daef;\">n a better man</span><span style=\"background-color:#d4e6f1;\"> to all the l</span>et<span style=\"background-color:#eadbd8;\">ters they </span><span style=\"background-color:#d4e6f1;\">were suffer</span>ed <span style=\"background-color:#d0ece7;\">as meant to </span><span style=\"background-color:#d4e6f1;\">give him a l</span><span style=\"background-color:#d4e6f1;\">ittle back, </span><span style=\"background-color:#d4e6f1;\">and the girls were </span><span style=\"background-color:#d4e6f1;\">settled with </span><span style=\"background-color:#d0ece7;\">one of them a</span><span style=\"background-color:#eadbd8;\">nd to be so </span>abrea<span style=\"background-color:#d4e6f1;\">rable as t</span><span style=\"background-color:#d0ece7;\">he good pro</span><span style=\"background-color:#eadbd8;\">ceedings, and </span><span style=\"background-color:#d8daef;\">I must not be </span><span style=\"background-color:#fdebd0;\">able to say that </span>th<span style=\"background-color:#e2d7d5;\">e boy and </span><span style=\"background-color:#ebdef0;\">made a strange </span><span style=\"background-color:#d6dbdf;\">sense of e</span>arth Edg<span style=\"background-color:#eadbd8;\">arr, and s</span><span style=\"background-color:#ecf3cf;\">ome things about </span><span style=\"background-color:#d4e6f1;\">the door, and she </span><span style=\"background-color:#d4e6f1;\">trusted him</span><span style=\"background-color:#d0ece7;\"> with her eyes</span><span style=\"background-color:#ecf3cf;\">; she saw her</span><span style=\"background-color:#d4e6f1;\">self therefore </span>were mad<span style=\"background-color:#eadbd8;\">ing attention to </span><span style=\"background-color:#e2d7d5;\">her own consequence, </span><span style=\"background-color:#d4e6f1;\">had been from </span><span style=\"background-color:#d8daef;\">the rest of </span><span style=\"background-color:#eadbd8;\">a connection </span><span style=\"background-color:#eadbd8;\">of two or three p</span><span style=\"background-color:#d4e6f1;\">articulars, for </span><span style=\"background-color:#d4e6f1;\">not to be se</span>ver<span style=\"background-color:#fdebd0;\">ically con</span><span style=\"background-color:#d4e6f1;\">vinced that her </span><span style=\"background-color:#d6dbdf;\">eyes had d</span>on<span style=\"background-color:#d4e6f1;\">e a mistaken</span><span style=\"background-color:#eadbd8;\">, and a second</span><span style=\"background-color:#d4e6f1;\"> assurance of suc</span><span style=\"background-color:#d6dbdf;\">h a comparison</span><span style=\"background-color:#d6dbdf;\"> to her at once</span><span style=\"background-color:#eadbd8;\">, and they were a</span><span style=\"background-color:#d8daef;\">t the consc</span>ar<span style=\"background-color:#d6dbdf;\">y of support </span><span style=\"background-color:#d4e6f1;\">from her in </span>love<span style=\"background-color:#d0ece7;\">. How soon </span><span style=\"background-color:#d6dbdf;\">brought her o</span><span style=\"background-color:#d4e6f1;\">ver the va</span>li"
            ],
            "text/plain": [
              "<IPython.core.display.HTML object>"
            ]
          },
          "metadata": {}
        },
        {
          "output_type": "display_data",
          "data": {
            "text/html": [
              "<small><p style=\"text-align:right;\">Sources: <span style=\"background-color:#d8daef;\">Virginia Woolf: The Common Reader</span>, <span style=\"background-color:#d4e6f1;\">Jane Austen: The Complete Project Gutenberg Works of Jane Austen</span>, <span style=\"background-color:#eadbd8;\">Catherine Anne Austen Hubback and Jane Austen: The Younger Sister, Volumes 1-3</span>, <span style=\"background-color:#d0ece7;\">Jane Austen: Pride and Prejudice</span>, <span style=\"background-color:#d8daef;\">Charlotte Brontë: Biog Notes on the Pseudonymous Bells</span>, <span style=\"background-color:#fdebd0;\">Virginia Woolf: Night and Day</span>, <span style=\"background-color:#e2d7d5;\">Jane Austen: Sense and Sensibility</span>, <span style=\"background-color:#ebdef0;\">Emily Brontë: Wuthering Heights</span>, <span style=\"background-color:#d6dbdf;\">Charlotte Brontë: Villette</span>, <span style=\"background-color:#ecf3cf;\">Virginia Woolf: The Voyage Out</span>, <span style=\"background-color:#eadbd8;\">Anne Brontë: Agnes Grey</span></p></small>"
            ],
            "text/plain": [
              "<IPython.core.display.HTML object>"
            ]
          },
          "metadata": {}
        },
        {
          "output_type": "stream",
          "name": "stdout",
          "text": [
            "Temperature 0.8:\n"
          ]
        },
        {
          "output_type": "display_data",
          "data": {
            "text/html": [
              "<span style=\"background-color:#d0ece7;\">I suppose he </span>knew bris<span style=\"background-color:#d4e6f1;\">tly at home a</span>t the boy's da<span style=\"background-color:#ebdef0;\">y, I propose </span><span style=\"background-color:#d4e6f1;\">had not in </span><span style=\"background-color:#d4e6f1;\">my fortune. </span>I<span style=\"background-color:#d6dbdf;\"> speak a little </span><span style=\"background-color:#d6dbdf;\">care with </span><span style=\"background-color:#e2d7d5;\">them. He t</span>hrew<span style=\"background-color:#eadbd8;\"> it so much </span>as h<span style=\"background-color:#ecf3cf;\">er showing </span><span style=\"background-color:#eadbd8;\">a little be</span>s<span style=\"background-color:#d8daef;\">w, and the </span><span style=\"background-color:#d4e6f1;\">remains of m</span>e<span style=\"background-color:#eadbd8;\">—I will not </span>old MWa<span style=\"background-color:#f6ddcc;\">re her and </span>st<span style=\"background-color:#d8daef;\">ay from the t</span><span style=\"background-color:#fdebd0;\">ruth that </span>may well mis<span style=\"background-color:#d6dbdf;\">er and myself </span>to us<span style=\"background-color:#d4e6f1;\"> this moment. </span>Miss Borns had a jugd<span style=\"background-color:#eadbd8;\">y of every </span><span style=\"background-color:#eadbd8;\">summer, he</span><span style=\"background-color:#d0ece7;\">r power of </span>five hearts. God<span style=\"background-color:#d4e6f1;\"> she pleased</span><span style=\"background-color:#eadbd8;\">, that it would be </span>p<span style=\"background-color:#d6dbdf;\">aid on her </span>husband. But<span style=\"background-color:#d6dbdf;\"> lived far </span><span style=\"background-color:#ecf3cf;\">before she de</span><span style=\"background-color:#d8daef;\">serves his</span><span style=\"background-color:#eadbd8;\"> conduct to </span><span style=\"background-color:#eadbd8;\">Mr. Samuel</span><span style=\"background-color:#d4e6f1;\">s, and the sta</span><span style=\"background-color:#d4e6f1;\">te of her pr</span><span style=\"background-color:#eadbd8;\">ospects of her </span>own point<span style=\"background-color:#d4efdf;\">! Now she </span><span style=\"background-color:#d4e6f1;\">had been his own </span>note whe<span style=\"background-color:#eadbd8;\">n money and </span><span style=\"background-color:#d0ece7;\">she was quite di</span>z<span style=\"background-color:#d0ece7;\">ected; and </span><span style=\"background-color:#d4e6f1;\">no gratitude </span><span style=\"background-color:#eadbd8;\">of a man s</span><span style=\"background-color:#eadbd8;\">hould accept the </span><span style=\"background-color:#d8daef;\">absence of </span><span style=\"background-color:#d4efdf;\">Lady Bertram. “H</span><span style=\"background-color:#d4e6f1;\">ave you think</span><span style=\"background-color:#f6ddcc;\">. Sometimes the</span><span style=\"background-color:#d0ece7;\">re was tru</span>l"
            ],
            "text/plain": [
              "<IPython.core.display.HTML object>"
            ]
          },
          "metadata": {}
        },
        {
          "output_type": "display_data",
          "data": {
            "text/html": [
              "<small><p style=\"text-align:right;\">Sources: <span style=\"background-color:#d0ece7;\">Jane Austen: Pride and Prejudice</span>, <span style=\"background-color:#d4e6f1;\">Jane Austen: The Complete Project Gutenberg Works of Jane Austen</span>, <span style=\"background-color:#ebdef0;\">Emily Brontë: Wuthering Heights</span>, <span style=\"background-color:#d6dbdf;\">Charlotte Brontë: Villette</span>, <span style=\"background-color:#e2d7d5;\">Jane Austen: Sense and Sensibility</span>, <span style=\"background-color:#eadbd8;\">Catherine Anne Austen Hubback and Jane Austen: The Younger Sister, Volumes 1-3</span>, <span style=\"background-color:#ecf3cf;\">Virginia Woolf: The Voyage Out</span>, <span style=\"background-color:#d8daef;\">Virginia Woolf: The Common Reader</span>, <span style=\"background-color:#f6ddcc;\">Virginia Woolf: Jacob's Room</span>, <span style=\"background-color:#fdebd0;\">Virginia Woolf: Night and Day</span>, <span style=\"background-color:#eadbd8;\">Anne Brontë: Agnes Grey</span>, <span style=\"background-color:#d4efdf;\">Jane Austen: Mansfield Park</span></p></small>"
            ],
            "text/plain": [
              "<IPython.core.display.HTML object>"
            ]
          },
          "metadata": {}
        },
        {
          "output_type": "stream",
          "name": "stdout",
          "text": [
            "Epoch 15 Loss: 1.170 Precision: 0.641 Time/Sample: 0.000761 sec/sample\n",
            "Saved best precision model, prec=0.641\n",
            "Epoch 15 Loss: 1.168 Precision: 0.642 Time/Sample: 0.000761 sec/sample\n",
            "Saved best precision model, prec=0.642\n",
            "Epoch 16 Loss: 1.166 Precision: 0.642 Time/Sample: 0.000758 sec/sample\n",
            "Saved best precision model, prec=0.642\n"
          ]
        },
        {
          "output_type": "error",
          "ename": "KeyboardInterrupt",
          "evalue": "ignored",
          "traceback": [
            "\u001b[0;31m---------------------------------------------------------------------------\u001b[0m",
            "\u001b[0;31mKeyboardInterrupt\u001b[0m                         Traceback (most recent call last)",
            "\u001b[0;32m<ipython-input-29-0b1520708b30>\u001b[0m in \u001b[0;36m<module>\u001b[0;34m()\u001b[0m\n\u001b[1;32m     41\u001b[0m         \u001b[0mbench_data\u001b[0m \u001b[0;34m+=\u001b[0m \u001b[0mtime\u001b[0m\u001b[0;34m.\u001b[0m\u001b[0mtime\u001b[0m\u001b[0;34m(\u001b[0m\u001b[0;34m)\u001b[0m\u001b[0;34m-\u001b[0m\u001b[0mt1\u001b[0m\u001b[0;34m\u001b[0m\u001b[0;34m\u001b[0m\u001b[0m\n\u001b[1;32m     42\u001b[0m         \u001b[0mt1\u001b[0m\u001b[0;34m=\u001b[0m\u001b[0mtime\u001b[0m\u001b[0;34m.\u001b[0m\u001b[0mtime\u001b[0m\u001b[0;34m(\u001b[0m\u001b[0;34m)\u001b[0m\u001b[0;34m\u001b[0m\u001b[0;34m\u001b[0m\u001b[0m\n\u001b[0;32m---> 43\u001b[0;31m         \u001b[0ml\u001b[0m\u001b[0;34m,\u001b[0m \u001b[0mpr\u001b[0m \u001b[0;34m=\u001b[0m \u001b[0mtrain\u001b[0m\u001b[0;34m(\u001b[0m\u001b[0mXt\u001b[0m\u001b[0;34m,\u001b[0m\u001b[0myt\u001b[0m\u001b[0;34m)\u001b[0m\u001b[0;34m\u001b[0m\u001b[0;34m\u001b[0m\u001b[0m\n\u001b[0m\u001b[1;32m     44\u001b[0m         \u001b[0mbench_train\u001b[0m \u001b[0;34m+=\u001b[0m \u001b[0mtime\u001b[0m\u001b[0;34m.\u001b[0m\u001b[0mtime\u001b[0m\u001b[0;34m(\u001b[0m\u001b[0;34m)\u001b[0m\u001b[0;34m-\u001b[0m\u001b[0mt1\u001b[0m\u001b[0;34m\u001b[0m\u001b[0;34m\u001b[0m\u001b[0m\n\u001b[1;32m     45\u001b[0m \u001b[0;34m\u001b[0m\u001b[0m\n",
            "\u001b[0;32m<ipython-input-28-8d290e18317e>\u001b[0m in \u001b[0;36mtrain\u001b[0;34m(Xt, yt)\u001b[0m\n\u001b[1;32m     20\u001b[0m     \u001b[0mytlin\u001b[0m\u001b[0;34m=\u001b[0m\u001b[0myt\u001b[0m\u001b[0;34m.\u001b[0m\u001b[0mview\u001b[0m\u001b[0;34m(\u001b[0m\u001b[0;34m-\u001b[0m\u001b[0;36m1\u001b[0m\u001b[0;34m)\u001b[0m\u001b[0;34m\u001b[0m\u001b[0;34m\u001b[0m\u001b[0m\n\u001b[1;32m     21\u001b[0m \u001b[0;34m\u001b[0m\u001b[0m\n\u001b[0;32m---> 22\u001b[0;31m     \u001b[0mpr\u001b[0m\u001b[0;34m=\u001b[0m\u001b[0mprecision\u001b[0m\u001b[0;34m(\u001b[0m\u001b[0myt\u001b[0m\u001b[0;34m,\u001b[0m\u001b[0mytp\u001b[0m\u001b[0;34m)\u001b[0m\u001b[0;34m\u001b[0m\u001b[0;34m\u001b[0m\u001b[0m\n\u001b[0m\u001b[1;32m     23\u001b[0m \u001b[0;34m\u001b[0m\u001b[0m\n\u001b[1;32m     24\u001b[0m     \u001b[0mloss\u001b[0m \u001b[0;34m=\u001b[0m \u001b[0mcriterion\u001b[0m\u001b[0;34m(\u001b[0m\u001b[0molin\u001b[0m\u001b[0;34m,\u001b[0m \u001b[0mytlin\u001b[0m\u001b[0;34m)\u001b[0m\u001b[0;34m\u001b[0m\u001b[0;34m\u001b[0m\u001b[0m\n",
            "\u001b[0;32m<ipython-input-28-8d290e18317e>\u001b[0m in \u001b[0;36mprecision\u001b[0;34m(y, yp)\u001b[0m\n\u001b[1;32m      8\u001b[0m \u001b[0;34m\u001b[0m\u001b[0m\n\u001b[1;32m      9\u001b[0m \u001b[0;32mdef\u001b[0m \u001b[0mprecision\u001b[0m\u001b[0;34m(\u001b[0m\u001b[0my\u001b[0m\u001b[0;34m,\u001b[0m \u001b[0myp\u001b[0m\u001b[0;34m)\u001b[0m\u001b[0;34m:\u001b[0m\u001b[0;34m\u001b[0m\u001b[0;34m\u001b[0m\u001b[0m\n\u001b[0;32m---> 10\u001b[0;31m     \u001b[0;32mreturn\u001b[0m \u001b[0;34m(\u001b[0m\u001b[0mtorch\u001b[0m\u001b[0;34m.\u001b[0m\u001b[0msum\u001b[0m\u001b[0;34m(\u001b[0m\u001b[0myp\u001b[0m\u001b[0;34m==\u001b[0m\u001b[0my\u001b[0m\u001b[0;34m)\u001b[0m\u001b[0;34m/\u001b[0m\u001b[0mfloat\u001b[0m\u001b[0;34m(\u001b[0m\u001b[0;34m(\u001b[0m\u001b[0my\u001b[0m\u001b[0;34m.\u001b[0m\u001b[0msize\u001b[0m\u001b[0;34m(\u001b[0m\u001b[0;34m)\u001b[0m\u001b[0;34m[\u001b[0m\u001b[0;36m0\u001b[0m\u001b[0;34m]\u001b[0m\u001b[0;34m*\u001b[0m\u001b[0my\u001b[0m\u001b[0;34m.\u001b[0m\u001b[0msize\u001b[0m\u001b[0;34m(\u001b[0m\u001b[0;34m)\u001b[0m\u001b[0;34m[\u001b[0m\u001b[0;36m1\u001b[0m\u001b[0;34m]\u001b[0m\u001b[0;34m)\u001b[0m\u001b[0;34m)\u001b[0m\u001b[0;34m)\u001b[0m\u001b[0;34m.\u001b[0m\u001b[0mitem\u001b[0m\u001b[0;34m(\u001b[0m\u001b[0;34m)\u001b[0m\u001b[0;34m\u001b[0m\u001b[0;34m\u001b[0m\u001b[0m\n\u001b[0m\u001b[1;32m     11\u001b[0m \u001b[0;34m\u001b[0m\u001b[0m\n\u001b[1;32m     12\u001b[0m \u001b[0;32mdef\u001b[0m \u001b[0mtrain\u001b[0m\u001b[0;34m(\u001b[0m\u001b[0mXt\u001b[0m\u001b[0;34m,\u001b[0m \u001b[0myt\u001b[0m\u001b[0;34m)\u001b[0m\u001b[0;34m:\u001b[0m\u001b[0;34m\u001b[0m\u001b[0;34m\u001b[0m\u001b[0m\n",
            "\u001b[0;31mKeyboardInterrupt\u001b[0m: "
          ]
        }
      ]
    },
    {
      "cell_type": "markdown",
      "metadata": {
        "id": "-dsSPjPsUlpY"
      },
      "source": [
        "# 4. Text generation\n",
        "\n",
        "## 4.1 Sample generation"
      ]
    },
    {
      "cell_type": "code",
      "metadata": {
        "id": "u-vHDcHupruq",
        "outputId": "02335c56-f3b2-4641-bf2d-8ff26f94dadd",
        "colab": {
          "base_uri": "https://localhost:8080/",
          "height": 59
        }
      },
      "source": [
        "load_checkpoint(filename=\"model_best.pth.tar\")"
      ],
      "execution_count": null,
      "outputs": [
        {
          "output_type": "stream",
          "text": [
            "Continuing from saved state epoch=41, loss=0.919\n"
          ],
          "name": "stdout"
        },
        {
          "output_type": "execute_result",
          "data": {
            "text/plain": [
              "(40, 0.9189830598377046)"
            ]
          },
          "metadata": {
            "tags": []
          },
          "execution_count": 27
        }
      ]
    },
    {
      "cell_type": "code",
      "metadata": {
        "id": "wdpCtjvfUlpZ",
        "scrolled": true
      },
      "source": [
        "def detectPlagiarism(generatedtext, textlibrary, min_quote_size=10, display_ref_anchor=True):\n",
        "    textlibrary.source_highlight(generatedtext, min_quote_size=min_quote_size, dark_mode=use_dark_mode, display_ref_anchor=display_ref_anchor)"
      ],
      "execution_count": null,
      "outputs": []
    },
    {
      "cell_type": "code",
      "metadata": {
        "id": "oflaWxltsJd6",
        "colab": {
          "base_uri": "https://localhost:8080/",
          "height": 1000
        },
        "outputId": "62bc62cf-d43d-4420-9dd9-7d412e6be818"
      },
      "source": [
        "print(\"Sample text:\")\n",
        "print(\"\")\n",
        "for temperature in [0.2, 0.3, 0.4, 0.5, 0.6, 0.7, 0.8, 0.9, 1.0]:\n",
        "    tgen=poet.generate(1000,\"\\n\\n\", temperature=temperature)\n",
        "    print(f\"================Temperature: {temperature}==============\")\n",
        "    detectPlagiarism(tgen, td, display_ref_anchor=False)"
      ],
      "execution_count": null,
      "outputs": [
        {
          "output_type": "stream",
          "text": [
            "Sample text:\n",
            "\n",
            "================Temperature: 0.2==============\n"
          ],
          "name": "stdout"
        },
        {
          "output_type": "display_data",
          "data": {
            "text/html": [
              "<br><br><br><span style=\"background-color:#d6eaf8;\">23.<br><br><br>THE </span><span style=\"background-color:#d6eaf8;\">FOUR VIRTUE</span> OF LOVE NOT INDIRENCE ITS IS<span style=\"background-color:#d6eaf8;\"> NOT BE DE</span>NEIVLED IN<span style=\"background-color:#d6dbdf;\"> NATURAL PRINCIPLES</span>SES BECOTIVAL<span style=\"background-color:#d4efdf;\">.<br><br><br>The third </span><span style=\"background-color:#edebd0;\">point of the f</span><span style=\"background-color:#d0ece7;\">ormer is the con</span><span style=\"background-color:#edebd0;\">tent of the<br>pr</span><span style=\"background-color:#fdebd0;\">inciple of sufficient reason, which is </span><span style=\"background-color:#d6dbdf;\">the<br>source of the </span><span style=\"background-color:#edebd0;\">content of the pos</span><span style=\"background-color:#e5e8e8;\">sibility of<br>the object </span><span style=\"background-color:#d0ece7;\">in its substance</span><span style=\"background-color:#d4efdf;\"> is the same, and the</span><span style=\"background-color:#d4e6f1;\"><br>content of the s</span><span style=\"background-color:#d0ece7;\">ubjective and objective, and the</span><span style=\"background-color:#d6dbdf;\"><br>content of the i</span><span style=\"background-color:#d6dbdf;\">ndividual, and the </span><span style=\"background-color:#d4e6f1;\">content of the<br>s</span><span style=\"background-color:#edebd0;\">ubjective and objective, is th</span><span style=\"background-color:#e5e8e8;\">e source of the<br></span><span style=\"background-color:#d4e6e1;\">possibility of a conception</span><span style=\"background-color:#edebd0;\"> of the understanding,<br>but </span><span style=\"background-color:#fae5d3;\">is also the on</span><span style=\"background-color:#d6dbdf;\">ly real and p</span><span style=\"background-color:#e5e8e8;\">ractical, it is</span><span style=\"background-color:#ebdef0;\"><br>certainly a proof of </span><span style=\"background-color:#eadbd8;\">the conditioned with</span><span style=\"background-color:#d4e6f1;\">in its<br>own sub</span><span style=\"background-color:#f6ddcc;\">stance, it is the </span><span style=\"background-color:#d6dbdf;\">soul which is th</span><span style=\"background-color:#d0ece7;\">e source<br>of the </span><span style=\"background-color:#eadbd8;\">problem of the pr</span><span style=\"background-color:#fdebd0;\">inciple of sufficient reason<br>i</span><span style=\"background-color:#d6eaf8;\">n its forms.</span><span style=\"background-color:#fdebd0;\"> The form of the i</span><span style=\"background-color:#d0ece7;\">ndividual soul is </span><span style=\"background-color:#d4efdf;\">the<br>subject of knowledge</span><span style=\"background-color:#d4efdf;\">. The second con</span><span style=\"background-color:#d0ece7;\">tent is the<br></span><span style=\"background-color:#d4e6f1;\">soul in its a</span><span style=\"background-color:#edebd0;\">spect of self-consciousness, in</span><span style=\"background-color:#d0ece7;\"> the<br>sense that it is the </span><span style=\"background-color:#edebd0;\">spiritual world of s</span><span style=\"background-color:#d0ece7;\">ense,<br>but </span><span style=\"background-color:#edebd0;\">is only a prob</span><span style=\"background-color:#d4e6e1;\">lem for the </span><span style=\"background-color:#d6eaf8;\">senses and the</span><span style=\"background-color:#d6eaf8;\"><br>intellect. The </span><span style=\"background-color:#d6eaf8;\">same thing is t</span><span style=\"background-color:#ebdef0;\">he same as that of a</span><br><span style=\"background-color:#d6dbdf;\">man of com</span>pany"
            ],
            "text/plain": [
              "<IPython.core.display.HTML object>"
            ]
          },
          "metadata": {
            "tags": []
          }
        },
        {
          "output_type": "display_data",
          "data": {
            "text/html": [
              "<small><p style=\"text-align:right;\">Sources: <span style=\"background-color:#d6eaf8;\">Friedrich Wilhelm Nietzsche: The Dawn of Day</span>, <span style=\"background-color:#d6dbdf;\">David Hume: A Treatise of Human Nature, Vols. 1 & 2</span>, <span style=\"background-color:#d4efdf;\">Arthur Schopenhauer: The World as Will and Idea (Vol. 3 of 3)</span>, <span style=\"background-color:#edebd0;\">Georg Wilhelm Hegel: The History of Philosophy: Volume 3 of 3</span>, <span style=\"background-color:#d0ece7;\">Arthur Schopenhauer: The World as Will and Idea (Vol. 2 of 3)</span>, <span style=\"background-color:#fdebd0;\">Arthur Schopenhauer: The World as Will and Idea (Vol. 1 of 3)</span>, <span style=\"background-color:#d6dbdf;\">G. W. F. Hegel: The Philosophy of Fine Art, Vol. 1 of 4</span>, <span style=\"background-color:#e5e8e8;\">Immanuel Kant: Kant's Critique of Judgement</span>, <span style=\"background-color:#d0ece7;\">G. W. F. Hegel: The Philosophy of Fine Art, Volume 4 of 4</span>, <span style=\"background-color:#d4e6f1;\">G. W. F. Hegel: The Philosophy of Fine Art, Vol. 2 of 4</span>, <span style=\"background-color:#d0ece7;\">Georg Wilhelm Hegel: Hegel's Lectures on the History of Philosophy: Vol. 2 of 3</span>, <span style=\"background-color:#e5e8e8;\">David Hume: Philosophical Works, Vol. 1 of 4</span>, <span style=\"background-color:#d4e6e1;\">Immanuel Kant: The Critique of Pure Reason</span>, <span style=\"background-color:#fae5d3;\">Immanuel Kant: Perpetual Peace</span>, <span style=\"background-color:#d6dbdf;\">Georg Wilhelm Friedrich Hegel: Hegel's Philosophy of Mind</span>, <span style=\"background-color:#ebdef0;\">Søren Kierkegaard: Selections from the Writings of Kierkegaard</span>, <span style=\"background-color:#eadbd8;\">Immanuel Kant: Kant's Prolegomena</span>, <span style=\"background-color:#f6ddcc;\">G. W. F. Hegel: The Logic of Hegel</span>, <span style=\"background-color:#d6eaf8;\">Georg Wilhelm Hegel: Hegel's Lectures on the History of Philosophy: Vol. 1 of 3</span>, <span style=\"background-color:#edebd0;\">Friedrich Wilhelm Nietzsche: Twilight of the Idols - The Antichrist</span>, <span style=\"background-color:#d6eaf8;\">G. W. F. Hegel: The Philosophy of Fine Art, Volume 3 of 4</span></p></small>"
            ],
            "text/plain": [
              "<IPython.core.display.HTML object>"
            ]
          },
          "metadata": {
            "tags": []
          }
        },
        {
          "output_type": "stream",
          "text": [
            "================Temperature: 0.3==============\n"
          ],
          "name": "stdout"
        },
        {
          "output_type": "display_data",
          "data": {
            "text/html": [
              "<br><br><br>33.<br><br><br><span style=\"background-color:#ecf3cf;\">PROJECT GUTENBERG-T</span>AM<span style=\"background-color:#d6eaf8;\">E.—We must </span><span style=\"background-color:#e5e8e8;\">consider the idea of </span><span style=\"background-color:#d4e6e1;\">a particular kind of<br></span><span style=\"background-color:#d6dbdf;\">conceptions, which are the </span><span style=\"background-color:#d4e6e1;\">same as the p</span><span style=\"background-color:#eadbd8;\">rinciples of<br>the understanding, </span><span style=\"background-color:#d4efdf;\">and the conditions of the<br></span><span style=\"background-color:#d4e6e1;\">possibility of experience and </span><span style=\"background-color:#fae5d3;\">of space, and that</span><span style=\"background-color:#d6dbdf;\"><br>the same objects</span><span style=\"background-color:#fdebd0;\"> are entirely different</span><span style=\"background-color:#fdebd0;\">, and<br>therefore in </span><span style=\"background-color:#fae5d3;\">the same way as they</span><span style=\"background-color:#edebd0;\"> are in themselves,</span><span style=\"background-color:#d6dbdf;\"><br>and are not only </span><span style=\"background-color:#edebd0;\">possible or </span><span style=\"background-color:#d6eaf8;\">conversely to</span><span style=\"background-color:#d0ece7;\"><br>destroy the p</span><span style=\"background-color:#eadbd8;\">ure concepts of the understanding, </span><span style=\"background-color:#d6eaf8;\">but<br>also the c</span><span style=\"background-color:#d4e6e1;\">onception of the subject and </span><span style=\"background-color:#ebdef0;\">the object<br>of the </span><span style=\"background-color:#e5e8e8;\">senses, is not</span><span style=\"background-color:#d0ece7;\"> of the same in any o</span><span style=\"background-color:#f6ddcc;\">f these<br>particulars</span><span style=\"background-color:#d4e6f1;\">. The content of the </span><span style=\"background-color:#d0ece7;\">principle of<br>sufficient reason is </span><span style=\"background-color:#fae5d3;\">not a mere p</span><span style=\"background-color:#eadbd8;\">ossibility, but also</span><span style=\"background-color:#edebd0;\"><br>the same, and the p</span><span style=\"background-color:#d4e6e1;\">ossibility of a cause </span><span style=\"background-color:#d4efdf;\">as well<br>as to the </span><span style=\"background-color:#d4e6e1;\">possibility of the conception</span><span style=\"background-color:#d4e6e1;\"> of the<br>understanding, and the</span><span style=\"background-color:#eadbd8;\"> subjective conditions of</span><span style=\"background-color:#d4e6f1;\"><br>the sensuous p</span><span style=\"background-color:#d6dbdf;\">erception of the object</span><span style=\"background-color:#e2d7d5;\"> in its<br> s</span><span style=\"background-color:#fdebd0;\">ensible and se</span><span style=\"background-color:#d6dbdf;\">nsations, and al</span><span style=\"background-color:#e2d7d5;\">l the objects<br></span><span style=\"background-color:#f6ddcc;\">  in the se</span><span style=\"background-color:#d0ece7;\">nse of the ex</span><span style=\"background-color:#d4efdf;\">istence of the world,<br></span><span style=\"background-color:#e5e8e8;\">          which is </span><span style=\"background-color:#d8daef;\">in itself a pro</span><span style=\"background-color:#d0ece7;\">position which is al</span><span style=\"background-color:#e2d7d5;\">ways the same</span><span style=\"background-color:#e5e8e8;\"><br>          in </span><span style=\"background-color:#fdebd0;\">which I am consc</span>"
            ],
            "text/plain": [
              "<IPython.core.display.HTML object>"
            ]
          },
          "metadata": {
            "tags": []
          }
        },
        {
          "output_type": "display_data",
          "data": {
            "text/html": [
              "<small><p style=\"text-align:right;\">Sources: <span style=\"background-color:#ecf3cf;\">Friedrich Wilhelm Nietzsche: Ecce Homo</span>, <span style=\"background-color:#d6eaf8;\">Friedrich Wilhelm Nietzsche: The Dawn of Day</span>, <span style=\"background-color:#e5e8e8;\">David Hume: Philosophical Works, Vol. 1 of 4</span>, <span style=\"background-color:#d4e6e1;\">Immanuel Kant: The Critique of Pure Reason</span>, <span style=\"background-color:#d6dbdf;\">David Hume: A Treatise of Human Nature, Vols. 1 & 2</span>, <span style=\"background-color:#eadbd8;\">Immanuel Kant: Kant's Prolegomena</span>, <span style=\"background-color:#d4efdf;\">Arthur Schopenhauer: The World as Will and Idea (Vol. 3 of 3)</span>, <span style=\"background-color:#fae5d3;\">Rene Descartes: Selections From The Principles of Philosophy</span>, <span style=\"background-color:#fdebd0;\">David Hume: Philosophical Works, Vol. 2 of 4</span>, <span style=\"background-color:#fdebd0;\">Friedrich Nietzsche: Beyond Good and Evil</span>, <span style=\"background-color:#edebd0;\">Georg Wilhelm Hegel: The History of Philosophy: Volume 3 of 3</span>, <span style=\"background-color:#d6eaf8;\">G. W. F. Hegel: The Philosophy of Fine Art, Volume 3 of 4</span>, <span style=\"background-color:#d0ece7;\">Immanuel Kant: Fundamental Principles of the Metaphysic of Morals</span>, <span style=\"background-color:#ebdef0;\">Søren Kierkegaard: Selections from the Writings of Kierkegaard</span>, <span style=\"background-color:#d0ece7;\">G. W. F. Hegel: The Philosophy of Fine Art, Volume 4 of 4</span>, <span style=\"background-color:#f6ddcc;\">David Hume: Dialogues Concerning Natural Religion</span>, <span style=\"background-color:#d4e6f1;\">G. W. F. Hegel: The Philosophy of Fine Art, Vol. 2 of 4</span>, <span style=\"background-color:#d0ece7;\">Arthur Schopenhauer: The World as Will and Idea (Vol. 2 of 3)</span>, <span style=\"background-color:#fae5d3;\">William Wallace and G. W. F. Hegel: Prolegomena to the Study of Hegel's Philosophy</span>, <span style=\"background-color:#d4efdf;\">Friedrich Wilhelm Nietzsche: Thoughts out of Season, Part I</span>, <span style=\"background-color:#d4e6f1;\">Montaigne, Michel, Sainte-Beuve, Charles-Augustin; Renan, Ernest, Lessing, Gotthold Ephraim, Von Schiller, J.C., Kant, Immanuel, Mazzini, and Giuseppe: Literary and Philosophical Essays</span>, <span style=\"background-color:#d6dbdf;\">G. W. F. Hegel: The Philosophy of Fine Art, Vol. 1 of 4</span>, <span style=\"background-color:#e2d7d5;\">David Hume: Hume's Political Discourses</span>, <span style=\"background-color:#d6dbdf;\">Georg Wilhelm Friedrich Hegel: Hegel's Philosophy of Mind</span>, <span style=\"background-color:#f6ddcc;\">Arthur Schopenhauer: On the Fourfold Root of the Principle of Sufficient Reason and On the Will in Nature: Two Essays (revised edition)</span>, <span style=\"background-color:#d4efdf;\">G. W. Leibniz: Theodicy</span>, <span style=\"background-color:#e5e8e8;\">Immanuel Kant: Kant's Critique of Judgement</span>, <span style=\"background-color:#d8daef;\">Friedrich Nietzsche: The Will to Power, Books I and II</span>, <span style=\"background-color:#fdebd0;\">Arthur Schopenhauer: The World as Will and Idea (Vol. 1 of 3)</span></p></small>"
            ],
            "text/plain": [
              "<IPython.core.display.HTML object>"
            ]
          },
          "metadata": {
            "tags": []
          }
        },
        {
          "output_type": "stream",
          "text": [
            "================Temperature: 0.4==============\n"
          ],
          "name": "stdout"
        },
        {
          "output_type": "display_data",
          "data": {
            "text/html": [
              "<span style=\"background-color:#d6eaf8;\"><br><br><br>333.<br><br><br></span><span style=\"background-color:#ebdef0;\">THE STYLE OF </span>DOSSER.—<span style=\"background-color:#d8daef;\">As a matter of fact, the whole </span><span style=\"background-color:#d4e6e1;\">series of conditions<br></span><span style=\"background-color:#eadbd8;\">in the world of sense a</span><span style=\"background-color:#d4e6f1;\">nd the existence of the<br></span><span style=\"background-color:#d6dbdf;\">subject and the i</span><span style=\"background-color:#d4e6f1;\">mmanence of the </span><span style=\"background-color:#e5e8e8;\">object in its<br>s</span><span style=\"background-color:#d4e6f1;\">elf-subsistence and </span><span style=\"background-color:#edebd0;\">its actions. Th</span><span style=\"background-color:#edebd0;\">e same<br>is t</span><span style=\"background-color:#e5e8e8;\">he case with the concept</span><span style=\"background-color:#d4e6e1;\">ions of the understanding,<br>th</span><span style=\"background-color:#e5e8e8;\">e second and th</span><span style=\"background-color:#d6eaf8;\">e true self-</span><span style=\"background-color:#d0ece7;\">consciousness of<br>the </span><span style=\"background-color:#edebd0;\">universal and the in</span><span style=\"background-color:#edebd0;\">finite and not </span><span style=\"background-color:#ebdef0;\">the other<br></span><span style=\"background-color:#d4e6e1;\">kind of conceptions</span><span style=\"background-color:#e5e8e8;\">, but the actions of the mind</span><br><span style=\"background-color:#e2d7d5;\">are so far removed from a</span><span style=\"background-color:#fdebd0;\"> subject, and therefore<br></span><span style=\"background-color:#d4e6f1;\">contained in its </span><span style=\"background-color:#d4e6f1;\">external world and </span><span style=\"background-color:#d6eaf8;\">the intelligent<br></span><span style=\"background-color:#d6dbdf;\">and almost ex</span><span style=\"background-color:#d0ece7;\">ternal conditions i</span><span style=\"background-color:#d6dbdf;\">n the object,<br>which is </span><span style=\"background-color:#d6dbdf;\">determined as the s</span><span style=\"background-color:#edebd0;\">imple ideas of </span><span style=\"background-color:#edebd0;\">the<br>sensuous and </span><span style=\"background-color:#d6eaf8;\">merely sensuous </span><span style=\"background-color:#d4e6f1;\">existence, in o</span><span style=\"background-color:#d0ece7;\">ther<br>words the </span><span style=\"background-color:#d4efdf;\">name of the wor</span><span style=\"background-color:#d8daef;\">ld and of the </span><span style=\"background-color:#d4efdf;\">world, and<br>the</span><span style=\"background-color:#d6eaf8;\"> immediate ha</span><span style=\"background-color:#edebd0;\">rmony of the s</span><span style=\"background-color:#d0ece7;\">ubject is a concept</span><span style=\"background-color:#d4e6f1;\"><br>which is already </span><span style=\"background-color:#ebdef0;\">present in the </span><span style=\"background-color:#d6eaf8;\">external<br>world, </span><span style=\"background-color:#d0ece7;\">and is therefore </span><span style=\"background-color:#d0ece7;\">completely in </span><span style=\"background-color:#f6ddcc;\">itself,<br>and the </span><span style=\"background-color:#edebd0;\">application of the </span><span style=\"background-color:#d6eaf8;\">Ideal in its </span><span style=\"background-color:#d6eaf8;\">own<br>proper </span><span style=\"background-color:#edebd0;\">being. The </span><span style=\"background-color:#e5e8e8;\">possibility of the object</span><span style=\"background-color:#d4e6e1;\"><br>is not a concept</span><span style=\"background-color:#fdebd0;\"> of nature and in</span><span style=\"background-color:#fae5d3;\"> its own substance<br></span><span style=\"background-color:#d0ece7;\">as such a p</span>"
            ],
            "text/plain": [
              "<IPython.core.display.HTML object>"
            ]
          },
          "metadata": {
            "tags": []
          }
        },
        {
          "output_type": "display_data",
          "data": {
            "text/html": [
              "<small><p style=\"text-align:right;\">Sources: <span style=\"background-color:#d6eaf8;\">Friedrich Wilhelm Nietzsche: The Dawn of Day</span>, <span style=\"background-color:#ebdef0;\">Friedrich Wilhelm Nietzsche: Human, All-Too-Human, Part II</span>, <span style=\"background-color:#d8daef;\">Friedrich Nietzsche: The Will to Power, Books I and II</span>, <span style=\"background-color:#d4e6e1;\">Immanuel Kant: The Critique of Pure Reason</span>, <span style=\"background-color:#eadbd8;\">Immanuel Kant: Kant's Prolegomena</span>, <span style=\"background-color:#d4e6f1;\">G. W. F. Hegel: The Philosophy of Fine Art, Vol. 2 of 4</span>, <span style=\"background-color:#d6dbdf;\">G. W. F. Hegel: The Philosophy of Fine Art, Vol. 1 of 4</span>, <span style=\"background-color:#e5e8e8;\">David Hume: Philosophical Works, Vol. 1 of 4</span>, <span style=\"background-color:#edebd0;\">Arthur Schopenhauer: The Basis of Morality</span>, <span style=\"background-color:#edebd0;\">Friedrich Wilhelm Nietzsche: Twilight of the Idols - The Antichrist</span>, <span style=\"background-color:#e5e8e8;\">Immanuel Kant: Kant's Critique of Judgement</span>, <span style=\"background-color:#d0ece7;\">G. W. F. Hegel: The Philosophy of Fine Art, Volume 4 of 4</span>, <span style=\"background-color:#edebd0;\">Georg Wilhelm Hegel: The History of Philosophy: Volume 3 of 3</span>, <span style=\"background-color:#ebdef0;\">Søren Kierkegaard: Selections from the Writings of Kierkegaard</span>, <span style=\"background-color:#e2d7d5;\">David Hume: Hume's Political Discourses</span>, <span style=\"background-color:#fdebd0;\">Arthur Schopenhauer: The World as Will and Idea (Vol. 1 of 3)</span>, <span style=\"background-color:#d6eaf8;\">G. W. F. Hegel: The Philosophy of Fine Art, Volume 3 of 4</span>, <span style=\"background-color:#d6dbdf;\">Georg Wilhelm Friedrich Hegel: Hegel's Philosophy of Mind</span>, <span style=\"background-color:#d6dbdf;\">David Hume: A Treatise of Human Nature, Vols. 1 & 2</span>, <span style=\"background-color:#d4efdf;\">Arthur Schopenhauer: The World as Will and Idea (Vol. 3 of 3)</span>, <span style=\"background-color:#d6eaf8;\">Georg Wilhelm Hegel: Hegel's Lectures on the History of Philosophy: Vol. 1 of 3</span>, <span style=\"background-color:#d0ece7;\">Arthur Schopenhauer: The World as Will and Idea (Vol. 2 of 3)</span>, <span style=\"background-color:#f6ddcc;\">G. W. F. Hegel: The Logic of Hegel</span>, <span style=\"background-color:#fae5d3;\">William Wallace and G. W. F. Hegel: Prolegomena to the Study of Hegel's Philosophy</span></p></small>"
            ],
            "text/plain": [
              "<IPython.core.display.HTML object>"
            ]
          },
          "metadata": {
            "tags": []
          }
        },
        {
          "output_type": "stream",
          "text": [
            "================Temperature: 0.5==============\n"
          ],
          "name": "stdout"
        },
        {
          "output_type": "display_data",
          "data": {
            "text/html": [
              "<span style=\"background-color:#ecf3cf;\">                                                                             </span><span style=\"background-color:#ecf3cf;\">                            (Ha 2</span>85-86;<span style=\"background-color:#d8daef;\"><br>Die deutsche </span><span style=\"background-color:#d4e6e1;\">Nation im </span>R<span style=\"background-color:#eadbd8;\">ichten gelten</span><span style=\"background-color:#e5e8e8;\"> lassen. De</span>s<span style=\"background-color:#ecf3cf;\">nen<br>        </span>II. Die holds<span style=\"background-color:#edebd0;\">ter Theorie</span><span style=\"background-color:#d8daef;\"> hinzufügen </span><span style=\"background-color:#d4efdf;\">und den ge</span>bunde<span style=\"background-color:#d8daef;\">nen,<br>      </span><span style=\"background-color:#ecf3cf;\">                            B: an</span><span style=\"background-color:#d4efdf;\"> sich selbst aber nur </span><span style=\"background-color:#edebd0;\">in der<br>                       </span><span style=\"background-color:#ecf3cf;\">                                                                             </span><span style=\"background-color:#ecf3cf;\">                                                                             </span><span style=\"background-color:#ecf3cf;\">                                                                             </span><span style=\"background-color:#ecf3cf;\">                                                                             </span><span style=\"background-color:#ecf3cf;\">                                                                             </span><span style=\"background-color:#ecf3cf;\">                                                                             </span><span style=\"background-color:#ecf3cf;\">                                                                             </span> [233]<br>5<span style=\"background-color:#d4efdf;\">. Every one wi</span><span style=\"background-color:#d4efdf;\">th a freedom of</span><span style=\"background-color:#fdebd0;\"> the understanding, it is </span><span style=\"background-color:#f6ddcc;\">not confined<br></span><span style=\"background-color:#d8daef;\">                                                            </span>"
            ],
            "text/plain": [
              "<IPython.core.display.HTML object>"
            ]
          },
          "metadata": {
            "tags": []
          }
        },
        {
          "output_type": "display_data",
          "data": {
            "text/html": [
              "<small><p style=\"text-align:right;\">Sources: <span style=\"background-color:#ecf3cf;\">Immanuel Kant: Die Religion innerhalb der Grenzen der bloßen Vernunft</span>, <span style=\"background-color:#d8daef;\">Friedrich Nietzsche: Der Wille zur Macht</span>, <span style=\"background-color:#d4e6e1;\">Johann Gottlieb Fichte: Reden an die deutsche Nation</span>, <span style=\"background-color:#eadbd8;\">Georg Wilhelm Friedrich Hegel: Phänomenologie des Geistes</span>, <span style=\"background-color:#e5e8e8;\">Immanuel Kant: Von der Macht des Gem? by den blo?n Vorsatz seiner krankhaften Gef? Meister zu sein</span>, <span style=\"background-color:#edebd0;\">Immanuel Kant: Kritik der reinen Vernunft (1st Edition)</span>, <span style=\"background-color:#d4efdf;\">Immanuel Kant: Kant's gesammelte Schriften</span>, <span style=\"background-color:#d8daef;\">Arthur Schopenhauer: Aphorismen zur Lebensweisheit</span>, <span style=\"background-color:#d4efdf;\">Arthur Schopenhauer: The World as Will and Idea (Vol. 3 of 3)</span>, <span style=\"background-color:#d4efdf;\">G. W. Leibniz: Theodicy</span>, <span style=\"background-color:#fdebd0;\">Arthur Schopenhauer: The World as Will and Idea (Vol. 1 of 3)</span>, <span style=\"background-color:#f6ddcc;\">G. W. F. Hegel: The Logic of Hegel</span></p></small>"
            ],
            "text/plain": [
              "<IPython.core.display.HTML object>"
            ]
          },
          "metadata": {
            "tags": []
          }
        },
        {
          "output_type": "stream",
          "text": [
            "================Temperature: 0.6==============\n"
          ],
          "name": "stdout"
        },
        {
          "output_type": "display_data",
          "data": {
            "text/html": [
              "D<span style=\"background-color:#e5e8e8;\">a sich diese </span><span style=\"background-color:#d8daef;\">dionysische </span><span style=\"background-color:#e2d7d5;\">Dinge sein m</span><span style=\"background-color:#ebdef0;\">uß, welches </span><span style=\"background-color:#d4e6f1;\">der Stoff </span>noch<br><span style=\"background-color:#ecf3cf;\">zu thun oder </span><span style=\"background-color:#d4efdf;\">ein solches wir</span><span style=\"background-color:#e2d7d5;\">d nicht bloß die</span>s<span style=\"background-color:#d8daef;\">es<br>Inhalts der </span><span style=\"background-color:#d8daef;\">Beziehung auf die Be</span><span style=\"background-color:#d8daef;\">deutung und den</span><span style=\"background-color:#d4e6e1;\"><br>Sinn für </span><span style=\"background-color:#d8daef;\">sich selbst ist, d</span><span style=\"background-color:#e2d7d5;\">er aber nur durch </span><span style=\"background-color:#eadbd8;\">ihn<br>gesetzt</span><span style=\"background-color:#d4e6e1;\">e Bestimmtheit gegen</span><span style=\"background-color:#eadbd8;\">übersteht.  </span><span style=\"background-color:#d8daef;\">In der<br>Erscheinung </span><span style=\"background-color:#d8daef;\">ist nichts anderes als </span><span style=\"background-color:#e2d7d5;\">in der anderen<br></span><span style=\"background-color:#e2d7d5;\">ist, so ist dieses </span><span style=\"background-color:#eadbd8;\">das Anderssein als </span><span style=\"background-color:#d8daef;\">solches<br>ge</span><span style=\"background-color:#eadbd8;\">setzt ist.<br><br>Das </span><span style=\"background-color:#d4e6e1;\">Subjekt ist nur in</span><span style=\"background-color:#d4e6f1;\"> der That von der </span><span style=\"background-color:#d8daef;\">Einheit des Seyns<br>und des </span><span style=\"background-color:#d8daef;\">Inhaltes selbst</span><span style=\"background-color:#d8daef;\">, des Quantums </span><span style=\"background-color:#d4efdf;\">überhaupt<br>an</span><span style=\"background-color:#e2d7d5;\"> ihrer Verknüpfung </span><span style=\"background-color:#d8daef;\">bezieht sich auf sich selbst</span>.<br>Die<span style=\"background-color:#d4e6f1;\">ser gemacht</span><span style=\"background-color:#d4e6e1;\">e Unterschied ist daher nur</span> ein<br>_Genußey<span style=\"background-color:#d4e6e1;\">te_, oder _</span><span style=\"background-color:#eadbd8;\">einzelnes_ </span><span style=\"background-color:#d4e6e1;\">und _für sich_ </span><span style=\"background-color:#d4efdf;\">werden<br>soll, so </span><span style=\"background-color:#eadbd8;\">ist das Element des </span><span style=\"background-color:#d4e6e1;\">_Begriffs_ </span>zum _Bewi<span style=\"background-color:#d4efdf;\">re<br>Grundlage</span><span style=\"background-color:#d4e6e1;\">_.  Jenes </span><span style=\"background-color:#ecf3cf;\">ist ihre _</span>Kn<span style=\"background-color:#eadbd8;\">aft_ des G</span><span style=\"background-color:#d8daef;\">esetztseyns<br></span><span style=\"background-color:#d6dbdf;\">des Wesens </span><span style=\"background-color:#d8daef;\">überhaupt; denn </span><span style=\"background-color:#d4e6e1;\">in dieser E</span><span style=\"background-color:#d4e6e1;\">xistenz,<br>der a</span><span style=\"background-color:#d8daef;\">bsolute Unterschied </span><span style=\"background-color:#d4e6e1;\">des Geistes ist da</span>h<span style=\"background-color:#eadbd8;\">er in<br>sich zurückge</span><span style=\"background-color:#d8daef;\">kehrt.  Diese</span><span style=\"background-color:#d4e6e1;\"><br>_Genesis </span><span style=\"background-color:#ecf3cf;\">mit derselben</span><span style=\"background-color:#eadbd8;\">_ ihres Wesens</span><span style=\"background-color:#d4e6e1;\"> in diese<br></span><span style=\"background-color:#d4efdf;\">bewegende </span><span style=\"background-color:#d8daef;\">Gesetze sind, </span><span style=\"background-color:#d8daef;\">welche das An</span><span style=\"background-color:#d4e6e1;\">dersseyn der</span><br>_<span style=\"background-color:#d4e6e1;\">realen Einheit</span><span style=\"background-color:#eadbd8;\">_ des Wissens</span><span style=\"background-color:#d4e6e1;\">_ ist.  Wenn die </span>Auflösung"
            ],
            "text/plain": [
              "<IPython.core.display.HTML object>"
            ]
          },
          "metadata": {
            "tags": []
          }
        },
        {
          "output_type": "display_data",
          "data": {
            "text/html": [
              "<small><p style=\"text-align:right;\">Sources: <span style=\"background-color:#e5e8e8;\">Immanuel Kant: Von der Macht des Gem? by den blo?n Vorsatz seiner krankhaften Gef? Meister zu sein</span>, <span style=\"background-color:#d8daef;\">Friedrich Nietzsche: Der Wille zur Macht</span>, <span style=\"background-color:#e2d7d5;\">Immanuel Kant: Kritik der reinen Vernunft (2nd Edition)</span>, <span style=\"background-color:#ebdef0;\">Immanuel Kant: Zum ewigen Frieden</span>, <span style=\"background-color:#d4e6f1;\">Gottfried Wilhelm Leibniz: Leibnitz' Monadologie</span>, <span style=\"background-color:#ecf3cf;\">Immanuel Kant: Die Religion innerhalb der Grenzen der bloßen Vernunft</span>, <span style=\"background-color:#d4efdf;\">Immanuel Kant: Kant's gesammelte Schriften</span>, <span style=\"background-color:#d8daef;\">Georg Wilhelm Friedrich Hegel: Wissenschaft der Logik, Erster Teil</span>, <span style=\"background-color:#d4e6e1;\">Johann Gottlieb Fichte: Reden an die deutsche Nation</span>, <span style=\"background-color:#eadbd8;\">Georg Wilhelm Friedrich Hegel: Phänomenologie des Geistes</span>, <span style=\"background-color:#d4e6e1;\">Georg Wilhelm Friedrich Hegel: Wissenshaft der Logik, Vol. 2</span>, <span style=\"background-color:#e2d7d5;\">Immanuel Kant: Tr?e eines Geistersehers, erl?ert by Tr?e der Metaphysik</span>, <span style=\"background-color:#d4e6f1;\">Friedrich Wilhelm Nietzsche: Menschliches, Allzumenschliches</span>, <span style=\"background-color:#d6dbdf;\">G. W. F. Hegel: The Philosophy of Fine Art, Vol. 1 of 4</span></p></small>"
            ],
            "text/plain": [
              "<IPython.core.display.HTML object>"
            ]
          },
          "metadata": {
            "tags": []
          }
        },
        {
          "output_type": "stream",
          "text": [
            "================Temperature: 0.7==============\n"
          ],
          "name": "stdout"
        },
        {
          "output_type": "display_data",
          "data": {
            "text/html": [
              "New<span style=\"background-color:#e2d7d5;\"> doctors a</span><span style=\"background-color:#e5e8e8;\">re derived from the same p</span><span style=\"background-color:#ebdef0;\">oint of view the </span><span style=\"background-color:#d6dbdf;\">immanent s</span><span style=\"background-color:#d4efdf;\">ubstance<br>of the world</span><span style=\"background-color:#edebd0;\">, in the third place, a</span><span style=\"background-color:#eadbd8;\">s a necessary<br>con</span><span style=\"background-color:#ebdef0;\">nection and re</span><span style=\"background-color:#e2d7d5;\">public of </span><span style=\"background-color:#d0ece7;\">experience becomes</span><span style=\"background-color:#d6dbdf;\"><br>part of the ob</span><span style=\"background-color:#d4e6f1;\">servation of the conditions </span><span style=\"background-color:#d4e6f1;\">of<br>the gods.</span><span style=\"background-color:#edebd0;\"><br><br>The grounds o</span><span style=\"background-color:#d4e6e1;\">f the parts of the w</span><span style=\"background-color:#d0ece7;\">orld the p</span><span style=\"background-color:#d4efdf;\">ossibility of<br>such a s</span>e<span style=\"background-color:#d4e6e1;\">ries is in</span><span style=\"background-color:#edebd0;\">dependent of the i</span>mmediat<span style=\"background-color:#d0ece7;\">e<br>world in space and </span><span style=\"background-color:#d4e6e1;\">time. But as the </span><span style=\"background-color:#d6dbdf;\">thing in itself<br></span><span style=\"background-color:#edebd0;\">is one and the same </span><span style=\"background-color:#d6eaf8;\">articulation and a</span><span style=\"background-color:#edebd0;\">bsolute existence</span><span style=\"background-color:#d6eaf8;\"><br>of all the m</span><span style=\"background-color:#d0ece7;\">asterpieces of </span><span style=\"background-color:#d6eaf8;\">gods, but </span><span style=\"background-color:#d4efdf;\">we are no<br>longer </span><span style=\"background-color:#d0ece7;\">restricted to the mor</span><span style=\"background-color:#e2d7d5;\">al law. Thus</span><span style=\"background-color:#d4efdf;\"> the one<br>is t</span><span style=\"background-color:#fae5d3;\">hen of the </span><span style=\"background-color:#fae5d3;\">other, and from the </span><span style=\"background-color:#f6ddcc;\">implicit in the</span><span style=\"background-color:#fdebd0;\"><br>sphere of the possib</span><span style=\"background-color:#d4efdf;\">ility of an object </span><span style=\"background-color:#d6eaf8;\">of the senses<br></span><span style=\"background-color:#d4efdf;\"> considerations with regard to </span><span style=\"background-color:#edebd0;\">reason, which<br></span><span style=\"background-color:#e5e8e8;\">  he must be </span><span style=\"background-color:#d0ece7;\">distinguished from that </span><span style=\"background-color:#e2d7d5;\">nature, which<br></span><span style=\"background-color:#e5e8e8;\">  determined by </span><span style=\"background-color:#d4e6e1;\">the internal sense, b</span><span style=\"background-color:#d6eaf8;\">e in a position<br></span> <span style=\"background-color:#d0ece7;\"> of inferred </span><span style=\"background-color:#e2d7d5;\">greater event</span><span style=\"background-color:#d0ece7;\">s in the process of</span><span style=\"background-color:#d0ece7;\"><br>          cause</span><span style=\"background-color:#d4e6e1;\"> of viewing them, </span>add<span style=\"background-color:#eadbd8;\">s pure concepts </span><span style=\"background-color:#edebd0;\">of the understanding<br></span><span style=\"background-color:#d8daef;\">                                                      </span>{BOOK (En<span style=\"background-color:#d6dbdf;\">.<br>  SECT. V.    OF THE I</span>NFRESS "
            ],
            "text/plain": [
              "<IPython.core.display.HTML object>"
            ]
          },
          "metadata": {
            "tags": []
          }
        },
        {
          "output_type": "display_data",
          "data": {
            "text/html": [
              "<small><p style=\"text-align:right;\">Sources: <span style=\"background-color:#e2d7d5;\">Friedrich Wilhelm Nietzsche: The Genealogy of Morals</span>, <span style=\"background-color:#e5e8e8;\">David Hume: Philosophical Works, Vol. 1 of 4</span>, <span style=\"background-color:#ebdef0;\">Søren Kierkegaard: Selections from the Writings of Kierkegaard</span>, <span style=\"background-color:#d6dbdf;\">G. W. F. Hegel: The Philosophy of Fine Art, Vol. 1 of 4</span>, <span style=\"background-color:#d4efdf;\">Arthur Schopenhauer: The World as Will and Idea (Vol. 3 of 3)</span>, <span style=\"background-color:#edebd0;\">Georg Wilhelm Hegel: The History of Philosophy: Volume 3 of 3</span>, <span style=\"background-color:#eadbd8;\">Immanuel Kant: Kant's Prolegomena</span>, <span style=\"background-color:#ebdef0;\">Friedrich Nietzsche: The Joyful Wisdom</span>, <span style=\"background-color:#e2d7d5;\">David Hume: Hume's Political Discourses</span>, <span style=\"background-color:#d0ece7;\">David Hume and L. A. Selby-Bigge: Enquiry Concerning Human Understanding</span>, <span style=\"background-color:#d4e6f1;\">G. W. F. Hegel: The Philosophy of Fine Art, Vol. 2 of 4</span>, <span style=\"background-color:#d4e6e1;\">Immanuel Kant: The Critique of Pure Reason</span>, <span style=\"background-color:#d0ece7;\">Georg Wilhelm Hegel: Hegel's Lectures on the History of Philosophy: Vol. 2 of 3</span>, <span style=\"background-color:#d4efdf;\">Immanuel Kant: The Critique of Practical Reason</span>, <span style=\"background-color:#d0ece7;\">Arthur Schopenhauer: The World as Will and Idea (Vol. 2 of 3)</span>, <span style=\"background-color:#d6dbdf;\">Friedrich Nietzsche: Early Greek Philosophy & Other Essays</span>, <span style=\"background-color:#d6eaf8;\">G. W. F. Hegel: The Philosophy of Fine Art, Volume 3 of 4</span>, <span style=\"background-color:#d0ece7;\">G. W. F. Hegel: The Philosophy of Fine Art, Volume 4 of 4</span>, <span style=\"background-color:#d4efdf;\">G. W. Leibniz: Theodicy</span>, <span style=\"background-color:#fae5d3;\">William Wallace and G. W. F. Hegel: Prolegomena to the Study of Hegel's Philosophy</span>, <span style=\"background-color:#f6ddcc;\">G. W. F. Hegel: The Logic of Hegel</span>, <span style=\"background-color:#fdebd0;\">Arthur Schopenhauer: The World as Will and Idea (Vol. 1 of 3)</span>, <span style=\"background-color:#e5e8e8;\">David Hume: An Enquiry Concerning the Principles of Morals</span>, <span style=\"background-color:#d8daef;\">Friedrich Nietzsche: Der Wille zur Macht</span>, <span style=\"background-color:#d6dbdf;\">David Hume: A Treatise of Human Nature, Vols. 1 & 2</span></p></small>"
            ],
            "text/plain": [
              "<IPython.core.display.HTML object>"
            ]
          },
          "metadata": {
            "tags": []
          }
        },
        {
          "output_type": "stream",
          "text": [
            "================Temperature: 0.8==============\n"
          ],
          "name": "stdout"
        },
        {
          "output_type": "display_data",
          "data": {
            "text/html": [
              "<br>593.<br><br>*Typus\"<span style=\"background-color:#d4efdf;\"> dessen, was im </span>genug<span style=\"background-color:#ecf3cf;\"> benutzt werden </span><span style=\"background-color:#ecf3cf;\">soll, eine bloße </span><span style=\"background-color:#eadbd8;\">Notwendigkeit<br>der </span><span style=\"background-color:#d6dbdf;\">Ansicht, zu</span><span style=\"background-color:#d8daef;\"> der eine no</span>tw<span style=\"background-color:#d4e6e1;\">endige Natur</span><span style=\"background-color:#d8daef;\">e der<br>Bestimmungen de</span><span style=\"background-color:#d4e6e1;\">rselben, mit dem </span>schon ausschußen<span style=\"background-color:#e2d7d5;\">den<br>Funktionen </span><span style=\"background-color:#d4efdf;\">allererst zu </span><span style=\"background-color:#ecf3cf;\">sein, als d</span><span style=\"background-color:#d8daef;\">urch seine<br></span><span style=\"background-color:#ecf3cf;\">_Gleichheit_ </span><span style=\"background-color:#fae5d3;\">zur Wahrheit, d</span><span style=\"background-color:#ecf3cf;\">aß er seinen </span>Inhal<span style=\"background-color:#d4e6e1;\">t<br>unmittelbar </span><span style=\"background-color:#ecf3cf;\">in seiner nicht </span><span style=\"background-color:#d8daef;\">festgehaltenen </span><span style=\"background-color:#d4e6e1;\">Bestimmtheit,<br>sondern </span><span style=\"background-color:#d8daef;\">sich als in sich</span><span style=\"background-color:#d8daef;\"> reflektirtes </span>H<span style=\"background-color:#d4e6e1;\">ausgesetzte<br></span>is<span style=\"background-color:#d4e6f1;\">t, beschränkt </span><span style=\"background-color:#d4e6e1;\">sich also als </span><span style=\"background-color:#d4e6e1;\">aus der Selbst</span><span style=\"background-color:#d4e6f1;\">erhaltung<br>ver</span><span style=\"background-color:#eadbd8;\">schwindend s</span><span style=\"background-color:#e2d7d5;\">ein mag, n</span><span style=\"background-color:#e2d7d5;\">ennen wir nicht<br></span><span style=\"background-color:#d8daef;\">schließen, s</span><span style=\"background-color:#d4e6f1;\">ich darauf an</span><span style=\"background-color:#d8daef;\">gewendet, s</span><span style=\"background-color:#d8daef;\">o scheint<br>es</span><span style=\"background-color:#edebd0;\">, als Erkenntnisse</span><span style=\"background-color:#fae5d3;\"> entspringen muß, i</span><span style=\"background-color:#fae5d3;\">ch meine<br>n</span>e<span style=\"background-color:#ecf3cf;\">nnen: daß </span><span style=\"background-color:#eadbd8;\">nach seiner K</span><span style=\"background-color:#d4e6f1;\">raft an ih</span><span style=\"background-color:#d8daef;\">rer Möglichkeit<br></span><span style=\"background-color:#ecf3cf;\">angenommen werden müssen, </span><span style=\"background-color:#d4e6f1;\">weil sich au</span>ch me<span style=\"background-color:#ecf3cf;\">hren       b </span>129-20).<span style=\"background-color:#ecf3cf;\"><br>leisten s</span>ol<span style=\"background-color:#fae5d3;\">lten will, wi</span><span style=\"background-color:#ecf3cf;\">rd auch nicht </span>mit Begabternem<br>wirkt<span style=\"background-color:#e2d7d5;\">e, den man </span><span style=\"background-color:#d4e6f1;\">sich zu diesem </span>Gru<span style=\"background-color:#d4e6e1;\">nde finden,</span><span style=\"background-color:#ebdef0;\"><br>ohne daß diese</span><span style=\"background-color:#d8daef;\"> erste Ausgabe </span><span style=\"background-color:#d4e6f1;\">im Schließen </span><span style=\"background-color:#ebdef0;\">bestandene</span><span style=\"background-color:#ebdef0;\"><br>Menschen ihre</span><span style=\"background-color:#d4e6e1;\">r Endlichkeit </span>verl<span style=\"background-color:#eadbd8;\">etzen; und </span>mit<span style=\"background-color:#d4e6e1;\"> dem<br>Satze</span>,<span style=\"background-color:#d4e6e1;\"> das Gefährlichste</span><span style=\"background-color:#d4efdf;\">, gemacht </span><span style=\"background-color:#e2d7d5;\">hat, man d</span><span style=\"background-color:#d4e6f1;\">araus folgt,</span><span style=\"background-color:#d4e6f1;\"><br>weil sie so</span><span style=\"background-color:#d4e6e1;\">nst aus de</span>m Chor<span style=\"background-color:#d8daef;\">e, bei wenige</span><span style=\"background-color:#ecf3cf;\">n Fleische</span>n<br>"
            ],
            "text/plain": [
              "<IPython.core.display.HTML object>"
            ]
          },
          "metadata": {
            "tags": []
          }
        },
        {
          "output_type": "display_data",
          "data": {
            "text/html": [
              "<small><p style=\"text-align:right;\">Sources: <span style=\"background-color:#d4efdf;\">Immanuel Kant: Kant's gesammelte Schriften</span>, <span style=\"background-color:#ecf3cf;\">Immanuel Kant: Die Religion innerhalb der Grenzen der bloßen Vernunft</span>, <span style=\"background-color:#eadbd8;\">Georg Wilhelm Friedrich Hegel: Phänomenologie des Geistes</span>, <span style=\"background-color:#d6dbdf;\">Friedrich Wilhelm Nietzsche: Die Geburt der Tragoedie</span>, <span style=\"background-color:#d8daef;\">Arthur Schopenhauer: Aphorismen zur Lebensweisheit</span>, <span style=\"background-color:#d4e6e1;\">Georg Wilhelm Friedrich Hegel: Wissenshaft der Logik, Vol. 2</span>, <span style=\"background-color:#d8daef;\">Georg Wilhelm Friedrich Hegel: Wissenschaft der Logik, Erster Teil</span>, <span style=\"background-color:#d4e6e1;\">Johann Gottlieb Fichte: Reden an die deutsche Nation</span>, <span style=\"background-color:#e2d7d5;\">Immanuel Kant: Kritik der reinen Vernunft (2nd Edition)</span>, <span style=\"background-color:#d8daef;\">Friedrich Nietzsche: Der Wille zur Macht</span>, <span style=\"background-color:#fae5d3;\">Friedrick Wilhelm Nietzsche: Jenseits von Gut und Boese</span>, <span style=\"background-color:#d4e6f1;\">Gottfried Wilhelm Leibniz: Leibnitz' Monadologie</span>, <span style=\"background-color:#edebd0;\">Immanuel Kant: Kritik der reinen Vernunft (1st Edition)</span>, <span style=\"background-color:#fae5d3;\">Immanuel Kant: Was hei?: sich im Denken orientieren?</span>, <span style=\"background-color:#ecf3cf;\">Immanuel Kant: Beobachtungen ? das Gef?des Sch? und Erhabenen</span>, <span style=\"background-color:#d4e6f1;\">Friedrich Wilhelm Nietzsche: Menschliches, Allzumenschliches</span>, <span style=\"background-color:#ebdef0;\">Immanuel Kant: Zum ewigen Frieden</span>, <span style=\"background-color:#ecf3cf;\">Friedrich Wilhelm Nietzsche: Ecce Homo</span></p></small>"
            ],
            "text/plain": [
              "<IPython.core.display.HTML object>"
            ]
          },
          "metadata": {
            "tags": []
          }
        },
        {
          "output_type": "stream",
          "text": [
            "================Temperature: 0.9==============\n"
          ],
          "name": "stdout"
        },
        {
          "output_type": "display_data",
          "data": {
            "text/html": [
              "<span style=\"background-color:#fae5d3;\">And so long as </span>one nause<span style=\"background-color:#e5e8e8;\">as useful to human </span><span style=\"background-color:#d6eaf8;\">beings, these </span>reas<span style=\"background-color:#d6dbdf;\">ons,<br>for example</span><span style=\"background-color:#fae5d3;\">: all the </span><span style=\"background-color:#d8daef;\">natural instincts </span><span style=\"background-color:#d8daef;\">had to pay<br></span><span style=\"background-color:#d0ece7;\">again together</span><span style=\"background-color:#f6ddcc;\"> by the fact that al</span><span style=\"background-color:#f6ddcc;\">though<br>we can </span><span style=\"background-color:#d0ece7;\">possibly de</span><span style=\"background-color:#fdebd0;\">stroy that </span><span style=\"background-color:#e5e8e8;\">of magnitude the </span>truth<span style=\"background-color:#d6eaf8;\"><br>is external</span><span style=\"background-color:#e2d7d5;\">. But these s</span><span style=\"background-color:#d4e6f1;\">pecific grad</span><span style=\"background-color:#d6eaf8;\">ations are for</span><span style=\"background-color:#fae5d3;\"><br>certain an</span>ima<span style=\"background-color:#d4e6e1;\">ls like the s</span>onne<span style=\"background-color:#d4efdf;\">st Lessing</span><span style=\"background-color:#d0ece7;\"> and Homer</span><span style=\"background-color:#d6eaf8;\"><br>at last a</span><span style=\"background-color:#d6eaf8;\">llow of the </span><span style=\"background-color:#d0ece7;\">common human </span><span style=\"background-color:#e5e8e8;\">distinct idea in</span><br>assu<span style=\"background-color:#e2d7d5;\">minate one </span>or two<span style=\"background-color:#fdebd0;\"> empty when </span><span style=\"background-color:#d6dbdf;\">he has created</span><span style=\"background-color:#e5e8e8;\"><br>to instruct us</span><span style=\"background-color:#d6eaf8;\">. The neare</span><span style=\"background-color:#fdebd0;\">r is sufficient to </span><span style=\"background-color:#e5e8e8;\">form<br>     </span><span style=\"background-color:#d6dbdf;\">whereby form</span><span style=\"background-color:#d6eaf8;\"> an abstraction </span><span style=\"background-color:#d6dbdf;\">lack the d</span><span style=\"background-color:#d6dbdf;\">ivine<br>      </span>   <span style=\"background-color:#fdebd0;\"> except with </span><span style=\"background-color:#d6dbdf;\">political philosophy</span><span style=\"background-color:#e2d7d5;\">, and that of a</span><span style=\"background-color:#d8daef;\"><br>          d</span>emagogue),<span style=\"background-color:#d6eaf8;\"> both obli</span><span style=\"background-color:#d4efdf;\">terated for</span><span style=\"background-color:#d4e6e1;\"> the purpose of<br></span><span style=\"background-color:#d0ece7;\">          act</span><span style=\"background-color:#d0ece7;\">ual life, o</span><span style=\"background-color:#fae5d3;\">f coming to the </span><span style=\"background-color:#d0ece7;\">conjunction m</span><span style=\"background-color:#d0ece7;\">ight perhaps<br></span><span style=\"background-color:#e5e8e8;\">     of the ma</span><span style=\"background-color:#e5e8e8;\">rked differences </span><span style=\"background-color:#e2d7d5;\">of my country</span><span style=\"background-color:#e5e8e8;\">.<br>     I have </span><span style=\"background-color:#f6ddcc;\">an inquiry a</span>t<span style=\"background-color:#f6ddcc;\"> extracts from th</span>a<span style=\"background-color:#fae5d3;\">t<br>    The </span>maj<span style=\"background-color:#d0ece7;\">or however</span><span style=\"background-color:#eadbd8;\">, I did not </span><span style=\"background-color:#e5e8e8;\">so much explain</span><span style=\"background-color:#d6dbdf;\"><br>     ourselves </span>so hi<span style=\"background-color:#eadbd8;\">gh, I must </span>as<span style=\"background-color:#d0ece7;\">k, and may be </span><span style=\"background-color:#e2d7d5;\">ignorant<br> </span>    W<span style=\"background-color:#f6ddcc;\">ith its effects </span><span style=\"background-color:#fdebd0;\">from common</span>s<span style=\"background-color:#e2d7d5;\">ense power</span><span style=\"background-color:#d6dbdf;\">s, and the<br>     </span><span style=\"background-color:#d0ece7;\">passion for some</span><span style=\"background-color:#fdebd0;\">thing in n</span>orthern sleep<span style=\"background-color:#ecf3cf;\"> run in the </span>pas"
            ],
            "text/plain": [
              "<IPython.core.display.HTML object>"
            ]
          },
          "metadata": {
            "tags": []
          }
        },
        {
          "output_type": "display_data",
          "data": {
            "text/html": [
              "<small><p style=\"text-align:right;\">Sources: <span style=\"background-color:#fae5d3;\">William Wallace and G. W. F. Hegel: Prolegomena to the Study of Hegel's Philosophy</span>, <span style=\"background-color:#e5e8e8;\">David Hume: An Enquiry Concerning the Principles of Morals</span>, <span style=\"background-color:#d6eaf8;\">Friedrich Wilhelm Nietzsche: The Dawn of Day</span>, <span style=\"background-color:#d6dbdf;\">G. W. F. Hegel: The Philosophy of Fine Art, Vol. 1 of 4</span>, <span style=\"background-color:#d8daef;\">Friedrich Nietzsche: The Will to Power, Books I and II</span>, <span style=\"background-color:#d0ece7;\">Georg Wilhelm Hegel: Hegel's Lectures on the History of Philosophy: Vol. 2 of 3</span>, <span style=\"background-color:#f6ddcc;\">Arthur Schopenhauer: On the Fourfold Root of the Principle of Sufficient Reason and On the Will in Nature: Two Essays (revised edition)</span>, <span style=\"background-color:#f6ddcc;\">G. W. F. Hegel: The Logic of Hegel</span>, <span style=\"background-color:#d0ece7;\">Immanuel Kant: Fundamental Principles of the Metaphysic of Morals</span>, <span style=\"background-color:#fdebd0;\">David Hume: Philosophical Works, Vol. 2 of 4</span>, <span style=\"background-color:#e5e8e8;\">Immanuel Kant: Kant's Critique of Judgement</span>, <span style=\"background-color:#d6eaf8;\">G. W. F. Hegel: The Philosophy of Fine Art, Volume 3 of 4</span>, <span style=\"background-color:#e2d7d5;\">David Hume: Hume's Political Discourses</span>, <span style=\"background-color:#d4e6f1;\">G. W. F. Hegel: The Philosophy of Fine Art, Vol. 2 of 4</span>, <span style=\"background-color:#d4e6e1;\">Friedrich Nietzsche: Thoughts Out of Season, Part 2</span>, <span style=\"background-color:#d4efdf;\">Friedrich Wilhelm Nietzsche: Thoughts out of Season, Part I</span>, <span style=\"background-color:#d0ece7;\">G. W. F. Hegel: The Philosophy of Fine Art, Volume 4 of 4</span>, <span style=\"background-color:#e5e8e8;\">David Hume: Philosophical Works, Vol. 1 of 4</span>, <span style=\"background-color:#e2d7d5;\">Friedrich Wilhelm Nietzsche: The Genealogy of Morals</span>, <span style=\"background-color:#fdebd0;\">Arthur Schopenhauer: The World as Will and Idea (Vol. 1 of 3)</span>, <span style=\"background-color:#d6dbdf;\">Georg Wilhelm Friedrich Hegel: Hegel's Philosophy of Mind</span>, <span style=\"background-color:#d8daef;\">Friedrich Nietzsche: Der Wille zur Macht</span>, <span style=\"background-color:#d6eaf8;\">John Locke: Second Treatise of Government</span>, <span style=\"background-color:#d4e6e1;\">Friedrich Nietzsche: The Will to Power, Books III and IV</span>, <span style=\"background-color:#d0ece7;\">David Hume and L. A. Selby-Bigge: Enquiry Concerning Human Understanding</span>, <span style=\"background-color:#d0ece7;\">Arthur Schopenhauer: The World as Will and Idea (Vol. 2 of 3)</span>, <span style=\"background-color:#fae5d3;\">Immanuel Kant: Perpetual Peace</span>, <span style=\"background-color:#eadbd8;\">Hubert Crackanthorpe: Vignettes</span>, <span style=\"background-color:#d6dbdf;\">David Hume: A Treatise of Human Nature, Vols. 1 & 2</span>, <span style=\"background-color:#eadbd8;\">David Hume: Essays</span>, <span style=\"background-color:#ecf3cf;\">Rene Descartes: Discourse of a Method for the Well Guiding of Reason</span></p></small>"
            ],
            "text/plain": [
              "<IPython.core.display.HTML object>"
            ]
          },
          "metadata": {
            "tags": []
          }
        },
        {
          "output_type": "stream",
          "text": [
            "================Temperature: 1.0==============\n"
          ],
          "name": "stdout"
        },
        {
          "output_type": "display_data",
          "data": {
            "text/html": [
              "W<span style=\"background-color:#fae5d3;\">ehe thut, d</span><span style=\"background-color:#fae5d3;\">en Instinkt der </span><span style=\"background-color:#ecf3cf;\">Unabhängigkeit von </span><span style=\"background-color:#d4e6f1;\">Kräften? D</span>a<span style=\"background-color:#ecf3cf;\"> muss er a</span>llein<br>wa<span style=\"background-color:#e2d7d5;\">rft, wenn </span><span style=\"background-color:#d8daef;\">ich diese </span>Lichterpirkungswechsü<span style=\"background-color:#d4e6f1;\">ren dagegen </span><span style=\"background-color:#ecf3cf;\">zwar<br>nicht, </span><span style=\"background-color:#d8daef;\">daß nicht ein </span><span style=\"background-color:#d4efdf;\">Unbedeutendes </span>tei<span style=\"background-color:#eadbd8;\">ls von<br>der </span><span style=\"background-color:#d8daef;\">selben Form </span>wül<span style=\"background-color:#d4e6f1;\">en wird und da</span><span style=\"background-color:#d4e6e1;\"> ist die obje</span><span style=\"background-color:#d4efdf;\">ctive<br>Realität des </span>Raum<span style=\"background-color:#d4e6e1;\">es, als die </span><span style=\"background-color:#ecf3cf;\">mit dem sich </span><span style=\"background-color:#d8daef;\">Wahrhaftige</span><span style=\"background-color:#e2d7d5;\"><br>weglassen</span><span style=\"background-color:#ecf3cf;\">. Wenn man dieses </span><span style=\"background-color:#d4efdf;\">nun wiederum </span>so f<span style=\"background-color:#e2d7d5;\">ein,<br>bloß </span><span style=\"background-color:#d4e6e1;\">als Methode </span><span style=\"background-color:#e2d7d5;\">gehört; denn</span><span style=\"background-color:#d4e6e1;\"> dieser wichtige</span><span style=\"background-color:#d4efdf;\"><br>Mannigfaltigkeit der </span><span style=\"background-color:#edebd0;\">Vorstellungsart ist</span><span style=\"background-color:#d8daef;\"> also<br>eine Form </span><span style=\"background-color:#d4e6e1;\">der Anschauung und d</span>i<span style=\"background-color:#e2d7d5;\">e reine<br>Form</span><span style=\"background-color:#d4e6e1;\">, sowohl der</span><span style=\"background-color:#ecf3cf;\">selben noch in </span><span style=\"background-color:#ecf3cf;\">demjenigen, was </span><span style=\"background-color:#ecf3cf;\">unter<br>allen </span><span style=\"background-color:#d4e6e1;\">kindlichen </span><span style=\"background-color:#e2d7d5;\">Substantiale</span><span style=\"background-color:#ecf3cf;\">n, als ob ein </span><span style=\"background-color:#d8daef;\">Philosoph<br></span><span style=\"background-color:#e2d7d5;\">nicht geschehen könnte, </span><span style=\"background-color:#d8daef;\">so ist ihre </span><span style=\"background-color:#d4e6f1;\">Natur den<br></span><span style=\"background-color:#ecf3cf;\">Gedanken nie</span><span style=\"background-color:#d4e6f1;\">derschrieb, </span><span style=\"background-color:#ecf3cf;\">um auch al</span>l<span style=\"background-color:#ecf3cf;\">e bloße<br>Ver</span><span style=\"background-color:#d8daef;\">mischungen</span>anfaßt<span style=\"background-color:#fae5d3;\">e immer zu b</span><span style=\"background-color:#ecf3cf;\">ringen, Ge</span>schmack<span style=\"background-color:#d8daef;\"><br>ausgesprochen werden, als </span><span style=\"background-color:#d4efdf;\">welches also </span>vorhin<span style=\"background-color:#ecf3cf;\"><br>beleidigt </span><span style=\"background-color:#d8daef;\">sind, das G</span>lück<span style=\"background-color:#d8daef;\"> im umgekehrten </span><span style=\"background-color:#d4e6f1;\">Wesen<br>zusammen</span><span style=\"background-color:#d4e6e1;\">gefallen d</span>. h.<span style=\"background-color:#d8daef;\"> als wesentliche Form</span><span style=\"background-color:#d8daef;\"><br>nicht sey</span><span style=\"background-color:#d8daef;\">n soll, nämlich d</span>ie gladlik<span style=\"background-color:#e2d7d5;\">is und intell</span>ektuell<span style=\"background-color:#d4e6e1;\">e<br>Gewißheit seine</span><span style=\"background-color:#d4e6e1;\">s Ansichseyns</span>. <span style=\"background-color:#d8daef;\"> Das Christentum</span><br>h<span style=\"background-color:#fae5d3;\">änge in sich</span> fragend (*daß<span style=\"background-color:#e2d7d5;\"> naturalist</span>an\", immer "
            ],
            "text/plain": [
              "<IPython.core.display.HTML object>"
            ]
          },
          "metadata": {
            "tags": []
          }
        },
        {
          "output_type": "display_data",
          "data": {
            "text/html": [
              "<small><p style=\"text-align:right;\">Sources: <span style=\"background-color:#fae5d3;\">Friedrick Wilhelm Nietzsche: Jenseits von Gut und Boese</span>, <span style=\"background-color:#ecf3cf;\">Immanuel Kant: Die Religion innerhalb der Grenzen der bloßen Vernunft</span>, <span style=\"background-color:#d4e6f1;\">Gottfried Wilhelm Leibniz: Leibnitz' Monadologie</span>, <span style=\"background-color:#ecf3cf;\">Friedrich Wilhelm Nietzsche: Ecce Homo</span>, <span style=\"background-color:#e2d7d5;\">Immanuel Kant: Tr?e eines Geistersehers, erl?ert by Tr?e der Metaphysik</span>, <span style=\"background-color:#d8daef;\">Friedrich Nietzsche: Der Wille zur Macht</span>, <span style=\"background-color:#d8daef;\">Georg Wilhelm Friedrich Hegel: Wissenschaft der Logik, Erster Teil</span>, <span style=\"background-color:#d4efdf;\">Immanuel Kant: Kant's gesammelte Schriften</span>, <span style=\"background-color:#eadbd8;\">Georg Wilhelm Friedrich Hegel: Phänomenologie des Geistes</span>, <span style=\"background-color:#d4e6f1;\">Friedrich Wilhelm Nietzsche: Menschliches, Allzumenschliches</span>, <span style=\"background-color:#d4e6e1;\">Georg Wilhelm Friedrich Hegel: Wissenshaft der Logik, Vol. 2</span>, <span style=\"background-color:#d4e6e1;\">Johann Gottlieb Fichte: Reden an die deutsche Nation</span>, <span style=\"background-color:#e2d7d5;\">Immanuel Kant: Kritik der reinen Vernunft (2nd Edition)</span>, <span style=\"background-color:#edebd0;\">Immanuel Kant: Kritik der reinen Vernunft (1st Edition)</span>, <span style=\"background-color:#d8daef;\">Arthur Schopenhauer: Aphorismen zur Lebensweisheit</span>, <span style=\"background-color:#e2d7d5;\">David Hume: Hume's Political Discourses</span></p></small>"
            ],
            "text/plain": [
              "<IPython.core.display.HTML object>"
            ]
          },
          "metadata": {
            "tags": []
          }
        }
      ]
    },
    {
      "cell_type": "markdown",
      "metadata": {
        "id": "hjCd8CHLUlpd"
      },
      "source": [
        "## 4.2 Dialog with the model"
      ]
    },
    {
      "cell_type": "code",
      "metadata": {
        "id": "pfiL1_64Ulpe"
      },
      "source": [
        "# Do a dialog with the recursive neural net trained above:\n",
        "def doDialog():\n",
        "    temperature = 0.6  # 0.1 (free-style chaos) - >1.0 (rigid, frozen)\n",
        "    endPrompt = '.'  # the endPrompt character is the end-mark in answers.\n",
        "    numSentences = 3 # Try to generate numSentences terminated by endPrompt\n",
        "    # maxEndPrompts = 4  # look for number of maxEndPrompts until answer is finished.\n",
        "    # maxAnswerSize = 2048  # Maximum length of the answer\n",
        "    # minAnswerSize = 64  # Minimum length of the answer\n",
        "\n",
        "    \n",
        "    print(\"Please enter some dialog.\")\n",
        "    print(\"The net will answer according to your input.\")\n",
        "    print(\"'bye' for end,\")\n",
        "    print(\"'reset' to reset the conversation context,\")\n",
        "    print(\"'temperature=<float>' [0.1(free, chaotic) - >1.0(strict, frozen)]\")\n",
        "    print(\"    to change character of the dialog.\")\n",
        "    # print(\"    Current temperature={}.\".format(temperature))\n",
        "    print()\n",
        "    xso = None\n",
        "    bye = False\n",
        "    last_ans=\"\"\n",
        "        \n",
        "    while not bye:\n",
        "        print(\"> \", end=\"\")\n",
        "        prompt = input()\n",
        "        if prompt == 'bye':\n",
        "            bye = True\n",
        "            print(\"Good bye!\")\n",
        "            continue\n",
        "        if prompt.find(\"temperature\")>=0 and prompt.find(\"=\") > prompt.find(\"temperature\"):\n",
        "            temperature=float(prompt[prompt.find('=')+1:])\n",
        "            print(f\"Temperature set to {temperature}\")\n",
        "            continue\n",
        "\n",
        "        prompt+=' '\n",
        "        for attempts in range(0,3):\n",
        "            tgen=poet.generate(2000,prompt,temperature=temperature)\n",
        "            # tgen=tgen.replace(\"Mr.\", \"Mr\")\n",
        "            # tgen=tgen.replace(\"Mrs.\", \"Mrs\")\n",
        "            # tgen=tgen.replace(\"\\n\",\" \")\n",
        "            # tgen=tgen.replace(\"  \",\" \")\n",
        "            tgi=tgen.split(\". \")\n",
        "            print(f\"{len(tgi)} sentences\")\n",
        "            if len(tgi)<numSentences:\n",
        "                continue\n",
        "            ans=\"\"\n",
        "            for i in range(0,numSentences):\n",
        "                ans += tgi[i]+\". \"\n",
        "            break\n",
        "            # i=tgen.find(endPrompt)\n",
        "            # i2=tgen[i+1:].find(endPrompt)+i\n",
        "            # i3=tgen[i2+1:].find(endPrompt)+i2\n",
        "            # i4=tgen[i3+1:].find(endPrompt)+i3\n",
        "            # tgen=tgen[i+1:i4+2]\n",
        "            # if len(tgen)>10:\n",
        "            #     break\n",
        "        last_ans=ans\n",
        "        td.source_highlight(last_ans, min_quote_size=10,dark_mode=use_dark_mode,display_ref_anchor=False)\n",
        "    return"
      ],
      "execution_count": null,
      "outputs": []
    },
    {
      "cell_type": "code",
      "metadata": {
        "id": "8mGGsuFRUlpi",
        "scrolled": true,
        "outputId": "a2635d95-d05c-4865-ae93-9a29414ce1aa",
        "colab": {
          "base_uri": "https://localhost:8080/",
          "height": 1000
        }
      },
      "source": [
        "doDialog()"
      ],
      "execution_count": null,
      "outputs": [
        {
          "output_type": "stream",
          "text": [
            "Please enter some dialog.\n",
            "The net will answer according to your input.\n",
            "'bye' for end,\n",
            "'reset' to reset the conversation context,\n",
            "'temperature=<float>' [0.1(free, chaotic) - >1.0(strict, frozen)]\n",
            "    to change character of the dialog.\n",
            "\n",
            "> The interaction between mind and body is governed by a soul.\n",
            "3 sentences\n"
          ],
          "name": "stdout"
        },
        {
          "output_type": "display_data",
          "data": {
            "text/html": [
              "<span style=\"background-color:#edebd0;\">This<br>is the first </span><span style=\"background-color:#fdebd0;\">and most constant</span><span style=\"background-color:#d6dbdf;\"> treatment of co</span><span style=\"background-color:#d0ece7;\">nsciousness, and<br>therefore </span><span style=\"background-color:#d6eaf8;\">the sensation of power</span><span style=\"background-color:#d0ece7;\">, we should s</span><span style=\"background-color:#ebdef0;\">uffer the<br></span><span style=\"background-color:#e5e8e8;\">contrariety of events </span><span style=\"background-color:#e2d7d5;\">can be found in </span>Hegel<span style=\"background-color:#d8daef;\">'s<br>question</span><span style=\"background-color:#e2d7d5;\">s with regard to the </span><span style=\"background-color:#d6dbdf;\">fact that a p</span><span style=\"background-color:#e5e8e8;\">articular<br>state a</span><span style=\"background-color:#d0ece7;\">ttained to its con</span><span style=\"background-color:#d6eaf8;\">tent, is con</span><span style=\"background-color:#f6ddcc;\">stituted,<br>a</span><span style=\"background-color:#f6ddcc;\">nd it is the same in </span><span style=\"background-color:#d4e6e1;\">all possible attributes, </span><span style=\"background-color:#d6dbdf;\">and<br>therefore re</span><span style=\"background-color:#d0ece7;\">gards the nature of the ob</span><span style=\"background-color:#d4e6e1;\">ject and<br>the </span><span style=\"background-color:#d4e6e1;\">assertion of the will to live i</span><span style=\"background-color:#d0ece7;\">n itself;<br></span><span style=\"background-color:#d4efdf;\">since the me</span><span style=\"background-color:#fae5d3;\">mbers of the m</span>i<span style=\"background-color:#ebdef0;\">nd leave the so</span><span style=\"background-color:#fae5d3;\">ul and<br>the </span><span style=\"background-color:#ebdef0;\">existing order of th</span><span style=\"background-color:#eadbd8;\">e whole, which is </span><span style=\"background-color:#eadbd8;\">the common<br>sp</span><span style=\"background-color:#d4e6f1;\">here of human acti</span><span style=\"background-color:#d0ece7;\">on, which we have </span><span style=\"background-color:#d4efdf;\">already<br>recognized</span><span style=\"background-color:#d6eaf8;\">, the negative con</span><span style=\"background-color:#f6ddcc;\">tent is only the</span><span style=\"background-color:#f6ddcc;\"> abstract<br>sens</span><span style=\"background-color:#d4e6f1;\">uous existence o</span><span style=\"background-color:#edebd0;\">f subjective and objective,<br></span><span style=\"background-color:#d6eaf8;\"><br>which is an </span><span style=\"background-color:#d4e6e1;\">à priori determination</span><span style=\"background-color:#e2d7d5;\"> of the genus, and </span><span style=\"background-color:#d4e6e1;\">the<br> action of </span><span style=\"background-color:#fdebd0;\">mere appearance; </span><span style=\"background-color:#d8daef;\">he may not be </span><span style=\"background-color:#d6dbdf;\">able to<br>con</span><span style=\"background-color:#e2d7d5;\">verse with the p</span><span style=\"background-color:#e5e8e8;\">ossibility of an<br></span><span style=\"background-color:#d6eaf8;\">explanation to </span><span style=\"background-color:#edebd0;\">itself and as such</span><span style=\"background-color:#ebdef0;\"> is not a re</span><span style=\"background-color:#d6eaf8;\">ference<br>th</span><span style=\"background-color:#d0ece7;\">rough the senses; </span><span style=\"background-color:#d4efdf;\">but not the cause</span><span style=\"background-color:#d4e6e1;\"> of<br>the necessary </span><span style=\"background-color:#d4efdf;\">connection of the world</span><span style=\"background-color:#fae5d3;\">, the<br>perception of the </span><span style=\"background-color:#edebd0;\">world is an en</span><span style=\"background-color:#d6eaf8;\">deavour to be</span><span style=\"background-color:#ebdef0;\"><br>absolutely b</span><span style=\"background-color:#d6eaf8;\">ound by any </span><span style=\"background-color:#ebdef0;\">such thing, </span><span style=\"background-color:#d4e6e1;\">it is not<br>only </span><span style=\"background-color:#f6ddcc;\">a means, but </span><span style=\"background-color:#d6eaf8;\">only to the s</span><span style=\"background-color:#edebd0;\">ensuous perception<br></span><span style=\"background-color:#f6ddcc;\">of the object in question</span><span style=\"background-color:#d6dbdf;\">. The relation of the</span><span style=\"background-color:#edebd0;\"><br>implicit i</span><span style=\"background-color:#d4efdf;\">s to the subjective principle of a</span><span style=\"background-color:#d4e6e1;\"><br>certain acti</span><span style=\"background-color:#d0ece7;\">vity which is c</span><span style=\"background-color:#f6ddcc;\">ontained in the<br>_</span><span style=\"background-color:#d6eaf8;\">second_ place i</span><span style=\"background-color:#d4e6e1;\">n the sphere of the p</span><span style=\"background-color:#d4e6e1;\">ure understanding,<br>and </span><span style=\"background-color:#d4e6e1;\">therefore conceptions</span><span style=\"background-color:#edebd0;\"> in the individual,</span><br><span style=\"background-color:#ebdef0;\"><br>with which the </span><span style=\"background-color:#d4e6f1;\">representation of such a </span><span style=\"background-color:#f6ddcc;\">plaint is </span>called<br><span style=\"background-color:#fae5d3;\"> the idea of a pr</span><span style=\"background-color:#d4efdf;\">edicate of the caus</span><span style=\"background-color:#e5e8e8;\">e or effect,<br></span><span style=\"background-color:#eadbd8;\">          the </span><span style=\"background-color:#d0ece7;\">thing in itself, which is </span><span style=\"background-color:#d6dbdf;\">connected with the e</span><span style=\"background-color:#f6ddcc;\">xistence<br>of the w</span><span style=\"background-color:#d4efdf;\">ill in so far as it is </span><span style=\"background-color:#d6eaf8;\">necessary for music</span><span style=\"background-color:#e2d7d5;\">.<br><br>It may be </span><span style=\"background-color:#d6dbdf;\">readily cont</span><span style=\"background-color:#e2d7d5;\">inued to t</span><span style=\"background-color:#d6dbdf;\">riumph over the </span><span style=\"background-color:#d6dbdf;\">passions<br>of pr</span>aise<span style=\"background-color:#fdebd0;\"> or shame </span><span style=\"background-color:#f6ddcc;\">and passes away </span><span style=\"background-color:#d6eaf8;\">in the total<br></span><span style=\"background-color:#fdebd0;\">suspense of </span><span style=\"background-color:#e2d7d5;\">dissolution and </span><span style=\"background-color:#f6ddcc;\">reflection. The<br></span><span style=\"background-color:#d4e6e1;\">exposition of the con</span><span style=\"background-color:#d4e6f1;\">tradiction is exp</span><span style=\"background-color:#d4efdf;\">ressed in<br>the </span><span style=\"background-color:#d4e6f1;\">_particular_ con</span><span style=\"background-color:#d0ece7;\">ditions of the a</span><span style=\"background-color:#fdebd0;\">ssertion<br>of the will </span><span style=\"background-color:#edebd0;\">of God, and all </span><span style=\"background-color:#d6dbdf;\">phenomena are p</span><span style=\"background-color:#ebdef0;\">articular<br>and </span><span style=\"background-color:#e2d7d5;\">contiguous to </span><span style=\"background-color:#e5e8e8;\">others, the same </span><span style=\"background-color:#fae5d3;\">or substantial<br></span><span style=\"background-color:#edebd0;\">content is co</span><span style=\"background-color:#d4e6e1;\">mparatively int</span><span style=\"background-color:#d0ece7;\">uitive, and</span><span style=\"background-color:#fdebd0;\"> is the<br>content of </span><span style=\"background-color:#d6dbdf;\">the individual what </span><span style=\"background-color:#edebd0;\">is substantial,</span><span style=\"background-color:#d4e6e1;\"> and which<br>in</span>. "
            ],
            "text/plain": [
              "<IPython.core.display.HTML object>"
            ]
          },
          "metadata": {
            "tags": []
          }
        },
        {
          "output_type": "display_data",
          "data": {
            "text/html": [
              "<small><p style=\"text-align:right;\">Sources: <span style=\"background-color:#edebd0;\">Friedrich Wilhelm Nietzsche: Twilight of the Idols - The Antichrist</span>, <span style=\"background-color:#fdebd0;\">Friedrich Nietzsche: Beyond Good and Evil</span>, <span style=\"background-color:#d6dbdf;\">G. W. F. Hegel: The Philosophy of Fine Art, Vol. 1 of 4</span>, <span style=\"background-color:#d0ece7;\">Arthur Schopenhauer: The World as Will and Idea (Vol. 2 of 3)</span>, <span style=\"background-color:#d6eaf8;\">Friedrich Wilhelm Nietzsche: The Dawn of Day</span>, <span style=\"background-color:#d0ece7;\">G. W. F. Hegel: The Philosophy of Fine Art, Volume 4 of 4</span>, <span style=\"background-color:#ebdef0;\">Søren Kierkegaard: Selections from the Writings of Kierkegaard</span>, <span style=\"background-color:#e5e8e8;\">David Hume: Philosophical Works, Vol. 1 of 4</span>, <span style=\"background-color:#e2d7d5;\">David Hume: Hume's Political Discourses</span>, <span style=\"background-color:#d8daef;\">Friedrich Nietzsche: The Will to Power, Books I and II</span>, <span style=\"background-color:#e5e8e8;\">David Hume: An Enquiry Concerning the Principles of Morals</span>, <span style=\"background-color:#d0ece7;\">Georg Wilhelm Hegel: Hegel's Lectures on the History of Philosophy: Vol. 2 of 3</span>, <span style=\"background-color:#d6eaf8;\">Georg Wilhelm Hegel: Hegel's Lectures on the History of Philosophy: Vol. 1 of 3</span>, <span style=\"background-color:#f6ddcc;\">David Hume: Dialogues Concerning Natural Religion</span>, <span style=\"background-color:#f6ddcc;\">G. W. F. Hegel: The Logic of Hegel</span>, <span style=\"background-color:#d4e6e1;\">Immanuel Kant: The Critique of Pure Reason</span>, <span style=\"background-color:#d6dbdf;\">Friedrich Nietzsche: Early Greek Philosophy & Other Essays</span>, <span style=\"background-color:#d0ece7;\">Immanuel Kant: Fundamental Principles of the Metaphysic of Morals</span>, <span style=\"background-color:#d4e6e1;\">Friedrich Nietzsche: Thoughts Out of Season, Part 2</span>, <span style=\"background-color:#d4efdf;\">G. W. Leibniz: Theodicy</span>, <span style=\"background-color:#fae5d3;\">William Wallace and G. W. F. Hegel: Prolegomena to the Study of Hegel's Philosophy</span>, <span style=\"background-color:#ebdef0;\">Friedrich Wilhelm Nietzsche: Human, All-Too-Human, Part II</span>, <span style=\"background-color:#eadbd8;\">Immanuel Kant: Kant's Prolegomena</span>, <span style=\"background-color:#eadbd8;\">Georg Hegel: The Introduction to Hegel's Philosophy of Fine Arts</span>, <span style=\"background-color:#d4e6f1;\">G. W. F. Hegel: The Philosophy of Fine Art, Vol. 2 of 4</span>, <span style=\"background-color:#d4efdf;\">Immanuel Kant: The Critique of Practical Reason</span>, <span style=\"background-color:#d6eaf8;\">G. W. F. Hegel: The Philosophy of Fine Art, Volume 3 of 4</span>, <span style=\"background-color:#edebd0;\">Georg Wilhelm Hegel: The History of Philosophy: Volume 3 of 3</span>, <span style=\"background-color:#fdebd0;\">Arthur Schopenhauer: The World as Will and Idea (Vol. 1 of 3)</span>, <span style=\"background-color:#e2d7d5;\">Friedrich Wilhelm Nietzsche: The Genealogy of Morals</span>, <span style=\"background-color:#e5e8e8;\">Immanuel Kant: Kant's Critique of Judgement</span>, <span style=\"background-color:#edebd0;\">Arthur Schopenhauer: The Basis of Morality</span>, <span style=\"background-color:#d4efdf;\">Arthur Schopenhauer: The World as Will and Idea (Vol. 3 of 3)</span>, <span style=\"background-color:#d4e6e1;\">Friedrich Nietzsche: The Will to Power, Books III and IV</span>, <span style=\"background-color:#fae5d3;\">Rene Descartes: Selections From The Principles of Philosophy</span>, <span style=\"background-color:#ebdef0;\">Friedrich Nietzsche: The Joyful Wisdom</span>, <span style=\"background-color:#d6eaf8;\">John Locke: Second Treatise of Government</span>, <span style=\"background-color:#fae5d3;\">Immanuel Kant: Perpetual Peace</span>, <span style=\"background-color:#eadbd8;\">Hubert Crackanthorpe: Vignettes</span>, <span style=\"background-color:#f6ddcc;\">Arthur Schopenhauer: On the Fourfold Root of the Principle of Sufficient Reason and On the Will in Nature: Two Essays (revised edition)</span>, <span style=\"background-color:#d6dbdf;\">David Hume: A Treatise of Human Nature, Vols. 1 & 2</span>, <span style=\"background-color:#fdebd0;\">David Hume: Philosophical Works, Vol. 2 of 4</span>, <span style=\"background-color:#d4e6f1;\">Montaigne, Michel, Sainte-Beuve, Charles-Augustin; Renan, Ernest, Lessing, Gotthold Ephraim, Von Schiller, J.C., Kant, Immanuel, Mazzini, and Giuseppe: Literary and Philosophical Essays</span>, <span style=\"background-color:#d6dbdf;\">Georg Wilhelm Friedrich Hegel: Hegel's Philosophy of Mind</span></p></small>"
            ],
            "text/plain": [
              "<IPython.core.display.HTML object>"
            ]
          },
          "metadata": {
            "tags": []
          }
        },
        {
          "output_type": "stream",
          "text": [
            "> A proof for the existence of god.\n",
            "3 sentences\n"
          ],
          "name": "stdout"
        },
        {
          "output_type": "display_data",
          "data": {
            "text/html": [
              "<span style=\"background-color:#d6eaf8;\">It is the same as</span><span style=\"background-color:#d4efdf;\"> the goodness<br>of the </span><span style=\"background-color:#d4efdf;\">will to live, the </span><span style=\"background-color:#d0ece7;\">artist, and the p</span><span style=\"background-color:#f6ddcc;\">ower of the in</span><span style=\"background-color:#fae5d3;\">vention<br>and i</span><span style=\"background-color:#edebd0;\">magery, th</span><span style=\"background-color:#ebdef0;\">at which was </span><span style=\"background-color:#d4efdf;\">not always a </span><span style=\"background-color:#d6eaf8;\">mere animal</span><span style=\"background-color:#d4e6f1;\"><br>which it is s</span><span style=\"background-color:#d0ece7;\">aid that the st</span><span style=\"background-color:#edebd0;\">ate is not a</span><span style=\"background-color:#d0ece7;\">lready<br>poss</span><span style=\"background-color:#eadbd8;\">ible, but the </span><span style=\"background-color:#d4e6f1;\">mere reality of </span><span style=\"background-color:#d4e6e1;\">the world<br>comprehen</span><span style=\"background-color:#d0ece7;\">ded in its real</span><span style=\"background-color:#edebd0;\">ity as a d</span><span style=\"background-color:#d0ece7;\">eterminate<br>w</span><span style=\"background-color:#d6dbdf;\">orld, is a </span><span style=\"background-color:#f6ddcc;\">consciousness by which </span><span style=\"background-color:#f6ddcc;\">we are still<br></span><span style=\"background-color:#e5e8e8;\">involved in the s</span><span style=\"background-color:#e2d7d5;\">ystem of the </span><span style=\"background-color:#eadbd8;\">beautiful, but it</span><span style=\"background-color:#d4e6e1;\"><br>was the real </span><span style=\"background-color:#d4e6f1;\">in the expression of the </span><span style=\"background-color:#d0ece7;\">individual<br>man, </span><span style=\"background-color:#e2d7d5;\">so far as the </span><span style=\"background-color:#d4e6f1;\">German spirit is </span><span style=\"background-color:#d0ece7;\">existent,<br>but</span><span style=\"background-color:#e5e8e8;\">, as experience </span><span style=\"background-color:#d0ece7;\">and activity is </span><span style=\"background-color:#d4e6f1;\">from the<br>notion of that </span>_<span style=\"background-color:#ebdef0;\">providence</span>_.<br><br>O<span style=\"background-color:#f6ddcc;\">ur true and </span><span style=\"background-color:#d6eaf8;\">determination of the sens</span><span style=\"background-color:#d0ece7;\">ible world is<br>i</span><span style=\"background-color:#d4e6f1;\">n the country p</span>ermitted (<span style=\"background-color:#d6eaf8;\">be a distinct </span><span style=\"background-color:#d4e6f1;\">and<br>sensuous </span>shap<span style=\"background-color:#edebd0;\">e), which ar</span><span style=\"background-color:#d4e6e1;\">e subject to the f</span><span style=\"background-color:#edebd0;\">act of an<br></span><span style=\"background-color:#d0ece7;\">understanding with the </span><span style=\"background-color:#d4e6e1;\">law of causality, and the</span><span style=\"background-color:#d6eaf8;\"><br> theoretical </span><span style=\"background-color:#f6ddcc;\">point of view and i</span><span style=\"background-color:#d6dbdf;\">deas. The rea</span>s<span style=\"background-color:#d0ece7;\">on<br>    of the </span><span style=\"background-color:#d6eaf8;\">law of nature, or the </span><span style=\"background-color:#d0ece7;\">possibility of<br>          co</span>n<span style=\"background-color:#d4e6e1;\">ception   </span>332     beilauft 1]<span style=\"background-color:#d4e6f1;\"> und rede </span><span style=\"background-color:#d8daef;\">ich nun auch </span>sie<br><span style=\"background-color:#d4efdf;\">(wie der S</span><span style=\"background-color:#d4e6e1;\">chluß als </span><span style=\"background-color:#d4e6f1;\">=dieser= Ge</span><span style=\"background-color:#d4e6e1;\">wißheit zu </span><span style=\"background-color:#ebdef0;\">werden, wenn man</span><br><span style=\"background-color:#e2d7d5;\">ein Mannigfaltiges der </span><span style=\"background-color:#e2d7d5;\">systematischen Einheit der</span><span style=\"background-color:#d8daef;\"><br>Erfahrung, </span><span style=\"background-color:#d4efdf;\">mithin übersinnliche</span><span style=\"background-color:#d8daef;\"> Welt als eine </span><span style=\"background-color:#e2d7d5;\">scheinbare<br>Anti</span><span style=\"background-color:#e2d7d5;\">nomie der reinen Vernunft be</span><span style=\"background-color:#eadbd8;\">steht also alle</span>r Zeitbesänd<span style=\"background-color:#d4e6e1;\">en<br>gebraucht werden</span><span style=\"background-color:#d8daef;\">, daß ihm </span><span style=\"background-color:#d8daef;\">eine Ursache </span><span style=\"background-color:#d4efdf;\">niemals in<br></span><span style=\"background-color:#d4efdf;\">     eines Ge</span>bietswol<span style=\"background-color:#ecf3cf;\">s oder eines </span><span style=\"background-color:#d4e6f1;\">realen Dinge</span>s<br><br><br><br><br>Zu<span style=\"background-color:#d6dbdf;\"> mir steht</span><span style=\"background-color:#d8daef;\"> ihr mehr </span><span style=\"background-color:#d4e6e1;\">im Geiste be</span><span style=\"background-color:#d8daef;\">werkstelligt</span><br> <span style=\"background-color:#d4e6f1;\"> der logischen </span><span style=\"background-color:#e5e8e8;\">Einbildungskraft<br>  </span><span style=\"background-color:#e2d7d5;\">der Untersuchungen</span><span style=\"background-color:#eadbd8;\"> alles Denkens </span><span style=\"background-color:#d6dbdf;\">auszuscheiden,</span><br> <span style=\"background-color:#f6ddcc;\"> und reinen </span><span style=\"background-color:#e2d7d5;\">Verstandesbegriffen aller</span><span style=\"background-color:#e2d7d5;\">erst möglich w</span>ä<span style=\"background-color:#e5e8e8;\">re<br>     is</span><span style=\"background-color:#d6dbdf;\">t es der Be</span><span style=\"background-color:#d4efdf;\">stimmungsgrund des </span><span style=\"background-color:#e2d7d5;\">Raumes und der<br></span><span style=\"background-color:#d4efdf;\">     Wahrheit</span><span style=\"background-color:#ebdef0;\">en zu befördern und zu</span><span style=\"background-color:#eadbd8;\"> dem Gegenteil </span>gewiss<br>    <span style=\"background-color:#e2d7d5;\"> geben kann, a</span><span style=\"background-color:#ecf3cf;\">ls ob sie i</span><span style=\"background-color:#d8daef;\">n der andern gesetzt</span><span style=\"background-color:#d8daef;\"><br>                                                        </span>B<span style=\"background-color:#ebdef0;\">: daß die<br></span><span style=\"background-color:#ecf3cf;\">                                 B: </span><span style=\"background-color:#ecf3cf;\">ihrer<br>                             </span><span style=\"background-color:#ecf3cf;\">                     B: ist e</span><span style=\"background-color:#ebdef0;\">ine solche<br>     </span><span style=\"background-color:#e2d7d5;\">Vernunft in Ansehung der </span><span style=\"background-color:#e2d7d5;\">Bedingungen (die </span>Gegenwart)<span style=\"background-color:#ecf3cf;\"> der<br>     Menschen </span><span style=\"background-color:#ecf3cf;\">der Menschheit in die </span>des Küh<span style=\"background-color:#d8daef;\">enbewegungen</span><br>     |.<span style=\"background-color:#d4e6f1;\"> innere Gesch</span>ich<span style=\"background-color:#d8daef;\">te zusammen</span><span style=\"background-color:#d4e6f1;\">fassen und zu </span>bringen,<span style=\"background-color:#e2d7d5;\"><br>  oder des</span>halb zukan<span style=\"background-color:#d4e6e1;\">fen werden, daß </span><span style=\"background-color:#ecf3cf;\">wir doch in </span><span style=\"background-color:#d4efdf;\">einem<br>     </span>. "
            ],
            "text/plain": [
              "<IPython.core.display.HTML object>"
            ]
          },
          "metadata": {
            "tags": []
          }
        },
        {
          "output_type": "display_data",
          "data": {
            "text/html": [
              "<small><p style=\"text-align:right;\">Sources: <span style=\"background-color:#d6eaf8;\">Georg Wilhelm Hegel: Hegel's Lectures on the History of Philosophy: Vol. 1 of 3</span>, <span style=\"background-color:#d4efdf;\">Arthur Schopenhauer: The World as Will and Idea (Vol. 3 of 3)</span>, <span style=\"background-color:#d0ece7;\">Arthur Schopenhauer: The World as Will and Idea (Vol. 2 of 3)</span>, <span style=\"background-color:#f6ddcc;\">G. W. F. Hegel: The Logic of Hegel</span>, <span style=\"background-color:#fae5d3;\">William Wallace and G. W. F. Hegel: Prolegomena to the Study of Hegel's Philosophy</span>, <span style=\"background-color:#edebd0;\">Arthur Schopenhauer: The Basis of Morality</span>, <span style=\"background-color:#ebdef0;\">Søren Kierkegaard: Selections from the Writings of Kierkegaard</span>, <span style=\"background-color:#d4efdf;\">Friedrich Wilhelm Nietzsche: Thoughts out of Season, Part I</span>, <span style=\"background-color:#d6eaf8;\">G. W. F. Hegel: The Philosophy of Fine Art, Volume 3 of 4</span>, <span style=\"background-color:#d4e6f1;\">G. W. F. Hegel: The Philosophy of Fine Art, Vol. 2 of 4</span>, <span style=\"background-color:#d0ece7;\">Georg Wilhelm Hegel: Hegel's Lectures on the History of Philosophy: Vol. 2 of 3</span>, <span style=\"background-color:#edebd0;\">Georg Wilhelm Hegel: The History of Philosophy: Volume 3 of 3</span>, <span style=\"background-color:#d0ece7;\">G. W. F. Hegel: The Philosophy of Fine Art, Volume 4 of 4</span>, <span style=\"background-color:#eadbd8;\">Immanuel Kant: Kant's Prolegomena</span>, <span style=\"background-color:#d4e6e1;\">Immanuel Kant: The Critique of Pure Reason</span>, <span style=\"background-color:#edebd0;\">Friedrich Wilhelm Nietzsche: Twilight of the Idols - The Antichrist</span>, <span style=\"background-color:#d6dbdf;\">G. W. F. Hegel: The Philosophy of Fine Art, Vol. 1 of 4</span>, <span style=\"background-color:#f6ddcc;\">Arthur Schopenhauer: On the Fourfold Root of the Principle of Sufficient Reason and On the Will in Nature: Two Essays (revised edition)</span>, <span style=\"background-color:#e5e8e8;\">Immanuel Kant: Kant's Critique of Judgement</span>, <span style=\"background-color:#e2d7d5;\">David Hume: Hume's Political Discourses</span>, <span style=\"background-color:#eadbd8;\">Georg Hegel: The Introduction to Hegel's Philosophy of Fine Arts</span>, <span style=\"background-color:#d4e6e1;\">Friedrich Nietzsche: The Will to Power, Books III and IV</span>, <span style=\"background-color:#d4e6f1;\">Friedrich Wilhelm Nietzsche: On the Future of our Educational Institutions - Homer and Classical Philology</span>, <span style=\"background-color:#d0ece7;\">Immanuel Kant: Fundamental Principles of the Metaphysic of Morals</span>, <span style=\"background-color:#d4e6f1;\">Montaigne, Michel, Sainte-Beuve, Charles-Augustin; Renan, Ernest, Lessing, Gotthold Ephraim, Von Schiller, J.C., Kant, Immanuel, Mazzini, and Giuseppe: Literary and Philosophical Essays</span>, <span style=\"background-color:#d6dbdf;\">Georg Wilhelm Friedrich Hegel: Hegel's Philosophy of Mind</span>, <span style=\"background-color:#d6eaf8;\">John Locke: Second Treatise of Government</span>, <span style=\"background-color:#d0ece7;\">David Hume and L. A. Selby-Bigge: Enquiry Concerning Human Understanding</span>, <span style=\"background-color:#d4e6f1;\">Friedrich Wilhelm Nietzsche: Menschliches, Allzumenschliches</span>, <span style=\"background-color:#d8daef;\">Friedrich Nietzsche: Der Wille zur Macht</span>, <span style=\"background-color:#d4efdf;\">Immanuel Kant: Kant's gesammelte Schriften</span>, <span style=\"background-color:#d4e6e1;\">Johann Gottlieb Fichte: Reden an die deutsche Nation</span>, <span style=\"background-color:#d4e6f1;\">Gottfried Wilhelm Leibniz: Leibnitz' Monadologie</span>, <span style=\"background-color:#d4e6e1;\">Georg Wilhelm Friedrich Hegel: Wissenshaft der Logik, Vol. 2</span>, <span style=\"background-color:#ebdef0;\">Immanuel Kant: Zum ewigen Frieden</span>, <span style=\"background-color:#e2d7d5;\">Immanuel Kant: Kritik der reinen Vernunft (2nd Edition)</span>, <span style=\"background-color:#d8daef;\">Arthur Schopenhauer: Aphorismen zur Lebensweisheit</span>, <span style=\"background-color:#eadbd8;\">Georg Wilhelm Friedrich Hegel: Phänomenologie des Geistes</span>, <span style=\"background-color:#ecf3cf;\">Immanuel Kant: Beobachtungen ? das Gef?des Sch? und Erhabenen</span>, <span style=\"background-color:#d6dbdf;\">Friedrich Wilhelm Nietzsche: Die Geburt der Tragoedie</span>, <span style=\"background-color:#e5e8e8;\">Immanuel Kant: Von der Macht des Gem? by den blo?n Vorsatz seiner krankhaften Gef? Meister zu sein</span>, <span style=\"background-color:#f6ddcc;\">Friedrich Wilhelm Nietzsche: Also Sprach Zarathustra</span>, <span style=\"background-color:#e5e8e8;\">David Hume: Philosophical Works, Vol. 1 of 4</span>, <span style=\"background-color:#ecf3cf;\">Immanuel Kant: Die Religion innerhalb der Grenzen der bloßen Vernunft</span>, <span style=\"background-color:#d8daef;\">Georg Wilhelm Friedrich Hegel: Wissenschaft der Logik, Erster Teil</span>, <span style=\"background-color:#ecf3cf;\">Friedrich Wilhelm Nietzsche: Ecce Homo</span>, <span style=\"background-color:#e2d7d5;\">Immanuel Kant: Tr?e eines Geistersehers, erl?ert by Tr?e der Metaphysik</span></p></small>"
            ],
            "text/plain": [
              "<IPython.core.display.HTML object>"
            ]
          },
          "metadata": {
            "tags": []
          }
        },
        {
          "output_type": "stream",
          "text": [
            "> Ein Beweis für die Existenz Gottes.\n",
            "4 sentences\n"
          ],
          "name": "stdout"
        },
        {
          "output_type": "display_data",
          "data": {
            "text/html": [
              "Ich weiß<br><span style=\"background-color:#e2d7d5;\">nach bloß </span><span style=\"background-color:#d8daef;\">um des Geistes</span><span style=\"background-color:#d4efdf;\"> an sich selbst zu</span>zulreu:<span style=\"background-color:#e2d7d5;\"> und so scheint es,</span><span style=\"background-color:#d4e6f1;\"> als<br>ob eine </span>jed<span style=\"background-color:#d8daef;\">e scheinbare Welt </span><span style=\"background-color:#d4e6f1;\">möglich sein, s</span>ich<span style=\"background-color:#d4e6f1;\"> zu<br>errathen</span><span style=\"background-color:#f6ddcc;\"> scheinen. I</span><span style=\"background-color:#d8daef;\">n diesem Sinne kann </span><span style=\"background-color:#d4efdf;\">niemals anders</span><span style=\"background-color:#e2d7d5;\"><br>aber können n</span><span style=\"background-color:#e2d7d5;\">ur auf den Verstandesgebrauch</span><span style=\"background-color:#d8daef;\"> oder<br>eines </span><span style=\"background-color:#ecf3cf;\">Vermögens zu</span><span style=\"background-color:#ecf3cf;\">rückschaut</span><span style=\"background-color:#d8daef;\">en, welches </span><span style=\"background-color:#ecf3cf;\">       (B 15</span>7-58).<span style=\"background-color:#eadbd8;\"><br>gleichgültige Element</span><span style=\"background-color:#e2d7d5;\">e aller seiner </span>Unm<span style=\"background-color:#d4e6f1;\">ange an si</span><span style=\"background-color:#d4efdf;\">ch selbst<br>(denn da</span>zu<span style=\"background-color:#d4efdf;\"> würden sie </span>bloß<span style=\"background-color:#d4e6e1;\">e Vermittelung ist</span>),<span style=\"background-color:#d4e6e1;\"> nur in<br>einem </span><span style=\"background-color:#d8daef;\">Begriff einer </span><span style=\"background-color:#ecf3cf;\">solchen Person </span><span style=\"background-color:#d4e6e1;\">ist nichts als<br></span><span style=\"background-color:#d8daef;\">Voraussetzung, und </span><span style=\"background-color:#d4e6e1;\">zwar nicht a</span><span style=\"background-color:#e2d7d5;\">n sich selbst,<br>als </span><span style=\"background-color:#ecf3cf;\">das _Gesetz_ </span><span style=\"background-color:#eadbd8;\">einer selbst auf</span><span style=\"background-color:#d8daef;\">hebende und </span><span style=\"background-color:#eadbd8;\">als<br>_Gegenstand_ </span><span style=\"background-color:#d4e6e1;\">des _Geistes_ </span><span style=\"background-color:#d4e6e1;\">des _Begriffs_ und </span>_<span style=\"background-color:#d4e6f1;\">der<br>gegebenen E</span><span style=\"background-color:#d8daef;\">xtreme eines </span><span style=\"background-color:#d8daef;\">Gegenstandes hat</span><span style=\"background-color:#ecf3cf;\">, und sich<br></span><span style=\"background-color:#d4e6f1;\">zu einander in </span><span style=\"background-color:#eadbd8;\">der Tat das _</span><span style=\"background-color:#eadbd8;\">Wissen_ vo</span><span style=\"background-color:#d8daef;\">rzustellen.<br></span><span style=\"background-color:#eadbd8;\">Denn es hat s</span><span style=\"background-color:#d4e6e1;\">eine _Welt</span><span style=\"background-color:#eadbd8;\"> als das _G</span><span style=\"background-color:#ecf3cf;\">anz_ und _</span><span style=\"background-color:#eadbd8;\">Gegenstand_<br></span><span style=\"background-color:#eadbd8;\">eines _Wirklich</span>s<span style=\"background-color:#d4e6e1;\">t_ ist, ist </span>e<span style=\"background-color:#d4e6e1;\">s das _Allgemeine_,</span><span style=\"background-color:#d8daef;\"><br>sondern in seine</span><span style=\"background-color:#ecf3cf;\"> _Einheit_ </span><span style=\"background-color:#d8daef;\">von der Schwäche des<br></span><span style=\"background-color:#d4e6e1;\">Geschlechts, d</span>es<span style=\"background-color:#d4e6e1;\"> sich Äußerlich</span>stefen_ des<span style=\"background-color:#d4e6e1;\"><br>_Untersche</span>u<span style=\"background-color:#d4e6e1;\">tes_ und _</span><span style=\"background-color:#d4e6e1;\">beliebig_ </span><span style=\"background-color:#d8daef;\">als solche als </span>ei<span style=\"background-color:#eadbd8;\">n<br>_Gestalt</span><span style=\"background-color:#eadbd8;\">_ gegen die Form </span><span style=\"background-color:#d4e6e1;\">ist.  Die M</span><span style=\"background-color:#d8daef;\">omente hat</span><span style=\"background-color:#eadbd8;\"><br>hiemit zwar </span>seines expo<span style=\"background-color:#e2d7d5;\">nenden und i</span><span style=\"background-color:#d8daef;\">n ihm selbst ist.<br><br></span>D<span style=\"background-color:#d8daef;\">ieser Reflexion i</span><span style=\"background-color:#d4e6e1;\">st das Andere des</span><span style=\"background-color:#eadbd8;\"> Bewußtseins be</span><span style=\"background-color:#d4e6e1;\">ider<br>sich </span><span style=\"background-color:#d8daef;\">selbst, und das </span><span style=\"background-color:#d8daef;\">Gesetztseyn der S</span><span style=\"background-color:#ebdef0;\">ubstanz<br>de</span><span style=\"background-color:#eadbd8;\">ssen, was das Selbstbewußtsein </span><span style=\"background-color:#eadbd8;\">erscheint als das</span><span style=\"background-color:#d4e6e1;\"><br>an und für sich n</span><span style=\"background-color:#d8daef;\">egative Best</span><span style=\"background-color:#d8daef;\">ehen vorhanden</span>;<span style=\"background-color:#d4e6f1;\"> die<br>Wissenschaft des </span><span style=\"background-color:#d8daef;\">Geistes hat sich </span><span style=\"background-color:#d4efdf;\">für sich selbst<br>au</span><span style=\"background-color:#d4e6e1;\">fgehoben, der </span><span style=\"background-color:#d8daef;\">als das Wahre </span><span style=\"background-color:#d4e6e1;\">in seiner Form</span><span style=\"background-color:#d4e6e1;\"><br>unterschieden von </span><span style=\"background-color:#d8daef;\">so stark, </span><span style=\"background-color:#d4e6e1;\">welche sich als </span>Ideell<span style=\"background-color:#d8daef;\">es<br>ist, und </span><span style=\"background-color:#e2d7d5;\">worauf sich a</span><span style=\"background-color:#d8daef;\">uf sich bezogen, </span><span style=\"background-color:#d4e6f1;\">oder<br>beides </span><span style=\"background-color:#eadbd8;\">in der Form der Allgemeinheit d</span><span style=\"background-color:#d8daef;\">es Seyns,<br></span><span style=\"background-color:#d8daef;\">sich aufhebende G</span><span style=\"background-color:#ecf3cf;\">rillenhaft</span><span style=\"background-color:#d4e6e1;\">igkeit durch<br></span><span style=\"background-color:#d8daef;\">Handlung zu </span><span style=\"background-color:#e2d7d5;\">bestimmen und zu s</span><span style=\"background-color:#d4efdf;\">ein sein m</span>üßt<span style=\"background-color:#d4e6e1;\">e,<br>betrachtet</span><span style=\"background-color:#e2d7d5;\"> sie in der Ver</span>nein<span style=\"background-color:#e2d7d5;\">ung zwar als </span><span style=\"background-color:#d4e6e1;\">ein<br>neues Unter</span>schiedne<span style=\"background-color:#ebdef0;\"> vom göttlichen </span>Gefühlsaug<span style=\"background-color:#d8daef;\">er als<br>in d</span><span style=\"background-color:#d4e6e1;\">ieselbe best</span><span style=\"background-color:#e2d7d5;\">immt werden könnte, </span><span style=\"background-color:#d4e6e1;\">und wenn ihr</span><span style=\"background-color:#d8daef;\">e Gegenwart<br></span><span style=\"background-color:#ecf3cf;\">bestimmt werden. </span>"
            ],
            "text/plain": [
              "<IPython.core.display.HTML object>"
            ]
          },
          "metadata": {
            "tags": []
          }
        },
        {
          "output_type": "display_data",
          "data": {
            "text/html": [
              "<small><p style=\"text-align:right;\">Sources: <span style=\"background-color:#e2d7d5;\">Immanuel Kant: Tr?e eines Geistersehers, erl?ert by Tr?e der Metaphysik</span>, <span style=\"background-color:#d8daef;\">Arthur Schopenhauer: Aphorismen zur Lebensweisheit</span>, <span style=\"background-color:#d4efdf;\">Immanuel Kant: Kant's gesammelte Schriften</span>, <span style=\"background-color:#e2d7d5;\">Immanuel Kant: Kritik der reinen Vernunft (2nd Edition)</span>, <span style=\"background-color:#d4e6f1;\">Friedrich Wilhelm Nietzsche: Menschliches, Allzumenschliches</span>, <span style=\"background-color:#d8daef;\">Friedrich Nietzsche: Der Wille zur Macht</span>, <span style=\"background-color:#d4e6f1;\">Gottfried Wilhelm Leibniz: Leibnitz' Monadologie</span>, <span style=\"background-color:#f6ddcc;\">Immanuel Kant: ?er die Vulkane im Monde</span>, <span style=\"background-color:#ecf3cf;\">Immanuel Kant: Die Religion innerhalb der Grenzen der bloßen Vernunft</span>, <span style=\"background-color:#ecf3cf;\">Friedrich Wilhelm Nietzsche: Ecce Homo</span>, <span style=\"background-color:#eadbd8;\">Georg Wilhelm Friedrich Hegel: Phänomenologie des Geistes</span>, <span style=\"background-color:#d4e6e1;\">Georg Wilhelm Friedrich Hegel: Wissenshaft der Logik, Vol. 2</span>, <span style=\"background-color:#d4e6e1;\">Johann Gottlieb Fichte: Reden an die deutsche Nation</span>, <span style=\"background-color:#d8daef;\">Georg Wilhelm Friedrich Hegel: Wissenschaft der Logik, Erster Teil</span>, <span style=\"background-color:#ebdef0;\">Georg Wilhelm Friedrich Hegel: Rede zum Schuljahresabschluß</span>, <span style=\"background-color:#ecf3cf;\">Immanuel Kant: Beobachtungen ? das Gef?des Sch? und Erhabenen</span>, <span style=\"background-color:#ebdef0;\">Immanuel Kant: Zum ewigen Frieden</span></p></small>"
            ],
            "text/plain": [
              "<IPython.core.display.HTML object>"
            ]
          },
          "metadata": {
            "tags": []
          }
        },
        {
          "output_type": "stream",
          "text": [
            "> Materie und Geist sind von einer Substanz\n",
            "9 sentences\n"
          ],
          "name": "stdout"
        },
        {
          "output_type": "display_data",
          "data": {
            "text/html": [
              "an,<span style=\"background-color:#d4e6f1;\"> eine<br>innere </span><span style=\"background-color:#e2d7d5;\">Bestimmung bez</span><span style=\"background-color:#e2d7d5;\">ieht sich unmittelbar </span><span style=\"background-color:#d8daef;\">selbst die andere</span><span style=\"background-color:#d8daef;\"><br>nicht an ihm selbst </span><span style=\"background-color:#d8daef;\">hat, so ist sie </span><span style=\"background-color:#d4efdf;\">als ein ihr</span><span style=\"background-color:#d4e6e1;\"><br>Gesetztes, </span><span style=\"background-color:#d8daef;\">es ist so n</span><span style=\"background-color:#d8daef;\">och die unmittelbare </span><span style=\"background-color:#eadbd8;\">und das<br>Absolute</span><span style=\"background-color:#d4e6e1;\"> als an und für sich seyende </span><span style=\"background-color:#d4e6e1;\">Welt gegen<br></span><span style=\"background-color:#eadbd8;\">sein _Wesen_, </span><span style=\"background-color:#d8daef;\">das heißt, sie sind </span><span style=\"background-color:#d8daef;\">nur in der </span>Tha<span style=\"background-color:#eadbd8;\">t das<br>_An-sich_ </span><span style=\"background-color:#eadbd8;\">oder der Gegens</span>atz<span style=\"background-color:#eadbd8;\"> _an sich_; d</span><span style=\"background-color:#d4e6e1;\">. h. sie s</span><span style=\"background-color:#d8daef;\">etzt<br>eine </span><span style=\"background-color:#d4e6e1;\">_einzelne </span><span style=\"background-color:#d4e6e1;\">Quantität_ </span><span style=\"background-color:#e2d7d5;\">der reinen Verstandesbegriffe<br></span><span style=\"background-color:#e2d7d5;\">angeschaut werden können, </span><span style=\"background-color:#d8daef;\">ohne dadurch </span><span style=\"background-color:#e2d7d5;\">zur Regel dient,</span><span style=\"background-color:#d4e6e1;\"><br>wie alle </span><span style=\"background-color:#e2d7d5;\">bloßen reinen Begriff</span><span style=\"background-color:#edebd0;\">en keinen Gegenstand<br></span><span style=\"background-color:#d8daef;\">desselben zu be</span><span style=\"background-color:#d8daef;\">stimmen, wor</span><span style=\"background-color:#d4e6e1;\">aus sich die </span>Regel<span style=\"background-color:#d8daef;\"><br>abhängig </span><span style=\"background-color:#e2d7d5;\">zu bestimmen mög</span><span style=\"background-color:#ecf3cf;\">en, und nach </span><span style=\"background-color:#ecf3cf;\">demselben<br></span>empor<span style=\"background-color:#d4efdf;\">auf in der </span><span style=\"background-color:#ecf3cf;\">Vereinigung derselben</span><span style=\"background-color:#d4efdf;\">, mithin als<br></span><span style=\"background-color:#e2d7d5;\">vorausgesetzt werden müsse</span><span style=\"background-color:#d4efdf;\">n, oder nicht, d</span>. "
            ],
            "text/plain": [
              "<IPython.core.display.HTML object>"
            ]
          },
          "metadata": {
            "tags": []
          }
        },
        {
          "output_type": "display_data",
          "data": {
            "text/html": [
              "<small><p style=\"text-align:right;\">Sources: <span style=\"background-color:#d4e6f1;\">Gottfried Wilhelm Leibniz: Leibnitz' Monadologie</span>, <span style=\"background-color:#e2d7d5;\">Immanuel Kant: Kritik der reinen Vernunft (2nd Edition)</span>, <span style=\"background-color:#d8daef;\">Georg Wilhelm Friedrich Hegel: Wissenschaft der Logik, Erster Teil</span>, <span style=\"background-color:#d4efdf;\">Immanuel Kant: Kant's gesammelte Schriften</span>, <span style=\"background-color:#d4e6e1;\">Georg Wilhelm Friedrich Hegel: Wissenshaft der Logik, Vol. 2</span>, <span style=\"background-color:#eadbd8;\">Georg Wilhelm Friedrich Hegel: Phänomenologie des Geistes</span>, <span style=\"background-color:#d8daef;\">Friedrich Nietzsche: Der Wille zur Macht</span>, <span style=\"background-color:#d4e6e1;\">Johann Gottlieb Fichte: Reden an die deutsche Nation</span>, <span style=\"background-color:#edebd0;\">Immanuel Kant: Kritik der reinen Vernunft (1st Edition)</span>, <span style=\"background-color:#ecf3cf;\">Immanuel Kant: Die Religion innerhalb der Grenzen der bloßen Vernunft</span></p></small>"
            ],
            "text/plain": [
              "<IPython.core.display.HTML object>"
            ]
          },
          "metadata": {
            "tags": []
          }
        },
        {
          "output_type": "stream",
          "text": [
            "> Das Ding an sich ist dem Menschen nicht zugänglich. \n",
            "6 sentences\n"
          ],
          "name": "stdout"
        },
        {
          "output_type": "display_data",
          "data": {
            "text/html": [
              "<span style=\"background-color:#ecf3cf;\">Dieses<br>ist d</span><span style=\"background-color:#d4e6e1;\">aher die Substanz </span><span style=\"background-color:#d8daef;\">des Unendlichen zu </span><span style=\"background-color:#e2d7d5;\">denken, und in</span> dies<span style=\"background-color:#d4e6e1;\">er<br>Allgemeinheit i</span><span style=\"background-color:#d4e6e1;\">st selbst die gesetzte</span><span style=\"background-color:#d8daef;\"> Unmittelbarkeit<br>d</span><span style=\"background-color:#d4e6e1;\">ie Vermittelung i</span><span style=\"background-color:#e2d7d5;\">n sich selbst ein </span><span style=\"background-color:#d8daef;\">Nichtseyn in sich<br></span><span style=\"background-color:#d8daef;\">reflektirt ist.  Diese </span><span style=\"background-color:#d8daef;\">Taten ist </span><span style=\"background-color:#eadbd8;\">daher zuerst d</span><span style=\"background-color:#d8daef;\">as<br>Ansichseyn a</span><span style=\"background-color:#eadbd8;\">ls das wesentliche Moment</span><span style=\"background-color:#d8daef;\"> des<br>Fürsichseyns, das </span><span style=\"background-color:#d4e6e1;\">als die absolute </span><span style=\"background-color:#eadbd8;\">Substanz seine</span><span style=\"background-color:#d8daef;\"><br>Bestimmtheit aus</span>ma<span style=\"background-color:#eadbd8;\">chte.  Aber die</span><span style=\"background-color:#d8daef;\"> Realität, die<br>e</span><span style=\"background-color:#ecf3cf;\">s in seine </span><span style=\"background-color:#eadbd8;\">Gestalt ausmachen </span><span style=\"background-color:#eadbd8;\">würde, sondern als</span><span style=\"background-color:#d4e6e1;\"><br>Extreme in sich </span><span style=\"background-color:#d8daef;\">selbst, ist das</span><span style=\"background-color:#eadbd8;\"> absolute Wesen<br></span><span style=\"background-color:#ecf3cf;\">ausgestoßen, und </span><span style=\"background-color:#d4e6e1;\">das Verhältniß der S</span><span style=\"background-color:#d4e6f1;\">eiten des Scheins</span><span style=\"background-color:#e2d7d5;\"><br>selbst nur als </span><span style=\"background-color:#eadbd8;\">ein Anderes als e</span><span style=\"background-color:#d4e6e1;\">ine _Einzelnheit_,</span><span style=\"background-color:#d8daef;\"><br>welche es an </span><span style=\"background-color:#d4e6e1;\">und für sich seyenden </span><span style=\"background-color:#d4e6e1;\">Begriff<br>ist _</span><span style=\"background-color:#eadbd8;\">seine eigne _Ge</span>dank<span style=\"background-color:#eadbd8;\">e_ in ihrer </span><span style=\"background-color:#d0ece7;\">_Besonnenheit_</span><br>haben. "
            ],
            "text/plain": [
              "<IPython.core.display.HTML object>"
            ]
          },
          "metadata": {
            "tags": []
          }
        },
        {
          "output_type": "display_data",
          "data": {
            "text/html": [
              "<small><p style=\"text-align:right;\">Sources: <span style=\"background-color:#ecf3cf;\">Immanuel Kant: Beobachtungen ? das Gef?des Sch? und Erhabenen</span>, <span style=\"background-color:#d4e6e1;\">Georg Wilhelm Friedrich Hegel: Wissenshaft der Logik, Vol. 2</span>, <span style=\"background-color:#d8daef;\">Georg Wilhelm Friedrich Hegel: Wissenschaft der Logik, Erster Teil</span>, <span style=\"background-color:#e2d7d5;\">Immanuel Kant: Tr?e eines Geistersehers, erl?ert by Tr?e der Metaphysik</span>, <span style=\"background-color:#e2d7d5;\">Immanuel Kant: Kritik der reinen Vernunft (2nd Edition)</span>, <span style=\"background-color:#d8daef;\">Arthur Schopenhauer: Aphorismen zur Lebensweisheit</span>, <span style=\"background-color:#eadbd8;\">Georg Wilhelm Friedrich Hegel: Phänomenologie des Geistes</span>, <span style=\"background-color:#ecf3cf;\">Immanuel Kant: Die Religion innerhalb der Grenzen der bloßen Vernunft</span>, <span style=\"background-color:#d4e6f1;\">Gottfried Wilhelm Leibniz: Leibnitz' Monadologie</span>, <span style=\"background-color:#d0ece7;\">G. W. F. Hegel: The Philosophy of Fine Art, Volume 4 of 4</span></p></small>"
            ],
            "text/plain": [
              "<IPython.core.display.HTML object>"
            ]
          },
          "metadata": {
            "tags": []
          }
        },
        {
          "output_type": "stream",
          "text": [
            "> Human life as the expression of freedom.\n",
            "5 sentences\n"
          ],
          "name": "stdout"
        },
        {
          "output_type": "display_data",
          "data": {
            "text/html": [
              "<span style=\"background-color:#d0ece7;\">The material is </span><span style=\"background-color:#fae5d3;\">also the<br>rea</span><span style=\"background-color:#d6eaf8;\">ction in its entire</span><span style=\"background-color:#d0ece7;\"> content.<br><br>(</span>1.)<span style=\"background-color:#d0ece7;\"> The source of that</span><span style=\"background-color:#fdebd0;\"> method of proof</span><span style=\"background-color:#fae5d3;\">, the sensation</span><span style=\"background-color:#d4e6e1;\">,<br>the anti</span><span style=\"background-color:#d4efdf;\">thesis, our </span><span style=\"background-color:#fdebd0;\">approbation, tha</span><span style=\"background-color:#ebdef0;\">t is to<br>say, wh</span><span style=\"background-color:#edebd0;\">ich are called </span><span style=\"background-color:#edebd0;\">antecedent to the </span><span style=\"background-color:#f6ddcc;\">sensible<br>world </span><span style=\"background-color:#d6dbdf;\">by means of the thin</span>g<span style=\"background-color:#fdebd0;\">s (the principle of sufficient</span><span style=\"background-color:#d4efdf;\"><br>reason, which is </span>als<span style=\"background-color:#d4efdf;\">o a practical r</span><span style=\"background-color:#d6dbdf;\">eflection of<br>the </span><span style=\"background-color:#ebdef0;\">human will)</span><span style=\"background-color:#d0ece7;\">, which is inseparable from th</span><span style=\"background-color:#d8daef;\">e<br>problem of the </span><span style=\"background-color:#fdebd0;\">understanding, it is a</span><span style=\"background-color:#edebd0;\"> matter of<br>indifference whether </span><span style=\"background-color:#d4e6f1;\">the young men </span><span style=\"background-color:#e5e8e8;\">began to be<br></span><span style=\"background-color:#d6dbdf;\">able to assert itself a</span><span style=\"background-color:#fae5d3;\">s ideal and u</span><span style=\"background-color:#edebd0;\">niversal,<br>and in</span><span style=\"background-color:#edebd0;\"> the form of the s</span><span style=\"background-color:#fae5d3;\">ynthesis of the world</span><span style=\"background-color:#ebdef0;\">, that<br>is to say, </span><span style=\"background-color:#f6ddcc;\">by the senses </span><span style=\"background-color:#d6eaf8;\">have a particular<br></span><span style=\"background-color:#d6dbdf;\">  proposition, </span><span style=\"background-color:#d6dbdf;\">and the ideas of pu</span><span style=\"background-color:#d4efdf;\">re reason can be</span><br><span style=\"background-color:#d6dbdf;\">  discover</span><span style=\"background-color:#edebd0;\">ed in the abstract </span><span style=\"background-color:#d4e6f1;\">and separate from it</span><span style=\"background-color:#d6dbdf;\">.<br><br>But that is </span><span style=\"background-color:#d4e6f1;\">a moral philosophy </span><span style=\"background-color:#d0ece7;\">in the world, which is the</span><span style=\"background-color:#d6eaf8;\"><br>intelligence of the </span><span style=\"background-color:#f6ddcc;\">law of causality is </span><span style=\"background-color:#d4e6f1;\">distinguished from<br>the </span><span style=\"background-color:#d4e6e1;\">former is the o</span><span style=\"background-color:#d4e6f1;\">bject of fin</span><span style=\"background-color:#d0ece7;\">itude and su</span>bsta<span style=\"background-color:#d6dbdf;\">nce.<br>Objects </span><span style=\"background-color:#e5e8e8;\">therefore can be cogni</span><span style=\"background-color:#d4e6e1;\">zed à priori. Thus<br></span><span style=\"background-color:#d0ece7;\">with regard to the origin</span><span style=\"background-color:#fdebd0;\">al forces of nature<br></span><span style=\"background-color:#fdebd0;\">      the i</span><span style=\"background-color:#edebd0;\">magination, p</span>la<span style=\"background-color:#e5e8e8;\">nt.<br><br>     M</span>an<span style=\"background-color:#ebdef0;\"> and mountains </span><span style=\"background-color:#edebd0;\">his brain </span><span style=\"background-color:#edebd0;\">resembling the </span><span style=\"background-color:#e5e8e8;\">necessary<br>    </span><span style=\"background-color:#d4efdf;\">      any </span><span style=\"background-color:#d6eaf8;\">purpose of an</span><span style=\"background-color:#e5e8e8;\">y examples in </span><span style=\"background-color:#ebdef0;\">my life, tha</span><span style=\"background-color:#edebd0;\">t is to say,<br></span><span style=\"background-color:#d0ece7;\">          assuming the </span><span style=\"background-color:#fdebd0;\">progress of the se</span><span style=\"background-color:#d0ece7;\">cond triad is </span><span style=\"background-color:#fae5d3;\">under the<br>  </span><span style=\"background-color:#d8daef;\">                                                                </span><span style=\"background-color:#eadbd8;\">und Dasein f</span>rei<span style=\"background-color:#ecf3cf;\"><br>geblieben. D</span><span style=\"background-color:#d8daef;\">er tragische M</span><span style=\"background-color:#d8daef;\">oral ist gerade </span><span style=\"background-color:#e2d7d5;\">in diesem<br>  </span>Gebieteweilke<span style=\"background-color:#d8daef;\">satz zum T</span>eil<span style=\"background-color:#d8daef;\"> verkennen, daß</span> <span style=\"background-color:#d4efdf;\">er<br>     si</span><span style=\"background-color:#d8daef;\">e meinen, </span><span style=\"background-color:#d4e6f1;\">als ob sie ein </span><span style=\"background-color:#ecf3cf;\">allgemeines </span><span style=\"background-color:#ecf3cf;\">    (B 222</span>-23).<br>f<span style=\"background-color:#f6ddcc;\">est gleich </span><span style=\"background-color:#d4e6e1;\">auf den Gesch</span><span style=\"background-color:#d4efdf;\">ichtlichen </span><span style=\"background-color:#fae5d3;\">zu moralischen</span><br>W<span style=\"background-color:#d4e6e1;\">erte, welche</span><span style=\"background-color:#e2d7d5;\"> den Sinnen be</span><span style=\"background-color:#d4efdf;\">ruht also </span><span style=\"background-color:#d4e6f1;\">noch so kleine<br></span><span style=\"background-color:#d4e6e1;\">Zeit hätte</span>. "
            ],
            "text/plain": [
              "<IPython.core.display.HTML object>"
            ]
          },
          "metadata": {
            "tags": []
          }
        },
        {
          "output_type": "display_data",
          "data": {
            "text/html": [
              "<small><p style=\"text-align:right;\">Sources: <span style=\"background-color:#d0ece7;\">Arthur Schopenhauer: The World as Will and Idea (Vol. 2 of 3)</span>, <span style=\"background-color:#fae5d3;\">William Wallace and G. W. F. Hegel: Prolegomena to the Study of Hegel's Philosophy</span>, <span style=\"background-color:#d6eaf8;\">G. W. F. Hegel: The Philosophy of Fine Art, Volume 3 of 4</span>, <span style=\"background-color:#d0ece7;\">G. W. F. Hegel: The Philosophy of Fine Art, Volume 4 of 4</span>, <span style=\"background-color:#fdebd0;\">Arthur Schopenhauer: The World as Will and Idea (Vol. 1 of 3)</span>, <span style=\"background-color:#d4e6e1;\">Friedrich Nietzsche: The Will to Power, Books III and IV</span>, <span style=\"background-color:#d4efdf;\">G. W. Leibniz: Theodicy</span>, <span style=\"background-color:#fdebd0;\">David Hume: Philosophical Works, Vol. 2 of 4</span>, <span style=\"background-color:#ebdef0;\">Søren Kierkegaard: Selections from the Writings of Kierkegaard</span>, <span style=\"background-color:#edebd0;\">Georg Wilhelm Hegel: The History of Philosophy: Volume 3 of 3</span>, <span style=\"background-color:#edebd0;\">Arthur Schopenhauer: The Basis of Morality</span>, <span style=\"background-color:#f6ddcc;\">G. W. F. Hegel: The Logic of Hegel</span>, <span style=\"background-color:#d6dbdf;\">G. W. F. Hegel: The Philosophy of Fine Art, Vol. 1 of 4</span>, <span style=\"background-color:#d4efdf;\">Arthur Schopenhauer: The World as Will and Idea (Vol. 3 of 3)</span>, <span style=\"background-color:#d4efdf;\">Immanuel Kant: The Critique of Practical Reason</span>, <span style=\"background-color:#ebdef0;\">Friedrich Wilhelm Nietzsche: Human, All-Too-Human, Part II</span>, <span style=\"background-color:#d8daef;\">Friedrich Nietzsche: The Will to Power, Books I and II</span>, <span style=\"background-color:#edebd0;\">Friedrich Wilhelm Nietzsche: Twilight of the Idols - The Antichrist</span>, <span style=\"background-color:#d4e6f1;\">Friedrich Wilhelm Nietzsche: On the Future of our Educational Institutions - Homer and Classical Philology</span>, <span style=\"background-color:#e5e8e8;\">David Hume: Philosophical Works, Vol. 1 of 4</span>, <span style=\"background-color:#d6dbdf;\">Georg Wilhelm Friedrich Hegel: Hegel's Philosophy of Mind</span>, <span style=\"background-color:#d6dbdf;\">David Hume: A Treatise of Human Nature, Vols. 1 & 2</span>, <span style=\"background-color:#d4e6f1;\">G. W. F. Hegel: The Philosophy of Fine Art, Vol. 2 of 4</span>, <span style=\"background-color:#d4e6f1;\">Montaigne, Michel, Sainte-Beuve, Charles-Augustin; Renan, Ernest, Lessing, Gotthold Ephraim, Von Schiller, J.C., Kant, Immanuel, Mazzini, and Giuseppe: Literary and Philosophical Essays</span>, <span style=\"background-color:#d0ece7;\">Georg Wilhelm Hegel: Hegel's Lectures on the History of Philosophy: Vol. 2 of 3</span>, <span style=\"background-color:#f6ddcc;\">Arthur Schopenhauer: On the Fourfold Root of the Principle of Sufficient Reason and On the Will in Nature: Two Essays (revised edition)</span>, <span style=\"background-color:#d4e6e1;\">Immanuel Kant: The Critique of Pure Reason</span>, <span style=\"background-color:#d0ece7;\">Immanuel Kant: Fundamental Principles of the Metaphysic of Morals</span>, <span style=\"background-color:#e5e8e8;\">Immanuel Kant: Kant's Critique of Judgement</span>, <span style=\"background-color:#d0ece7;\">David Hume and L. A. Selby-Bigge: Enquiry Concerning Human Understanding</span>, <span style=\"background-color:#ebdef0;\">René Descartes: A Discourse on Method</span>, <span style=\"background-color:#fae5d3;\">Immanuel Kant: Perpetual Peace</span>, <span style=\"background-color:#d8daef;\">Friedrich Nietzsche: Der Wille zur Macht</span>, <span style=\"background-color:#eadbd8;\">Georg Wilhelm Friedrich Hegel: Phänomenologie des Geistes</span>, <span style=\"background-color:#ecf3cf;\">Immanuel Kant: Die Religion innerhalb der Grenzen der bloßen Vernunft</span>, <span style=\"background-color:#e2d7d5;\">Immanuel Kant: Tr?e eines Geistersehers, erl?ert by Tr?e der Metaphysik</span>, <span style=\"background-color:#d4efdf;\">Immanuel Kant: Kant's gesammelte Schriften</span>, <span style=\"background-color:#d8daef;\">Arthur Schopenhauer: Aphorismen zur Lebensweisheit</span>, <span style=\"background-color:#d4e6f1;\">Friedrich Wilhelm Nietzsche: Menschliches, Allzumenschliches</span>, <span style=\"background-color:#f6ddcc;\">Friedrich Wilhelm Nietzsche: Also Sprach Zarathustra</span>, <span style=\"background-color:#d4e6e1;\">Johann Gottlieb Fichte: Reden an die deutsche Nation</span>, <span style=\"background-color:#fae5d3;\">Friedrick Wilhelm Nietzsche: Jenseits von Gut und Boese</span>, <span style=\"background-color:#d4e6f1;\">Gottfried Wilhelm Leibniz: Leibnitz' Monadologie</span></p></small>"
            ],
            "text/plain": [
              "<IPython.core.display.HTML object>"
            ]
          },
          "metadata": {
            "tags": []
          }
        },
        {
          "output_type": "stream",
          "text": [
            "> "
          ],
          "name": "stdout"
        },
        {
          "output_type": "error",
          "ename": "KeyboardInterrupt",
          "evalue": "ignored",
          "traceback": [
            "\u001b[0;31m---------------------------------------------------------------------------\u001b[0m",
            "\u001b[0;31mKeyboardInterrupt\u001b[0m                         Traceback (most recent call last)",
            "\u001b[0;32m/usr/local/lib/python3.6/dist-packages/ipykernel/kernelbase.py\u001b[0m in \u001b[0;36m_input_request\u001b[0;34m(self, prompt, ident, parent, password)\u001b[0m\n\u001b[1;32m    729\u001b[0m             \u001b[0;32mtry\u001b[0m\u001b[0;34m:\u001b[0m\u001b[0;34m\u001b[0m\u001b[0;34m\u001b[0m\u001b[0m\n\u001b[0;32m--> 730\u001b[0;31m                 \u001b[0mident\u001b[0m\u001b[0;34m,\u001b[0m \u001b[0mreply\u001b[0m \u001b[0;34m=\u001b[0m \u001b[0mself\u001b[0m\u001b[0;34m.\u001b[0m\u001b[0msession\u001b[0m\u001b[0;34m.\u001b[0m\u001b[0mrecv\u001b[0m\u001b[0;34m(\u001b[0m\u001b[0mself\u001b[0m\u001b[0;34m.\u001b[0m\u001b[0mstdin_socket\u001b[0m\u001b[0;34m,\u001b[0m \u001b[0;36m0\u001b[0m\u001b[0;34m)\u001b[0m\u001b[0;34m\u001b[0m\u001b[0;34m\u001b[0m\u001b[0m\n\u001b[0m\u001b[1;32m    731\u001b[0m             \u001b[0;32mexcept\u001b[0m \u001b[0mException\u001b[0m\u001b[0;34m:\u001b[0m\u001b[0;34m\u001b[0m\u001b[0;34m\u001b[0m\u001b[0m\n",
            "\u001b[0;32m/usr/local/lib/python3.6/dist-packages/jupyter_client/session.py\u001b[0m in \u001b[0;36mrecv\u001b[0;34m(self, socket, mode, content, copy)\u001b[0m\n\u001b[1;32m    802\u001b[0m         \u001b[0;32mtry\u001b[0m\u001b[0;34m:\u001b[0m\u001b[0;34m\u001b[0m\u001b[0;34m\u001b[0m\u001b[0m\n\u001b[0;32m--> 803\u001b[0;31m             \u001b[0mmsg_list\u001b[0m \u001b[0;34m=\u001b[0m \u001b[0msocket\u001b[0m\u001b[0;34m.\u001b[0m\u001b[0mrecv_multipart\u001b[0m\u001b[0;34m(\u001b[0m\u001b[0mmode\u001b[0m\u001b[0;34m,\u001b[0m \u001b[0mcopy\u001b[0m\u001b[0;34m=\u001b[0m\u001b[0mcopy\u001b[0m\u001b[0;34m)\u001b[0m\u001b[0;34m\u001b[0m\u001b[0;34m\u001b[0m\u001b[0m\n\u001b[0m\u001b[1;32m    804\u001b[0m         \u001b[0;32mexcept\u001b[0m \u001b[0mzmq\u001b[0m\u001b[0;34m.\u001b[0m\u001b[0mZMQError\u001b[0m \u001b[0;32mas\u001b[0m \u001b[0me\u001b[0m\u001b[0;34m:\u001b[0m\u001b[0;34m\u001b[0m\u001b[0;34m\u001b[0m\u001b[0m\n",
            "\u001b[0;32m/usr/local/lib/python3.6/dist-packages/zmq/sugar/socket.py\u001b[0m in \u001b[0;36mrecv_multipart\u001b[0;34m(self, flags, copy, track)\u001b[0m\n\u001b[1;32m    465\u001b[0m         \"\"\"\n\u001b[0;32m--> 466\u001b[0;31m         \u001b[0mparts\u001b[0m \u001b[0;34m=\u001b[0m \u001b[0;34m[\u001b[0m\u001b[0mself\u001b[0m\u001b[0;34m.\u001b[0m\u001b[0mrecv\u001b[0m\u001b[0;34m(\u001b[0m\u001b[0mflags\u001b[0m\u001b[0;34m,\u001b[0m \u001b[0mcopy\u001b[0m\u001b[0;34m=\u001b[0m\u001b[0mcopy\u001b[0m\u001b[0;34m,\u001b[0m \u001b[0mtrack\u001b[0m\u001b[0;34m=\u001b[0m\u001b[0mtrack\u001b[0m\u001b[0;34m)\u001b[0m\u001b[0;34m]\u001b[0m\u001b[0;34m\u001b[0m\u001b[0;34m\u001b[0m\u001b[0m\n\u001b[0m\u001b[1;32m    467\u001b[0m         \u001b[0;31m# have first part already, only loop while more to receive\u001b[0m\u001b[0;34m\u001b[0m\u001b[0;34m\u001b[0m\u001b[0;34m\u001b[0m\u001b[0m\n",
            "\u001b[0;32mzmq/backend/cython/socket.pyx\u001b[0m in \u001b[0;36mzmq.backend.cython.socket.Socket.recv\u001b[0;34m()\u001b[0m\n",
            "\u001b[0;32mzmq/backend/cython/socket.pyx\u001b[0m in \u001b[0;36mzmq.backend.cython.socket.Socket.recv\u001b[0;34m()\u001b[0m\n",
            "\u001b[0;32mzmq/backend/cython/socket.pyx\u001b[0m in \u001b[0;36mzmq.backend.cython.socket._recv_copy\u001b[0;34m()\u001b[0m\n",
            "\u001b[0;32m/usr/local/lib/python3.6/dist-packages/zmq/backend/cython/checkrc.pxd\u001b[0m in \u001b[0;36mzmq.backend.cython.checkrc._check_rc\u001b[0;34m()\u001b[0m\n",
            "\u001b[0;31mKeyboardInterrupt\u001b[0m: ",
            "\nDuring handling of the above exception, another exception occurred:\n",
            "\u001b[0;31mKeyboardInterrupt\u001b[0m                         Traceback (most recent call last)",
            "\u001b[0;32m<ipython-input-31-9995c3b6bba7>\u001b[0m in \u001b[0;36m<module>\u001b[0;34m()\u001b[0m\n\u001b[0;32m----> 1\u001b[0;31m \u001b[0mdoDialog\u001b[0m\u001b[0;34m(\u001b[0m\u001b[0;34m)\u001b[0m\u001b[0;34m\u001b[0m\u001b[0;34m\u001b[0m\u001b[0m\n\u001b[0m",
            "\u001b[0;32m<ipython-input-30-1da763310d43>\u001b[0m in \u001b[0;36mdoDialog\u001b[0;34m()\u001b[0m\n\u001b[1;32m     22\u001b[0m     \u001b[0;32mwhile\u001b[0m \u001b[0;32mnot\u001b[0m \u001b[0mbye\u001b[0m\u001b[0;34m:\u001b[0m\u001b[0;34m\u001b[0m\u001b[0;34m\u001b[0m\u001b[0m\n\u001b[1;32m     23\u001b[0m         \u001b[0mprint\u001b[0m\u001b[0;34m(\u001b[0m\u001b[0;34m\"> \"\u001b[0m\u001b[0;34m,\u001b[0m \u001b[0mend\u001b[0m\u001b[0;34m=\u001b[0m\u001b[0;34m\"\"\u001b[0m\u001b[0;34m)\u001b[0m\u001b[0;34m\u001b[0m\u001b[0;34m\u001b[0m\u001b[0m\n\u001b[0;32m---> 24\u001b[0;31m         \u001b[0mprompt\u001b[0m \u001b[0;34m=\u001b[0m \u001b[0minput\u001b[0m\u001b[0;34m(\u001b[0m\u001b[0;34m)\u001b[0m\u001b[0;34m\u001b[0m\u001b[0;34m\u001b[0m\u001b[0m\n\u001b[0m\u001b[1;32m     25\u001b[0m         \u001b[0;32mif\u001b[0m \u001b[0mprompt\u001b[0m \u001b[0;34m==\u001b[0m \u001b[0;34m'bye'\u001b[0m\u001b[0;34m:\u001b[0m\u001b[0;34m\u001b[0m\u001b[0;34m\u001b[0m\u001b[0m\n\u001b[1;32m     26\u001b[0m             \u001b[0mbye\u001b[0m \u001b[0;34m=\u001b[0m \u001b[0;32mTrue\u001b[0m\u001b[0;34m\u001b[0m\u001b[0;34m\u001b[0m\u001b[0m\n",
            "\u001b[0;32m/usr/local/lib/python3.6/dist-packages/ipykernel/kernelbase.py\u001b[0m in \u001b[0;36mraw_input\u001b[0;34m(self, prompt)\u001b[0m\n\u001b[1;32m    703\u001b[0m             \u001b[0mself\u001b[0m\u001b[0;34m.\u001b[0m\u001b[0m_parent_ident\u001b[0m\u001b[0;34m,\u001b[0m\u001b[0;34m\u001b[0m\u001b[0;34m\u001b[0m\u001b[0m\n\u001b[1;32m    704\u001b[0m             \u001b[0mself\u001b[0m\u001b[0;34m.\u001b[0m\u001b[0m_parent_header\u001b[0m\u001b[0;34m,\u001b[0m\u001b[0;34m\u001b[0m\u001b[0;34m\u001b[0m\u001b[0m\n\u001b[0;32m--> 705\u001b[0;31m             \u001b[0mpassword\u001b[0m\u001b[0;34m=\u001b[0m\u001b[0;32mFalse\u001b[0m\u001b[0;34m,\u001b[0m\u001b[0;34m\u001b[0m\u001b[0;34m\u001b[0m\u001b[0m\n\u001b[0m\u001b[1;32m    706\u001b[0m         )\n\u001b[1;32m    707\u001b[0m \u001b[0;34m\u001b[0m\u001b[0m\n",
            "\u001b[0;32m/usr/local/lib/python3.6/dist-packages/ipykernel/kernelbase.py\u001b[0m in \u001b[0;36m_input_request\u001b[0;34m(self, prompt, ident, parent, password)\u001b[0m\n\u001b[1;32m    733\u001b[0m             \u001b[0;32mexcept\u001b[0m \u001b[0mKeyboardInterrupt\u001b[0m\u001b[0;34m:\u001b[0m\u001b[0;34m\u001b[0m\u001b[0;34m\u001b[0m\u001b[0m\n\u001b[1;32m    734\u001b[0m                 \u001b[0;31m# re-raise KeyboardInterrupt, to truncate traceback\u001b[0m\u001b[0;34m\u001b[0m\u001b[0;34m\u001b[0m\u001b[0;34m\u001b[0m\u001b[0m\n\u001b[0;32m--> 735\u001b[0;31m                 \u001b[0;32mraise\u001b[0m \u001b[0mKeyboardInterrupt\u001b[0m\u001b[0;34m\u001b[0m\u001b[0;34m\u001b[0m\u001b[0m\n\u001b[0m\u001b[1;32m    736\u001b[0m             \u001b[0;32melse\u001b[0m\u001b[0;34m:\u001b[0m\u001b[0;34m\u001b[0m\u001b[0;34m\u001b[0m\u001b[0m\n\u001b[1;32m    737\u001b[0m                 \u001b[0;32mbreak\u001b[0m\u001b[0;34m\u001b[0m\u001b[0;34m\u001b[0m\u001b[0m\n",
            "\u001b[0;31mKeyboardInterrupt\u001b[0m: "
          ]
        }
      ]
    },
    {
      "cell_type": "code",
      "metadata": {
        "id": "eON9sYdz_1lh"
      },
      "source": [
        ""
      ],
      "execution_count": null,
      "outputs": []
    }
  ]
}