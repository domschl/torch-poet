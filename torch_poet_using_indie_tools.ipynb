{
  "nbformat": 4,
  "nbformat_minor": 0,
  "metadata": {
    "accelerator": "GPU",
    "colab": {
      "name": "torch_poet_using_indie_tools.ipynb",
      "provenance": [],
      "collapsed_sections": [],
      "include_colab_link": true
    },
    "kernelspec": {
      "display_name": "Python 3",
      "language": "python",
      "name": "python3"
    },
    "language_info": {
      "codemirror_mode": {
        "name": "ipython",
        "version": 3
      },
      "file_extension": ".py",
      "mimetype": "text/x-python",
      "name": "python",
      "nbconvert_exporter": "python",
      "pygments_lexer": "ipython3",
      "version": "3.8.1"
    }
  },
  "cells": [
    {
      "cell_type": "markdown",
      "metadata": {
        "id": "view-in-github",
        "colab_type": "text"
      },
      "source": [
        "<a href=\"https://colab.research.google.com/github/domschl/torch-poet/blob/master/torch_poet_using_indie_tools.ipynb\" target=\"_parent\"><img src=\"https://colab.research.google.com/assets/colab-badge.svg\" alt=\"Open In Colab\"/></a>"
      ]
    },
    {
      "cell_type": "code",
      "metadata": {
        "id": "28i44jSzUlon"
      },
      "source": [
        "import numpy as np\n",
        "import os\n",
        "import shutil\n",
        "from enum import Enum\n",
        "import re\n",
        "import time\n",
        "import logging\n",
        "import sys\n",
        "import json\n",
        "# import random\n",
        "import torch\n",
        "import torch.nn as nn\n",
        "from torch import Tensor"
      ],
      "execution_count": 1,
      "outputs": []
    },
    {
      "cell_type": "code",
      "source": [
        "pip install -U ml-indie-tools"
      ],
      "metadata": {
        "colab": {
          "base_uri": "https://localhost:8080/"
        },
        "id": "3G2rh6itKVOV",
        "outputId": "3191cd02-73ae-4dc8-a152-d20fd84f07ef"
      },
      "execution_count": 2,
      "outputs": [
        {
          "output_type": "stream",
          "name": "stdout",
          "text": [
            "Requirement already satisfied: ml-indie-tools in /usr/local/lib/python3.7/dist-packages (0.0.17)\n"
          ]
        }
      ]
    },
    {
      "cell_type": "code",
      "source": [
        "from ml_indie_tools.env_tools import MLEnv\n",
        "from ml_indie_tools.Gutenberg_Dataset import Gutenberg_Dataset\n",
        "from ml_indie_tools.Text_Dataset import Text_Dataset"
      ],
      "metadata": {
        "id": "KQAINcHlKev3"
      },
      "execution_count": 3,
      "outputs": []
    },
    {
      "cell_type": "markdown",
      "metadata": {
        "id": "eE-jm072kOKv"
      },
      "source": [
        "# 0. System configuration\n",
        "\n",
        "This notebook can either run on a local hardware, a jupyter server, or on Google Colab.\n",
        "\n",
        "This version of the notebook uses [ml-indie-tools](https://github.com/domschl/ml-indie-tools) to detect hardware, persistence handling, and access to training data. "
      ]
    },
    {
      "cell_type": "code",
      "metadata": {
        "id": "HVyGr-BCiJlR",
        "colab": {
          "base_uri": "https://localhost:8080/",
          "height": 36
        },
        "outputId": "6f3ecc94-ec68-4af7-ab85-78ff57eda3c1"
      },
      "source": [
        "ml_env=MLEnv(platform='pt')  # use PyTorch\n",
        "ml_env.describe()"
      ],
      "execution_count": 4,
      "outputs": [
        {
          "output_type": "execute_result",
          "data": {
            "application/vnd.google.colaboratory.intrinsic+json": {
              "type": "string"
            },
            "text/plain": [
              "'OS: Linux, Python: 3.7.12, Colab Jupyter Notebook Pytorch: 1.10.0+cu111, GPU: Tesla P100-PCIE-16GB (2MiB / 16280MiB), CPU'"
            ]
          },
          "metadata": {},
          "execution_count": 4
        }
      ]
    },
    {
      "cell_type": "code",
      "metadata": {
        "id": "ply0tFmz4O1E"
      },
      "source": [
        "project_name='women_writers'\n",
        "model_name='lstm_v1'\n",
        "root_path, project_path, model_path, data_path, log_path = ml_env.init_paths(project_name=project_name, model_name=model_name)"
      ],
      "execution_count": 5,
      "outputs": []
    },
    {
      "cell_type": "markdown",
      "metadata": {
        "id": "JoutSg5IUlot"
      },
      "source": [
        "# 1. Text data collection\n",
        "\n",
        "**Important note:** the following `project_name` determines the root directory for training data and model snapshots, so it should be changed whenever datasets of model configurations are changed."
      ]
    },
    {
      "cell_type": "markdown",
      "metadata": {
        "id": "KPkfXQbGjtp_"
      },
      "source": [
        "## 1.1 Project Gutenberg data source\n",
        "\n",
        "Search, filter, clean and download books from Project Gutenberg"
      ]
    },
    {
      "cell_type": "code",
      "metadata": {
        "id": "gz_LqFccjtqA"
      },
      "source": [
        "logging.basicConfig(level=logging.INFO)"
      ],
      "execution_count": 6,
      "outputs": []
    },
    {
      "cell_type": "code",
      "source": [
        "cache_dir = os.path.join(data_path, 'gutenberg_cache')\n",
        "gd = Gutenberg_Dataset(cache_dir=cache_dir)"
      ],
      "metadata": {
        "id": "0AQCjVinN-hN"
      },
      "execution_count": 7,
      "outputs": []
    },
    {
      "cell_type": "code",
      "metadata": {
        "id": "hrI3xSK7jtqL",
        "outputId": "915c0330-5e08-4108-f6bf-25b19a0144c1",
        "colab": {
          "base_uri": "https://localhost:8080/"
        }
      },
      "source": [
        "# sample searches\n",
        "search_spec= {\"author\": [\"brontë\",\"Jane Austen\", \"Woolf\"], \"language\": [\"english\"]}\n",
        "\n",
        "book_list=gd.search(search_spec)\n",
        "book_cnt = len(book_list)\n",
        "print(f\"{book_cnt} matching books found with search {search_spec}.\")\n",
        "if book_cnt<40:\n",
        "    # Note: please verify that book_cnt is 'reasonable'. If you plan to use a large number of texts, \n",
        "    # consider [mirroring Gutenberg](https://github.com/domschl/ml-indie-tools#working-with-a-local-mirror-of-project-gutenberg)\n",
        "    book_list = gd.insert_book_texts(book_list, download_count_limit=book_cnt)  \n",
        "else:\n",
        "    logging.error(\"Please verify your book_list, a large number of books is scheduled for download. ABORTED.\")"
      ],
      "execution_count": 8,
      "outputs": [
        {
          "output_type": "stream",
          "name": "stderr",
          "text": [
            "WARNING:GutenbergLib:Index not loaded, trying to load...\n",
            "INFO:GutenbergLib:Gutenberg index read from local cache: /content/drive/My Drive/Colab Notebooks/women_writers/data/gutenberg_cache/gutenberg_index\n",
            "INFO:GutenbergLib:Book read from cache at /content/drive/My Drive/Colab Notebooks/women_writers/data/gutenberg_cache/65754.txt\n",
            "INFO:GutenbergLib:Book read from cache at /content/drive/My Drive/Colab Notebooks/women_writers/data/gutenberg_cache/64457.txt\n",
            "INFO:GutenbergLib:Book read from cache at /content/drive/My Drive/Colab Notebooks/women_writers/data/gutenberg_cache/63022.txt\n",
            "INFO:GutenbergLib:Book read from cache at /content/drive/My Drive/Colab Notebooks/women_writers/data/gutenberg_cache/60627.txt\n",
            "INFO:GutenbergLib:Book read from cache at /content/drive/My Drive/Colab Notebooks/women_writers/data/gutenberg_cache/60239.txt\n",
            "INFO:GutenbergLib:Book read from cache at /content/drive/My Drive/Colab Notebooks/women_writers/data/gutenberg_cache/55679.txt\n",
            "INFO:GutenbergLib:Book read from cache at /content/drive/My Drive/Colab Notebooks/women_writers/data/gutenberg_cache/54066.txt\n",
            "INFO:GutenbergLib:Book read from cache at /content/drive/My Drive/Colab Notebooks/women_writers/data/gutenberg_cache/54012.txt\n",
            "INFO:GutenbergLib:Book read from cache at /content/drive/My Drive/Colab Notebooks/women_writers/data/gutenberg_cache/54011.txt\n",
            "INFO:GutenbergLib:Book read from cache at /content/drive/My Drive/Colab Notebooks/women_writers/data/gutenberg_cache/54010.txt\n",
            "INFO:GutenbergLib:Book read from cache at /content/drive/My Drive/Colab Notebooks/women_writers/data/gutenberg_cache/53747.txt\n",
            "WARNING:GutenbergLib:End-text is taking more than half of the book!\n",
            "INFO:GutenbergLib:Book read from cache at /content/drive/My Drive/Colab Notebooks/women_writers/data/gutenberg_cache/42671.txt\n",
            "INFO:GutenbergLib:Book read from cache at /content/drive/My Drive/Colab Notebooks/women_writers/data/gutenberg_cache/42078.txt\n",
            "WARNING:GutenbergLib:End-text is taking more than half of the book!\n",
            "INFO:GutenbergLib:Book read from cache at /content/drive/My Drive/Colab Notebooks/women_writers/data/gutenberg_cache/36285.txt\n",
            "INFO:GutenbergLib:Book read from cache at /content/drive/My Drive/Colab Notebooks/women_writers/data/gutenberg_cache/31100.txt\n"
          ]
        },
        {
          "output_type": "stream",
          "name": "stdout",
          "text": [
            "30 matching books found with search {'author': ['brontë', 'Jane Austen', 'Woolf'], 'language': ['english']}.\n"
          ]
        },
        {
          "output_type": "stream",
          "name": "stderr",
          "text": [
            "INFO:GutenbergLib:Book read from cache at /content/drive/My Drive/Colab Notebooks/women_writers/data/gutenberg_cache/9182.txt\n",
            "INFO:GutenbergLib:Book read from cache at /content/drive/My Drive/Colab Notebooks/women_writers/data/gutenberg_cache/5670.txt\n",
            "INFO:GutenbergLib:Book read from cache at /content/drive/My Drive/Colab Notebooks/women_writers/data/gutenberg_cache/1342.txt\n",
            "INFO:GutenbergLib:Book read from cache at /content/drive/My Drive/Colab Notebooks/women_writers/data/gutenberg_cache/1245.txt\n",
            "INFO:GutenbergLib:Book read from cache at /content/drive/My Drive/Colab Notebooks/women_writers/data/gutenberg_cache/1212.txt\n",
            "INFO:GutenbergLib:Book read from cache at /content/drive/My Drive/Colab Notebooks/women_writers/data/gutenberg_cache/946.txt\n",
            "INFO:GutenbergLib:Book read from cache at /content/drive/My Drive/Colab Notebooks/women_writers/data/gutenberg_cache/771.txt\n",
            "INFO:GutenbergLib:Book read from cache at /content/drive/My Drive/Colab Notebooks/women_writers/data/gutenberg_cache/768.txt\n",
            "INFO:GutenbergLib:Book read from cache at /content/drive/My Drive/Colab Notebooks/women_writers/data/gutenberg_cache/767.txt\n",
            "INFO:GutenbergLib:Book read from cache at /content/drive/My Drive/Colab Notebooks/women_writers/data/gutenberg_cache/161.txt\n",
            "INFO:GutenbergLib:Book read from cache at /content/drive/My Drive/Colab Notebooks/women_writers/data/gutenberg_cache/158.txt\n",
            "INFO:GutenbergLib:Book read from cache at /content/drive/My Drive/Colab Notebooks/women_writers/data/gutenberg_cache/144.txt\n",
            "INFO:GutenbergLib:Book read from cache at /content/drive/My Drive/Colab Notebooks/women_writers/data/gutenberg_cache/141.txt\n",
            "INFO:GutenbergLib:Book read from cache at /content/drive/My Drive/Colab Notebooks/women_writers/data/gutenberg_cache/121.txt\n",
            "INFO:GutenbergLib:Book read from cache at /content/drive/My Drive/Colab Notebooks/women_writers/data/gutenberg_cache/105.txt\n"
          ]
        }
      ]
    },
    {
      "cell_type": "markdown",
      "metadata": {
        "id": "aXqlcaNajtqb"
      },
      "source": [
        "## 1.2 Text library\n",
        "\n",
        "`TextLibrary` class: text library for training, encoding, batch generation,\n",
        "and formatted source display. It read some books from Project Gutenberg\n",
        "and supports creation of training batches. The output functions support\n",
        "highlighting to allow to compare generated texts with the actual sources\n",
        "to help to identify identical (memorized) parts of a given length."
      ]
    },
    {
      "cell_type": "code",
      "metadata": {
        "id": "OTg4QFewsJdE",
        "outputId": "9d531179-3bd9-4d36-e55d-74cadad96d67",
        "colab": {
          "base_uri": "https://localhost:8080/"
        }
      },
      "source": [
        "td = Text_Dataset(book_list)"
      ],
      "execution_count": 9,
      "outputs": [
        {
          "output_type": "stream",
          "name": "stderr",
          "text": [
            "INFO:Datasets:Loaded 30 texts\n"
          ]
        }
      ]
    },
    {
      "cell_type": "code",
      "metadata": {
        "id": "DnVzaGoRhytj"
      },
      "source": [
        "class TextLibraryDataset(torch.utils.data.Dataset):\n",
        "    def __init__(self, text_dataset, sample_length, torch_device, text_stepping=10):\n",
        "        self.device=torch_device\n",
        "        self.text_length=0\n",
        "        full_text=\"\"\n",
        "        for text in text_dataset.text_list:\n",
        "            if 'text' in text:\n",
        "                full_text += text['text']\n",
        "        text_encode = text_dataset.encode(full_text, tokenizer='char')\n",
        "        self.text_length = len(text_encode)\n",
        "        self.vocab_size = len(text_dataset.i2c)\n",
        "        self.text_stepping=text_stepping\n",
        "        self.sample_length=sample_length\n",
        "        self.records=int((self.text_length-sample_length-1)/text_stepping)\n",
        "        self.data=torch.LongTensor(text_encode).to(self.device)\n",
        "        del text_encode\n",
        "        del full_text\n",
        "        \n",
        "    def __len__(self):\n",
        "        return self.records\n",
        "\n",
        "    def __getitem__(self, idx):\n",
        "        if torch.is_tensor(idx):\n",
        "            idx = idx.tolist()\n",
        "        if idx>=self.records:\n",
        "            return None\n",
        "        X=self.data[idx*self.text_stepping:idx*self.text_stepping+self.sample_length].to(self.device)\n",
        "        y=self.data[idx*self.text_stepping+1:idx*self.text_stepping+self.sample_length+1].to(self.device)\n",
        "        return X,y"
      ],
      "execution_count": 10,
      "outputs": []
    },
    {
      "cell_type": "markdown",
      "metadata": {
        "id": "zP0Hcs82lWYI"
      },
      "source": [
        "# 2. The deep LSTM model"
      ]
    },
    {
      "cell_type": "markdown",
      "metadata": {
        "id": "m_JWmbgPUlpG"
      },
      "source": [
        "## 2.2 The char-rnn model class"
      ]
    },
    {
      "cell_type": "code",
      "metadata": {
        "id": "NcsP8OYlUlpH"
      },
      "source": [
        "class Poet(nn.Module):\n",
        "    def __init__(self, input_size, hidden_size, num_layers, output_size, device):\n",
        "        super(Poet, self).__init__()\n",
        "        \n",
        "        self.hidden_size = hidden_size\n",
        "        self.num_layers = num_layers\n",
        "        self.output_size = output_size\n",
        "        self.device=device\n",
        "       \n",
        "        self.oh = torch.eye(input_size, device=self.device)\n",
        "        self.lstm = nn.LSTM(input_size=input_size, hidden_size=hidden_size, num_layers=num_layers, batch_first=True, dropout=0)\n",
        "        \n",
        "        self.demb = nn.Linear(hidden_size, output_size)\n",
        "        self.softmax = nn.Softmax(dim=-1)  # negative dims are a recent thing (as 2018-03), remove for old vers.\n",
        "    \n",
        "    def init_hidden(self, batch_size):\n",
        "        self.h0 = torch.zeros(self.num_layers, batch_size, self.hidden_size, device=self.device)\n",
        "        self.c0 = torch.zeros(self.num_layers, batch_size, self.hidden_size, device=self.device)\n",
        "\n",
        "    def forward(self, inputx, steps):\n",
        "        lstm_input=self.oh[inputx]\n",
        "        self.lstm.flatten_parameters()\n",
        "        hn, (self.h0, self.c0) = self.lstm(lstm_input, (self.h0, self.c0))\n",
        "        hnr = hn.contiguous().view(-1,self.hidden_size)\n",
        "        op = self.demb(hnr)\n",
        "        opr = op.view(-1, steps ,self.output_size)\n",
        "        return opr\n",
        "\n",
        "    def generate(self, n, start=None, temperature=1.0):\n",
        "        s=''\n",
        "        torch.set_grad_enabled(False)\n",
        "        if start==None or len(start)==0:\n",
        "            start=' '\n",
        "        self.init_hidden(1)\n",
        "        for c in start:\n",
        "            Xt=torch.LongTensor([[textlib.c2i[c]]])\n",
        "            ypl = self.forward(Xt,1)\n",
        "            ypl2 = ypl.view(-1,self.output_size)\n",
        "            if temperature>0.0:\n",
        "                ypl2 = ypl2 / temperature\n",
        "            yp = self.softmax(ypl2)\n",
        "        for i in range(n):\n",
        "            ypc=Tensor.cpu(yp.detach()) # .cpu()\n",
        "            y_pred=ypc.numpy()\n",
        "            inds=list(range(self.output_size))\n",
        "            ind = np.random.choice(inds, p=y_pred.ravel())\n",
        "            s=s+td.i2c[ind]\n",
        "            X=np.array([[ind]])\n",
        "            Xt=torch.LongTensor(X)\n",
        "            ypl = self.forward(Xt,1)\n",
        "            ypl2 = ypl.view(-1,self.output_size)\n",
        "            if temperature>0.0:\n",
        "                ypl2 = ypl2 / temperature\n",
        "            yp = self.softmax(ypl2)\n",
        "        torch.set_grad_enabled(True)\n",
        "        return s    "
      ],
      "execution_count": 11,
      "outputs": []
    },
    {
      "cell_type": "markdown",
      "metadata": {
        "id": "ymdU_wIWUlpK"
      },
      "source": [
        "## 2.3 Model instance"
      ]
    },
    {
      "cell_type": "code",
      "source": [
        "td.init_tokenizer('char')"
      ],
      "metadata": {
        "id": "oH-FX-KylhEa"
      },
      "execution_count": 12,
      "outputs": []
    },
    {
      "cell_type": "code",
      "source": [
        "model_params = {\n",
        "    \"model_name\": model_name,\n",
        "    \"vocab_size\": len(td.i2c),\n",
        "    \"neurons\": 512,\n",
        "    \"layers\": 6,\n",
        "    \"learning_rate\": 1e-4,\n",
        "    \"steps\": 80,\n",
        "    \"batch_size\": 768\n",
        "}"
      ],
      "metadata": {
        "id": "Pblj5uQLleqo"
      },
      "execution_count": 13,
      "outputs": []
    },
    {
      "cell_type": "code",
      "source": [
        "if ml_env.is_tpu:\n",
        "    device='tpu'  # untested!\n",
        "elif ml_env.is_gpu:\n",
        "    device='cuda'\n",
        "else:\n",
        "    device='cpu'"
      ],
      "metadata": {
        "id": "Rwyg9BrLu3YE"
      },
      "execution_count": 14,
      "outputs": []
    },
    {
      "cell_type": "code",
      "metadata": {
        "id": "L7WuQ142UlpL"
      },
      "source": [
        "poet = Poet(model_params['vocab_size'], model_params['neurons'], model_params['layers'], model_params['vocab_size'], device).to(device)"
      ],
      "execution_count": 15,
      "outputs": []
    },
    {
      "cell_type": "markdown",
      "metadata": {
        "id": "FJp6Sjw6UlpP"
      },
      "source": [
        "## 2.4 Optimizer"
      ]
    },
    {
      "cell_type": "code",
      "metadata": {
        "id": "aeFxMxyuUlpQ"
      },
      "source": [
        "criterion = nn.CrossEntropyLoss()\n",
        "opti = torch.optim.Adam(poet.parameters(),lr=model_params['learning_rate']);"
      ],
      "execution_count": 16,
      "outputs": []
    },
    {
      "cell_type": "markdown",
      "metadata": {
        "id": "XtKdvxNymXpM"
      },
      "source": [
        "## 2.5 Helper Functions\n",
        "\n",
        "These allow to save or restore the training data. Saving and restoring can either be performed:\n",
        "\n",
        "* Jupyter: store/restore in a local directory,\n",
        "* Colab: store/restore on google drive. The training-code (using load_checkpoint()) will display an authentication url and code input-box in order to be able to access your google drive from this notebook. This allows to continue training sessions (or inference) after the Colab session was terminated."
      ]
    },
    {
      "cell_type": "code",
      "metadata": {
        "id": "BfmdQ6zCMy2L"
      },
      "source": [
        "snapshot_path=os.path.join(model_path, 'Snapshots')\n",
        "os.makedirs(snapshot_path, exist_ok=True)"
      ],
      "execution_count": 17,
      "outputs": []
    },
    {
      "cell_type": "code",
      "metadata": {
        "id": "QebezmDgsJdh"
      },
      "source": [
        "with open(os.path.join(model_path,'model_params.json'),'w') as f:\n",
        "    json.dump(model_params,f,indent=4)"
      ],
      "execution_count": 18,
      "outputs": []
    },
    {
      "cell_type": "code",
      "metadata": {
        "id": "T3v82UHQsJdj"
      },
      "source": [
        "def save_checkpoint(epoch, loss, pr, best_pr, filename='checkpoint.pth.tar'):\n",
        "    state={\n",
        "            'epoch': epoch,\n",
        "            'model_config': model_params,\n",
        "            'state_dict': poet.state_dict(),\n",
        "            'optimizer' : opti.state_dict(),\n",
        "            'precision': pr,\n",
        "            'loss': loss,\n",
        "        }\n",
        "    save_file=os.path.join(model_path, filename)\n",
        "    best_file=os.path.join(model_path,'model_best.pth.tar')\n",
        "    torch.save(state, save_file)\n",
        "    if pr >= best_pr:\n",
        "        shutil.copyfile(save_file, best_file )\n",
        "        print(f\"Saved best precision model, prec={pr:.3f}\")\n",
        "    else:\n",
        "        print(f\"Saved last model data, prec={pr:.3f}\")\n",
        "\n",
        "def save_history(history, filename=\"history.json\"):\n",
        "    save_file=os.path.join(model_path,filename)\n",
        "    try:\n",
        "        with open(save_file, 'w') as f:\n",
        "            json.dump(history, f)\n",
        "    except Exception as e:\n",
        "        print(f\"Failed to write training history file {save_file}, {e}\")\n",
        "\n",
        "def load_history(filename=\"history.json\"):\n",
        "    load_file=os.path.join(model_path,filename)\n",
        "    try:\n",
        "        with open(load_file, 'r') as f:\n",
        "            history=json.load(f)\n",
        "    except Exception as e:\n",
        "        print(f\"Starting new history file {load_file}\")\n",
        "        return [], time.time()\n",
        "    if len(history)>0:\n",
        "        start=history[-1][\"timestamp\"]\n",
        "    return history, start\n",
        "\n",
        "def load_checkpoint(filename='checkpoint.pth.tar'):\n",
        "    load_file=os.path.join(model_path,filename)\n",
        "    if not os.path.exists(load_file):\n",
        "        print(load_file)\n",
        "        print(\"No saved state, starting from scratch.\")\n",
        "        return 0,0\n",
        "    state=torch.load(load_file)\n",
        "    mod_conf = state['model_config']\n",
        "    for param in ['model_name', 'learning_rate', 'batch_size']:\n",
        "        if mod_conf[param]!=model_params[param]:\n",
        "            print(f\"Warning: project {param} has changed from {mod_conf[param]} to {model_params[param]}\")\n",
        "            mod_conf[param]=model_params[param]\n",
        "    if model_params!=mod_conf:\n",
        "        print(f\"The saved model has an incompatible configuration than the current model: {mod_conf} vs. {model_params}\")\n",
        "        print(\"Cannot restore state, starting from scratch.\")\n",
        "        return 0,0\n",
        "    poet.load_state_dict(state['state_dict'])\n",
        "    opti.load_state_dict(state['optimizer'])\n",
        "    epoch = state['epoch']\n",
        "    loss = state['loss']\n",
        "    best_pr = state['precision']\n",
        "    print(f\"Continuing from saved state epoch={epoch+1}, loss={loss:.3f}\")  # Save is not necessarily on epoch boundary, so that's approx.\n",
        "    return epoch,loss"
      ],
      "execution_count": 19,
      "outputs": []
    },
    {
      "cell_type": "markdown",
      "metadata": {
        "id": "a_-ISha4nqhy"
      },
      "source": [
        "# 3. Training\n",
        "\n",
        "If there is already saved training data, this step is optional, and alternatively, ch. 4 can be continued."
      ]
    },
    {
      "cell_type": "markdown",
      "metadata": {
        "id": "9KDRpEm0n7B-"
      },
      "source": [
        "## 3.1 Training helpers"
      ]
    },
    {
      "cell_type": "code",
      "metadata": {
        "id": "_pZlsZ1Pnm5Z"
      },
      "source": [
        "def torch_data_loader(batch_size, sample_length, device):\n",
        "    textlib_dataset=TextLibraryDataset(td, sample_length, device)\n",
        "    data_loader=torch.utils.data.DataLoader(textlib_dataset,batch_size=batch_size, shuffle=True, num_workers=0)\n",
        "    return data_loader\n",
        "\n",
        "# Get one sample:\n",
        "# X, y = next(iter(data_loader))\n",
        "\n",
        "def precision(y, yp):\n",
        "    return (torch.sum(yp==y)/float((y.size()[0]*y.size()[1]))).item()\n",
        "\n",
        "def train(Xt, yt):\n",
        "    poet.zero_grad()\n",
        "\n",
        "    poet.init_hidden(Xt.size(0))\n",
        "    output = poet(Xt, model_params['steps'])\n",
        "    \n",
        "    olin=output.view(-1,model_params['vocab_size'])\n",
        "    _, ytp=torch.max(output,2)\n",
        "    ytlin=yt.view(-1)\n",
        "\n",
        "    pr=precision(yt,ytp)\n",
        "            \n",
        "    loss = criterion(olin, ytlin)\n",
        "    ls = loss.item()\n",
        "    loss.backward()\n",
        "    opti.step()\n",
        "\n",
        "    return ls, pr"
      ],
      "execution_count": 20,
      "outputs": []
    },
    {
      "cell_type": "markdown",
      "metadata": {
        "id": "KC36hNRKUlpU"
      },
      "source": [
        "## 3.2 The actual training loop"
      ]
    },
    {
      "cell_type": "code",
      "metadata": {
        "id": "q9-3GUQ4UlpV",
        "scrolled": true,
        "outputId": "efd75a71-2f48-484b-dc96-d3ef7924e49f",
        "colab": {
          "base_uri": "https://localhost:8080/"
        }
      },
      "source": [
        "use_dark_mode=False\n",
        "ls=0\n",
        "nr=0\n",
        "prs=0\n",
        "# torch.cuda.empty_cache()\n",
        "epoch_start, _ = load_checkpoint()\n",
        "history, start_time = load_history()\n",
        "pr=0.0\n",
        "best_pr=0.0\n",
        "\n",
        "data_loader=torch_data_loader(model_params['batch_size'], model_params['steps'], device)\n",
        "    \n",
        "# Make a snapshot of the trained parameters every snapshot_interval_sec\n",
        "snapshot_interval_sec=180\n",
        "# Generate text samples every sample_intervall_sec\n",
        "sample_interval_sec=600\n",
        "\n",
        "last_snapshot=time.time()\n",
        "last_sample=time.time()\n",
        "\n",
        "bench_all=0\n",
        "bench_data=0\n",
        "bench_train=0\n",
        "bench_sample=0\n",
        "bench_snapshot=0\n",
        "bench_output_times=10  # Give 10 benchmark outputs, then stop (it stays more or less same)\n",
        "sample_train_time=0\n",
        "\n",
        "for e in range(epoch_start,2500000):\n",
        "    t1=time.time()\n",
        "    t0=time.time()\n",
        "    for Xi,yi in data_loader:\n",
        "        t2=time.time()\n",
        "        # this cannot be done in data_loader, if multiprocessing is used :-/\n",
        "        Xt=Xi #.to(device)\n",
        "        yt=yi #.to(device)\n",
        "        \n",
        "        Xt.requires_grad_(False)\n",
        "        yt.requires_grad_(False)\n",
        "\n",
        "        bench_data += time.time()-t1\n",
        "        t1=time.time()\n",
        "        l, pr = train(Xt,yt)\n",
        "        bench_train += time.time()-t1\n",
        "\n",
        "        ls=ls+l\n",
        "        prs=prs+pr\n",
        "        nr=nr+1\n",
        "        cur_loss=ls/nr\n",
        "        cur_pr=prs/nr\n",
        "        if time.time()-last_snapshot > snapshot_interval_sec:\n",
        "            t1=time.time()\n",
        "            nr=0\n",
        "            ls=0\n",
        "            prs=0\n",
        "            if cur_pr>best_pr:\n",
        "                best_pr=cur_pr\n",
        "            last_snapshot=time.time()\n",
        "            print(f\"Epoch {e+1} Loss: {cur_loss:.3f} Precision: {cur_pr:.3f} Time/Sample: {sample_train_time:.6f} sec/sample\")\n",
        "            save_checkpoint(e,cur_loss,cur_pr, best_pr)\n",
        "            # if use_cuda:\n",
        "            #     print(f\"Cuda memory allocated: {torch.cuda.memory_allocated()} max_alloc: {torch.cuda.max_memory_allocated()} cached: {torch.cuda.memory_cached()} max_cached: {torch.cuda.max_memory_cached()}\")\n",
        "            hist={\"epoch\": e+1, \"loss\": cur_loss, \"precision\": cur_pr, \"timestamp\": time.time()-start_time}\n",
        "            history.append(hist)\n",
        "            save_history(history)\n",
        "            bench_snapshot+=time.time()-t1\n",
        "\n",
        "            if bench_all > 0 and bench_output_times>0:\n",
        "                bd=bench_data/bench_all*100.0\n",
        "                bt=bench_train/bench_all*100.0\n",
        "                bs=bench_sample/bench_all*100.0\n",
        "                bss=bench_snapshot/bench_all*100.0\n",
        "                bo=(bench_all-bench_data-bench_train-bench_sample-bench_snapshot)/bench_all*100.0\n",
        "                print(f\"Profiling: data-loading: {bd:.2f}%, training: {bt:.2f}%, sample gen: {bs:.2f}%, snapshots: {bss:.2f}%, overhead: {bo:.2f}%\")\n",
        "                bench_output_times = bench_output_times - 1\n",
        "                \n",
        "        sample_train_time=(time.time()-t2)/len(Xt)\n",
        "\n",
        "        if time.time()-last_sample > sample_interval_sec and cur_loss<1.5:\n",
        "            t1=time.time()\n",
        "            last_sample=time.time()\n",
        "            for temperature in [0.6, 0.7, 0.8]:\n",
        "                print(f\"Temperature {temperature}:\")\n",
        "                tgen=poet.generate(700,\". \", temperature=temperature)\n",
        "                td.source_highlight(tgen,minQuoteSize=10,dark_mode=use_dark_mode,display_ref_anchor=False)\n",
        "            bench_sample+=time.time()-t1\n",
        "        t1=time.time()\n",
        "        bench_all+=time.time()-t0\n",
        "        t0=time.time()\n"
      ],
      "execution_count": null,
      "outputs": [
        {
          "output_type": "stream",
          "name": "stdout",
          "text": [
            "/content/drive/My Drive/Colab Notebooks/women_writers/model/lstm_v1/checkpoint.pth.tar\n",
            "No saved state, starting from scratch.\n",
            "Starting new history file /content/drive/My Drive/Colab Notebooks/women_writers/model/lstm_v1/history.json\n",
            "Epoch 1 Loss: 3.282 Precision: 0.173 Time/Sample: 0.000769 sec/sample\n",
            "Saved best precision model, prec=0.173\n",
            "Profiling: data-loading: 1.31%, training: 99.02%, sample gen: 0.00%, snapshots: 0.91%, overhead: -1.23%\n"
          ]
        }
      ]
    },
    {
      "cell_type": "markdown",
      "metadata": {
        "id": "-dsSPjPsUlpY"
      },
      "source": [
        "# 4. Text generation\n",
        "\n",
        "## 4.1 Sample generation"
      ]
    },
    {
      "cell_type": "code",
      "metadata": {
        "id": "u-vHDcHupruq",
        "outputId": "02335c56-f3b2-4641-bf2d-8ff26f94dadd",
        "colab": {
          "base_uri": "https://localhost:8080/",
          "height": 59
        }
      },
      "source": [
        "load_checkpoint(filename=\"model_best.pth.tar\")"
      ],
      "execution_count": null,
      "outputs": [
        {
          "output_type": "stream",
          "text": [
            "Continuing from saved state epoch=41, loss=0.919\n"
          ],
          "name": "stdout"
        },
        {
          "output_type": "execute_result",
          "data": {
            "text/plain": [
              "(40, 0.9189830598377046)"
            ]
          },
          "metadata": {
            "tags": []
          },
          "execution_count": 27
        }
      ]
    },
    {
      "cell_type": "code",
      "metadata": {
        "id": "wdpCtjvfUlpZ",
        "scrolled": true
      },
      "source": [
        "def detectPlagiarism(generatedtext, textlibrary, minQuoteLength=10, display_ref_anchor=True):\n",
        "    textlibrary.source_highlight(generatedtext, minQuoteSize=minQuoteLength,dark_mode=use_dark_mode, display_ref_anchor=display_ref_anchor)"
      ],
      "execution_count": null,
      "outputs": []
    },
    {
      "cell_type": "code",
      "metadata": {
        "id": "oflaWxltsJd6",
        "colab": {
          "base_uri": "https://localhost:8080/",
          "height": 1000
        },
        "outputId": "62bc62cf-d43d-4420-9dd9-7d412e6be818"
      },
      "source": [
        "print(\"Sample text:\")\n",
        "print(\"\")\n",
        "for temperature in [0.2, 0.3, 0.4, 0.5, 0.6, 0.7, 0.8, 0.9, 1.0]:\n",
        "    tgen=poet.generate(1000,\"\\n\\n\", temperature=temperature)\n",
        "    print(f\"================Temperature: {temperature}==============\")\n",
        "    detectPlagiarism(tgen, textlib, display_ref_anchor=False)"
      ],
      "execution_count": null,
      "outputs": [
        {
          "output_type": "stream",
          "text": [
            "Sample text:\n",
            "\n",
            "================Temperature: 0.2==============\n"
          ],
          "name": "stdout"
        },
        {
          "output_type": "display_data",
          "data": {
            "text/html": [
              "<br><br><br><span style=\"background-color:#d6eaf8;\">23.<br><br><br>THE </span><span style=\"background-color:#d6eaf8;\">FOUR VIRTUE</span> OF LOVE NOT INDIRENCE ITS IS<span style=\"background-color:#d6eaf8;\"> NOT BE DE</span>NEIVLED IN<span style=\"background-color:#d6dbdf;\"> NATURAL PRINCIPLES</span>SES BECOTIVAL<span style=\"background-color:#d4efdf;\">.<br><br><br>The third </span><span style=\"background-color:#edebd0;\">point of the f</span><span style=\"background-color:#d0ece7;\">ormer is the con</span><span style=\"background-color:#edebd0;\">tent of the<br>pr</span><span style=\"background-color:#fdebd0;\">inciple of sufficient reason, which is </span><span style=\"background-color:#d6dbdf;\">the<br>source of the </span><span style=\"background-color:#edebd0;\">content of the pos</span><span style=\"background-color:#e5e8e8;\">sibility of<br>the object </span><span style=\"background-color:#d0ece7;\">in its substance</span><span style=\"background-color:#d4efdf;\"> is the same, and the</span><span style=\"background-color:#d4e6f1;\"><br>content of the s</span><span style=\"background-color:#d0ece7;\">ubjective and objective, and the</span><span style=\"background-color:#d6dbdf;\"><br>content of the i</span><span style=\"background-color:#d6dbdf;\">ndividual, and the </span><span style=\"background-color:#d4e6f1;\">content of the<br>s</span><span style=\"background-color:#edebd0;\">ubjective and objective, is th</span><span style=\"background-color:#e5e8e8;\">e source of the<br></span><span style=\"background-color:#d4e6e1;\">possibility of a conception</span><span style=\"background-color:#edebd0;\"> of the understanding,<br>but </span><span style=\"background-color:#fae5d3;\">is also the on</span><span style=\"background-color:#d6dbdf;\">ly real and p</span><span style=\"background-color:#e5e8e8;\">ractical, it is</span><span style=\"background-color:#ebdef0;\"><br>certainly a proof of </span><span style=\"background-color:#eadbd8;\">the conditioned with</span><span style=\"background-color:#d4e6f1;\">in its<br>own sub</span><span style=\"background-color:#f6ddcc;\">stance, it is the </span><span style=\"background-color:#d6dbdf;\">soul which is th</span><span style=\"background-color:#d0ece7;\">e source<br>of the </span><span style=\"background-color:#eadbd8;\">problem of the pr</span><span style=\"background-color:#fdebd0;\">inciple of sufficient reason<br>i</span><span style=\"background-color:#d6eaf8;\">n its forms.</span><span style=\"background-color:#fdebd0;\"> The form of the i</span><span style=\"background-color:#d0ece7;\">ndividual soul is </span><span style=\"background-color:#d4efdf;\">the<br>subject of knowledge</span><span style=\"background-color:#d4efdf;\">. The second con</span><span style=\"background-color:#d0ece7;\">tent is the<br></span><span style=\"background-color:#d4e6f1;\">soul in its a</span><span style=\"background-color:#edebd0;\">spect of self-consciousness, in</span><span style=\"background-color:#d0ece7;\"> the<br>sense that it is the </span><span style=\"background-color:#edebd0;\">spiritual world of s</span><span style=\"background-color:#d0ece7;\">ense,<br>but </span><span style=\"background-color:#edebd0;\">is only a prob</span><span style=\"background-color:#d4e6e1;\">lem for the </span><span style=\"background-color:#d6eaf8;\">senses and the</span><span style=\"background-color:#d6eaf8;\"><br>intellect. The </span><span style=\"background-color:#d6eaf8;\">same thing is t</span><span style=\"background-color:#ebdef0;\">he same as that of a</span><br><span style=\"background-color:#d6dbdf;\">man of com</span>pany"
            ],
            "text/plain": [
              "<IPython.core.display.HTML object>"
            ]
          },
          "metadata": {
            "tags": []
          }
        },
        {
          "output_type": "display_data",
          "data": {
            "text/html": [
              "<small><p style=\"text-align:right;\">Sources: <span style=\"background-color:#d6eaf8;\">Friedrich Wilhelm Nietzsche: The Dawn of Day</span>, <span style=\"background-color:#d6dbdf;\">David Hume: A Treatise of Human Nature, Vols. 1 & 2</span>, <span style=\"background-color:#d4efdf;\">Arthur Schopenhauer: The World as Will and Idea (Vol. 3 of 3)</span>, <span style=\"background-color:#edebd0;\">Georg Wilhelm Hegel: The History of Philosophy: Volume 3 of 3</span>, <span style=\"background-color:#d0ece7;\">Arthur Schopenhauer: The World as Will and Idea (Vol. 2 of 3)</span>, <span style=\"background-color:#fdebd0;\">Arthur Schopenhauer: The World as Will and Idea (Vol. 1 of 3)</span>, <span style=\"background-color:#d6dbdf;\">G. W. F. Hegel: The Philosophy of Fine Art, Vol. 1 of 4</span>, <span style=\"background-color:#e5e8e8;\">Immanuel Kant: Kant's Critique of Judgement</span>, <span style=\"background-color:#d0ece7;\">G. W. F. Hegel: The Philosophy of Fine Art, Volume 4 of 4</span>, <span style=\"background-color:#d4e6f1;\">G. W. F. Hegel: The Philosophy of Fine Art, Vol. 2 of 4</span>, <span style=\"background-color:#d0ece7;\">Georg Wilhelm Hegel: Hegel's Lectures on the History of Philosophy: Vol. 2 of 3</span>, <span style=\"background-color:#e5e8e8;\">David Hume: Philosophical Works, Vol. 1 of 4</span>, <span style=\"background-color:#d4e6e1;\">Immanuel Kant: The Critique of Pure Reason</span>, <span style=\"background-color:#fae5d3;\">Immanuel Kant: Perpetual Peace</span>, <span style=\"background-color:#d6dbdf;\">Georg Wilhelm Friedrich Hegel: Hegel's Philosophy of Mind</span>, <span style=\"background-color:#ebdef0;\">Søren Kierkegaard: Selections from the Writings of Kierkegaard</span>, <span style=\"background-color:#eadbd8;\">Immanuel Kant: Kant's Prolegomena</span>, <span style=\"background-color:#f6ddcc;\">G. W. F. Hegel: The Logic of Hegel</span>, <span style=\"background-color:#d6eaf8;\">Georg Wilhelm Hegel: Hegel's Lectures on the History of Philosophy: Vol. 1 of 3</span>, <span style=\"background-color:#edebd0;\">Friedrich Wilhelm Nietzsche: Twilight of the Idols - The Antichrist</span>, <span style=\"background-color:#d6eaf8;\">G. W. F. Hegel: The Philosophy of Fine Art, Volume 3 of 4</span></p></small>"
            ],
            "text/plain": [
              "<IPython.core.display.HTML object>"
            ]
          },
          "metadata": {
            "tags": []
          }
        },
        {
          "output_type": "stream",
          "text": [
            "================Temperature: 0.3==============\n"
          ],
          "name": "stdout"
        },
        {
          "output_type": "display_data",
          "data": {
            "text/html": [
              "<br><br><br>33.<br><br><br><span style=\"background-color:#ecf3cf;\">PROJECT GUTENBERG-T</span>AM<span style=\"background-color:#d6eaf8;\">E.—We must </span><span style=\"background-color:#e5e8e8;\">consider the idea of </span><span style=\"background-color:#d4e6e1;\">a particular kind of<br></span><span style=\"background-color:#d6dbdf;\">conceptions, which are the </span><span style=\"background-color:#d4e6e1;\">same as the p</span><span style=\"background-color:#eadbd8;\">rinciples of<br>the understanding, </span><span style=\"background-color:#d4efdf;\">and the conditions of the<br></span><span style=\"background-color:#d4e6e1;\">possibility of experience and </span><span style=\"background-color:#fae5d3;\">of space, and that</span><span style=\"background-color:#d6dbdf;\"><br>the same objects</span><span style=\"background-color:#fdebd0;\"> are entirely different</span><span style=\"background-color:#fdebd0;\">, and<br>therefore in </span><span style=\"background-color:#fae5d3;\">the same way as they</span><span style=\"background-color:#edebd0;\"> are in themselves,</span><span style=\"background-color:#d6dbdf;\"><br>and are not only </span><span style=\"background-color:#edebd0;\">possible or </span><span style=\"background-color:#d6eaf8;\">conversely to</span><span style=\"background-color:#d0ece7;\"><br>destroy the p</span><span style=\"background-color:#eadbd8;\">ure concepts of the understanding, </span><span style=\"background-color:#d6eaf8;\">but<br>also the c</span><span style=\"background-color:#d4e6e1;\">onception of the subject and </span><span style=\"background-color:#ebdef0;\">the object<br>of the </span><span style=\"background-color:#e5e8e8;\">senses, is not</span><span style=\"background-color:#d0ece7;\"> of the same in any o</span><span style=\"background-color:#f6ddcc;\">f these<br>particulars</span><span style=\"background-color:#d4e6f1;\">. The content of the </span><span style=\"background-color:#d0ece7;\">principle of<br>sufficient reason is </span><span style=\"background-color:#fae5d3;\">not a mere p</span><span style=\"background-color:#eadbd8;\">ossibility, but also</span><span style=\"background-color:#edebd0;\"><br>the same, and the p</span><span style=\"background-color:#d4e6e1;\">ossibility of a cause </span><span style=\"background-color:#d4efdf;\">as well<br>as to the </span><span style=\"background-color:#d4e6e1;\">possibility of the conception</span><span style=\"background-color:#d4e6e1;\"> of the<br>understanding, and the</span><span style=\"background-color:#eadbd8;\"> subjective conditions of</span><span style=\"background-color:#d4e6f1;\"><br>the sensuous p</span><span style=\"background-color:#d6dbdf;\">erception of the object</span><span style=\"background-color:#e2d7d5;\"> in its<br> s</span><span style=\"background-color:#fdebd0;\">ensible and se</span><span style=\"background-color:#d6dbdf;\">nsations, and al</span><span style=\"background-color:#e2d7d5;\">l the objects<br></span><span style=\"background-color:#f6ddcc;\">  in the se</span><span style=\"background-color:#d0ece7;\">nse of the ex</span><span style=\"background-color:#d4efdf;\">istence of the world,<br></span><span style=\"background-color:#e5e8e8;\">          which is </span><span style=\"background-color:#d8daef;\">in itself a pro</span><span style=\"background-color:#d0ece7;\">position which is al</span><span style=\"background-color:#e2d7d5;\">ways the same</span><span style=\"background-color:#e5e8e8;\"><br>          in </span><span style=\"background-color:#fdebd0;\">which I am consc</span>"
            ],
            "text/plain": [
              "<IPython.core.display.HTML object>"
            ]
          },
          "metadata": {
            "tags": []
          }
        },
        {
          "output_type": "display_data",
          "data": {
            "text/html": [
              "<small><p style=\"text-align:right;\">Sources: <span style=\"background-color:#ecf3cf;\">Friedrich Wilhelm Nietzsche: Ecce Homo</span>, <span style=\"background-color:#d6eaf8;\">Friedrich Wilhelm Nietzsche: The Dawn of Day</span>, <span style=\"background-color:#e5e8e8;\">David Hume: Philosophical Works, Vol. 1 of 4</span>, <span style=\"background-color:#d4e6e1;\">Immanuel Kant: The Critique of Pure Reason</span>, <span style=\"background-color:#d6dbdf;\">David Hume: A Treatise of Human Nature, Vols. 1 & 2</span>, <span style=\"background-color:#eadbd8;\">Immanuel Kant: Kant's Prolegomena</span>, <span style=\"background-color:#d4efdf;\">Arthur Schopenhauer: The World as Will and Idea (Vol. 3 of 3)</span>, <span style=\"background-color:#fae5d3;\">Rene Descartes: Selections From The Principles of Philosophy</span>, <span style=\"background-color:#fdebd0;\">David Hume: Philosophical Works, Vol. 2 of 4</span>, <span style=\"background-color:#fdebd0;\">Friedrich Nietzsche: Beyond Good and Evil</span>, <span style=\"background-color:#edebd0;\">Georg Wilhelm Hegel: The History of Philosophy: Volume 3 of 3</span>, <span style=\"background-color:#d6eaf8;\">G. W. F. Hegel: The Philosophy of Fine Art, Volume 3 of 4</span>, <span style=\"background-color:#d0ece7;\">Immanuel Kant: Fundamental Principles of the Metaphysic of Morals</span>, <span style=\"background-color:#ebdef0;\">Søren Kierkegaard: Selections from the Writings of Kierkegaard</span>, <span style=\"background-color:#d0ece7;\">G. W. F. Hegel: The Philosophy of Fine Art, Volume 4 of 4</span>, <span style=\"background-color:#f6ddcc;\">David Hume: Dialogues Concerning Natural Religion</span>, <span style=\"background-color:#d4e6f1;\">G. W. F. Hegel: The Philosophy of Fine Art, Vol. 2 of 4</span>, <span style=\"background-color:#d0ece7;\">Arthur Schopenhauer: The World as Will and Idea (Vol. 2 of 3)</span>, <span style=\"background-color:#fae5d3;\">William Wallace and G. W. F. Hegel: Prolegomena to the Study of Hegel's Philosophy</span>, <span style=\"background-color:#d4efdf;\">Friedrich Wilhelm Nietzsche: Thoughts out of Season, Part I</span>, <span style=\"background-color:#d4e6f1;\">Montaigne, Michel, Sainte-Beuve, Charles-Augustin; Renan, Ernest, Lessing, Gotthold Ephraim, Von Schiller, J.C., Kant, Immanuel, Mazzini, and Giuseppe: Literary and Philosophical Essays</span>, <span style=\"background-color:#d6dbdf;\">G. W. F. Hegel: The Philosophy of Fine Art, Vol. 1 of 4</span>, <span style=\"background-color:#e2d7d5;\">David Hume: Hume's Political Discourses</span>, <span style=\"background-color:#d6dbdf;\">Georg Wilhelm Friedrich Hegel: Hegel's Philosophy of Mind</span>, <span style=\"background-color:#f6ddcc;\">Arthur Schopenhauer: On the Fourfold Root of the Principle of Sufficient Reason and On the Will in Nature: Two Essays (revised edition)</span>, <span style=\"background-color:#d4efdf;\">G. W. Leibniz: Theodicy</span>, <span style=\"background-color:#e5e8e8;\">Immanuel Kant: Kant's Critique of Judgement</span>, <span style=\"background-color:#d8daef;\">Friedrich Nietzsche: The Will to Power, Books I and II</span>, <span style=\"background-color:#fdebd0;\">Arthur Schopenhauer: The World as Will and Idea (Vol. 1 of 3)</span></p></small>"
            ],
            "text/plain": [
              "<IPython.core.display.HTML object>"
            ]
          },
          "metadata": {
            "tags": []
          }
        },
        {
          "output_type": "stream",
          "text": [
            "================Temperature: 0.4==============\n"
          ],
          "name": "stdout"
        },
        {
          "output_type": "display_data",
          "data": {
            "text/html": [
              "<span style=\"background-color:#d6eaf8;\"><br><br><br>333.<br><br><br></span><span style=\"background-color:#ebdef0;\">THE STYLE OF </span>DOSSER.—<span style=\"background-color:#d8daef;\">As a matter of fact, the whole </span><span style=\"background-color:#d4e6e1;\">series of conditions<br></span><span style=\"background-color:#eadbd8;\">in the world of sense a</span><span style=\"background-color:#d4e6f1;\">nd the existence of the<br></span><span style=\"background-color:#d6dbdf;\">subject and the i</span><span style=\"background-color:#d4e6f1;\">mmanence of the </span><span style=\"background-color:#e5e8e8;\">object in its<br>s</span><span style=\"background-color:#d4e6f1;\">elf-subsistence and </span><span style=\"background-color:#edebd0;\">its actions. Th</span><span style=\"background-color:#edebd0;\">e same<br>is t</span><span style=\"background-color:#e5e8e8;\">he case with the concept</span><span style=\"background-color:#d4e6e1;\">ions of the understanding,<br>th</span><span style=\"background-color:#e5e8e8;\">e second and th</span><span style=\"background-color:#d6eaf8;\">e true self-</span><span style=\"background-color:#d0ece7;\">consciousness of<br>the </span><span style=\"background-color:#edebd0;\">universal and the in</span><span style=\"background-color:#edebd0;\">finite and not </span><span style=\"background-color:#ebdef0;\">the other<br></span><span style=\"background-color:#d4e6e1;\">kind of conceptions</span><span style=\"background-color:#e5e8e8;\">, but the actions of the mind</span><br><span style=\"background-color:#e2d7d5;\">are so far removed from a</span><span style=\"background-color:#fdebd0;\"> subject, and therefore<br></span><span style=\"background-color:#d4e6f1;\">contained in its </span><span style=\"background-color:#d4e6f1;\">external world and </span><span style=\"background-color:#d6eaf8;\">the intelligent<br></span><span style=\"background-color:#d6dbdf;\">and almost ex</span><span style=\"background-color:#d0ece7;\">ternal conditions i</span><span style=\"background-color:#d6dbdf;\">n the object,<br>which is </span><span style=\"background-color:#d6dbdf;\">determined as the s</span><span style=\"background-color:#edebd0;\">imple ideas of </span><span style=\"background-color:#edebd0;\">the<br>sensuous and </span><span style=\"background-color:#d6eaf8;\">merely sensuous </span><span style=\"background-color:#d4e6f1;\">existence, in o</span><span style=\"background-color:#d0ece7;\">ther<br>words the </span><span style=\"background-color:#d4efdf;\">name of the wor</span><span style=\"background-color:#d8daef;\">ld and of the </span><span style=\"background-color:#d4efdf;\">world, and<br>the</span><span style=\"background-color:#d6eaf8;\"> immediate ha</span><span style=\"background-color:#edebd0;\">rmony of the s</span><span style=\"background-color:#d0ece7;\">ubject is a concept</span><span style=\"background-color:#d4e6f1;\"><br>which is already </span><span style=\"background-color:#ebdef0;\">present in the </span><span style=\"background-color:#d6eaf8;\">external<br>world, </span><span style=\"background-color:#d0ece7;\">and is therefore </span><span style=\"background-color:#d0ece7;\">completely in </span><span style=\"background-color:#f6ddcc;\">itself,<br>and the </span><span style=\"background-color:#edebd0;\">application of the </span><span style=\"background-color:#d6eaf8;\">Ideal in its </span><span style=\"background-color:#d6eaf8;\">own<br>proper </span><span style=\"background-color:#edebd0;\">being. The </span><span style=\"background-color:#e5e8e8;\">possibility of the object</span><span style=\"background-color:#d4e6e1;\"><br>is not a concept</span><span style=\"background-color:#fdebd0;\"> of nature and in</span><span style=\"background-color:#fae5d3;\"> its own substance<br></span><span style=\"background-color:#d0ece7;\">as such a p</span>"
            ],
            "text/plain": [
              "<IPython.core.display.HTML object>"
            ]
          },
          "metadata": {
            "tags": []
          }
        },
        {
          "output_type": "display_data",
          "data": {
            "text/html": [
              "<small><p style=\"text-align:right;\">Sources: <span style=\"background-color:#d6eaf8;\">Friedrich Wilhelm Nietzsche: The Dawn of Day</span>, <span style=\"background-color:#ebdef0;\">Friedrich Wilhelm Nietzsche: Human, All-Too-Human, Part II</span>, <span style=\"background-color:#d8daef;\">Friedrich Nietzsche: The Will to Power, Books I and II</span>, <span style=\"background-color:#d4e6e1;\">Immanuel Kant: The Critique of Pure Reason</span>, <span style=\"background-color:#eadbd8;\">Immanuel Kant: Kant's Prolegomena</span>, <span style=\"background-color:#d4e6f1;\">G. W. F. Hegel: The Philosophy of Fine Art, Vol. 2 of 4</span>, <span style=\"background-color:#d6dbdf;\">G. W. F. Hegel: The Philosophy of Fine Art, Vol. 1 of 4</span>, <span style=\"background-color:#e5e8e8;\">David Hume: Philosophical Works, Vol. 1 of 4</span>, <span style=\"background-color:#edebd0;\">Arthur Schopenhauer: The Basis of Morality</span>, <span style=\"background-color:#edebd0;\">Friedrich Wilhelm Nietzsche: Twilight of the Idols - The Antichrist</span>, <span style=\"background-color:#e5e8e8;\">Immanuel Kant: Kant's Critique of Judgement</span>, <span style=\"background-color:#d0ece7;\">G. W. F. Hegel: The Philosophy of Fine Art, Volume 4 of 4</span>, <span style=\"background-color:#edebd0;\">Georg Wilhelm Hegel: The History of Philosophy: Volume 3 of 3</span>, <span style=\"background-color:#ebdef0;\">Søren Kierkegaard: Selections from the Writings of Kierkegaard</span>, <span style=\"background-color:#e2d7d5;\">David Hume: Hume's Political Discourses</span>, <span style=\"background-color:#fdebd0;\">Arthur Schopenhauer: The World as Will and Idea (Vol. 1 of 3)</span>, <span style=\"background-color:#d6eaf8;\">G. W. F. Hegel: The Philosophy of Fine Art, Volume 3 of 4</span>, <span style=\"background-color:#d6dbdf;\">Georg Wilhelm Friedrich Hegel: Hegel's Philosophy of Mind</span>, <span style=\"background-color:#d6dbdf;\">David Hume: A Treatise of Human Nature, Vols. 1 & 2</span>, <span style=\"background-color:#d4efdf;\">Arthur Schopenhauer: The World as Will and Idea (Vol. 3 of 3)</span>, <span style=\"background-color:#d6eaf8;\">Georg Wilhelm Hegel: Hegel's Lectures on the History of Philosophy: Vol. 1 of 3</span>, <span style=\"background-color:#d0ece7;\">Arthur Schopenhauer: The World as Will and Idea (Vol. 2 of 3)</span>, <span style=\"background-color:#f6ddcc;\">G. W. F. Hegel: The Logic of Hegel</span>, <span style=\"background-color:#fae5d3;\">William Wallace and G. W. F. Hegel: Prolegomena to the Study of Hegel's Philosophy</span></p></small>"
            ],
            "text/plain": [
              "<IPython.core.display.HTML object>"
            ]
          },
          "metadata": {
            "tags": []
          }
        },
        {
          "output_type": "stream",
          "text": [
            "================Temperature: 0.5==============\n"
          ],
          "name": "stdout"
        },
        {
          "output_type": "display_data",
          "data": {
            "text/html": [
              "<span style=\"background-color:#ecf3cf;\">                                                                             </span><span style=\"background-color:#ecf3cf;\">                            (Ha 2</span>85-86;<span style=\"background-color:#d8daef;\"><br>Die deutsche </span><span style=\"background-color:#d4e6e1;\">Nation im </span>R<span style=\"background-color:#eadbd8;\">ichten gelten</span><span style=\"background-color:#e5e8e8;\"> lassen. De</span>s<span style=\"background-color:#ecf3cf;\">nen<br>        </span>II. Die holds<span style=\"background-color:#edebd0;\">ter Theorie</span><span style=\"background-color:#d8daef;\"> hinzufügen </span><span style=\"background-color:#d4efdf;\">und den ge</span>bunde<span style=\"background-color:#d8daef;\">nen,<br>      </span><span style=\"background-color:#ecf3cf;\">                            B: an</span><span style=\"background-color:#d4efdf;\"> sich selbst aber nur </span><span style=\"background-color:#edebd0;\">in der<br>                       </span><span style=\"background-color:#ecf3cf;\">                                                                             </span><span style=\"background-color:#ecf3cf;\">                                                                             </span><span style=\"background-color:#ecf3cf;\">                                                                             </span><span style=\"background-color:#ecf3cf;\">                                                                             </span><span style=\"background-color:#ecf3cf;\">                                                                             </span><span style=\"background-color:#ecf3cf;\">                                                                             </span><span style=\"background-color:#ecf3cf;\">                                                                             </span> [233]<br>5<span style=\"background-color:#d4efdf;\">. Every one wi</span><span style=\"background-color:#d4efdf;\">th a freedom of</span><span style=\"background-color:#fdebd0;\"> the understanding, it is </span><span style=\"background-color:#f6ddcc;\">not confined<br></span><span style=\"background-color:#d8daef;\">                                                            </span>"
            ],
            "text/plain": [
              "<IPython.core.display.HTML object>"
            ]
          },
          "metadata": {
            "tags": []
          }
        },
        {
          "output_type": "display_data",
          "data": {
            "text/html": [
              "<small><p style=\"text-align:right;\">Sources: <span style=\"background-color:#ecf3cf;\">Immanuel Kant: Die Religion innerhalb der Grenzen der bloßen Vernunft</span>, <span style=\"background-color:#d8daef;\">Friedrich Nietzsche: Der Wille zur Macht</span>, <span style=\"background-color:#d4e6e1;\">Johann Gottlieb Fichte: Reden an die deutsche Nation</span>, <span style=\"background-color:#eadbd8;\">Georg Wilhelm Friedrich Hegel: Phänomenologie des Geistes</span>, <span style=\"background-color:#e5e8e8;\">Immanuel Kant: Von der Macht des Gem? by den blo?n Vorsatz seiner krankhaften Gef? Meister zu sein</span>, <span style=\"background-color:#edebd0;\">Immanuel Kant: Kritik der reinen Vernunft (1st Edition)</span>, <span style=\"background-color:#d4efdf;\">Immanuel Kant: Kant's gesammelte Schriften</span>, <span style=\"background-color:#d8daef;\">Arthur Schopenhauer: Aphorismen zur Lebensweisheit</span>, <span style=\"background-color:#d4efdf;\">Arthur Schopenhauer: The World as Will and Idea (Vol. 3 of 3)</span>, <span style=\"background-color:#d4efdf;\">G. W. Leibniz: Theodicy</span>, <span style=\"background-color:#fdebd0;\">Arthur Schopenhauer: The World as Will and Idea (Vol. 1 of 3)</span>, <span style=\"background-color:#f6ddcc;\">G. W. F. Hegel: The Logic of Hegel</span></p></small>"
            ],
            "text/plain": [
              "<IPython.core.display.HTML object>"
            ]
          },
          "metadata": {
            "tags": []
          }
        },
        {
          "output_type": "stream",
          "text": [
            "================Temperature: 0.6==============\n"
          ],
          "name": "stdout"
        },
        {
          "output_type": "display_data",
          "data": {
            "text/html": [
              "D<span style=\"background-color:#e5e8e8;\">a sich diese </span><span style=\"background-color:#d8daef;\">dionysische </span><span style=\"background-color:#e2d7d5;\">Dinge sein m</span><span style=\"background-color:#ebdef0;\">uß, welches </span><span style=\"background-color:#d4e6f1;\">der Stoff </span>noch<br><span style=\"background-color:#ecf3cf;\">zu thun oder </span><span style=\"background-color:#d4efdf;\">ein solches wir</span><span style=\"background-color:#e2d7d5;\">d nicht bloß die</span>s<span style=\"background-color:#d8daef;\">es<br>Inhalts der </span><span style=\"background-color:#d8daef;\">Beziehung auf die Be</span><span style=\"background-color:#d8daef;\">deutung und den</span><span style=\"background-color:#d4e6e1;\"><br>Sinn für </span><span style=\"background-color:#d8daef;\">sich selbst ist, d</span><span style=\"background-color:#e2d7d5;\">er aber nur durch </span><span style=\"background-color:#eadbd8;\">ihn<br>gesetzt</span><span style=\"background-color:#d4e6e1;\">e Bestimmtheit gegen</span><span style=\"background-color:#eadbd8;\">übersteht.  </span><span style=\"background-color:#d8daef;\">In der<br>Erscheinung </span><span style=\"background-color:#d8daef;\">ist nichts anderes als </span><span style=\"background-color:#e2d7d5;\">in der anderen<br></span><span style=\"background-color:#e2d7d5;\">ist, so ist dieses </span><span style=\"background-color:#eadbd8;\">das Anderssein als </span><span style=\"background-color:#d8daef;\">solches<br>ge</span><span style=\"background-color:#eadbd8;\">setzt ist.<br><br>Das </span><span style=\"background-color:#d4e6e1;\">Subjekt ist nur in</span><span style=\"background-color:#d4e6f1;\"> der That von der </span><span style=\"background-color:#d8daef;\">Einheit des Seyns<br>und des </span><span style=\"background-color:#d8daef;\">Inhaltes selbst</span><span style=\"background-color:#d8daef;\">, des Quantums </span><span style=\"background-color:#d4efdf;\">überhaupt<br>an</span><span style=\"background-color:#e2d7d5;\"> ihrer Verknüpfung </span><span style=\"background-color:#d8daef;\">bezieht sich auf sich selbst</span>.<br>Die<span style=\"background-color:#d4e6f1;\">ser gemacht</span><span style=\"background-color:#d4e6e1;\">e Unterschied ist daher nur</span> ein<br>_Genußey<span style=\"background-color:#d4e6e1;\">te_, oder _</span><span style=\"background-color:#eadbd8;\">einzelnes_ </span><span style=\"background-color:#d4e6e1;\">und _für sich_ </span><span style=\"background-color:#d4efdf;\">werden<br>soll, so </span><span style=\"background-color:#eadbd8;\">ist das Element des </span><span style=\"background-color:#d4e6e1;\">_Begriffs_ </span>zum _Bewi<span style=\"background-color:#d4efdf;\">re<br>Grundlage</span><span style=\"background-color:#d4e6e1;\">_.  Jenes </span><span style=\"background-color:#ecf3cf;\">ist ihre _</span>Kn<span style=\"background-color:#eadbd8;\">aft_ des G</span><span style=\"background-color:#d8daef;\">esetztseyns<br></span><span style=\"background-color:#d6dbdf;\">des Wesens </span><span style=\"background-color:#d8daef;\">überhaupt; denn </span><span style=\"background-color:#d4e6e1;\">in dieser E</span><span style=\"background-color:#d4e6e1;\">xistenz,<br>der a</span><span style=\"background-color:#d8daef;\">bsolute Unterschied </span><span style=\"background-color:#d4e6e1;\">des Geistes ist da</span>h<span style=\"background-color:#eadbd8;\">er in<br>sich zurückge</span><span style=\"background-color:#d8daef;\">kehrt.  Diese</span><span style=\"background-color:#d4e6e1;\"><br>_Genesis </span><span style=\"background-color:#ecf3cf;\">mit derselben</span><span style=\"background-color:#eadbd8;\">_ ihres Wesens</span><span style=\"background-color:#d4e6e1;\"> in diese<br></span><span style=\"background-color:#d4efdf;\">bewegende </span><span style=\"background-color:#d8daef;\">Gesetze sind, </span><span style=\"background-color:#d8daef;\">welche das An</span><span style=\"background-color:#d4e6e1;\">dersseyn der</span><br>_<span style=\"background-color:#d4e6e1;\">realen Einheit</span><span style=\"background-color:#eadbd8;\">_ des Wissens</span><span style=\"background-color:#d4e6e1;\">_ ist.  Wenn die </span>Auflösung"
            ],
            "text/plain": [
              "<IPython.core.display.HTML object>"
            ]
          },
          "metadata": {
            "tags": []
          }
        },
        {
          "output_type": "display_data",
          "data": {
            "text/html": [
              "<small><p style=\"text-align:right;\">Sources: <span style=\"background-color:#e5e8e8;\">Immanuel Kant: Von der Macht des Gem? by den blo?n Vorsatz seiner krankhaften Gef? Meister zu sein</span>, <span style=\"background-color:#d8daef;\">Friedrich Nietzsche: Der Wille zur Macht</span>, <span style=\"background-color:#e2d7d5;\">Immanuel Kant: Kritik der reinen Vernunft (2nd Edition)</span>, <span style=\"background-color:#ebdef0;\">Immanuel Kant: Zum ewigen Frieden</span>, <span style=\"background-color:#d4e6f1;\">Gottfried Wilhelm Leibniz: Leibnitz' Monadologie</span>, <span style=\"background-color:#ecf3cf;\">Immanuel Kant: Die Religion innerhalb der Grenzen der bloßen Vernunft</span>, <span style=\"background-color:#d4efdf;\">Immanuel Kant: Kant's gesammelte Schriften</span>, <span style=\"background-color:#d8daef;\">Georg Wilhelm Friedrich Hegel: Wissenschaft der Logik, Erster Teil</span>, <span style=\"background-color:#d4e6e1;\">Johann Gottlieb Fichte: Reden an die deutsche Nation</span>, <span style=\"background-color:#eadbd8;\">Georg Wilhelm Friedrich Hegel: Phänomenologie des Geistes</span>, <span style=\"background-color:#d4e6e1;\">Georg Wilhelm Friedrich Hegel: Wissenshaft der Logik, Vol. 2</span>, <span style=\"background-color:#e2d7d5;\">Immanuel Kant: Tr?e eines Geistersehers, erl?ert by Tr?e der Metaphysik</span>, <span style=\"background-color:#d4e6f1;\">Friedrich Wilhelm Nietzsche: Menschliches, Allzumenschliches</span>, <span style=\"background-color:#d6dbdf;\">G. W. F. Hegel: The Philosophy of Fine Art, Vol. 1 of 4</span></p></small>"
            ],
            "text/plain": [
              "<IPython.core.display.HTML object>"
            ]
          },
          "metadata": {
            "tags": []
          }
        },
        {
          "output_type": "stream",
          "text": [
            "================Temperature: 0.7==============\n"
          ],
          "name": "stdout"
        },
        {
          "output_type": "display_data",
          "data": {
            "text/html": [
              "New<span style=\"background-color:#e2d7d5;\"> doctors a</span><span style=\"background-color:#e5e8e8;\">re derived from the same p</span><span style=\"background-color:#ebdef0;\">oint of view the </span><span style=\"background-color:#d6dbdf;\">immanent s</span><span style=\"background-color:#d4efdf;\">ubstance<br>of the world</span><span style=\"background-color:#edebd0;\">, in the third place, a</span><span style=\"background-color:#eadbd8;\">s a necessary<br>con</span><span style=\"background-color:#ebdef0;\">nection and re</span><span style=\"background-color:#e2d7d5;\">public of </span><span style=\"background-color:#d0ece7;\">experience becomes</span><span style=\"background-color:#d6dbdf;\"><br>part of the ob</span><span style=\"background-color:#d4e6f1;\">servation of the conditions </span><span style=\"background-color:#d4e6f1;\">of<br>the gods.</span><span style=\"background-color:#edebd0;\"><br><br>The grounds o</span><span style=\"background-color:#d4e6e1;\">f the parts of the w</span><span style=\"background-color:#d0ece7;\">orld the p</span><span style=\"background-color:#d4efdf;\">ossibility of<br>such a s</span>e<span style=\"background-color:#d4e6e1;\">ries is in</span><span style=\"background-color:#edebd0;\">dependent of the i</span>mmediat<span style=\"background-color:#d0ece7;\">e<br>world in space and </span><span style=\"background-color:#d4e6e1;\">time. But as the </span><span style=\"background-color:#d6dbdf;\">thing in itself<br></span><span style=\"background-color:#edebd0;\">is one and the same </span><span style=\"background-color:#d6eaf8;\">articulation and a</span><span style=\"background-color:#edebd0;\">bsolute existence</span><span style=\"background-color:#d6eaf8;\"><br>of all the m</span><span style=\"background-color:#d0ece7;\">asterpieces of </span><span style=\"background-color:#d6eaf8;\">gods, but </span><span style=\"background-color:#d4efdf;\">we are no<br>longer </span><span style=\"background-color:#d0ece7;\">restricted to the mor</span><span style=\"background-color:#e2d7d5;\">al law. Thus</span><span style=\"background-color:#d4efdf;\"> the one<br>is t</span><span style=\"background-color:#fae5d3;\">hen of the </span><span style=\"background-color:#fae5d3;\">other, and from the </span><span style=\"background-color:#f6ddcc;\">implicit in the</span><span style=\"background-color:#fdebd0;\"><br>sphere of the possib</span><span style=\"background-color:#d4efdf;\">ility of an object </span><span style=\"background-color:#d6eaf8;\">of the senses<br></span><span style=\"background-color:#d4efdf;\"> considerations with regard to </span><span style=\"background-color:#edebd0;\">reason, which<br></span><span style=\"background-color:#e5e8e8;\">  he must be </span><span style=\"background-color:#d0ece7;\">distinguished from that </span><span style=\"background-color:#e2d7d5;\">nature, which<br></span><span style=\"background-color:#e5e8e8;\">  determined by </span><span style=\"background-color:#d4e6e1;\">the internal sense, b</span><span style=\"background-color:#d6eaf8;\">e in a position<br></span> <span style=\"background-color:#d0ece7;\"> of inferred </span><span style=\"background-color:#e2d7d5;\">greater event</span><span style=\"background-color:#d0ece7;\">s in the process of</span><span style=\"background-color:#d0ece7;\"><br>          cause</span><span style=\"background-color:#d4e6e1;\"> of viewing them, </span>add<span style=\"background-color:#eadbd8;\">s pure concepts </span><span style=\"background-color:#edebd0;\">of the understanding<br></span><span style=\"background-color:#d8daef;\">                                                      </span>{BOOK (En<span style=\"background-color:#d6dbdf;\">.<br>  SECT. V.    OF THE I</span>NFRESS "
            ],
            "text/plain": [
              "<IPython.core.display.HTML object>"
            ]
          },
          "metadata": {
            "tags": []
          }
        },
        {
          "output_type": "display_data",
          "data": {
            "text/html": [
              "<small><p style=\"text-align:right;\">Sources: <span style=\"background-color:#e2d7d5;\">Friedrich Wilhelm Nietzsche: The Genealogy of Morals</span>, <span style=\"background-color:#e5e8e8;\">David Hume: Philosophical Works, Vol. 1 of 4</span>, <span style=\"background-color:#ebdef0;\">Søren Kierkegaard: Selections from the Writings of Kierkegaard</span>, <span style=\"background-color:#d6dbdf;\">G. W. F. Hegel: The Philosophy of Fine Art, Vol. 1 of 4</span>, <span style=\"background-color:#d4efdf;\">Arthur Schopenhauer: The World as Will and Idea (Vol. 3 of 3)</span>, <span style=\"background-color:#edebd0;\">Georg Wilhelm Hegel: The History of Philosophy: Volume 3 of 3</span>, <span style=\"background-color:#eadbd8;\">Immanuel Kant: Kant's Prolegomena</span>, <span style=\"background-color:#ebdef0;\">Friedrich Nietzsche: The Joyful Wisdom</span>, <span style=\"background-color:#e2d7d5;\">David Hume: Hume's Political Discourses</span>, <span style=\"background-color:#d0ece7;\">David Hume and L. A. Selby-Bigge: Enquiry Concerning Human Understanding</span>, <span style=\"background-color:#d4e6f1;\">G. W. F. Hegel: The Philosophy of Fine Art, Vol. 2 of 4</span>, <span style=\"background-color:#d4e6e1;\">Immanuel Kant: The Critique of Pure Reason</span>, <span style=\"background-color:#d0ece7;\">Georg Wilhelm Hegel: Hegel's Lectures on the History of Philosophy: Vol. 2 of 3</span>, <span style=\"background-color:#d4efdf;\">Immanuel Kant: The Critique of Practical Reason</span>, <span style=\"background-color:#d0ece7;\">Arthur Schopenhauer: The World as Will and Idea (Vol. 2 of 3)</span>, <span style=\"background-color:#d6dbdf;\">Friedrich Nietzsche: Early Greek Philosophy & Other Essays</span>, <span style=\"background-color:#d6eaf8;\">G. W. F. Hegel: The Philosophy of Fine Art, Volume 3 of 4</span>, <span style=\"background-color:#d0ece7;\">G. W. F. Hegel: The Philosophy of Fine Art, Volume 4 of 4</span>, <span style=\"background-color:#d4efdf;\">G. W. Leibniz: Theodicy</span>, <span style=\"background-color:#fae5d3;\">William Wallace and G. W. F. Hegel: Prolegomena to the Study of Hegel's Philosophy</span>, <span style=\"background-color:#f6ddcc;\">G. W. F. Hegel: The Logic of Hegel</span>, <span style=\"background-color:#fdebd0;\">Arthur Schopenhauer: The World as Will and Idea (Vol. 1 of 3)</span>, <span style=\"background-color:#e5e8e8;\">David Hume: An Enquiry Concerning the Principles of Morals</span>, <span style=\"background-color:#d8daef;\">Friedrich Nietzsche: Der Wille zur Macht</span>, <span style=\"background-color:#d6dbdf;\">David Hume: A Treatise of Human Nature, Vols. 1 & 2</span></p></small>"
            ],
            "text/plain": [
              "<IPython.core.display.HTML object>"
            ]
          },
          "metadata": {
            "tags": []
          }
        },
        {
          "output_type": "stream",
          "text": [
            "================Temperature: 0.8==============\n"
          ],
          "name": "stdout"
        },
        {
          "output_type": "display_data",
          "data": {
            "text/html": [
              "<br>593.<br><br>*Typus\"<span style=\"background-color:#d4efdf;\"> dessen, was im </span>genug<span style=\"background-color:#ecf3cf;\"> benutzt werden </span><span style=\"background-color:#ecf3cf;\">soll, eine bloße </span><span style=\"background-color:#eadbd8;\">Notwendigkeit<br>der </span><span style=\"background-color:#d6dbdf;\">Ansicht, zu</span><span style=\"background-color:#d8daef;\"> der eine no</span>tw<span style=\"background-color:#d4e6e1;\">endige Natur</span><span style=\"background-color:#d8daef;\">e der<br>Bestimmungen de</span><span style=\"background-color:#d4e6e1;\">rselben, mit dem </span>schon ausschußen<span style=\"background-color:#e2d7d5;\">den<br>Funktionen </span><span style=\"background-color:#d4efdf;\">allererst zu </span><span style=\"background-color:#ecf3cf;\">sein, als d</span><span style=\"background-color:#d8daef;\">urch seine<br></span><span style=\"background-color:#ecf3cf;\">_Gleichheit_ </span><span style=\"background-color:#fae5d3;\">zur Wahrheit, d</span><span style=\"background-color:#ecf3cf;\">aß er seinen </span>Inhal<span style=\"background-color:#d4e6e1;\">t<br>unmittelbar </span><span style=\"background-color:#ecf3cf;\">in seiner nicht </span><span style=\"background-color:#d8daef;\">festgehaltenen </span><span style=\"background-color:#d4e6e1;\">Bestimmtheit,<br>sondern </span><span style=\"background-color:#d8daef;\">sich als in sich</span><span style=\"background-color:#d8daef;\"> reflektirtes </span>H<span style=\"background-color:#d4e6e1;\">ausgesetzte<br></span>is<span style=\"background-color:#d4e6f1;\">t, beschränkt </span><span style=\"background-color:#d4e6e1;\">sich also als </span><span style=\"background-color:#d4e6e1;\">aus der Selbst</span><span style=\"background-color:#d4e6f1;\">erhaltung<br>ver</span><span style=\"background-color:#eadbd8;\">schwindend s</span><span style=\"background-color:#e2d7d5;\">ein mag, n</span><span style=\"background-color:#e2d7d5;\">ennen wir nicht<br></span><span style=\"background-color:#d8daef;\">schließen, s</span><span style=\"background-color:#d4e6f1;\">ich darauf an</span><span style=\"background-color:#d8daef;\">gewendet, s</span><span style=\"background-color:#d8daef;\">o scheint<br>es</span><span style=\"background-color:#edebd0;\">, als Erkenntnisse</span><span style=\"background-color:#fae5d3;\"> entspringen muß, i</span><span style=\"background-color:#fae5d3;\">ch meine<br>n</span>e<span style=\"background-color:#ecf3cf;\">nnen: daß </span><span style=\"background-color:#eadbd8;\">nach seiner K</span><span style=\"background-color:#d4e6f1;\">raft an ih</span><span style=\"background-color:#d8daef;\">rer Möglichkeit<br></span><span style=\"background-color:#ecf3cf;\">angenommen werden müssen, </span><span style=\"background-color:#d4e6f1;\">weil sich au</span>ch me<span style=\"background-color:#ecf3cf;\">hren       b </span>129-20).<span style=\"background-color:#ecf3cf;\"><br>leisten s</span>ol<span style=\"background-color:#fae5d3;\">lten will, wi</span><span style=\"background-color:#ecf3cf;\">rd auch nicht </span>mit Begabternem<br>wirkt<span style=\"background-color:#e2d7d5;\">e, den man </span><span style=\"background-color:#d4e6f1;\">sich zu diesem </span>Gru<span style=\"background-color:#d4e6e1;\">nde finden,</span><span style=\"background-color:#ebdef0;\"><br>ohne daß diese</span><span style=\"background-color:#d8daef;\"> erste Ausgabe </span><span style=\"background-color:#d4e6f1;\">im Schließen </span><span style=\"background-color:#ebdef0;\">bestandene</span><span style=\"background-color:#ebdef0;\"><br>Menschen ihre</span><span style=\"background-color:#d4e6e1;\">r Endlichkeit </span>verl<span style=\"background-color:#eadbd8;\">etzen; und </span>mit<span style=\"background-color:#d4e6e1;\"> dem<br>Satze</span>,<span style=\"background-color:#d4e6e1;\"> das Gefährlichste</span><span style=\"background-color:#d4efdf;\">, gemacht </span><span style=\"background-color:#e2d7d5;\">hat, man d</span><span style=\"background-color:#d4e6f1;\">araus folgt,</span><span style=\"background-color:#d4e6f1;\"><br>weil sie so</span><span style=\"background-color:#d4e6e1;\">nst aus de</span>m Chor<span style=\"background-color:#d8daef;\">e, bei wenige</span><span style=\"background-color:#ecf3cf;\">n Fleische</span>n<br>"
            ],
            "text/plain": [
              "<IPython.core.display.HTML object>"
            ]
          },
          "metadata": {
            "tags": []
          }
        },
        {
          "output_type": "display_data",
          "data": {
            "text/html": [
              "<small><p style=\"text-align:right;\">Sources: <span style=\"background-color:#d4efdf;\">Immanuel Kant: Kant's gesammelte Schriften</span>, <span style=\"background-color:#ecf3cf;\">Immanuel Kant: Die Religion innerhalb der Grenzen der bloßen Vernunft</span>, <span style=\"background-color:#eadbd8;\">Georg Wilhelm Friedrich Hegel: Phänomenologie des Geistes</span>, <span style=\"background-color:#d6dbdf;\">Friedrich Wilhelm Nietzsche: Die Geburt der Tragoedie</span>, <span style=\"background-color:#d8daef;\">Arthur Schopenhauer: Aphorismen zur Lebensweisheit</span>, <span style=\"background-color:#d4e6e1;\">Georg Wilhelm Friedrich Hegel: Wissenshaft der Logik, Vol. 2</span>, <span style=\"background-color:#d8daef;\">Georg Wilhelm Friedrich Hegel: Wissenschaft der Logik, Erster Teil</span>, <span style=\"background-color:#d4e6e1;\">Johann Gottlieb Fichte: Reden an die deutsche Nation</span>, <span style=\"background-color:#e2d7d5;\">Immanuel Kant: Kritik der reinen Vernunft (2nd Edition)</span>, <span style=\"background-color:#d8daef;\">Friedrich Nietzsche: Der Wille zur Macht</span>, <span style=\"background-color:#fae5d3;\">Friedrick Wilhelm Nietzsche: Jenseits von Gut und Boese</span>, <span style=\"background-color:#d4e6f1;\">Gottfried Wilhelm Leibniz: Leibnitz' Monadologie</span>, <span style=\"background-color:#edebd0;\">Immanuel Kant: Kritik der reinen Vernunft (1st Edition)</span>, <span style=\"background-color:#fae5d3;\">Immanuel Kant: Was hei?: sich im Denken orientieren?</span>, <span style=\"background-color:#ecf3cf;\">Immanuel Kant: Beobachtungen ? das Gef?des Sch? und Erhabenen</span>, <span style=\"background-color:#d4e6f1;\">Friedrich Wilhelm Nietzsche: Menschliches, Allzumenschliches</span>, <span style=\"background-color:#ebdef0;\">Immanuel Kant: Zum ewigen Frieden</span>, <span style=\"background-color:#ecf3cf;\">Friedrich Wilhelm Nietzsche: Ecce Homo</span></p></small>"
            ],
            "text/plain": [
              "<IPython.core.display.HTML object>"
            ]
          },
          "metadata": {
            "tags": []
          }
        },
        {
          "output_type": "stream",
          "text": [
            "================Temperature: 0.9==============\n"
          ],
          "name": "stdout"
        },
        {
          "output_type": "display_data",
          "data": {
            "text/html": [
              "<span style=\"background-color:#fae5d3;\">And so long as </span>one nause<span style=\"background-color:#e5e8e8;\">as useful to human </span><span style=\"background-color:#d6eaf8;\">beings, these </span>reas<span style=\"background-color:#d6dbdf;\">ons,<br>for example</span><span style=\"background-color:#fae5d3;\">: all the </span><span style=\"background-color:#d8daef;\">natural instincts </span><span style=\"background-color:#d8daef;\">had to pay<br></span><span style=\"background-color:#d0ece7;\">again together</span><span style=\"background-color:#f6ddcc;\"> by the fact that al</span><span style=\"background-color:#f6ddcc;\">though<br>we can </span><span style=\"background-color:#d0ece7;\">possibly de</span><span style=\"background-color:#fdebd0;\">stroy that </span><span style=\"background-color:#e5e8e8;\">of magnitude the </span>truth<span style=\"background-color:#d6eaf8;\"><br>is external</span><span style=\"background-color:#e2d7d5;\">. But these s</span><span style=\"background-color:#d4e6f1;\">pecific grad</span><span style=\"background-color:#d6eaf8;\">ations are for</span><span style=\"background-color:#fae5d3;\"><br>certain an</span>ima<span style=\"background-color:#d4e6e1;\">ls like the s</span>onne<span style=\"background-color:#d4efdf;\">st Lessing</span><span style=\"background-color:#d0ece7;\"> and Homer</span><span style=\"background-color:#d6eaf8;\"><br>at last a</span><span style=\"background-color:#d6eaf8;\">llow of the </span><span style=\"background-color:#d0ece7;\">common human </span><span style=\"background-color:#e5e8e8;\">distinct idea in</span><br>assu<span style=\"background-color:#e2d7d5;\">minate one </span>or two<span style=\"background-color:#fdebd0;\"> empty when </span><span style=\"background-color:#d6dbdf;\">he has created</span><span style=\"background-color:#e5e8e8;\"><br>to instruct us</span><span style=\"background-color:#d6eaf8;\">. The neare</span><span style=\"background-color:#fdebd0;\">r is sufficient to </span><span style=\"background-color:#e5e8e8;\">form<br>     </span><span style=\"background-color:#d6dbdf;\">whereby form</span><span style=\"background-color:#d6eaf8;\"> an abstraction </span><span style=\"background-color:#d6dbdf;\">lack the d</span><span style=\"background-color:#d6dbdf;\">ivine<br>      </span>   <span style=\"background-color:#fdebd0;\"> except with </span><span style=\"background-color:#d6dbdf;\">political philosophy</span><span style=\"background-color:#e2d7d5;\">, and that of a</span><span style=\"background-color:#d8daef;\"><br>          d</span>emagogue),<span style=\"background-color:#d6eaf8;\"> both obli</span><span style=\"background-color:#d4efdf;\">terated for</span><span style=\"background-color:#d4e6e1;\"> the purpose of<br></span><span style=\"background-color:#d0ece7;\">          act</span><span style=\"background-color:#d0ece7;\">ual life, o</span><span style=\"background-color:#fae5d3;\">f coming to the </span><span style=\"background-color:#d0ece7;\">conjunction m</span><span style=\"background-color:#d0ece7;\">ight perhaps<br></span><span style=\"background-color:#e5e8e8;\">     of the ma</span><span style=\"background-color:#e5e8e8;\">rked differences </span><span style=\"background-color:#e2d7d5;\">of my country</span><span style=\"background-color:#e5e8e8;\">.<br>     I have </span><span style=\"background-color:#f6ddcc;\">an inquiry a</span>t<span style=\"background-color:#f6ddcc;\"> extracts from th</span>a<span style=\"background-color:#fae5d3;\">t<br>    The </span>maj<span style=\"background-color:#d0ece7;\">or however</span><span style=\"background-color:#eadbd8;\">, I did not </span><span style=\"background-color:#e5e8e8;\">so much explain</span><span style=\"background-color:#d6dbdf;\"><br>     ourselves </span>so hi<span style=\"background-color:#eadbd8;\">gh, I must </span>as<span style=\"background-color:#d0ece7;\">k, and may be </span><span style=\"background-color:#e2d7d5;\">ignorant<br> </span>    W<span style=\"background-color:#f6ddcc;\">ith its effects </span><span style=\"background-color:#fdebd0;\">from common</span>s<span style=\"background-color:#e2d7d5;\">ense power</span><span style=\"background-color:#d6dbdf;\">s, and the<br>     </span><span style=\"background-color:#d0ece7;\">passion for some</span><span style=\"background-color:#fdebd0;\">thing in n</span>orthern sleep<span style=\"background-color:#ecf3cf;\"> run in the </span>pas"
            ],
            "text/plain": [
              "<IPython.core.display.HTML object>"
            ]
          },
          "metadata": {
            "tags": []
          }
        },
        {
          "output_type": "display_data",
          "data": {
            "text/html": [
              "<small><p style=\"text-align:right;\">Sources: <span style=\"background-color:#fae5d3;\">William Wallace and G. W. F. Hegel: Prolegomena to the Study of Hegel's Philosophy</span>, <span style=\"background-color:#e5e8e8;\">David Hume: An Enquiry Concerning the Principles of Morals</span>, <span style=\"background-color:#d6eaf8;\">Friedrich Wilhelm Nietzsche: The Dawn of Day</span>, <span style=\"background-color:#d6dbdf;\">G. W. F. Hegel: The Philosophy of Fine Art, Vol. 1 of 4</span>, <span style=\"background-color:#d8daef;\">Friedrich Nietzsche: The Will to Power, Books I and II</span>, <span style=\"background-color:#d0ece7;\">Georg Wilhelm Hegel: Hegel's Lectures on the History of Philosophy: Vol. 2 of 3</span>, <span style=\"background-color:#f6ddcc;\">Arthur Schopenhauer: On the Fourfold Root of the Principle of Sufficient Reason and On the Will in Nature: Two Essays (revised edition)</span>, <span style=\"background-color:#f6ddcc;\">G. W. F. Hegel: The Logic of Hegel</span>, <span style=\"background-color:#d0ece7;\">Immanuel Kant: Fundamental Principles of the Metaphysic of Morals</span>, <span style=\"background-color:#fdebd0;\">David Hume: Philosophical Works, Vol. 2 of 4</span>, <span style=\"background-color:#e5e8e8;\">Immanuel Kant: Kant's Critique of Judgement</span>, <span style=\"background-color:#d6eaf8;\">G. W. F. Hegel: The Philosophy of Fine Art, Volume 3 of 4</span>, <span style=\"background-color:#e2d7d5;\">David Hume: Hume's Political Discourses</span>, <span style=\"background-color:#d4e6f1;\">G. W. F. Hegel: The Philosophy of Fine Art, Vol. 2 of 4</span>, <span style=\"background-color:#d4e6e1;\">Friedrich Nietzsche: Thoughts Out of Season, Part 2</span>, <span style=\"background-color:#d4efdf;\">Friedrich Wilhelm Nietzsche: Thoughts out of Season, Part I</span>, <span style=\"background-color:#d0ece7;\">G. W. F. Hegel: The Philosophy of Fine Art, Volume 4 of 4</span>, <span style=\"background-color:#e5e8e8;\">David Hume: Philosophical Works, Vol. 1 of 4</span>, <span style=\"background-color:#e2d7d5;\">Friedrich Wilhelm Nietzsche: The Genealogy of Morals</span>, <span style=\"background-color:#fdebd0;\">Arthur Schopenhauer: The World as Will and Idea (Vol. 1 of 3)</span>, <span style=\"background-color:#d6dbdf;\">Georg Wilhelm Friedrich Hegel: Hegel's Philosophy of Mind</span>, <span style=\"background-color:#d8daef;\">Friedrich Nietzsche: Der Wille zur Macht</span>, <span style=\"background-color:#d6eaf8;\">John Locke: Second Treatise of Government</span>, <span style=\"background-color:#d4e6e1;\">Friedrich Nietzsche: The Will to Power, Books III and IV</span>, <span style=\"background-color:#d0ece7;\">David Hume and L. A. Selby-Bigge: Enquiry Concerning Human Understanding</span>, <span style=\"background-color:#d0ece7;\">Arthur Schopenhauer: The World as Will and Idea (Vol. 2 of 3)</span>, <span style=\"background-color:#fae5d3;\">Immanuel Kant: Perpetual Peace</span>, <span style=\"background-color:#eadbd8;\">Hubert Crackanthorpe: Vignettes</span>, <span style=\"background-color:#d6dbdf;\">David Hume: A Treatise of Human Nature, Vols. 1 & 2</span>, <span style=\"background-color:#eadbd8;\">David Hume: Essays</span>, <span style=\"background-color:#ecf3cf;\">Rene Descartes: Discourse of a Method for the Well Guiding of Reason</span></p></small>"
            ],
            "text/plain": [
              "<IPython.core.display.HTML object>"
            ]
          },
          "metadata": {
            "tags": []
          }
        },
        {
          "output_type": "stream",
          "text": [
            "================Temperature: 1.0==============\n"
          ],
          "name": "stdout"
        },
        {
          "output_type": "display_data",
          "data": {
            "text/html": [
              "W<span style=\"background-color:#fae5d3;\">ehe thut, d</span><span style=\"background-color:#fae5d3;\">en Instinkt der </span><span style=\"background-color:#ecf3cf;\">Unabhängigkeit von </span><span style=\"background-color:#d4e6f1;\">Kräften? D</span>a<span style=\"background-color:#ecf3cf;\"> muss er a</span>llein<br>wa<span style=\"background-color:#e2d7d5;\">rft, wenn </span><span style=\"background-color:#d8daef;\">ich diese </span>Lichterpirkungswechsü<span style=\"background-color:#d4e6f1;\">ren dagegen </span><span style=\"background-color:#ecf3cf;\">zwar<br>nicht, </span><span style=\"background-color:#d8daef;\">daß nicht ein </span><span style=\"background-color:#d4efdf;\">Unbedeutendes </span>tei<span style=\"background-color:#eadbd8;\">ls von<br>der </span><span style=\"background-color:#d8daef;\">selben Form </span>wül<span style=\"background-color:#d4e6f1;\">en wird und da</span><span style=\"background-color:#d4e6e1;\"> ist die obje</span><span style=\"background-color:#d4efdf;\">ctive<br>Realität des </span>Raum<span style=\"background-color:#d4e6e1;\">es, als die </span><span style=\"background-color:#ecf3cf;\">mit dem sich </span><span style=\"background-color:#d8daef;\">Wahrhaftige</span><span style=\"background-color:#e2d7d5;\"><br>weglassen</span><span style=\"background-color:#ecf3cf;\">. Wenn man dieses </span><span style=\"background-color:#d4efdf;\">nun wiederum </span>so f<span style=\"background-color:#e2d7d5;\">ein,<br>bloß </span><span style=\"background-color:#d4e6e1;\">als Methode </span><span style=\"background-color:#e2d7d5;\">gehört; denn</span><span style=\"background-color:#d4e6e1;\"> dieser wichtige</span><span style=\"background-color:#d4efdf;\"><br>Mannigfaltigkeit der </span><span style=\"background-color:#edebd0;\">Vorstellungsart ist</span><span style=\"background-color:#d8daef;\"> also<br>eine Form </span><span style=\"background-color:#d4e6e1;\">der Anschauung und d</span>i<span style=\"background-color:#e2d7d5;\">e reine<br>Form</span><span style=\"background-color:#d4e6e1;\">, sowohl der</span><span style=\"background-color:#ecf3cf;\">selben noch in </span><span style=\"background-color:#ecf3cf;\">demjenigen, was </span><span style=\"background-color:#ecf3cf;\">unter<br>allen </span><span style=\"background-color:#d4e6e1;\">kindlichen </span><span style=\"background-color:#e2d7d5;\">Substantiale</span><span style=\"background-color:#ecf3cf;\">n, als ob ein </span><span style=\"background-color:#d8daef;\">Philosoph<br></span><span style=\"background-color:#e2d7d5;\">nicht geschehen könnte, </span><span style=\"background-color:#d8daef;\">so ist ihre </span><span style=\"background-color:#d4e6f1;\">Natur den<br></span><span style=\"background-color:#ecf3cf;\">Gedanken nie</span><span style=\"background-color:#d4e6f1;\">derschrieb, </span><span style=\"background-color:#ecf3cf;\">um auch al</span>l<span style=\"background-color:#ecf3cf;\">e bloße<br>Ver</span><span style=\"background-color:#d8daef;\">mischungen</span>anfaßt<span style=\"background-color:#fae5d3;\">e immer zu b</span><span style=\"background-color:#ecf3cf;\">ringen, Ge</span>schmack<span style=\"background-color:#d8daef;\"><br>ausgesprochen werden, als </span><span style=\"background-color:#d4efdf;\">welches also </span>vorhin<span style=\"background-color:#ecf3cf;\"><br>beleidigt </span><span style=\"background-color:#d8daef;\">sind, das G</span>lück<span style=\"background-color:#d8daef;\"> im umgekehrten </span><span style=\"background-color:#d4e6f1;\">Wesen<br>zusammen</span><span style=\"background-color:#d4e6e1;\">gefallen d</span>. h.<span style=\"background-color:#d8daef;\"> als wesentliche Form</span><span style=\"background-color:#d8daef;\"><br>nicht sey</span><span style=\"background-color:#d8daef;\">n soll, nämlich d</span>ie gladlik<span style=\"background-color:#e2d7d5;\">is und intell</span>ektuell<span style=\"background-color:#d4e6e1;\">e<br>Gewißheit seine</span><span style=\"background-color:#d4e6e1;\">s Ansichseyns</span>. <span style=\"background-color:#d8daef;\"> Das Christentum</span><br>h<span style=\"background-color:#fae5d3;\">änge in sich</span> fragend (*daß<span style=\"background-color:#e2d7d5;\"> naturalist</span>an\", immer "
            ],
            "text/plain": [
              "<IPython.core.display.HTML object>"
            ]
          },
          "metadata": {
            "tags": []
          }
        },
        {
          "output_type": "display_data",
          "data": {
            "text/html": [
              "<small><p style=\"text-align:right;\">Sources: <span style=\"background-color:#fae5d3;\">Friedrick Wilhelm Nietzsche: Jenseits von Gut und Boese</span>, <span style=\"background-color:#ecf3cf;\">Immanuel Kant: Die Religion innerhalb der Grenzen der bloßen Vernunft</span>, <span style=\"background-color:#d4e6f1;\">Gottfried Wilhelm Leibniz: Leibnitz' Monadologie</span>, <span style=\"background-color:#ecf3cf;\">Friedrich Wilhelm Nietzsche: Ecce Homo</span>, <span style=\"background-color:#e2d7d5;\">Immanuel Kant: Tr?e eines Geistersehers, erl?ert by Tr?e der Metaphysik</span>, <span style=\"background-color:#d8daef;\">Friedrich Nietzsche: Der Wille zur Macht</span>, <span style=\"background-color:#d8daef;\">Georg Wilhelm Friedrich Hegel: Wissenschaft der Logik, Erster Teil</span>, <span style=\"background-color:#d4efdf;\">Immanuel Kant: Kant's gesammelte Schriften</span>, <span style=\"background-color:#eadbd8;\">Georg Wilhelm Friedrich Hegel: Phänomenologie des Geistes</span>, <span style=\"background-color:#d4e6f1;\">Friedrich Wilhelm Nietzsche: Menschliches, Allzumenschliches</span>, <span style=\"background-color:#d4e6e1;\">Georg Wilhelm Friedrich Hegel: Wissenshaft der Logik, Vol. 2</span>, <span style=\"background-color:#d4e6e1;\">Johann Gottlieb Fichte: Reden an die deutsche Nation</span>, <span style=\"background-color:#e2d7d5;\">Immanuel Kant: Kritik der reinen Vernunft (2nd Edition)</span>, <span style=\"background-color:#edebd0;\">Immanuel Kant: Kritik der reinen Vernunft (1st Edition)</span>, <span style=\"background-color:#d8daef;\">Arthur Schopenhauer: Aphorismen zur Lebensweisheit</span>, <span style=\"background-color:#e2d7d5;\">David Hume: Hume's Political Discourses</span></p></small>"
            ],
            "text/plain": [
              "<IPython.core.display.HTML object>"
            ]
          },
          "metadata": {
            "tags": []
          }
        }
      ]
    },
    {
      "cell_type": "markdown",
      "metadata": {
        "id": "hjCd8CHLUlpd"
      },
      "source": [
        "## 4.2 Dialog with the model"
      ]
    },
    {
      "cell_type": "code",
      "metadata": {
        "id": "pfiL1_64Ulpe"
      },
      "source": [
        "# Do a dialog with the recursive neural net trained above:\n",
        "def doDialog():\n",
        "    temperature = 0.6  # 0.1 (free-style chaos) - >1.0 (rigid, frozen)\n",
        "    endPrompt = '.'  # the endPrompt character is the end-mark in answers.\n",
        "    numSentences = 3 # Try to generate numSentences terminated by endPrompt\n",
        "    # maxEndPrompts = 4  # look for number of maxEndPrompts until answer is finished.\n",
        "    # maxAnswerSize = 2048  # Maximum length of the answer\n",
        "    # minAnswerSize = 64  # Minimum length of the answer\n",
        "\n",
        "    \n",
        "    print(\"Please enter some dialog.\")\n",
        "    print(\"The net will answer according to your input.\")\n",
        "    print(\"'bye' for end,\")\n",
        "    print(\"'reset' to reset the conversation context,\")\n",
        "    print(\"'temperature=<float>' [0.1(free, chaotic) - >1.0(strict, frozen)]\")\n",
        "    print(\"    to change character of the dialog.\")\n",
        "    # print(\"    Current temperature={}.\".format(temperature))\n",
        "    print()\n",
        "    xso = None\n",
        "    bye = False\n",
        "    last_ans=\"\"\n",
        "        \n",
        "    while not bye:\n",
        "        print(\"> \", end=\"\")\n",
        "        prompt = input()\n",
        "        if prompt == 'bye':\n",
        "            bye = True\n",
        "            print(\"Good bye!\")\n",
        "            continue\n",
        "        if prompt.find(\"temperature\")>=0 and prompt.find(\"=\") > prompt.find(\"temperature\"):\n",
        "            temperature=float(prompt[prompt.find('=')+1:])\n",
        "            print(f\"Temperature set to {temperature}\")\n",
        "            continue\n",
        "\n",
        "        prompt+=' '\n",
        "        for attempts in range(0,3):\n",
        "            tgen=poet.generate(2000,prompt,temperature=temperature)\n",
        "            # tgen=tgen.replace(\"Mr.\", \"Mr\")\n",
        "            # tgen=tgen.replace(\"Mrs.\", \"Mrs\")\n",
        "            # tgen=tgen.replace(\"\\n\",\" \")\n",
        "            # tgen=tgen.replace(\"  \",\" \")\n",
        "            tgi=tgen.split(\". \")\n",
        "            print(f\"{len(tgi)} sentences\")\n",
        "            if len(tgi)<numSentences:\n",
        "                continue\n",
        "            ans=\"\"\n",
        "            for i in range(0,numSentences):\n",
        "                ans += tgi[i]+\". \"\n",
        "            break\n",
        "            # i=tgen.find(endPrompt)\n",
        "            # i2=tgen[i+1:].find(endPrompt)+i\n",
        "            # i3=tgen[i2+1:].find(endPrompt)+i2\n",
        "            # i4=tgen[i3+1:].find(endPrompt)+i3\n",
        "            # tgen=tgen[i+1:i4+2]\n",
        "            # if len(tgen)>10:\n",
        "            #     break\n",
        "        last_ans=ans\n",
        "        textlib.source_highlight(last_ans, minQuoteSize=10,dark_mode=use_dark_mode,display_ref_anchor=False)\n",
        "    return"
      ],
      "execution_count": null,
      "outputs": []
    },
    {
      "cell_type": "code",
      "metadata": {
        "id": "8mGGsuFRUlpi",
        "scrolled": true,
        "outputId": "a2635d95-d05c-4865-ae93-9a29414ce1aa",
        "colab": {
          "base_uri": "https://localhost:8080/",
          "height": 1000
        }
      },
      "source": [
        "doDialog()"
      ],
      "execution_count": null,
      "outputs": [
        {
          "output_type": "stream",
          "text": [
            "Please enter some dialog.\n",
            "The net will answer according to your input.\n",
            "'bye' for end,\n",
            "'reset' to reset the conversation context,\n",
            "'temperature=<float>' [0.1(free, chaotic) - >1.0(strict, frozen)]\n",
            "    to change character of the dialog.\n",
            "\n",
            "> The interaction between mind and body is governed by a soul.\n",
            "3 sentences\n"
          ],
          "name": "stdout"
        },
        {
          "output_type": "display_data",
          "data": {
            "text/html": [
              "<span style=\"background-color:#edebd0;\">This<br>is the first </span><span style=\"background-color:#fdebd0;\">and most constant</span><span style=\"background-color:#d6dbdf;\"> treatment of co</span><span style=\"background-color:#d0ece7;\">nsciousness, and<br>therefore </span><span style=\"background-color:#d6eaf8;\">the sensation of power</span><span style=\"background-color:#d0ece7;\">, we should s</span><span style=\"background-color:#ebdef0;\">uffer the<br></span><span style=\"background-color:#e5e8e8;\">contrariety of events </span><span style=\"background-color:#e2d7d5;\">can be found in </span>Hegel<span style=\"background-color:#d8daef;\">'s<br>question</span><span style=\"background-color:#e2d7d5;\">s with regard to the </span><span style=\"background-color:#d6dbdf;\">fact that a p</span><span style=\"background-color:#e5e8e8;\">articular<br>state a</span><span style=\"background-color:#d0ece7;\">ttained to its con</span><span style=\"background-color:#d6eaf8;\">tent, is con</span><span style=\"background-color:#f6ddcc;\">stituted,<br>a</span><span style=\"background-color:#f6ddcc;\">nd it is the same in </span><span style=\"background-color:#d4e6e1;\">all possible attributes, </span><span style=\"background-color:#d6dbdf;\">and<br>therefore re</span><span style=\"background-color:#d0ece7;\">gards the nature of the ob</span><span style=\"background-color:#d4e6e1;\">ject and<br>the </span><span style=\"background-color:#d4e6e1;\">assertion of the will to live i</span><span style=\"background-color:#d0ece7;\">n itself;<br></span><span style=\"background-color:#d4efdf;\">since the me</span><span style=\"background-color:#fae5d3;\">mbers of the m</span>i<span style=\"background-color:#ebdef0;\">nd leave the so</span><span style=\"background-color:#fae5d3;\">ul and<br>the </span><span style=\"background-color:#ebdef0;\">existing order of th</span><span style=\"background-color:#eadbd8;\">e whole, which is </span><span style=\"background-color:#eadbd8;\">the common<br>sp</span><span style=\"background-color:#d4e6f1;\">here of human acti</span><span style=\"background-color:#d0ece7;\">on, which we have </span><span style=\"background-color:#d4efdf;\">already<br>recognized</span><span style=\"background-color:#d6eaf8;\">, the negative con</span><span style=\"background-color:#f6ddcc;\">tent is only the</span><span style=\"background-color:#f6ddcc;\"> abstract<br>sens</span><span style=\"background-color:#d4e6f1;\">uous existence o</span><span style=\"background-color:#edebd0;\">f subjective and objective,<br></span><span style=\"background-color:#d6eaf8;\"><br>which is an </span><span style=\"background-color:#d4e6e1;\">à priori determination</span><span style=\"background-color:#e2d7d5;\"> of the genus, and </span><span style=\"background-color:#d4e6e1;\">the<br> action of </span><span style=\"background-color:#fdebd0;\">mere appearance; </span><span style=\"background-color:#d8daef;\">he may not be </span><span style=\"background-color:#d6dbdf;\">able to<br>con</span><span style=\"background-color:#e2d7d5;\">verse with the p</span><span style=\"background-color:#e5e8e8;\">ossibility of an<br></span><span style=\"background-color:#d6eaf8;\">explanation to </span><span style=\"background-color:#edebd0;\">itself and as such</span><span style=\"background-color:#ebdef0;\"> is not a re</span><span style=\"background-color:#d6eaf8;\">ference<br>th</span><span style=\"background-color:#d0ece7;\">rough the senses; </span><span style=\"background-color:#d4efdf;\">but not the cause</span><span style=\"background-color:#d4e6e1;\"> of<br>the necessary </span><span style=\"background-color:#d4efdf;\">connection of the world</span><span style=\"background-color:#fae5d3;\">, the<br>perception of the </span><span style=\"background-color:#edebd0;\">world is an en</span><span style=\"background-color:#d6eaf8;\">deavour to be</span><span style=\"background-color:#ebdef0;\"><br>absolutely b</span><span style=\"background-color:#d6eaf8;\">ound by any </span><span style=\"background-color:#ebdef0;\">such thing, </span><span style=\"background-color:#d4e6e1;\">it is not<br>only </span><span style=\"background-color:#f6ddcc;\">a means, but </span><span style=\"background-color:#d6eaf8;\">only to the s</span><span style=\"background-color:#edebd0;\">ensuous perception<br></span><span style=\"background-color:#f6ddcc;\">of the object in question</span><span style=\"background-color:#d6dbdf;\">. The relation of the</span><span style=\"background-color:#edebd0;\"><br>implicit i</span><span style=\"background-color:#d4efdf;\">s to the subjective principle of a</span><span style=\"background-color:#d4e6e1;\"><br>certain acti</span><span style=\"background-color:#d0ece7;\">vity which is c</span><span style=\"background-color:#f6ddcc;\">ontained in the<br>_</span><span style=\"background-color:#d6eaf8;\">second_ place i</span><span style=\"background-color:#d4e6e1;\">n the sphere of the p</span><span style=\"background-color:#d4e6e1;\">ure understanding,<br>and </span><span style=\"background-color:#d4e6e1;\">therefore conceptions</span><span style=\"background-color:#edebd0;\"> in the individual,</span><br><span style=\"background-color:#ebdef0;\"><br>with which the </span><span style=\"background-color:#d4e6f1;\">representation of such a </span><span style=\"background-color:#f6ddcc;\">plaint is </span>called<br><span style=\"background-color:#fae5d3;\"> the idea of a pr</span><span style=\"background-color:#d4efdf;\">edicate of the caus</span><span style=\"background-color:#e5e8e8;\">e or effect,<br></span><span style=\"background-color:#eadbd8;\">          the </span><span style=\"background-color:#d0ece7;\">thing in itself, which is </span><span style=\"background-color:#d6dbdf;\">connected with the e</span><span style=\"background-color:#f6ddcc;\">xistence<br>of the w</span><span style=\"background-color:#d4efdf;\">ill in so far as it is </span><span style=\"background-color:#d6eaf8;\">necessary for music</span><span style=\"background-color:#e2d7d5;\">.<br><br>It may be </span><span style=\"background-color:#d6dbdf;\">readily cont</span><span style=\"background-color:#e2d7d5;\">inued to t</span><span style=\"background-color:#d6dbdf;\">riumph over the </span><span style=\"background-color:#d6dbdf;\">passions<br>of pr</span>aise<span style=\"background-color:#fdebd0;\"> or shame </span><span style=\"background-color:#f6ddcc;\">and passes away </span><span style=\"background-color:#d6eaf8;\">in the total<br></span><span style=\"background-color:#fdebd0;\">suspense of </span><span style=\"background-color:#e2d7d5;\">dissolution and </span><span style=\"background-color:#f6ddcc;\">reflection. The<br></span><span style=\"background-color:#d4e6e1;\">exposition of the con</span><span style=\"background-color:#d4e6f1;\">tradiction is exp</span><span style=\"background-color:#d4efdf;\">ressed in<br>the </span><span style=\"background-color:#d4e6f1;\">_particular_ con</span><span style=\"background-color:#d0ece7;\">ditions of the a</span><span style=\"background-color:#fdebd0;\">ssertion<br>of the will </span><span style=\"background-color:#edebd0;\">of God, and all </span><span style=\"background-color:#d6dbdf;\">phenomena are p</span><span style=\"background-color:#ebdef0;\">articular<br>and </span><span style=\"background-color:#e2d7d5;\">contiguous to </span><span style=\"background-color:#e5e8e8;\">others, the same </span><span style=\"background-color:#fae5d3;\">or substantial<br></span><span style=\"background-color:#edebd0;\">content is co</span><span style=\"background-color:#d4e6e1;\">mparatively int</span><span style=\"background-color:#d0ece7;\">uitive, and</span><span style=\"background-color:#fdebd0;\"> is the<br>content of </span><span style=\"background-color:#d6dbdf;\">the individual what </span><span style=\"background-color:#edebd0;\">is substantial,</span><span style=\"background-color:#d4e6e1;\"> and which<br>in</span>. "
            ],
            "text/plain": [
              "<IPython.core.display.HTML object>"
            ]
          },
          "metadata": {
            "tags": []
          }
        },
        {
          "output_type": "display_data",
          "data": {
            "text/html": [
              "<small><p style=\"text-align:right;\">Sources: <span style=\"background-color:#edebd0;\">Friedrich Wilhelm Nietzsche: Twilight of the Idols - The Antichrist</span>, <span style=\"background-color:#fdebd0;\">Friedrich Nietzsche: Beyond Good and Evil</span>, <span style=\"background-color:#d6dbdf;\">G. W. F. Hegel: The Philosophy of Fine Art, Vol. 1 of 4</span>, <span style=\"background-color:#d0ece7;\">Arthur Schopenhauer: The World as Will and Idea (Vol. 2 of 3)</span>, <span style=\"background-color:#d6eaf8;\">Friedrich Wilhelm Nietzsche: The Dawn of Day</span>, <span style=\"background-color:#d0ece7;\">G. W. F. Hegel: The Philosophy of Fine Art, Volume 4 of 4</span>, <span style=\"background-color:#ebdef0;\">Søren Kierkegaard: Selections from the Writings of Kierkegaard</span>, <span style=\"background-color:#e5e8e8;\">David Hume: Philosophical Works, Vol. 1 of 4</span>, <span style=\"background-color:#e2d7d5;\">David Hume: Hume's Political Discourses</span>, <span style=\"background-color:#d8daef;\">Friedrich Nietzsche: The Will to Power, Books I and II</span>, <span style=\"background-color:#e5e8e8;\">David Hume: An Enquiry Concerning the Principles of Morals</span>, <span style=\"background-color:#d0ece7;\">Georg Wilhelm Hegel: Hegel's Lectures on the History of Philosophy: Vol. 2 of 3</span>, <span style=\"background-color:#d6eaf8;\">Georg Wilhelm Hegel: Hegel's Lectures on the History of Philosophy: Vol. 1 of 3</span>, <span style=\"background-color:#f6ddcc;\">David Hume: Dialogues Concerning Natural Religion</span>, <span style=\"background-color:#f6ddcc;\">G. W. F. Hegel: The Logic of Hegel</span>, <span style=\"background-color:#d4e6e1;\">Immanuel Kant: The Critique of Pure Reason</span>, <span style=\"background-color:#d6dbdf;\">Friedrich Nietzsche: Early Greek Philosophy & Other Essays</span>, <span style=\"background-color:#d0ece7;\">Immanuel Kant: Fundamental Principles of the Metaphysic of Morals</span>, <span style=\"background-color:#d4e6e1;\">Friedrich Nietzsche: Thoughts Out of Season, Part 2</span>, <span style=\"background-color:#d4efdf;\">G. W. Leibniz: Theodicy</span>, <span style=\"background-color:#fae5d3;\">William Wallace and G. W. F. Hegel: Prolegomena to the Study of Hegel's Philosophy</span>, <span style=\"background-color:#ebdef0;\">Friedrich Wilhelm Nietzsche: Human, All-Too-Human, Part II</span>, <span style=\"background-color:#eadbd8;\">Immanuel Kant: Kant's Prolegomena</span>, <span style=\"background-color:#eadbd8;\">Georg Hegel: The Introduction to Hegel's Philosophy of Fine Arts</span>, <span style=\"background-color:#d4e6f1;\">G. W. F. Hegel: The Philosophy of Fine Art, Vol. 2 of 4</span>, <span style=\"background-color:#d4efdf;\">Immanuel Kant: The Critique of Practical Reason</span>, <span style=\"background-color:#d6eaf8;\">G. W. F. Hegel: The Philosophy of Fine Art, Volume 3 of 4</span>, <span style=\"background-color:#edebd0;\">Georg Wilhelm Hegel: The History of Philosophy: Volume 3 of 3</span>, <span style=\"background-color:#fdebd0;\">Arthur Schopenhauer: The World as Will and Idea (Vol. 1 of 3)</span>, <span style=\"background-color:#e2d7d5;\">Friedrich Wilhelm Nietzsche: The Genealogy of Morals</span>, <span style=\"background-color:#e5e8e8;\">Immanuel Kant: Kant's Critique of Judgement</span>, <span style=\"background-color:#edebd0;\">Arthur Schopenhauer: The Basis of Morality</span>, <span style=\"background-color:#d4efdf;\">Arthur Schopenhauer: The World as Will and Idea (Vol. 3 of 3)</span>, <span style=\"background-color:#d4e6e1;\">Friedrich Nietzsche: The Will to Power, Books III and IV</span>, <span style=\"background-color:#fae5d3;\">Rene Descartes: Selections From The Principles of Philosophy</span>, <span style=\"background-color:#ebdef0;\">Friedrich Nietzsche: The Joyful Wisdom</span>, <span style=\"background-color:#d6eaf8;\">John Locke: Second Treatise of Government</span>, <span style=\"background-color:#fae5d3;\">Immanuel Kant: Perpetual Peace</span>, <span style=\"background-color:#eadbd8;\">Hubert Crackanthorpe: Vignettes</span>, <span style=\"background-color:#f6ddcc;\">Arthur Schopenhauer: On the Fourfold Root of the Principle of Sufficient Reason and On the Will in Nature: Two Essays (revised edition)</span>, <span style=\"background-color:#d6dbdf;\">David Hume: A Treatise of Human Nature, Vols. 1 & 2</span>, <span style=\"background-color:#fdebd0;\">David Hume: Philosophical Works, Vol. 2 of 4</span>, <span style=\"background-color:#d4e6f1;\">Montaigne, Michel, Sainte-Beuve, Charles-Augustin; Renan, Ernest, Lessing, Gotthold Ephraim, Von Schiller, J.C., Kant, Immanuel, Mazzini, and Giuseppe: Literary and Philosophical Essays</span>, <span style=\"background-color:#d6dbdf;\">Georg Wilhelm Friedrich Hegel: Hegel's Philosophy of Mind</span></p></small>"
            ],
            "text/plain": [
              "<IPython.core.display.HTML object>"
            ]
          },
          "metadata": {
            "tags": []
          }
        },
        {
          "output_type": "stream",
          "text": [
            "> A proof for the existence of god.\n",
            "3 sentences\n"
          ],
          "name": "stdout"
        },
        {
          "output_type": "display_data",
          "data": {
            "text/html": [
              "<span style=\"background-color:#d6eaf8;\">It is the same as</span><span style=\"background-color:#d4efdf;\"> the goodness<br>of the </span><span style=\"background-color:#d4efdf;\">will to live, the </span><span style=\"background-color:#d0ece7;\">artist, and the p</span><span style=\"background-color:#f6ddcc;\">ower of the in</span><span style=\"background-color:#fae5d3;\">vention<br>and i</span><span style=\"background-color:#edebd0;\">magery, th</span><span style=\"background-color:#ebdef0;\">at which was </span><span style=\"background-color:#d4efdf;\">not always a </span><span style=\"background-color:#d6eaf8;\">mere animal</span><span style=\"background-color:#d4e6f1;\"><br>which it is s</span><span style=\"background-color:#d0ece7;\">aid that the st</span><span style=\"background-color:#edebd0;\">ate is not a</span><span style=\"background-color:#d0ece7;\">lready<br>poss</span><span style=\"background-color:#eadbd8;\">ible, but the </span><span style=\"background-color:#d4e6f1;\">mere reality of </span><span style=\"background-color:#d4e6e1;\">the world<br>comprehen</span><span style=\"background-color:#d0ece7;\">ded in its real</span><span style=\"background-color:#edebd0;\">ity as a d</span><span style=\"background-color:#d0ece7;\">eterminate<br>w</span><span style=\"background-color:#d6dbdf;\">orld, is a </span><span style=\"background-color:#f6ddcc;\">consciousness by which </span><span style=\"background-color:#f6ddcc;\">we are still<br></span><span style=\"background-color:#e5e8e8;\">involved in the s</span><span style=\"background-color:#e2d7d5;\">ystem of the </span><span style=\"background-color:#eadbd8;\">beautiful, but it</span><span style=\"background-color:#d4e6e1;\"><br>was the real </span><span style=\"background-color:#d4e6f1;\">in the expression of the </span><span style=\"background-color:#d0ece7;\">individual<br>man, </span><span style=\"background-color:#e2d7d5;\">so far as the </span><span style=\"background-color:#d4e6f1;\">German spirit is </span><span style=\"background-color:#d0ece7;\">existent,<br>but</span><span style=\"background-color:#e5e8e8;\">, as experience </span><span style=\"background-color:#d0ece7;\">and activity is </span><span style=\"background-color:#d4e6f1;\">from the<br>notion of that </span>_<span style=\"background-color:#ebdef0;\">providence</span>_.<br><br>O<span style=\"background-color:#f6ddcc;\">ur true and </span><span style=\"background-color:#d6eaf8;\">determination of the sens</span><span style=\"background-color:#d0ece7;\">ible world is<br>i</span><span style=\"background-color:#d4e6f1;\">n the country p</span>ermitted (<span style=\"background-color:#d6eaf8;\">be a distinct </span><span style=\"background-color:#d4e6f1;\">and<br>sensuous </span>shap<span style=\"background-color:#edebd0;\">e), which ar</span><span style=\"background-color:#d4e6e1;\">e subject to the f</span><span style=\"background-color:#edebd0;\">act of an<br></span><span style=\"background-color:#d0ece7;\">understanding with the </span><span style=\"background-color:#d4e6e1;\">law of causality, and the</span><span style=\"background-color:#d6eaf8;\"><br> theoretical </span><span style=\"background-color:#f6ddcc;\">point of view and i</span><span style=\"background-color:#d6dbdf;\">deas. The rea</span>s<span style=\"background-color:#d0ece7;\">on<br>    of the </span><span style=\"background-color:#d6eaf8;\">law of nature, or the </span><span style=\"background-color:#d0ece7;\">possibility of<br>          co</span>n<span style=\"background-color:#d4e6e1;\">ception   </span>332     beilauft 1]<span style=\"background-color:#d4e6f1;\"> und rede </span><span style=\"background-color:#d8daef;\">ich nun auch </span>sie<br><span style=\"background-color:#d4efdf;\">(wie der S</span><span style=\"background-color:#d4e6e1;\">chluß als </span><span style=\"background-color:#d4e6f1;\">=dieser= Ge</span><span style=\"background-color:#d4e6e1;\">wißheit zu </span><span style=\"background-color:#ebdef0;\">werden, wenn man</span><br><span style=\"background-color:#e2d7d5;\">ein Mannigfaltiges der </span><span style=\"background-color:#e2d7d5;\">systematischen Einheit der</span><span style=\"background-color:#d8daef;\"><br>Erfahrung, </span><span style=\"background-color:#d4efdf;\">mithin übersinnliche</span><span style=\"background-color:#d8daef;\"> Welt als eine </span><span style=\"background-color:#e2d7d5;\">scheinbare<br>Anti</span><span style=\"background-color:#e2d7d5;\">nomie der reinen Vernunft be</span><span style=\"background-color:#eadbd8;\">steht also alle</span>r Zeitbesänd<span style=\"background-color:#d4e6e1;\">en<br>gebraucht werden</span><span style=\"background-color:#d8daef;\">, daß ihm </span><span style=\"background-color:#d8daef;\">eine Ursache </span><span style=\"background-color:#d4efdf;\">niemals in<br></span><span style=\"background-color:#d4efdf;\">     eines Ge</span>bietswol<span style=\"background-color:#ecf3cf;\">s oder eines </span><span style=\"background-color:#d4e6f1;\">realen Dinge</span>s<br><br><br><br><br>Zu<span style=\"background-color:#d6dbdf;\"> mir steht</span><span style=\"background-color:#d8daef;\"> ihr mehr </span><span style=\"background-color:#d4e6e1;\">im Geiste be</span><span style=\"background-color:#d8daef;\">werkstelligt</span><br> <span style=\"background-color:#d4e6f1;\"> der logischen </span><span style=\"background-color:#e5e8e8;\">Einbildungskraft<br>  </span><span style=\"background-color:#e2d7d5;\">der Untersuchungen</span><span style=\"background-color:#eadbd8;\"> alles Denkens </span><span style=\"background-color:#d6dbdf;\">auszuscheiden,</span><br> <span style=\"background-color:#f6ddcc;\"> und reinen </span><span style=\"background-color:#e2d7d5;\">Verstandesbegriffen aller</span><span style=\"background-color:#e2d7d5;\">erst möglich w</span>ä<span style=\"background-color:#e5e8e8;\">re<br>     is</span><span style=\"background-color:#d6dbdf;\">t es der Be</span><span style=\"background-color:#d4efdf;\">stimmungsgrund des </span><span style=\"background-color:#e2d7d5;\">Raumes und der<br></span><span style=\"background-color:#d4efdf;\">     Wahrheit</span><span style=\"background-color:#ebdef0;\">en zu befördern und zu</span><span style=\"background-color:#eadbd8;\"> dem Gegenteil </span>gewiss<br>    <span style=\"background-color:#e2d7d5;\"> geben kann, a</span><span style=\"background-color:#ecf3cf;\">ls ob sie i</span><span style=\"background-color:#d8daef;\">n der andern gesetzt</span><span style=\"background-color:#d8daef;\"><br>                                                        </span>B<span style=\"background-color:#ebdef0;\">: daß die<br></span><span style=\"background-color:#ecf3cf;\">                                 B: </span><span style=\"background-color:#ecf3cf;\">ihrer<br>                             </span><span style=\"background-color:#ecf3cf;\">                     B: ist e</span><span style=\"background-color:#ebdef0;\">ine solche<br>     </span><span style=\"background-color:#e2d7d5;\">Vernunft in Ansehung der </span><span style=\"background-color:#e2d7d5;\">Bedingungen (die </span>Gegenwart)<span style=\"background-color:#ecf3cf;\"> der<br>     Menschen </span><span style=\"background-color:#ecf3cf;\">der Menschheit in die </span>des Küh<span style=\"background-color:#d8daef;\">enbewegungen</span><br>     |.<span style=\"background-color:#d4e6f1;\"> innere Gesch</span>ich<span style=\"background-color:#d8daef;\">te zusammen</span><span style=\"background-color:#d4e6f1;\">fassen und zu </span>bringen,<span style=\"background-color:#e2d7d5;\"><br>  oder des</span>halb zukan<span style=\"background-color:#d4e6e1;\">fen werden, daß </span><span style=\"background-color:#ecf3cf;\">wir doch in </span><span style=\"background-color:#d4efdf;\">einem<br>     </span>. "
            ],
            "text/plain": [
              "<IPython.core.display.HTML object>"
            ]
          },
          "metadata": {
            "tags": []
          }
        },
        {
          "output_type": "display_data",
          "data": {
            "text/html": [
              "<small><p style=\"text-align:right;\">Sources: <span style=\"background-color:#d6eaf8;\">Georg Wilhelm Hegel: Hegel's Lectures on the History of Philosophy: Vol. 1 of 3</span>, <span style=\"background-color:#d4efdf;\">Arthur Schopenhauer: The World as Will and Idea (Vol. 3 of 3)</span>, <span style=\"background-color:#d0ece7;\">Arthur Schopenhauer: The World as Will and Idea (Vol. 2 of 3)</span>, <span style=\"background-color:#f6ddcc;\">G. W. F. Hegel: The Logic of Hegel</span>, <span style=\"background-color:#fae5d3;\">William Wallace and G. W. F. Hegel: Prolegomena to the Study of Hegel's Philosophy</span>, <span style=\"background-color:#edebd0;\">Arthur Schopenhauer: The Basis of Morality</span>, <span style=\"background-color:#ebdef0;\">Søren Kierkegaard: Selections from the Writings of Kierkegaard</span>, <span style=\"background-color:#d4efdf;\">Friedrich Wilhelm Nietzsche: Thoughts out of Season, Part I</span>, <span style=\"background-color:#d6eaf8;\">G. W. F. Hegel: The Philosophy of Fine Art, Volume 3 of 4</span>, <span style=\"background-color:#d4e6f1;\">G. W. F. Hegel: The Philosophy of Fine Art, Vol. 2 of 4</span>, <span style=\"background-color:#d0ece7;\">Georg Wilhelm Hegel: Hegel's Lectures on the History of Philosophy: Vol. 2 of 3</span>, <span style=\"background-color:#edebd0;\">Georg Wilhelm Hegel: The History of Philosophy: Volume 3 of 3</span>, <span style=\"background-color:#d0ece7;\">G. W. F. Hegel: The Philosophy of Fine Art, Volume 4 of 4</span>, <span style=\"background-color:#eadbd8;\">Immanuel Kant: Kant's Prolegomena</span>, <span style=\"background-color:#d4e6e1;\">Immanuel Kant: The Critique of Pure Reason</span>, <span style=\"background-color:#edebd0;\">Friedrich Wilhelm Nietzsche: Twilight of the Idols - The Antichrist</span>, <span style=\"background-color:#d6dbdf;\">G. W. F. Hegel: The Philosophy of Fine Art, Vol. 1 of 4</span>, <span style=\"background-color:#f6ddcc;\">Arthur Schopenhauer: On the Fourfold Root of the Principle of Sufficient Reason and On the Will in Nature: Two Essays (revised edition)</span>, <span style=\"background-color:#e5e8e8;\">Immanuel Kant: Kant's Critique of Judgement</span>, <span style=\"background-color:#e2d7d5;\">David Hume: Hume's Political Discourses</span>, <span style=\"background-color:#eadbd8;\">Georg Hegel: The Introduction to Hegel's Philosophy of Fine Arts</span>, <span style=\"background-color:#d4e6e1;\">Friedrich Nietzsche: The Will to Power, Books III and IV</span>, <span style=\"background-color:#d4e6f1;\">Friedrich Wilhelm Nietzsche: On the Future of our Educational Institutions - Homer and Classical Philology</span>, <span style=\"background-color:#d0ece7;\">Immanuel Kant: Fundamental Principles of the Metaphysic of Morals</span>, <span style=\"background-color:#d4e6f1;\">Montaigne, Michel, Sainte-Beuve, Charles-Augustin; Renan, Ernest, Lessing, Gotthold Ephraim, Von Schiller, J.C., Kant, Immanuel, Mazzini, and Giuseppe: Literary and Philosophical Essays</span>, <span style=\"background-color:#d6dbdf;\">Georg Wilhelm Friedrich Hegel: Hegel's Philosophy of Mind</span>, <span style=\"background-color:#d6eaf8;\">John Locke: Second Treatise of Government</span>, <span style=\"background-color:#d0ece7;\">David Hume and L. A. Selby-Bigge: Enquiry Concerning Human Understanding</span>, <span style=\"background-color:#d4e6f1;\">Friedrich Wilhelm Nietzsche: Menschliches, Allzumenschliches</span>, <span style=\"background-color:#d8daef;\">Friedrich Nietzsche: Der Wille zur Macht</span>, <span style=\"background-color:#d4efdf;\">Immanuel Kant: Kant's gesammelte Schriften</span>, <span style=\"background-color:#d4e6e1;\">Johann Gottlieb Fichte: Reden an die deutsche Nation</span>, <span style=\"background-color:#d4e6f1;\">Gottfried Wilhelm Leibniz: Leibnitz' Monadologie</span>, <span style=\"background-color:#d4e6e1;\">Georg Wilhelm Friedrich Hegel: Wissenshaft der Logik, Vol. 2</span>, <span style=\"background-color:#ebdef0;\">Immanuel Kant: Zum ewigen Frieden</span>, <span style=\"background-color:#e2d7d5;\">Immanuel Kant: Kritik der reinen Vernunft (2nd Edition)</span>, <span style=\"background-color:#d8daef;\">Arthur Schopenhauer: Aphorismen zur Lebensweisheit</span>, <span style=\"background-color:#eadbd8;\">Georg Wilhelm Friedrich Hegel: Phänomenologie des Geistes</span>, <span style=\"background-color:#ecf3cf;\">Immanuel Kant: Beobachtungen ? das Gef?des Sch? und Erhabenen</span>, <span style=\"background-color:#d6dbdf;\">Friedrich Wilhelm Nietzsche: Die Geburt der Tragoedie</span>, <span style=\"background-color:#e5e8e8;\">Immanuel Kant: Von der Macht des Gem? by den blo?n Vorsatz seiner krankhaften Gef? Meister zu sein</span>, <span style=\"background-color:#f6ddcc;\">Friedrich Wilhelm Nietzsche: Also Sprach Zarathustra</span>, <span style=\"background-color:#e5e8e8;\">David Hume: Philosophical Works, Vol. 1 of 4</span>, <span style=\"background-color:#ecf3cf;\">Immanuel Kant: Die Religion innerhalb der Grenzen der bloßen Vernunft</span>, <span style=\"background-color:#d8daef;\">Georg Wilhelm Friedrich Hegel: Wissenschaft der Logik, Erster Teil</span>, <span style=\"background-color:#ecf3cf;\">Friedrich Wilhelm Nietzsche: Ecce Homo</span>, <span style=\"background-color:#e2d7d5;\">Immanuel Kant: Tr?e eines Geistersehers, erl?ert by Tr?e der Metaphysik</span></p></small>"
            ],
            "text/plain": [
              "<IPython.core.display.HTML object>"
            ]
          },
          "metadata": {
            "tags": []
          }
        },
        {
          "output_type": "stream",
          "text": [
            "> Ein Beweis für die Existenz Gottes.\n",
            "4 sentences\n"
          ],
          "name": "stdout"
        },
        {
          "output_type": "display_data",
          "data": {
            "text/html": [
              "Ich weiß<br><span style=\"background-color:#e2d7d5;\">nach bloß </span><span style=\"background-color:#d8daef;\">um des Geistes</span><span style=\"background-color:#d4efdf;\"> an sich selbst zu</span>zulreu:<span style=\"background-color:#e2d7d5;\"> und so scheint es,</span><span style=\"background-color:#d4e6f1;\"> als<br>ob eine </span>jed<span style=\"background-color:#d8daef;\">e scheinbare Welt </span><span style=\"background-color:#d4e6f1;\">möglich sein, s</span>ich<span style=\"background-color:#d4e6f1;\"> zu<br>errathen</span><span style=\"background-color:#f6ddcc;\"> scheinen. I</span><span style=\"background-color:#d8daef;\">n diesem Sinne kann </span><span style=\"background-color:#d4efdf;\">niemals anders</span><span style=\"background-color:#e2d7d5;\"><br>aber können n</span><span style=\"background-color:#e2d7d5;\">ur auf den Verstandesgebrauch</span><span style=\"background-color:#d8daef;\"> oder<br>eines </span><span style=\"background-color:#ecf3cf;\">Vermögens zu</span><span style=\"background-color:#ecf3cf;\">rückschaut</span><span style=\"background-color:#d8daef;\">en, welches </span><span style=\"background-color:#ecf3cf;\">       (B 15</span>7-58).<span style=\"background-color:#eadbd8;\"><br>gleichgültige Element</span><span style=\"background-color:#e2d7d5;\">e aller seiner </span>Unm<span style=\"background-color:#d4e6f1;\">ange an si</span><span style=\"background-color:#d4efdf;\">ch selbst<br>(denn da</span>zu<span style=\"background-color:#d4efdf;\"> würden sie </span>bloß<span style=\"background-color:#d4e6e1;\">e Vermittelung ist</span>),<span style=\"background-color:#d4e6e1;\"> nur in<br>einem </span><span style=\"background-color:#d8daef;\">Begriff einer </span><span style=\"background-color:#ecf3cf;\">solchen Person </span><span style=\"background-color:#d4e6e1;\">ist nichts als<br></span><span style=\"background-color:#d8daef;\">Voraussetzung, und </span><span style=\"background-color:#d4e6e1;\">zwar nicht a</span><span style=\"background-color:#e2d7d5;\">n sich selbst,<br>als </span><span style=\"background-color:#ecf3cf;\">das _Gesetz_ </span><span style=\"background-color:#eadbd8;\">einer selbst auf</span><span style=\"background-color:#d8daef;\">hebende und </span><span style=\"background-color:#eadbd8;\">als<br>_Gegenstand_ </span><span style=\"background-color:#d4e6e1;\">des _Geistes_ </span><span style=\"background-color:#d4e6e1;\">des _Begriffs_ und </span>_<span style=\"background-color:#d4e6f1;\">der<br>gegebenen E</span><span style=\"background-color:#d8daef;\">xtreme eines </span><span style=\"background-color:#d8daef;\">Gegenstandes hat</span><span style=\"background-color:#ecf3cf;\">, und sich<br></span><span style=\"background-color:#d4e6f1;\">zu einander in </span><span style=\"background-color:#eadbd8;\">der Tat das _</span><span style=\"background-color:#eadbd8;\">Wissen_ vo</span><span style=\"background-color:#d8daef;\">rzustellen.<br></span><span style=\"background-color:#eadbd8;\">Denn es hat s</span><span style=\"background-color:#d4e6e1;\">eine _Welt</span><span style=\"background-color:#eadbd8;\"> als das _G</span><span style=\"background-color:#ecf3cf;\">anz_ und _</span><span style=\"background-color:#eadbd8;\">Gegenstand_<br></span><span style=\"background-color:#eadbd8;\">eines _Wirklich</span>s<span style=\"background-color:#d4e6e1;\">t_ ist, ist </span>e<span style=\"background-color:#d4e6e1;\">s das _Allgemeine_,</span><span style=\"background-color:#d8daef;\"><br>sondern in seine</span><span style=\"background-color:#ecf3cf;\"> _Einheit_ </span><span style=\"background-color:#d8daef;\">von der Schwäche des<br></span><span style=\"background-color:#d4e6e1;\">Geschlechts, d</span>es<span style=\"background-color:#d4e6e1;\"> sich Äußerlich</span>stefen_ des<span style=\"background-color:#d4e6e1;\"><br>_Untersche</span>u<span style=\"background-color:#d4e6e1;\">tes_ und _</span><span style=\"background-color:#d4e6e1;\">beliebig_ </span><span style=\"background-color:#d8daef;\">als solche als </span>ei<span style=\"background-color:#eadbd8;\">n<br>_Gestalt</span><span style=\"background-color:#eadbd8;\">_ gegen die Form </span><span style=\"background-color:#d4e6e1;\">ist.  Die M</span><span style=\"background-color:#d8daef;\">omente hat</span><span style=\"background-color:#eadbd8;\"><br>hiemit zwar </span>seines expo<span style=\"background-color:#e2d7d5;\">nenden und i</span><span style=\"background-color:#d8daef;\">n ihm selbst ist.<br><br></span>D<span style=\"background-color:#d8daef;\">ieser Reflexion i</span><span style=\"background-color:#d4e6e1;\">st das Andere des</span><span style=\"background-color:#eadbd8;\"> Bewußtseins be</span><span style=\"background-color:#d4e6e1;\">ider<br>sich </span><span style=\"background-color:#d8daef;\">selbst, und das </span><span style=\"background-color:#d8daef;\">Gesetztseyn der S</span><span style=\"background-color:#ebdef0;\">ubstanz<br>de</span><span style=\"background-color:#eadbd8;\">ssen, was das Selbstbewußtsein </span><span style=\"background-color:#eadbd8;\">erscheint als das</span><span style=\"background-color:#d4e6e1;\"><br>an und für sich n</span><span style=\"background-color:#d8daef;\">egative Best</span><span style=\"background-color:#d8daef;\">ehen vorhanden</span>;<span style=\"background-color:#d4e6f1;\"> die<br>Wissenschaft des </span><span style=\"background-color:#d8daef;\">Geistes hat sich </span><span style=\"background-color:#d4efdf;\">für sich selbst<br>au</span><span style=\"background-color:#d4e6e1;\">fgehoben, der </span><span style=\"background-color:#d8daef;\">als das Wahre </span><span style=\"background-color:#d4e6e1;\">in seiner Form</span><span style=\"background-color:#d4e6e1;\"><br>unterschieden von </span><span style=\"background-color:#d8daef;\">so stark, </span><span style=\"background-color:#d4e6e1;\">welche sich als </span>Ideell<span style=\"background-color:#d8daef;\">es<br>ist, und </span><span style=\"background-color:#e2d7d5;\">worauf sich a</span><span style=\"background-color:#d8daef;\">uf sich bezogen, </span><span style=\"background-color:#d4e6f1;\">oder<br>beides </span><span style=\"background-color:#eadbd8;\">in der Form der Allgemeinheit d</span><span style=\"background-color:#d8daef;\">es Seyns,<br></span><span style=\"background-color:#d8daef;\">sich aufhebende G</span><span style=\"background-color:#ecf3cf;\">rillenhaft</span><span style=\"background-color:#d4e6e1;\">igkeit durch<br></span><span style=\"background-color:#d8daef;\">Handlung zu </span><span style=\"background-color:#e2d7d5;\">bestimmen und zu s</span><span style=\"background-color:#d4efdf;\">ein sein m</span>üßt<span style=\"background-color:#d4e6e1;\">e,<br>betrachtet</span><span style=\"background-color:#e2d7d5;\"> sie in der Ver</span>nein<span style=\"background-color:#e2d7d5;\">ung zwar als </span><span style=\"background-color:#d4e6e1;\">ein<br>neues Unter</span>schiedne<span style=\"background-color:#ebdef0;\"> vom göttlichen </span>Gefühlsaug<span style=\"background-color:#d8daef;\">er als<br>in d</span><span style=\"background-color:#d4e6e1;\">ieselbe best</span><span style=\"background-color:#e2d7d5;\">immt werden könnte, </span><span style=\"background-color:#d4e6e1;\">und wenn ihr</span><span style=\"background-color:#d8daef;\">e Gegenwart<br></span><span style=\"background-color:#ecf3cf;\">bestimmt werden. </span>"
            ],
            "text/plain": [
              "<IPython.core.display.HTML object>"
            ]
          },
          "metadata": {
            "tags": []
          }
        },
        {
          "output_type": "display_data",
          "data": {
            "text/html": [
              "<small><p style=\"text-align:right;\">Sources: <span style=\"background-color:#e2d7d5;\">Immanuel Kant: Tr?e eines Geistersehers, erl?ert by Tr?e der Metaphysik</span>, <span style=\"background-color:#d8daef;\">Arthur Schopenhauer: Aphorismen zur Lebensweisheit</span>, <span style=\"background-color:#d4efdf;\">Immanuel Kant: Kant's gesammelte Schriften</span>, <span style=\"background-color:#e2d7d5;\">Immanuel Kant: Kritik der reinen Vernunft (2nd Edition)</span>, <span style=\"background-color:#d4e6f1;\">Friedrich Wilhelm Nietzsche: Menschliches, Allzumenschliches</span>, <span style=\"background-color:#d8daef;\">Friedrich Nietzsche: Der Wille zur Macht</span>, <span style=\"background-color:#d4e6f1;\">Gottfried Wilhelm Leibniz: Leibnitz' Monadologie</span>, <span style=\"background-color:#f6ddcc;\">Immanuel Kant: ?er die Vulkane im Monde</span>, <span style=\"background-color:#ecf3cf;\">Immanuel Kant: Die Religion innerhalb der Grenzen der bloßen Vernunft</span>, <span style=\"background-color:#ecf3cf;\">Friedrich Wilhelm Nietzsche: Ecce Homo</span>, <span style=\"background-color:#eadbd8;\">Georg Wilhelm Friedrich Hegel: Phänomenologie des Geistes</span>, <span style=\"background-color:#d4e6e1;\">Georg Wilhelm Friedrich Hegel: Wissenshaft der Logik, Vol. 2</span>, <span style=\"background-color:#d4e6e1;\">Johann Gottlieb Fichte: Reden an die deutsche Nation</span>, <span style=\"background-color:#d8daef;\">Georg Wilhelm Friedrich Hegel: Wissenschaft der Logik, Erster Teil</span>, <span style=\"background-color:#ebdef0;\">Georg Wilhelm Friedrich Hegel: Rede zum Schuljahresabschluß</span>, <span style=\"background-color:#ecf3cf;\">Immanuel Kant: Beobachtungen ? das Gef?des Sch? und Erhabenen</span>, <span style=\"background-color:#ebdef0;\">Immanuel Kant: Zum ewigen Frieden</span></p></small>"
            ],
            "text/plain": [
              "<IPython.core.display.HTML object>"
            ]
          },
          "metadata": {
            "tags": []
          }
        },
        {
          "output_type": "stream",
          "text": [
            "> Materie und Geist sind von einer Substanz\n",
            "9 sentences\n"
          ],
          "name": "stdout"
        },
        {
          "output_type": "display_data",
          "data": {
            "text/html": [
              "an,<span style=\"background-color:#d4e6f1;\"> eine<br>innere </span><span style=\"background-color:#e2d7d5;\">Bestimmung bez</span><span style=\"background-color:#e2d7d5;\">ieht sich unmittelbar </span><span style=\"background-color:#d8daef;\">selbst die andere</span><span style=\"background-color:#d8daef;\"><br>nicht an ihm selbst </span><span style=\"background-color:#d8daef;\">hat, so ist sie </span><span style=\"background-color:#d4efdf;\">als ein ihr</span><span style=\"background-color:#d4e6e1;\"><br>Gesetztes, </span><span style=\"background-color:#d8daef;\">es ist so n</span><span style=\"background-color:#d8daef;\">och die unmittelbare </span><span style=\"background-color:#eadbd8;\">und das<br>Absolute</span><span style=\"background-color:#d4e6e1;\"> als an und für sich seyende </span><span style=\"background-color:#d4e6e1;\">Welt gegen<br></span><span style=\"background-color:#eadbd8;\">sein _Wesen_, </span><span style=\"background-color:#d8daef;\">das heißt, sie sind </span><span style=\"background-color:#d8daef;\">nur in der </span>Tha<span style=\"background-color:#eadbd8;\">t das<br>_An-sich_ </span><span style=\"background-color:#eadbd8;\">oder der Gegens</span>atz<span style=\"background-color:#eadbd8;\"> _an sich_; d</span><span style=\"background-color:#d4e6e1;\">. h. sie s</span><span style=\"background-color:#d8daef;\">etzt<br>eine </span><span style=\"background-color:#d4e6e1;\">_einzelne </span><span style=\"background-color:#d4e6e1;\">Quantität_ </span><span style=\"background-color:#e2d7d5;\">der reinen Verstandesbegriffe<br></span><span style=\"background-color:#e2d7d5;\">angeschaut werden können, </span><span style=\"background-color:#d8daef;\">ohne dadurch </span><span style=\"background-color:#e2d7d5;\">zur Regel dient,</span><span style=\"background-color:#d4e6e1;\"><br>wie alle </span><span style=\"background-color:#e2d7d5;\">bloßen reinen Begriff</span><span style=\"background-color:#edebd0;\">en keinen Gegenstand<br></span><span style=\"background-color:#d8daef;\">desselben zu be</span><span style=\"background-color:#d8daef;\">stimmen, wor</span><span style=\"background-color:#d4e6e1;\">aus sich die </span>Regel<span style=\"background-color:#d8daef;\"><br>abhängig </span><span style=\"background-color:#e2d7d5;\">zu bestimmen mög</span><span style=\"background-color:#ecf3cf;\">en, und nach </span><span style=\"background-color:#ecf3cf;\">demselben<br></span>empor<span style=\"background-color:#d4efdf;\">auf in der </span><span style=\"background-color:#ecf3cf;\">Vereinigung derselben</span><span style=\"background-color:#d4efdf;\">, mithin als<br></span><span style=\"background-color:#e2d7d5;\">vorausgesetzt werden müsse</span><span style=\"background-color:#d4efdf;\">n, oder nicht, d</span>. "
            ],
            "text/plain": [
              "<IPython.core.display.HTML object>"
            ]
          },
          "metadata": {
            "tags": []
          }
        },
        {
          "output_type": "display_data",
          "data": {
            "text/html": [
              "<small><p style=\"text-align:right;\">Sources: <span style=\"background-color:#d4e6f1;\">Gottfried Wilhelm Leibniz: Leibnitz' Monadologie</span>, <span style=\"background-color:#e2d7d5;\">Immanuel Kant: Kritik der reinen Vernunft (2nd Edition)</span>, <span style=\"background-color:#d8daef;\">Georg Wilhelm Friedrich Hegel: Wissenschaft der Logik, Erster Teil</span>, <span style=\"background-color:#d4efdf;\">Immanuel Kant: Kant's gesammelte Schriften</span>, <span style=\"background-color:#d4e6e1;\">Georg Wilhelm Friedrich Hegel: Wissenshaft der Logik, Vol. 2</span>, <span style=\"background-color:#eadbd8;\">Georg Wilhelm Friedrich Hegel: Phänomenologie des Geistes</span>, <span style=\"background-color:#d8daef;\">Friedrich Nietzsche: Der Wille zur Macht</span>, <span style=\"background-color:#d4e6e1;\">Johann Gottlieb Fichte: Reden an die deutsche Nation</span>, <span style=\"background-color:#edebd0;\">Immanuel Kant: Kritik der reinen Vernunft (1st Edition)</span>, <span style=\"background-color:#ecf3cf;\">Immanuel Kant: Die Religion innerhalb der Grenzen der bloßen Vernunft</span></p></small>"
            ],
            "text/plain": [
              "<IPython.core.display.HTML object>"
            ]
          },
          "metadata": {
            "tags": []
          }
        },
        {
          "output_type": "stream",
          "text": [
            "> Das Ding an sich ist dem Menschen nicht zugänglich. \n",
            "6 sentences\n"
          ],
          "name": "stdout"
        },
        {
          "output_type": "display_data",
          "data": {
            "text/html": [
              "<span style=\"background-color:#ecf3cf;\">Dieses<br>ist d</span><span style=\"background-color:#d4e6e1;\">aher die Substanz </span><span style=\"background-color:#d8daef;\">des Unendlichen zu </span><span style=\"background-color:#e2d7d5;\">denken, und in</span> dies<span style=\"background-color:#d4e6e1;\">er<br>Allgemeinheit i</span><span style=\"background-color:#d4e6e1;\">st selbst die gesetzte</span><span style=\"background-color:#d8daef;\"> Unmittelbarkeit<br>d</span><span style=\"background-color:#d4e6e1;\">ie Vermittelung i</span><span style=\"background-color:#e2d7d5;\">n sich selbst ein </span><span style=\"background-color:#d8daef;\">Nichtseyn in sich<br></span><span style=\"background-color:#d8daef;\">reflektirt ist.  Diese </span><span style=\"background-color:#d8daef;\">Taten ist </span><span style=\"background-color:#eadbd8;\">daher zuerst d</span><span style=\"background-color:#d8daef;\">as<br>Ansichseyn a</span><span style=\"background-color:#eadbd8;\">ls das wesentliche Moment</span><span style=\"background-color:#d8daef;\"> des<br>Fürsichseyns, das </span><span style=\"background-color:#d4e6e1;\">als die absolute </span><span style=\"background-color:#eadbd8;\">Substanz seine</span><span style=\"background-color:#d8daef;\"><br>Bestimmtheit aus</span>ma<span style=\"background-color:#eadbd8;\">chte.  Aber die</span><span style=\"background-color:#d8daef;\"> Realität, die<br>e</span><span style=\"background-color:#ecf3cf;\">s in seine </span><span style=\"background-color:#eadbd8;\">Gestalt ausmachen </span><span style=\"background-color:#eadbd8;\">würde, sondern als</span><span style=\"background-color:#d4e6e1;\"><br>Extreme in sich </span><span style=\"background-color:#d8daef;\">selbst, ist das</span><span style=\"background-color:#eadbd8;\"> absolute Wesen<br></span><span style=\"background-color:#ecf3cf;\">ausgestoßen, und </span><span style=\"background-color:#d4e6e1;\">das Verhältniß der S</span><span style=\"background-color:#d4e6f1;\">eiten des Scheins</span><span style=\"background-color:#e2d7d5;\"><br>selbst nur als </span><span style=\"background-color:#eadbd8;\">ein Anderes als e</span><span style=\"background-color:#d4e6e1;\">ine _Einzelnheit_,</span><span style=\"background-color:#d8daef;\"><br>welche es an </span><span style=\"background-color:#d4e6e1;\">und für sich seyenden </span><span style=\"background-color:#d4e6e1;\">Begriff<br>ist _</span><span style=\"background-color:#eadbd8;\">seine eigne _Ge</span>dank<span style=\"background-color:#eadbd8;\">e_ in ihrer </span><span style=\"background-color:#d0ece7;\">_Besonnenheit_</span><br>haben. "
            ],
            "text/plain": [
              "<IPython.core.display.HTML object>"
            ]
          },
          "metadata": {
            "tags": []
          }
        },
        {
          "output_type": "display_data",
          "data": {
            "text/html": [
              "<small><p style=\"text-align:right;\">Sources: <span style=\"background-color:#ecf3cf;\">Immanuel Kant: Beobachtungen ? das Gef?des Sch? und Erhabenen</span>, <span style=\"background-color:#d4e6e1;\">Georg Wilhelm Friedrich Hegel: Wissenshaft der Logik, Vol. 2</span>, <span style=\"background-color:#d8daef;\">Georg Wilhelm Friedrich Hegel: Wissenschaft der Logik, Erster Teil</span>, <span style=\"background-color:#e2d7d5;\">Immanuel Kant: Tr?e eines Geistersehers, erl?ert by Tr?e der Metaphysik</span>, <span style=\"background-color:#e2d7d5;\">Immanuel Kant: Kritik der reinen Vernunft (2nd Edition)</span>, <span style=\"background-color:#d8daef;\">Arthur Schopenhauer: Aphorismen zur Lebensweisheit</span>, <span style=\"background-color:#eadbd8;\">Georg Wilhelm Friedrich Hegel: Phänomenologie des Geistes</span>, <span style=\"background-color:#ecf3cf;\">Immanuel Kant: Die Religion innerhalb der Grenzen der bloßen Vernunft</span>, <span style=\"background-color:#d4e6f1;\">Gottfried Wilhelm Leibniz: Leibnitz' Monadologie</span>, <span style=\"background-color:#d0ece7;\">G. W. F. Hegel: The Philosophy of Fine Art, Volume 4 of 4</span></p></small>"
            ],
            "text/plain": [
              "<IPython.core.display.HTML object>"
            ]
          },
          "metadata": {
            "tags": []
          }
        },
        {
          "output_type": "stream",
          "text": [
            "> Human life as the expression of freedom.\n",
            "5 sentences\n"
          ],
          "name": "stdout"
        },
        {
          "output_type": "display_data",
          "data": {
            "text/html": [
              "<span style=\"background-color:#d0ece7;\">The material is </span><span style=\"background-color:#fae5d3;\">also the<br>rea</span><span style=\"background-color:#d6eaf8;\">ction in its entire</span><span style=\"background-color:#d0ece7;\"> content.<br><br>(</span>1.)<span style=\"background-color:#d0ece7;\"> The source of that</span><span style=\"background-color:#fdebd0;\"> method of proof</span><span style=\"background-color:#fae5d3;\">, the sensation</span><span style=\"background-color:#d4e6e1;\">,<br>the anti</span><span style=\"background-color:#d4efdf;\">thesis, our </span><span style=\"background-color:#fdebd0;\">approbation, tha</span><span style=\"background-color:#ebdef0;\">t is to<br>say, wh</span><span style=\"background-color:#edebd0;\">ich are called </span><span style=\"background-color:#edebd0;\">antecedent to the </span><span style=\"background-color:#f6ddcc;\">sensible<br>world </span><span style=\"background-color:#d6dbdf;\">by means of the thin</span>g<span style=\"background-color:#fdebd0;\">s (the principle of sufficient</span><span style=\"background-color:#d4efdf;\"><br>reason, which is </span>als<span style=\"background-color:#d4efdf;\">o a practical r</span><span style=\"background-color:#d6dbdf;\">eflection of<br>the </span><span style=\"background-color:#ebdef0;\">human will)</span><span style=\"background-color:#d0ece7;\">, which is inseparable from th</span><span style=\"background-color:#d8daef;\">e<br>problem of the </span><span style=\"background-color:#fdebd0;\">understanding, it is a</span><span style=\"background-color:#edebd0;\"> matter of<br>indifference whether </span><span style=\"background-color:#d4e6f1;\">the young men </span><span style=\"background-color:#e5e8e8;\">began to be<br></span><span style=\"background-color:#d6dbdf;\">able to assert itself a</span><span style=\"background-color:#fae5d3;\">s ideal and u</span><span style=\"background-color:#edebd0;\">niversal,<br>and in</span><span style=\"background-color:#edebd0;\"> the form of the s</span><span style=\"background-color:#fae5d3;\">ynthesis of the world</span><span style=\"background-color:#ebdef0;\">, that<br>is to say, </span><span style=\"background-color:#f6ddcc;\">by the senses </span><span style=\"background-color:#d6eaf8;\">have a particular<br></span><span style=\"background-color:#d6dbdf;\">  proposition, </span><span style=\"background-color:#d6dbdf;\">and the ideas of pu</span><span style=\"background-color:#d4efdf;\">re reason can be</span><br><span style=\"background-color:#d6dbdf;\">  discover</span><span style=\"background-color:#edebd0;\">ed in the abstract </span><span style=\"background-color:#d4e6f1;\">and separate from it</span><span style=\"background-color:#d6dbdf;\">.<br><br>But that is </span><span style=\"background-color:#d4e6f1;\">a moral philosophy </span><span style=\"background-color:#d0ece7;\">in the world, which is the</span><span style=\"background-color:#d6eaf8;\"><br>intelligence of the </span><span style=\"background-color:#f6ddcc;\">law of causality is </span><span style=\"background-color:#d4e6f1;\">distinguished from<br>the </span><span style=\"background-color:#d4e6e1;\">former is the o</span><span style=\"background-color:#d4e6f1;\">bject of fin</span><span style=\"background-color:#d0ece7;\">itude and su</span>bsta<span style=\"background-color:#d6dbdf;\">nce.<br>Objects </span><span style=\"background-color:#e5e8e8;\">therefore can be cogni</span><span style=\"background-color:#d4e6e1;\">zed à priori. Thus<br></span><span style=\"background-color:#d0ece7;\">with regard to the origin</span><span style=\"background-color:#fdebd0;\">al forces of nature<br></span><span style=\"background-color:#fdebd0;\">      the i</span><span style=\"background-color:#edebd0;\">magination, p</span>la<span style=\"background-color:#e5e8e8;\">nt.<br><br>     M</span>an<span style=\"background-color:#ebdef0;\"> and mountains </span><span style=\"background-color:#edebd0;\">his brain </span><span style=\"background-color:#edebd0;\">resembling the </span><span style=\"background-color:#e5e8e8;\">necessary<br>    </span><span style=\"background-color:#d4efdf;\">      any </span><span style=\"background-color:#d6eaf8;\">purpose of an</span><span style=\"background-color:#e5e8e8;\">y examples in </span><span style=\"background-color:#ebdef0;\">my life, tha</span><span style=\"background-color:#edebd0;\">t is to say,<br></span><span style=\"background-color:#d0ece7;\">          assuming the </span><span style=\"background-color:#fdebd0;\">progress of the se</span><span style=\"background-color:#d0ece7;\">cond triad is </span><span style=\"background-color:#fae5d3;\">under the<br>  </span><span style=\"background-color:#d8daef;\">                                                                </span><span style=\"background-color:#eadbd8;\">und Dasein f</span>rei<span style=\"background-color:#ecf3cf;\"><br>geblieben. D</span><span style=\"background-color:#d8daef;\">er tragische M</span><span style=\"background-color:#d8daef;\">oral ist gerade </span><span style=\"background-color:#e2d7d5;\">in diesem<br>  </span>Gebieteweilke<span style=\"background-color:#d8daef;\">satz zum T</span>eil<span style=\"background-color:#d8daef;\"> verkennen, daß</span> <span style=\"background-color:#d4efdf;\">er<br>     si</span><span style=\"background-color:#d8daef;\">e meinen, </span><span style=\"background-color:#d4e6f1;\">als ob sie ein </span><span style=\"background-color:#ecf3cf;\">allgemeines </span><span style=\"background-color:#ecf3cf;\">    (B 222</span>-23).<br>f<span style=\"background-color:#f6ddcc;\">est gleich </span><span style=\"background-color:#d4e6e1;\">auf den Gesch</span><span style=\"background-color:#d4efdf;\">ichtlichen </span><span style=\"background-color:#fae5d3;\">zu moralischen</span><br>W<span style=\"background-color:#d4e6e1;\">erte, welche</span><span style=\"background-color:#e2d7d5;\"> den Sinnen be</span><span style=\"background-color:#d4efdf;\">ruht also </span><span style=\"background-color:#d4e6f1;\">noch so kleine<br></span><span style=\"background-color:#d4e6e1;\">Zeit hätte</span>. "
            ],
            "text/plain": [
              "<IPython.core.display.HTML object>"
            ]
          },
          "metadata": {
            "tags": []
          }
        },
        {
          "output_type": "display_data",
          "data": {
            "text/html": [
              "<small><p style=\"text-align:right;\">Sources: <span style=\"background-color:#d0ece7;\">Arthur Schopenhauer: The World as Will and Idea (Vol. 2 of 3)</span>, <span style=\"background-color:#fae5d3;\">William Wallace and G. W. F. Hegel: Prolegomena to the Study of Hegel's Philosophy</span>, <span style=\"background-color:#d6eaf8;\">G. W. F. Hegel: The Philosophy of Fine Art, Volume 3 of 4</span>, <span style=\"background-color:#d0ece7;\">G. W. F. Hegel: The Philosophy of Fine Art, Volume 4 of 4</span>, <span style=\"background-color:#fdebd0;\">Arthur Schopenhauer: The World as Will and Idea (Vol. 1 of 3)</span>, <span style=\"background-color:#d4e6e1;\">Friedrich Nietzsche: The Will to Power, Books III and IV</span>, <span style=\"background-color:#d4efdf;\">G. W. Leibniz: Theodicy</span>, <span style=\"background-color:#fdebd0;\">David Hume: Philosophical Works, Vol. 2 of 4</span>, <span style=\"background-color:#ebdef0;\">Søren Kierkegaard: Selections from the Writings of Kierkegaard</span>, <span style=\"background-color:#edebd0;\">Georg Wilhelm Hegel: The History of Philosophy: Volume 3 of 3</span>, <span style=\"background-color:#edebd0;\">Arthur Schopenhauer: The Basis of Morality</span>, <span style=\"background-color:#f6ddcc;\">G. W. F. Hegel: The Logic of Hegel</span>, <span style=\"background-color:#d6dbdf;\">G. W. F. Hegel: The Philosophy of Fine Art, Vol. 1 of 4</span>, <span style=\"background-color:#d4efdf;\">Arthur Schopenhauer: The World as Will and Idea (Vol. 3 of 3)</span>, <span style=\"background-color:#d4efdf;\">Immanuel Kant: The Critique of Practical Reason</span>, <span style=\"background-color:#ebdef0;\">Friedrich Wilhelm Nietzsche: Human, All-Too-Human, Part II</span>, <span style=\"background-color:#d8daef;\">Friedrich Nietzsche: The Will to Power, Books I and II</span>, <span style=\"background-color:#edebd0;\">Friedrich Wilhelm Nietzsche: Twilight of the Idols - The Antichrist</span>, <span style=\"background-color:#d4e6f1;\">Friedrich Wilhelm Nietzsche: On the Future of our Educational Institutions - Homer and Classical Philology</span>, <span style=\"background-color:#e5e8e8;\">David Hume: Philosophical Works, Vol. 1 of 4</span>, <span style=\"background-color:#d6dbdf;\">Georg Wilhelm Friedrich Hegel: Hegel's Philosophy of Mind</span>, <span style=\"background-color:#d6dbdf;\">David Hume: A Treatise of Human Nature, Vols. 1 & 2</span>, <span style=\"background-color:#d4e6f1;\">G. W. F. Hegel: The Philosophy of Fine Art, Vol. 2 of 4</span>, <span style=\"background-color:#d4e6f1;\">Montaigne, Michel, Sainte-Beuve, Charles-Augustin; Renan, Ernest, Lessing, Gotthold Ephraim, Von Schiller, J.C., Kant, Immanuel, Mazzini, and Giuseppe: Literary and Philosophical Essays</span>, <span style=\"background-color:#d0ece7;\">Georg Wilhelm Hegel: Hegel's Lectures on the History of Philosophy: Vol. 2 of 3</span>, <span style=\"background-color:#f6ddcc;\">Arthur Schopenhauer: On the Fourfold Root of the Principle of Sufficient Reason and On the Will in Nature: Two Essays (revised edition)</span>, <span style=\"background-color:#d4e6e1;\">Immanuel Kant: The Critique of Pure Reason</span>, <span style=\"background-color:#d0ece7;\">Immanuel Kant: Fundamental Principles of the Metaphysic of Morals</span>, <span style=\"background-color:#e5e8e8;\">Immanuel Kant: Kant's Critique of Judgement</span>, <span style=\"background-color:#d0ece7;\">David Hume and L. A. Selby-Bigge: Enquiry Concerning Human Understanding</span>, <span style=\"background-color:#ebdef0;\">René Descartes: A Discourse on Method</span>, <span style=\"background-color:#fae5d3;\">Immanuel Kant: Perpetual Peace</span>, <span style=\"background-color:#d8daef;\">Friedrich Nietzsche: Der Wille zur Macht</span>, <span style=\"background-color:#eadbd8;\">Georg Wilhelm Friedrich Hegel: Phänomenologie des Geistes</span>, <span style=\"background-color:#ecf3cf;\">Immanuel Kant: Die Religion innerhalb der Grenzen der bloßen Vernunft</span>, <span style=\"background-color:#e2d7d5;\">Immanuel Kant: Tr?e eines Geistersehers, erl?ert by Tr?e der Metaphysik</span>, <span style=\"background-color:#d4efdf;\">Immanuel Kant: Kant's gesammelte Schriften</span>, <span style=\"background-color:#d8daef;\">Arthur Schopenhauer: Aphorismen zur Lebensweisheit</span>, <span style=\"background-color:#d4e6f1;\">Friedrich Wilhelm Nietzsche: Menschliches, Allzumenschliches</span>, <span style=\"background-color:#f6ddcc;\">Friedrich Wilhelm Nietzsche: Also Sprach Zarathustra</span>, <span style=\"background-color:#d4e6e1;\">Johann Gottlieb Fichte: Reden an die deutsche Nation</span>, <span style=\"background-color:#fae5d3;\">Friedrick Wilhelm Nietzsche: Jenseits von Gut und Boese</span>, <span style=\"background-color:#d4e6f1;\">Gottfried Wilhelm Leibniz: Leibnitz' Monadologie</span></p></small>"
            ],
            "text/plain": [
              "<IPython.core.display.HTML object>"
            ]
          },
          "metadata": {
            "tags": []
          }
        },
        {
          "output_type": "stream",
          "text": [
            "> "
          ],
          "name": "stdout"
        },
        {
          "output_type": "error",
          "ename": "KeyboardInterrupt",
          "evalue": "ignored",
          "traceback": [
            "\u001b[0;31m---------------------------------------------------------------------------\u001b[0m",
            "\u001b[0;31mKeyboardInterrupt\u001b[0m                         Traceback (most recent call last)",
            "\u001b[0;32m/usr/local/lib/python3.6/dist-packages/ipykernel/kernelbase.py\u001b[0m in \u001b[0;36m_input_request\u001b[0;34m(self, prompt, ident, parent, password)\u001b[0m\n\u001b[1;32m    729\u001b[0m             \u001b[0;32mtry\u001b[0m\u001b[0;34m:\u001b[0m\u001b[0;34m\u001b[0m\u001b[0;34m\u001b[0m\u001b[0m\n\u001b[0;32m--> 730\u001b[0;31m                 \u001b[0mident\u001b[0m\u001b[0;34m,\u001b[0m \u001b[0mreply\u001b[0m \u001b[0;34m=\u001b[0m \u001b[0mself\u001b[0m\u001b[0;34m.\u001b[0m\u001b[0msession\u001b[0m\u001b[0;34m.\u001b[0m\u001b[0mrecv\u001b[0m\u001b[0;34m(\u001b[0m\u001b[0mself\u001b[0m\u001b[0;34m.\u001b[0m\u001b[0mstdin_socket\u001b[0m\u001b[0;34m,\u001b[0m \u001b[0;36m0\u001b[0m\u001b[0;34m)\u001b[0m\u001b[0;34m\u001b[0m\u001b[0;34m\u001b[0m\u001b[0m\n\u001b[0m\u001b[1;32m    731\u001b[0m             \u001b[0;32mexcept\u001b[0m \u001b[0mException\u001b[0m\u001b[0;34m:\u001b[0m\u001b[0;34m\u001b[0m\u001b[0;34m\u001b[0m\u001b[0m\n",
            "\u001b[0;32m/usr/local/lib/python3.6/dist-packages/jupyter_client/session.py\u001b[0m in \u001b[0;36mrecv\u001b[0;34m(self, socket, mode, content, copy)\u001b[0m\n\u001b[1;32m    802\u001b[0m         \u001b[0;32mtry\u001b[0m\u001b[0;34m:\u001b[0m\u001b[0;34m\u001b[0m\u001b[0;34m\u001b[0m\u001b[0m\n\u001b[0;32m--> 803\u001b[0;31m             \u001b[0mmsg_list\u001b[0m \u001b[0;34m=\u001b[0m \u001b[0msocket\u001b[0m\u001b[0;34m.\u001b[0m\u001b[0mrecv_multipart\u001b[0m\u001b[0;34m(\u001b[0m\u001b[0mmode\u001b[0m\u001b[0;34m,\u001b[0m \u001b[0mcopy\u001b[0m\u001b[0;34m=\u001b[0m\u001b[0mcopy\u001b[0m\u001b[0;34m)\u001b[0m\u001b[0;34m\u001b[0m\u001b[0;34m\u001b[0m\u001b[0m\n\u001b[0m\u001b[1;32m    804\u001b[0m         \u001b[0;32mexcept\u001b[0m \u001b[0mzmq\u001b[0m\u001b[0;34m.\u001b[0m\u001b[0mZMQError\u001b[0m \u001b[0;32mas\u001b[0m \u001b[0me\u001b[0m\u001b[0;34m:\u001b[0m\u001b[0;34m\u001b[0m\u001b[0;34m\u001b[0m\u001b[0m\n",
            "\u001b[0;32m/usr/local/lib/python3.6/dist-packages/zmq/sugar/socket.py\u001b[0m in \u001b[0;36mrecv_multipart\u001b[0;34m(self, flags, copy, track)\u001b[0m\n\u001b[1;32m    465\u001b[0m         \"\"\"\n\u001b[0;32m--> 466\u001b[0;31m         \u001b[0mparts\u001b[0m \u001b[0;34m=\u001b[0m \u001b[0;34m[\u001b[0m\u001b[0mself\u001b[0m\u001b[0;34m.\u001b[0m\u001b[0mrecv\u001b[0m\u001b[0;34m(\u001b[0m\u001b[0mflags\u001b[0m\u001b[0;34m,\u001b[0m \u001b[0mcopy\u001b[0m\u001b[0;34m=\u001b[0m\u001b[0mcopy\u001b[0m\u001b[0;34m,\u001b[0m \u001b[0mtrack\u001b[0m\u001b[0;34m=\u001b[0m\u001b[0mtrack\u001b[0m\u001b[0;34m)\u001b[0m\u001b[0;34m]\u001b[0m\u001b[0;34m\u001b[0m\u001b[0;34m\u001b[0m\u001b[0m\n\u001b[0m\u001b[1;32m    467\u001b[0m         \u001b[0;31m# have first part already, only loop while more to receive\u001b[0m\u001b[0;34m\u001b[0m\u001b[0;34m\u001b[0m\u001b[0;34m\u001b[0m\u001b[0m\n",
            "\u001b[0;32mzmq/backend/cython/socket.pyx\u001b[0m in \u001b[0;36mzmq.backend.cython.socket.Socket.recv\u001b[0;34m()\u001b[0m\n",
            "\u001b[0;32mzmq/backend/cython/socket.pyx\u001b[0m in \u001b[0;36mzmq.backend.cython.socket.Socket.recv\u001b[0;34m()\u001b[0m\n",
            "\u001b[0;32mzmq/backend/cython/socket.pyx\u001b[0m in \u001b[0;36mzmq.backend.cython.socket._recv_copy\u001b[0;34m()\u001b[0m\n",
            "\u001b[0;32m/usr/local/lib/python3.6/dist-packages/zmq/backend/cython/checkrc.pxd\u001b[0m in \u001b[0;36mzmq.backend.cython.checkrc._check_rc\u001b[0;34m()\u001b[0m\n",
            "\u001b[0;31mKeyboardInterrupt\u001b[0m: ",
            "\nDuring handling of the above exception, another exception occurred:\n",
            "\u001b[0;31mKeyboardInterrupt\u001b[0m                         Traceback (most recent call last)",
            "\u001b[0;32m<ipython-input-31-9995c3b6bba7>\u001b[0m in \u001b[0;36m<module>\u001b[0;34m()\u001b[0m\n\u001b[0;32m----> 1\u001b[0;31m \u001b[0mdoDialog\u001b[0m\u001b[0;34m(\u001b[0m\u001b[0;34m)\u001b[0m\u001b[0;34m\u001b[0m\u001b[0;34m\u001b[0m\u001b[0m\n\u001b[0m",
            "\u001b[0;32m<ipython-input-30-1da763310d43>\u001b[0m in \u001b[0;36mdoDialog\u001b[0;34m()\u001b[0m\n\u001b[1;32m     22\u001b[0m     \u001b[0;32mwhile\u001b[0m \u001b[0;32mnot\u001b[0m \u001b[0mbye\u001b[0m\u001b[0;34m:\u001b[0m\u001b[0;34m\u001b[0m\u001b[0;34m\u001b[0m\u001b[0m\n\u001b[1;32m     23\u001b[0m         \u001b[0mprint\u001b[0m\u001b[0;34m(\u001b[0m\u001b[0;34m\"> \"\u001b[0m\u001b[0;34m,\u001b[0m \u001b[0mend\u001b[0m\u001b[0;34m=\u001b[0m\u001b[0;34m\"\"\u001b[0m\u001b[0;34m)\u001b[0m\u001b[0;34m\u001b[0m\u001b[0;34m\u001b[0m\u001b[0m\n\u001b[0;32m---> 24\u001b[0;31m         \u001b[0mprompt\u001b[0m \u001b[0;34m=\u001b[0m \u001b[0minput\u001b[0m\u001b[0;34m(\u001b[0m\u001b[0;34m)\u001b[0m\u001b[0;34m\u001b[0m\u001b[0;34m\u001b[0m\u001b[0m\n\u001b[0m\u001b[1;32m     25\u001b[0m         \u001b[0;32mif\u001b[0m \u001b[0mprompt\u001b[0m \u001b[0;34m==\u001b[0m \u001b[0;34m'bye'\u001b[0m\u001b[0;34m:\u001b[0m\u001b[0;34m\u001b[0m\u001b[0;34m\u001b[0m\u001b[0m\n\u001b[1;32m     26\u001b[0m             \u001b[0mbye\u001b[0m \u001b[0;34m=\u001b[0m \u001b[0;32mTrue\u001b[0m\u001b[0;34m\u001b[0m\u001b[0;34m\u001b[0m\u001b[0m\n",
            "\u001b[0;32m/usr/local/lib/python3.6/dist-packages/ipykernel/kernelbase.py\u001b[0m in \u001b[0;36mraw_input\u001b[0;34m(self, prompt)\u001b[0m\n\u001b[1;32m    703\u001b[0m             \u001b[0mself\u001b[0m\u001b[0;34m.\u001b[0m\u001b[0m_parent_ident\u001b[0m\u001b[0;34m,\u001b[0m\u001b[0;34m\u001b[0m\u001b[0;34m\u001b[0m\u001b[0m\n\u001b[1;32m    704\u001b[0m             \u001b[0mself\u001b[0m\u001b[0;34m.\u001b[0m\u001b[0m_parent_header\u001b[0m\u001b[0;34m,\u001b[0m\u001b[0;34m\u001b[0m\u001b[0;34m\u001b[0m\u001b[0m\n\u001b[0;32m--> 705\u001b[0;31m             \u001b[0mpassword\u001b[0m\u001b[0;34m=\u001b[0m\u001b[0;32mFalse\u001b[0m\u001b[0;34m,\u001b[0m\u001b[0;34m\u001b[0m\u001b[0;34m\u001b[0m\u001b[0m\n\u001b[0m\u001b[1;32m    706\u001b[0m         )\n\u001b[1;32m    707\u001b[0m \u001b[0;34m\u001b[0m\u001b[0m\n",
            "\u001b[0;32m/usr/local/lib/python3.6/dist-packages/ipykernel/kernelbase.py\u001b[0m in \u001b[0;36m_input_request\u001b[0;34m(self, prompt, ident, parent, password)\u001b[0m\n\u001b[1;32m    733\u001b[0m             \u001b[0;32mexcept\u001b[0m \u001b[0mKeyboardInterrupt\u001b[0m\u001b[0;34m:\u001b[0m\u001b[0;34m\u001b[0m\u001b[0;34m\u001b[0m\u001b[0m\n\u001b[1;32m    734\u001b[0m                 \u001b[0;31m# re-raise KeyboardInterrupt, to truncate traceback\u001b[0m\u001b[0;34m\u001b[0m\u001b[0;34m\u001b[0m\u001b[0;34m\u001b[0m\u001b[0m\n\u001b[0;32m--> 735\u001b[0;31m                 \u001b[0;32mraise\u001b[0m \u001b[0mKeyboardInterrupt\u001b[0m\u001b[0;34m\u001b[0m\u001b[0;34m\u001b[0m\u001b[0m\n\u001b[0m\u001b[1;32m    736\u001b[0m             \u001b[0;32melse\u001b[0m\u001b[0;34m:\u001b[0m\u001b[0;34m\u001b[0m\u001b[0;34m\u001b[0m\u001b[0m\n\u001b[1;32m    737\u001b[0m                 \u001b[0;32mbreak\u001b[0m\u001b[0;34m\u001b[0m\u001b[0;34m\u001b[0m\u001b[0m\n",
            "\u001b[0;31mKeyboardInterrupt\u001b[0m: "
          ]
        }
      ]
    },
    {
      "cell_type": "code",
      "metadata": {
        "id": "eON9sYdz_1lh"
      },
      "source": [
        ""
      ],
      "execution_count": null,
      "outputs": []
    }
  ]
}